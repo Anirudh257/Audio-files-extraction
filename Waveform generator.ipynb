{
 "cells": [
  {
   "cell_type": "code",
   "execution_count": 1,
   "metadata": {},
   "outputs": [],
   "source": [
    "import sys\n",
    "from pylab import *\n",
    "import wave\n",
    "import glob\n",
    "import os\n",
    "#import librosa\n"
   ]
  },
  {
   "cell_type": "markdown",
   "metadata": {},
   "source": [
    "**readframes(n)**: reads and return at most n frames of audio, as a string of bytes\n",
    "\n",
    "**fromstring**: new 1D array initialized from text in string\n",
    "\n",
    "**getframerate()**: returns the sampling frequency\n",
    "\n",
    " "
   ]
  },
  {
   "cell_type": "markdown",
   "metadata": {},
   "source": [
    "# Convert wav files to images and store them"
   ]
  },
  {
   "cell_type": "code",
   "execution_count": 2,
   "metadata": {},
   "outputs": [],
   "source": [
    "def show_wave_n_spec(speech):\n",
    "    spf = wave.open(speech,'r')\n",
    "    sound_info = spf.readframes(-1)\n",
    "    sound_info = fromstring(sound_info,'Int16')\n",
    "    \n",
    "    f = spf.getframerate()\n",
    "    \n",
    "    subplot(211)\n",
    "    plot?\n",
    "    plot(sound_info)\n",
    "    \n",
    "    filename = speech.split('.')[0]\n",
    "    \n",
    "    savefig(filename + \".png\")\n",
    "    show()\n",
    "    spf.close()\n",
    "\n",
    "    "
   ]
  },
  {
   "cell_type": "markdown",
   "metadata": {},
   "source": [
    "# Program to convert wavefiles to images for a smaller dataset"
   ]
  },
  {
   "cell_type": "code",
   "execution_count": null,
   "metadata": {},
   "outputs": [],
   "source": [
    "!pwd"
   ]
  },
  {
   "cell_type": "code",
   "execution_count": null,
   "metadata": {},
   "outputs": [],
   "source": [
    "files = []"
   ]
  },
  {
   "cell_type": "code",
   "execution_count": null,
   "metadata": {},
   "outputs": [],
   "source": [
    "for filename in glob.glob(os.path.join('/home/anirudh/audio/',\"*.wav\")):\n",
    "    print(filename)\n",
    "    #show_wave_n_spec(filename)\n",
    "    files.append(filename)"
   ]
  },
  {
   "cell_type": "code",
   "execution_count": null,
   "metadata": {},
   "outputs": [],
   "source": [
    "files"
   ]
  },
  {
   "cell_type": "code",
   "execution_count": null,
   "metadata": {
    "scrolled": false
   },
   "outputs": [],
   "source": [
    "for file in files:\n",
    "    print(file)\n",
    "    show_wave_n_spec(file)"
   ]
  },
  {
   "cell_type": "code",
   "execution_count": null,
   "metadata": {},
   "outputs": [],
   "source": [
    "del(files[files.index('/home/anirudh/audio/103074-7-3-2.wav')])"
   ]
  },
  {
   "cell_type": "code",
   "execution_count": null,
   "metadata": {},
   "outputs": [],
   "source": [
    "import inspect"
   ]
  },
  {
   "cell_type": "code",
   "execution_count": null,
   "metadata": {
    "scrolled": false
   },
   "outputs": [],
   "source": [
    "for file in files:\n",
    "    print(file)\n",
    "    show_wave_n_spec(file)"
   ]
  },
  {
   "cell_type": "code",
   "execution_count": null,
   "metadata": {},
   "outputs": [],
   "source": [
    "pathname = str(os.path.dirname(os.path.abspath(inspect.getfile(inspect.currentframe())))) # script directory"
   ]
  },
  {
   "cell_type": "code",
   "execution_count": null,
   "metadata": {},
   "outputs": [],
   "source": [
    "files = [f for f in os.listdir('.') if os.path.isfile(f)]\n",
    "files"
   ]
  },
  {
   "cell_type": "markdown",
   "metadata": {},
   "source": [
    "# We have prepared a dataset for our positive examples, i.e. the drilling images"
   ]
  },
  {
   "cell_type": "code",
   "execution_count": null,
   "metadata": {},
   "outputs": [],
   "source": [
    "os.chdir('/media/anirudh/New Volume/Anirudh/SNU BLACKBOARD/OUR stuff/UrbanSound/data/drilling')"
   ]
  },
  {
   "cell_type": "code",
   "execution_count": null,
   "metadata": {
    "scrolled": true
   },
   "outputs": [],
   "source": [
    "!ls\n"
   ]
  },
  {
   "cell_type": "code",
   "execution_count": null,
   "metadata": {},
   "outputs": [],
   "source": [
    "!ls"
   ]
  },
  {
   "cell_type": "code",
   "execution_count": null,
   "metadata": {
    "scrolled": true
   },
   "outputs": [],
   "source": [
    "for filename in glob.glob(inspect.os.path + \"*.wav\"):\n",
    "    print(filename.split('/')[-1].split('.')[0])\n",
    "    #show_wave_n_spec(filename.split('/')[-1])"
   ]
  },
  {
   "cell_type": "markdown",
   "metadata": {},
   "source": [
    "os.chdir('/home/anirudh/audio/Wave images/')"
   ]
  },
  {
   "cell_type": "code",
   "execution_count": null,
   "metadata": {
    "scrolled": false
   },
   "outputs": [],
   "source": [
    "for filename in glob.glob(os.path.join('/media/anirudh/New Volume/Anirudh/SNU BLACKBOARD/OUR stuff/UrbanSound/data/drilling',\"*.wav\")):\n",
    "    print(filename)"
   ]
  },
  {
   "cell_type": "code",
   "execution_count": null,
   "metadata": {},
   "outputs": [],
   "source": [
    "files = []"
   ]
  },
  {
   "cell_type": "code",
   "execution_count": null,
   "metadata": {},
   "outputs": [],
   "source": [
    "files"
   ]
  },
  {
   "cell_type": "code",
   "execution_count": null,
   "metadata": {},
   "outputs": [],
   "source": [
    "for filename in glob.glob(os.path.join('/home/anirudh/Desktop/OUR project images/drilling/',\"*.wav\")):\n",
    "    print(filename)\n",
    "    files.append(filename)"
   ]
  },
  {
   "cell_type": "code",
   "execution_count": null,
   "metadata": {},
   "outputs": [],
   "source": [
    "len(files)"
   ]
  },
  {
   "cell_type": "code",
   "execution_count": null,
   "metadata": {},
   "outputs": [],
   "source": [
    "for file in files:\n",
    "    print(file)\n",
    "    show_wave_n_spec(file)"
   ]
  },
  {
   "cell_type": "code",
   "execution_count": null,
   "metadata": {},
   "outputs": [],
   "source": [
    "del(files[files.index('/home/anirudh/Desktop/OUR project images/drilling/19007.wav')])"
   ]
  },
  {
   "cell_type": "code",
   "execution_count": null,
   "metadata": {},
   "outputs": [],
   "source": [
    "len(files)"
   ]
  },
  {
   "cell_type": "code",
   "execution_count": null,
   "metadata": {},
   "outputs": [],
   "source": [
    "for file in files:\n",
    "    print(file)\n",
    "    show_wave_n_spec(file)"
   ]
  },
  {
   "cell_type": "code",
   "execution_count": null,
   "metadata": {},
   "outputs": [],
   "source": [
    "files = []"
   ]
  },
  {
   "cell_type": "code",
   "execution_count": null,
   "metadata": {},
   "outputs": [],
   "source": [
    "for filename in glob.glob(os.path.join('/home/anirudh/Desktop/OUR project images/drilling/',\"*.wav\")):\n",
    "    print(filename)\n",
    "    files.append(filename)"
   ]
  },
  {
   "cell_type": "code",
   "execution_count": null,
   "metadata": {},
   "outputs": [],
   "source": [
    "len(files)"
   ]
  },
  {
   "cell_type": "code",
   "execution_count": null,
   "metadata": {},
   "outputs": [],
   "source": [
    "for file in files:\n",
    "    print(file)\n",
    "    show_wave_n_spec(file)"
   ]
  },
  {
   "cell_type": "code",
   "execution_count": null,
   "metadata": {},
   "outputs": [],
   "source": [
    "del(files[files.index(\"/home/anirudh/Desktop/OUR project images/drilling/42937.wav\")])"
   ]
  },
  {
   "cell_type": "code",
   "execution_count": null,
   "metadata": {},
   "outputs": [],
   "source": [
    "len(files)"
   ]
  },
  {
   "cell_type": "code",
   "execution_count": null,
   "metadata": {},
   "outputs": [],
   "source": [
    "for file in files:\n",
    "    print(file)\n",
    "    show_wave_n_spec(file)"
   ]
  },
  {
   "cell_type": "code",
   "execution_count": null,
   "metadata": {},
   "outputs": [],
   "source": [
    "files = []"
   ]
  },
  {
   "cell_type": "code",
   "execution_count": null,
   "metadata": {},
   "outputs": [],
   "source": [
    "for filename in glob.glob(os.path.join('/home/anirudh/Desktop/OUR project images/drilling/',\"*.wav\")):\n",
    "    print(filename)\n",
    "    files.append(filename)"
   ]
  },
  {
   "cell_type": "code",
   "execution_count": null,
   "metadata": {},
   "outputs": [],
   "source": [
    "len(files)"
   ]
  },
  {
   "cell_type": "code",
   "execution_count": null,
   "metadata": {
    "scrolled": false
   },
   "outputs": [],
   "source": [
    "for file in files:\n",
    "    print(file)\n",
    "    show_wave_n_spec(file)"
   ]
  },
  {
   "cell_type": "code",
   "execution_count": null,
   "metadata": {},
   "outputs": [],
   "source": [
    "files = []"
   ]
  },
  {
   "cell_type": "code",
   "execution_count": null,
   "metadata": {},
   "outputs": [],
   "source": [
    "for filename in glob.glob(os.path.join('/home/anirudh/Desktop/OUR project images/drilling/',\"*.wav\")):\n",
    "    print(filename)\n",
    "    files.append(filename)"
   ]
  },
  {
   "cell_type": "code",
   "execution_count": null,
   "metadata": {},
   "outputs": [],
   "source": [
    "len(files)"
   ]
  },
  {
   "cell_type": "code",
   "execution_count": null,
   "metadata": {},
   "outputs": [],
   "source": [
    "for file in files:\n",
    "    print(file)\n",
    "    show_wave_n_spec(file)"
   ]
  },
  {
   "cell_type": "code",
   "execution_count": null,
   "metadata": {},
   "outputs": [],
   "source": [
    "files = []"
   ]
  },
  {
   "cell_type": "code",
   "execution_count": null,
   "metadata": {},
   "outputs": [],
   "source": [
    "for filename in glob.glob(os.path.join('/home/anirudh/Desktop/OUR project images/drilling/',\"*.wav\")):\n",
    "    print(filename)\n",
    "    files.append(filename)"
   ]
  },
  {
   "cell_type": "code",
   "execution_count": null,
   "metadata": {},
   "outputs": [],
   "source": [
    "len(files)"
   ]
  },
  {
   "cell_type": "code",
   "execution_count": null,
   "metadata": {},
   "outputs": [],
   "source": [
    "for file in files:\n",
    "    print(file)\n",
    "    show_wave_n_spec(file)"
   ]
  },
  {
   "cell_type": "code",
   "execution_count": null,
   "metadata": {},
   "outputs": [],
   "source": [
    "files = []"
   ]
  },
  {
   "cell_type": "code",
   "execution_count": null,
   "metadata": {},
   "outputs": [],
   "source": [
    "for filename in glob.glob(os.path.join('/home/anirudh/Desktop/OUR project images/drilling/',\"*.wav\")):\n",
    "    print(filename)\n",
    "    files.append(filename)"
   ]
  },
  {
   "cell_type": "code",
   "execution_count": null,
   "metadata": {
    "scrolled": false
   },
   "outputs": [],
   "source": [
    "for file in files:\n",
    "    print(file)\n",
    "    show_wave_n_spec(file)"
   ]
  },
  {
   "cell_type": "code",
   "execution_count": null,
   "metadata": {},
   "outputs": [],
   "source": [
    "files = []"
   ]
  },
  {
   "cell_type": "code",
   "execution_count": null,
   "metadata": {},
   "outputs": [],
   "source": [
    "for filename in glob.glob(os.path.join('/home/anirudh/Desktop/OUR project images/drilling/',\"*.wav\")):\n",
    "    print(filename)\n",
    "    files.append(filename)"
   ]
  },
  {
   "cell_type": "code",
   "execution_count": null,
   "metadata": {},
   "outputs": [],
   "source": [
    "len(files)"
   ]
  },
  {
   "cell_type": "code",
   "execution_count": null,
   "metadata": {
    "scrolled": false
   },
   "outputs": [],
   "source": [
    "for file in files:\n",
    "    print(file)\n",
    "    show_wave_n_spec(file)"
   ]
  },
  {
   "cell_type": "code",
   "execution_count": null,
   "metadata": {},
   "outputs": [],
   "source": [
    "files = []"
   ]
  },
  {
   "cell_type": "code",
   "execution_count": null,
   "metadata": {},
   "outputs": [],
   "source": [
    "for filename in glob.glob(os.path.join('/home/anirudh/Desktop/OUR project images/drilling/',\"*.wav\")):\n",
    "    print(filename)\n",
    "    files.append(filename)"
   ]
  },
  {
   "cell_type": "code",
   "execution_count": null,
   "metadata": {},
   "outputs": [],
   "source": [
    "for file in files:\n",
    "    print(file)\n",
    "    show_wave_n_spec(file)"
   ]
  },
  {
   "cell_type": "code",
   "execution_count": null,
   "metadata": {},
   "outputs": [],
   "source": [
    "files = []"
   ]
  },
  {
   "cell_type": "code",
   "execution_count": null,
   "metadata": {},
   "outputs": [],
   "source": [
    "for filename in glob.glob(os.path.join('/home/anirudh/Desktop/OUR project images/drilling/',\"*.wav\")):\n",
    "    print(filename)\n",
    "    files.append(filename)"
   ]
  },
  {
   "cell_type": "code",
   "execution_count": null,
   "metadata": {},
   "outputs": [],
   "source": [
    "for file in files:\n",
    "    print(file)\n",
    "    show_wave_n_spec(file)"
   ]
  },
  {
   "cell_type": "code",
   "execution_count": null,
   "metadata": {},
   "outputs": [],
   "source": [
    "files = []"
   ]
  },
  {
   "cell_type": "code",
   "execution_count": null,
   "metadata": {},
   "outputs": [],
   "source": [
    "for filename in glob.glob(os.path.join('/home/anirudh/Desktop/OUR project images/drilling/',\"*.wav\")):\n",
    "    print(filename)\n",
    "    files.append(filename)"
   ]
  },
  {
   "cell_type": "code",
   "execution_count": null,
   "metadata": {
    "scrolled": false
   },
   "outputs": [],
   "source": [
    "for file in files:\n",
    "    print(file)\n",
    "    show_wave_n_spec(file)"
   ]
  },
  {
   "cell_type": "code",
   "execution_count": null,
   "metadata": {},
   "outputs": [],
   "source": [
    "files = []"
   ]
  },
  {
   "cell_type": "code",
   "execution_count": null,
   "metadata": {},
   "outputs": [],
   "source": [
    "for filename in glob.glob(os.path.join('/home/anirudh/Desktop/OUR project images/drilling/',\"*.wav\")):\n",
    "    print(filename)\n",
    "    files.append(filename)"
   ]
  },
  {
   "cell_type": "code",
   "execution_count": null,
   "metadata": {},
   "outputs": [],
   "source": [
    "for file in files:\n",
    "    print(file)\n",
    "    show_wave_n_spec(file)"
   ]
  },
  {
   "cell_type": "code",
   "execution_count": null,
   "metadata": {},
   "outputs": [],
   "source": [
    "files = []"
   ]
  },
  {
   "cell_type": "code",
   "execution_count": null,
   "metadata": {},
   "outputs": [],
   "source": [
    "for filename in glob.glob(os.path.join('/home/anirudh/Desktop/OUR project images/drilling/',\"*.wav\")):\n",
    "    print(filename)\n",
    "    files.append(filename)"
   ]
  },
  {
   "cell_type": "code",
   "execution_count": null,
   "metadata": {},
   "outputs": [],
   "source": [
    "len(files)"
   ]
  },
  {
   "cell_type": "code",
   "execution_count": null,
   "metadata": {},
   "outputs": [],
   "source": [
    "for file in files:\n",
    "    print(file)\n",
    "    show_wave_n_spec(file)"
   ]
  },
  {
   "cell_type": "code",
   "execution_count": null,
   "metadata": {},
   "outputs": [],
   "source": [
    "files = []"
   ]
  },
  {
   "cell_type": "code",
   "execution_count": null,
   "metadata": {},
   "outputs": [],
   "source": [
    "for filename in glob.glob(os.path.join('/home/anirudh/Desktop/OUR project images/drilling/',\"*.wav\")):\n",
    "    print(filename)\n",
    "    files.append(filename)"
   ]
  },
  {
   "cell_type": "code",
   "execution_count": null,
   "metadata": {},
   "outputs": [],
   "source": [
    "len(files)"
   ]
  },
  {
   "cell_type": "code",
   "execution_count": null,
   "metadata": {},
   "outputs": [],
   "source": [
    "for file in files:\n",
    "    print(file)\n",
    "    show_wave_n_spec(file)"
   ]
  },
  {
   "cell_type": "code",
   "execution_count": null,
   "metadata": {},
   "outputs": [],
   "source": [
    "def show_wave_n_spec2(speech):\n",
    "    spf = wave.open(speech,'r')\n",
    "    sound_info = spf.readframes(-1)\n",
    "    sound_info = fromstring(sound_info,'Int16')\n",
    "    \n",
    "    f = spf.getframerate()\n",
    "    \n",
    "    subplot(211)\n",
    "    plot(sound_info)\n",
    "    plot(axes = None)\n",
    "    \n",
    "    filename = speech.split('.')[0]\n",
    "    \n",
    "    savefig(filename + \".png\")\n",
    "    show()\n",
    "    spf.close()\n",
    "\n",
    "    "
   ]
  },
  {
   "cell_type": "code",
   "execution_count": null,
   "metadata": {},
   "outputs": [],
   "source": [
    "for filename in glob.glob(os.path.join('/home/anirudh/Desktop/OUR project images/drilling/',\"*.wav\")):\n",
    "    print(filename)\n",
    "    show_wave_n_spec2(filename)"
   ]
  },
  {
   "cell_type": "markdown",
   "metadata": {},
   "source": [
    "# We will be preparing our negativ examples dataset,i.e. children playing"
   ]
  },
  {
   "cell_type": "code",
   "execution_count": null,
   "metadata": {},
   "outputs": [],
   "source": [
    "!pwd"
   ]
  },
  {
   "cell_type": "code",
   "execution_count": null,
   "metadata": {},
   "outputs": [],
   "source": [
    "os.chdir('/media/anirudh/New Volume/Anirudh/SNU BLACKBOARD/OUR stuff/UrbanSound/data/children_playing/')"
   ]
  },
  {
   "cell_type": "code",
   "execution_count": null,
   "metadata": {
    "scrolled": false
   },
   "outputs": [],
   "source": [
    "for filename in glob.glob(os.path.join('/media/anirudh/New Volume/Anirudh/SNU BLACKBOARD/OUR stuff/UrbanSound/data/children_playing/','*.wav')):\n",
    "    print(filename)"
   ]
  },
  {
   "cell_type": "code",
   "execution_count": null,
   "metadata": {},
   "outputs": [],
   "source": [
    "files = []"
   ]
  },
  {
   "cell_type": "code",
   "execution_count": null,
   "metadata": {},
   "outputs": [],
   "source": [
    "for filename in glob.glob(os.path.join('/home/anirudh/Desktop/OUR project images/children_playing/',\"*.wav\")):\n",
    "    print(filename)\n",
    "    files.append(filename)"
   ]
  },
  {
   "cell_type": "code",
   "execution_count": null,
   "metadata": {},
   "outputs": [],
   "source": [
    "len(files)"
   ]
  },
  {
   "cell_type": "code",
   "execution_count": null,
   "metadata": {},
   "outputs": [],
   "source": [
    "count = 0\n",
    "for file in files:\n",
    "    print(file)\n",
    "    count += 1\n",
    "    show_wave_n_spec(file)"
   ]
  },
  {
   "cell_type": "code",
   "execution_count": null,
   "metadata": {},
   "outputs": [],
   "source": [
    "del(files[count-1])"
   ]
  },
  {
   "cell_type": "code",
   "execution_count": null,
   "metadata": {},
   "outputs": [],
   "source": [
    "count = 0\n",
    "for file in files:\n",
    "    print(file)\n",
    "    count += 1\n",
    "    show_wave_n_spec(file)"
   ]
  },
  {
   "cell_type": "code",
   "execution_count": null,
   "metadata": {},
   "outputs": [],
   "source": [
    "del(files[count - 1])"
   ]
  },
  {
   "cell_type": "code",
   "execution_count": null,
   "metadata": {},
   "outputs": [],
   "source": [
    "count = 0\n",
    "for file in files:\n",
    "    print(file)\n",
    "    count += 1\n",
    "    show_wave_n_spec(file)"
   ]
  },
  {
   "cell_type": "code",
   "execution_count": null,
   "metadata": {},
   "outputs": [],
   "source": [
    "import glob,os"
   ]
  },
  {
   "cell_type": "code",
   "execution_count": null,
   "metadata": {},
   "outputs": [],
   "source": [
    "files = []"
   ]
  },
  {
   "cell_type": "code",
   "execution_count": null,
   "metadata": {},
   "outputs": [],
   "source": [
    "for filename in glob.glob(os.path.join('/home/anirudh/Desktop/OUR project images/children_playing/',\"*.wav\")):\n",
    "    print(filename)\n",
    "    files.append(filename)"
   ]
  },
  {
   "cell_type": "code",
   "execution_count": null,
   "metadata": {},
   "outputs": [],
   "source": [
    "count = 0\n",
    "for file in files:\n",
    "    print(file)\n",
    "    count += 1\n",
    "    show_wave_n_spec(file)"
   ]
  },
  {
   "cell_type": "code",
   "execution_count": null,
   "metadata": {},
   "outputs": [],
   "source": [
    "files = []"
   ]
  },
  {
   "cell_type": "code",
   "execution_count": null,
   "metadata": {},
   "outputs": [],
   "source": [
    "for filename in glob.glob(os.path.join('/home/anirudh/Desktop/OUR project images/children_playing/',\"*.wav\")):\n",
    "    print(filename)\n",
    "    files.append(filename)"
   ]
  },
  {
   "cell_type": "code",
   "execution_count": null,
   "metadata": {},
   "outputs": [],
   "source": [
    "count = 0\n",
    "for file in files:\n",
    "    print(file)\n",
    "    count += 1\n",
    "    show_wave_n_spec(file)"
   ]
  },
  {
   "cell_type": "code",
   "execution_count": null,
   "metadata": {},
   "outputs": [],
   "source": [
    "files = []\n",
    "\n",
    "for filename in glob.glob(os.path.join('/home/anirudh/Desktop/OUR project images/children_playing/',\"*.wav\")):\n",
    "    print(filename)\n",
    "    files.append(filename)"
   ]
  },
  {
   "cell_type": "code",
   "execution_count": null,
   "metadata": {},
   "outputs": [],
   "source": [
    "count = 0\n",
    "for file in files:\n",
    "    print(file)\n",
    "    count += 1\n",
    "    show_wave_n_spec(file)    "
   ]
  },
  {
   "cell_type": "code",
   "execution_count": null,
   "metadata": {},
   "outputs": [],
   "source": [
    "\n",
    "files = []\n",
    "\n",
    "for filename in glob.glob(os.path.join('/home/anirudh/Desktop/OUR project images/children_playing/',\"*.wav\")):\n",
    "    print(filename)\n",
    "    files.append(filename)\n",
    "    "
   ]
  },
  {
   "cell_type": "code",
   "execution_count": null,
   "metadata": {
    "scrolled": false
   },
   "outputs": [],
   "source": [
    "count = 0\n",
    "for file in files:\n",
    "    print(file)\n",
    "    count += 1\n",
    "    show_wave_n_spec(file)   "
   ]
  },
  {
   "cell_type": "code",
   "execution_count": null,
   "metadata": {},
   "outputs": [],
   "source": [
    "files = []\n",
    "\n",
    "for filename in glob.glob(os.path.join('/home/anirudh/Desktop/OUR project images/children_playing/',\"*.wav\")):\n",
    "    print(filename)\n",
    "    files.append(filename)\n",
    "    "
   ]
  },
  {
   "cell_type": "code",
   "execution_count": null,
   "metadata": {},
   "outputs": [],
   "source": [
    "count = 0\n",
    "for file in files:\n",
    "    print(file)\n",
    "    count += 1\n",
    "    show_wave_n_spec(file) "
   ]
  },
  {
   "cell_type": "code",
   "execution_count": null,
   "metadata": {},
   "outputs": [],
   "source": [
    "files = []\n",
    "\n",
    "for filename in glob.glob(os.path.join('/home/anirudh/Desktop/OUR project images/children_playing/',\"*.wav\")):\n",
    "    print(filename)\n",
    "    files.append(filename)  "
   ]
  },
  {
   "cell_type": "code",
   "execution_count": null,
   "metadata": {},
   "outputs": [],
   "source": [
    "count = 0\n",
    "for file in files:\n",
    "    print(file)\n",
    "    count += 1\n",
    "    show_wave_n_spec(file) "
   ]
  },
  {
   "cell_type": "code",
   "execution_count": null,
   "metadata": {},
   "outputs": [],
   "source": [
    "files = []\n",
    "\n",
    "for filename in glob.glob(os.path.join('/home/anirudh/Desktop/OUR project images/children_playing/',\"*.wav\")):\n",
    "    print(filename)\n",
    "    files.append(filename)  "
   ]
  },
  {
   "cell_type": "code",
   "execution_count": null,
   "metadata": {
    "scrolled": false
   },
   "outputs": [],
   "source": [
    "count = 0\n",
    "for file in files:\n",
    "    print(file)\n",
    "    count += 1\n",
    "    show_wave_n_spec(file) "
   ]
  },
  {
   "cell_type": "code",
   "execution_count": null,
   "metadata": {},
   "outputs": [],
   "source": [
    "files = []\n",
    "\n",
    "for filename in glob.glob(os.path.join('/home/anirudh/Desktop/OUR project images/children_playing/',\"*.wav\")):\n",
    "    print(filename)\n",
    "    files.append(filename)"
   ]
  },
  {
   "cell_type": "code",
   "execution_count": null,
   "metadata": {},
   "outputs": [],
   "source": [
    "count = 0\n",
    "for file in files:\n",
    "    print(file)\n",
    "    count += 1\n",
    "    show_wave_n_spec(file)"
   ]
  },
  {
   "cell_type": "code",
   "execution_count": null,
   "metadata": {},
   "outputs": [],
   "source": [
    "files = []\n",
    "\n",
    "for filename in glob.glob(os.path.join('/home/anirudh/Desktop/OUR project images/children_playing/',\"*.wav\")):\n",
    "    print(filename)\n",
    "    files.append(filename)"
   ]
  },
  {
   "cell_type": "code",
   "execution_count": null,
   "metadata": {},
   "outputs": [],
   "source": [
    "count = 0\n",
    "for file in files:\n",
    "    print(file)\n",
    "    count += 1\n",
    "    show_wave_n_spec(file)    "
   ]
  },
  {
   "cell_type": "code",
   "execution_count": null,
   "metadata": {},
   "outputs": [],
   "source": [
    "files = []\n",
    "\n",
    "for filename in glob.glob(os.path.join('/home/anirudh/Desktop/OUR project images/children_playing/',\"*.wav\")):\n",
    "    print(filename)\n",
    "    files.append(filename)"
   ]
  },
  {
   "cell_type": "code",
   "execution_count": null,
   "metadata": {},
   "outputs": [],
   "source": [
    "count = 0\n",
    "for file in files:\n",
    "    print(file)\n",
    "    count += 1\n",
    "    show_wave_n_spec(file)    "
   ]
  },
  {
   "cell_type": "code",
   "execution_count": null,
   "metadata": {},
   "outputs": [],
   "source": [
    "files = []\n",
    "\n",
    "for filename in glob.glob(os.path.join('/home/anirudh/Desktop/OUR project images/children_playing/',\"*.wav\")):\n",
    "    print(filename)\n",
    "    files.append(filename)"
   ]
  },
  {
   "cell_type": "code",
   "execution_count": null,
   "metadata": {},
   "outputs": [],
   "source": [
    "count = 0\n",
    "for file in files:\n",
    "    print(file)\n",
    "    count += 1\n",
    "    show_wave_n_spec(file)    "
   ]
  },
  {
   "cell_type": "code",
   "execution_count": null,
   "metadata": {},
   "outputs": [],
   "source": [
    "files = []\n",
    "\n",
    "for filename in glob.glob(os.path.join('/home/anirudh/Desktop/OUR project images/children_playing/',\"*.wav\")):\n",
    "    print(filename)\n",
    "    files.append(filename)"
   ]
  },
  {
   "cell_type": "code",
   "execution_count": null,
   "metadata": {
    "scrolled": true
   },
   "outputs": [],
   "source": [
    "count = 0\n",
    "for file in files:\n",
    "    print(file)\n",
    "    count += 1\n",
    "    show_wave_n_spec(file)  "
   ]
  },
  {
   "cell_type": "code",
   "execution_count": null,
   "metadata": {},
   "outputs": [],
   "source": [
    "files = []\n",
    "\n",
    "for filename in glob.glob(os.path.join('/home/anirudh/Desktop/OUR project images/children_playing/',\"*.wav\")):\n",
    "    print(filename)\n",
    "    files.append(filename)\t"
   ]
  },
  {
   "cell_type": "code",
   "execution_count": null,
   "metadata": {},
   "outputs": [],
   "source": [
    "count = 0\n",
    "for file in files:\n",
    "    print(file)\n",
    "    count += 1\n",
    "    show_wave_n_spec(file)    "
   ]
  },
  {
   "cell_type": "code",
   "execution_count": null,
   "metadata": {},
   "outputs": [],
   "source": [
    "\n",
    "files = []\n",
    "\n",
    "for filename in glob.glob(os.path.join('/home/anirudh/Desktop/OUR project images/children_playing/',\"*.wav\")):\n",
    "    print(filename)\n",
    "    files.append(filename)"
   ]
  },
  {
   "cell_type": "code",
   "execution_count": null,
   "metadata": {},
   "outputs": [],
   "source": [
    "os.chdir('E:/Anirudh/SNU BLACKBOARD/OUR stuff/UrbanSound/data/children_playing')"
   ]
  },
  {
   "cell_type": "code",
   "execution_count": null,
   "metadata": {},
   "outputs": [],
   "source": [
    "files = []\n",
    "\n",
    "for filename in glob.glob(os.path.join(r'E:/Anirudh/SNU BLACKBOARD/OUR stuff/UrbanSound/data/children_playing',\"*.wav\")):\n",
    "    print(filename)\n",
    "    files.append(filename)"
   ]
  },
  {
   "cell_type": "code",
   "execution_count": null,
   "metadata": {},
   "outputs": [],
   "source": [
    "count = 0\n",
    "for file in files:\n",
    "    print(file)\n",
    "    count += 1\n",
    "    show_wave_n_spec(file)    "
   ]
  },
  {
   "cell_type": "code",
   "execution_count": null,
   "metadata": {},
   "outputs": [],
   "source": [
    "C:\\Users\\Admin\\Desktop\\Desktop\\children_playing"
   ]
  },
  {
   "cell_type": "code",
   "execution_count": null,
   "metadata": {},
   "outputs": [],
   "source": [
    "files = []\n",
    "\n",
    "for filename in glob.glob(os.path.join('C:/Users/Admin/Desktop/Desktop/children_playing/',\"*.wav\")):\n",
    "    print(filename)\n",
    "    files.append(filename)"
   ]
  },
  {
   "cell_type": "code",
   "execution_count": null,
   "metadata": {},
   "outputs": [],
   "source": [
    "count = 0\n",
    "for file in files:\n",
    "    print(file)\n",
    "    count += 1\n",
    "    show_wave_n_spec(file)    "
   ]
  },
  {
   "cell_type": "code",
   "execution_count": null,
   "metadata": {},
   "outputs": [],
   "source": [
    "len(files)"
   ]
  },
  {
   "cell_type": "code",
   "execution_count": null,
   "metadata": {},
   "outputs": [],
   "source": [
    "files = []\n",
    "\n",
    "for filename in glob.glob(os.path.join('C:/Users/Admin/Desktop/Desktop/children_/',\"*.wav\")):\n",
    "    print(filename)\n",
    "    files.append(filename)"
   ]
  },
  {
   "cell_type": "code",
   "execution_count": null,
   "metadata": {},
   "outputs": [],
   "source": [
    "len(files)"
   ]
  },
  {
   "cell_type": "code",
   "execution_count": null,
   "metadata": {
    "scrolled": false
   },
   "outputs": [],
   "source": [
    "count = 0\n",
    "for file in files:\n",
    "    print(file)\n",
    "    count += 1\n",
    "    show_wave_n_spec(file)    "
   ]
  },
  {
   "cell_type": "code",
   "execution_count": null,
   "metadata": {
    "scrolled": true
   },
   "outputs": [],
   "source": [
    "files = []\n",
    "\n",
    "for filename in glob.glob(os.path.join('C:/Users/Admin/Desktop/Desktop/children_/',\"*.wav\")):\n",
    "    print(filename)\n",
    "    files.append(filename)"
   ]
  },
  {
   "cell_type": "code",
   "execution_count": null,
   "metadata": {
    "scrolled": true
   },
   "outputs": [],
   "source": [
    "len(files)"
   ]
  },
  {
   "cell_type": "code",
   "execution_count": null,
   "metadata": {},
   "outputs": [],
   "source": [
    "count = 0\n",
    "for file in files:\n",
    "    print(file)\n",
    "    count += 1\n",
    "    show_wave_n_spec(file)    "
   ]
  },
  {
   "cell_type": "code",
   "execution_count": null,
   "metadata": {},
   "outputs": [],
   "source": [
    "files = []\n",
    "\n",
    "for filename in glob.glob(os.path.join('C:/Users/Admin/Desktop/Desktop/children_/',\"*.wav\")):\n",
    "    print(filename)\n",
    "    files.append(filename)"
   ]
  },
  {
   "cell_type": "code",
   "execution_count": null,
   "metadata": {
    "scrolled": true
   },
   "outputs": [],
   "source": [
    "count = 0\n",
    "for file in files:\n",
    "    print(file)\n",
    "    count += 1\n",
    "    show_wave_n_spec(file)    "
   ]
  },
  {
   "cell_type": "code",
   "execution_count": null,
   "metadata": {},
   "outputs": [],
   "source": [
    "files = []\n",
    "\n",
    "for filename in glob.glob(os.path.join('C:/Users/Admin/Desktop/Desktop/children_/',\"*.wav\")):\n",
    "    print(filename)\n",
    "    files.append(filename)"
   ]
  },
  {
   "cell_type": "code",
   "execution_count": null,
   "metadata": {},
   "outputs": [],
   "source": [
    "files[0]"
   ]
  },
  {
   "cell_type": "code",
   "execution_count": null,
   "metadata": {},
   "outputs": [],
   "source": [
    "del(files[0])"
   ]
  },
  {
   "cell_type": "code",
   "execution_count": null,
   "metadata": {},
   "outputs": [],
   "source": [
    "files"
   ]
  },
  {
   "cell_type": "code",
   "execution_count": null,
   "metadata": {},
   "outputs": [],
   "source": [
    "count = 0\n",
    "for file in files:\n",
    "    print(file)\n",
    "    count += 1\n",
    "    show_wave_n_spec(file) "
   ]
  },
  {
   "cell_type": "code",
   "execution_count": null,
   "metadata": {},
   "outputs": [],
   "source": [
    "files = []\n",
    "\n",
    "for filename in glob.glob(os.path.join('C:/Users/Admin/Desktop/Desktop/children_/',\"*.wav\")):\n",
    "    print(filename)\n",
    "    files.append(filename)"
   ]
  },
  {
   "cell_type": "code",
   "execution_count": null,
   "metadata": {},
   "outputs": [],
   "source": [
    "del(files[0])"
   ]
  },
  {
   "cell_type": "code",
   "execution_count": null,
   "metadata": {},
   "outputs": [],
   "source": [
    "files"
   ]
  },
  {
   "cell_type": "code",
   "execution_count": null,
   "metadata": {},
   "outputs": [],
   "source": [
    "count = 0\n",
    "for file in files:\n",
    "    print(file)\n",
    "    count += 1\n",
    "    show_wave_n_spec(file) "
   ]
  },
  {
   "cell_type": "code",
   "execution_count": null,
   "metadata": {},
   "outputs": [],
   "source": [
    "files = []\n",
    "\n",
    "for filename in glob.glob(os.path.join('C:/Users/Admin/Desktop/Desktop/children_/',\"*.wav\")):\n",
    "    print(filename)\n",
    "    files.append(filename)"
   ]
  },
  {
   "cell_type": "code",
   "execution_count": null,
   "metadata": {},
   "outputs": [],
   "source": [
    "del(files[0])"
   ]
  },
  {
   "cell_type": "code",
   "execution_count": null,
   "metadata": {},
   "outputs": [],
   "source": [
    "count = 0\n",
    "for file in files:\n",
    "    print(file)\n",
    "    count += 1\n",
    "    show_wave_n_spec(file)"
   ]
  },
  {
   "cell_type": "code",
   "execution_count": null,
   "metadata": {},
   "outputs": [],
   "source": [
    "files = []\n",
    "\n",
    "for filename in glob.glob(os.path.join('C:/Users/Admin/Desktop/Desktop/children_/',\"*.wav\")):\n",
    "    print(filename)\n",
    "    files.append(filename)"
   ]
  },
  {
   "cell_type": "code",
   "execution_count": null,
   "metadata": {},
   "outputs": [],
   "source": [
    "del(files[0])"
   ]
  },
  {
   "cell_type": "code",
   "execution_count": null,
   "metadata": {
    "scrolled": false
   },
   "outputs": [],
   "source": [
    "count = 0\n",
    "for file in files:\n",
    "    print(file)\n",
    "    count += 1\n",
    "    show_wave_n_spec(file)  "
   ]
  },
  {
   "cell_type": "code",
   "execution_count": null,
   "metadata": {},
   "outputs": [],
   "source": [
    "files = []\n",
    "\n",
    "for filename in glob.glob(os.path.join('C:/Users/Admin/Desktop/Desktop/children_/',\"*.wav\")):\n",
    "    print(filename)\n",
    "    files.append(filename)"
   ]
  },
  {
   "cell_type": "code",
   "execution_count": null,
   "metadata": {},
   "outputs": [],
   "source": [
    "del(files[0])"
   ]
  },
  {
   "cell_type": "code",
   "execution_count": null,
   "metadata": {},
   "outputs": [],
   "source": [
    "count = 0\n",
    "for file in files:\n",
    "    print(file)\n",
    "    count += 1\n",
    "    show_wave_n_spec(file)  "
   ]
  },
  {
   "cell_type": "code",
   "execution_count": null,
   "metadata": {},
   "outputs": [],
   "source": [
    "del(files[count -1])"
   ]
  },
  {
   "cell_type": "code",
   "execution_count": null,
   "metadata": {},
   "outputs": [],
   "source": [
    "count = 0\n",
    "for file in files:\n",
    "    print(file)\n",
    "    count += 1\n",
    "    show_wave_n_spec(file)  "
   ]
  },
  {
   "cell_type": "code",
   "execution_count": null,
   "metadata": {},
   "outputs": [],
   "source": [
    "del(files[count - 1])"
   ]
  },
  {
   "cell_type": "code",
   "execution_count": null,
   "metadata": {},
   "outputs": [],
   "source": [
    "count = 0\n",
    "for file in files:\n",
    "    print(file)\n",
    "    count += 1\n",
    "    show_wave_n_spec(file)  "
   ]
  },
  {
   "cell_type": "code",
   "execution_count": null,
   "metadata": {},
   "outputs": [],
   "source": [
    "files = []\n",
    "\n",
    "for filename in glob.glob(os.path.join('C:/Users/Admin/Desktop/Desktop/children_/',\"*.wav\")):\n",
    "    print(filename)\n",
    "    files.append(filename)"
   ]
  },
  {
   "cell_type": "code",
   "execution_count": null,
   "metadata": {},
   "outputs": [],
   "source": [
    "del(files[0])"
   ]
  },
  {
   "cell_type": "code",
   "execution_count": null,
   "metadata": {
    "scrolled": false
   },
   "outputs": [],
   "source": [
    "count = 0\n",
    "for file in files:\n",
    "    print(file)\n",
    "    count += 1\n",
    "    show_wave_n_spec(file)  "
   ]
  },
  {
   "cell_type": "code",
   "execution_count": null,
   "metadata": {},
   "outputs": [],
   "source": [
    "files = []\n",
    "\n",
    "for filename in glob.glob(os.path.join('C:/Users/Admin/Desktop/Desktop/children_/',\"*.wav\")):\n",
    "    print(filename)\n",
    "    files.append(filename)\n"
   ]
  },
  {
   "cell_type": "code",
   "execution_count": null,
   "metadata": {},
   "outputs": [],
   "source": [
    "del(files[0])"
   ]
  },
  {
   "cell_type": "code",
   "execution_count": null,
   "metadata": {},
   "outputs": [],
   "source": [
    "count = 0\n",
    "for file in files:\n",
    "    print(file)\n",
    "    count += 1\n",
    "    show_wave_n_spec(file)  "
   ]
  },
  {
   "cell_type": "markdown",
   "metadata": {},
   "source": [
    "# We will start extracting street_music wave files"
   ]
  },
  {
   "cell_type": "code",
   "execution_count": null,
   "metadata": {},
   "outputs": [],
   "source": [
    "files = []\n",
    "\n",
    "for filename in glob.glob(os.path.join('C:/Users/Admin/Desktop/Desktop/street_music/',\"*.wav\")):\n",
    "    print(filename)\n",
    "    files.append(filename)"
   ]
  },
  {
   "cell_type": "code",
   "execution_count": null,
   "metadata": {},
   "outputs": [],
   "source": [
    "count = 0\n",
    "for file in files:\n",
    "    print(file)\n",
    "    count += 1\n",
    "    show_wave_n_spec(file)"
   ]
  },
  {
   "cell_type": "code",
   "execution_count": null,
   "metadata": {},
   "outputs": [],
   "source": [
    "files = []\n",
    "\n",
    "for filename in glob.glob(os.path.join('C:/Users/Admin/Desktop/Desktop/street_music/',\"*.wav\")):\n",
    "    print(filename)\n",
    "    files.append(filename)"
   ]
  },
  {
   "cell_type": "code",
   "execution_count": null,
   "metadata": {},
   "outputs": [],
   "source": [
    "count = 0\n",
    "for file in files:\n",
    "    print(file)\n",
    "    count += 1\n",
    "    show_wave_n_spec(file) "
   ]
  },
  {
   "cell_type": "code",
   "execution_count": null,
   "metadata": {},
   "outputs": [],
   "source": [
    "files = []\n",
    "\n",
    "for filename in glob.glob(os.path.join('C:/Users/Admin/Desktop/Desktop/street_music/',\"*.wav\")):\n",
    "    print(filename)\n",
    "    files.append(filename)"
   ]
  },
  {
   "cell_type": "code",
   "execution_count": null,
   "metadata": {},
   "outputs": [],
   "source": [
    "count = 0\n",
    "for file in files:\n",
    "    print(file)\n",
    "    count += 1\n",
    "    show_wave_n_spec(file)"
   ]
  },
  {
   "cell_type": "code",
   "execution_count": null,
   "metadata": {},
   "outputs": [],
   "source": [
    "files = []\n",
    "\n",
    "for filename in glob.glob(os.path.join('C:/Users/Admin/Desktop/Desktop/street_music/',\"*.wav\")):\n",
    "    print(filename)\n",
    "    files.append(filename)"
   ]
  },
  {
   "cell_type": "code",
   "execution_count": null,
   "metadata": {},
   "outputs": [],
   "source": [
    "del(files[0])"
   ]
  },
  {
   "cell_type": "code",
   "execution_count": null,
   "metadata": {},
   "outputs": [],
   "source": [
    "count = 0\n",
    "for file in files:\n",
    "    print(file)\n",
    "    count += 1\n",
    "    show_wave_n_spec(file)"
   ]
  },
  {
   "cell_type": "code",
   "execution_count": null,
   "metadata": {},
   "outputs": [],
   "source": [
    "files = []\n",
    "\n",
    "for filename in glob.glob(os.path.join('C:/Users/Admin/Desktop/Desktop/street_music/',\"*.wav\")):\n",
    "    print(filename)\n",
    "    files.append(filename)"
   ]
  },
  {
   "cell_type": "code",
   "execution_count": null,
   "metadata": {},
   "outputs": [],
   "source": [
    "files = []\n",
    "\n",
    "for filename in glob.glob(os.path.join('C:/Users/Admin/Desktop/Desktop/street_music/',\"*.wav\")):\n",
    "    print(filename)\n",
    "    files.append(filename)"
   ]
  },
  {
   "cell_type": "code",
   "execution_count": null,
   "metadata": {},
   "outputs": [],
   "source": [
    "count = 0\n",
    "for file in files:\n",
    "    print(file)\n",
    "    count += 1\n",
    "    show_wave_n_spec(file) "
   ]
  },
  {
   "cell_type": "code",
   "execution_count": null,
   "metadata": {},
   "outputs": [],
   "source": [
    "files = []\n",
    "\n",
    "for filename in glob.glob(os.path.join('C:/Users/Admin/Desktop/Desktop/street_music/',\"*.wav\")):\n",
    "    print(filename)\n",
    "    files.append(filename)"
   ]
  },
  {
   "cell_type": "code",
   "execution_count": null,
   "metadata": {},
   "outputs": [],
   "source": [
    "count = 0\n",
    "for file in files:\n",
    "    print(file)\n",
    "    count += 1\n",
    "    show_wave_n_spec(file)"
   ]
  },
  {
   "cell_type": "code",
   "execution_count": null,
   "metadata": {},
   "outputs": [],
   "source": [
    "files = []\n",
    "\n",
    "for filename in glob.glob(os.path.join('C:/Users/Admin/Desktop/Desktop/street_music/',\"*.wav\")):\n",
    "    print(filename)\n",
    "    files.append(filename)"
   ]
  },
  {
   "cell_type": "code",
   "execution_count": null,
   "metadata": {},
   "outputs": [],
   "source": [
    "count = 0\n",
    "for file in files:\n",
    "    print(file)\n",
    "    count += 1\n",
    "    show_wave_n_spec(file) "
   ]
  },
  {
   "cell_type": "code",
   "execution_count": null,
   "metadata": {},
   "outputs": [],
   "source": [
    "files = []\n",
    "\n",
    "for filename in glob.glob(os.path.join('C:/Users/Admin/Desktop/Desktop/street_music/',\"*.wav\")):\n",
    "    print(filename)\n",
    "    files.append(filename)\n"
   ]
  },
  {
   "cell_type": "code",
   "execution_count": null,
   "metadata": {},
   "outputs": [],
   "source": [
    "count = 0\n",
    "for file in files:\n",
    "    print(file)\n",
    "    count += 1\n",
    "    show_wave_n_spec(file) "
   ]
  },
  {
   "cell_type": "code",
   "execution_count": null,
   "metadata": {},
   "outputs": [],
   "source": [
    "files = []\n",
    "\n",
    "for filename in glob.glob(os.path.join('C:/Users/Admin/Desktop/Desktop/street_music/',\"*.wav\")):\n",
    "    print(filename)\n",
    "    files.append(filename)"
   ]
  },
  {
   "cell_type": "code",
   "execution_count": null,
   "metadata": {},
   "outputs": [],
   "source": [
    "count = 0\n",
    "for file in files:\n",
    "    print(file)\n",
    "    count += 1\n",
    "    show_wave_n_spec(file) "
   ]
  },
  {
   "cell_type": "code",
   "execution_count": null,
   "metadata": {},
   "outputs": [],
   "source": [
    "files = []\n",
    "\n",
    "for filename in glob.glob(os.path.join('C:/Users/Admin/Desktop/Desktop/street_music/',\"*.wav\")):\n",
    "    print(filename)\n",
    "    files.append(filename)"
   ]
  },
  {
   "cell_type": "code",
   "execution_count": null,
   "metadata": {},
   "outputs": [],
   "source": [
    "count = 0\n",
    "for file in files:\n",
    "    print(file)\n",
    "    count += 1\n",
    "    show_wave_n_spec(file)"
   ]
  },
  {
   "cell_type": "code",
   "execution_count": null,
   "metadata": {},
   "outputs": [],
   "source": [
    "files = []\n",
    "\n",
    "for filename in glob.glob(os.path.join('C:/Users/Admin/Desktop/Desktop/street_music/',\"*.wav\")):\n",
    "    print(filename)\n",
    "    files.append(filename)"
   ]
  },
  {
   "cell_type": "code",
   "execution_count": null,
   "metadata": {},
   "outputs": [],
   "source": [
    "count = 0\n",
    "for file in files:\n",
    "    print(file)\n",
    "    count += 1\n",
    "    show_wave_n_spec(file)"
   ]
  },
  {
   "cell_type": "code",
   "execution_count": null,
   "metadata": {
    "scrolled": true
   },
   "outputs": [],
   "source": [
    "files = []\n",
    "\n",
    "for filename in glob.glob(os.path.join('C:/Users/Admin/Desktop/Desktop/street_music/',\"*.wav\")):\n",
    "    print(filename)\n",
    "    files.append(filename)"
   ]
  },
  {
   "cell_type": "code",
   "execution_count": null,
   "metadata": {},
   "outputs": [],
   "source": [
    "count = 0\n",
    "for file in files:\n",
    "    print(file)\n",
    "    count += 1\n",
    "    show_wave_n_spec(file)    \n"
   ]
  },
  {
   "cell_type": "code",
   "execution_count": null,
   "metadata": {},
   "outputs": [],
   "source": [
    "files = []\n",
    "\n",
    "for filename in glob.glob(os.path.join('C:/Users/Admin/Desktop/Desktop/street_music/',\"*.wav\")):\n",
    "    print(filename)\n",
    "    files.append(filename)"
   ]
  },
  {
   "cell_type": "code",
   "execution_count": null,
   "metadata": {},
   "outputs": [],
   "source": [
    "count = 0\n",
    "for file in files:\n",
    "    print(file)\n",
    "    count += 1\n",
    "    show_wave_n_spec(file) "
   ]
  },
  {
   "cell_type": "code",
   "execution_count": null,
   "metadata": {},
   "outputs": [],
   "source": [
    "files = []\n",
    "\n",
    "for filename in glob.glob(os.path.join('C:/Users/Admin/Desktop/Desktop/street_music/',\"*.wav\")):\n",
    "    print(filename)\n",
    "    files.append(filename)"
   ]
  },
  {
   "cell_type": "code",
   "execution_count": null,
   "metadata": {},
   "outputs": [],
   "source": [
    "count = 0\n",
    "for file in files:\n",
    "    print(file)\n",
    "    count += 1\n",
    "    show_wave_n_spec(file)  "
   ]
  },
  {
   "cell_type": "code",
   "execution_count": null,
   "metadata": {},
   "outputs": [],
   "source": [
    "files = []\n",
    "\n",
    "for filename in glob.glob(os.path.join('C:/Users/Admin/Desktop/Desktop/street_music/',\"*.wav\")):\n",
    "    print(filename)\n",
    "    files.append(filename)"
   ]
  },
  {
   "cell_type": "code",
   "execution_count": null,
   "metadata": {},
   "outputs": [],
   "source": [
    "count = 0\n",
    "for file in files:\n",
    "    print(file)\n",
    "    count += 1\n",
    "    show_wave_n_spec(file)"
   ]
  },
  {
   "cell_type": "code",
   "execution_count": null,
   "metadata": {},
   "outputs": [],
   "source": [
    "files = []\n",
    "\n",
    "for filename in glob.glob(os.path.join('C:/Users/Admin/Desktop/Desktop/street_music/',\"*.wav\")):\n",
    "    print(filename)\n",
    "    files.append(filename)"
   ]
  },
  {
   "cell_type": "code",
   "execution_count": null,
   "metadata": {},
   "outputs": [],
   "source": [
    "count = 0\n",
    "for file in files:\n",
    "    print(file)\n",
    "    count += 1\n",
    "    show_wave_n_spec(file)"
   ]
  },
  {
   "cell_type": "code",
   "execution_count": null,
   "metadata": {},
   "outputs": [],
   "source": [
    "files = []\n",
    "\n",
    "for filename in glob.glob(os.path.join('C:/Users/Admin/Desktop/Desktop/street_music/',\"*.wav\")):\n",
    "    print(filename)\n",
    "    files.append(filename)"
   ]
  },
  {
   "cell_type": "code",
   "execution_count": null,
   "metadata": {},
   "outputs": [],
   "source": [
    "count = 0\n",
    "for file in files:\n",
    "    print(file)\n",
    "    count += 1\n",
    "    show_wave_n_spec(file)  "
   ]
  },
  {
   "cell_type": "markdown",
   "metadata": {},
   "source": [
    "# Extract the images from siren "
   ]
  },
  {
   "cell_type": "code",
   "execution_count": null,
   "metadata": {},
   "outputs": [],
   "source": [
    "files = []\n",
    "\n",
    "for filename in glob.glob(os.path.join('C:/Users/Admin/Desktop/Desktop/Siren_pics/',\"*.wav\")):\n",
    "    print(filename)\n",
    "    files.append(filename)"
   ]
  },
  {
   "cell_type": "code",
   "execution_count": null,
   "metadata": {},
   "outputs": [],
   "source": [
    "len(files)"
   ]
  },
  {
   "cell_type": "code",
   "execution_count": null,
   "metadata": {},
   "outputs": [],
   "source": [
    "count = 0\n",
    "for file in files:\n",
    "    print(file)\n",
    "    count += 1\n",
    "    show_wave_n_spec(file)   "
   ]
  },
  {
   "cell_type": "code",
   "execution_count": null,
   "metadata": {},
   "outputs": [],
   "source": [
    "files = []\n",
    "\n",
    "for filename in glob.glob(os.path.join('C:/Users/Admin/Desktop/Desktop/siren/',\"*.wav\")):\n",
    "    print(filename)\n",
    "    files.append(filename)"
   ]
  },
  {
   "cell_type": "code",
   "execution_count": null,
   "metadata": {},
   "outputs": [],
   "source": [
    "count = 0\n",
    "for file in files:\n",
    "    print(file)\n",
    "    count += 1\n",
    "    show_wave_n_spec(file) "
   ]
  },
  {
   "cell_type": "code",
   "execution_count": null,
   "metadata": {},
   "outputs": [],
   "source": [
    "files[count - 1]"
   ]
  },
  {
   "cell_type": "code",
   "execution_count": null,
   "metadata": {},
   "outputs": [],
   "source": [
    "del(files[count - 1])"
   ]
  },
  {
   "cell_type": "code",
   "execution_count": null,
   "metadata": {},
   "outputs": [],
   "source": [
    "count = 0\n",
    "for file in files:\n",
    "    print(file)\n",
    "    count += 1\n",
    "    show_wave_n_spec(file)  "
   ]
  },
  {
   "cell_type": "code",
   "execution_count": null,
   "metadata": {},
   "outputs": [],
   "source": [
    "def show_wave_n_spec2(speech):\n",
    "    spf = wave.open(speech,'r')\n",
    "    sound_info = spf.readframes(-1)\n",
    "    sound_info = fromstring(sound_info,'Int16')\n",
    "    \n",
    "    f = spf.getframerate()\n",
    "    \n",
    "    subplot(211)\n",
    "    plot?\n",
    "    plot(sound_info)\n",
    "    \n",
    "    filename = speech.split('.')[0]\n",
    "    \n",
    "    savefig(filename + \".png\")\n",
    "    show()\n",
    "    spf.close()\n",
    "\n",
    "    "
   ]
  },
  {
   "cell_type": "code",
   "execution_count": null,
   "metadata": {},
   "outputs": [],
   "source": [
    "file = 'C:/Users/Admin/Desktop/Desktop/siren/159755.wav'"
   ]
  },
  {
   "cell_type": "code",
   "execution_count": null,
   "metadata": {},
   "outputs": [],
   "source": [
    "show_wave_n_spec2(file)"
   ]
  },
  {
   "cell_type": "code",
   "execution_count": null,
   "metadata": {},
   "outputs": [],
   "source": [
    "files = []\n",
    "\n",
    "for filename in glob.glob(os.path.join('C:/Users/Admin/Desktop/Desktop/Siren_pics/',\"*.wav\")):\n",
    "    print(filename)\n",
    "    files.append(filename)"
   ]
  },
  {
   "cell_type": "code",
   "execution_count": null,
   "metadata": {},
   "outputs": [],
   "source": [
    "len(files)"
   ]
  },
  {
   "cell_type": "code",
   "execution_count": null,
   "metadata": {},
   "outputs": [],
   "source": [
    "len(files[1:12])"
   ]
  },
  {
   "cell_type": "code",
   "execution_count": null,
   "metadata": {},
   "outputs": [],
   "source": [
    "count = 0\n",
    "for file in files[1:12]:\n",
    "    print(file)\n",
    "    count += 1\n",
    "    show_wave_n_spec(file)  "
   ]
  },
  {
   "cell_type": "code",
   "execution_count": null,
   "metadata": {},
   "outputs": [],
   "source": [
    "files = []\n",
    "\n",
    "for filename in glob.glob(os.path.join('C:/Users/Admin/Desktop/Desktop/Siren_pics/',\"*.wav\")):\n",
    "    print(filename)\n",
    "    files.append(filename)"
   ]
  },
  {
   "cell_type": "code",
   "execution_count": null,
   "metadata": {},
   "outputs": [],
   "source": [
    "count = 0\n",
    "for file in files:\n",
    "    print(file)\n",
    "    count += 1\n",
    "    show_wave_n_spec(file)    "
   ]
  },
  {
   "cell_type": "code",
   "execution_count": null,
   "metadata": {},
   "outputs": [],
   "source": [
    "del(files[count - 1])"
   ]
  },
  {
   "cell_type": "code",
   "execution_count": null,
   "metadata": {},
   "outputs": [],
   "source": [
    "count = 0\n",
    "for file in files:\n",
    "    print(file)\n",
    "    count += 1\n",
    "    show_wave_n_spec(file)    "
   ]
  },
  {
   "cell_type": "markdown",
   "metadata": {},
   "source": [
    "# Prepare dataset for air_conditioner images"
   ]
  },
  {
   "cell_type": "code",
   "execution_count": null,
   "metadata": {},
   "outputs": [],
   "source": [
    "files = []\n",
    "\n",
    "for filename in glob.glob(os.path.join('C:/Users/Admin/Desktop/Desktop/air_pics/',\"*.wav\")):\n",
    "    print(filename)\n",
    "    files.append(filename)"
   ]
  },
  {
   "cell_type": "code",
   "execution_count": null,
   "metadata": {
    "scrolled": false
   },
   "outputs": [],
   "source": [
    "count = 0\n",
    "for file in files:\n",
    "    print(file)\n",
    "    count += 1\n",
    "    show_wave_n_spec(file)    "
   ]
  },
  {
   "cell_type": "code",
   "execution_count": null,
   "metadata": {},
   "outputs": [],
   "source": [
    "files = []\n",
    "\n",
    "for filename in glob.glob(os.path.join('C:/Users/Admin/Desktop/Desktop/air_pics/',\"*.wav\")):\n",
    "    print(filename)\n",
    "    files.append(filename)"
   ]
  },
  {
   "cell_type": "code",
   "execution_count": null,
   "metadata": {},
   "outputs": [],
   "source": [
    "count = 0\n",
    "for file in files:\n",
    "    print(file)\n",
    "    count += 1\n",
    "    show_wave_n_spec(file) "
   ]
  },
  {
   "cell_type": "code",
   "execution_count": null,
   "metadata": {},
   "outputs": [],
   "source": [
    "files = []\n",
    "\n",
    "for filename in glob.glob(os.path.join('C:/Users/Admin/Desktop/Desktop/air_pics/',\"*.wav\")):\n",
    "    print(filename)\n",
    "    files.append(filename)"
   ]
  },
  {
   "cell_type": "code",
   "execution_count": null,
   "metadata": {},
   "outputs": [],
   "source": [
    "count = 0\n",
    "for file in files:\n",
    "    print(file)\n",
    "    count += 1\n",
    "    show_wave_n_spec(file)"
   ]
  },
  {
   "cell_type": "markdown",
   "metadata": {},
   "source": [
    "# Extract images from car_horn wave files"
   ]
  },
  {
   "cell_type": "code",
   "execution_count": null,
   "metadata": {},
   "outputs": [],
   "source": [
    "files = []\n",
    "\n",
    "for filename in glob.glob(os.path.join('C:/Users/Admin/Desktop/Desktop/Car_horn/',\"*.wav\")):\n",
    "    print(filename)\n",
    "    files.append(filename)"
   ]
  },
  {
   "cell_type": "code",
   "execution_count": null,
   "metadata": {},
   "outputs": [],
   "source": [
    "count = 0\n",
    "for file in files:\n",
    "    print(file)\n",
    "    count += 1\n",
    "    show_wave_n_spec(file)   "
   ]
  },
  {
   "cell_type": "code",
   "execution_count": null,
   "metadata": {},
   "outputs": [],
   "source": [
    "files = []\n",
    "\n",
    "for filename in glob.glob(os.path.join('C:/Users/Admin/Desktop/Desktop/Car_horn/',\"*.wav\")):\n",
    "    print(filename)\n",
    "    files.append(filename)"
   ]
  },
  {
   "cell_type": "code",
   "execution_count": null,
   "metadata": {},
   "outputs": [],
   "source": [
    "del(files[-1])"
   ]
  },
  {
   "cell_type": "code",
   "execution_count": null,
   "metadata": {},
   "outputs": [],
   "source": [
    "count = 0\n",
    "for file in files:\n",
    "    print(file)\n",
    "    count += 1\n",
    "    show_wave_n_spec(file) "
   ]
  },
  {
   "cell_type": "code",
   "execution_count": null,
   "metadata": {},
   "outputs": [],
   "source": [
    "files = []\n",
    "\n",
    "for filename in glob.glob(os.path.join('C:/Users/Admin/Desktop/Desktop/Car_horn/',\"*.wav\")):\n",
    "    print(filename)\n",
    "    files.append(filename)"
   ]
  },
  {
   "cell_type": "code",
   "execution_count": null,
   "metadata": {},
   "outputs": [],
   "source": [
    "del(files[-1])"
   ]
  },
  {
   "cell_type": "code",
   "execution_count": null,
   "metadata": {},
   "outputs": [],
   "source": [
    "files"
   ]
  },
  {
   "cell_type": "code",
   "execution_count": null,
   "metadata": {},
   "outputs": [],
   "source": [
    "count = 0\n",
    "for file in files:\n",
    "    print(file)\n",
    "    count += 1\n",
    "    show_wave_n_spec(file)"
   ]
  },
  {
   "cell_type": "code",
   "execution_count": null,
   "metadata": {},
   "outputs": [],
   "source": [
    "files = []\n",
    "\n",
    "for filename in glob.glob(os.path.join('C:/Users/Admin/Desktop/Desktop/Car_horn/',\"*.wav\")):\n",
    "    print(filename)\n",
    "    files.append(filename)"
   ]
  },
  {
   "cell_type": "code",
   "execution_count": null,
   "metadata": {},
   "outputs": [],
   "source": [
    "del(files[-1])"
   ]
  },
  {
   "cell_type": "code",
   "execution_count": null,
   "metadata": {},
   "outputs": [],
   "source": [
    "count = 0\n",
    "for file in files:\n",
    "    print(file)\n",
    "    count += 1\n",
    "    show_wave_n_spec(file)  "
   ]
  },
  {
   "cell_type": "code",
   "execution_count": null,
   "metadata": {},
   "outputs": [],
   "source": [
    "files = []\n",
    "\n",
    "for filename in glob.glob(os.path.join('C:/Users/Admin/Desktop/Desktop/Car_horn/',\"*.wav\")):\n",
    "    print(filename)\n",
    "    files.append(filename)"
   ]
  },
  {
   "cell_type": "code",
   "execution_count": null,
   "metadata": {},
   "outputs": [],
   "source": [
    "del(files[-1])"
   ]
  },
  {
   "cell_type": "code",
   "execution_count": null,
   "metadata": {},
   "outputs": [],
   "source": [
    "count = 0\n",
    "for file in files:\n",
    "    print(file)\n",
    "    count += 1\n",
    "    show_wave_n_spec(file)"
   ]
  },
  {
   "cell_type": "code",
   "execution_count": null,
   "metadata": {},
   "outputs": [],
   "source": [
    "del(files[count - 1])"
   ]
  },
  {
   "cell_type": "code",
   "execution_count": null,
   "metadata": {},
   "outputs": [],
   "source": [
    "count = 0\n",
    "for file in files:\n",
    "    print(file)\n",
    "    count += 1\n",
    "    show_wave_n_spec(file)"
   ]
  },
  {
   "cell_type": "code",
   "execution_count": null,
   "metadata": {},
   "outputs": [],
   "source": [
    "files = []\n",
    "\n",
    "for filename in glob.glob(os.path.join('C:/Users/Admin/Desktop/Desktop/Car_horn/',\"*.wav\")):\n",
    "    print(filename)\n",
    "    files.append(filename)"
   ]
  },
  {
   "cell_type": "code",
   "execution_count": null,
   "metadata": {},
   "outputs": [],
   "source": [
    "del(files[1])"
   ]
  },
  {
   "cell_type": "code",
   "execution_count": null,
   "metadata": {
    "scrolled": false
   },
   "outputs": [],
   "source": [
    "count = 0\n",
    "for file in files:\n",
    "    print(file)\n",
    "    count += 1\n",
    "    show_wave_n_spec(file) "
   ]
  },
  {
   "cell_type": "code",
   "execution_count": null,
   "metadata": {},
   "outputs": [],
   "source": [
    "files = []\n",
    "\n",
    "for filename in glob.glob(os.path.join('C:/Users/Admin/Desktop/Desktop/Car_horn/',\"*.wav\")):\n",
    "    print(filename)\n",
    "    files.append(filename)"
   ]
  },
  {
   "cell_type": "code",
   "execution_count": null,
   "metadata": {},
   "outputs": [],
   "source": [
    "count = 0\n",
    "for file in files:\n",
    "    print(file)\n",
    "    count += 1\n",
    "    show_wave_n_spec(file)"
   ]
  },
  {
   "cell_type": "code",
   "execution_count": null,
   "metadata": {},
   "outputs": [],
   "source": [
    "files = []\n",
    "\n",
    "for filename in glob.glob(os.path.join('C:/Users/Admin/Desktop/Desktop/Car_horn/',\"*.wav\")):\n",
    "    print(filename)\n",
    "    files.append(filename)\n"
   ]
  },
  {
   "cell_type": "code",
   "execution_count": null,
   "metadata": {},
   "outputs": [],
   "source": [
    "count = 0\n",
    "for file in files:\n",
    "    print(file)\n",
    "    count += 1\n",
    "    show_wave_n_spec(file) "
   ]
  },
  {
   "cell_type": "code",
   "execution_count": null,
   "metadata": {},
   "outputs": [],
   "source": [
    "files = []\n",
    "\n",
    "for filename in glob.glob(os.path.join('C:/Users/Admin/Desktop/Desktop/Car_horn/',\"*.wav\")):\n",
    "    print(filename)\n",
    "    files.append(filename)"
   ]
  },
  {
   "cell_type": "code",
   "execution_count": null,
   "metadata": {},
   "outputs": [],
   "source": [
    "count = 0\n",
    "for file in files:\n",
    "    print(file)\n",
    "    count += 1\n",
    "    show_wave_n_spec(file) "
   ]
  },
  {
   "cell_type": "markdown",
   "metadata": {},
   "source": [
    "# Extract images from dog_bark files"
   ]
  },
  {
   "cell_type": "code",
   "execution_count": null,
   "metadata": {},
   "outputs": [],
   "source": [
    "files = []\n",
    "\n",
    "for filename in glob.glob(os.path.join('C:/Users/Admin/Desktop/Desktop/dog_bark/',\"*.wav\")):\n",
    "    print(filename)\n",
    "    files.append(filename)\n"
   ]
  },
  {
   "cell_type": "code",
   "execution_count": null,
   "metadata": {},
   "outputs": [],
   "source": [
    "count = 0\n",
    "for file in files:\n",
    "    print(file)\n",
    "    count += 1\n",
    "    show_wave_n_spec(file) "
   ]
  },
  {
   "cell_type": "code",
   "execution_count": null,
   "metadata": {},
   "outputs": [],
   "source": [
    "del(files[count - 1])"
   ]
  },
  {
   "cell_type": "code",
   "execution_count": null,
   "metadata": {},
   "outputs": [],
   "source": [
    "count = 0\n",
    "for file in files:\n",
    "    print(file)\n",
    "    count += 1\n",
    "    show_wave_n_spec(file) "
   ]
  },
  {
   "cell_type": "code",
   "execution_count": null,
   "metadata": {},
   "outputs": [],
   "source": [
    "del(files[count-1])"
   ]
  },
  {
   "cell_type": "code",
   "execution_count": null,
   "metadata": {},
   "outputs": [],
   "source": [
    "count = 0\n",
    "for file in files:\n",
    "    print(file)\n",
    "    count += 1\n",
    "    show_wave_n_spec(file) "
   ]
  },
  {
   "cell_type": "code",
   "execution_count": null,
   "metadata": {},
   "outputs": [],
   "source": [
    "del(files[count - 1])"
   ]
  },
  {
   "cell_type": "code",
   "execution_count": null,
   "metadata": {
    "scrolled": false
   },
   "outputs": [],
   "source": [
    "count = 0\n",
    "for file in files:\n",
    "    print(file)\n",
    "    count += 1\n",
    "    show_wave_n_spec(file) "
   ]
  },
  {
   "cell_type": "code",
   "execution_count": null,
   "metadata": {},
   "outputs": [],
   "source": [
    "files = []\n",
    "\n",
    "for filename in glob.glob(os.path.join('C:/Users/Admin/Desktop/Desktop/dog_bark/',\"*.wav\")):\n",
    "    print(filename)\n",
    "    files.append(filename)"
   ]
  },
  {
   "cell_type": "code",
   "execution_count": null,
   "metadata": {},
   "outputs": [],
   "source": [
    "count = 0\n",
    "for file in files:\n",
    "    print(file)\n",
    "    count += 1\n",
    "    show_wave_n_spec(file)"
   ]
  },
  {
   "cell_type": "code",
   "execution_count": null,
   "metadata": {},
   "outputs": [],
   "source": [
    "del(files[count - 1])"
   ]
  },
  {
   "cell_type": "code",
   "execution_count": null,
   "metadata": {},
   "outputs": [],
   "source": [
    "count = 0\n",
    "for file in files:\n",
    "    print(file)\n",
    "    count += 1\n",
    "    show_wave_n_spec(file)"
   ]
  },
  {
   "cell_type": "code",
   "execution_count": null,
   "metadata": {},
   "outputs": [],
   "source": [
    "del(files[count - 1])"
   ]
  },
  {
   "cell_type": "code",
   "execution_count": null,
   "metadata": {
    "scrolled": false
   },
   "outputs": [],
   "source": [
    "count = 0\n",
    "for file in files:\n",
    "    print(file)\n",
    "    count += 1\n",
    "    show_wave_n_spec(file)"
   ]
  },
  {
   "cell_type": "code",
   "execution_count": null,
   "metadata": {},
   "outputs": [],
   "source": [
    "files = []\n",
    "\n",
    "for filename in glob.glob(os.path.join('C:/Users/Admin/Desktop/Desktop/dog_bark/',\"*.wav\")):\n",
    "    print(filename)\n",
    "    files.append(filename)\n"
   ]
  },
  {
   "cell_type": "code",
   "execution_count": null,
   "metadata": {
    "scrolled": false
   },
   "outputs": [],
   "source": [
    "count = 0\n",
    "for file in files:\n",
    "    print(file)\n",
    "    count += 1\n",
    "    show_wave_n_spec(file)"
   ]
  },
  {
   "cell_type": "code",
   "execution_count": null,
   "metadata": {},
   "outputs": [],
   "source": [
    "del(files[count - 1])"
   ]
  },
  {
   "cell_type": "code",
   "execution_count": null,
   "metadata": {
    "scrolled": false
   },
   "outputs": [],
   "source": [
    "count = 0\n",
    "for file in files:\n",
    "    print(file)\n",
    "    count += 1\n",
    "    show_wave_n_spec(file)"
   ]
  },
  {
   "cell_type": "code",
   "execution_count": null,
   "metadata": {},
   "outputs": [],
   "source": [
    "del(files[count -1 ])"
   ]
  },
  {
   "cell_type": "code",
   "execution_count": null,
   "metadata": {
    "scrolled": false
   },
   "outputs": [],
   "source": [
    "count = 0\n",
    "for file in files:\n",
    "    print(file)\n",
    "    count += 1\n",
    "    show_wave_n_spec(file)"
   ]
  },
  {
   "cell_type": "code",
   "execution_count": null,
   "metadata": {},
   "outputs": [],
   "source": [
    "files = []\n",
    "\n",
    "for filename in glob.glob(os.path.join('C:/Users/Admin/Desktop/Desktop/dog_bark/',\"*.wav\")):\n",
    "    print(filename)\n",
    "    files.append(filename)"
   ]
  },
  {
   "cell_type": "code",
   "execution_count": null,
   "metadata": {
    "scrolled": false
   },
   "outputs": [],
   "source": [
    "count = 0\n",
    "for file in files:\n",
    "    print(file)\n",
    "    count += 1\n",
    "    show_wave_n_spec(file)    "
   ]
  },
  {
   "cell_type": "code",
   "execution_count": null,
   "metadata": {},
   "outputs": [],
   "source": [
    "files = []\n",
    "\n",
    "for filename in glob.glob(os.path.join('C:/Users/Admin/Desktop/Desktop/dog_bark/',\"*.wav\")):\n",
    "    print(filename)\n",
    "    files.append(filename)"
   ]
  },
  {
   "cell_type": "code",
   "execution_count": null,
   "metadata": {
    "scrolled": false
   },
   "outputs": [],
   "source": [
    "count = 0\n",
    "for file in files:\n",
    "    print(file)\n",
    "    count += 1\n",
    "    show_wave_n_spec(file)  "
   ]
  },
  {
   "cell_type": "code",
   "execution_count": null,
   "metadata": {},
   "outputs": [],
   "source": [
    "files = []\n",
    "\n",
    "for filename in glob.glob(os.path.join('C:/Users/Admin/Desktop/Desktop/dog_bark/',\"*.wav\")):\n",
    "    print(filename)\n",
    "    files.append(filename)"
   ]
  },
  {
   "cell_type": "code",
   "execution_count": null,
   "metadata": {},
   "outputs": [],
   "source": [
    "count = 0\n",
    "for file in files:\n",
    "    print(file)\n",
    "    count += 1\n",
    "    show_wave_n_spec(file)  "
   ]
  },
  {
   "cell_type": "code",
   "execution_count": null,
   "metadata": {},
   "outputs": [],
   "source": [
    "del(files[count-1])"
   ]
  },
  {
   "cell_type": "code",
   "execution_count": null,
   "metadata": {},
   "outputs": [],
   "source": [
    "count = 0\n",
    "for file in files:\n",
    "    print(file)\n",
    "    count += 1\n",
    "    show_wave_n_spec(file)  "
   ]
  },
  {
   "cell_type": "code",
   "execution_count": null,
   "metadata": {},
   "outputs": [],
   "source": [
    "files = []\n",
    "\n",
    "for filename in glob.glob(os.path.join('C:/Users/Admin/Desktop/Desktop/dog_bark/',\"*.wav\")):\n",
    "    print(filename)\n",
    "    files.append(filename)"
   ]
  },
  {
   "cell_type": "code",
   "execution_count": null,
   "metadata": {},
   "outputs": [],
   "source": [
    "count = 0\n",
    "for file in files:\n",
    "    print(file)\n",
    "    count += 1\n",
    "    show_wave_n_spec(file)    \n"
   ]
  },
  {
   "cell_type": "code",
   "execution_count": null,
   "metadata": {},
   "outputs": [],
   "source": [
    "files = []\n",
    "\n",
    "for filename in glob.glob(os.path.join('C:/Users/Admin/Desktop/Desktop/dog_bark/',\"*.wav\")):\n",
    "    print(filename)\n",
    "    files.append(filename)\n"
   ]
  },
  {
   "cell_type": "code",
   "execution_count": null,
   "metadata": {},
   "outputs": [],
   "source": [
    "count = 0\n",
    "for file in files:\n",
    "    print(file)\n",
    "    count += 1\n",
    "    show_wave_n_spec(file) "
   ]
  },
  {
   "cell_type": "code",
   "execution_count": null,
   "metadata": {},
   "outputs": [],
   "source": [
    "files = []\n",
    "\n",
    "for filename in glob.glob(os.path.join('C:/Users/Admin/Desktop/Desktop/dog_bark/',\"*.wav\")):\n",
    "    print(filename)\n",
    "    files.append(filename)"
   ]
  },
  {
   "cell_type": "code",
   "execution_count": null,
   "metadata": {},
   "outputs": [],
   "source": [
    "count = 0\n",
    "for file in files:\n",
    "    print(file)\n",
    "    count += 1\n",
    "    show_wave_n_spec(file)   "
   ]
  },
  {
   "cell_type": "code",
   "execution_count": null,
   "metadata": {},
   "outputs": [],
   "source": [
    "del(files[count-1])"
   ]
  },
  {
   "cell_type": "code",
   "execution_count": null,
   "metadata": {},
   "outputs": [],
   "source": [
    "count = 0\n",
    "for file in files:\n",
    "    print(file)\n",
    "    count += 1\n",
    "    show_wave_n_spec(file)   "
   ]
  },
  {
   "cell_type": "code",
   "execution_count": null,
   "metadata": {},
   "outputs": [],
   "source": [
    "files = []\n",
    "\n",
    "for filename in glob.glob(os.path.join('C:/Users/Admin/Desktop/Desktop/dog_bark/',\"*.wav\")):\n",
    "    print(filename)\n",
    "    files.append(filename)"
   ]
  },
  {
   "cell_type": "code",
   "execution_count": null,
   "metadata": {},
   "outputs": [],
   "source": [
    "count = 0\n",
    "for file in files:\n",
    "    print(file)\n",
    "    count += 1\n",
    "    show_wave_n_spec(file)    "
   ]
  },
  {
   "cell_type": "code",
   "execution_count": null,
   "metadata": {},
   "outputs": [],
   "source": [
    "files = []\n",
    "\n",
    "for filename in glob.glob(os.path.join('C:/Users/Admin/Desktop/Desktop/dog_bark/',\"*.wav\")):\n",
    "    print(filename)\n",
    "    files.append(filename)"
   ]
  },
  {
   "cell_type": "code",
   "execution_count": null,
   "metadata": {},
   "outputs": [],
   "source": [
    "\n",
    "count = 0\n",
    "for file in files:\n",
    "    print(file)\n",
    "    count += 1\n",
    "    show_wave_n_spec(file)"
   ]
  },
  {
   "cell_type": "code",
   "execution_count": null,
   "metadata": {},
   "outputs": [],
   "source": [
    "files = []\n",
    "\n",
    "for filename in glob.glob(os.path.join('C:/Users/Admin/Desktop/Desktop/dog_bark/',\"*.wav\")):\n",
    "    print(filename)\n",
    "    files.append(filename)\n"
   ]
  },
  {
   "cell_type": "code",
   "execution_count": null,
   "metadata": {},
   "outputs": [],
   "source": [
    "count = 0\n",
    "for file in files:\n",
    "    print(file)\n",
    "    count += 1\n",
    "    show_wave_n_spec(file)"
   ]
  },
  {
   "cell_type": "code",
   "execution_count": null,
   "metadata": {},
   "outputs": [],
   "source": [
    "files = []\n",
    "\n",
    "for filename in glob.glob(os.path.join('C:/Users/Admin/Desktop/Desktop/dog_bark/',\"*.wav\")):\n",
    "    print(filename)\n",
    "    files.append(filename)"
   ]
  },
  {
   "cell_type": "code",
   "execution_count": null,
   "metadata": {},
   "outputs": [],
   "source": [
    "count = 0\n",
    "for file in files:\n",
    "    print(file)\n",
    "    count += 1\n",
    "    show_wave_n_spec(file)"
   ]
  },
  {
   "cell_type": "code",
   "execution_count": null,
   "metadata": {},
   "outputs": [],
   "source": [
    "files = []\n",
    "\n",
    "for filename in glob.glob(os.path.join('C:/Users/Admin/Desktop/Desktop/dog_bark/',\"*.wav\")):\n",
    "    print(filename)\n",
    "    files.append(filename)"
   ]
  },
  {
   "cell_type": "code",
   "execution_count": null,
   "metadata": {
    "scrolled": false
   },
   "outputs": [],
   "source": [
    "count = 0\n",
    "for file in files:\n",
    "    print(file)\n",
    "    count += 1\n",
    "    show_wave_n_spec(file)  "
   ]
  },
  {
   "cell_type": "code",
   "execution_count": null,
   "metadata": {},
   "outputs": [],
   "source": [
    "files = []\n",
    "\n",
    "for filename in glob.glob(os.path.join('C:/Users/Admin/Desktop/Desktop/dog_bark/',\"*.wav\")):\n",
    "    print(filename)\n",
    "    files.append(filename)"
   ]
  },
  {
   "cell_type": "code",
   "execution_count": null,
   "metadata": {},
   "outputs": [],
   "source": [
    "count = 0\n",
    "for file in files:\n",
    "    print(file)\n",
    "    count += 1\n",
    "    show_wave_n_spec(file) "
   ]
  },
  {
   "cell_type": "code",
   "execution_count": null,
   "metadata": {},
   "outputs": [],
   "source": [
    "files = []\n",
    "\n",
    "for filename in glob.glob(os.path.join('C:/Users/Admin/Desktop/Desktop/dog_bark/',\"*.wav\")):\n",
    "    print(filename)\n",
    "    files.append(filename)"
   ]
  },
  {
   "cell_type": "code",
   "execution_count": null,
   "metadata": {},
   "outputs": [],
   "source": [
    "count = 0\n",
    "for file in files:\n",
    "    print(file)\n",
    "    count += 1\n",
    "    show_wave_n_spec(file)    \n"
   ]
  },
  {
   "cell_type": "code",
   "execution_count": null,
   "metadata": {},
   "outputs": [],
   "source": [
    "files = []\n",
    "\n",
    "for filename in glob.glob(os.path.join('C:/Users/Admin/Desktop/Desktop/dog_bark/',\"*.wav\")):\n",
    "    print(filename)\n",
    "    files.append(filename)"
   ]
  },
  {
   "cell_type": "code",
   "execution_count": null,
   "metadata": {},
   "outputs": [],
   "source": [
    "\n",
    "count = 0\n",
    "for file in files:\n",
    "    print(file)\n",
    "    count += 1\n",
    "    show_wave_n_spec(file) "
   ]
  },
  {
   "cell_type": "markdown",
   "metadata": {},
   "source": [
    "# Extract images from engine_idling wave files"
   ]
  },
  {
   "cell_type": "code",
   "execution_count": null,
   "metadata": {},
   "outputs": [],
   "source": [
    "files = []\n",
    "\n",
    "for filename in glob.glob(os.path.join('C:/Users/Admin/Desktop/Desktop/engine/',\"*.wav\")):\n",
    "    print(filename)\n",
    "    files.append(filename)"
   ]
  },
  {
   "cell_type": "code",
   "execution_count": null,
   "metadata": {
    "scrolled": false
   },
   "outputs": [],
   "source": [
    "count = 0\n",
    "for file in files:\n",
    "    print(file)\n",
    "    count += 1\n",
    "    show_wave_n_spec(file) "
   ]
  },
  {
   "cell_type": "code",
   "execution_count": null,
   "metadata": {},
   "outputs": [],
   "source": [
    "files = []\n",
    "\n",
    "for filename in glob.glob(os.path.join('C:/Users/Admin/Desktop/Desktop/engine/',\"*.wav\")):\n",
    "    print(filename)\n",
    "    files.append(filename)\n"
   ]
  },
  {
   "cell_type": "code",
   "execution_count": null,
   "metadata": {
    "scrolled": false
   },
   "outputs": [],
   "source": [
    "count = 0\n",
    "for file in files:\n",
    "    print(file)\n",
    "    count += 1\n",
    "    show_wave_n_spec(file)    \n"
   ]
  },
  {
   "cell_type": "code",
   "execution_count": null,
   "metadata": {},
   "outputs": [],
   "source": [
    "files = []\n",
    "\n",
    "for filename in glob.glob(os.path.join('C:/Users/Admin/Desktop/Desktop/engine/',\"*.wav\")):\n",
    "    print(filename)\n",
    "    files.append(filename)"
   ]
  },
  {
   "cell_type": "code",
   "execution_count": null,
   "metadata": {
    "scrolled": false
   },
   "outputs": [],
   "source": [
    "count = 0\n",
    "for file in files:\n",
    "    print(file)\n",
    "    count += 1\n",
    "    show_wave_n_spec(file) "
   ]
  },
  {
   "cell_type": "code",
   "execution_count": null,
   "metadata": {},
   "outputs": [],
   "source": [
    "files = []\n",
    "\n",
    "for filename in glob.glob(os.path.join('C:/Users/Admin/Desktop/Desktop/engine/',\"*.wav\")):\n",
    "    print(filename)\n",
    "    files.append(filename)"
   ]
  },
  {
   "cell_type": "code",
   "execution_count": null,
   "metadata": {},
   "outputs": [],
   "source": [
    "count = 0\n",
    "for file in files:\n",
    "    print(file)\n",
    "    count += 1\n",
    "    show_wave_n_spec(file)    \n"
   ]
  },
  {
   "cell_type": "code",
   "execution_count": null,
   "metadata": {},
   "outputs": [],
   "source": [
    "files = []\n",
    "\n",
    "for filename in glob.glob(os.path.join('C:/Users/Admin/Desktop/Desktop/engine/',\"*.wav\")):\n",
    "    print(filename)\n",
    "    files.append(filename)"
   ]
  },
  {
   "cell_type": "code",
   "execution_count": null,
   "metadata": {},
   "outputs": [],
   "source": [
    "count = 0\n",
    "for file in files:\n",
    "    print(file)\n",
    "    count += 1\n",
    "    show_wave_n_spec(file)  "
   ]
  },
  {
   "cell_type": "code",
   "execution_count": null,
   "metadata": {},
   "outputs": [],
   "source": [
    "files = []\n",
    "\n",
    "for filename in glob.glob(os.path.join('C:/Users/Admin/Desktop/Desktop/engine/',\"*.wav\")):\n",
    "    print(filename)\n",
    "    files.append(filename)"
   ]
  },
  {
   "cell_type": "code",
   "execution_count": null,
   "metadata": {},
   "outputs": [],
   "source": [
    "count = 0\n",
    "for file in files:\n",
    "    print(file)\n",
    "    count += 1\n",
    "    show_wave_n_spec(file) "
   ]
  },
  {
   "cell_type": "code",
   "execution_count": null,
   "metadata": {},
   "outputs": [],
   "source": [
    "files = []\n",
    "\n",
    "for filename in glob.glob(os.path.join('C:/Users/Admin/Desktop/Desktop/engine/',\"*.wav\")):\n",
    "    print(filename)\n",
    "    files.append(filename)"
   ]
  },
  {
   "cell_type": "code",
   "execution_count": null,
   "metadata": {},
   "outputs": [],
   "source": [
    "count = 0\n",
    "for file in files:\n",
    "    print(file)\n",
    "    count += 1\n",
    "    show_wave_n_spec(file)    \n"
   ]
  },
  {
   "cell_type": "code",
   "execution_count": null,
   "metadata": {},
   "outputs": [],
   "source": [
    "files = []\n",
    "\n",
    "for filename in glob.glob(os.path.join('C:/Users/Admin/Desktop/Desktop/Gun_imgs/',\"*.wav\")):\n",
    "    print(filename)\n",
    "    files.append(filename)"
   ]
  },
  {
   "cell_type": "code",
   "execution_count": null,
   "metadata": {
    "scrolled": false
   },
   "outputs": [],
   "source": [
    "count = 0\n",
    "for file in files:\n",
    "    print(file)\n",
    "    count += 1\n",
    "    show_wave_n_spec(file) "
   ]
  },
  {
   "cell_type": "code",
   "execution_count": null,
   "metadata": {},
   "outputs": [],
   "source": [
    "files = []\n",
    "\n",
    "for filename in glob.glob(os.path.join('C:/Users/Admin/Desktop/Desktop/Gun_imgs/',\"*.wav\")):\n",
    "    print(filename)\n",
    "    files.append(filename)"
   ]
  },
  {
   "cell_type": "code",
   "execution_count": null,
   "metadata": {},
   "outputs": [],
   "source": [
    "count = 0\n",
    "for file in files:\n",
    "    print(file)\n",
    "    count += 1\n",
    "    show_wave_n_spec(file) "
   ]
  },
  {
   "cell_type": "code",
   "execution_count": null,
   "metadata": {},
   "outputs": [],
   "source": [
    "files = []\n",
    "\n",
    "for filename in glob.glob(os.path.join('C:/Users/Admin/Desktop/Desktop/Gun_imgs/',\"*.wav\")):\n",
    "    print(filename)\n",
    "    files.append(filename)\n"
   ]
  },
  {
   "cell_type": "code",
   "execution_count": null,
   "metadata": {},
   "outputs": [],
   "source": [
    "count = 0\n",
    "for file in files:\n",
    "    print(file)\n",
    "    count += 1\n",
    "    show_wave_n_spec(file)    "
   ]
  },
  {
   "cell_type": "markdown",
   "metadata": {},
   "source": [
    "# Extract images from jackhammer wave files"
   ]
  },
  {
   "cell_type": "code",
   "execution_count": null,
   "metadata": {},
   "outputs": [],
   "source": [
    "files = []\n",
    "\n",
    "for filename in glob.glob(os.path.join('C:/Users/Admin/Desktop/Desktop/jack_pics/',\"*.wav\")):\n",
    "    print(filename)\n",
    "    files.append(filename)"
   ]
  },
  {
   "cell_type": "code",
   "execution_count": null,
   "metadata": {},
   "outputs": [],
   "source": [
    "len(files)"
   ]
  },
  {
   "cell_type": "code",
   "execution_count": null,
   "metadata": {
    "scrolled": false
   },
   "outputs": [],
   "source": [
    "count = 0\n",
    "for file in files:\n",
    "    print(file)\n",
    "    count += 1\n",
    "    show_wave_n_spec(file)  "
   ]
  },
  {
   "cell_type": "code",
   "execution_count": null,
   "metadata": {},
   "outputs": [],
   "source": [
    "del(files[count - 1])"
   ]
  },
  {
   "cell_type": "code",
   "execution_count": null,
   "metadata": {
    "scrolled": false
   },
   "outputs": [],
   "source": [
    "count = 0\n",
    "for file in files:\n",
    "    print(file)\n",
    "    count += 1\n",
    "    show_wave_n_spec(file)  "
   ]
  },
  {
   "cell_type": "code",
   "execution_count": null,
   "metadata": {},
   "outputs": [],
   "source": [
    "files = []\n",
    "\n",
    "for filename in glob.glob(os.path.join('C:/Users/Admin/Desktop/Desktop/jack_pics/',\"*.wav\")):\n",
    "    print(filename)\n",
    "    files.append(filename)"
   ]
  },
  {
   "cell_type": "code",
   "execution_count": null,
   "metadata": {},
   "outputs": [],
   "source": [
    "count = 0\n",
    "for file in files:\n",
    "    print(file)\n",
    "    count += 1\n",
    "    show_wave_n_spec(file)"
   ]
  },
  {
   "cell_type": "code",
   "execution_count": null,
   "metadata": {},
   "outputs": [],
   "source": [
    "files = []\n",
    "\n",
    "for filename in glob.glob(os.path.join('C:/Users/Admin/Desktop/Desktop/jack_pics/',\"*.wav\")):\n",
    "    print(filename)\n",
    "    files.append(filename)"
   ]
  },
  {
   "cell_type": "code",
   "execution_count": null,
   "metadata": {},
   "outputs": [],
   "source": [
    "count = 0\n",
    "for file in files:\n",
    "    print(file)\n",
    "    count += 1\n",
    "    show_wave_n_spec(file)  "
   ]
  },
  {
   "cell_type": "code",
   "execution_count": 3,
   "metadata": {},
   "outputs": [
    {
     "name": "stdout",
     "output_type": "stream",
     "text": [
      "C:/Users/Admin/Desktop/Desktop/jack_pics\\148463.wav\n",
      "C:/Users/Admin/Desktop/Desktop/jack_pics\\62837.wav\n"
     ]
    }
   ],
   "source": [
    "files = []\n",
    "\n",
    "for filename in glob.glob(os.path.join('C:/Users/Admin/Desktop/Desktop/jack_pics/',\"*.wav\")):\n",
    "    print(filename)\n",
    "    files.append(filename)"
   ]
  },
  {
   "cell_type": "code",
   "execution_count": 4,
   "metadata": {},
   "outputs": [
    {
     "name": "stdout",
     "output_type": "stream",
     "text": [
      "C:/Users/Admin/Desktop/Desktop/jack_pics\\148463.wav\n"
     ]
    },
    {
     "name": "stderr",
     "output_type": "stream",
     "text": [
      "C:\\Users\\Admin\\Anaconda3\\lib\\site-packages\\ipykernel_launcher.py:4: DeprecationWarning: Numeric-style type codes are deprecated and will result in an error in the future.\n",
      "  after removing the cwd from sys.path.\n",
      "C:\\Users\\Admin\\Anaconda3\\lib\\site-packages\\ipykernel_launcher.py:4: DeprecationWarning: The binary mode of fromstring is deprecated, as it behaves surprisingly on unicode inputs. Use frombuffer instead\n",
      "  after removing the cwd from sys.path.\n"
     ]
    },
    {
     "ename": "ValueError",
     "evalue": "string size must be a multiple of element size",
     "output_type": "error",
     "traceback": [
      "\u001b[1;31m---------------------------------------------------------------------------\u001b[0m",
      "\u001b[1;31mValueError\u001b[0m                                Traceback (most recent call last)",
      "\u001b[1;32m<ipython-input-4-d99806f4ec18>\u001b[0m in \u001b[0;36m<module>\u001b[1;34m()\u001b[0m\n\u001b[0;32m      3\u001b[0m     \u001b[0mprint\u001b[0m\u001b[1;33m(\u001b[0m\u001b[0mfile\u001b[0m\u001b[1;33m)\u001b[0m\u001b[1;33m\u001b[0m\u001b[0m\n\u001b[0;32m      4\u001b[0m     \u001b[0mcount\u001b[0m \u001b[1;33m+=\u001b[0m \u001b[1;36m1\u001b[0m\u001b[1;33m\u001b[0m\u001b[0m\n\u001b[1;32m----> 5\u001b[1;33m     \u001b[0mshow_wave_n_spec\u001b[0m\u001b[1;33m(\u001b[0m\u001b[0mfile\u001b[0m\u001b[1;33m)\u001b[0m\u001b[1;33m\u001b[0m\u001b[0m\n\u001b[0m",
      "\u001b[1;32m<ipython-input-2-7d054e41fcff>\u001b[0m in \u001b[0;36mshow_wave_n_spec\u001b[1;34m(speech)\u001b[0m\n\u001b[0;32m      2\u001b[0m     \u001b[0mspf\u001b[0m \u001b[1;33m=\u001b[0m \u001b[0mwave\u001b[0m\u001b[1;33m.\u001b[0m\u001b[0mopen\u001b[0m\u001b[1;33m(\u001b[0m\u001b[0mspeech\u001b[0m\u001b[1;33m,\u001b[0m\u001b[1;34m'r'\u001b[0m\u001b[1;33m)\u001b[0m\u001b[1;33m\u001b[0m\u001b[0m\n\u001b[0;32m      3\u001b[0m     \u001b[0msound_info\u001b[0m \u001b[1;33m=\u001b[0m \u001b[0mspf\u001b[0m\u001b[1;33m.\u001b[0m\u001b[0mreadframes\u001b[0m\u001b[1;33m(\u001b[0m\u001b[1;33m-\u001b[0m\u001b[1;36m1\u001b[0m\u001b[1;33m)\u001b[0m\u001b[1;33m\u001b[0m\u001b[0m\n\u001b[1;32m----> 4\u001b[1;33m     \u001b[0msound_info\u001b[0m \u001b[1;33m=\u001b[0m \u001b[0mfromstring\u001b[0m\u001b[1;33m(\u001b[0m\u001b[0msound_info\u001b[0m\u001b[1;33m,\u001b[0m\u001b[1;34m'Int16'\u001b[0m\u001b[1;33m)\u001b[0m\u001b[1;33m\u001b[0m\u001b[0m\n\u001b[0m\u001b[0;32m      5\u001b[0m \u001b[1;33m\u001b[0m\u001b[0m\n\u001b[0;32m      6\u001b[0m     \u001b[0mf\u001b[0m \u001b[1;33m=\u001b[0m \u001b[0mspf\u001b[0m\u001b[1;33m.\u001b[0m\u001b[0mgetframerate\u001b[0m\u001b[1;33m(\u001b[0m\u001b[1;33m)\u001b[0m\u001b[1;33m\u001b[0m\u001b[0m\n",
      "\u001b[1;31mValueError\u001b[0m: string size must be a multiple of element size"
     ]
    }
   ],
   "source": [
    "count = 0\n",
    "for file in files:\n",
    "    print(file)\n",
    "    count += 1\n",
    "    show_wave_n_spec(file) "
   ]
  },
  {
   "cell_type": "code",
   "execution_count": 5,
   "metadata": {},
   "outputs": [],
   "source": [
    "del(files[count - 1])"
   ]
  },
  {
   "cell_type": "code",
   "execution_count": 6,
   "metadata": {},
   "outputs": [
    {
     "data": {
      "text/plain": [
       "['C:/Users/Admin/Desktop/Desktop/jack_pics\\\\62837.wav']"
      ]
     },
     "execution_count": 6,
     "metadata": {},
     "output_type": "execute_result"
    }
   ],
   "source": [
    "files"
   ]
  },
  {
   "cell_type": "code",
   "execution_count": 7,
   "metadata": {},
   "outputs": [
    {
     "name": "stdout",
     "output_type": "stream",
     "text": [
      "C:/Users/Admin/Desktop/Desktop/jack_pics\\62837.wav\n"
     ]
    },
    {
     "name": "stderr",
     "output_type": "stream",
     "text": [
      "C:\\Users\\Admin\\Anaconda3\\lib\\site-packages\\ipykernel_launcher.py:4: DeprecationWarning: Numeric-style type codes are deprecated and will result in an error in the future.\n",
      "  after removing the cwd from sys.path.\n",
      "C:\\Users\\Admin\\Anaconda3\\lib\\site-packages\\ipykernel_launcher.py:4: DeprecationWarning: The binary mode of fromstring is deprecated, as it behaves surprisingly on unicode inputs. Use frombuffer instead\n",
      "  after removing the cwd from sys.path.\n"
     ]
    },
    {
     "data": {
      "image/png": "[encoded data removed]",
      "text/plain": [
       "<matplotlib.figure.Figure at 0x25db61aba90>"
      ]
     },
     "metadata": {},
     "output_type": "display_data"
    }
   ],
   "source": [
    "count = 0\n",
    "for file in files:\n",
    "    print(file)\n",
    "    count += 1\n",
    "    show_wave_n_spec(file) "
   ]
  },
  {
   "cell_type": "code",
   "execution_count": 11,
   "metadata": {},
   "outputs": [
    {
     "name": "stdout",
     "output_type": "stream",
     "text": [
      "C:/Users/Admin/Desktop/Desktop/jack_pics\\104998.wav\n",
      "C:/Users/Admin/Desktop/Desktop/jack_pics\\148463.wav\n"
     ]
    }
   ],
   "source": [
    "files = []\n",
    "\n",
    "for filename in glob.glob(os.path.join('C:/Users/Admin/Desktop/Desktop/jack_pics/',\"*.wav\")):\n",
    "    print(filename)\n",
    "    files.append(filename)"
   ]
  },
  {
   "cell_type": "code",
   "execution_count": 12,
   "metadata": {},
   "outputs": [],
   "source": [
    "del(files[1])"
   ]
  },
  {
   "cell_type": "code",
   "execution_count": 13,
   "metadata": {},
   "outputs": [
    {
     "data": {
      "text/plain": [
       "['C:/Users/Admin/Desktop/Desktop/jack_pics\\\\104998.wav']"
      ]
     },
     "execution_count": 13,
     "metadata": {},
     "output_type": "execute_result"
    }
   ],
   "source": [
    "files"
   ]
  },
  {
   "cell_type": "code",
   "execution_count": 14,
   "metadata": {
    "scrolled": true
   },
   "outputs": [
    {
     "name": "stdout",
     "output_type": "stream",
     "text": [
      "C:/Users/Admin/Desktop/Desktop/jack_pics\\104998.wav\n"
     ]
    },
    {
     "name": "stderr",
     "output_type": "stream",
     "text": [
      "C:\\Users\\Admin\\Anaconda3\\lib\\site-packages\\ipykernel_launcher.py:4: DeprecationWarning: Numeric-style type codes are deprecated and will result in an error in the future.\n",
      "  after removing the cwd from sys.path.\n",
      "C:\\Users\\Admin\\Anaconda3\\lib\\site-packages\\ipykernel_launcher.py:4: DeprecationWarning: The binary mode of fromstring is deprecated, as it behaves surprisingly on unicode inputs. Use frombuffer instead\n",
      "  after removing the cwd from sys.path.\n"
     ]
    },
    {
     "data": {
      "image/png": "[encoded data removed]",
      "text/plain": [
       "<matplotlib.figure.Figure at 0x25db8eb2ba8>"
      ]
     },
     "metadata": {},
     "output_type": "display_data"
    }
   ],
   "source": [
    "count = 0\n",
    "for file in files:\n",
    "    print(file)\n",
    "    count += 1\n",
    "    show_wave_n_spec(file)    \n"
   ]
  },
  {
   "cell_type": "code",
   "execution_count": null,
   "metadata": {},
   "outputs": [],
   "source": []
  }
 ],
 "metadata": {
  "kernelspec": {
   "display_name": "Python 3",
   "language": "python",
   "name": "python3"
  },
  "language_info": {
   "codemirror_mode": {
    "name": "ipython",
    "version": 3
   },
   "file_extension": ".py",
   "mimetype": "text/x-python",
   "name": "python",
   "nbconvert_exporter": "python",
   "pygments_lexer": "ipython3",
   "version": "3.6.4"
  }
 },
 "nbformat": 4,
 "nbformat_minor": 2
}
