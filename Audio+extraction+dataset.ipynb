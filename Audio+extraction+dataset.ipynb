{
 "cells": [
  {
   "cell_type": "markdown",
   "metadata": {},
   "source": [
    "# In this dataset, the only examples we will consider are the pure non-clapping( only 1 non-clapping human label) and pure clapping(only clapping) label."
   ]
  },
  {
   "cell_type": "code",
   "execution_count": 1,
   "metadata": {
    "collapsed": true
   },
   "outputs": [],
   "source": [
    "import os\n",
    "os.chdir('/home/anirudh/Desktop/OUR Stuff/class_labels indices')"
   ]
  },
  {
   "cell_type": "code",
   "execution_count": 2,
   "metadata": {
    "collapsed": true
   },
   "outputs": [],
   "source": [
    "import tensorflow as tf\n",
    "import numpy as np"
   ]
  },
  {
   "cell_type": "code",
   "execution_count": 3,
   "metadata": {
    "collapsed": true
   },
   "outputs": [],
   "source": [
    "class_label_index = !grep Clapping class_labels_indices.csv"
   ]
  },
  {
   "cell_type": "code",
   "execution_count": 4,
   "metadata": {},
   "outputs": [
    {
     "data": {
      "text/plain": [
       "['63,/m/0l15bq,Clapping']"
      ]
     },
     "execution_count": 4,
     "metadata": {},
     "output_type": "execute_result"
    }
   ],
   "source": [
    "class_label_index"
   ]
  },
  {
   "cell_type": "code",
   "execution_count": 5,
   "metadata": {
    "collapsed": true
   },
   "outputs": [],
   "source": [
    "examples = !grep /m/0l15bq balanced_train_segments.csv"
   ]
  },
  {
   "cell_type": "code",
   "execution_count": 6,
   "metadata": {},
   "outputs": [
    {
     "data": {
      "text/plain": [
       "['0FMdORf5iGs, 30.000, 40.000, \"/m/04rlf,/m/081rb,/m/09x0r,/m/0l15bq\"',\n",
       " '1IxBagCJeZc, 150.000, 160.000, \"/m/01j3sz,/m/09x0r,/m/0l15bq\"',\n",
       " '1_DouJRW3PM, 30.000, 40.000, \"/m/028ght,/m/09x0r,/m/0l15bq\"',\n",
       " '2y9ikTsTsl0, 30.000, 40.000, \"/m/028ght,/m/09x0r,/m/0l15bq\"',\n",
       " '3PliaLqMSqg, 30.000, 40.000, \"/m/028ght,/m/09x0r,/m/0l15bq\"',\n",
       " '3ixOXsKUufM, 30.000, 40.000, \"/m/0l15bq\"',\n",
       " '4mOTOTJLv5U, 0.000, 10.000, \"/m/09x0r,/m/0l15bq,/m/0ytgt\"',\n",
       " '7Ep2a7_sbmc, 260.000, 270.000, \"/m/09x0r,/m/0l15bq\"',\n",
       " '7SpYywlGPyM, 30.000, 40.000, \"/m/09x0r,/m/0k65p,/m/0l15bq,/m/0ytgt\"',\n",
       " 'AiGF0850kT8, 6.000, 16.000, \"/m/04rlf,/m/0l15bq\"',\n",
       " 'ApJA85gwNFo, 30.000, 40.000, \"/m/0l15bq\"',\n",
       " 'B-XS7rGmG0o, 30.000, 40.000, \"/m/0l15bq\"',\n",
       " 'C3HqFyYZBGI, 30.000, 40.000, \"/m/01h8n0,/m/09x0r,/m/0l15bq\"',\n",
       " 'CKogmNGkGHE, 180.000, 190.000, \"/m/015lz1,/m/0326g,/m/04rlf,/m/09x0r,/m/0l15bq\"',\n",
       " 'Cq9_hnJw5Rs, 400.000, 410.000, \"/m/09x0r,/m/0l15bq\"',\n",
       " 'DEBKRavuTfM, 10.000, 20.000, \"/m/0l15bq\"',\n",
       " 'DSa3YoTNoZA, 0.000, 10.000, \"/m/0k65p,/m/0l15bq,/m/0ytgt\"',\n",
       " 'DtWdvUgqmXw, 200.000, 210.000, \"/m/04rlf,/m/09x0r,/m/0l15bq\"',\n",
       " 'E9etGzNH2SM, 30.000, 40.000, \"/m/09x0r,/m/0l15bq,/m/0ytgt\"',\n",
       " 'EL0KxeMuGEA, 110.000, 120.000, \"/m/09x0r,/m/0l15bq\"',\n",
       " 'EWI6u8wVAlk, 0.000, 10.000, \"/m/028ght,/m/03qtwd,/m/0l15bq\"',\n",
       " 'GSlve5cn8B8, 78.000, 88.000, \"/m/0l15bq\"',\n",
       " 'IYNg-ibkliY, 20.000, 30.000, \"/m/09x0r,/m/0l15bq\"',\n",
       " 'IpkSmoVcU20, 320.000, 330.000, \"/m/07ryjzk,/m/09x0r,/m/0l15bq,/t/dd00126\"',\n",
       " 'K64Q5_51Io8, 30.000, 40.000, \"/m/0k65p,/m/0l15bq,/m/0ytgt\"',\n",
       " 'KDctVs_KcVI, 30.000, 40.000, \"/m/0l15bq,/t/dd00005\"',\n",
       " 'MK1NzQm9XaQ, 60.000, 70.000, \"/m/0l15bq\"',\n",
       " 'O44KCiT8shM, 50.000, 60.000, \"/m/09x0r,/m/0l15bq\"',\n",
       " 'P4QGqUhJvMY, 30.000, 40.000, \"/m/09x0r,/m/0k65p,/m/0l15bq,/m/0ytgt\"',\n",
       " 'RPLYy1Xbwt4, 40.000, 50.000, \"/m/0l15bq\"',\n",
       " 'Rqn3rDSGIR0, 0.000, 10.000, \"/m/09x0r,/m/0l15bq\"',\n",
       " 'S40zKdprTj0, 40.000, 50.000, \"/m/04rlf,/m/0l15bq\"',\n",
       " 'TrtetONKfvM, 10.000, 20.000, \"/m/015lz1,/m/0k65p,/m/0l15bq\"',\n",
       " 'UMqR7-ja_iI, 4.000, 14.000, \"/m/0l15bq\"',\n",
       " 'UjelVJif6-w, 30.000, 40.000, \"/m/07qcpgn,/m/09x0r,/m/0l15bq\"',\n",
       " 'Xm-PEoPcmrE, 0.000, 10.000, \"/m/015lz1,/m/09x0r,/m/0l15bq,/m/0ytgt\"',\n",
       " 'YHj6tdG-6JU, 140.000, 150.000, \"/m/015lz1,/m/09x0r,/m/0l15bq\"',\n",
       " 'ZEbjwwVKzaQ, 15.000, 25.000, \"/m/09x0r,/m/0l15bq\"',\n",
       " '_LY8EpSdPrk, 60.000, 70.000, \"/m/09x0r,/m/0l15bq\"',\n",
       " '_uyAyiLZJsM, 240.000, 250.000, \"/m/0l15bq\"',\n",
       " 'a54qawS9wCk, 0.000, 10.000, \"/m/015lz1,/m/0k65p,/m/0l15bq\"',\n",
       " 'e1eYWTJoIh0, 100.000, 110.000, \"/m/09x0r,/m/0l15bq\"',\n",
       " 'h3u2sHDnXDs, 10.000, 20.000, \"/m/02cz_7,/m/0l15bq\"',\n",
       " 'hFTcS18hSn0, 17.000, 27.000, \"/m/0l15bq\"',\n",
       " 'hNwXPMpR9aY, 30.000, 40.000, \"/m/09x0r,/m/0l15bq\"',\n",
       " 'heGKGgxvJF8, 30.000, 40.000, \"/m/04rlf,/m/0l15bq\"',\n",
       " 'l5sbP_vmgl8, 240.000, 250.000, \"/m/0l15bq\"',\n",
       " 'mRSAoBtjLjI, 10.000, 20.000, \"/m/0k65p,/m/0l15bq,/t/dd00005\"',\n",
       " 'nGmhfmCVnnc, 30.000, 40.000, \"/m/0k65p,/m/0l15bq\"',\n",
       " 'nSIskMwIBKg, 0.000, 10.000, \"/m/0l15bq,/m/0ytgt\"',\n",
       " 'ohCVx7uRmz8, 50.000, 60.000, \"/m/0l15bq\"',\n",
       " 'pIpdn-w12ok, 10.000, 20.000, \"/m/0l15bq\"',\n",
       " 'sw2nfdNRAn0, 0.000, 7.000, \"/m/028ght,/m/0l15bq\"',\n",
       " 'teVE2waWdsU, 30.000, 40.000, \"/m/0l15bq\"',\n",
       " 'tzvB-r8YaRc, 90.000, 100.000, \"/m/015lz1,/m/09x0r,/m/0l15bq\"',\n",
       " 'u0Hdru-E-vI, 0.000, 10.000, \"/m/09x0r,/m/0l15bq\"',\n",
       " 'u1a5eyk-9ig, 10.000, 20.000, \"/m/04rlf,/m/05fw6t,/m/0l15bq\"',\n",
       " 'xThlCygD5Kk, 60.000, 70.000, \"/m/07rgt08,/m/09x0r,/m/0l15bq,/m/0ytgt\"',\n",
       " 'y4EOFoW0ix8, 10.000, 20.000, \"/m/04rlf,/m/09x0r,/m/0l15bq\"',\n",
       " 'z1MI4zZ_UtQ, 140.000, 150.000, \"/m/09x0r,/m/0k65p,/m/0l15bq\"']"
      ]
     },
     "execution_count": 6,
     "metadata": {},
     "output_type": "execute_result"
    }
   ],
   "source": [
    "examples"
   ]
  },
  {
   "cell_type": "code",
   "execution_count": 7,
   "metadata": {},
   "outputs": [
    {
     "data": {
      "text/plain": [
       "60"
      ]
     },
     "execution_count": 7,
     "metadata": {},
     "output_type": "execute_result"
    }
   ],
   "source": [
    "len(examples)"
   ]
  },
  {
   "cell_type": "code",
   "execution_count": 8,
   "metadata": {
    "collapsed": true
   },
   "outputs": [],
   "source": [
    "examples = !grep /m/0l15bq balanced_train_segments.csv  | cut -c -11"
   ]
  },
  {
   "cell_type": "code",
   "execution_count": 9,
   "metadata": {},
   "outputs": [
    {
     "data": {
      "text/plain": [
       "['0FMdORf5iGs',\n",
       " '1IxBagCJeZc',\n",
       " '1_DouJRW3PM',\n",
       " '2y9ikTsTsl0',\n",
       " '3PliaLqMSqg',\n",
       " '3ixOXsKUufM',\n",
       " '4mOTOTJLv5U',\n",
       " '7Ep2a7_sbmc',\n",
       " '7SpYywlGPyM',\n",
       " 'AiGF0850kT8',\n",
       " 'ApJA85gwNFo',\n",
       " 'B-XS7rGmG0o',\n",
       " 'C3HqFyYZBGI',\n",
       " 'CKogmNGkGHE',\n",
       " 'Cq9_hnJw5Rs',\n",
       " 'DEBKRavuTfM',\n",
       " 'DSa3YoTNoZA',\n",
       " 'DtWdvUgqmXw',\n",
       " 'E9etGzNH2SM',\n",
       " 'EL0KxeMuGEA',\n",
       " 'EWI6u8wVAlk',\n",
       " 'GSlve5cn8B8',\n",
       " 'IYNg-ibkliY',\n",
       " 'IpkSmoVcU20',\n",
       " 'K64Q5_51Io8',\n",
       " 'KDctVs_KcVI',\n",
       " 'MK1NzQm9XaQ',\n",
       " 'O44KCiT8shM',\n",
       " 'P4QGqUhJvMY',\n",
       " 'RPLYy1Xbwt4',\n",
       " 'Rqn3rDSGIR0',\n",
       " 'S40zKdprTj0',\n",
       " 'TrtetONKfvM',\n",
       " 'UMqR7-ja_iI',\n",
       " 'UjelVJif6-w',\n",
       " 'Xm-PEoPcmrE',\n",
       " 'YHj6tdG-6JU',\n",
       " 'ZEbjwwVKzaQ',\n",
       " '_LY8EpSdPrk',\n",
       " '_uyAyiLZJsM',\n",
       " 'a54qawS9wCk',\n",
       " 'e1eYWTJoIh0',\n",
       " 'h3u2sHDnXDs',\n",
       " 'hFTcS18hSn0',\n",
       " 'hNwXPMpR9aY',\n",
       " 'heGKGgxvJF8',\n",
       " 'l5sbP_vmgl8',\n",
       " 'mRSAoBtjLjI',\n",
       " 'nGmhfmCVnnc',\n",
       " 'nSIskMwIBKg',\n",
       " 'ohCVx7uRmz8',\n",
       " 'pIpdn-w12ok',\n",
       " 'sw2nfdNRAn0',\n",
       " 'teVE2waWdsU',\n",
       " 'tzvB-r8YaRc',\n",
       " 'u0Hdru-E-vI',\n",
       " 'u1a5eyk-9ig',\n",
       " 'xThlCygD5Kk',\n",
       " 'y4EOFoW0ix8',\n",
       " 'z1MI4zZ_UtQ']"
      ]
     },
     "execution_count": 9,
     "metadata": {},
     "output_type": "execute_result"
    }
   ],
   "source": [
    "examples"
   ]
  },
  {
   "cell_type": "code",
   "execution_count": 10,
   "metadata": {
    "collapsed": true
   },
   "outputs": [],
   "source": [
    "new_ex = !grep Clapping balanced_train_segments.csv"
   ]
  },
  {
   "cell_type": "code",
   "execution_count": 11,
   "metadata": {},
   "outputs": [
    {
     "data": {
      "text/plain": [
       "14"
      ]
     },
     "execution_count": 11,
     "metadata": {},
     "output_type": "execute_result"
    }
   ],
   "source": [
    "new_ex.append(examples[5])\n",
    "new_ex.append(examples[10])\n",
    "new_ex.append(examples[11])\n",
    "new_ex.append(examples[15])\n",
    "new_ex.append(examples[21])\n",
    "new_ex.append(examples[26])\n",
    "new_ex.append(examples[29])\n",
    "new_ex.append(examples[33])\n",
    "new_ex.append(examples[39])\n",
    "new_ex.append(examples[43])\n",
    "new_ex.append(examples[46])\n",
    "new_ex.append(examples[50])\n",
    "new_ex.append(examples[51])\n",
    "new_ex.append(examples[53])\n",
    "len(new_ex)\n"
   ]
  },
  {
   "cell_type": "code",
   "execution_count": 12,
   "metadata": {
    "collapsed": true
   },
   "outputs": [],
   "source": [
    "tfrecord_prefixes = set([i[:2] for i in new_ex])"
   ]
  },
  {
   "cell_type": "code",
   "execution_count": 13,
   "metadata": {},
   "outputs": [
    {
     "data": {
      "text/plain": [
       "{'3i',\n",
       " 'Ap',\n",
       " 'B-',\n",
       " 'DE',\n",
       " 'GS',\n",
       " 'MK',\n",
       " 'RP',\n",
       " 'UM',\n",
       " '_u',\n",
       " 'hF',\n",
       " 'l5',\n",
       " 'oh',\n",
       " 'pI',\n",
       " 'te'}"
      ]
     },
     "execution_count": 13,
     "metadata": {},
     "output_type": "execute_result"
    }
   ],
   "source": [
    "tfrecord_prefixes"
   ]
  },
  {
   "cell_type": "code",
   "execution_count": 14,
   "metadata": {
    "collapsed": true
   },
   "outputs": [],
   "source": [
    "tfrecord_filenames = [\"bal_train/\" +i+\".tfrecord\" for i in tfrecord_prefixes]"
   ]
  },
  {
   "cell_type": "code",
   "execution_count": 15,
   "metadata": {},
   "outputs": [
    {
     "data": {
      "text/plain": [
       "['3ixOXsKUufM',\n",
       " 'ApJA85gwNFo',\n",
       " 'B-XS7rGmG0o',\n",
       " 'DEBKRavuTfM',\n",
       " 'GSlve5cn8B8',\n",
       " 'MK1NzQm9XaQ',\n",
       " 'RPLYy1Xbwt4',\n",
       " 'UMqR7-ja_iI',\n",
       " '_uyAyiLZJsM',\n",
       " 'hFTcS18hSn0',\n",
       " 'l5sbP_vmgl8',\n",
       " 'ohCVx7uRmz8',\n",
       " 'pIpdn-w12ok',\n",
       " 'teVE2waWdsU']"
      ]
     },
     "execution_count": 15,
     "metadata": {},
     "output_type": "execute_result"
    }
   ],
   "source": [
    "new_ex"
   ]
  },
  {
   "cell_type": "code",
   "execution_count": 16,
   "metadata": {},
   "outputs": [
    {
     "data": {
      "text/plain": [
       "['bal_train/3i.tfrecord',\n",
       " 'bal_train/_u.tfrecord',\n",
       " 'bal_train/Ap.tfrecord',\n",
       " 'bal_train/te.tfrecord',\n",
       " 'bal_train/DE.tfrecord',\n",
       " 'bal_train/GS.tfrecord',\n",
       " 'bal_train/MK.tfrecord',\n",
       " 'bal_train/RP.tfrecord',\n",
       " 'bal_train/B-.tfrecord',\n",
       " 'bal_train/pI.tfrecord',\n",
       " 'bal_train/UM.tfrecord',\n",
       " 'bal_train/l5.tfrecord',\n",
       " 'bal_train/oh.tfrecord',\n",
       " 'bal_train/hF.tfrecord']"
      ]
     },
     "execution_count": 16,
     "metadata": {},
     "output_type": "execute_result"
    }
   ],
   "source": [
    "tfrecord_filenames"
   ]
  },
  {
   "cell_type": "code",
   "execution_count": 17,
   "metadata": {},
   "outputs": [],
   "source": [
    "#To store features in a vector\n",
    "audio_embeddings_dict_clapping = {}\n",
    "#To store the labels\n",
    "audio_labels_dict_clapping = {}\n",
    "\n",
    "#Load embeddings\n",
    "sess = tf.Session()\n",
    "for tfrecord in tfrecord_filenames:\n",
    "    for example in tf.python_io.tf_record_iterator(tfrecord):\n",
    "        tf_example = tf.train.Example.FromString(example)\n",
    "        vid_id = tf_example.features.feature['video_id'].bytes_list.value[0].decode(encoding = 'UTF-8')\n",
    "        if vid_id in new_ex:\n",
    "            example_label = list(np.asarray(tf_example.features.feature['labels'].int64_list.value))\n",
    "            tf_seq_example = tf.train.SequenceExample.FromString(example)\n",
    "            n_frames = len(tf_seq_example.feature_lists.feature_list['audio_embedding'].feature)\n",
    "            \n",
    "            audio_frame_clapping = [[]*n_frames for x in range(n_frames)]\n",
    "            for i in range(n_frames):\n",
    "                audio_frame_clapping[i].append(tf.cast(tf.decode_raw(tf_seq_example.feature_lists.feature_list['audio_embedding'].\n",
    "                                    feature[i].bytes_list.value[0],tf.uint8),tf.float32).eval(session=sess))\n",
    "                audio_embeddings_dict_clapping[vid_id] = audio_frame_clapping\n",
    "                audio_labels_dict_clapping[vid_id] = example_label\n",
    "  "
   ]
  },
  {
   "cell_type": "code",
   "execution_count": 18,
   "metadata": {},
   "outputs": [
    {
     "data": {
      "text/plain": [
       "{'3ixOXsKUufM': [63],\n",
       " 'ApJA85gwNFo': [63],\n",
       " 'B-XS7rGmG0o': [63],\n",
       " 'DEBKRavuTfM': [63],\n",
       " 'GSlve5cn8B8': [63],\n",
       " 'MK1NzQm9XaQ': [63],\n",
       " 'RPLYy1Xbwt4': [63],\n",
       " 'UMqR7-ja_iI': [63],\n",
       " '_uyAyiLZJsM': [63],\n",
       " 'hFTcS18hSn0': [63],\n",
       " 'l5sbP_vmgl8': [63],\n",
       " 'ohCVx7uRmz8': [63],\n",
       " 'pIpdn-w12ok': [63],\n",
       " 'teVE2waWdsU': [63]}"
      ]
     },
     "execution_count": 18,
     "metadata": {},
     "output_type": "execute_result"
    }
   ],
   "source": [
    "audio_labels_dict_clapping"
   ]
  },
  {
   "cell_type": "code",
   "execution_count": 19,
   "metadata": {
    "scrolled": false
   },
   "outputs": [
    {
     "data": {
      "text/plain": [
       "[[array([ 120.,  202.,  251.,  119.,   29.,  107.,  242.,  237.,  105.,\n",
       "          204.,  129.,   65.,  153.,    0.,  140.,   89.,  163.,  218.,\n",
       "          101.,  182.,  255.,  116.,   63.,   68.,   65.,  233.,    0.,\n",
       "           32.,    0.,    0.,  102.,  160.,   69.,  127.,  236.,   63.,\n",
       "          207.,  215.,  169.,  154.,  255.,    0.,  183.,  202.,  175.,\n",
       "           98.,  111.,   99.,    0.,    0.,  221.,  195.,  177.,  158.,\n",
       "           92.,   80.,  145.,  255.,  145.,  216.,  255.,    0.,    0.,\n",
       "          255.,    6.,  242.,   63.,   49.,    0.,  216.,   53.,    0.,\n",
       "          212.,   47.,    0.,  255.,  255.,  227.,    0.,    0.,   17.,\n",
       "          255.,  200.,  109.,  164.,   69.,    0.,    0.,    0.,   83.,\n",
       "          172.,  208.,  255.,  110.,  223.,   58.,    0.,  161.,    0.,\n",
       "          255.,   74.,  214.,  132.,  227.,    0.,  204.,  255.,    0.,\n",
       "            0.,    0.,  255.,    0.,  164.,  255.,    0.,  133.,    3.,\n",
       "          184.,  154.,    0.,  165.,    0.,  166.,    5.,   12.,   84.,\n",
       "          125.,  255.], dtype=float32)],\n",
       " [array([ 112.,  208.,  255.,  107.,   25.,  118.,  235.,  221.,  117.,\n",
       "          215.,  121.,   85.,  180.,    0.,  127.,   68.,  146.,  210.,\n",
       "           88.,  170.,  255.,   99.,   45.,   78.,    3.,  209.,    0.,\n",
       "           20.,    0.,    0.,   51.,  150.,   69.,   55.,  232.,   72.,\n",
       "          224.,  190.,  135.,  160.,  220.,    0.,  141.,  212.,  160.,\n",
       "          109.,  136.,  126.,    0.,    0.,  229.,  152.,  230.,  117.,\n",
       "          110.,  108.,  207.,  255.,  245.,  180.,  245.,    0.,   27.,\n",
       "          255.,    0.,  215.,   62.,   35.,    0.,  184.,   72.,    0.,\n",
       "          216.,    0.,    0.,  255.,  255.,  246.,    0.,    0.,    0.,\n",
       "          255.,  199.,  145.,  200.,   29.,   18.,    0.,    0.,   92.,\n",
       "          151.,  243.,  255.,  174.,   92.,   26.,    0.,  153.,    0.,\n",
       "          255.,    5.,  255.,  255.,  156.,    0.,  163.,  255.,    8.,\n",
       "            0.,    0.,  224.,   73.,  156.,  255.,    0.,  246.,    5.,\n",
       "          255.,   48.,    0.,  152.,    0.,  146.,    9.,   28.,   51.,\n",
       "          108.,  255.], dtype=float32)],\n",
       " [array([ 116.,  253.,  255.,  110.,    0.,  122.,  212.,  255.,   85.,\n",
       "          179.,  199.,  104.,  147.,    0.,  138.,  137.,  203.,  245.,\n",
       "          109.,  181.,  255.,   47.,   89.,   96.,  127.,  228.,    0.,\n",
       "            5.,    0.,    0.,   33.,  198.,  100.,  138.,  211.,   45.,\n",
       "          255.,  255.,  207.,  204.,  253.,    0.,  150.,  247.,  247.,\n",
       "          159.,   87.,   34.,    0.,    0.,  170.,  189.,  132.,  189.,\n",
       "          176.,  107.,  245.,  255.,  181.,  246.,  255.,    8.,    6.,\n",
       "          255.,   99.,   85.,    0.,    0.,    0.,  230.,    0.,    0.,\n",
       "          136.,    0.,    0.,  255.,  227.,  255.,    0.,    0.,   19.,\n",
       "          255.,  243.,   80.,  131.,   97.,    0.,    0.,    0.,   72.,\n",
       "          255.,  255.,  255.,    0.,  255.,   69.,    0.,  192.,    0.,\n",
       "          255.,    0.,  169.,  180.,  222.,    0.,  203.,  199.,    0.,\n",
       "            0.,    0.,  255.,    0.,  201.,  255.,    0.,  198.,    0.,\n",
       "           75.,  208.,    0.,  255.,    0.,  243.,    0.,    0.,  232.,\n",
       "            0.,  177.], dtype=float32)],\n",
       " [array([ 109.,  255.,  255.,   72.,    8.,  123.,  182.,  255.,  135.,\n",
       "          216.,  150.,  148.,  174.,    0.,  122.,  157.,  125.,  255.,\n",
       "           99.,  156.,  255.,  116.,   75.,  169.,   55.,  147.,    0.,\n",
       "            0.,   39.,   45.,    0.,  231.,   32.,   75.,  150.,   44.,\n",
       "          218.,  255.,  195.,  246.,  255.,    0.,  150.,  255.,  186.,\n",
       "          168.,   51.,   66.,    0.,    0.,  255.,  255.,  146.,  129.,\n",
       "           82.,  125.,  255.,  255.,  178.,  154.,  255.,    7.,   47.,\n",
       "          255.,    0.,   85.,    0.,    6.,    0.,  222.,   74.,    0.,\n",
       "           35.,   56.,    0.,  255.,  255.,  255.,    0.,    0.,    0.,\n",
       "          255.,   72.,    0.,  156.,  106.,    0.,    0.,    0.,  151.,\n",
       "          255.,  255.,  255.,   18.,  169.,   28.,    0.,  255.,    0.,\n",
       "          255.,    0.,  255.,  222.,  255.,   19.,  220.,  242.,    0.,\n",
       "            0.,    0.,  190.,   40.,  107.,  255.,   25.,  255.,    0.,\n",
       "          255.,    0.,    0.,  255.,    0.,  242.,  147.,    0.,  208.,\n",
       "            0.,  230.], dtype=float32)],\n",
       " [array([ 114.,  206.,  239.,  120.,   54.,  117.,  167.,  252.,   84.,\n",
       "          222.,  117.,  152.,  134.,    0.,  168.,  118.,  162.,  255.,\n",
       "           90.,  163.,  255.,  158.,  100.,  181.,   63.,  142.,    0.,\n",
       "           14.,   59.,  109.,    0.,  219.,   87.,  128.,  141.,   13.,\n",
       "          204.,  255.,  139.,  255.,  255.,    0.,  239.,  255.,  179.,\n",
       "          121.,    0.,   28.,    0.,   64.,  255.,  255.,   98.,   50.,\n",
       "           10.,  145.,  154.,  255.,  153.,  188.,  255.,   75.,    0.,\n",
       "          255.,    0.,  233.,    0.,    0.,    0.,  255.,   65.,    0.,\n",
       "           19.,  183.,    5.,  255.,  205.,  255.,   16.,    0.,   46.,\n",
       "          255.,  137.,    0.,   30.,  106.,    0.,  113.,    0.,  255.,\n",
       "          255.,  250.,  255.,    0.,  255.,    0.,    9.,  238.,    0.,\n",
       "          255.,   73.,  255.,   28.,  255.,  193.,  104.,  255.,    0.,\n",
       "            2.,    0.,   87.,    0.,   57.,  255.,   82.,   46.,    0.,\n",
       "          141.,    0.,    0.,  255.,    0.,  255.,  255.,    0.,  190.,\n",
       "            0.,  230.], dtype=float32)],\n",
       " [array([ 133.,   35.,  193.,   91.,  147.,  109.,   64.,  156.,  140.,\n",
       "          162.,  152.,  123.,  145.,  146.,   79.,   91.,  111.,  131.,\n",
       "          128.,  153.,  101.,   97.,  104.,  159.,   33.,  228.,   63.,\n",
       "           57.,  140.,  186.,  113.,  206.,   74.,  191.,  135.,   98.,\n",
       "          128.,   89.,   89.,   65.,  135.,  165.,  160.,  253.,   80.,\n",
       "          153.,   79.,  154.,  105.,  126.,  116.,  195.,  182.,   94.,\n",
       "           95.,  151.,  164.,  135.,  121.,  148.,  255.,  110.,  159.,\n",
       "          255.,  125.,   68.,  119.,   51.,   88.,  138.,  129.,   86.,\n",
       "          101.,  189.,   73.,  105.,   87.,  171.,  112.,  113.,  130.,\n",
       "           11.,  149.,  113.,  138.,   82.,   67.,  112.,   37.,  235.,\n",
       "          185.,  127.,  106.,   66.,  238.,  107.,  107.,  175.,   49.,\n",
       "          183.,   15.,  181.,  126.,  130.,  168.,  137.,  159.,  152.,\n",
       "           50.,  161.,   55.,   19.,  126.,  122.,  108.,   49.,  140.,\n",
       "          155.,   74.,   16.,  120.,   87.,  194.,  125.,   82.,  226.,\n",
       "          255.,  150.], dtype=float32)],\n",
       " [array([ 173.,   27.,  126.,   95.,  194.,   89.,   67.,  155.,  154.,\n",
       "          162.,  142.,   68.,  113.,  150.,  112.,   25.,  100.,  255.,\n",
       "          202.,  196.,    0.,  178.,   94.,  219.,   80.,  149.,  113.,\n",
       "          184.,  130.,   46.,  183.,  118.,  112.,   70.,  168.,  136.,\n",
       "          138.,  143.,  207.,  182.,  109.,  159.,   68.,  132.,  126.,\n",
       "          133.,  135.,  102.,  159.,   71.,  122.,   79.,  147.,   61.,\n",
       "           80.,  185.,   77.,  147.,  103.,  138.,  104.,  139.,  148.,\n",
       "          103.,  146.,  121.,   99.,  137.,  116.,  146.,  124.,  105.,\n",
       "          109.,  104.,  120.,  126.,  132.,  130.,   90.,  126.,  137.,\n",
       "          143.,  108.,  129.,  113.,  121.,  113.,  118.,  108.,  117.,\n",
       "          136.,  144.,  112.,  148.,  121.,  141.,  138.,  134.,  109.,\n",
       "          147.,  129.,  116.,  128.,  151.,  126.,  150.,  105.,  108.,\n",
       "          112.,  129.,  138.,  122.,  130.,  140.,  115.,  121.,  102.,\n",
       "          125.,  114.,  117.,  121.,  126.,  126.,  130.,  114.,  133.,\n",
       "          130.,  187.], dtype=float32)],\n",
       " [array([ 173.,   27.,  126.,   95.,  194.,   89.,   67.,  155.,  154.,\n",
       "          162.,  142.,   68.,  113.,  150.,  112.,   25.,  100.,  255.,\n",
       "          202.,  196.,    0.,  178.,   94.,  219.,   80.,  149.,  113.,\n",
       "          184.,  130.,   46.,  183.,  118.,  112.,   70.,  168.,  136.,\n",
       "          138.,  143.,  207.,  182.,  109.,  159.,   68.,  132.,  126.,\n",
       "          133.,  135.,  102.,  159.,   71.,  122.,   79.,  147.,   61.,\n",
       "           80.,  185.,   77.,  147.,  103.,  138.,  104.,  139.,  148.,\n",
       "          103.,  146.,  121.,   99.,  137.,  116.,  146.,  124.,  105.,\n",
       "          109.,  104.,  120.,  126.,  132.,  130.,   90.,  126.,  137.,\n",
       "          143.,  108.,  129.,  113.,  121.,  113.,  118.,  108.,  117.,\n",
       "          136.,  144.,  112.,  148.,  121.,  141.,  138.,  134.,  109.,\n",
       "          147.,  129.,  116.,  128.,  151.,  126.,  150.,  105.,  108.,\n",
       "          112.,  129.,  138.,  122.,  130.,  140.,  115.,  121.,  102.,\n",
       "          125.,  114.,  117.,  121.,  126.,  126.,  130.,  114.,  133.,\n",
       "          130.,  187.], dtype=float32)],\n",
       " [array([ 173.,   27.,  126.,   95.,  194.,   89.,   67.,  155.,  154.,\n",
       "          162.,  142.,   68.,  113.,  150.,  112.,   25.,  100.,  255.,\n",
       "          202.,  196.,    0.,  178.,   94.,  219.,   80.,  149.,  113.,\n",
       "          184.,  130.,   46.,  183.,  118.,  112.,   70.,  168.,  136.,\n",
       "          138.,  143.,  207.,  182.,  109.,  159.,   68.,  132.,  126.,\n",
       "          133.,  135.,  102.,  159.,   71.,  122.,   79.,  147.,   61.,\n",
       "           80.,  185.,   77.,  147.,  103.,  138.,  104.,  139.,  148.,\n",
       "          103.,  146.,  121.,   99.,  137.,  116.,  146.,  124.,  105.,\n",
       "          109.,  104.,  120.,  126.,  132.,  130.,   90.,  126.,  137.,\n",
       "          143.,  108.,  129.,  113.,  121.,  113.,  118.,  108.,  117.,\n",
       "          136.,  144.,  112.,  148.,  121.,  141.,  138.,  134.,  109.,\n",
       "          147.,  129.,  116.,  128.,  151.,  126.,  150.,  105.,  108.,\n",
       "          112.,  129.,  138.,  122.,  130.,  140.,  115.,  121.,  102.,\n",
       "          125.,  114.,  117.,  121.,  126.,  126.,  130.,  114.,  133.,\n",
       "          130.,  187.], dtype=float32)],\n",
       " [array([ 173.,   27.,  126.,   95.,  194.,   89.,   67.,  155.,  154.,\n",
       "          162.,  142.,   68.,  113.,  150.,  112.,   25.,  100.,  255.,\n",
       "          202.,  196.,    0.,  178.,   94.,  219.,   80.,  149.,  113.,\n",
       "          184.,  130.,   46.,  183.,  118.,  112.,   70.,  168.,  136.,\n",
       "          138.,  143.,  207.,  182.,  109.,  159.,   68.,  132.,  126.,\n",
       "          133.,  135.,  102.,  159.,   71.,  122.,   79.,  147.,   61.,\n",
       "           80.,  185.,   77.,  147.,  103.,  138.,  104.,  139.,  148.,\n",
       "          103.,  146.,  121.,   99.,  137.,  116.,  146.,  124.,  105.,\n",
       "          109.,  104.,  120.,  126.,  132.,  130.,   90.,  126.,  137.,\n",
       "          143.,  108.,  129.,  113.,  121.,  113.,  118.,  108.,  117.,\n",
       "          136.,  144.,  112.,  148.,  121.,  141.,  138.,  134.,  109.,\n",
       "          147.,  129.,  116.,  128.,  151.,  126.,  150.,  105.,  108.,\n",
       "          112.,  129.,  138.,  122.,  130.,  140.,  115.,  121.,  102.,\n",
       "          125.,  114.,  117.,  121.,  126.,  126.,  130.,  114.,  133.,\n",
       "          130.,  187.], dtype=float32)]]"
      ]
     },
     "execution_count": 19,
     "metadata": {},
     "output_type": "execute_result"
    }
   ],
   "source": [
    "audio_frame_clapping"
   ]
  },
  {
   "cell_type": "code",
   "execution_count": 20,
   "metadata": {},
   "outputs": [
    {
     "data": {
      "text/plain": [
       "1"
      ]
     },
     "execution_count": 20,
     "metadata": {},
     "output_type": "execute_result"
    }
   ],
   "source": [
    "len(audio_labels_dict_clapping['3ixOXsKUufM'])"
   ]
  },
  {
   "cell_type": "code",
   "execution_count": 21,
   "metadata": {},
   "outputs": [
    {
     "data": {
      "text/plain": [
       "10"
      ]
     },
     "execution_count": 21,
     "metadata": {},
     "output_type": "execute_result"
    }
   ],
   "source": [
    "len(audio_embeddings_dict_clapping['3ixOXsKUufM'])"
   ]
  },
  {
   "cell_type": "code",
   "execution_count": 22,
   "metadata": {
    "collapsed": true
   },
   "outputs": [],
   "source": [
    "non_examples = !grep /m/05zppz balanced_train_segments.csv | cut -c -11\n"
   ]
  },
  {
   "cell_type": "code",
   "execution_count": 23,
   "metadata": {},
   "outputs": [
    {
     "data": {
      "text/plain": [
       "['-DvxsHG1tuo',\n",
       " '-uCkr7KFkYg',\n",
       " '1--9ZSW-7Rg',\n",
       " '1ej-NI9vgkk',\n",
       " '2TauJ1KBMdY',\n",
       " '2hBVVym00rc',\n",
       " '3sApQ80QRiE',\n",
       " '4nPihZzUq_k',\n",
       " '5L-sKSpgHwk',\n",
       " '5fM3QwAAZQ0',\n",
       " '6e0F1Y6aMZk',\n",
       " '7oGd1ucd8r0',\n",
       " '7qWiBG8N10A',\n",
       " 'BnFJ87ZwU-A',\n",
       " 'CIiZFckAT5M',\n",
       " 'CSfJWw9cM2s',\n",
       " 'Cu_zqJWgALM',\n",
       " 'DPzoYrz6Mi8',\n",
       " 'DeNCHPXfMhM',\n",
       " 'ESw7bibTj4A',\n",
       " 'FXPzzMf6W8g',\n",
       " 'G__lySaTeNM',\n",
       " 'GtGaiVGQ33w',\n",
       " 'HXWWFYcVJto',\n",
       " 'IV-RGxUofVQ',\n",
       " 'J9ZQcJJBmj4',\n",
       " 'JQz76trKbNk',\n",
       " 'LUQfjwASDq4',\n",
       " 'RlJ5DvWC_yY',\n",
       " 'V5HMIxuAtv8',\n",
       " 'VOUm1PTYpB0',\n",
       " 'WMsGCMfaKbs',\n",
       " 'X62-7mo72jA',\n",
       " 'X7weoQRFmc0',\n",
       " 'YVb3KEwK1Uc',\n",
       " '_Xq-8R7CB44',\n",
       " '_ud-sCXmue0',\n",
       " 'cEsF3Oh1-gU',\n",
       " 'cSrL0BXsO40',\n",
       " 'd-V3FtnzYLo',\n",
       " 'ddsEVCK5qZw',\n",
       " 'dfL7O46o9Wo',\n",
       " 'drVo5VQfsDc',\n",
       " 'hPSK-10z-kQ',\n",
       " 'iYrfMKz1xE8',\n",
       " 'ity1vO-OyDM',\n",
       " 'kVQbu_BsZ9o',\n",
       " 'k_kRSOra2qA',\n",
       " 'lADzLzhjqPw',\n",
       " 'lm_K_5nwhCk',\n",
       " 'mYsjO2kEXRA',\n",
       " 'mcyM8m5D8uE',\n",
       " 'miwuZGdJKtI',\n",
       " 'pOPg5gfWwTs',\n",
       " 'ppCtPNVwU7I',\n",
       " 'upcL7tojfd4',\n",
       " 'wcby3DVW57s',\n",
       " 'xHqgVaGI21g',\n",
       " 'y2AulW5N9PE',\n",
       " 'zOOasM0HvsY']"
      ]
     },
     "execution_count": 23,
     "metadata": {},
     "output_type": "execute_result"
    }
   ],
   "source": [
    "non_examples"
   ]
  },
  {
   "cell_type": "code",
   "execution_count": 24,
   "metadata": {},
   "outputs": [
    {
     "data": {
      "text/plain": [
       "60"
      ]
     },
     "execution_count": 24,
     "metadata": {},
     "output_type": "execute_result"
    }
   ],
   "source": [
    "len(non_examples)"
   ]
  },
  {
   "cell_type": "code",
   "execution_count": 25,
   "metadata": {
    "collapsed": true
   },
   "outputs": [],
   "source": [
    "ex = !grep Clapping balanced_train_segments.csv"
   ]
  },
  {
   "cell_type": "code",
   "execution_count": 26,
   "metadata": {},
   "outputs": [
    {
     "data": {
      "text/plain": [
       "'ppCtPNVwU7I'"
      ]
     },
     "execution_count": 26,
     "metadata": {},
     "output_type": "execute_result"
    }
   ],
   "source": [
    "non_examples[54]"
   ]
  },
  {
   "cell_type": "code",
   "execution_count": 27,
   "metadata": {},
   "outputs": [
    {
     "data": {
      "text/plain": [
       "['3sApQ80QRiE', 'dfL7O46o9Wo', 'ppCtPNVwU7I']"
      ]
     },
     "execution_count": 27,
     "metadata": {},
     "output_type": "execute_result"
    }
   ],
   "source": [
    "ex.append(non_examples[6])\n",
    "ex.append(non_examples[41])\n",
    "ex.append(non_examples[54])\n",
    "ex"
   ]
  },
  {
   "cell_type": "code",
   "execution_count": 28,
   "metadata": {},
   "outputs": [
    {
     "data": {
      "text/plain": [
       "3"
      ]
     },
     "execution_count": 28,
     "metadata": {},
     "output_type": "execute_result"
    }
   ],
   "source": [
    "len(ex)"
   ]
  },
  {
   "cell_type": "code",
   "execution_count": 29,
   "metadata": {
    "collapsed": true
   },
   "outputs": [],
   "source": [
    "non_examples2 =   !grep /m/02zsn balanced_train_segments.csv | cut -c -11"
   ]
  },
  {
   "cell_type": "code",
   "execution_count": 30,
   "metadata": {},
   "outputs": [
    {
     "data": {
      "text/plain": [
       "['-5-vmt2iKT0',\n",
       " '0150dZu3Na8',\n",
       " '1QrqkC1mt94',\n",
       " '2mEH2FUWUTg',\n",
       " '34ZTxQaNfis',\n",
       " '5fjmEgwc14E',\n",
       " '6X5vLMqdKZo',\n",
       " '7rk62G1WyG8',\n",
       " 'AyCtV9mKAmk',\n",
       " 'B6zvUOhpdp0',\n",
       " 'C223Ktqjrmw',\n",
       " 'C4-_w6N3plU',\n",
       " 'Df6nDjSCGkM',\n",
       " 'ErZ6S54lpqI',\n",
       " 'FH4fMb7P--w',\n",
       " 'FqQ5QaNPGuU',\n",
       " 'H4QU67Ss9WY',\n",
       " 'HEh1a-W7rrk',\n",
       " 'IFCYE9YZEbc',\n",
       " 'IvP-O7API0k',\n",
       " 'JWZpp-w5TcU',\n",
       " 'JpE7tjiOSoA',\n",
       " 'LOdVDIv1snY',\n",
       " 'MhwksRHzSEc',\n",
       " 'Ngr1yR8S-rY',\n",
       " 'OO4LUcMV25E',\n",
       " 'RbgkNlEuGT0',\n",
       " 'THyp6cmUPxA',\n",
       " 'TZ8vo-GTOa0',\n",
       " 'UAFLFtJj5Mc',\n",
       " 'UWK7tH9GNSg',\n",
       " 'XpKCBBd1QRs',\n",
       " 'Y8AB0YA4Jtw',\n",
       " 'c9C74iJaS8o',\n",
       " 'ctwSBXshFjw',\n",
       " 'ec8nJ0kUK3E',\n",
       " 'egwB_wWn2ZQ',\n",
       " 'ge8qO4-wBvY',\n",
       " 'guSb-246qZ8',\n",
       " 'hII5lOqV22s',\n",
       " 'hd0cgaJkNGw',\n",
       " 'huPKd-c_5OY',\n",
       " 'i4nAcLHecSM',\n",
       " 'iVIwrkpw3-g',\n",
       " 'j_2mvR7GLK8',\n",
       " 'lLA7dQ-uxR0',\n",
       " 'nxPSJZT5qYU',\n",
       " 'pIQulLl44zs',\n",
       " 'qF90ezvPe14',\n",
       " 'rHFOwlMCdto',\n",
       " 'rwm1ZWo5vMs',\n",
       " 'sG3Z4mGbIyY',\n",
       " 'vXuulzjQP8k',\n",
       " 'x9Kkv8j42mI',\n",
       " 'xFwd1UDEHMQ',\n",
       " 'yOelIR7hiMc',\n",
       " 'yU6pPAt0cBw',\n",
       " 'z8Dy5CNoNxc',\n",
       " 'zLo1mkKE4sw',\n",
       " 'zuW75_LUwCE']"
      ]
     },
     "execution_count": 30,
     "metadata": {},
     "output_type": "execute_result"
    }
   ],
   "source": [
    "non_examples2"
   ]
  },
  {
   "cell_type": "code",
   "execution_count": 31,
   "metadata": {},
   "outputs": [
    {
     "data": {
      "text/plain": [
       "60"
      ]
     },
     "execution_count": 31,
     "metadata": {},
     "output_type": "execute_result"
    }
   ],
   "source": [
    "len(non_examples2)"
   ]
  },
  {
   "cell_type": "code",
   "execution_count": 32,
   "metadata": {},
   "outputs": [
    {
     "data": {
      "text/plain": [
       "'rHFOwlMCdto'"
      ]
     },
     "execution_count": 32,
     "metadata": {},
     "output_type": "execute_result"
    }
   ],
   "source": [
    "non_examples2[49]"
   ]
  },
  {
   "cell_type": "code",
   "execution_count": 33,
   "metadata": {
    "collapsed": true
   },
   "outputs": [],
   "source": [
    "ex.append(non_examples2[4])\n",
    "ex.append(non_examples2[49])"
   ]
  },
  {
   "cell_type": "code",
   "execution_count": 34,
   "metadata": {},
   "outputs": [
    {
     "data": {
      "text/plain": [
       "['3sApQ80QRiE', 'dfL7O46o9Wo', 'ppCtPNVwU7I', '34ZTxQaNfis', 'rHFOwlMCdto']"
      ]
     },
     "execution_count": 34,
     "metadata": {},
     "output_type": "execute_result"
    }
   ],
   "source": [
    "ex"
   ]
  },
  {
   "cell_type": "code",
   "execution_count": 35,
   "metadata": {
    "collapsed": true
   },
   "outputs": [],
   "source": [
    "non_examples3 = !grep /m/01h8n0 balanced_train_segments.csv | cut -c -11"
   ]
  },
  {
   "cell_type": "code",
   "execution_count": 36,
   "metadata": {},
   "outputs": [
    {
     "data": {
      "text/plain": [
       "['021B2ozAjNg',\n",
       " '09w-ZFasRvE',\n",
       " '0urv4EcbPAM',\n",
       " '1puLrugy32w',\n",
       " '21L0pyts9WI',\n",
       " '2TauJ1KBMdY',\n",
       " '2XP6Q2CXB-w',\n",
       " '2hBVVym00rc',\n",
       " '6i8NJqD6sos',\n",
       " 'AKMuR1-yWAc',\n",
       " 'BqQxzzVkToc',\n",
       " 'C3HqFyYZBGI',\n",
       " 'C4-_w6N3plU',\n",
       " 'DJF7cOpR_l0',\n",
       " 'Ga2r3DZzJbk',\n",
       " 'IWMMkp35d6Y',\n",
       " 'IsVHwMN_Mnw',\n",
       " 'Iu1nK9ixxAc',\n",
       " 'JS_LYrOL8DM',\n",
       " 'KlVkArn952g',\n",
       " 'KzLpryLUYsk',\n",
       " 'MWUIcq2EtQs',\n",
       " 'N4wpaeLv5oc',\n",
       " 'ORdW-nWhCfE',\n",
       " 'ORyyZ97wHYY',\n",
       " 'Plz7jhUlAWU',\n",
       " 'Pvwv32w0cXU',\n",
       " 'S8LTWw_PkbA',\n",
       " 'SAhX9Dlp0Ds',\n",
       " 'TlNCudch9qM',\n",
       " 'UC4-ZQoRxAA',\n",
       " 'UCLfvzzhC9E',\n",
       " 'USHLC03XQIw',\n",
       " 'UTe0kjf8j4o',\n",
       " 'WcQdpMbE4Xk',\n",
       " 'Z0Ck_JzW0Y8',\n",
       " 'Z_XZlEw2FZY',\n",
       " '_1VZUONWYm4',\n",
       " 'bnohizQcIo0',\n",
       " 'c39jYgsvUOY',\n",
       " 'cCs-Y_YrHO4',\n",
       " 'e7mrGqwfJJI',\n",
       " 'f-6QHVgMeC8',\n",
       " 'f1PI8o_Gg7A',\n",
       " 'fL4gKimEsBA',\n",
       " 'ge8qO4-wBvY',\n",
       " 'h5AKJPnIkCs',\n",
       " 'hUdmmFD1oTU',\n",
       " 'k4UGXjMosTg',\n",
       " 'n0Jc1i6Ns4g',\n",
       " 'nfGDe975SrY',\n",
       " 'noxJAKbY_J8',\n",
       " 'ouzbZBZLdwc',\n",
       " 'qk2FYQw_pmo',\n",
       " 'r-btllT6g4k',\n",
       " 'rRom-lUCR44',\n",
       " 'rrEB1RcaSMk',\n",
       " 'tHKwFuK16yU',\n",
       " 'wz0ODrLYRyQ',\n",
       " 'yw9MbiKIhdM']"
      ]
     },
     "execution_count": 36,
     "metadata": {},
     "output_type": "execute_result"
    }
   ],
   "source": [
    "non_examples3"
   ]
  },
  {
   "cell_type": "code",
   "execution_count": 37,
   "metadata": {},
   "outputs": [
    {
     "data": {
      "text/plain": [
       "60"
      ]
     },
     "execution_count": 37,
     "metadata": {},
     "output_type": "execute_result"
    }
   ],
   "source": [
    "len(non_examples3)"
   ]
  },
  {
   "cell_type": "code",
   "execution_count": 38,
   "metadata": {},
   "outputs": [
    {
     "data": {
      "text/plain": [
       "'rrEB1RcaSMk'"
      ]
     },
     "execution_count": 38,
     "metadata": {},
     "output_type": "execute_result"
    }
   ],
   "source": [
    "non_examples3[56]"
   ]
  },
  {
   "cell_type": "code",
   "execution_count": 39,
   "metadata": {
    "collapsed": true
   },
   "outputs": [],
   "source": [
    "ex.append(non_examples3[4])\n",
    "ex.append(non_examples3[6])\n",
    "ex.append(non_examples3[9])\n",
    "ex.append(non_examples3[16])\n",
    "ex.append(non_examples3[17])\n",
    "ex.append(non_examples3[19])\n",
    "ex.append(non_examples3[26])\n",
    "ex.append(non_examples3[32])\n",
    "ex.append(non_examples3[33])\n",
    "ex.append(non_examples3[36])\n",
    "ex.append(non_examples3[41])\n",
    "ex.append(non_examples3[49])\n",
    "ex.append(non_examples3[56])"
   ]
  },
  {
   "cell_type": "code",
   "execution_count": 40,
   "metadata": {},
   "outputs": [
    {
     "data": {
      "text/plain": [
       "18"
      ]
     },
     "execution_count": 40,
     "metadata": {},
     "output_type": "execute_result"
    }
   ],
   "source": [
    "len(ex)"
   ]
  },
  {
   "cell_type": "code",
   "execution_count": 41,
   "metadata": {},
   "outputs": [
    {
     "data": {
      "text/plain": [
       "['3sApQ80QRiE',\n",
       " 'dfL7O46o9Wo',\n",
       " 'ppCtPNVwU7I',\n",
       " '34ZTxQaNfis',\n",
       " 'rHFOwlMCdto',\n",
       " '21L0pyts9WI',\n",
       " '2XP6Q2CXB-w',\n",
       " 'AKMuR1-yWAc',\n",
       " 'IsVHwMN_Mnw',\n",
       " 'Iu1nK9ixxAc',\n",
       " 'KlVkArn952g',\n",
       " 'Pvwv32w0cXU',\n",
       " 'USHLC03XQIw',\n",
       " 'UTe0kjf8j4o',\n",
       " 'Z_XZlEw2FZY',\n",
       " 'e7mrGqwfJJI',\n",
       " 'n0Jc1i6Ns4g',\n",
       " 'rrEB1RcaSMk']"
      ]
     },
     "execution_count": 41,
     "metadata": {},
     "output_type": "execute_result"
    }
   ],
   "source": [
    "ex"
   ]
  },
  {
   "cell_type": "code",
   "execution_count": 42,
   "metadata": {
    "collapsed": true
   },
   "outputs": [],
   "source": [
    "non_examples4 = !grep /m/02qldy balanced_train_segments.csv | cut -c -11"
   ]
  },
  {
   "cell_type": "code",
   "execution_count": 43,
   "metadata": {},
   "outputs": [
    {
     "data": {
      "text/plain": [
       "['1aEh44p0EqY',\n",
       " '2Xr8KzAxM_M',\n",
       " '2mEH2FUWUTg',\n",
       " '3Sse-pHepOs',\n",
       " '58oT5Qwll5I',\n",
       " '5HDFxMNZj_Q',\n",
       " '6e0F1Y6aMZk',\n",
       " '7d7W7VhIVcM',\n",
       " 'B6zvUOhpdp0',\n",
       " 'C4-_w6N3plU',\n",
       " 'Cap2DBCBwe8',\n",
       " 'Cu_zqJWgALM',\n",
       " 'DTtm0QxR-Ew',\n",
       " 'DYlIBmbEP24',\n",
       " 'DeNCHPXfMhM',\n",
       " 'FwRo7yXVnL0',\n",
       " 'HNQJ_Oe7CmE',\n",
       " 'H_mBtFDCjZs',\n",
       " 'Iwbm9HEstk0',\n",
       " 'Iwgmxa6ndwU',\n",
       " 'J7XEhKhjkc4',\n",
       " 'JpE7tjiOSoA',\n",
       " 'LM4aNdXrNyw',\n",
       " 'LrGLxr9nENc',\n",
       " 'MEZmzYW-f8M',\n",
       " 'PBT3k8LIObI',\n",
       " 'PiuVtOemh9k',\n",
       " 'R62TPFzBQ40',\n",
       " 'RNeKHJTJZXQ',\n",
       " 'S3oTR3BCSL8',\n",
       " 'SR3pR5lYCyA',\n",
       " 'T6Nnh13dAok',\n",
       " 'THyp6cmUPxA',\n",
       " 'V6HPqVv1zM0',\n",
       " 'V832tQXcrRc',\n",
       " 'WFXh2N_FSxw',\n",
       " 'Y-CDakgc2Lc',\n",
       " 'Zy1T7kvM8aQ',\n",
       " 'aEgo8yFpiPg',\n",
       " 'aNrBZqiwwgk',\n",
       " 'eCD7t_WVELI',\n",
       " 'eO4zCFBQhDA',\n",
       " 'fZSTpXyty9Q',\n",
       " 'hysvgZGRiNo',\n",
       " 'iCFCsieIqYY',\n",
       " 'kN8YuYZsWto',\n",
       " 'kXQDE8Jg2l8',\n",
       " 'klocXUu9lPs',\n",
       " 'l1TthGJjkpM',\n",
       " 'lbIeTwkOrZo',\n",
       " 'lpID1blMc5k',\n",
       " 'nvbFwj__frg',\n",
       " 'pAntqlinCbk',\n",
       " 'pBaq3_GDAJg',\n",
       " 'qbB90L2LbfA',\n",
       " 'rJU0YG-TMQY',\n",
       " 'ski5qvahrJQ',\n",
       " 'tI6sm24HHis',\n",
       " 'vzJyowaYEyQ',\n",
       " 'yU6pPAt0cBw']"
      ]
     },
     "execution_count": 43,
     "metadata": {},
     "output_type": "execute_result"
    }
   ],
   "source": [
    "non_examples4"
   ]
  },
  {
   "cell_type": "code",
   "execution_count": 44,
   "metadata": {},
   "outputs": [
    {
     "data": {
      "text/plain": [
       "60"
      ]
     },
     "execution_count": 44,
     "metadata": {},
     "output_type": "execute_result"
    }
   ],
   "source": [
    "len(non_examples4)"
   ]
  },
  {
   "cell_type": "code",
   "execution_count": 45,
   "metadata": {},
   "outputs": [
    {
     "data": {
      "text/plain": [
       "'tI6sm24HHis'"
      ]
     },
     "execution_count": 45,
     "metadata": {},
     "output_type": "execute_result"
    }
   ],
   "source": [
    "non_examples4[57]"
   ]
  },
  {
   "cell_type": "code",
   "execution_count": 46,
   "metadata": {},
   "outputs": [
    {
     "data": {
      "text/plain": [
       "['3sApQ80QRiE',\n",
       " 'dfL7O46o9Wo',\n",
       " 'ppCtPNVwU7I',\n",
       " '34ZTxQaNfis',\n",
       " 'rHFOwlMCdto',\n",
       " '21L0pyts9WI',\n",
       " '2XP6Q2CXB-w',\n",
       " 'AKMuR1-yWAc',\n",
       " 'IsVHwMN_Mnw',\n",
       " 'Iu1nK9ixxAc',\n",
       " 'KlVkArn952g',\n",
       " 'Pvwv32w0cXU',\n",
       " 'USHLC03XQIw',\n",
       " 'UTe0kjf8j4o',\n",
       " 'Z_XZlEw2FZY',\n",
       " 'e7mrGqwfJJI',\n",
       " 'n0Jc1i6Ns4g',\n",
       " 'rrEB1RcaSMk',\n",
       " 'J7XEhKhjkc4',\n",
       " 'tI6sm24HHis']"
      ]
     },
     "execution_count": 46,
     "metadata": {},
     "output_type": "execute_result"
    }
   ],
   "source": [
    "ex.append(non_examples4[20])\n",
    "ex.append(non_examples4[57])\n",
    "ex"
   ]
  },
  {
   "cell_type": "code",
   "execution_count": 47,
   "metadata": {},
   "outputs": [
    {
     "data": {
      "text/plain": [
       "20"
      ]
     },
     "execution_count": 47,
     "metadata": {},
     "output_type": "execute_result"
    }
   ],
   "source": [
    "len(ex)"
   ]
  },
  {
   "cell_type": "code",
   "execution_count": 48,
   "metadata": {
    "collapsed": true
   },
   "outputs": [],
   "source": [
    "non_examples5 = !grep /m/0261r1 balanced_train_segments.csv | cut -c -11\n"
   ]
  },
  {
   "cell_type": "code",
   "execution_count": 49,
   "metadata": {},
   "outputs": [
    {
     "data": {
      "text/plain": [
       "['0d3kh_lETKc',\n",
       " '1vVpZDcRPsc',\n",
       " '4aAYwdY_r_8',\n",
       " '53Bx2EKZb-s',\n",
       " '5eoTmBjNl8A',\n",
       " '66pL4oeEWGE',\n",
       " '6oxzYHDgFaA',\n",
       " '7y6SMvFdov8',\n",
       " '8STVB5guQqg',\n",
       " '9PXdzAsN-Ss',\n",
       " 'AZWvTwtpTPY',\n",
       " 'BOoXaJfTsrQ',\n",
       " 'C1SqNwR-SFA',\n",
       " 'C3msYakeZUE',\n",
       " 'CZysUOZ1B7M',\n",
       " 'DQsIqraI1zk',\n",
       " 'F4MNazlTSQM',\n",
       " 'Fo1GjIO4su8',\n",
       " 'FuqquDb_Ffs',\n",
       " 'Gmb2nLsvh4A',\n",
       " 'H1RZqx1o92I',\n",
       " 'HRQ9uwkTGTU',\n",
       " 'HVv0jG7J0to',\n",
       " 'KwarJwojN0Y',\n",
       " 'LPcFZBFb7bo',\n",
       " 'LYnNI12BRQo',\n",
       " 'NF7QlFS6RVs',\n",
       " 'ONns3NeieFo',\n",
       " 'Pj_YzLKBYDQ',\n",
       " 'QIA4MHE9XOc',\n",
       " 'RD4NfdfsDPw',\n",
       " 'S1M_vwzA25k',\n",
       " 'S5-CkzJXxng',\n",
       " 'TdJt7z2ibhk',\n",
       " 'TlL45IWd0gk',\n",
       " 'TxWaRgpfg4c',\n",
       " 'URppqKbIZjk',\n",
       " 'VFDeywIJxdE',\n",
       " 'VHFjFr0hk2g',\n",
       " 'Xxte4Ez0FcM',\n",
       " 'YBCYwcqxRQU',\n",
       " 'YdjvBZdrGuo',\n",
       " 'ZR48r_8OhUI',\n",
       " 'Zo_wkyXVHPE',\n",
       " 'b7etZ94Mhrw',\n",
       " 'cJ4QLx8bwiQ',\n",
       " 'ceOYh-U6zUc',\n",
       " 'eVHnX7MrWNQ',\n",
       " 'fyE76QcAEgU',\n",
       " 'hhM7pEOpEAo',\n",
       " 'hxWBWPSw5vM',\n",
       " 'jJ-xaqcVmu0',\n",
       " 'kKf9OprN9nw',\n",
       " 'kf50dAfvfco',\n",
       " 'kkIRLR_77UQ',\n",
       " 'ps07pteP-7g',\n",
       " 'rDeldp48b1M',\n",
       " 'rF-N3jUEwHw',\n",
       " 'tqwlTctyIEI',\n",
       " 'vkuvXhauqsc']"
      ]
     },
     "execution_count": 49,
     "metadata": {},
     "output_type": "execute_result"
    }
   ],
   "source": [
    "non_examples5"
   ]
  },
  {
   "cell_type": "code",
   "execution_count": 50,
   "metadata": {},
   "outputs": [
    {
     "data": {
      "text/plain": [
       "'fyE76QcAEgU'"
      ]
     },
     "execution_count": 50,
     "metadata": {},
     "output_type": "execute_result"
    }
   ],
   "source": [
    "non_examples5[48]"
   ]
  },
  {
   "cell_type": "code",
   "execution_count": 51,
   "metadata": {},
   "outputs": [
    {
     "data": {
      "text/plain": [
       "['3sApQ80QRiE',\n",
       " 'dfL7O46o9Wo',\n",
       " 'ppCtPNVwU7I',\n",
       " '34ZTxQaNfis',\n",
       " 'rHFOwlMCdto',\n",
       " '21L0pyts9WI',\n",
       " '2XP6Q2CXB-w',\n",
       " 'AKMuR1-yWAc',\n",
       " 'IsVHwMN_Mnw',\n",
       " 'Iu1nK9ixxAc',\n",
       " 'KlVkArn952g',\n",
       " 'Pvwv32w0cXU',\n",
       " 'USHLC03XQIw',\n",
       " 'UTe0kjf8j4o',\n",
       " 'Z_XZlEw2FZY',\n",
       " 'e7mrGqwfJJI',\n",
       " 'n0Jc1i6Ns4g',\n",
       " 'rrEB1RcaSMk',\n",
       " 'J7XEhKhjkc4',\n",
       " 'tI6sm24HHis',\n",
       " '1vVpZDcRPsc',\n",
       " '66pL4oeEWGE',\n",
       " 'BOoXaJfTsrQ',\n",
       " 'C1SqNwR-SFA',\n",
       " 'DQsIqraI1zk',\n",
       " 'NF7QlFS6RVs',\n",
       " 'S1M_vwzA25k',\n",
       " 'TxWaRgpfg4c',\n",
       " 'URppqKbIZjk',\n",
       " 'VFDeywIJxdE',\n",
       " 'b7etZ94Mhrw',\n",
       " 'fyE76QcAEgU']"
      ]
     },
     "execution_count": 51,
     "metadata": {},
     "output_type": "execute_result"
    }
   ],
   "source": [
    "ex.append(non_examples5[1])\n",
    "ex.append(non_examples5[5])\n",
    "ex.append(non_examples5[11])\n",
    "ex.append(non_examples5[12])\n",
    "ex.append(non_examples5[15])\n",
    "ex.append(non_examples5[26])\n",
    "ex.append(non_examples5[31])\n",
    "ex.append(non_examples5[35])\n",
    "ex.append(non_examples5[36])\n",
    "ex.append(non_examples5[37])\n",
    "ex.append(non_examples5[44])\n",
    "ex.append(non_examples5[48])\n",
    "ex"
   ]
  },
  {
   "cell_type": "code",
   "execution_count": 52,
   "metadata": {},
   "outputs": [
    {
     "data": {
      "text/plain": [
       "32"
      ]
     },
     "execution_count": 52,
     "metadata": {},
     "output_type": "execute_result"
    }
   ],
   "source": [
    "len(ex)"
   ]
  },
  {
   "cell_type": "code",
   "execution_count": 53,
   "metadata": {
    "collapsed": true
   },
   "outputs": [],
   "source": [
    "non_examples6 = !grep /m/0brhx balanced_train_segments.csv | cut -c -11"
   ]
  },
  {
   "cell_type": "code",
   "execution_count": 54,
   "metadata": {},
   "outputs": [
    {
     "data": {
      "text/plain": [
       "['0hoeAmqwvyY',\n",
       " '0jzTEIxgsjM',\n",
       " '0rAyrmm7vv0',\n",
       " '0xX5k9enX1M',\n",
       " '24OPDiqr6VA',\n",
       " '2P7aahQlG48',\n",
       " '5HYe8BFKQr4',\n",
       " '6e0F1Y6aMZk',\n",
       " '7ALU6YNOf2w',\n",
       " '7pzUYFtzVjs',\n",
       " '8-Qtd6RhfVA',\n",
       " '9tuceHq8HX4',\n",
       " 'AywQ34L_nYg',\n",
       " 'B25RukLTrYk',\n",
       " 'B6zvUOhpdp0',\n",
       " 'Cu_zqJWgALM',\n",
       " 'E0WTUcp85_0',\n",
       " 'E9vVmkq9Puc',\n",
       " 'FeFw7_o7nL8',\n",
       " 'GRfMi0usR5c',\n",
       " 'INgI5U_AOak',\n",
       " 'IwWuaRrllys',\n",
       " 'J1AM2MK_18g',\n",
       " 'JZroSE4NVu0',\n",
       " 'JtPcsFkrbSU',\n",
       " 'Ln6VGCB8f_c',\n",
       " 'OJ9GetszIWM',\n",
       " 'QivjsTY4lBM',\n",
       " 'SOINI7tfBIQ',\n",
       " 'Sc4gh5gP1AE',\n",
       " 'VgIJ6DlKSdU',\n",
       " 'WAhuBGcAzB8',\n",
       " 'YJ4c5atUjsE',\n",
       " 'YuD7XapNM1k',\n",
       " 'Z_2nM1GEllg',\n",
       " '_AJqf3uJTkw',\n",
       " '_O9Rf02Lxnw',\n",
       " '_cxfPPvX4Bg',\n",
       " 'a4Ay4RfMm1U',\n",
       " 'bM8YGsAmeqE',\n",
       " 'bjBmT8y9PAU',\n",
       " 'cB79pnU2f2I',\n",
       " 'dsXPTN9YI3o',\n",
       " 'fZrqdZFFb5c',\n",
       " 'hI1f9wt6yIM',\n",
       " 'ipU6F4Q7tvQ',\n",
       " 'jJh5PETGihs',\n",
       " 'kTXk5Yh8Oxc',\n",
       " 'kjlkpuTp2vw',\n",
       " 'kuvq-X9sdr0',\n",
       " 'pcYrTCGKyrU',\n",
       " 'pzwT0n9BTxU',\n",
       " 'qOvIESa32JA',\n",
       " 'qqbQ_oKmflM',\n",
       " 'uOapqJ_x3G0',\n",
       " 'wfDSBIrDJks',\n",
       " 'x3AEOXNYzQk',\n",
       " 'xgmGITyOSRo',\n",
       " 'y1fWjtaoK_k',\n",
       " 'zmD1CQIJFec']"
      ]
     },
     "execution_count": 54,
     "metadata": {},
     "output_type": "execute_result"
    }
   ],
   "source": [
    "non_examples6"
   ]
  },
  {
   "cell_type": "code",
   "execution_count": 55,
   "metadata": {},
   "outputs": [
    {
     "data": {
      "text/plain": [
       "'qOvIESa32JA'"
      ]
     },
     "execution_count": 55,
     "metadata": {},
     "output_type": "execute_result"
    }
   ],
   "source": [
    "non_examples6[52]"
   ]
  },
  {
   "cell_type": "code",
   "execution_count": 56,
   "metadata": {},
   "outputs": [
    {
     "data": {
      "text/plain": [
       "['3sApQ80QRiE',\n",
       " 'dfL7O46o9Wo',\n",
       " 'ppCtPNVwU7I',\n",
       " '34ZTxQaNfis',\n",
       " 'rHFOwlMCdto',\n",
       " '21L0pyts9WI',\n",
       " '2XP6Q2CXB-w',\n",
       " 'AKMuR1-yWAc',\n",
       " 'IsVHwMN_Mnw',\n",
       " 'Iu1nK9ixxAc',\n",
       " 'KlVkArn952g',\n",
       " 'Pvwv32w0cXU',\n",
       " 'USHLC03XQIw',\n",
       " 'UTe0kjf8j4o',\n",
       " 'Z_XZlEw2FZY',\n",
       " 'e7mrGqwfJJI',\n",
       " 'n0Jc1i6Ns4g',\n",
       " 'rrEB1RcaSMk',\n",
       " 'J7XEhKhjkc4',\n",
       " 'tI6sm24HHis',\n",
       " '1vVpZDcRPsc',\n",
       " '66pL4oeEWGE',\n",
       " 'BOoXaJfTsrQ',\n",
       " 'C1SqNwR-SFA',\n",
       " 'DQsIqraI1zk',\n",
       " 'NF7QlFS6RVs',\n",
       " 'S1M_vwzA25k',\n",
       " 'TxWaRgpfg4c',\n",
       " 'URppqKbIZjk',\n",
       " 'VFDeywIJxdE',\n",
       " 'b7etZ94Mhrw',\n",
       " 'fyE76QcAEgU',\n",
       " '0xX5k9enX1M',\n",
       " '2P7aahQlG48',\n",
       " '5HYe8BFKQr4',\n",
       " '7pzUYFtzVjs',\n",
       " '8-Qtd6RhfVA',\n",
       " '9tuceHq8HX4',\n",
       " 'AywQ34L_nYg',\n",
       " 'FeFw7_o7nL8',\n",
       " 'INgI5U_AOak',\n",
       " 'IwWuaRrllys',\n",
       " 'JtPcsFkrbSU',\n",
       " 'Ln6VGCB8f_c',\n",
       " 'QivjsTY4lBM',\n",
       " 'SOINI7tfBIQ',\n",
       " 'VgIJ6DlKSdU',\n",
       " 'WAhuBGcAzB8',\n",
       " 'a4Ay4RfMm1U',\n",
       " 'dsXPTN9YI3o',\n",
       " 'fZrqdZFFb5c',\n",
       " 'kTXk5Yh8Oxc',\n",
       " 'pzwT0n9BTxU',\n",
       " 'qOvIESa32JA']"
      ]
     },
     "execution_count": 56,
     "metadata": {},
     "output_type": "execute_result"
    }
   ],
   "source": [
    "ex.append(non_examples6[3])\n",
    "ex.append(non_examples6[5])\n",
    "ex.append(non_examples6[6])\n",
    "ex.append(non_examples6[9])\n",
    "ex.append(non_examples6[10])\n",
    "ex.append(non_examples6[11])\n",
    "ex.append(non_examples6[12])\n",
    "ex.append(non_examples6[18])\n",
    "ex.append(non_examples6[20])\n",
    "ex.append(non_examples6[21])\n",
    "ex.append(non_examples6[24])\n",
    "ex.append(non_examples6[25])\n",
    "ex.append(non_examples6[27])\n",
    "ex.append(non_examples6[28])\n",
    "ex.append(non_examples6[30])\n",
    "ex.append(non_examples6[31])\n",
    "ex.append(non_examples6[38])\n",
    "ex.append(non_examples6[42])\n",
    "ex.append(non_examples6[43])\n",
    "ex.append(non_examples6[47])\n",
    "ex.append(non_examples6[51])\n",
    "ex.append(non_examples6[52])\n",
    "ex"
   ]
  },
  {
   "cell_type": "code",
   "execution_count": 57,
   "metadata": {},
   "outputs": [
    {
     "data": {
      "text/plain": [
       "54"
      ]
     },
     "execution_count": 57,
     "metadata": {},
     "output_type": "execute_result"
    }
   ],
   "source": [
    "len(ex)"
   ]
  },
  {
   "cell_type": "code",
   "execution_count": 58,
   "metadata": {
    "collapsed": true
   },
   "outputs": [],
   "source": [
    "non_examples7 = !grep /m/07q4ntr balanced_train_segments.csv | cut -c -11"
   ]
  },
  {
   "cell_type": "code",
   "execution_count": 59,
   "metadata": {},
   "outputs": [
    {
     "data": {
      "text/plain": [
       "['-lYg4hm25hU',\n",
       " '-yXsEIH3Tbg',\n",
       " '07-vpXo91XM',\n",
       " '2rI9D2T-WZs',\n",
       " '3kjZVMrgwJs',\n",
       " '3pqWcHci9jU',\n",
       " '3zVgCg1-xy0',\n",
       " '4Pc9rWewLIY',\n",
       " '5hpBWJ2OSpo',\n",
       " '63vq0dyyOGc',\n",
       " '695nvt2cbP8',\n",
       " '6eOcgtRy4Vw',\n",
       " '8P1zDWnpa30',\n",
       " '8XIsw5VBfLk',\n",
       " 'BfBp-33aXDs',\n",
       " 'Db06mHi_gaY',\n",
       " 'FD7parB_sk8',\n",
       " 'FDFO-hImAPs',\n",
       " 'GDk_-DgGipo',\n",
       " 'HfmD4ZncSbo',\n",
       " 'HtyMpKaL1RA',\n",
       " 'IDAQxzUoxe8',\n",
       " 'IfA-DcUwZvs',\n",
       " 'KZH-2CVh2so',\n",
       " 'Kmwnd0cwVIU',\n",
       " 'L6-eNSjRSgg',\n",
       " 'LYkSKqeDpdw',\n",
       " 'Mp9yyb05MMg',\n",
       " 'OZWpv-nzjfc',\n",
       " 'Orz5S6gqL-4',\n",
       " 'PZi6z7LApKI',\n",
       " 'QzWWBi7grhw',\n",
       " 'S7qYg5Xje74',\n",
       " 'TGjH3bji5Ac',\n",
       " 'Tr58sD07MHU',\n",
       " 'UicMvYZLuVM',\n",
       " 'UuRoy-d0D-M',\n",
       " 'Wbas2Hie-1c',\n",
       " 'WpVG0MxjlPo',\n",
       " 'XjGm3Bn4j5k',\n",
       " 'YL6LFjxNjiI',\n",
       " 'YWVL47Wc4u4',\n",
       " 'ZvzHWhnWz0o',\n",
       " '_eK3QgA_fo8',\n",
       " 'bu9kzIKhqrU',\n",
       " 'bxDj6JhIjSo',\n",
       " 'cWRyAikxMZg',\n",
       " 'cabjr3xtcR4',\n",
       " 'cqxko2iExFY',\n",
       " 'd8ZMfwYuW0E',\n",
       " 'e4EwrAN6lvU',\n",
       " 'jIE4UYtolbE',\n",
       " 'l3sbm7M28ug',\n",
       " 'nzs-k5tz2Cc',\n",
       " 'puqPTZbAXi8',\n",
       " 'qz-7dEyYYDI',\n",
       " 'sErVkWNm_W4',\n",
       " 'ur77tjswGMU',\n",
       " 'usqM-22gdGw',\n",
       " 'vYIA1bLxNng']"
      ]
     },
     "execution_count": 59,
     "metadata": {},
     "output_type": "execute_result"
    }
   ],
   "source": [
    "non_examples7"
   ]
  },
  {
   "cell_type": "code",
   "execution_count": 60,
   "metadata": {},
   "outputs": [
    {
     "data": {
      "text/plain": [
       "'sErVkWNm_W4'"
      ]
     },
     "execution_count": 60,
     "metadata": {},
     "output_type": "execute_result"
    }
   ],
   "source": [
    "non_examples7[56]"
   ]
  },
  {
   "cell_type": "code",
   "execution_count": 61,
   "metadata": {
    "collapsed": true
   },
   "outputs": [],
   "source": [
    "ex.append(non_examples7[37])\n",
    "ex.append(non_examples7[41])\n",
    "ex.append(non_examples7[56])"
   ]
  },
  {
   "cell_type": "code",
   "execution_count": 62,
   "metadata": {},
   "outputs": [
    {
     "data": {
      "text/plain": [
       "57"
      ]
     },
     "execution_count": 62,
     "metadata": {},
     "output_type": "execute_result"
    }
   ],
   "source": [
    "len(ex)"
   ]
  },
  {
   "cell_type": "code",
   "execution_count": 63,
   "metadata": {},
   "outputs": [
    {
     "data": {
      "text/plain": [
       "['3sApQ80QRiE',\n",
       " 'dfL7O46o9Wo',\n",
       " 'ppCtPNVwU7I',\n",
       " '34ZTxQaNfis',\n",
       " 'rHFOwlMCdto',\n",
       " '21L0pyts9WI',\n",
       " '2XP6Q2CXB-w',\n",
       " 'AKMuR1-yWAc',\n",
       " 'IsVHwMN_Mnw',\n",
       " 'Iu1nK9ixxAc',\n",
       " 'KlVkArn952g',\n",
       " 'Pvwv32w0cXU',\n",
       " 'USHLC03XQIw',\n",
       " 'UTe0kjf8j4o',\n",
       " 'Z_XZlEw2FZY',\n",
       " 'e7mrGqwfJJI',\n",
       " 'n0Jc1i6Ns4g',\n",
       " 'rrEB1RcaSMk',\n",
       " 'J7XEhKhjkc4',\n",
       " 'tI6sm24HHis',\n",
       " '1vVpZDcRPsc',\n",
       " '66pL4oeEWGE',\n",
       " 'BOoXaJfTsrQ',\n",
       " 'C1SqNwR-SFA',\n",
       " 'DQsIqraI1zk',\n",
       " 'NF7QlFS6RVs',\n",
       " 'S1M_vwzA25k',\n",
       " 'TxWaRgpfg4c',\n",
       " 'URppqKbIZjk',\n",
       " 'VFDeywIJxdE',\n",
       " 'b7etZ94Mhrw',\n",
       " 'fyE76QcAEgU',\n",
       " '0xX5k9enX1M',\n",
       " '2P7aahQlG48',\n",
       " '5HYe8BFKQr4',\n",
       " '7pzUYFtzVjs',\n",
       " '8-Qtd6RhfVA',\n",
       " '9tuceHq8HX4',\n",
       " 'AywQ34L_nYg',\n",
       " 'FeFw7_o7nL8',\n",
       " 'INgI5U_AOak',\n",
       " 'IwWuaRrllys',\n",
       " 'JtPcsFkrbSU',\n",
       " 'Ln6VGCB8f_c',\n",
       " 'QivjsTY4lBM',\n",
       " 'SOINI7tfBIQ',\n",
       " 'VgIJ6DlKSdU',\n",
       " 'WAhuBGcAzB8',\n",
       " 'a4Ay4RfMm1U',\n",
       " 'dsXPTN9YI3o',\n",
       " 'fZrqdZFFb5c',\n",
       " 'kTXk5Yh8Oxc',\n",
       " 'pzwT0n9BTxU',\n",
       " 'qOvIESa32JA',\n",
       " 'Wbas2Hie-1c',\n",
       " 'YWVL47Wc4u4',\n",
       " 'sErVkWNm_W4']"
      ]
     },
     "execution_count": 63,
     "metadata": {},
     "output_type": "execute_result"
    }
   ],
   "source": [
    "ex"
   ]
  },
  {
   "cell_type": "code",
   "execution_count": 64,
   "metadata": {
    "collapsed": true
   },
   "outputs": [],
   "source": [
    "non_examples8 = !grep /m/07rwj3x balanced_train_segments.csv | cut -c -11"
   ]
  },
  {
   "cell_type": "code",
   "execution_count": 65,
   "metadata": {},
   "outputs": [
    {
     "data": {
      "text/plain": [
       "['-DvxsHG1tuo',\n",
       " '-uCkr7KFkYg',\n",
       " '1--9ZSW-7Rg',\n",
       " '1ej-NI9vgkk',\n",
       " '2TauJ1KBMdY',\n",
       " '2hBVVym00rc',\n",
       " '3sApQ80QRiE',\n",
       " '4nPihZzUq_k',\n",
       " '5L-sKSpgHwk',\n",
       " '5fM3QwAAZQ0',\n",
       " '6e0F1Y6aMZk',\n",
       " '7oGd1ucd8r0',\n",
       " '7qWiBG8N10A',\n",
       " 'BnFJ87ZwU-A',\n",
       " 'CIiZFckAT5M',\n",
       " 'CSfJWw9cM2s',\n",
       " 'Cu_zqJWgALM',\n",
       " 'DPzoYrz6Mi8',\n",
       " 'DeNCHPXfMhM',\n",
       " 'ESw7bibTj4A',\n",
       " 'FXPzzMf6W8g',\n",
       " 'G__lySaTeNM',\n",
       " 'GtGaiVGQ33w',\n",
       " 'HXWWFYcVJto',\n",
       " 'IV-RGxUofVQ',\n",
       " 'J9ZQcJJBmj4',\n",
       " 'JQz76trKbNk',\n",
       " 'LUQfjwASDq4',\n",
       " 'RlJ5DvWC_yY',\n",
       " 'V5HMIxuAtv8',\n",
       " 'VOUm1PTYpB0',\n",
       " 'WMsGCMfaKbs',\n",
       " 'X62-7mo72jA',\n",
       " 'X7weoQRFmc0',\n",
       " 'YVb3KEwK1Uc',\n",
       " '_Xq-8R7CB44',\n",
       " '_ud-sCXmue0',\n",
       " 'cEsF3Oh1-gU',\n",
       " 'cSrL0BXsO40',\n",
       " 'd-V3FtnzYLo',\n",
       " 'ddsEVCK5qZw',\n",
       " 'dfL7O46o9Wo',\n",
       " 'drVo5VQfsDc',\n",
       " 'hPSK-10z-kQ',\n",
       " 'iYrfMKz1xE8',\n",
       " 'ity1vO-OyDM',\n",
       " 'kVQbu_BsZ9o',\n",
       " 'k_kRSOra2qA',\n",
       " 'lADzLzhjqPw',\n",
       " 'lm_K_5nwhCk',\n",
       " 'mYsjO2kEXRA',\n",
       " 'mcyM8m5D8uE',\n",
       " 'miwuZGdJKtI',\n",
       " 'pOPg5gfWwTs',\n",
       " 'ppCtPNVwU7I',\n",
       " 'upcL7tojfd4',\n",
       " 'wcby3DVW57s',\n",
       " 'xHqgVaGI21g',\n",
       " 'y2AulW5N9PE',\n",
       " 'zOOasM0HvsY']"
      ]
     },
     "execution_count": 65,
     "metadata": {},
     "output_type": "execute_result"
    }
   ],
   "source": [
    "non_examples"
   ]
  },
  {
   "cell_type": "code",
   "execution_count": 66,
   "metadata": {},
   "outputs": [
    {
     "data": {
      "text/plain": [
       "'R-h1dee2S94'"
      ]
     },
     "execution_count": 66,
     "metadata": {},
     "output_type": "execute_result"
    }
   ],
   "source": [
    "non_examples8[27]"
   ]
  },
  {
   "cell_type": "code",
   "execution_count": 67,
   "metadata": {
    "collapsed": true
   },
   "outputs": [],
   "source": [
    "ex.append(non_examples8[27])"
   ]
  },
  {
   "cell_type": "code",
   "execution_count": 68,
   "metadata": {},
   "outputs": [
    {
     "data": {
      "text/plain": [
       "['3sApQ80QRiE',\n",
       " 'dfL7O46o9Wo',\n",
       " 'ppCtPNVwU7I',\n",
       " '34ZTxQaNfis',\n",
       " 'rHFOwlMCdto',\n",
       " '21L0pyts9WI',\n",
       " '2XP6Q2CXB-w',\n",
       " 'AKMuR1-yWAc',\n",
       " 'IsVHwMN_Mnw',\n",
       " 'Iu1nK9ixxAc',\n",
       " 'KlVkArn952g',\n",
       " 'Pvwv32w0cXU',\n",
       " 'USHLC03XQIw',\n",
       " 'UTe0kjf8j4o',\n",
       " 'Z_XZlEw2FZY',\n",
       " 'e7mrGqwfJJI',\n",
       " 'n0Jc1i6Ns4g',\n",
       " 'rrEB1RcaSMk',\n",
       " 'J7XEhKhjkc4',\n",
       " 'tI6sm24HHis',\n",
       " '1vVpZDcRPsc',\n",
       " '66pL4oeEWGE',\n",
       " 'BOoXaJfTsrQ',\n",
       " 'C1SqNwR-SFA',\n",
       " 'DQsIqraI1zk',\n",
       " 'NF7QlFS6RVs',\n",
       " 'S1M_vwzA25k',\n",
       " 'TxWaRgpfg4c',\n",
       " 'URppqKbIZjk',\n",
       " 'VFDeywIJxdE',\n",
       " 'b7etZ94Mhrw',\n",
       " 'fyE76QcAEgU',\n",
       " '0xX5k9enX1M',\n",
       " '2P7aahQlG48',\n",
       " '5HYe8BFKQr4',\n",
       " '7pzUYFtzVjs',\n",
       " '8-Qtd6RhfVA',\n",
       " '9tuceHq8HX4',\n",
       " 'AywQ34L_nYg',\n",
       " 'FeFw7_o7nL8',\n",
       " 'INgI5U_AOak',\n",
       " 'IwWuaRrllys',\n",
       " 'JtPcsFkrbSU',\n",
       " 'Ln6VGCB8f_c',\n",
       " 'QivjsTY4lBM',\n",
       " 'SOINI7tfBIQ',\n",
       " 'VgIJ6DlKSdU',\n",
       " 'WAhuBGcAzB8',\n",
       " 'a4Ay4RfMm1U',\n",
       " 'dsXPTN9YI3o',\n",
       " 'fZrqdZFFb5c',\n",
       " 'kTXk5Yh8Oxc',\n",
       " 'pzwT0n9BTxU',\n",
       " 'qOvIESa32JA',\n",
       " 'Wbas2Hie-1c',\n",
       " 'YWVL47Wc4u4',\n",
       " 'sErVkWNm_W4',\n",
       " 'R-h1dee2S94']"
      ]
     },
     "execution_count": 68,
     "metadata": {},
     "output_type": "execute_result"
    }
   ],
   "source": [
    "ex"
   ]
  },
  {
   "cell_type": "code",
   "execution_count": 69,
   "metadata": {},
   "outputs": [
    {
     "data": {
      "text/plain": [
       "58"
      ]
     },
     "execution_count": 69,
     "metadata": {},
     "output_type": "execute_result"
    }
   ],
   "source": [
    "len(ex)"
   ]
  },
  {
   "cell_type": "code",
   "execution_count": 70,
   "metadata": {
    "collapsed": true
   },
   "outputs": [],
   "source": [
    "non_examples9 = !grep /m/07sr1lc balanced_train_segments.csv | cut -c -11"
   ]
  },
  {
   "cell_type": "code",
   "execution_count": 71,
   "metadata": {},
   "outputs": [
    {
     "data": {
      "text/plain": [
       "['-DvxsHG1tuo',\n",
       " '09l9A1XVbpY',\n",
       " '1MvzeSDi10M',\n",
       " '1wqkBBMHJA8',\n",
       " '2rM5bInx6wY',\n",
       " '3zVgCg1-xy0',\n",
       " '4Pc9rWewLIY',\n",
       " '6aVDXoU2j2M',\n",
       " '89QvaK9Zffc',\n",
       " '9LDw8ke99oA',\n",
       " 'AaUZb-iRStE',\n",
       " 'AmF2OyiHLP4',\n",
       " 'Ch5nAE76soo',\n",
       " 'DFdYd-jsIsA',\n",
       " 'DIie2jq3xBQ',\n",
       " 'FDFO-hImAPs',\n",
       " 'G8iTuTi8ywU',\n",
       " 'GOCTV12hBDo',\n",
       " 'IEyvrZfHoZQ',\n",
       " 'JDr9vCrexGM',\n",
       " 'Kmwnd0cwVIU',\n",
       " 'Kno1Qt815WI',\n",
       " 'LkvIaeBY164',\n",
       " 'Lp3KfgK__8g',\n",
       " 'NJXKJUubRKo',\n",
       " 'NYDTluKDZLk',\n",
       " 'P_q4EsZ1rzw',\n",
       " 'TFl2cBk1rgo',\n",
       " 'TbDZszb3nNs',\n",
       " 'UnAYJUXMjsM',\n",
       " 'V9u9CgGerd0',\n",
       " '_DimZ1upYMU',\n",
       " 'bIvXUoEUW_4',\n",
       " 'cFQAUzaaC5E',\n",
       " 'cWRyAikxMZg',\n",
       " 'gYBXpwc6gdg',\n",
       " 'i-2fDHPXLpo',\n",
       " 'iyB-_U-E5hI',\n",
       " 'k2g9nHMaGJg',\n",
       " 'k6ra5xM5H7Y',\n",
       " 'lSaiA2tIgw0',\n",
       " 'lnrNzyDHTe8',\n",
       " 'mB2FAS0DNkk',\n",
       " 'mSM-W0CorRY',\n",
       " 'mhFeUbaq9uc',\n",
       " 'oTEXk4wk37k',\n",
       " 'oxQyuDoFno0',\n",
       " 'pHC25Ia8Dxo',\n",
       " 'pLnHpv-W2Tc',\n",
       " 'qtNTHnXOQew',\n",
       " 'r7VBDgfPBco',\n",
       " 'sPtje4_RAJc',\n",
       " 't9O1WbYKiGE',\n",
       " 'tbYM5Wtz-U8',\n",
       " 'u9MoBesaX6A',\n",
       " 'vXpmjNcONdo',\n",
       " 'vYIA1bLxNng',\n",
       " 'xt4ewl1J6oA',\n",
       " 'yc_bzicMBzg',\n",
       " 'ykkVTInYctY']"
      ]
     },
     "execution_count": 71,
     "metadata": {},
     "output_type": "execute_result"
    }
   ],
   "source": [
    "non_examples9"
   ]
  },
  {
   "cell_type": "code",
   "execution_count": 72,
   "metadata": {},
   "outputs": [
    {
     "data": {
      "text/plain": [
       "'tbYM5Wtz-U8'"
      ]
     },
     "execution_count": 72,
     "metadata": {},
     "output_type": "execute_result"
    }
   ],
   "source": [
    "non_examples9[53]"
   ]
  },
  {
   "cell_type": "code",
   "execution_count": 73,
   "metadata": {
    "collapsed": true
   },
   "outputs": [],
   "source": [
    "ex.append(non_examples9[8])\n",
    "ex.append(non_examples9[30])\n",
    "ex.append(non_examples9[39])\n",
    "ex.append(non_examples9[40])\n",
    "ex.append(non_examples9[48])\n",
    "ex.append(non_examples9[53])"
   ]
  },
  {
   "cell_type": "code",
   "execution_count": 74,
   "metadata": {},
   "outputs": [
    {
     "data": {
      "text/plain": [
       "['3sApQ80QRiE',\n",
       " 'dfL7O46o9Wo',\n",
       " 'ppCtPNVwU7I',\n",
       " '34ZTxQaNfis',\n",
       " 'rHFOwlMCdto',\n",
       " '21L0pyts9WI',\n",
       " '2XP6Q2CXB-w',\n",
       " 'AKMuR1-yWAc',\n",
       " 'IsVHwMN_Mnw',\n",
       " 'Iu1nK9ixxAc',\n",
       " 'KlVkArn952g',\n",
       " 'Pvwv32w0cXU',\n",
       " 'USHLC03XQIw',\n",
       " 'UTe0kjf8j4o',\n",
       " 'Z_XZlEw2FZY',\n",
       " 'e7mrGqwfJJI',\n",
       " 'n0Jc1i6Ns4g',\n",
       " 'rrEB1RcaSMk',\n",
       " 'J7XEhKhjkc4',\n",
       " 'tI6sm24HHis',\n",
       " '1vVpZDcRPsc',\n",
       " '66pL4oeEWGE',\n",
       " 'BOoXaJfTsrQ',\n",
       " 'C1SqNwR-SFA',\n",
       " 'DQsIqraI1zk',\n",
       " 'NF7QlFS6RVs',\n",
       " 'S1M_vwzA25k',\n",
       " 'TxWaRgpfg4c',\n",
       " 'URppqKbIZjk',\n",
       " 'VFDeywIJxdE',\n",
       " 'b7etZ94Mhrw',\n",
       " 'fyE76QcAEgU',\n",
       " '0xX5k9enX1M',\n",
       " '2P7aahQlG48',\n",
       " '5HYe8BFKQr4',\n",
       " '7pzUYFtzVjs',\n",
       " '8-Qtd6RhfVA',\n",
       " '9tuceHq8HX4',\n",
       " 'AywQ34L_nYg',\n",
       " 'FeFw7_o7nL8',\n",
       " 'INgI5U_AOak',\n",
       " 'IwWuaRrllys',\n",
       " 'JtPcsFkrbSU',\n",
       " 'Ln6VGCB8f_c',\n",
       " 'QivjsTY4lBM',\n",
       " 'SOINI7tfBIQ',\n",
       " 'VgIJ6DlKSdU',\n",
       " 'WAhuBGcAzB8',\n",
       " 'a4Ay4RfMm1U',\n",
       " 'dsXPTN9YI3o',\n",
       " 'fZrqdZFFb5c',\n",
       " 'kTXk5Yh8Oxc',\n",
       " 'pzwT0n9BTxU',\n",
       " 'qOvIESa32JA',\n",
       " 'Wbas2Hie-1c',\n",
       " 'YWVL47Wc4u4',\n",
       " 'sErVkWNm_W4',\n",
       " 'R-h1dee2S94',\n",
       " '89QvaK9Zffc',\n",
       " 'V9u9CgGerd0',\n",
       " 'k6ra5xM5H7Y',\n",
       " 'lSaiA2tIgw0',\n",
       " 'pLnHpv-W2Tc',\n",
       " 'tbYM5Wtz-U8']"
      ]
     },
     "execution_count": 74,
     "metadata": {},
     "output_type": "execute_result"
    }
   ],
   "source": [
    "ex"
   ]
  },
  {
   "cell_type": "code",
   "execution_count": 75,
   "metadata": {},
   "outputs": [
    {
     "data": {
      "text/plain": [
       "64"
      ]
     },
     "execution_count": 75,
     "metadata": {},
     "output_type": "execute_result"
    }
   ],
   "source": [
    "len(ex)"
   ]
  },
  {
   "cell_type": "code",
   "execution_count": 76,
   "metadata": {
    "collapsed": true
   },
   "outputs": [],
   "source": [
    "non_examples10 = !grep /m/025_jnm balanced_train_segments.csv | cut -c -11"
   ]
  },
  {
   "cell_type": "code",
   "execution_count": 77,
   "metadata": {},
   "outputs": [
    {
     "data": {
      "text/plain": [
       "['-C5dEU4zpJg',\n",
       " '0YcJSD6q-yw',\n",
       " '5FqpEMVvtkI',\n",
       " '5JPq68Fdqv0',\n",
       " '6aBqeQYPGGM',\n",
       " '7YAS-Qo_sjI',\n",
       " '8BqAIp1Blkc',\n",
       " '8HXqsTTG2AA',\n",
       " 'AEMzmaMsV9M',\n",
       " 'AJ5QYVaZWp8',\n",
       " 'Avs_-f9_n8A',\n",
       " 'D0M-XV6EkSs',\n",
       " 'DPv42TS7EY8',\n",
       " 'FjiCMXDhUas',\n",
       " 'Hi-q3tpszho',\n",
       " 'II1oyaWPiD0',\n",
       " 'J3W0GUqDDag',\n",
       " 'J66cd8MLqK4',\n",
       " 'JwWoO-dafDc',\n",
       " 'KZrj6IIBHVE',\n",
       " 'LSMd0B5dASQ',\n",
       " 'MOH7Vpy7A_E',\n",
       " 'MbKkOpo09iI',\n",
       " 'Mrm82kPHFzM',\n",
       " 'SwaMPxI4Nck',\n",
       " 'U7GdoSpUb7Y',\n",
       " 'VWlY1s_2-K4',\n",
       " 'W_BfYIHg7j4',\n",
       " 'Wora7N2DaNM',\n",
       " 'Wp5AiCmbQjA',\n",
       " 'XE9GjWthDAA',\n",
       " 'XEG1OdTNlKM',\n",
       " 'XY94GCgWMZM',\n",
       " 'XjjxnpDBzBc',\n",
       " '_EWQBMKD_ZI',\n",
       " '_GWRK9tct58',\n",
       " '_e7dRfvWLPo',\n",
       " 'aMln3YY4J0E',\n",
       " 'b2sgO1Lbak4',\n",
       " 'cQgrzhSKJ5Y',\n",
       " 'd9LXn681vXQ',\n",
       " 'dyNbC_W0W50',\n",
       " 'gW9U5w-IaTo',\n",
       " 'jBvZSlIH9gw',\n",
       " 'jSLUMk6B_5A',\n",
       " 'jXEfaRaf4f8',\n",
       " 'mT5tvjwIPOo',\n",
       " 'njYHHWpgIaE',\n",
       " 'oWDOOFujd6k',\n",
       " 'ofHhfDm-zBQ',\n",
       " 'ohpWTvrGycU',\n",
       " 'onjN--K8C80',\n",
       " 'pCbrZb_ajiw',\n",
       " 'qLd4y2RoQ3U',\n",
       " 'sHWUC_rg2So',\n",
       " 'svnvMzRpUQM',\n",
       " 'swd5kCLRtTs',\n",
       " 'up8_wtekblc',\n",
       " 'vxrM-HU9ITQ',\n",
       " 'yBJLinwFi5E']"
      ]
     },
     "execution_count": 77,
     "metadata": {},
     "output_type": "execute_result"
    }
   ],
   "source": [
    "non_examples10\n"
   ]
  },
  {
   "cell_type": "code",
   "execution_count": 78,
   "metadata": {},
   "outputs": [
    {
     "data": {
      "text/plain": [
       "'up8_wtekblc'"
      ]
     },
     "execution_count": 78,
     "metadata": {},
     "output_type": "execute_result"
    }
   ],
   "source": [
    "non_examples10[57]"
   ]
  },
  {
   "cell_type": "code",
   "execution_count": 79,
   "metadata": {
    "collapsed": true
   },
   "outputs": [],
   "source": [
    "ex.append(non_examples10[1])\n",
    "ex.append(non_examples10[2])\n",
    "ex.append(non_examples10[4])\n",
    "ex.append(non_examples10[7])\n",
    "ex.append(non_examples10[12])\n",
    "ex.append(non_examples10[18])\n",
    "ex.append(non_examples10[31])\n",
    "ex.append(non_examples10[34])\n",
    "ex.append(non_examples10[35])\n",
    "ex.append(non_examples10[39])\n",
    "ex.append(non_examples10[40])\n",
    "ex.append(non_examples10[42])\n",
    "ex.append(non_examples10[43])\n",
    "ex.append(non_examples10[45])\n",
    "ex.append(non_examples10[47])\n",
    "ex.append(non_examples10[48])\n",
    "ex.append(non_examples10[53])\n",
    "ex.append(non_examples10[54])\n",
    "ex.append(non_examples10[56])\n",
    "ex.append(non_examples10[57])"
   ]
  },
  {
   "cell_type": "code",
   "execution_count": 80,
   "metadata": {},
   "outputs": [
    {
     "data": {
      "text/plain": [
       "84"
      ]
     },
     "execution_count": 80,
     "metadata": {},
     "output_type": "execute_result"
    }
   ],
   "source": [
    "len(ex)"
   ]
  },
  {
   "cell_type": "code",
   "execution_count": 81,
   "metadata": {},
   "outputs": [
    {
     "data": {
      "text/plain": [
       "['3sApQ80QRiE',\n",
       " 'dfL7O46o9Wo',\n",
       " 'ppCtPNVwU7I',\n",
       " '34ZTxQaNfis',\n",
       " 'rHFOwlMCdto',\n",
       " '21L0pyts9WI',\n",
       " '2XP6Q2CXB-w',\n",
       " 'AKMuR1-yWAc',\n",
       " 'IsVHwMN_Mnw',\n",
       " 'Iu1nK9ixxAc',\n",
       " 'KlVkArn952g',\n",
       " 'Pvwv32w0cXU',\n",
       " 'USHLC03XQIw',\n",
       " 'UTe0kjf8j4o',\n",
       " 'Z_XZlEw2FZY',\n",
       " 'e7mrGqwfJJI',\n",
       " 'n0Jc1i6Ns4g',\n",
       " 'rrEB1RcaSMk',\n",
       " 'J7XEhKhjkc4',\n",
       " 'tI6sm24HHis',\n",
       " '1vVpZDcRPsc',\n",
       " '66pL4oeEWGE',\n",
       " 'BOoXaJfTsrQ',\n",
       " 'C1SqNwR-SFA',\n",
       " 'DQsIqraI1zk',\n",
       " 'NF7QlFS6RVs',\n",
       " 'S1M_vwzA25k',\n",
       " 'TxWaRgpfg4c',\n",
       " 'URppqKbIZjk',\n",
       " 'VFDeywIJxdE',\n",
       " 'b7etZ94Mhrw',\n",
       " 'fyE76QcAEgU',\n",
       " '0xX5k9enX1M',\n",
       " '2P7aahQlG48',\n",
       " '5HYe8BFKQr4',\n",
       " '7pzUYFtzVjs',\n",
       " '8-Qtd6RhfVA',\n",
       " '9tuceHq8HX4',\n",
       " 'AywQ34L_nYg',\n",
       " 'FeFw7_o7nL8',\n",
       " 'INgI5U_AOak',\n",
       " 'IwWuaRrllys',\n",
       " 'JtPcsFkrbSU',\n",
       " 'Ln6VGCB8f_c',\n",
       " 'QivjsTY4lBM',\n",
       " 'SOINI7tfBIQ',\n",
       " 'VgIJ6DlKSdU',\n",
       " 'WAhuBGcAzB8',\n",
       " 'a4Ay4RfMm1U',\n",
       " 'dsXPTN9YI3o',\n",
       " 'fZrqdZFFb5c',\n",
       " 'kTXk5Yh8Oxc',\n",
       " 'pzwT0n9BTxU',\n",
       " 'qOvIESa32JA',\n",
       " 'Wbas2Hie-1c',\n",
       " 'YWVL47Wc4u4',\n",
       " 'sErVkWNm_W4',\n",
       " 'R-h1dee2S94',\n",
       " '89QvaK9Zffc',\n",
       " 'V9u9CgGerd0',\n",
       " 'k6ra5xM5H7Y',\n",
       " 'lSaiA2tIgw0',\n",
       " 'pLnHpv-W2Tc',\n",
       " 'tbYM5Wtz-U8',\n",
       " '0YcJSD6q-yw',\n",
       " '5FqpEMVvtkI',\n",
       " '6aBqeQYPGGM',\n",
       " '8HXqsTTG2AA',\n",
       " 'DPv42TS7EY8',\n",
       " 'JwWoO-dafDc',\n",
       " 'XEG1OdTNlKM',\n",
       " '_EWQBMKD_ZI',\n",
       " '_GWRK9tct58',\n",
       " 'cQgrzhSKJ5Y',\n",
       " 'd9LXn681vXQ',\n",
       " 'gW9U5w-IaTo',\n",
       " 'jBvZSlIH9gw',\n",
       " 'jXEfaRaf4f8',\n",
       " 'njYHHWpgIaE',\n",
       " 'oWDOOFujd6k',\n",
       " 'qLd4y2RoQ3U',\n",
       " 'sHWUC_rg2So',\n",
       " 'swd5kCLRtTs',\n",
       " 'up8_wtekblc']"
      ]
     },
     "execution_count": 81,
     "metadata": {},
     "output_type": "execute_result"
    }
   ],
   "source": [
    "ex"
   ]
  },
  {
   "cell_type": "code",
   "execution_count": 82,
   "metadata": {
    "collapsed": true
   },
   "outputs": [],
   "source": [
    "non_examples11 = !grep /m/01jg1z balanced_train_segments.csv | cut -c -11"
   ]
  },
  {
   "cell_type": "code",
   "execution_count": 83,
   "metadata": {},
   "outputs": [
    {
     "data": {
      "text/plain": [
       "['-76P3VHPuus',\n",
       " '-CHMeZVAe2s',\n",
       " '1UszJJe0GmY',\n",
       " '1hizec7Ei2Y',\n",
       " '2LSIfeHDMkc',\n",
       " '2QCxV6lFtXI',\n",
       " '2TPXZlM7ZbM',\n",
       " '4VL_PAsGhJQ',\n",
       " '4ii3rP7iK1I',\n",
       " '5w5XYrdeQ7U',\n",
       " '5zKR4yzfkPA',\n",
       " '9rvi7aeLIeM',\n",
       " 'AWjbtXIIE54',\n",
       " 'BYdBPbSYSvg',\n",
       " 'CVbd86Xi1a0',\n",
       " 'DtgdD48804M',\n",
       " 'EBMD15Aj0eA',\n",
       " 'EckBRJSjumY',\n",
       " 'ID-AT98D3Tc',\n",
       " 'IcoCfcyK-EI',\n",
       " 'JudWpbMN-2w',\n",
       " 'KJq6jaU80lk',\n",
       " 'L-servVtfX0',\n",
       " 'LOetNqcZB5c',\n",
       " 'LZjatOInQW0',\n",
       " 'MPAQBKg3fhY',\n",
       " 'OumNF-wm7EM',\n",
       " 'RDeHk2z3ryE',\n",
       " 'SDoaCFFGt6A',\n",
       " 'SIQqT8XOBzw',\n",
       " 'TKTZWi0v23w',\n",
       " 'Tz5LuXmoBsQ',\n",
       " 'Ue8tRqk8Xlg',\n",
       " 'UpYkuf0greU',\n",
       " 'UzMJO7bxHDE',\n",
       " 'Vlz5rVf_Mlk',\n",
       " 'WDbR2wnsTeo',\n",
       " 'ZIF84Cq9ae0',\n",
       " 'ZtcXa5COxHM',\n",
       " 'bldV5gyFoNM',\n",
       " 'd-q5cKlqTgg',\n",
       " 'd8_7lrOjTVg',\n",
       " 'eosgQDxEAXo',\n",
       " 'esU_ynI1CX8',\n",
       " 'fx3-JxVOwog',\n",
       " 'hD6ee9A2TGk',\n",
       " 'jLF55fcHvMU',\n",
       " 'kGMj3CgNHYw',\n",
       " 'kLdHpgN9kwU',\n",
       " 'leafx-yErPE',\n",
       " 'mgadzk41_oM',\n",
       " 'opxEW8R5wN4',\n",
       " 'pbLD2Ljn-is',\n",
       " 'qWNT-fZJQc8',\n",
       " 'qvQADmDpncI',\n",
       " 'rdkRhekgUjk',\n",
       " 's9P0PRt5IKY',\n",
       " 'stQTqkI2f-Y',\n",
       " 'w2bd5zzom9c',\n",
       " 'y5CcncRHl38']"
      ]
     },
     "execution_count": 83,
     "metadata": {},
     "output_type": "execute_result"
    }
   ],
   "source": [
    "non_examples11"
   ]
  },
  {
   "cell_type": "code",
   "execution_count": 84,
   "metadata": {},
   "outputs": [
    {
     "data": {
      "text/plain": [
       "'y5CcncRHl38'"
      ]
     },
     "execution_count": 84,
     "metadata": {},
     "output_type": "execute_result"
    }
   ],
   "source": [
    "non_examples11[59]"
   ]
  },
  {
   "cell_type": "code",
   "execution_count": 85,
   "metadata": {
    "collapsed": true
   },
   "outputs": [],
   "source": [
    "ex.append(non_examples11[0])\n",
    "ex.append(non_examples11[1])\n",
    "ex.append(non_examples11[8])\n",
    "ex.append(non_examples11[9])\n",
    "ex.append(non_examples11[13])\n",
    "ex.append(non_examples11[16])\n",
    "ex.append(non_examples11[21])\n",
    "ex.append(non_examples11[22])\n",
    "ex.append(non_examples11[23])\n",
    "ex.append(non_examples11[24])\n",
    "ex.append(non_examples11[26])\n",
    "ex.append(non_examples11[27])\n",
    "ex.append(non_examples11[35])\n",
    "ex.append(non_examples11[37])\n",
    "ex.append(non_examples11[45])\n",
    "ex.append(non_examples11[47])\n",
    "ex.append(non_examples11[49])\n",
    "ex.append(non_examples11[50])\n",
    "ex.append(non_examples11[52])\n",
    "ex.append(non_examples11[56])\n",
    "ex.append(non_examples11[57])\n",
    "ex.append(non_examples11[59])"
   ]
  },
  {
   "cell_type": "code",
   "execution_count": 86,
   "metadata": {},
   "outputs": [
    {
     "data": {
      "text/plain": [
       "['3sApQ80QRiE',\n",
       " 'dfL7O46o9Wo',\n",
       " 'ppCtPNVwU7I',\n",
       " '34ZTxQaNfis',\n",
       " 'rHFOwlMCdto',\n",
       " '21L0pyts9WI',\n",
       " '2XP6Q2CXB-w',\n",
       " 'AKMuR1-yWAc',\n",
       " 'IsVHwMN_Mnw',\n",
       " 'Iu1nK9ixxAc',\n",
       " 'KlVkArn952g',\n",
       " 'Pvwv32w0cXU',\n",
       " 'USHLC03XQIw',\n",
       " 'UTe0kjf8j4o',\n",
       " 'Z_XZlEw2FZY',\n",
       " 'e7mrGqwfJJI',\n",
       " 'n0Jc1i6Ns4g',\n",
       " 'rrEB1RcaSMk',\n",
       " 'J7XEhKhjkc4',\n",
       " 'tI6sm24HHis',\n",
       " '1vVpZDcRPsc',\n",
       " '66pL4oeEWGE',\n",
       " 'BOoXaJfTsrQ',\n",
       " 'C1SqNwR-SFA',\n",
       " 'DQsIqraI1zk',\n",
       " 'NF7QlFS6RVs',\n",
       " 'S1M_vwzA25k',\n",
       " 'TxWaRgpfg4c',\n",
       " 'URppqKbIZjk',\n",
       " 'VFDeywIJxdE',\n",
       " 'b7etZ94Mhrw',\n",
       " 'fyE76QcAEgU',\n",
       " '0xX5k9enX1M',\n",
       " '2P7aahQlG48',\n",
       " '5HYe8BFKQr4',\n",
       " '7pzUYFtzVjs',\n",
       " '8-Qtd6RhfVA',\n",
       " '9tuceHq8HX4',\n",
       " 'AywQ34L_nYg',\n",
       " 'FeFw7_o7nL8',\n",
       " 'INgI5U_AOak',\n",
       " 'IwWuaRrllys',\n",
       " 'JtPcsFkrbSU',\n",
       " 'Ln6VGCB8f_c',\n",
       " 'QivjsTY4lBM',\n",
       " 'SOINI7tfBIQ',\n",
       " 'VgIJ6DlKSdU',\n",
       " 'WAhuBGcAzB8',\n",
       " 'a4Ay4RfMm1U',\n",
       " 'dsXPTN9YI3o',\n",
       " 'fZrqdZFFb5c',\n",
       " 'kTXk5Yh8Oxc',\n",
       " 'pzwT0n9BTxU',\n",
       " 'qOvIESa32JA',\n",
       " 'Wbas2Hie-1c',\n",
       " 'YWVL47Wc4u4',\n",
       " 'sErVkWNm_W4',\n",
       " 'R-h1dee2S94',\n",
       " '89QvaK9Zffc',\n",
       " 'V9u9CgGerd0',\n",
       " 'k6ra5xM5H7Y',\n",
       " 'lSaiA2tIgw0',\n",
       " 'pLnHpv-W2Tc',\n",
       " 'tbYM5Wtz-U8',\n",
       " '0YcJSD6q-yw',\n",
       " '5FqpEMVvtkI',\n",
       " '6aBqeQYPGGM',\n",
       " '8HXqsTTG2AA',\n",
       " 'DPv42TS7EY8',\n",
       " 'JwWoO-dafDc',\n",
       " 'XEG1OdTNlKM',\n",
       " '_EWQBMKD_ZI',\n",
       " '_GWRK9tct58',\n",
       " 'cQgrzhSKJ5Y',\n",
       " 'd9LXn681vXQ',\n",
       " 'gW9U5w-IaTo',\n",
       " 'jBvZSlIH9gw',\n",
       " 'jXEfaRaf4f8',\n",
       " 'njYHHWpgIaE',\n",
       " 'oWDOOFujd6k',\n",
       " 'qLd4y2RoQ3U',\n",
       " 'sHWUC_rg2So',\n",
       " 'swd5kCLRtTs',\n",
       " 'up8_wtekblc',\n",
       " '-76P3VHPuus',\n",
       " '-CHMeZVAe2s',\n",
       " '4ii3rP7iK1I',\n",
       " '5w5XYrdeQ7U',\n",
       " 'BYdBPbSYSvg',\n",
       " 'EBMD15Aj0eA',\n",
       " 'KJq6jaU80lk',\n",
       " 'L-servVtfX0',\n",
       " 'LOetNqcZB5c',\n",
       " 'LZjatOInQW0',\n",
       " 'OumNF-wm7EM',\n",
       " 'RDeHk2z3ryE',\n",
       " 'Vlz5rVf_Mlk',\n",
       " 'ZIF84Cq9ae0',\n",
       " 'hD6ee9A2TGk',\n",
       " 'kGMj3CgNHYw',\n",
       " 'leafx-yErPE',\n",
       " 'mgadzk41_oM',\n",
       " 'pbLD2Ljn-is',\n",
       " 's9P0PRt5IKY',\n",
       " 'stQTqkI2f-Y',\n",
       " 'y5CcncRHl38']"
      ]
     },
     "execution_count": 86,
     "metadata": {},
     "output_type": "execute_result"
    }
   ],
   "source": [
    "ex"
   ]
  },
  {
   "cell_type": "code",
   "execution_count": 87,
   "metadata": {},
   "outputs": [
    {
     "data": {
      "text/plain": [
       "106"
      ]
     },
     "execution_count": 87,
     "metadata": {},
     "output_type": "execute_result"
    }
   ],
   "source": [
    "len(ex)"
   ]
  },
  {
   "cell_type": "code",
   "execution_count": 88,
   "metadata": {
    "collapsed": true
   },
   "outputs": [],
   "source": [
    "non_examples12 = !grep /m/028ght  balanced_train_segments.csv | cut -c -11"
   ]
  },
  {
   "cell_type": "code",
   "execution_count": 89,
   "metadata": {},
   "outputs": [
    {
     "data": {
      "text/plain": [
       "['-Dl-VzBPd9E',\n",
       " '17kDSc8viaY',\n",
       " '1SlyRu7fIzk',\n",
       " '1W0qnjiRqiI',\n",
       " '1_DouJRW3PM',\n",
       " '2y9ikTsTsl0',\n",
       " '3Odt59FJTXg',\n",
       " '3PliaLqMSqg',\n",
       " '4DRBtsaDoCY',\n",
       " '5TeNq3WAOjw',\n",
       " '60kn1weBK8M',\n",
       " '69ys5sgaWog',\n",
       " '7Bon3WIhDq4',\n",
       " '9Kdg5U8AXrQ',\n",
       " '9xO4zF1fJgA',\n",
       " 'BLnOPA7oMxY',\n",
       " 'BW25L9uMX0Q',\n",
       " 'EWI6u8wVAlk',\n",
       " 'FzhypkGmdBA',\n",
       " 'G1gm5FyHpw0',\n",
       " 'IcGBLr99nYY',\n",
       " 'In9FM4xhmkA',\n",
       " 'K5h6KIIukHc',\n",
       " 'K5rY4Cy2iHs',\n",
       " 'KQZixCY25QU',\n",
       " 'Lkg9SQwQYaE',\n",
       " 'M1NWfTh1C08',\n",
       " 'M3m_FhNfPKU',\n",
       " 'Nx3veQOSH2k',\n",
       " 'O97_4xoYq8A',\n",
       " 'PJUffXn-LIk',\n",
       " 'PMAy3dJbEGQ',\n",
       " 'QRUqcDaxIfs',\n",
       " 'QUO4olgDVes',\n",
       " 'SpWZ32YTFw4',\n",
       " 'ThF0NS3ejok',\n",
       " 'Uvu61DMB2Qc',\n",
       " 'W2ZYTeaKLag',\n",
       " 'Y8sHHzZ6bS8',\n",
       " 'anujpzVRneY',\n",
       " 'gelP4l9me1Y',\n",
       " 'gkokj7BhkAE',\n",
       " 'guvwGAj_xO4',\n",
       " 'hD1u-7ROwZg',\n",
       " 'heAw4z71lvo',\n",
       " 'i8o96xwalAM',\n",
       " 'iq10bz3PxyY',\n",
       " 'jSC3k_UgPOI',\n",
       " 'l-j82fp24_U',\n",
       " 'nd4wZwPTf5o',\n",
       " 'nieNjGjjK_I',\n",
       " 'oMgVmFzBrus',\n",
       " 'p1EhaANeYCI',\n",
       " 'p39iuYKqYdw',\n",
       " 'pDH7G4gQrEk',\n",
       " 'pHj8U-3RHc4',\n",
       " 'qTe2SHAFf4s',\n",
       " 'sPFB-z2ezXk',\n",
       " 'sw2nfdNRAn0',\n",
       " 'vIy0EtEeLEw',\n",
       " 'vyuBG_HceUI',\n",
       " 'wM2MjZgCZho',\n",
       " 'wp7904Uk4qk',\n",
       " 'yZm0BfXYvFg']"
      ]
     },
     "execution_count": 89,
     "metadata": {},
     "output_type": "execute_result"
    }
   ],
   "source": [
    "non_examples12"
   ]
  },
  {
   "cell_type": "code",
   "execution_count": 90,
   "metadata": {},
   "outputs": [
    {
     "data": {
      "text/plain": [
       "106"
      ]
     },
     "execution_count": 90,
     "metadata": {},
     "output_type": "execute_result"
    }
   ],
   "source": [
    "len(ex)"
   ]
  },
  {
   "cell_type": "code",
   "execution_count": 91,
   "metadata": {
    "collapsed": true
   },
   "outputs": [],
   "source": [
    "non_examples13 = !grep /m/07mzm6 balanced_train_segments.csv | cut -c -11\n"
   ]
  },
  {
   "cell_type": "code",
   "execution_count": 92,
   "metadata": {},
   "outputs": [
    {
     "data": {
      "text/plain": [
       "['-BcwR0CSZ4w',\n",
       " '2PXcJCAVf38',\n",
       " '3FjZlRziyaw',\n",
       " '6J0Emf3BQ8k',\n",
       " '8L4Qi6TjdiI',\n",
       " 'BWfsqYJSCAA',\n",
       " 'EduyXGoXoB4',\n",
       " 'F-Cu2ib8DEA',\n",
       " 'FTePTiRR_tA',\n",
       " 'FuViqr6l2pU',\n",
       " 'GdXtn6Ei6Kw',\n",
       " 'HZkf_MYRRnU',\n",
       " 'Hi93ivFcvy0',\n",
       " 'HucapaDsAhg',\n",
       " 'IvfCYhQXLd0',\n",
       " 'JtSqLgLn2OQ',\n",
       " 'K7-P2PyLXVk',\n",
       " 'N7L3RA-QTdE',\n",
       " 'NPVIL-WOOM4',\n",
       " 'Nx_dv66OPgc',\n",
       " 'OWXJL2QT9QY',\n",
       " 'QPH58kNCxuY',\n",
       " 'QhT_6IT7HcU',\n",
       " 'R7X7RVx2HIg',\n",
       " 'RK7ZATsJY0I',\n",
       " 'R_zac9Kh6O4',\n",
       " 'SVz7X1gqlcw',\n",
       " 'SzTRYOdYcbw',\n",
       " 'TL69HIcUSxo',\n",
       " '_0wt8z6h-cE',\n",
       " 'aPN-7CnRjxo',\n",
       " 'aTtFjajpi3Y',\n",
       " 'bSi6EyJ_QMM',\n",
       " 'cguaj4Bk5c0',\n",
       " 'fjJ36C0MZys',\n",
       " 'gFtJiTh6EM8',\n",
       " 'g_9mA0RQp7U',\n",
       " 'hZ4d_dQm8jA',\n",
       " 'i8t1XTkSyqw',\n",
       " 'i9WQYspipj4',\n",
       " 'jerBFHnx9es',\n",
       " 'kQCy7XXb7Ws',\n",
       " 'l7b6OxAb7D8',\n",
       " 'mGD6gamyX5A',\n",
       " 'mUE-IlUrLr8',\n",
       " 'nF2qiya1Ul4',\n",
       " 'pDoCgld4xII',\n",
       " 'pr6t5b2zM7Q',\n",
       " 'qEv7NBFezUA',\n",
       " 'rECur58TKIA',\n",
       " 'rgg378LXd9k',\n",
       " 'rlgtcjChCSE',\n",
       " 'sgs0pr3vzbM',\n",
       " 'u9suS-TECq4',\n",
       " 'uJdt8mW_peU',\n",
       " 'um7oN8j9nTU',\n",
       " 'vUN3Q4zAwqI',\n",
       " 'w8f_WvVNqHM',\n",
       " 'ynh-t49MCMo']"
      ]
     },
     "execution_count": 92,
     "metadata": {},
     "output_type": "execute_result"
    }
   ],
   "source": [
    "non_examples13"
   ]
  },
  {
   "cell_type": "code",
   "execution_count": 93,
   "metadata": {},
   "outputs": [
    {
     "data": {
      "text/plain": [
       "59"
      ]
     },
     "execution_count": 93,
     "metadata": {},
     "output_type": "execute_result"
    }
   ],
   "source": [
    "len(non_examples13)"
   ]
  },
  {
   "cell_type": "code",
   "execution_count": 94,
   "metadata": {},
   "outputs": [
    {
     "data": {
      "text/plain": [
       "'uJdt8mW_peU'"
      ]
     },
     "execution_count": 94,
     "metadata": {},
     "output_type": "execute_result"
    }
   ],
   "source": [
    "non_examples13[54]"
   ]
  },
  {
   "cell_type": "code",
   "execution_count": 95,
   "metadata": {
    "collapsed": true
   },
   "outputs": [],
   "source": [
    "ex.append(non_examples13[2])\n",
    "ex.append(non_examples13[5])\n",
    "ex.append(non_examples13[7])\n",
    "ex.append(non_examples13[13])\n",
    "ex.append(non_examples13[14])\n",
    "ex.append(non_examples13[15])\n",
    "ex.append(non_examples13[22])\n",
    "ex.append(non_examples13[27])\n",
    "ex.append(non_examples13[31])\n",
    "ex.append(non_examples13[32])\n",
    "ex.append(non_examples13[33])\n",
    "ex.append(non_examples13[38])\n",
    "ex.append(non_examples13[54])"
   ]
  },
  {
   "cell_type": "code",
   "execution_count": 96,
   "metadata": {},
   "outputs": [
    {
     "data": {
      "text/plain": [
       "119"
      ]
     },
     "execution_count": 96,
     "metadata": {},
     "output_type": "execute_result"
    }
   ],
   "source": [
    "len(ex)"
   ]
  },
  {
   "cell_type": "code",
   "execution_count": 97,
   "metadata": {
    "collapsed": true
   },
   "outputs": [],
   "source": [
    "non_examples14 = !grep /m/01b_21 balanced_train_segments.csv | cut -c -11"
   ]
  },
  {
   "cell_type": "code",
   "execution_count": 98,
   "metadata": {},
   "outputs": [
    {
     "data": {
      "text/plain": [
       "['1PajbAKd8Kg',\n",
       " '1e3_ucOz0Ik',\n",
       " '1jc3YPwYfC4',\n",
       " '2I2IzXnhmtc',\n",
       " '2ZfwEg4JaiU',\n",
       " '4EiskLYtkO4',\n",
       " '4WLF2CT0eCM',\n",
       " '58jMS3K5iMo',\n",
       " '8N5XxcJ7QOU',\n",
       " '8l8ghk2CDbE',\n",
       " 'DXUmi-gSRww',\n",
       " 'DkCIFy4OWno',\n",
       " 'EBwiCVS_gBs',\n",
       " 'EX0ZF-jNWIg',\n",
       " 'FTePTiRR_tA',\n",
       " 'Fu8Ze7MgXb4',\n",
       " 'GbD3F5S_4cQ',\n",
       " 'IN6FFTlq_8c',\n",
       " 'J6_hvIunXnU',\n",
       " 'K7k1tH72E4k',\n",
       " 'M6bs_l-76uw',\n",
       " 'Maul1ExUbfk',\n",
       " 'MoXvWqQ2v38',\n",
       " 'Nihn9j68pBE',\n",
       " 'ObbEE5JoDJE',\n",
       " 'P4Vp5cMKjL0',\n",
       " 'PCRY7zF-Oyg',\n",
       " 'PQ1NJa6U_Mc',\n",
       " 'QQouRzOM9BM',\n",
       " 'R0AJ_4W0f8k',\n",
       " 'SQei2xJFNpk',\n",
       " 'UZa8hjP92GM',\n",
       " 'VGUn3tueVLE',\n",
       " 'VdaTqi6O4d0',\n",
       " 'YTP7YMaEm1s',\n",
       " 'ZBzNxwQk9XE',\n",
       " 'ZK0nR3j1pAY',\n",
       " 'ZvKn6e1AZCU',\n",
       " '_AjXY9cHCxA',\n",
       " 'aAJuPyUvHn8',\n",
       " 'ao9oox4OiGU',\n",
       " 'b24uboHG_GE',\n",
       " 'bCOmV_G0pkk',\n",
       " 'c4MUgtiDtDY',\n",
       " 'fDlIO__7vv0',\n",
       " 'j0VnD6MrOjc',\n",
       " 'lTGJX5f2scI',\n",
       " 'lvtn_PxRQm4',\n",
       " 'mVamaP3xUw0',\n",
       " 'nfdEAfLG7qQ',\n",
       " 'oBLLs2UcJbQ',\n",
       " 'ovP1V_dqcKs',\n",
       " 'phcb_32Cmbo',\n",
       " 'qOSdHmfwLF4',\n",
       " 'qW5-hZGGx9U',\n",
       " 'rsH2f778DnM',\n",
       " 'sNCKIJFUj5I',\n",
       " 'sspVoY8hZEY',\n",
       " 'y5q8M5iRS4A',\n",
       " 'zWOD_bnFjF8']"
      ]
     },
     "execution_count": 98,
     "metadata": {},
     "output_type": "execute_result"
    }
   ],
   "source": [
    "non_examples14"
   ]
  },
  {
   "cell_type": "code",
   "execution_count": 99,
   "metadata": {},
   "outputs": [
    {
     "data": {
      "text/plain": [
       "'zWOD_bnFjF8'"
      ]
     },
     "execution_count": 99,
     "metadata": {},
     "output_type": "execute_result"
    }
   ],
   "source": [
    "non_examples14[59]"
   ]
  },
  {
   "cell_type": "code",
   "execution_count": 100,
   "metadata": {
    "collapsed": true
   },
   "outputs": [],
   "source": [
    "ex.append(non_examples14[0])\n",
    "ex.append(non_examples14[3])\n",
    "ex.append(non_examples14[5])\n",
    "ex.append(non_examples14[6])\n",
    "ex.append(non_examples14[19])\n",
    "ex.append(non_examples14[23])\n",
    "ex.append(non_examples14[28])\n",
    "ex.append(non_examples14[29])\n",
    "ex.append(non_examples14[34])\n",
    "ex.append(non_examples14[37])\n",
    "ex.append(non_examples14[40])\n",
    "ex.append(non_examples14[46])\n",
    "ex.append(non_examples14[49])\n",
    "ex.append(non_examples14[58])\n",
    "ex.append(non_examples14[59])\n"
   ]
  },
  {
   "cell_type": "code",
   "execution_count": 101,
   "metadata": {},
   "outputs": [
    {
     "data": {
      "text/plain": [
       "134"
      ]
     },
     "execution_count": 101,
     "metadata": {},
     "output_type": "execute_result"
    }
   ],
   "source": [
    "len(ex)"
   ]
  },
  {
   "cell_type": "code",
   "execution_count": 102,
   "metadata": {
    "collapsed": true
   },
   "outputs": [],
   "source": [
    "non_examples15 = !grep /m/01hsr_ balanced_train_segments.csv | cut -c -11"
   ]
  },
  {
   "cell_type": "code",
   "execution_count": 103,
   "metadata": {},
   "outputs": [
    {
     "data": {
      "text/plain": [
       "['-oxqoh8EgGw',\n",
       " '0ey3c39Vll8',\n",
       " '1alQZjvWr38',\n",
       " '7ItYW-0XFo0',\n",
       " '7bdrH_w1uqA',\n",
       " '8B32v_APxZg',\n",
       " '8L4Qi6TjdiI',\n",
       " '9S1BddmLYMA',\n",
       " '9YYMQCcK8VY',\n",
       " 'A-E7TsAkUT4',\n",
       " 'B6ginKdsPRE',\n",
       " 'B8dq3Zi_NDA',\n",
       " 'BPGZsM5gWO4',\n",
       " 'CIiZFckAT5M',\n",
       " 'EBwiCVS_gBs',\n",
       " 'ENQHBEQwnqQ',\n",
       " 'EY9WIUNU1qw',\n",
       " 'Erib847YFwc',\n",
       " 'FuViqr6l2pU',\n",
       " 'GbD3F5S_4cQ',\n",
       " 'H9lwtewdd0o',\n",
       " 'Ig1BY5XogIc',\n",
       " 'K6Ff4JRgj0s',\n",
       " 'K7-P2PyLXVk',\n",
       " 'MF5oxE3J8Yw',\n",
       " 'MvqUmfD92AE',\n",
       " 'Mw6qbBeBvLM',\n",
       " 'Nx_dv66OPgc',\n",
       " 'R7X7RVx2HIg',\n",
       " 'SNdKLFxQh-k',\n",
       " 'T-O6kf9P870',\n",
       " 'VruWVPsPYNQ',\n",
       " 'XVPapoUWaFY',\n",
       " 'XkvEg4aBdWs',\n",
       " 'Z3jNWaspEZ8',\n",
       " '_oB7jlzuphI',\n",
       " 'abSLhN9TLEw',\n",
       " 'bLrdZUg1yKo',\n",
       " 'cN2hPN5zAAQ',\n",
       " 'eOxI9f9gvqo',\n",
       " 'fIvj2yZLcVg',\n",
       " 'gFtJiTh6EM8',\n",
       " 'gY9rtF2vEOQ',\n",
       " 'gvGLttTUjDM',\n",
       " 'gyF_tG0M9cM',\n",
       " 'h2ZgzMe6pqc',\n",
       " 'hKbLIAEsMQE',\n",
       " 'huPKd-c_5OY',\n",
       " 'lLFTdmM7nSE',\n",
       " 'm9l9Qr0odVA',\n",
       " 'mUvMGoyCiyI',\n",
       " 'o9GrSNyMeTU',\n",
       " 'oGGQaSTJ6Fw',\n",
       " 'pbDO1W3OFFM',\n",
       " 'qEv7NBFezUA',\n",
       " 'qPp2onMDFrI',\n",
       " 'qtMYTzJ7R8E',\n",
       " 'sNCKIJFUj5I',\n",
       " 'vZUVj_NLDP8',\n",
       " 'zhH3QeoBZDI']"
      ]
     },
     "execution_count": 103,
     "metadata": {},
     "output_type": "execute_result"
    }
   ],
   "source": [
    "non_examples15"
   ]
  },
  {
   "cell_type": "code",
   "execution_count": 104,
   "metadata": {},
   "outputs": [
    {
     "data": {
      "text/plain": [
       "'zhH3QeoBZDI'"
      ]
     },
     "execution_count": 104,
     "metadata": {},
     "output_type": "execute_result"
    }
   ],
   "source": [
    "non_examples15[59]"
   ]
  },
  {
   "cell_type": "code",
   "execution_count": 105,
   "metadata": {
    "collapsed": true
   },
   "outputs": [],
   "source": [
    "ex.append(non_examples15[2])\n",
    "ex.append(non_examples15[4])\n",
    "ex.append(non_examples15[7])\n",
    "ex.append(non_examples15[9])\n",
    "ex.append(non_examples15[17])\n",
    "ex.append(non_examples15[20])\n",
    "ex.append(non_examples15[26])\n",
    "ex.append(non_examples15[36])\n",
    "ex.append(non_examples15[38])\n",
    "ex.append(non_examples15[42])\n",
    "ex.append(non_examples15[46])\n",
    "ex.append(non_examples15[48])\n",
    "ex.append(non_examples15[49])\n",
    "ex.append(non_examples15[52])\n",
    "ex.append(non_examples15[53])\n",
    "ex.append(non_examples15[59])"
   ]
  },
  {
   "cell_type": "code",
   "execution_count": 106,
   "metadata": {},
   "outputs": [
    {
     "data": {
      "text/plain": [
       "150"
      ]
     },
     "execution_count": 106,
     "metadata": {},
     "output_type": "execute_result"
    }
   ],
   "source": [
    "len(ex)"
   ]
  },
  {
   "cell_type": "code",
   "execution_count": 107,
   "metadata": {},
   "outputs": [
    {
     "data": {
      "text/plain": [
       "IPython.utils.text.SList"
      ]
     },
     "execution_count": 107,
     "metadata": {},
     "output_type": "execute_result"
    }
   ],
   "source": [
    "type(new_ex)\n",
    "\n"
   ]
  },
  {
   "cell_type": "code",
   "execution_count": 123,
   "metadata": {
    "collapsed": true
   },
   "outputs": [],
   "source": [
    "tfrecord_prefixes_non = set([i[:2] for i in ex])"
   ]
  },
  {
   "cell_type": "code",
   "execution_count": 124,
   "metadata": {},
   "outputs": [
    {
     "data": {
      "text/plain": [
       "147"
      ]
     },
     "execution_count": 124,
     "metadata": {},
     "output_type": "execute_result"
    }
   ],
   "source": [
    "len(tfrecord_prefixes_non)"
   ]
  },
  {
   "cell_type": "code",
   "execution_count": 125,
   "metadata": {},
   "outputs": [
    {
     "data": {
      "text/plain": [
       "list"
      ]
     },
     "execution_count": 125,
     "metadata": {},
     "output_type": "execute_result"
    }
   ],
   "source": [
    "type(tfrecord_filenames)"
   ]
  },
  {
   "cell_type": "code",
   "execution_count": 126,
   "metadata": {
    "collapsed": true
   },
   "outputs": [],
   "source": [
    "tfrecord_filenames_non = ['bal_train/' + i + '.tfrecord' for i in tfrecord_prefixes_non]"
   ]
  },
  {
   "cell_type": "code",
   "execution_count": 127,
   "metadata": {},
   "outputs": [
    {
     "data": {
      "text/plain": [
       "{'-7',\n",
       " '-C',\n",
       " '0Y',\n",
       " '0x',\n",
       " '1P',\n",
       " '1a',\n",
       " '1v',\n",
       " '21',\n",
       " '2I',\n",
       " '2P',\n",
       " '2X',\n",
       " '34',\n",
       " '3F',\n",
       " '3s',\n",
       " '4E',\n",
       " '4W',\n",
       " '4i',\n",
       " '5F',\n",
       " '5H',\n",
       " '5w',\n",
       " '66',\n",
       " '6a',\n",
       " '7b',\n",
       " '7p',\n",
       " '8-',\n",
       " '89',\n",
       " '8H',\n",
       " '9S',\n",
       " '9t',\n",
       " 'A-',\n",
       " 'AK',\n",
       " 'Ay',\n",
       " 'BO',\n",
       " 'BW',\n",
       " 'BY',\n",
       " 'C1',\n",
       " 'DP',\n",
       " 'DQ',\n",
       " 'EB',\n",
       " 'Er',\n",
       " 'F-',\n",
       " 'Fe',\n",
       " 'H9',\n",
       " 'Hu',\n",
       " 'IN',\n",
       " 'Is',\n",
       " 'Iu',\n",
       " 'Iv',\n",
       " 'Iw',\n",
       " 'J7',\n",
       " 'Jt',\n",
       " 'Jw',\n",
       " 'K7',\n",
       " 'KJ',\n",
       " 'Kl',\n",
       " 'L-',\n",
       " 'LO',\n",
       " 'LZ',\n",
       " 'Ln',\n",
       " 'Mw',\n",
       " 'NF',\n",
       " 'Ni',\n",
       " 'Ou',\n",
       " 'Pv',\n",
       " 'QQ',\n",
       " 'Qh',\n",
       " 'Qi',\n",
       " 'R-',\n",
       " 'R0',\n",
       " 'RD',\n",
       " 'S1',\n",
       " 'SO',\n",
       " 'Sz',\n",
       " 'Tx',\n",
       " 'UR',\n",
       " 'US',\n",
       " 'UT',\n",
       " 'V9',\n",
       " 'VF',\n",
       " 'Vg',\n",
       " 'Vl',\n",
       " 'WA',\n",
       " 'Wb',\n",
       " 'XE',\n",
       " 'YT',\n",
       " 'YW',\n",
       " 'ZI',\n",
       " 'Z_',\n",
       " 'Zv',\n",
       " '_E',\n",
       " '_G',\n",
       " 'a4',\n",
       " 'aT',\n",
       " 'ab',\n",
       " 'ao',\n",
       " 'b7',\n",
       " 'bS',\n",
       " 'cN',\n",
       " 'cQ',\n",
       " 'cg',\n",
       " 'd9',\n",
       " 'df',\n",
       " 'ds',\n",
       " 'e7',\n",
       " 'fZ',\n",
       " 'fy',\n",
       " 'gW',\n",
       " 'gY',\n",
       " 'hD',\n",
       " 'hK',\n",
       " 'i8',\n",
       " 'jB',\n",
       " 'jX',\n",
       " 'k6',\n",
       " 'kG',\n",
       " 'kT',\n",
       " 'lL',\n",
       " 'lS',\n",
       " 'lT',\n",
       " 'le',\n",
       " 'm9',\n",
       " 'mg',\n",
       " 'n0',\n",
       " 'nf',\n",
       " 'nj',\n",
       " 'oG',\n",
       " 'oW',\n",
       " 'pL',\n",
       " 'pb',\n",
       " 'pp',\n",
       " 'pz',\n",
       " 'qL',\n",
       " 'qO',\n",
       " 'rH',\n",
       " 'rr',\n",
       " 's9',\n",
       " 'sE',\n",
       " 'sH',\n",
       " 'st',\n",
       " 'sw',\n",
       " 'tI',\n",
       " 'tb',\n",
       " 'uJ',\n",
       " 'up',\n",
       " 'y5',\n",
       " 'zW',\n",
       " 'zh'}"
      ]
     },
     "execution_count": 127,
     "metadata": {},
     "output_type": "execute_result"
    }
   ],
   "source": [
    "tfrecord_prefixes_non\n",
    "    "
   ]
  },
  {
   "cell_type": "code",
   "execution_count": 128,
   "metadata": {},
   "outputs": [
    {
     "data": {
      "text/plain": [
       "147"
      ]
     },
     "execution_count": 128,
     "metadata": {},
     "output_type": "execute_result"
    }
   ],
   "source": [
    "len(tfrecord_filenames_non)\n"
   ]
  },
  {
   "cell_type": "code",
   "execution_count": 129,
   "metadata": {},
   "outputs": [
    {
     "data": {
      "text/plain": [
       "{'3ixOXsKUufM': [63],\n",
       " 'ApJA85gwNFo': [63],\n",
       " 'B-XS7rGmG0o': [63],\n",
       " 'DEBKRavuTfM': [63],\n",
       " 'GSlve5cn8B8': [63],\n",
       " 'MK1NzQm9XaQ': [63],\n",
       " 'RPLYy1Xbwt4': [63],\n",
       " 'UMqR7-ja_iI': [63],\n",
       " '_uyAyiLZJsM': [63],\n",
       " 'hFTcS18hSn0': [63],\n",
       " 'l5sbP_vmgl8': [63],\n",
       " 'ohCVx7uRmz8': [63],\n",
       " 'pIpdn-w12ok': [63],\n",
       " 'teVE2waWdsU': [63]}"
      ]
     },
     "execution_count": 129,
     "metadata": {},
     "output_type": "execute_result"
    }
   ],
   "source": [
    "audio_labels_dict_clapping"
   ]
  },
  {
   "cell_type": "markdown",
   "metadata": {},
   "source": [
    "# We will combine all the non_clapping examples into 1 list "
   ]
  },
  {
   "cell_type": "code",
   "execution_count": 130,
   "metadata": {
    "collapsed": true
   },
   "outputs": [],
   "source": [
    "non_examples_clapping = non_examples+non_examples2+non_examples3+non_examples4+non_examples5+non_examples6 +non_examples7+non_examples8+non_examples9+non_examples10+non_examples11+non_examples12+non_examples13+non_examples14+non_examples15"
   ]
  },
  {
   "cell_type": "code",
   "execution_count": 131,
   "metadata": {},
   "outputs": [
    {
     "data": {
      "text/plain": [
       "903"
      ]
     },
     "execution_count": 131,
     "metadata": {},
     "output_type": "execute_result"
    }
   ],
   "source": [
    "len(non_examples_clapping)"
   ]
  },
  {
   "cell_type": "code",
   "execution_count": 132,
   "metadata": {
    "collapsed": true
   },
   "outputs": [],
   "source": [
    "#To store the features in  a vector\n",
    "audio_embeddings_dict = {}\n",
    "\n",
    "#To store the labels\n",
    "audio_labels_dict = {}\n",
    "\n",
    "#Load embeddings\n",
    "sess = tf.Session()\n",
    "for tfrecord in tfrecord_filenames:\n",
    "    for example in tf.python_io.tf_record_iterator(tfrecord):\n",
    "        #To create a new instance from serialized data\n",
    "        tf_example = tf.train.Example.FromString(example)\n",
    "        #To store the Youtube Id that we have extracted\n",
    "        vid_id = tf_example.features.feature['video_id'].bytes_list.value[0].decode(encoding = 'UTF-8')\n",
    "        if vid_id in non_examples_clapping:\n",
    "            #Store the labels of the video_id that are present in the examples\n",
    "            example_label = list(np.asarray(tf_example.features.feature['labels'].int64_list.value))\n",
    "            #To store the tf_example of only the vid_id that are present in the examples\n",
    "            tf_seq_example = tf.train.SequenceExample.FromString(example)\n",
    "            #To store the number of feature vectors present in the audio_embeddings\n",
    "            n_frames = len(tf_seq_example.feature_lists.feature_list['audio_embedding'].feature)\n",
    "            \n",
    "            #To store the audio_frame in the form of 10 separate vectors each containing 128 examples\n",
    "            audio_frame = [[]*n_frames for x in range(n_frames)]\n",
    "            for i in range(n_frames):\n",
    "                audio_frame[i].append(tf.cast(tf.decode_raw(tf_seq_example.feature_lists.\n",
    "                feature_list['audio_embedding'].feature[i].bytes_list.value[0],tf.uint8),tf.float32).eval(session = sess))\n",
    "                audio_embeddings_dict[vid_id] = audio_frame\n",
    "                audio_labels_dict[vid_id] = example_label\n"
   ]
  },
  {
   "cell_type": "code",
   "execution_count": 143,
   "metadata": {},
   "outputs": [
    {
     "data": {
      "text/plain": [
       "903"
      ]
     },
     "execution_count": 143,
     "metadata": {},
     "output_type": "execute_result"
    }
   ],
   "source": [
    "len(non_examples_clapping)"
   ]
  },
  {
   "cell_type": "markdown",
   "metadata": {},
   "source": [
    "# After extracting from the non_clapping examples, we can observe that some examples have more than 1 label. We will remove them from both the audio_labels_dict and audio_embeddings_dict"
   ]
  },
  {
   "cell_type": "code",
   "execution_count": 121,
   "metadata": {},
   "outputs": [
    {
     "data": {
      "text/plain": [
       "3"
      ]
     },
     "execution_count": 121,
     "metadata": {},
     "output_type": "execute_result"
    }
   ],
   "source": [
    "len(audio_labels_dict)\n"
   ]
  },
  {
   "cell_type": "code",
   "execution_count": null,
   "metadata": {
    "collapsed": true
   },
   "outputs": [],
   "source": [
    "del(audio_embeddings_dict['-C5dEU4zpJg'])"
   ]
  },
  {
   "cell_type": "code",
   "execution_count": null,
   "metadata": {},
   "outputs": [],
   "source": [
    "len(audio_embeddings_dict)"
   ]
  },
  {
   "cell_type": "code",
   "execution_count": null,
   "metadata": {},
   "outputs": [],
   "source": [
    "audio_labels_dict"
   ]
  },
  {
   "cell_type": "code",
   "execution_count": null,
   "metadata": {},
   "outputs": [],
   "source": [
    "audio_labels_dict['1aEh44p0EqY']"
   ]
  },
  {
   "cell_type": "code",
   "execution_count": null,
   "metadata": {
    "collapsed": true
   },
   "outputs": [],
   "source": [
    "del(audio_labels_dict['1aEh44p0EqY'])\n",
    "del(audio_embeddings_dict['1aEh44p0EqY'])"
   ]
  },
  {
   "cell_type": "code",
   "execution_count": null,
   "metadata": {},
   "outputs": [],
   "source": [
    "audio_labels_dict"
   ]
  },
  {
   "cell_type": "code",
   "execution_count": null,
   "metadata": {},
   "outputs": [],
   "source": [
    "audio_labels_dict['2PXcJCAVf38']"
   ]
  },
  {
   "cell_type": "code",
   "execution_count": null,
   "metadata": {
    "collapsed": true
   },
   "outputs": [],
   "source": [
    "del(audio_labels_dict['2PXcJCAVf38'])\n",
    "del(audio_embeddings_dict['2PXcJCAVf38'])"
   ]
  },
  {
   "cell_type": "code",
   "execution_count": null,
   "metadata": {},
   "outputs": [],
   "source": [
    "len(audio_labels_dict)"
   ]
  },
  {
   "cell_type": "code",
   "execution_count": null,
   "metadata": {},
   "outputs": [],
   "source": [
    "len(audio_embeddings_dict)"
   ]
  },
  {
   "cell_type": "code",
   "execution_count": null,
   "metadata": {},
   "outputs": [],
   "source": [
    "audio_labels_dict"
   ]
  },
  {
   "cell_type": "code",
   "execution_count": null,
   "metadata": {},
   "outputs": [],
   "source": [
    "audio_labels_dict['2Xr8KzAxM_M']"
   ]
  },
  {
   "cell_type": "code",
   "execution_count": null,
   "metadata": {
    "collapsed": true
   },
   "outputs": [],
   "source": [
    "del(audio_labels_dict['2Xr8KzAxM_M'])\n",
    "del(audio_embeddings_dict['2Xr8KzAxM_M'])"
   ]
  },
  {
   "cell_type": "code",
   "execution_count": null,
   "metadata": {},
   "outputs": [],
   "source": [
    "audio_labels_dict"
   ]
  },
  {
   "cell_type": "code",
   "execution_count": null,
   "metadata": {},
   "outputs": [],
   "source": [
    "audio_labels_dict['5HDFxMNZj_Q']"
   ]
  },
  {
   "cell_type": "code",
   "execution_count": null,
   "metadata": {
    "collapsed": true
   },
   "outputs": [],
   "source": [
    "del(audio_labels_dict['5HDFxMNZj_Q'])\n",
    "del(audio_embeddings_dict['5HDFxMNZj_Q'])"
   ]
  },
  {
   "cell_type": "code",
   "execution_count": null,
   "metadata": {},
   "outputs": [],
   "source": [
    "len(audio_labels_dict)"
   ]
  },
  {
   "cell_type": "code",
   "execution_count": null,
   "metadata": {},
   "outputs": [],
   "source": [
    "len(audio_embeddings_dict)"
   ]
  },
  {
   "cell_type": "code",
   "execution_count": null,
   "metadata": {},
   "outputs": [],
   "source": [
    "audio_labels_dict\n"
   ]
  },
  {
   "cell_type": "code",
   "execution_count": null,
   "metadata": {},
   "outputs": [],
   "source": [
    "audio_labels_dict['6aVDXoU2j2M']"
   ]
  },
  {
   "cell_type": "code",
   "execution_count": null,
   "metadata": {
    "collapsed": true
   },
   "outputs": [],
   "source": [
    "del(audio_labels_dict['6aVDXoU2j2M'])\n",
    "del(audio_embeddings_dict['6aVDXoU2j2M'])"
   ]
  },
  {
   "cell_type": "code",
   "execution_count": null,
   "metadata": {},
   "outputs": [],
   "source": [
    "len(audio_labels_dict)"
   ]
  },
  {
   "cell_type": "code",
   "execution_count": null,
   "metadata": {},
   "outputs": [],
   "source": [
    "len(audio_embeddings_dict)"
   ]
  },
  {
   "cell_type": "code",
   "execution_count": null,
   "metadata": {},
   "outputs": [],
   "source": [
    "audio_labels_dict"
   ]
  },
  {
   "cell_type": "code",
   "execution_count": null,
   "metadata": {},
   "outputs": [],
   "source": [
    "audio_labels_dict['AyCtV9mKAmk']"
   ]
  },
  {
   "cell_type": "code",
   "execution_count": null,
   "metadata": {
    "collapsed": true
   },
   "outputs": [],
   "source": [
    "del(audio_labels_dict['AyCtV9mKAmk'])\n",
    "del(audio_embeddings_dict['AyCtV9mKAmk'])"
   ]
  },
  {
   "cell_type": "code",
   "execution_count": null,
   "metadata": {},
   "outputs": [],
   "source": [
    "audio_labels_dict"
   ]
  },
  {
   "cell_type": "code",
   "execution_count": null,
   "metadata": {},
   "outputs": [],
   "source": [
    "audio_labels_dict['BW25L9uMX0Q']"
   ]
  },
  {
   "cell_type": "code",
   "execution_count": null,
   "metadata": {
    "collapsed": true
   },
   "outputs": [],
   "source": [
    "del(audio_labels_dict['BW25L9uMX0Q'])\n",
    "del(audio_embeddings_dict['BW25L9uMX0Q'])"
   ]
  },
  {
   "cell_type": "code",
   "execution_count": null,
   "metadata": {},
   "outputs": [],
   "source": [
    "len(audio_labels_dict)"
   ]
  },
  {
   "cell_type": "code",
   "execution_count": null,
   "metadata": {},
   "outputs": [],
   "source": [
    "len(audio_embeddings_dict)"
   ]
  },
  {
   "cell_type": "code",
   "execution_count": null,
   "metadata": {},
   "outputs": [],
   "source": [
    "audio_labels_dict"
   ]
  },
  {
   "cell_type": "code",
   "execution_count": null,
   "metadata": {},
   "outputs": [],
   "source": [
    "audio_labels_dict['DPzoYrz6Mi8']"
   ]
  },
  {
   "cell_type": "code",
   "execution_count": null,
   "metadata": {
    "collapsed": true
   },
   "outputs": [],
   "source": [
    "del(audio_labels_dict['DPzoYrz6Mi8'])"
   ]
  },
  {
   "cell_type": "code",
   "execution_count": null,
   "metadata": {
    "collapsed": true
   },
   "outputs": [],
   "source": [
    "del(audio_embeddings_dict['DPzoYrz6Mi8'])"
   ]
  },
  {
   "cell_type": "code",
   "execution_count": null,
   "metadata": {},
   "outputs": [],
   "source": [
    "audio_labels_dict"
   ]
  },
  {
   "cell_type": "code",
   "execution_count": null,
   "metadata": {},
   "outputs": [],
   "source": [
    "audio_labels_dict['zWQJrAaHsFg']"
   ]
  },
  {
   "cell_type": "code",
   "execution_count": null,
   "metadata": {
    "collapsed": true
   },
   "outputs": [],
   "source": [
    "del(audio_labels_dict['zWQJrAaHsFg'])\n",
    "del(audio_embeddings_dict['zWQJrAaHsFg'])"
   ]
  },
  {
   "cell_type": "code",
   "execution_count": null,
   "metadata": {},
   "outputs": [],
   "source": [
    "audio_labels_dict"
   ]
  },
  {
   "cell_type": "code",
   "execution_count": null,
   "metadata": {},
   "outputs": [],
   "source": [
    "audio_labels_dict['EBwiCVS_gBs']"
   ]
  },
  {
   "cell_type": "code",
   "execution_count": null,
   "metadata": {
    "collapsed": true
   },
   "outputs": [],
   "source": [
    "del(audio_labels_dict['EBwiCVS_gBs'])\n",
    "del(audio_embeddings_dict['EBwiCVS_gBs'])"
   ]
  },
  {
   "cell_type": "code",
   "execution_count": null,
   "metadata": {},
   "outputs": [],
   "source": [
    "len(audio_labels_dict)"
   ]
  },
  {
   "cell_type": "code",
   "execution_count": null,
   "metadata": {},
   "outputs": [],
   "source": [
    "len(audio_embeddings_dict)"
   ]
  },
  {
   "cell_type": "code",
   "execution_count": null,
   "metadata": {},
   "outputs": [],
   "source": [
    "audio_labels_dict"
   ]
  },
  {
   "cell_type": "code",
   "execution_count": null,
   "metadata": {},
   "outputs": [],
   "source": [
    "audio_labels_dict['upcL7tojfd4']"
   ]
  },
  {
   "cell_type": "code",
   "execution_count": null,
   "metadata": {
    "collapsed": true
   },
   "outputs": [],
   "source": [
    "del(audio_labels_dict['upcL7tojfd4'])\n",
    "del(audio_embeddings_dict['upcL7tojfd4'])"
   ]
  },
  {
   "cell_type": "code",
   "execution_count": null,
   "metadata": {},
   "outputs": [],
   "source": [
    "audio_labels_dict"
   ]
  },
  {
   "cell_type": "code",
   "execution_count": null,
   "metadata": {},
   "outputs": [],
   "source": [
    "audio_labels_dict['sw2nfdNRAn0']"
   ]
  },
  {
   "cell_type": "code",
   "execution_count": null,
   "metadata": {
    "collapsed": true
   },
   "outputs": [],
   "source": [
    "del(audio_labels_dict['sw2nfdNRAn0'])\n",
    "del(audio_embeddings_dict['sw2nfdNRAn0'])"
   ]
  },
  {
   "cell_type": "code",
   "execution_count": null,
   "metadata": {},
   "outputs": [],
   "source": [
    "audio_labels_dict"
   ]
  },
  {
   "cell_type": "code",
   "execution_count": null,
   "metadata": {},
   "outputs": [],
   "source": [
    "audio_labels_dict['qOSdHmfwLF4']"
   ]
  },
  {
   "cell_type": "code",
   "execution_count": null,
   "metadata": {
    "collapsed": true
   },
   "outputs": [],
   "source": [
    "del(audio_labels_dict['qOSdHmfwLF4'])\n",
    "del(audio_embeddings_dict['qOSdHmfwLF4'])"
   ]
  },
  {
   "cell_type": "code",
   "execution_count": null,
   "metadata": {},
   "outputs": [],
   "source": [
    "audio_labels_dict"
   ]
  },
  {
   "cell_type": "code",
   "execution_count": null,
   "metadata": {},
   "outputs": [],
   "source": [
    "audio_labels_dict['ErZ6S54lpqI']"
   ]
  },
  {
   "cell_type": "code",
   "execution_count": null,
   "metadata": {
    "collapsed": true
   },
   "outputs": [],
   "source": [
    "del(audio_labels_dict['ErZ6S54lpqI'])\n",
    "del(audio_embeddings_dict['ErZ6S54lpqI'])"
   ]
  },
  {
   "cell_type": "code",
   "execution_count": null,
   "metadata": {},
   "outputs": [],
   "source": [
    "len(audio_labels_dict)"
   ]
  },
  {
   "cell_type": "code",
   "execution_count": null,
   "metadata": {},
   "outputs": [],
   "source": [
    "len(audio_embeddings_dict)"
   ]
  },
  {
   "cell_type": "code",
   "execution_count": null,
   "metadata": {},
   "outputs": [],
   "source": [
    "audio_labels_dict\n"
   ]
  },
  {
   "cell_type": "code",
   "execution_count": null,
   "metadata": {},
   "outputs": [],
   "source": [
    "audio_labels_dict['IN6FFTlq_8c']"
   ]
  },
  {
   "cell_type": "code",
   "execution_count": null,
   "metadata": {
    "collapsed": true
   },
   "outputs": [],
   "source": [
    "del(audio_labels_dict['IN6FFTlq_8c'])\n",
    "del(audio_embeddings_dict['IN6FFTlq_8c'])"
   ]
  },
  {
   "cell_type": "code",
   "execution_count": null,
   "metadata": {},
   "outputs": [],
   "source": [
    "audio_labels_dict"
   ]
  },
  {
   "cell_type": "code",
   "execution_count": null,
   "metadata": {},
   "outputs": [],
   "source": [
    "audio_labels_dict['Iwbm9HEstk0']"
   ]
  },
  {
   "cell_type": "code",
   "execution_count": null,
   "metadata": {
    "collapsed": true
   },
   "outputs": [],
   "source": [
    "del(audio_labels_dict['Iwbm9HEstk0'])\n",
    "del(audio_embeddings_dict['Iwbm9HEstk0'])"
   ]
  },
  {
   "cell_type": "code",
   "execution_count": null,
   "metadata": {},
   "outputs": [],
   "source": [
    "audio_labels_dict"
   ]
  },
  {
   "cell_type": "code",
   "execution_count": null,
   "metadata": {},
   "outputs": [],
   "source": [
    "audio_labels_dict['LOdVDIv1snY']"
   ]
  },
  {
   "cell_type": "code",
   "execution_count": null,
   "metadata": {},
   "outputs": [],
   "source": [
    "del(audio_labels_dict['LOdVDIv1snY'])\n"
   ]
  },
  {
   "cell_type": "code",
   "execution_count": null,
   "metadata": {
    "collapsed": true
   },
   "outputs": [],
   "source": [
    "del(audio_embeddings_dict['LOdVDIv1snY'])"
   ]
  },
  {
   "cell_type": "code",
   "execution_count": null,
   "metadata": {},
   "outputs": [],
   "source": [
    "audio_labels_dict"
   ]
  },
  {
   "cell_type": "code",
   "execution_count": null,
   "metadata": {},
   "outputs": [],
   "source": [
    "audio_labels_dict['pIQulLl44zs']"
   ]
  },
  {
   "cell_type": "code",
   "execution_count": null,
   "metadata": {
    "collapsed": true
   },
   "outputs": [],
   "source": [
    "del(audio_labels_dict['pIQulLl44zs'])\n",
    "del(audio_embeddings_dict['pIQulLl44zs'])"
   ]
  },
  {
   "cell_type": "code",
   "execution_count": null,
   "metadata": {},
   "outputs": [],
   "source": [
    "len(audio_labels_dict)"
   ]
  },
  {
   "cell_type": "code",
   "execution_count": null,
   "metadata": {},
   "outputs": [],
   "source": [
    "len(audio_embeddings_dict)"
   ]
  },
  {
   "cell_type": "code",
   "execution_count": null,
   "metadata": {},
   "outputs": [],
   "source": [
    "audio_labels_dict"
   ]
  },
  {
   "cell_type": "code",
   "execution_count": null,
   "metadata": {},
   "outputs": [],
   "source": [
    "audio_labels_dict['IvP-O7API0k']"
   ]
  },
  {
   "cell_type": "code",
   "execution_count": null,
   "metadata": {
    "collapsed": true
   },
   "outputs": [],
   "source": [
    "del(audio_labels_dict['IvP-O7API0k'])\n",
    "del(audio_embeddings_dict['IvP-O7API0k'])"
   ]
  },
  {
   "cell_type": "code",
   "execution_count": null,
   "metadata": {},
   "outputs": [],
   "source": [
    "audio_labels_dict"
   ]
  },
  {
   "cell_type": "code",
   "execution_count": null,
   "metadata": {},
   "outputs": [],
   "source": [
    "audio_labels_dict['ohpWTvrGycU']"
   ]
  },
  {
   "cell_type": "code",
   "execution_count": null,
   "metadata": {
    "collapsed": true
   },
   "outputs": [],
   "source": [
    "del(audio_labels_dict['ohpWTvrGycU'])\n",
    "del(audio_embeddings_dict['ohpWTvrGycU'])"
   ]
  },
  {
   "cell_type": "code",
   "execution_count": null,
   "metadata": {},
   "outputs": [],
   "source": [
    "audio_labels_dict"
   ]
  },
  {
   "cell_type": "code",
   "execution_count": null,
   "metadata": {},
   "outputs": [],
   "source": [
    "audio_labels_dict['Iwgmxa6ndwU']"
   ]
  },
  {
   "cell_type": "code",
   "execution_count": null,
   "metadata": {
    "collapsed": true
   },
   "outputs": [],
   "source": [
    "del(audio_labels_dict['Iwgmxa6ndwU'])\n",
    "del(audio_embeddings_dict['Iwgmxa6ndwU'])"
   ]
  },
  {
   "cell_type": "code",
   "execution_count": null,
   "metadata": {},
   "outputs": [],
   "source": [
    "audio_labels_dict"
   ]
  },
  {
   "cell_type": "code",
   "execution_count": null,
   "metadata": {},
   "outputs": [],
   "source": [
    "audio_labels_dict['K7-P2PyLXVk']"
   ]
  },
  {
   "cell_type": "code",
   "execution_count": null,
   "metadata": {
    "collapsed": true
   },
   "outputs": [],
   "source": [
    "del(audio_labels_dict['K7-P2PyLXVk'])\n",
    "del(audio_embeddings_dict['K7-P2PyLXVk'])"
   ]
  },
  {
   "cell_type": "code",
   "execution_count": null,
   "metadata": {},
   "outputs": [],
   "source": [
    "audio_labels_dict"
   ]
  },
  {
   "cell_type": "code",
   "execution_count": null,
   "metadata": {},
   "outputs": [],
   "source": [
    "audio_labels_dict['RD4NfdfsDPw']"
   ]
  },
  {
   "cell_type": "code",
   "execution_count": null,
   "metadata": {
    "collapsed": true
   },
   "outputs": [],
   "source": [
    "del(audio_labels_dict['RD4NfdfsDPw'])"
   ]
  },
  {
   "cell_type": "code",
   "execution_count": null,
   "metadata": {
    "collapsed": true
   },
   "outputs": [],
   "source": [
    "del(audio_embeddings_dict['RD4NfdfsDPw'])"
   ]
  },
  {
   "cell_type": "code",
   "execution_count": null,
   "metadata": {},
   "outputs": [],
   "source": [
    "len(audio_labels_dict) == len(audio_embeddings_dict)"
   ]
  },
  {
   "cell_type": "code",
   "execution_count": null,
   "metadata": {},
   "outputs": [],
   "source": [
    "audio_labels_dict"
   ]
  },
  {
   "cell_type": "code",
   "execution_count": null,
   "metadata": {},
   "outputs": [],
   "source": [
    "audio_labels_dict['XE9GjWthDAA']"
   ]
  },
  {
   "cell_type": "code",
   "execution_count": null,
   "metadata": {
    "collapsed": true
   },
   "outputs": [],
   "source": [
    "del(audio_labels_dict['XE9GjWthDAA'])\n",
    "del(audio_embeddings_dict['XE9GjWthDAA'])"
   ]
  },
  {
   "cell_type": "code",
   "execution_count": null,
   "metadata": {},
   "outputs": [],
   "source": [
    "audio_labels_dict"
   ]
  },
  {
   "cell_type": "code",
   "execution_count": null,
   "metadata": {},
   "outputs": [],
   "source": [
    "audio_labels_dict['Z_2nM1GEllg']"
   ]
  },
  {
   "cell_type": "code",
   "execution_count": null,
   "metadata": {
    "collapsed": true
   },
   "outputs": [],
   "source": [
    "del(audio_labels_dict['Z_2nM1GEllg'])\n",
    "del(audio_embeddings_dict['Z_2nM1GEllg'])"
   ]
  },
  {
   "cell_type": "code",
   "execution_count": null,
   "metadata": {},
   "outputs": [],
   "source": [
    "audio_labels_dict"
   ]
  },
  {
   "cell_type": "code",
   "execution_count": null,
   "metadata": {},
   "outputs": [],
   "source": [
    "audio_labels_dict['ZvzHWhnWz0o']"
   ]
  },
  {
   "cell_type": "code",
   "execution_count": null,
   "metadata": {
    "collapsed": true
   },
   "outputs": [],
   "source": [
    "del(audio_labels_dict['ZvzHWhnWz0o'])\n",
    "del(audio_embeddings_dict['ZvzHWhnWz0o'])"
   ]
  },
  {
   "cell_type": "code",
   "execution_count": null,
   "metadata": {},
   "outputs": [],
   "source": [
    "audio_labels_dict"
   ]
  },
  {
   "cell_type": "code",
   "execution_count": null,
   "metadata": {},
   "outputs": [],
   "source": [
    "audio_labels_dict['_ud-sCXmue0']"
   ]
  },
  {
   "cell_type": "code",
   "execution_count": null,
   "metadata": {
    "collapsed": true
   },
   "outputs": [],
   "source": [
    "del(audio_labels_dict['_ud-sCXmue0'])\n",
    "del(audio_embeddings_dict['_ud-sCXmue0'])"
   ]
  },
  {
   "cell_type": "code",
   "execution_count": null,
   "metadata": {},
   "outputs": [],
   "source": [
    "audio_labels_dict"
   ]
  },
  {
   "cell_type": "code",
   "execution_count": null,
   "metadata": {},
   "outputs": [],
   "source": [
    "audio_labels_dict['cQiFMtSZSxI']"
   ]
  },
  {
   "cell_type": "code",
   "execution_count": null,
   "metadata": {
    "collapsed": true
   },
   "outputs": [],
   "source": [
    "del(audio_labels_dict['cQiFMtSZSxI'])\n",
    "del(audio_embeddings_dict['cQiFMtSZSxI'])"
   ]
  },
  {
   "cell_type": "code",
   "execution_count": null,
   "metadata": {},
   "outputs": [],
   "source": [
    "audio_labels_dict"
   ]
  },
  {
   "cell_type": "code",
   "execution_count": null,
   "metadata": {},
   "outputs": [],
   "source": [
    "audio_labels_dict['fZSTpXyty9Q']"
   ]
  },
  {
   "cell_type": "code",
   "execution_count": null,
   "metadata": {
    "collapsed": true
   },
   "outputs": [],
   "source": [
    "del(audio_labels_dict['fZSTpXyty9Q'])\n",
    "del(audio_embeddings_dict['fZSTpXyty9Q'])"
   ]
  },
  {
   "cell_type": "code",
   "execution_count": null,
   "metadata": {},
   "outputs": [],
   "source": [
    "audio_labels_dict"
   ]
  },
  {
   "cell_type": "code",
   "execution_count": null,
   "metadata": {},
   "outputs": [],
   "source": [
    "audio_labels_dict['gYBXpwc6gdg']"
   ]
  },
  {
   "cell_type": "code",
   "execution_count": null,
   "metadata": {
    "collapsed": true
   },
   "outputs": [],
   "source": [
    "del(audio_labels_dict['gYBXpwc6gdg'])\n",
    "del(audio_embeddings_dict['gYBXpwc6gdg'])"
   ]
  },
  {
   "cell_type": "code",
   "execution_count": null,
   "metadata": {},
   "outputs": [],
   "source": [
    "audio_labels_dict"
   ]
  },
  {
   "cell_type": "code",
   "execution_count": null,
   "metadata": {},
   "outputs": [],
   "source": [
    "audio_labels_dict['hD1u-7ROwZg']"
   ]
  },
  {
   "cell_type": "code",
   "execution_count": null,
   "metadata": {
    "collapsed": true
   },
   "outputs": [],
   "source": [
    "del(audio_labels_dict['hD1u-7ROwZg'])\n",
    "del(audio_embeddings_dict['hD1u-7ROwZg'])"
   ]
  },
  {
   "cell_type": "code",
   "execution_count": null,
   "metadata": {},
   "outputs": [],
   "source": [
    "audio_labels_dict"
   ]
  },
  {
   "cell_type": "code",
   "execution_count": null,
   "metadata": {},
   "outputs": [],
   "source": [
    "audio_labels_dict['i8o96xwalAM']"
   ]
  },
  {
   "cell_type": "code",
   "execution_count": null,
   "metadata": {
    "collapsed": true
   },
   "outputs": [],
   "source": [
    "del(audio_labels_dict['i8o96xwalAM'])\n",
    "del(audio_embeddings_dict['i8o96xwalAM'])"
   ]
  },
  {
   "cell_type": "code",
   "execution_count": null,
   "metadata": {},
   "outputs": [],
   "source": [
    "audio_labels_dict"
   ]
  },
  {
   "cell_type": "code",
   "execution_count": null,
   "metadata": {},
   "outputs": [],
   "source": [
    "audio_labels_dict['lLA7dQ-uxR0']"
   ]
  },
  {
   "cell_type": "code",
   "execution_count": null,
   "metadata": {
    "collapsed": true
   },
   "outputs": [],
   "source": [
    "del(audio_labels_dict['lLA7dQ-uxR0'])\n",
    "del(audio_embeddings_dict['lLA7dQ-uxR0'])"
   ]
  },
  {
   "cell_type": "code",
   "execution_count": null,
   "metadata": {},
   "outputs": [],
   "source": [
    "audio_labels_dict"
   ]
  },
  {
   "cell_type": "code",
   "execution_count": null,
   "metadata": {},
   "outputs": [],
   "source": [
    "audio_labels_dict['nfGDe975SrY']"
   ]
  },
  {
   "cell_type": "code",
   "execution_count": null,
   "metadata": {},
   "outputs": [],
   "source": [
    "del(audio_labels_dict['nfGDe975SrY'])\n"
   ]
  },
  {
   "cell_type": "code",
   "execution_count": null,
   "metadata": {},
   "outputs": [],
   "source": [
    "len(audio_embeddings_dict) == len(audio_labels_dict)"
   ]
  },
  {
   "cell_type": "code",
   "execution_count": null,
   "metadata": {},
   "outputs": [],
   "source": [
    "audio_labels_dict"
   ]
  },
  {
   "cell_type": "code",
   "execution_count": null,
   "metadata": {},
   "outputs": [],
   "source": [
    "audio_frame"
   ]
  },
  {
   "cell_type": "code",
   "execution_count": null,
   "metadata": {},
   "outputs": [],
   "source": [
    "audio_embeddings_dict"
   ]
  },
  {
   "cell_type": "code",
   "execution_count": null,
   "metadata": {},
   "outputs": [],
   "source": [
    "type(audio_embeddings_dict)"
   ]
  },
  {
   "cell_type": "code",
   "execution_count": 137,
   "metadata": {},
   "outputs": [
    {
     "data": {
      "text/plain": [
       "3"
      ]
     },
     "execution_count": 137,
     "metadata": {},
     "output_type": "execute_result"
    }
   ],
   "source": [
    "len(audio_embeddings_dict\n",
    "   )"
   ]
  },
  {
   "cell_type": "code",
   "execution_count": null,
   "metadata": {
    "collapsed": true
   },
   "outputs": [],
   "source": []
  }
 ],
 "metadata": {
  "kernelspec": {
   "display_name": "Python 3",
   "language": "python",
   "name": "python3"
  },
  "language_info": {
   "codemirror_mode": {
    "name": "ipython",
    "version": 3
   },
   "file_extension": ".py",
   "mimetype": "text/x-python",
   "name": "python",
   "nbconvert_exporter": "python",
   "pygments_lexer": "ipython3",
   "version": "3.6.1"
  }
 },
 "nbformat": 4,
 "nbformat_minor": 2
}
