{
 "cells": [
  {
   "cell_type": "code",
   "execution_count": 1,
   "metadata": {},
   "outputs": [],
   "source": [
    "import mahotas"
   ]
  },
  {
   "cell_type": "markdown",
   "metadata": {},
   "source": [
    "# Declare a class descriptor for computing the moments of the images"
   ]
  },
  {
   "cell_type": "code",
   "execution_count": 2,
   "metadata": {},
   "outputs": [],
   "source": [
    "class ZernikeMoments:\n",
    "    def __init__(self, radius):\n",
    "    #Store the size of the radius used while computing the moments of the image\n",
    "        self.radius = radius\n",
    "    \n",
    "    def describe(self, image):\n",
    "        #Return the zernike moments for the image\n",
    "        return mahotas.features.zernike_moments(image, self.radius)    "
   ]
  },
  {
   "cell_type": "markdown",
   "metadata": {},
   "source": [
    "Import the libraries"
   ]
  },
  {
   "cell_type": "code",
   "execution_count": 3,
   "metadata": {},
   "outputs": [],
   "source": [
    "import numpy as np\n",
    "import _pickle as cPickle\n",
    "import glob\n",
    "import cv2"
   ]
  },
  {
   "cell_type": "markdown",
   "metadata": {},
   "source": [
    "Initialize the descriptor with a radius of 21 and store the moments in dict"
   ]
  },
  {
   "cell_type": "code",
   "execution_count": 4,
   "metadata": {},
   "outputs": [],
   "source": [
    "desc = ZernikeMoments(21)\n",
    "index = {}"
   ]
  },
  {
   "cell_type": "markdown",
   "metadata": {},
   "source": [
    "Load an image from the given file path"
   ]
  },
  {
   "cell_type": "code",
   "execution_count": 5,
   "metadata": {},
   "outputs": [],
   "source": [
    "image = cv2.imread('/home/anirudh/wav2img.png')"
   ]
  },
  {
   "cell_type": "code",
   "execution_count": 6,
   "metadata": {},
   "outputs": [
    {
     "data": {
      "text/plain": [
       "(280, 1800, 3)"
      ]
     },
     "execution_count": 6,
     "metadata": {},
     "output_type": "execute_result"
    }
   ],
   "source": [
    "image.shape"
   ]
  },
  {
   "cell_type": "markdown",
   "metadata": {},
   "source": [
    "Convert the image from 1 colorspace to another(Grayspace)"
   ]
  },
  {
   "cell_type": "code",
   "execution_count": 7,
   "metadata": {},
   "outputs": [],
   "source": [
    "image = cv2.cvtColor(image,cv2.COLOR_BGR2GRAY)"
   ]
  },
  {
   "cell_type": "code",
   "execution_count": 8,
   "metadata": {
    "scrolled": true
   },
   "outputs": [
    {
     "data": {
      "text/plain": [
       "(280, 1800)"
      ]
     },
     "execution_count": 8,
     "metadata": {},
     "output_type": "execute_result"
    }
   ],
   "source": [
    "image.shape"
   ]
  },
  {
   "cell_type": "markdown",
   "metadata": {},
   "source": [
    "Pad the image with extra white pixels to ensure the edges of the pokemon are not up against the borders of the image"
   ]
  },
  {
   "cell_type": "code",
   "execution_count": 9,
   "metadata": {},
   "outputs": [],
   "source": [
    "image = cv2.copyMakeBorder(image, 15,15,15,15, cv2.BORDER_CONSTANT,value = 255)"
   ]
  },
  {
   "cell_type": "code",
   "execution_count": 10,
   "metadata": {},
   "outputs": [
    {
     "data": {
      "text/plain": [
       "(310, 1830)"
      ]
     },
     "execution_count": 10,
     "metadata": {},
     "output_type": "execute_result"
    }
   ],
   "source": [
    "image.shape"
   ]
  },
  {
   "cell_type": "markdown",
   "metadata": {},
   "source": [
    "Invert the image and threshold it"
   ]
  },
  {
   "cell_type": "code",
   "execution_count": 11,
   "metadata": {},
   "outputs": [],
   "source": [
    "thresh = cv2.bitwise_not(image)"
   ]
  },
  {
   "cell_type": "code",
   "execution_count": 12,
   "metadata": {},
   "outputs": [
    {
     "data": {
      "text/plain": [
       "(310, 1830)"
      ]
     },
     "execution_count": 12,
     "metadata": {},
     "output_type": "execute_result"
    }
   ],
   "source": [
    "thresh.shape"
   ]
  },
  {
   "cell_type": "code",
   "execution_count": 13,
   "metadata": {},
   "outputs": [
    {
     "data": {
      "text/plain": [
       "array([[0, 0, 0, ..., 0, 0, 0],\n",
       "       [0, 0, 0, ..., 0, 0, 0],\n",
       "       [0, 0, 0, ..., 0, 0, 0],\n",
       "       ...,\n",
       "       [0, 0, 0, ..., 0, 0, 0],\n",
       "       [0, 0, 0, ..., 0, 0, 0],\n",
       "       [0, 0, 0, ..., 0, 0, 0]], dtype=uint8)"
      ]
     },
     "execution_count": 13,
     "metadata": {},
     "output_type": "execute_result"
    }
   ],
   "source": [
    "thresh"
   ]
  },
  {
   "cell_type": "code",
   "execution_count": 14,
   "metadata": {},
   "outputs": [],
   "source": [
    "thresh[thresh > 0] = 255"
   ]
  },
  {
   "cell_type": "code",
   "execution_count": 15,
   "metadata": {},
   "outputs": [
    {
     "data": {
      "text/plain": [
       "array([[0, 0, 0, ..., 0, 0, 0],\n",
       "       [0, 0, 0, ..., 0, 0, 0],\n",
       "       [0, 0, 0, ..., 0, 0, 0],\n",
       "       ...,\n",
       "       [0, 0, 0, ..., 0, 0, 0],\n",
       "       [0, 0, 0, ..., 0, 0, 0],\n",
       "       [0, 0, 0, ..., 0, 0, 0]], dtype=uint8)"
      ]
     },
     "execution_count": 15,
     "metadata": {},
     "output_type": "execute_result"
    }
   ],
   "source": [
    "thresh"
   ]
  },
  {
   "cell_type": "markdown",
   "metadata": {},
   "source": [
    "Initialize the outline image, find the outermost contours( the outline ) of the pokemon and draw it"
   ]
  },
  {
   "cell_type": "code",
   "execution_count": 16,
   "metadata": {},
   "outputs": [],
   "source": [
    "outline = np.zeros(image.shape, dtype= \"uint8\")"
   ]
  },
  {
   "cell_type": "code",
   "execution_count": 17,
   "metadata": {
    "scrolled": true
   },
   "outputs": [
    {
     "data": {
      "text/plain": [
       "(310, 1830)"
      ]
     },
     "execution_count": 17,
     "metadata": {},
     "output_type": "execute_result"
    }
   ],
   "source": [
    "outline.shape"
   ]
  },
  {
   "cell_type": "markdown",
   "metadata": {},
   "source": [
    "findContours( image, mode,contours) -> image,contours,hierarchy\n",
    "\n",
    "RETR_EXTERNAL: Find only the outermost contours\n",
    "\n",
    "CHAIN_APPROX_SIMPLE: compress and approximate the contours to save the memory"
   ]
  },
  {
   "cell_type": "code",
   "execution_count": 18,
   "metadata": {},
   "outputs": [],
   "source": [
    "_,cnts,hierarchy = cv2.findContours(thresh.copy(), cv2.RETR_EXTERNAL, cv2.CHAIN_APPROX_SIMPLE)"
   ]
  },
  {
   "cell_type": "code",
   "execution_count": 19,
   "metadata": {},
   "outputs": [
    {
     "data": {
      "text/plain": [
       "(4, 1, 2)"
      ]
     },
     "execution_count": 19,
     "metadata": {},
     "output_type": "execute_result"
    }
   ],
   "source": [
    "cnts[0].shape"
   ]
  },
  {
   "cell_type": "markdown",
   "metadata": {},
   "source": [
    "**Hierarchy**: Sometimes, shapes are inside other shapes in an image. In these cases, we call the external shape as parent shape and and internal one as the child shape. We have assigned a hierarchy for these images\n",
    "\n",
    "[Hierarchy](https://docs.opencv.org/master/d9/d8b/tutorial_py_contours_hierarchy.html)"
   ]
  },
  {
   "cell_type": "code",
   "execution_count": 20,
   "metadata": {},
   "outputs": [],
   "source": [
    "cnts = sorted(cnts, key= cv2.contourArea, reverse= True)[0]"
   ]
  },
  {
   "cell_type": "code",
   "execution_count": 21,
   "metadata": {},
   "outputs": [
    {
     "data": {
      "text/plain": [
       "(4, 1, 2)"
      ]
     },
     "execution_count": 21,
     "metadata": {},
     "output_type": "execute_result"
    }
   ],
   "source": [
    "cnts.shape"
   ]
  },
  {
   "cell_type": "code",
   "execution_count": 22,
   "metadata": {},
   "outputs": [
    {
     "data": {
      "text/plain": [
       "array([[0, 0, 0, ..., 0, 0, 0],\n",
       "       [0, 0, 0, ..., 0, 0, 0],\n",
       "       [0, 0, 0, ..., 0, 0, 0],\n",
       "       ...,\n",
       "       [0, 0, 0, ..., 0, 0, 0],\n",
       "       [0, 0, 0, ..., 0, 0, 0],\n",
       "       [0, 0, 0, ..., 0, 0, 0]], dtype=uint8)"
      ]
     },
     "execution_count": 22,
     "metadata": {},
     "output_type": "execute_result"
    }
   ],
   "source": [
    "cv2.drawContours(outline, [cnts],-1, 255, -1)"
   ]
  },
  {
   "cell_type": "markdown",
   "metadata": {},
   "source": [
    "Compute the Zernike moments of the shape of the outline"
   ]
  },
  {
   "cell_type": "code",
   "execution_count": 23,
   "metadata": {},
   "outputs": [],
   "source": [
    "moments = desc.describe(outline)"
   ]
  },
  {
   "cell_type": "code",
   "execution_count": 24,
   "metadata": {},
   "outputs": [
    {
     "data": {
      "text/plain": [
       "array([3.18309886e-01, 4.67550711e-18, 7.09795743e-03, 1.26524258e-16,\n",
       "       4.63273858e-18, 3.34812266e-18, 1.14045122e-02, 1.02330189e-16,\n",
       "       4.89346587e-03, 4.57924450e-18, 3.12150185e-18, 1.11070941e-17,\n",
       "       1.50338433e-02, 8.14478192e-17, 6.63415095e-03, 1.93663514e-17,\n",
       "       2.54635798e-18, 4.49441658e-18, 3.08677798e-18, 7.02845943e-18,\n",
       "       1.76504557e-02, 4.47535040e-17, 8.06051157e-03, 5.36686337e-18,\n",
       "       5.13944149e-03])"
      ]
     },
     "execution_count": 24,
     "metadata": {},
     "output_type": "execute_result"
    }
   ],
   "source": [
    "moments"
   ]
  },
  {
   "cell_type": "code",
   "execution_count": 25,
   "metadata": {},
   "outputs": [],
   "source": [
    "index['wav2png'] = moments"
   ]
  },
  {
   "cell_type": "code",
   "execution_count": 26,
   "metadata": {},
   "outputs": [],
   "source": [
    "img = cv2.imread('/home/anirudh/wav2img.png',0)"
   ]
  },
  {
   "cell_type": "code",
   "execution_count": 27,
   "metadata": {},
   "outputs": [
    {
     "data": {
      "text/plain": [
       "array([[0, 0, 0, ..., 0, 0, 0],\n",
       "       [0, 0, 0, ..., 0, 0, 0],\n",
       "       [0, 0, 0, ..., 0, 0, 0],\n",
       "       ...,\n",
       "       [0, 0, 0, ..., 0, 0, 0],\n",
       "       [0, 0, 0, ..., 0, 0, 0],\n",
       "       [0, 0, 0, ..., 0, 0, 0]], dtype=uint8)"
      ]
     },
     "execution_count": 27,
     "metadata": {},
     "output_type": "execute_result"
    }
   ],
   "source": [
    "img"
   ]
  },
  {
   "cell_type": "code",
   "execution_count": 28,
   "metadata": {},
   "outputs": [
    {
     "data": {
      "text/plain": [
       "True"
      ]
     },
     "execution_count": 28,
     "metadata": {},
     "output_type": "execute_result"
    }
   ],
   "source": [
    "cv2.imwrite('wavgray.png',img)"
   ]
  },
  {
   "cell_type": "code",
   "execution_count": 29,
   "metadata": {},
   "outputs": [],
   "source": [
    "from matplotlib import pyplot as plt"
   ]
  },
  {
   "cell_type": "code",
   "execution_count": 30,
   "metadata": {},
   "outputs": [],
   "source": [
    "img = cv2.imread('/home/anirudh/wav2img.png',0)"
   ]
  },
  {
   "cell_type": "code",
   "execution_count": 31,
   "metadata": {},
   "outputs": [
    {
     "data": {
      "image/png": "[encoded data removed]",
      "text/plain": [
       "<matplotlib.figure.Figure at 0x7f77bb49ce48>"
      ]
     },
     "metadata": {},
     "output_type": "display_data"
    }
   ],
   "source": [
    "plt.imshow(img,cmap='gray')\n",
    "plt.xticks([]),plt.yticks([])\n",
    "plt.show()"
   ]
  },
  {
   "cell_type": "code",
   "execution_count": 32,
   "metadata": {},
   "outputs": [],
   "source": [
    "cap = cv2.VideoCapture(0)"
   ]
  },
  {
   "cell_type": "code",
   "execution_count": 33,
   "metadata": {},
   "outputs": [],
   "source": [
    "img = np.zeros((512,512,3), np.uint8)"
   ]
  },
  {
   "cell_type": "code",
   "execution_count": 34,
   "metadata": {},
   "outputs": [],
   "source": [
    "img = cv2.line(img,(0,0),(511,511),(255,0,0),5)"
   ]
  },
  {
   "cell_type": "code",
   "execution_count": 35,
   "metadata": {},
   "outputs": [],
   "source": [
    "events = [i for i in dir(cv2) if 'EVENT' in i]"
   ]
  },
  {
   "cell_type": "code",
   "execution_count": 36,
   "metadata": {},
   "outputs": [],
   "source": [
    "img = cv2.imread('/home/anirudh/wav2img.png')"
   ]
  },
  {
   "cell_type": "code",
   "execution_count": 37,
   "metadata": {},
   "outputs": [],
   "source": [
    "px = img[100,100]"
   ]
  },
  {
   "cell_type": "code",
   "execution_count": 38,
   "metadata": {},
   "outputs": [
    {
     "name": "stdout",
     "output_type": "stream",
     "text": [
      "[0 0 0]\n"
     ]
    }
   ],
   "source": [
    "print(px)"
   ]
  },
  {
   "cell_type": "code",
   "execution_count": 39,
   "metadata": {},
   "outputs": [],
   "source": [
    "blue = img[100,100,0]"
   ]
  },
  {
   "cell_type": "code",
   "execution_count": 40,
   "metadata": {},
   "outputs": [],
   "source": [
    "desc = ZernikeMoments(21)\n",
    "dataset = {}"
   ]
  },
  {
   "cell_type": "code",
   "execution_count": 41,
   "metadata": {},
   "outputs": [],
   "source": [
    "filename = \"wav2img.png\"\n",
    "img = cv2.imread(filename)\n",
    "gray = cv2.cvtColor(img,cv2.COLOR_BGR2GRAY)\n",
    "gray = np.float32(gray)\n",
    "dst = cv2.cornerHarris(gray,2,3,0,0.04)"
   ]
  },
  {
   "cell_type": "code",
   "execution_count": 42,
   "metadata": {},
   "outputs": [
    {
     "data": {
      "text/plain": [
       "<matplotlib.image.AxesImage at 0x7f77b7946ba8>"
      ]
     },
     "execution_count": 42,
     "metadata": {},
     "output_type": "execute_result"
    },
    {
     "data": {
      "image/png": "[encoded data removed]",
      "text/plain": [
       "<matplotlib.figure.Figure at 0x7f77bb1b91d0>"
      ]
     },
     "metadata": {},
     "output_type": "display_data"
    }
   ],
   "source": [
    "plt.imshow(dst)"
   ]
  },
  {
   "cell_type": "code",
   "execution_count": 43,
   "metadata": {},
   "outputs": [
    {
     "data": {
      "text/plain": [
       "'/home/anirudh'"
      ]
     },
     "execution_count": 43,
     "metadata": {},
     "output_type": "execute_result"
    }
   ],
   "source": [
    "%pwd"
   ]
  },
  {
   "cell_type": "code",
   "execution_count": 44,
   "metadata": {},
   "outputs": [],
   "source": [
    "import cv2"
   ]
  },
  {
   "cell_type": "code",
   "execution_count": 45,
   "metadata": {},
   "outputs": [],
   "source": [
    "image = cv2.imread(\"/home/anirudh/wav2img.png\",0)"
   ]
  },
  {
   "cell_type": "code",
   "execution_count": 46,
   "metadata": {
    "scrolled": true
   },
   "outputs": [
    {
     "data": {
      "text/plain": [
       "(280, 1800)"
      ]
     },
     "execution_count": 46,
     "metadata": {},
     "output_type": "execute_result"
    }
   ],
   "source": [
    "image.shape"
   ]
  },
  {
   "cell_type": "code",
   "execution_count": 47,
   "metadata": {},
   "outputs": [
    {
     "data": {
      "text/plain": [
       "(280, 1800)"
      ]
     },
     "execution_count": 47,
     "metadata": {},
     "output_type": "execute_result"
    }
   ],
   "source": [
    "image.shape"
   ]
  },
  {
   "cell_type": "code",
   "execution_count": 48,
   "metadata": {},
   "outputs": [
    {
     "ename": "error",
     "evalue": "/tmp/build/80754af9/opencv_1512687413662/work/modules/imgproc/src/color.cpp:11048: error: (-215) scn == 3 || scn == 4 in function cvtColor\n",
     "output_type": "error",
     "traceback": [
      "\u001b[0;31m---------------------------------------------------------------------------\u001b[0m",
      "\u001b[0;31merror\u001b[0m                                     Traceback (most recent call last)",
      "\u001b[0;32m<ipython-input-48-0c0785c3e926>\u001b[0m in \u001b[0;36m<module>\u001b[0;34m()\u001b[0m\n\u001b[0;32m----> 1\u001b[0;31m \u001b[0mimage\u001b[0m \u001b[0;34m=\u001b[0m \u001b[0mcv2\u001b[0m\u001b[0;34m.\u001b[0m\u001b[0mcvtColor\u001b[0m\u001b[0;34m(\u001b[0m\u001b[0mimage\u001b[0m\u001b[0;34m,\u001b[0m\u001b[0mcv2\u001b[0m\u001b[0;34m.\u001b[0m\u001b[0mCOLOR_BGR2GRAY\u001b[0m\u001b[0;34m)\u001b[0m\u001b[0;34m\u001b[0m\u001b[0m\n\u001b[0m",
      "\u001b[0;31merror\u001b[0m: /tmp/build/80754af9/opencv_1512687413662/work/modules/imgproc/src/color.cpp:11048: error: (-215) scn == 3 || scn == 4 in function cvtColor\n"
     ]
    }
   ],
   "source": [
    "image = cv2.cvtColor(image,cv2.COLOR_BGR2GRAY)"
   ]
  },
  {
   "cell_type": "code",
   "execution_count": null,
   "metadata": {},
   "outputs": [],
   "source": [
    "image.shape"
   ]
  },
  {
   "cell_type": "code",
   "execution_count": null,
   "metadata": {},
   "outputs": [],
   "source": [
    "from matplotlib import pyplot as plt"
   ]
  },
  {
   "cell_type": "code",
   "execution_count": null,
   "metadata": {},
   "outputs": [],
   "source": [
    "plt.imshow(image)"
   ]
  },
  {
   "cell_type": "code",
   "execution_count": null,
   "metadata": {},
   "outputs": [],
   "source": [
    "imagecol = cv2.imread('wav2img.png')"
   ]
  },
  {
   "cell_type": "code",
   "execution_count": null,
   "metadata": {},
   "outputs": [],
   "source": [
    "imagegray = cv2.cvtColor(imagecol, cv2.COLOR_BGR2GRAY)"
   ]
  },
  {
   "cell_type": "code",
   "execution_count": null,
   "metadata": {},
   "outputs": [],
   "source": [
    "imagegray"
   ]
  },
  {
   "cell_type": "code",
   "execution_count": null,
   "metadata": {},
   "outputs": [],
   "source": [
    "imagegray.shape"
   ]
  },
  {
   "cell_type": "code",
   "execution_count": null,
   "metadata": {},
   "outputs": [],
   "source": [
    "plt.imshow(imagegray)"
   ]
  },
  {
   "cell_type": "code",
   "execution_count": null,
   "metadata": {},
   "outputs": [],
   "source": [
    "imgborder = cv2.copyMakeBorder(imagegray,15,15,15,15,cv2.BORDER_CONSTANT, value = 255)"
   ]
  },
  {
   "cell_type": "code",
   "execution_count": null,
   "metadata": {},
   "outputs": [],
   "source": [
    "plt.imshow(imgborder)"
   ]
  },
  {
   "cell_type": "code",
   "execution_count": null,
   "metadata": {},
   "outputs": [],
   "source": [
    "threshImg = cv2.bitwise_not(imagecol)"
   ]
  },
  {
   "cell_type": "code",
   "execution_count": null,
   "metadata": {},
   "outputs": [],
   "source": [
    "plt.imshow(threshImg)"
   ]
  },
  {
   "cell_type": "code",
   "execution_count": null,
   "metadata": {},
   "outputs": [],
   "source": [
    "threshImgGray = cv2.bitwise_not(imagegray) "
   ]
  },
  {
   "cell_type": "code",
   "execution_count": null,
   "metadata": {},
   "outputs": [],
   "source": [
    "plt.imshow(threshImgGray)"
   ]
  },
  {
   "cell_type": "code",
   "execution_count": null,
   "metadata": {},
   "outputs": [],
   "source": [
    "threshImg.shape"
   ]
  },
  {
   "cell_type": "code",
   "execution_count": null,
   "metadata": {},
   "outputs": [],
   "source": [
    "threshImg[threshImg > 0] = 255"
   ]
  },
  {
   "cell_type": "code",
   "execution_count": null,
   "metadata": {},
   "outputs": [],
   "source": [
    "threshImg"
   ]
  },
  {
   "cell_type": "code",
   "execution_count": null,
   "metadata": {},
   "outputs": [],
   "source": [
    "outlineImg = np.zeros(imagecol.shape, dtype=\"uint8\")"
   ]
  },
  {
   "cell_type": "code",
   "execution_count": null,
   "metadata": {},
   "outputs": [],
   "source": [
    "outlineImg.shape"
   ]
  },
  {
   "cell_type": "code",
   "execution_count": null,
   "metadata": {},
   "outputs": [],
   "source": [
    "outlineGr = np.zeros(imagegray.shape, dtype=\"uint8\")"
   ]
  },
  {
   "cell_type": "code",
   "execution_count": null,
   "metadata": {},
   "outputs": [],
   "source": [
    "outlineGr.shape"
   ]
  },
  {
   "cell_type": "code",
   "execution_count": null,
   "metadata": {},
   "outputs": [],
   "source": [
    "_,cnts,hierarchy = cv2.findContours(threshImgGray.copy(), cv2.RETR_EXTERNAL,cv2.CHAIN_APPROX_SIMPLE)"
   ]
  },
  {
   "cell_type": "code",
   "execution_count": null,
   "metadata": {},
   "outputs": [],
   "source": [
    "cntsArr = sorted(cnts,key=cv2.contourArea,reverse=True)[0]"
   ]
  },
  {
   "cell_type": "code",
   "execution_count": null,
   "metadata": {},
   "outputs": [],
   "source": [
    "cv2.drawContours(outlineGr,[cntsArr],-1,255,-1)"
   ]
  },
  {
   "cell_type": "code",
   "execution_count": null,
   "metadata": {},
   "outputs": [],
   "source": [
    "momentsGr = desc.describe(outlineGr)"
   ]
  },
  {
   "cell_type": "code",
   "execution_count": null,
   "metadata": {},
   "outputs": [],
   "source": [
    "import os"
   ]
  },
  {
   "cell_type": "markdown",
   "metadata": {},
   "source": [
    "# Testing the pokemon zernike descriptor dataset"
   ]
  },
  {
   "cell_type": "code",
   "execution_count": null,
   "metadata": {},
   "outputs": [],
   "source": [
    "os.chdir('/home/anirudh/Desktop/pokedex-zernike/sprites/')"
   ]
  },
  {
   "cell_type": "code",
   "execution_count": null,
   "metadata": {},
   "outputs": [],
   "source": [
    "%pwd"
   ]
  },
  {
   "cell_type": "code",
   "execution_count": null,
   "metadata": {},
   "outputs": [],
   "source": [
    "image = cv2.imread(\"abra.png\")"
   ]
  },
  {
   "cell_type": "code",
   "execution_count": null,
   "metadata": {},
   "outputs": [],
   "source": [
    "image.shape"
   ]
  },
  {
   "cell_type": "code",
   "execution_count": null,
   "metadata": {},
   "outputs": [],
   "source": [
    "plt.imshow(image)"
   ]
  },
  {
   "cell_type": "code",
   "execution_count": null,
   "metadata": {},
   "outputs": [],
   "source": [
    "image = cv2.cvtColor(image, cv2.COLOR_BGR2GRAY)"
   ]
  },
  {
   "cell_type": "code",
   "execution_count": null,
   "metadata": {},
   "outputs": [],
   "source": [
    "plt.imshow(image)"
   ]
  },
  {
   "cell_type": "code",
   "execution_count": null,
   "metadata": {},
   "outputs": [],
   "source": [
    "image = cv2.copyMakeBorder(image,15,15,15,15, cv2.BORDER_CONSTANT,value = 255)"
   ]
  },
  {
   "cell_type": "code",
   "execution_count": null,
   "metadata": {},
   "outputs": [],
   "source": [
    "plt.imshow(image)"
   ]
  },
  {
   "cell_type": "code",
   "execution_count": null,
   "metadata": {},
   "outputs": [],
   "source": [
    "thresh = cv2.bitwise_not(image)"
   ]
  },
  {
   "cell_type": "code",
   "execution_count": null,
   "metadata": {},
   "outputs": [],
   "source": [
    "plt.imshow(thresh)"
   ]
  },
  {
   "cell_type": "code",
   "execution_count": null,
   "metadata": {},
   "outputs": [],
   "source": [
    "thresh[thresh > 0] = 255"
   ]
  },
  {
   "cell_type": "code",
   "execution_count": null,
   "metadata": {},
   "outputs": [],
   "source": [
    "plt.imshow(thresh)"
   ]
  },
  {
   "cell_type": "code",
   "execution_count": null,
   "metadata": {},
   "outputs": [],
   "source": [
    "outline = np.zeros(image.shape, dtype= \"uint8\")"
   ]
  },
  {
   "cell_type": "code",
   "execution_count": null,
   "metadata": {},
   "outputs": [],
   "source": [
    "_,cnts,_ = cv2.findContours(thresh.copy(),cv2.RETR_EXTERNAL, cv2.CHAIN_APPROX_SIMPLE)"
   ]
  },
  {
   "cell_type": "code",
   "execution_count": null,
   "metadata": {},
   "outputs": [],
   "source": [
    "cnts = sorted(cnts,key= cv2.contourArea,reverse=True)[0]"
   ]
  },
  {
   "cell_type": "code",
   "execution_count": null,
   "metadata": {},
   "outputs": [],
   "source": [
    "cnts"
   ]
  },
  {
   "cell_type": "code",
   "execution_count": null,
   "metadata": {},
   "outputs": [],
   "source": [
    "cv2.drawContours(outline,[cnts],-1,255,-1)"
   ]
  },
  {
   "cell_type": "code",
   "execution_count": null,
   "metadata": {},
   "outputs": [],
   "source": [
    "moments = desc.describe(outline)"
   ]
  },
  {
   "cell_type": "code",
   "execution_count": null,
   "metadata": {},
   "outputs": [],
   "source": [
    "plt.imshow(outline)"
   ]
  },
  {
   "cell_type": "code",
   "execution_count": 11,
   "metadata": {},
   "outputs": [],
   "source": [
    "import os\n",
    "import matplotlib.pyplot as plt"
   ]
  },
  {
   "cell_type": "markdown",
   "metadata": {},
   "source": [
    " # Test if the process is same for a waveform image"
   ]
  },
  {
   "cell_type": "code",
   "execution_count": 12,
   "metadata": {},
   "outputs": [],
   "source": [
    "os.chdir('/home/anirudh/')"
   ]
  },
  {
   "cell_type": "code",
   "execution_count": 13,
   "metadata": {},
   "outputs": [],
   "source": [
    "image = cv2.imread(\"wav2img.png\")"
   ]
  },
  {
   "cell_type": "code",
   "execution_count": 14,
   "metadata": {},
   "outputs": [
    {
     "data": {
      "text/plain": [
       "<matplotlib.image.AxesImage at 0x7f17b955e780>"
      ]
     },
     "execution_count": 14,
     "metadata": {},
     "output_type": "execute_result"
    },
    {
     "data": {
      "image/png": "[encoded data removed]",
      "text/plain": [
       "<matplotlib.figure.Figure at 0x7f17b960d4a8>"
      ]
     },
     "metadata": {},
     "output_type": "display_data"
    }
   ],
   "source": [
    "plt.imshow(image)"
   ]
  },
  {
   "cell_type": "code",
   "execution_count": null,
   "metadata": {},
   "outputs": [],
   "source": [
    "image = cv2.cvtColor(image, cv2.COLOR_BGR2GRAY)"
   ]
  },
  {
   "cell_type": "code",
   "execution_count": null,
   "metadata": {},
   "outputs": [],
   "source": [
    "plt.imshow(image)"
   ]
  },
  {
   "cell_type": "code",
   "execution_count": null,
   "metadata": {},
   "outputs": [],
   "source": [
    "image = cv2.copyMakeBorder(image, 15,15,15,15,cv2.BORDER_CONSTANT, value = 255)"
   ]
  },
  {
   "cell_type": "code",
   "execution_count": null,
   "metadata": {},
   "outputs": [],
   "source": [
    "plt.imshow(image)"
   ]
  },
  {
   "cell_type": "code",
   "execution_count": null,
   "metadata": {},
   "outputs": [],
   "source": [
    "thresh = cv2.bitwise_not(image)"
   ]
  },
  {
   "cell_type": "code",
   "execution_count": null,
   "metadata": {},
   "outputs": [],
   "source": [
    "plt.imshow(thresh)"
   ]
  },
  {
   "cell_type": "code",
   "execution_count": null,
   "metadata": {},
   "outputs": [],
   "source": [
    "outline = np.zeros(image.shape,dtype= \"uint8\")"
   ]
  },
  {
   "cell_type": "code",
   "execution_count": null,
   "metadata": {},
   "outputs": [],
   "source": [
    "_,cnts,_ = cv2.findContours(thresh.copy(),cv2.RETR_EXTERNAL,cv2.CHAIN_APPROX_SIMPLE)"
   ]
  },
  {
   "cell_type": "code",
   "execution_count": null,
   "metadata": {},
   "outputs": [],
   "source": [
    "cnts = sorted(cnts,key= cv2.contourArea, reverse= True)[0]"
   ]
  },
  {
   "cell_type": "code",
   "execution_count": null,
   "metadata": {},
   "outputs": [],
   "source": [
    "cnts"
   ]
  },
  {
   "cell_type": "code",
   "execution_count": null,
   "metadata": {},
   "outputs": [],
   "source": [
    "cv2.drawContours(outline,[cnts],-1,255,-1)"
   ]
  },
  {
   "cell_type": "code",
   "execution_count": null,
   "metadata": {},
   "outputs": [],
   "source": [
    "moments = desc.describe(thresh)"
   ]
  },
  {
   "cell_type": "code",
   "execution_count": null,
   "metadata": {},
   "outputs": [],
   "source": [
    "moments"
   ]
  },
  {
   "cell_type": "markdown",
   "metadata": {},
   "source": [
    "# Preparing the Zernike descriptors dataset"
   ]
  },
  {
   "cell_type": "code",
   "execution_count": null,
   "metadata": {},
   "outputs": [],
   "source": [
    "index = 0\n",
    "for path in glob.glob('/home/anirudh/Desktop/OUR project images/' + \"/*.png\"):\n",
    "    imgName = (path.split('/')[-1]).replace(\".png\",\"\")\n",
    "    \n",
    "    #Load the image from the file\n",
    "    image = cv2.imread(path)\n",
    "    \n",
    "    #Convert the image from RGB to Gray\n",
    "    image = cv2.cvtColor(image, cv2.COLOR_BGR2GRAY)\n",
    "    \n",
    "    #Pad the image with extra white pixels\n",
    "    image = cv2.copyMakeBorder(image,15,15,15,15, cv2.BORDER_CONSTANT, value = 255)\n",
    "    \n",
    "    #Invert the image and threshold it\n",
    "    thresh = cv2.bitwise_not(image)\n",
    "        \n",
    "    #Initialize the outline image, find the outermost contours(outline) of the pokemon, then draw it\n",
    "    outline = np.zeros(image.shape, np.uint8)\n",
    "        \n",
    "    _,cnts,hierarchy = cv2.findContours(thresh.copy(), cv2.RETR_EXTERNAL, cv2.CHAIN_APPROX_SIMPLE)\n",
    "    cnts = sorted(cnts, key = cv2.contourArea, reverse = True)[0]\n",
    "    cv2.drawContours(outline, [cnts],-1,255,-1)\n",
    "    \n",
    "    moments = desc.describe(thresh)\n",
    "    dataset[imgName] = moments\n",
    "    imageNames.insert(index,imgName)\n",
    "    index += 1"
   ]
  },
  {
   "cell_type": "markdown",
   "metadata": {},
   "source": [
    "# Test on one image"
   ]
  },
  {
   "cell_type": "code",
   "execution_count": 49,
   "metadata": {},
   "outputs": [],
   "source": [
    "import os\n",
    "import matplotlib.pyplot as plt"
   ]
  },
  {
   "cell_type": "code",
   "execution_count": 50,
   "metadata": {},
   "outputs": [],
   "source": [
    "os.chdir('/home/anirudh/Desktop/OUR project images/drilling')"
   ]
  },
  {
   "cell_type": "code",
   "execution_count": 51,
   "metadata": {},
   "outputs": [
    {
     "data": {
      "text/plain": [
       "'/home/anirudh/Desktop/OUR project images/drilling'"
      ]
     },
     "execution_count": 51,
     "metadata": {},
     "output_type": "execute_result"
    }
   ],
   "source": [
    "%pwd"
   ]
  },
  {
   "cell_type": "code",
   "execution_count": 52,
   "metadata": {},
   "outputs": [],
   "source": [
    "image = cv2.imread('518.png')"
   ]
  },
  {
   "cell_type": "code",
   "execution_count": 53,
   "metadata": {},
   "outputs": [
    {
     "data": {
      "text/plain": [
       "array([[[255, 255, 255],\n",
       "        [255, 255, 255],\n",
       "        [255, 255, 255],\n",
       "        ...,\n",
       "        [255, 255, 255],\n",
       "        [255, 255, 255],\n",
       "        [255, 255, 255]],\n",
       "\n",
       "       [[255, 255, 255],\n",
       "        [255, 255, 255],\n",
       "        [255, 255, 255],\n",
       "        ...,\n",
       "        [255, 255, 255],\n",
       "        [255, 255, 255],\n",
       "        [255, 255, 255]],\n",
       "\n",
       "       [[255, 255, 255],\n",
       "        [255, 255, 255],\n",
       "        [255, 255, 255],\n",
       "        ...,\n",
       "        [255, 255, 255],\n",
       "        [255, 255, 255],\n",
       "        [255, 255, 255]],\n",
       "\n",
       "       ...,\n",
       "\n",
       "       [[255, 255, 255],\n",
       "        [255, 255, 255],\n",
       "        [255, 255, 255],\n",
       "        ...,\n",
       "        [255, 255, 255],\n",
       "        [255, 255, 255],\n",
       "        [255, 255, 255]],\n",
       "\n",
       "       [[255, 255, 255],\n",
       "        [255, 255, 255],\n",
       "        [255, 255, 255],\n",
       "        ...,\n",
       "        [255, 255, 255],\n",
       "        [255, 255, 255],\n",
       "        [255, 255, 255]],\n",
       "\n",
       "       [[255, 255, 255],\n",
       "        [255, 255, 255],\n",
       "        [255, 255, 255],\n",
       "        ...,\n",
       "        [255, 255, 255],\n",
       "        [255, 255, 255],\n",
       "        [255, 255, 255]]], dtype=uint8)"
      ]
     },
     "execution_count": 53,
     "metadata": {},
     "output_type": "execute_result"
    }
   ],
   "source": [
    "image"
   ]
  },
  {
   "cell_type": "code",
   "execution_count": 54,
   "metadata": {},
   "outputs": [],
   "source": [
    "image = cv2.cvtColor(image,cv2.COLOR_BGR2GRAY)"
   ]
  },
  {
   "cell_type": "code",
   "execution_count": 55,
   "metadata": {},
   "outputs": [
    {
     "data": {
      "text/plain": [
       "array([[255, 255, 255, ..., 255, 255, 255],\n",
       "       [255, 255, 255, ..., 255, 255, 255],\n",
       "       [255, 255, 255, ..., 255, 255, 255],\n",
       "       ...,\n",
       "       [255, 255, 255, ..., 255, 255, 255],\n",
       "       [255, 255, 255, ..., 255, 255, 255],\n",
       "       [255, 255, 255, ..., 255, 255, 255]], dtype=uint8)"
      ]
     },
     "execution_count": 55,
     "metadata": {},
     "output_type": "execute_result"
    }
   ],
   "source": [
    "image"
   ]
  },
  {
   "cell_type": "code",
   "execution_count": 56,
   "metadata": {},
   "outputs": [
    {
     "data": {
      "text/plain": [
       "(288, 432)"
      ]
     },
     "execution_count": 56,
     "metadata": {},
     "output_type": "execute_result"
    }
   ],
   "source": [
    "image.shape"
   ]
  },
  {
   "cell_type": "code",
   "execution_count": 57,
   "metadata": {},
   "outputs": [
    {
     "data": {
      "text/plain": [
       "<matplotlib.image.AxesImage at 0x7f77b7603898>"
      ]
     },
     "execution_count": 57,
     "metadata": {},
     "output_type": "execute_result"
    },
    {
     "data": {
      "image/png": "[encoded data removed]",
      "text/plain": [
       "<matplotlib.figure.Figure at 0x7f77b76b1f60>"
      ]
     },
     "metadata": {},
     "output_type": "display_data"
    }
   ],
   "source": [
    "plt.imshow(image)"
   ]
  },
  {
   "cell_type": "code",
   "execution_count": 58,
   "metadata": {},
   "outputs": [],
   "source": [
    "image = cv2.copyMakeBorder(image,15,15,15,15, cv2.BORDER_CONSTANT, value = 255)"
   ]
  },
  {
   "cell_type": "code",
   "execution_count": 59,
   "metadata": {},
   "outputs": [
    {
     "data": {
      "text/plain": [
       "array([[255, 255, 255, ..., 255, 255, 255],\n",
       "       [255, 255, 255, ..., 255, 255, 255],\n",
       "       [255, 255, 255, ..., 255, 255, 255],\n",
       "       ...,\n",
       "       [255, 255, 255, ..., 255, 255, 255],\n",
       "       [255, 255, 255, ..., 255, 255, 255],\n",
       "       [255, 255, 255, ..., 255, 255, 255]], dtype=uint8)"
      ]
     },
     "execution_count": 59,
     "metadata": {},
     "output_type": "execute_result"
    }
   ],
   "source": [
    "image"
   ]
  },
  {
   "cell_type": "code",
   "execution_count": 60,
   "metadata": {},
   "outputs": [
    {
     "data": {
      "text/plain": [
       "<matplotlib.image.AxesImage at 0x7f77b759b2b0>"
      ]
     },
     "execution_count": 60,
     "metadata": {},
     "output_type": "execute_result"
    },
    {
     "data": {
      "image/png": "[encoded data removed]",
      "text/plain": [
       "<matplotlib.figure.Figure at 0x7f77b761bc88>"
      ]
     },
     "metadata": {},
     "output_type": "display_data"
    }
   ],
   "source": [
    "plt.imshow(image)"
   ]
  },
  {
   "cell_type": "code",
   "execution_count": 61,
   "metadata": {},
   "outputs": [],
   "source": [
    "thresh = cv2.bitwise_not(image)"
   ]
  },
  {
   "cell_type": "code",
   "execution_count": 62,
   "metadata": {},
   "outputs": [
    {
     "data": {
      "text/plain": [
       "array([[0, 0, 0, ..., 0, 0, 0],\n",
       "       [0, 0, 0, ..., 0, 0, 0],\n",
       "       [0, 0, 0, ..., 0, 0, 0],\n",
       "       ...,\n",
       "       [0, 0, 0, ..., 0, 0, 0],\n",
       "       [0, 0, 0, ..., 0, 0, 0],\n",
       "       [0, 0, 0, ..., 0, 0, 0]], dtype=uint8)"
      ]
     },
     "execution_count": 62,
     "metadata": {},
     "output_type": "execute_result"
    }
   ],
   "source": [
    "thresh"
   ]
  },
  {
   "cell_type": "code",
   "execution_count": 63,
   "metadata": {},
   "outputs": [
    {
     "data": {
      "text/plain": [
       "<matplotlib.image.AxesImage at 0x7f77b75736a0>"
      ]
     },
     "execution_count": 63,
     "metadata": {},
     "output_type": "execute_result"
    },
    {
     "data": {
      "image/png": "[encoded data removed]",
      "text/plain": [
       "<matplotlib.figure.Figure at 0x7f77b75f0d30>"
      ]
     },
     "metadata": {},
     "output_type": "display_data"
    }
   ],
   "source": [
    "plt.imshow(thresh)"
   ]
  },
  {
   "cell_type": "code",
   "execution_count": 64,
   "metadata": {},
   "outputs": [],
   "source": [
    "outline = np.zeros(image.shape,np.uint8)"
   ]
  },
  {
   "cell_type": "code",
   "execution_count": 65,
   "metadata": {},
   "outputs": [
    {
     "data": {
      "text/plain": [
       "array([[0, 0, 0, ..., 0, 0, 0],\n",
       "       [0, 0, 0, ..., 0, 0, 0],\n",
       "       [0, 0, 0, ..., 0, 0, 0],\n",
       "       ...,\n",
       "       [0, 0, 0, ..., 0, 0, 0],\n",
       "       [0, 0, 0, ..., 0, 0, 0],\n",
       "       [0, 0, 0, ..., 0, 0, 0]], dtype=uint8)"
      ]
     },
     "execution_count": 65,
     "metadata": {},
     "output_type": "execute_result"
    }
   ],
   "source": [
    "outline"
   ]
  },
  {
   "cell_type": "code",
   "execution_count": 66,
   "metadata": {},
   "outputs": [],
   "source": [
    "_,cnts,hierarchy = cv2.findContours(thresh.copy(),cv2.RETR_EXTERNAL,cv2.CHAIN_APPROX_SIMPLE)"
   ]
  },
  {
   "cell_type": "code",
   "execution_count": 67,
   "metadata": {},
   "outputs": [
    {
     "data": {
      "text/plain": [
       "[array([[[343, 155]],\n",
       " \n",
       "        [[343, 162]],\n",
       " \n",
       "        [[347, 162]],\n",
       " \n",
       "        [[347, 161]],\n",
       " \n",
       "        [[348, 160]],\n",
       " \n",
       "        [[350, 162]],\n",
       " \n",
       "        [[353, 162]],\n",
       " \n",
       "        [[354, 161]],\n",
       " \n",
       "        [[355, 161]],\n",
       " \n",
       "        [[356, 162]],\n",
       " \n",
       "        [[359, 162]],\n",
       " \n",
       "        [[361, 160]],\n",
       " \n",
       "        [[362, 161]],\n",
       " \n",
       "        [[362, 162]],\n",
       " \n",
       "        [[366, 162]],\n",
       " \n",
       "        [[366, 155]],\n",
       " \n",
       "        [[362, 155]],\n",
       " \n",
       "        [[362, 156]],\n",
       " \n",
       "        [[361, 157]],\n",
       " \n",
       "        [[359, 155]],\n",
       " \n",
       "        [[356, 155]],\n",
       " \n",
       "        [[355, 156]],\n",
       " \n",
       "        [[354, 156]],\n",
       " \n",
       "        [[353, 155]],\n",
       " \n",
       "        [[350, 155]],\n",
       " \n",
       "        [[348, 157]],\n",
       " \n",
       "        [[347, 156]],\n",
       " \n",
       "        [[347, 155]]], dtype=int32), array([[[333, 155]],\n",
       " \n",
       "        [[333, 156]],\n",
       " \n",
       "        [[332, 157]],\n",
       " \n",
       "        [[332, 158]],\n",
       " \n",
       "        [[331, 159]],\n",
       " \n",
       "        [[331, 160]],\n",
       " \n",
       "        [[333, 160]],\n",
       " \n",
       "        [[334, 161]],\n",
       " \n",
       "        [[334, 162]],\n",
       " \n",
       "        [[335, 162]],\n",
       " \n",
       "        [[335, 161]],\n",
       " \n",
       "        [[336, 160]],\n",
       " \n",
       "        [[337, 161]],\n",
       " \n",
       "        [[337, 162]],\n",
       " \n",
       "        [[341, 162]],\n",
       " \n",
       "        [[341, 155]],\n",
       " \n",
       "        [[337, 155]],\n",
       " \n",
       "        [[337, 156]],\n",
       " \n",
       "        [[336, 157]],\n",
       " \n",
       "        [[335, 156]],\n",
       " \n",
       "        [[335, 155]]], dtype=int32), array([[[277, 155]],\n",
       " \n",
       "        [[277, 162]],\n",
       " \n",
       "        [[281, 162]],\n",
       " \n",
       "        [[281, 161]],\n",
       " \n",
       "        [[282, 160]],\n",
       " \n",
       "        [[284, 162]],\n",
       " \n",
       "        [[287, 162]],\n",
       " \n",
       "        [[288, 161]],\n",
       " \n",
       "        [[289, 161]],\n",
       " \n",
       "        [[290, 162]],\n",
       " \n",
       "        [[293, 162]],\n",
       " \n",
       "        [[295, 160]],\n",
       " \n",
       "        [[296, 161]],\n",
       " \n",
       "        [[296, 162]],\n",
       " \n",
       "        [[300, 162]],\n",
       " \n",
       "        [[300, 155]],\n",
       " \n",
       "        [[296, 155]],\n",
       " \n",
       "        [[296, 156]],\n",
       " \n",
       "        [[295, 157]],\n",
       " \n",
       "        [[293, 155]],\n",
       " \n",
       "        [[290, 155]],\n",
       " \n",
       "        [[289, 156]],\n",
       " \n",
       "        [[288, 156]],\n",
       " \n",
       "        [[287, 155]],\n",
       " \n",
       "        [[284, 155]],\n",
       " \n",
       "        [[282, 157]],\n",
       " \n",
       "        [[281, 156]],\n",
       " \n",
       "        [[281, 155]]], dtype=int32), array([[[265, 155]],\n",
       " \n",
       "        [[265, 156]],\n",
       " \n",
       "        [[266, 156]],\n",
       " \n",
       "        [[267, 155]],\n",
       " \n",
       "        [[268, 156]],\n",
       " \n",
       "        [[268, 157]],\n",
       " \n",
       "        [[267, 158]],\n",
       " \n",
       "        [[266, 158]],\n",
       " \n",
       "        [[267, 158]],\n",
       " \n",
       "        [[269, 160]],\n",
       " \n",
       "        [[267, 162]],\n",
       " \n",
       "        [[266, 161]],\n",
       " \n",
       "        [[265, 161]],\n",
       " \n",
       "        [[265, 162]],\n",
       " \n",
       "        [[269, 162]],\n",
       " \n",
       "        [[270, 161]],\n",
       " \n",
       "        [[271, 162]],\n",
       " \n",
       "        [[275, 162]],\n",
       " \n",
       "        [[275, 155]],\n",
       " \n",
       "        [[271, 155]],\n",
       " \n",
       "        [[270, 156]],\n",
       " \n",
       "        [[269, 155]]], dtype=int32), array([[[230, 155]],\n",
       " \n",
       "        [[230, 162]],\n",
       " \n",
       "        [[234, 162]],\n",
       " \n",
       "        [[234, 155]]], dtype=int32), array([[[211, 155]],\n",
       " \n",
       "        [[211, 162]],\n",
       " \n",
       "        [[215, 162]],\n",
       " \n",
       "        [[215, 161]],\n",
       " \n",
       "        [[216, 160]],\n",
       " \n",
       "        [[218, 162]],\n",
       " \n",
       "        [[221, 162]],\n",
       " \n",
       "        [[223, 160]],\n",
       " \n",
       "        [[224, 161]],\n",
       " \n",
       "        [[224, 162]],\n",
       " \n",
       "        [[228, 162]],\n",
       " \n",
       "        [[228, 155]],\n",
       " \n",
       "        [[224, 155]],\n",
       " \n",
       "        [[224, 156]],\n",
       " \n",
       "        [[223, 157]],\n",
       " \n",
       "        [[221, 155]],\n",
       " \n",
       "        [[218, 155]],\n",
       " \n",
       "        [[216, 157]],\n",
       " \n",
       "        [[215, 156]],\n",
       " \n",
       "        [[215, 155]]], dtype=int32), array([[[199, 155]],\n",
       " \n",
       "        [[199, 156]],\n",
       " \n",
       "        [[200, 156]],\n",
       " \n",
       "        [[201, 155]],\n",
       " \n",
       "        [[203, 157]],\n",
       " \n",
       "        [[199, 161]],\n",
       " \n",
       "        [[199, 162]],\n",
       " \n",
       "        [[209, 162]],\n",
       " \n",
       "        [[209, 155]],\n",
       " \n",
       "        [[205, 155]],\n",
       " \n",
       "        [[204, 156]],\n",
       " \n",
       "        [[203, 155]]], dtype=int32), array([[[163, 155]],\n",
       " \n",
       "        [[163, 162]],\n",
       " \n",
       "        [[167, 162]],\n",
       " \n",
       "        [[167, 155]]], dtype=int32), array([[[144, 155]],\n",
       " \n",
       "        [[144, 162]],\n",
       " \n",
       "        [[148, 162]],\n",
       " \n",
       "        [[148, 161]],\n",
       " \n",
       "        [[149, 160]],\n",
       " \n",
       "        [[151, 162]],\n",
       " \n",
       "        [[154, 162]],\n",
       " \n",
       "        [[156, 160]],\n",
       " \n",
       "        [[157, 161]],\n",
       " \n",
       "        [[157, 162]],\n",
       " \n",
       "        [[161, 162]],\n",
       " \n",
       "        [[161, 155]],\n",
       " \n",
       "        [[157, 155]],\n",
       " \n",
       "        [[157, 156]],\n",
       " \n",
       "        [[156, 157]],\n",
       " \n",
       "        [[154, 155]],\n",
       " \n",
       "        [[151, 155]],\n",
       " \n",
       "        [[149, 157]],\n",
       " \n",
       "        [[148, 156]],\n",
       " \n",
       "        [[148, 155]]], dtype=int32), array([[[133, 155]],\n",
       " \n",
       "        [[133, 156]],\n",
       " \n",
       "        [[134, 157]],\n",
       " \n",
       "        [[134, 161]],\n",
       " \n",
       "        [[133, 162]],\n",
       " \n",
       "        [[142, 162]],\n",
       " \n",
       "        [[142, 155]],\n",
       " \n",
       "        [[138, 155]],\n",
       " \n",
       "        [[138, 161]],\n",
       " \n",
       "        [[137, 162]],\n",
       " \n",
       "        [[136, 162]],\n",
       " \n",
       "        [[135, 161]],\n",
       " \n",
       "        [[135, 155]]], dtype=int32), array([[[ 83, 155]],\n",
       " \n",
       "        [[ 82, 156]],\n",
       " \n",
       "        [[ 82, 161]],\n",
       " \n",
       "        [[ 83, 162]],\n",
       " \n",
       "        [[ 86, 162]],\n",
       " \n",
       "        [[ 87, 161]],\n",
       " \n",
       "        [[ 87, 156]],\n",
       " \n",
       "        [[ 86, 155]]], dtype=int32), array([[[ 23, 128]],\n",
       " \n",
       "        [[ 29, 128]]], dtype=int32), array([[[ 55, 124]],\n",
       " \n",
       "        [[ 55, 131]],\n",
       " \n",
       "        [[ 59, 131]],\n",
       " \n",
       "        [[ 59, 130]],\n",
       " \n",
       "        [[ 60, 129]],\n",
       " \n",
       "        [[ 60, 126]],\n",
       " \n",
       "        [[ 59, 125]],\n",
       " \n",
       "        [[ 59, 124]]], dtype=int32), array([[[ 37, 124]],\n",
       " \n",
       "        [[ 36, 125]],\n",
       " \n",
       "        [[ 36, 130]],\n",
       " \n",
       "        [[ 37, 131]],\n",
       " \n",
       "        [[ 40, 131]],\n",
       " \n",
       "        [[ 41, 130]],\n",
       " \n",
       "        [[ 42, 130]],\n",
       " \n",
       "        [[ 43, 131]],\n",
       " \n",
       "        [[ 46, 131]],\n",
       " \n",
       "        [[ 48, 129]],\n",
       " \n",
       "        [[ 49, 130]],\n",
       " \n",
       "        [[ 49, 131]],\n",
       " \n",
       "        [[ 53, 131]],\n",
       " \n",
       "        [[ 53, 124]],\n",
       " \n",
       "        [[ 49, 124]],\n",
       " \n",
       "        [[ 49, 125]],\n",
       " \n",
       "        [[ 48, 126]],\n",
       " \n",
       "        [[ 46, 124]],\n",
       " \n",
       "        [[ 43, 124]],\n",
       " \n",
       "        [[ 42, 125]],\n",
       " \n",
       "        [[ 41, 125]],\n",
       " \n",
       "        [[ 40, 124]]], dtype=int32), array([[[ 30, 124]],\n",
       " \n",
       "        [[ 30, 125]],\n",
       " \n",
       "        [[ 31, 125]],\n",
       " \n",
       "        [[ 32, 126]],\n",
       " \n",
       "        [[ 32, 130]],\n",
       " \n",
       "        [[ 31, 131]],\n",
       " \n",
       "        [[ 30, 131]],\n",
       " \n",
       "        [[ 34, 131]],\n",
       " \n",
       "        [[ 33, 130]],\n",
       " \n",
       "        [[ 33, 124]]], dtype=int32), array([[[57, 91]],\n",
       " \n",
       "        [[56, 92]],\n",
       " \n",
       "        [[56, 97]],\n",
       " \n",
       "        [[57, 98]],\n",
       " \n",
       "        [[60, 98]],\n",
       " \n",
       "        [[61, 97]],\n",
       " \n",
       "        [[61, 92]],\n",
       " \n",
       "        [[60, 91]]], dtype=int32), array([[[43, 58]],\n",
       " \n",
       "        [[43, 65]],\n",
       " \n",
       "        [[47, 65]],\n",
       " \n",
       "        [[47, 64]],\n",
       " \n",
       "        [[48, 63]],\n",
       " \n",
       "        [[50, 65]],\n",
       " \n",
       "        [[53, 65]],\n",
       " \n",
       "        [[55, 63]],\n",
       " \n",
       "        [[56, 64]],\n",
       " \n",
       "        [[56, 65]],\n",
       " \n",
       "        [[60, 65]],\n",
       " \n",
       "        [[60, 58]],\n",
       " \n",
       "        [[56, 58]],\n",
       " \n",
       "        [[56, 59]],\n",
       " \n",
       "        [[55, 60]],\n",
       " \n",
       "        [[53, 58]],\n",
       " \n",
       "        [[50, 58]],\n",
       " \n",
       "        [[48, 60]],\n",
       " \n",
       "        [[47, 59]],\n",
       " \n",
       "        [[47, 58]]], dtype=int32), array([[[32, 58]],\n",
       " \n",
       "        [[32, 59]],\n",
       " \n",
       "        [[33, 60]],\n",
       " \n",
       "        [[33, 64]],\n",
       " \n",
       "        [[32, 65]],\n",
       " \n",
       "        [[41, 65]],\n",
       " \n",
       "        [[41, 58]],\n",
       " \n",
       "        [[37, 58]],\n",
       " \n",
       "        [[37, 64]],\n",
       " \n",
       "        [[36, 65]],\n",
       " \n",
       "        [[35, 65]],\n",
       " \n",
       "        [[34, 64]],\n",
       " \n",
       "        [[34, 58]]], dtype=int32), array([[[ 69,  50]],\n",
       " \n",
       "        [[ 69,  61]],\n",
       " \n",
       "        [[ 68,  62]],\n",
       " \n",
       "        [[ 66,  62]],\n",
       " \n",
       "        [[ 68,  62]],\n",
       " \n",
       "        [[ 69,  63]],\n",
       " \n",
       "        [[ 69,  94]],\n",
       " \n",
       "        [[ 68,  95]],\n",
       " \n",
       "        [[ 66,  95]],\n",
       " \n",
       "        [[ 68,  95]],\n",
       " \n",
       "        [[ 69,  96]],\n",
       " \n",
       "        [[ 69, 127]],\n",
       " \n",
       "        [[ 68, 128]],\n",
       " \n",
       "        [[ 66, 128]],\n",
       " \n",
       "        [[ 68, 128]],\n",
       " \n",
       "        [[ 69, 129]],\n",
       " \n",
       "        [[ 69, 148]],\n",
       " \n",
       "        [[ 83, 148]],\n",
       " \n",
       "        [[ 84, 149]],\n",
       " \n",
       "        [[ 84, 152]],\n",
       " \n",
       "        [[ 84, 149]],\n",
       " \n",
       "        [[ 85, 148]],\n",
       " \n",
       "        [[150, 148]],\n",
       " \n",
       "        [[151, 149]],\n",
       " \n",
       "        [[151, 152]],\n",
       " \n",
       "        [[151, 149]],\n",
       " \n",
       "        [[152, 148]],\n",
       " \n",
       "        [[216, 148]],\n",
       " \n",
       "        [[217, 149]],\n",
       " \n",
       "        [[217, 152]],\n",
       " \n",
       "        [[217, 149]],\n",
       " \n",
       "        [[218, 148]],\n",
       " \n",
       "        [[282, 148]],\n",
       " \n",
       "        [[283, 149]],\n",
       " \n",
       "        [[283, 152]],\n",
       " \n",
       "        [[283, 149]],\n",
       " \n",
       "        [[284, 148]],\n",
       " \n",
       "        [[348, 148]],\n",
       " \n",
       "        [[349, 149]],\n",
       " \n",
       "        [[349, 152]],\n",
       " \n",
       "        [[349, 149]],\n",
       " \n",
       "        [[350, 148]],\n",
       " \n",
       "        [[404, 148]],\n",
       " \n",
       "        [[404,  50]]], dtype=int32)]"
      ]
     },
     "execution_count": 67,
     "metadata": {},
     "output_type": "execute_result"
    }
   ],
   "source": [
    "cnts"
   ]
  },
  {
   "cell_type": "code",
   "execution_count": 68,
   "metadata": {},
   "outputs": [],
   "source": [
    "cnts = sorted(cnts,key=cv2.contourArea, reverse=True)[0]"
   ]
  },
  {
   "cell_type": "code",
   "execution_count": 69,
   "metadata": {},
   "outputs": [
    {
     "data": {
      "text/plain": [
       "array([[[ 69,  50]],\n",
       "\n",
       "       [[ 69,  61]],\n",
       "\n",
       "       [[ 68,  62]],\n",
       "\n",
       "       [[ 66,  62]],\n",
       "\n",
       "       [[ 68,  62]],\n",
       "\n",
       "       [[ 69,  63]],\n",
       "\n",
       "       [[ 69,  94]],\n",
       "\n",
       "       [[ 68,  95]],\n",
       "\n",
       "       [[ 66,  95]],\n",
       "\n",
       "       [[ 68,  95]],\n",
       "\n",
       "       [[ 69,  96]],\n",
       "\n",
       "       [[ 69, 127]],\n",
       "\n",
       "       [[ 68, 128]],\n",
       "\n",
       "       [[ 66, 128]],\n",
       "\n",
       "       [[ 68, 128]],\n",
       "\n",
       "       [[ 69, 129]],\n",
       "\n",
       "       [[ 69, 148]],\n",
       "\n",
       "       [[ 83, 148]],\n",
       "\n",
       "       [[ 84, 149]],\n",
       "\n",
       "       [[ 84, 152]],\n",
       "\n",
       "       [[ 84, 149]],\n",
       "\n",
       "       [[ 85, 148]],\n",
       "\n",
       "       [[150, 148]],\n",
       "\n",
       "       [[151, 149]],\n",
       "\n",
       "       [[151, 152]],\n",
       "\n",
       "       [[151, 149]],\n",
       "\n",
       "       [[152, 148]],\n",
       "\n",
       "       [[216, 148]],\n",
       "\n",
       "       [[217, 149]],\n",
       "\n",
       "       [[217, 152]],\n",
       "\n",
       "       [[217, 149]],\n",
       "\n",
       "       [[218, 148]],\n",
       "\n",
       "       [[282, 148]],\n",
       "\n",
       "       [[283, 149]],\n",
       "\n",
       "       [[283, 152]],\n",
       "\n",
       "       [[283, 149]],\n",
       "\n",
       "       [[284, 148]],\n",
       "\n",
       "       [[348, 148]],\n",
       "\n",
       "       [[349, 149]],\n",
       "\n",
       "       [[349, 152]],\n",
       "\n",
       "       [[349, 149]],\n",
       "\n",
       "       [[350, 148]],\n",
       "\n",
       "       [[404, 148]],\n",
       "\n",
       "       [[404,  50]]], dtype=int32)"
      ]
     },
     "execution_count": 69,
     "metadata": {},
     "output_type": "execute_result"
    }
   ],
   "source": [
    "cnts"
   ]
  },
  {
   "cell_type": "code",
   "execution_count": 70,
   "metadata": {},
   "outputs": [
    {
     "data": {
      "text/plain": [
       "array([[0, 0, 0, ..., 0, 0, 0],\n",
       "       [0, 0, 0, ..., 0, 0, 0],\n",
       "       [0, 0, 0, ..., 0, 0, 0],\n",
       "       ...,\n",
       "       [0, 0, 0, ..., 0, 0, 0],\n",
       "       [0, 0, 0, ..., 0, 0, 0],\n",
       "       [0, 0, 0, ..., 0, 0, 0]], dtype=uint8)"
      ]
     },
     "execution_count": 70,
     "metadata": {},
     "output_type": "execute_result"
    }
   ],
   "source": [
    "cv2.drawContours(outline, [cnts],-1,255,-1)"
   ]
  },
  {
   "cell_type": "code",
   "execution_count": 71,
   "metadata": {},
   "outputs": [],
   "source": [
    "moments = desc.describe(thresh)"
   ]
  },
  {
   "cell_type": "code",
   "execution_count": 72,
   "metadata": {},
   "outputs": [
    {
     "data": {
      "text/plain": [
       "array([0.31830989, 0.00141876, 0.00109114, 0.002908  , 0.00290244,\n",
       "       0.00216102, 0.00188277, 0.00467153, 0.00197629, 0.00451589,\n",
       "       0.00335614, 0.00518535, 0.00277594, 0.00615583, 0.00268658,\n",
       "       0.00437002, 0.00631658, 0.00464248, 0.00714014, 0.009247  ,\n",
       "       0.0038185 , 0.00722839, 0.00328881, 0.00584406, 0.00305053])"
      ]
     },
     "execution_count": 72,
     "metadata": {},
     "output_type": "execute_result"
    }
   ],
   "source": [
    "moments"
   ]
  },
  {
   "cell_type": "code",
   "execution_count": 73,
   "metadata": {},
   "outputs": [
    {
     "data": {
      "image/png": "[encoded data removed]",
      "text/plain": [
       "<matplotlib.figure.Figure at 0x7f77b7516630>"
      ]
     },
     "metadata": {},
     "output_type": "display_data"
    }
   ],
   "source": [
    "plt.imshow(thresh,cmap='gray')\n",
    "plt.xticks([]),plt.yticks([])\n",
    "plt.show()"
   ]
  },
  {
   "cell_type": "markdown",
   "metadata": {},
   "source": [
    "# Preparing the drilling(i.e. positive examples)"
   ]
  },
  {
   "cell_type": "markdown",
   "metadata": {},
   "source": [
    "index = 0\n",
    "for path in glob.glob('/home/anirudh/Desktop/OUR project images/' + \"/*.png\"):\n",
    "    imgName = (path.split('/')[-1]).replace(\".png\",\"\")\n",
    "    \n",
    "    #Load the image from the file\n",
    "    image = cv2.imread(path)\n",
    "    \n",
    "    #Convert the image from RGB to Gray\n",
    "    image = cv2.cvtColor(image, cv2.COLOR_BGR2GRAY)\n",
    "    \n",
    "    #Pad the image with extra white pixels\n",
    "    image = cv2.copyMakeBorder(image,15,15,15,15, cv2.BORDER_CONSTANT, value = 255)\n",
    "    \n",
    "    #Invert the image and threshold it\n",
    "    thresh = cv2.bitwise_not(image)\n",
    "        \n",
    "    #Initialize the outline image, find the outermost contours(outline) of the waveform, then draw it\n",
    "    outline = np.zeros(image.shape, np.uint8)\n",
    "        \n",
    "    _,cnts,hierarchy = cv2.findContours(thresh.copy(), cv2.RETR_EXTERNAL, cv2.CHAIN_APPROX_SIMPLE)\n",
    "    cnts = sorted(cnts, key = cv2.contourArea, reverse = True)[0]\n",
    "    cv2.drawContours(outline, [cnts],-1,255,-1)\n",
    "    \n",
    "    moments = desc.describe(thresh)\n",
    "    dataset[imgName] = moments\n",
    "    imageNames.insert(index,imgName)\n",
    "    index += 1"
   ]
  },
  {
   "cell_type": "code",
   "execution_count": 74,
   "metadata": {},
   "outputs": [],
   "source": [
    "drillingFeatures = {}\n",
    "drillingLabels = []"
   ]
  },
  {
   "cell_type": "code",
   "execution_count": 75,
   "metadata": {},
   "outputs": [],
   "source": [
    "index = 0\n",
    "for path in glob.glob('/home/anirudh/Desktop/OUR project images/drilling' + \"/*.png\"):\n",
    "    \n",
    "    imgName = (path.split('/')[-1].replace(\".png\",\"\"))\n",
    "    \n",
    "    #Load the image from the file\n",
    "    image = cv2.imread(path)\n",
    "    \n",
    "    #Convert the image to Gray\n",
    "    image = cv2.cvtColor(image, cv2.COLOR_BGR2GRAY)\n",
    "    \n",
    "    #Pad the image with pixels to prevent overlapping at edges\n",
    "    image = cv2.copyMakeBorder(image,15,15,15,15, cv2.BORDER_CONSTANT, value = 255)\n",
    "    \n",
    "    #Invert the image and threshold it\n",
    "    thresh = cv2.bitwise_not(image)\n",
    "    \n",
    "    #Initialize the outline image, find the outermost contours of the waveform and plot it\n",
    "    outline = np.zeros(image.shape, np.uint8)\n",
    "    \n",
    "    _,cnts,hierarchy = cv2.findContours(thresh.copy(),cv2.RETR_EXTERNAL, cv2.CHAIN_APPROX_SIMPLE)\n",
    "    cnts = sorted(cnts, key= cv2.contourArea, reverse= True)[0]\n",
    "    cv2.drawContours(outline, [cnts],-1,255,-1)\n",
    "    \n",
    "    moments = desc.describe(thresh)\n",
    "    drillingFeatures[imgName] = moments\n",
    "    drillingLabels.insert(index,imgName)\n",
    "    index += 1"
   ]
  },
  {
   "cell_type": "code",
   "execution_count": 76,
   "metadata": {},
   "outputs": [
    {
     "data": {
      "text/plain": [
       "83"
      ]
     },
     "execution_count": 76,
     "metadata": {},
     "output_type": "execute_result"
    }
   ],
   "source": [
    "len(drillingFeatures)"
   ]
  },
  {
   "cell_type": "code",
   "execution_count": 77,
   "metadata": {},
   "outputs": [
    {
     "data": {
      "text/plain": [
       "['118278',\n",
       " '165786',\n",
       " '71088',\n",
       " '165643',\n",
       " '74922',\n",
       " '17913',\n",
       " '29722',\n",
       " '107842',\n",
       " '57584',\n",
       " '50415',\n",
       " '147764',\n",
       " '165644',\n",
       " '14110',\n",
       " '14111',\n",
       " '57696',\n",
       " '130961',\n",
       " '156362',\n",
       " '84699',\n",
       " '34621',\n",
       " '165642',\n",
       " '74965',\n",
       " '99192',\n",
       " '71079',\n",
       " '29721',\n",
       " '14115',\n",
       " '180029',\n",
       " '14113',\n",
       " '34643',\n",
       " '165640',\n",
       " '127443',\n",
       " '50416',\n",
       " '71082',\n",
       " '205874',\n",
       " '147019',\n",
       " '140824',\n",
       " '181624',\n",
       " '146244',\n",
       " '104625',\n",
       " '42324',\n",
       " '71080',\n",
       " '58937',\n",
       " '39532',\n",
       " '66622',\n",
       " '71086',\n",
       " '165645',\n",
       " '165641',\n",
       " '50414',\n",
       " '127538',\n",
       " '179212',\n",
       " '167750',\n",
       " '14114',\n",
       " '69598',\n",
       " '139000',\n",
       " '167702',\n",
       " '165785',\n",
       " '71087',\n",
       " '50413',\n",
       " '31884',\n",
       " '39533',\n",
       " '144351',\n",
       " '71171',\n",
       " '89099',\n",
       " '166931',\n",
       " '205610',\n",
       " '58005',\n",
       " '63095',\n",
       " '55020',\n",
       " '135849',\n",
       " '205878',\n",
       " '77751',\n",
       " '104817',\n",
       " '168037',\n",
       " '103357',\n",
       " '187863',\n",
       " '46668',\n",
       " '71529',\n",
       " '137815',\n",
       " '146249',\n",
       " '128607',\n",
       " '46669',\n",
       " '167701',\n",
       " '199929',\n",
       " '518']"
      ]
     },
     "execution_count": 77,
     "metadata": {},
     "output_type": "execute_result"
    }
   ],
   "source": [
    "drillingLabels"
   ]
  },
  {
   "cell_type": "markdown",
   "metadata": {},
   "source": [
    "# Prepare the children_playing,i.e. negative examples"
   ]
  },
  {
   "cell_type": "code",
   "execution_count": 78,
   "metadata": {},
   "outputs": [],
   "source": [
    "childrenFeatures = {}\n",
    "childrenLabels = []"
   ]
  },
  {
   "cell_type": "code",
   "execution_count": 84,
   "metadata": {},
   "outputs": [],
   "source": [
    "index = 0\n",
    "for path in glob.glob('/media/anirudh/New Volume/Anirudh/SNU BLACKBOARD/OUR stuff/children_' + \"/*.png\"):\n",
    "    \n",
    "    imgName = (path.split('/')[-1].replace(\".png\",\"\"))\n",
    "    \n",
    "    #Load the image from the file\n",
    "    image = cv2.imread(path)\n",
    "    \n",
    "    #Convert the image to Gray\n",
    "    image = cv2.cvtColor(image, cv2.COLOR_BGR2GRAY)\n",
    "    \n",
    "    #Pad the image with pixels to prevent overlapping at edges\n",
    "    image = cv2.copyMakeBorder(image,15,15,15,15, cv2.BORDER_CONSTANT, value = 255)\n",
    "    \n",
    "    #Invert the image and threshold it\n",
    "    thresh = cv2.bitwise_not(image)\n",
    "    \n",
    "    #Initialize the outline image, find the outermost contours of the waveform and plot it\n",
    "    outline = np.zeros(image.shape, np.uint8)\n",
    "    \n",
    "    _,cnts,hierarchy = cv2.findContours(thresh.copy(),cv2.RETR_EXTERNAL, cv2.CHAIN_APPROX_SIMPLE)\n",
    "    cnts = sorted(cnts, key= cv2.contourArea, reverse= True)[0]\n",
    "    cv2.drawContours(outline, [cnts],-1,255,-1)\n",
    "    \n",
    "    moments = desc.describe(thresh)\n",
    "    childrenFeatures[imgName] = moments\n",
    "    childrenLabels.insert(index,imgName)\n",
    "    index += 1"
   ]
  },
  {
   "cell_type": "code",
   "execution_count": 85,
   "metadata": {},
   "outputs": [
    {
     "data": {
      "text/plain": [
       "110"
      ]
     },
     "execution_count": 85,
     "metadata": {},
     "output_type": "execute_result"
    }
   ],
   "source": [
    "len(childrenFeatures)"
   ]
  },
  {
   "cell_type": "code",
   "execution_count": 86,
   "metadata": {},
   "outputs": [
    {
     "data": {
      "text/plain": [
       "110"
      ]
     },
     "execution_count": 86,
     "metadata": {},
     "output_type": "execute_result"
    }
   ],
   "source": [
    "len(childrenLabels)"
   ]
  },
  {
   "cell_type": "markdown",
   "metadata": {},
   "source": [
    "# Prepare the street_music,i.e. negative examples"
   ]
  },
  {
   "cell_type": "code",
   "execution_count": 87,
   "metadata": {},
   "outputs": [],
   "source": [
    "streetFeatures = {}\n",
    "streetLabels = []"
   ]
  },
  {
   "cell_type": "code",
   "execution_count": 88,
   "metadata": {},
   "outputs": [],
   "source": [
    "index = 0\n",
    "for path in glob.glob('/media/anirudh/New Volume/Anirudh/SNU BLACKBOARD/OUR stuff/street_music' + \"/*.png\"):\n",
    "    \n",
    "    imgName = (path.split('/')[-1].replace(\".png\",\"\"))\n",
    "    \n",
    "    #Load the image from the file\n",
    "    image = cv2.imread(path)\n",
    "    \n",
    "    #Convert the image to Gray\n",
    "    image = cv2.cvtColor(image, cv2.COLOR_BGR2GRAY)\n",
    "    \n",
    "    #Pad the image with pixels to prevent overlapping at edges\n",
    "    image = cv2.copyMakeBorder(image,15,15,15,15, cv2.BORDER_CONSTANT, value = 255)\n",
    "    \n",
    "    #Invert the image and threshold it\n",
    "    thresh = cv2.bitwise_not(image)\n",
    "    \n",
    "    #Initialize the outline image, find the outermost contours of the waveform and plot it\n",
    "    outline = np.zeros(image.shape, np.uint8)\n",
    "    \n",
    "    _,cnts,hierarchy = cv2.findContours(thresh.copy(),cv2.RETR_EXTERNAL, cv2.CHAIN_APPROX_SIMPLE)\n",
    "    cnts = sorted(cnts, key= cv2.contourArea, reverse= True)[0]\n",
    "    cv2.drawContours(outline, [cnts],-1,255,-1)\n",
    "    \n",
    "    moments = desc.describe(thresh)\n",
    "    streetFeatures[imgName] = moments\n",
    "    streetLabels.insert(index,imgName)\n",
    "    index += 1"
   ]
  },
  {
   "cell_type": "code",
   "execution_count": 89,
   "metadata": {},
   "outputs": [
    {
     "data": {
      "text/plain": [
       "['14385',\n",
       " '173891',\n",
       " '42955',\n",
       " '101848',\n",
       " '108041',\n",
       " '108357',\n",
       " '109263',\n",
       " '113601',\n",
       " '115239',\n",
       " '115240',\n",
       " '115241',\n",
       " '115242',\n",
       " '115243',\n",
       " '115415',\n",
       " '115418',\n",
       " '117889',\n",
       " '122738',\n",
       " '124489',\n",
       " '128152',\n",
       " '132108',\n",
       " '136558',\n",
       " '137156',\n",
       " '14386',\n",
       " '14387',\n",
       " '14527',\n",
       " '147491',\n",
       " '149254',\n",
       " '149929',\n",
       " '155044',\n",
       " '155127',\n",
       " '155227',\n",
       " '155242',\n",
       " '155243',\n",
       " '157940',\n",
       " '161702',\n",
       " '164344',\n",
       " '168713',\n",
       " '168906',\n",
       " '171184',\n",
       " '171478',\n",
       " '172519',\n",
       " '180057',\n",
       " '182103',\n",
       " '185374',\n",
       " '186336',\n",
       " '186339',\n",
       " '189825',\n",
       " '196384',\n",
       " '203424',\n",
       " '203654',\n",
       " '21683',\n",
       " '21684',\n",
       " '26270',\n",
       " '31973',\n",
       " '34866',\n",
       " '36263',\n",
       " '36264',\n",
       " '41364',\n",
       " '42953',\n",
       " '42954',\n",
       " '55728',\n",
       " '66000',\n",
       " '66324',\n",
       " '66599',\n",
       " '71866',\n",
       " '73277',\n",
       " '74226',\n",
       " '74458',\n",
       " '79377',\n",
       " '89442',\n",
       " '89443',\n",
       " '94182',\n",
       " '94631',\n",
       " '96475',\n",
       " '96920',\n",
       " '96921',\n",
       " '98202',\n",
       " '98263',\n",
       " '99157',\n",
       " '99710']"
      ]
     },
     "execution_count": 89,
     "metadata": {},
     "output_type": "execute_result"
    }
   ],
   "source": [
    "streetLabels"
   ]
  },
  {
   "cell_type": "code",
   "execution_count": 90,
   "metadata": {},
   "outputs": [
    {
     "data": {
      "text/plain": [
       "80"
      ]
     },
     "execution_count": 90,
     "metadata": {},
     "output_type": "execute_result"
    }
   ],
   "source": [
    "len(streetLabels)"
   ]
  },
  {
   "cell_type": "markdown",
   "metadata": {},
   "source": [
    "# Prepare the set of car_horn, i.e negative examples"
   ]
  },
  {
   "cell_type": "code",
   "execution_count": 91,
   "metadata": {},
   "outputs": [],
   "source": [
    "carFeatures = {}\n",
    "carLabels = []"
   ]
  },
  {
   "cell_type": "code",
   "execution_count": 92,
   "metadata": {},
   "outputs": [],
   "source": [
    "index = 0\n",
    "for path in glob.glob('/media/anirudh/New Volume/Anirudh/SNU BLACKBOARD/OUR stuff/Car_horn' + \"/*.png\"):\n",
    "    \n",
    "    imgName = (path.split('/')[-1].replace(\".png\",\"\"))\n",
    "    \n",
    "    #Load the image from the file\n",
    "    image = cv2.imread(path)\n",
    "    \n",
    "    #Convert the image to Gray\n",
    "    image = cv2.cvtColor(image, cv2.COLOR_BGR2GRAY)\n",
    "    \n",
    "    #Pad the image with pixels to prevent overlapping at edges\n",
    "    image = cv2.copyMakeBorder(image,15,15,15,15, cv2.BORDER_CONSTANT, value = 255)\n",
    "    \n",
    "    #Invert the image and threshold it\n",
    "    thresh = cv2.bitwise_not(image)\n",
    "    \n",
    "    #Initialize the outline image, find the outermost contours of the waveform and plot it\n",
    "    outline = np.zeros(image.shape, np.uint8)\n",
    "    \n",
    "    _,cnts,hierarchy = cv2.findContours(thresh.copy(),cv2.RETR_EXTERNAL, cv2.CHAIN_APPROX_SIMPLE)\n",
    "    cnts = sorted(cnts, key= cv2.contourArea, reverse= True)[0]\n",
    "    cv2.drawContours(outline, [cnts],-1,255,-1)\n",
    "    \n",
    "    moments = desc.describe(thresh)\n",
    "    carFeatures[imgName] = moments\n",
    "    carLabels.insert(index,imgName)\n",
    "    index += 1"
   ]
  },
  {
   "cell_type": "code",
   "execution_count": 93,
   "metadata": {},
   "outputs": [
    {
     "data": {
      "text/plain": [
       "101"
      ]
     },
     "execution_count": 93,
     "metadata": {},
     "output_type": "execute_result"
    }
   ],
   "source": [
    "len(carFeatures)"
   ]
  },
  {
   "cell_type": "code",
   "execution_count": 94,
   "metadata": {},
   "outputs": [
    {
     "data": {
      "text/plain": [
       "['162541',\n",
       " '175849',\n",
       " '179866',\n",
       " '42101',\n",
       " '107090',\n",
       " '117536',\n",
       " '118070',\n",
       " '118496',\n",
       " '125520',\n",
       " '138465',\n",
       " '138468',\n",
       " '143115',\n",
       " '14524',\n",
       " '145577',\n",
       " '151359',\n",
       " '153057',\n",
       " '155129',\n",
       " '155130',\n",
       " '155234',\n",
       " '156091',\n",
       " '156194',\n",
       " '161010',\n",
       " '162540',\n",
       " '162702',\n",
       " '162703',\n",
       " '162728',\n",
       " '164625',\n",
       " '164626',\n",
       " '164627',\n",
       " '170243',\n",
       " '17074',\n",
       " '17124',\n",
       " '17307',\n",
       " '174840',\n",
       " '174841',\n",
       " '175842',\n",
       " '175843',\n",
       " '175844',\n",
       " '175845',\n",
       " '175846',\n",
       " '175847',\n",
       " '175848',\n",
       " '175850',\n",
       " '175851',\n",
       " '175852',\n",
       " '175853',\n",
       " '175854',\n",
       " '175855',\n",
       " '175856',\n",
       " '176003',\n",
       " '176631',\n",
       " '176634',\n",
       " '176638',\n",
       " '178115',\n",
       " '179858',\n",
       " '179860',\n",
       " '179861',\n",
       " '179862',\n",
       " '179863',\n",
       " '179864',\n",
       " '179865',\n",
       " '179867',\n",
       " '179868',\n",
       " '180156',\n",
       " '182474',\n",
       " '184355',\n",
       " '187356',\n",
       " '18933',\n",
       " '19026',\n",
       " '24074',\n",
       " '24076',\n",
       " '26176',\n",
       " '26177',\n",
       " '26185',\n",
       " '26186',\n",
       " '27068',\n",
       " '28808',\n",
       " '2937',\n",
       " '29932',\n",
       " '32417',\n",
       " '43802',\n",
       " '43803',\n",
       " '44278',\n",
       " '46391',\n",
       " '49974',\n",
       " '52102',\n",
       " '54086',\n",
       " '54187',\n",
       " '57607',\n",
       " '58202',\n",
       " '65472',\n",
       " '66115',\n",
       " '68657',\n",
       " '73168',\n",
       " '82317',\n",
       " '83465',\n",
       " '83488',\n",
       " '87275',\n",
       " '89679',\n",
       " '94401',\n",
       " '99812']"
      ]
     },
     "execution_count": 94,
     "metadata": {},
     "output_type": "execute_result"
    }
   ],
   "source": [
    "carLabels"
   ]
  },
  {
   "cell_type": "markdown",
   "metadata": {},
   "source": [
    "# Prepare the set of siren, ie. negative examples"
   ]
  },
  {
   "cell_type": "code",
   "execution_count": 95,
   "metadata": {},
   "outputs": [],
   "source": [
    "sirenFeatures = {}\n",
    "sirenLabels = []"
   ]
  },
  {
   "cell_type": "code",
   "execution_count": 96,
   "metadata": {},
   "outputs": [],
   "source": [
    "index = 0\n",
    "for path in glob.glob('/media/anirudh/New Volume/Anirudh/SNU BLACKBOARD/OUR stuff/siren_pics' + \"/*.png\"):\n",
    "    \n",
    "    imgName = (path.split('/')[-1].replace(\".png\",\"\"))\n",
    "    \n",
    "    #Load the image from the file\n",
    "    image = cv2.imread(path)\n",
    "    \n",
    "    #Convert the image to Gray\n",
    "    image = cv2.cvtColor(image, cv2.COLOR_BGR2GRAY)\n",
    "    \n",
    "    #Pad the image with pixels to prevent overlapping at edges\n",
    "    image = cv2.copyMakeBorder(image,15,15,15,15, cv2.BORDER_CONSTANT, value = 255)\n",
    "    \n",
    "    #Invert the image and threshold it\n",
    "    thresh = cv2.bitwise_not(image)\n",
    "    \n",
    "    #Initialize the outline image, find the outermost contours of the waveform and plot it\n",
    "    outline = np.zeros(image.shape, np.uint8)\n",
    "    \n",
    "    _,cnts,hierarchy = cv2.findContours(thresh.copy(),cv2.RETR_EXTERNAL, cv2.CHAIN_APPROX_SIMPLE)\n",
    "    cnts = sorted(cnts, key= cv2.contourArea, reverse= True)[0]\n",
    "    cv2.drawContours(outline, [cnts],-1,255,-1)\n",
    "    \n",
    "    moments = desc.describe(thresh)\n",
    "    sirenFeatures[imgName] = moments\n",
    "    sirenLabels.insert(index,imgName)\n",
    "    index += 1"
   ]
  },
  {
   "cell_type": "code",
   "execution_count": 97,
   "metadata": {},
   "outputs": [
    {
     "data": {
      "text/plain": [
       "58"
      ]
     },
     "execution_count": 97,
     "metadata": {},
     "output_type": "execute_result"
    }
   ],
   "source": [
    "len(sirenFeatures)"
   ]
  },
  {
   "cell_type": "code",
   "execution_count": 98,
   "metadata": {},
   "outputs": [
    {
     "data": {
      "text/plain": [
       "['159743',\n",
       " '102853',\n",
       " '102871',\n",
       " '105289',\n",
       " '107357',\n",
       " '111671',\n",
       " '117181',\n",
       " '118279',\n",
       " '121528',\n",
       " '123688',\n",
       " '133473',\n",
       " '135160',\n",
       " '148632',\n",
       " '157648',\n",
       " '157866',\n",
       " '157867',\n",
       " '157868',\n",
       " '158608',\n",
       " '159738',\n",
       " '159742',\n",
       " '159744',\n",
       " '159745',\n",
       " '159747',\n",
       " '159748',\n",
       " '159750',\n",
       " '159751',\n",
       " '159752',\n",
       " '159753',\n",
       " '159754',\n",
       " '159755',\n",
       " '164053',\n",
       " '164782',\n",
       " '165166',\n",
       " '16772',\n",
       " '184623',\n",
       " '188004',\n",
       " '203913',\n",
       " '208652',\n",
       " '22601',\n",
       " '24347',\n",
       " '26173',\n",
       " '34952',\n",
       " '42117',\n",
       " '43805',\n",
       " '43806',\n",
       " '54898',\n",
       " '57323',\n",
       " '62878',\n",
       " '66601',\n",
       " '71177',\n",
       " '74726',\n",
       " '88121',\n",
       " '90014',\n",
       " '90846',\n",
       " '94636',\n",
       " '96657',\n",
       " '98525',\n",
       " '98536']"
      ]
     },
     "execution_count": 98,
     "metadata": {},
     "output_type": "execute_result"
    }
   ],
   "source": [
    "sirenLabels"
   ]
  },
  {
   "cell_type": "markdown",
   "metadata": {},
   "source": [
    "# Prepare the set of air_conditioner, i.e negative examples"
   ]
  },
  {
   "cell_type": "code",
   "execution_count": 99,
   "metadata": {},
   "outputs": [],
   "source": [
    "airFeatures = {}\n",
    "airLabels = []"
   ]
  },
  {
   "cell_type": "code",
   "execution_count": 100,
   "metadata": {},
   "outputs": [],
   "source": [
    "index = 0\n",
    "for path in glob.glob('/media/anirudh/New Volume/Anirudh/SNU BLACKBOARD/OUR stuff/air_pics' + \"/*.png\"):\n",
    "    \n",
    "    imgName = (path.split('/')[-1].replace(\".png\",\"\"))\n",
    "    \n",
    "    #Load the image from the file\n",
    "    image = cv2.imread(path)\n",
    "    \n",
    "    #Convert the image to Gray\n",
    "    image = cv2.cvtColor(image, cv2.COLOR_BGR2GRAY)\n",
    "    \n",
    "    #Pad the image with pixels to prevent overlapping at edges\n",
    "    image = cv2.copyMakeBorder(image,15,15,15,15, cv2.BORDER_CONSTANT, value = 255)\n",
    "    \n",
    "    #Invert the image and threshold it\n",
    "    thresh = cv2.bitwise_not(image)\n",
    "    \n",
    "    #Initialize the outline image, find the outermost contours of the waveform and plot it\n",
    "    outline = np.zeros(image.shape, np.uint8)\n",
    "    \n",
    "    _,cnts,hierarchy = cv2.findContours(thresh.copy(),cv2.RETR_EXTERNAL, cv2.CHAIN_APPROX_SIMPLE)\n",
    "    cnts = sorted(cnts, key= cv2.contourArea, reverse= True)[0]\n",
    "    cv2.drawContours(outline, [cnts],-1,255,-1)\n",
    "    \n",
    "    moments = desc.describe(thresh)\n",
    "    airFeatures[imgName] = moments\n",
    "    airLabels.insert(index,imgName)\n",
    "    index += 1"
   ]
  },
  {
   "cell_type": "code",
   "execution_count": 101,
   "metadata": {},
   "outputs": [
    {
     "data": {
      "text/plain": [
       "['101729',\n",
       " '121285',\n",
       " '121286',\n",
       " '127872',\n",
       " '127873',\n",
       " '134717',\n",
       " '146709',\n",
       " '146714',\n",
       " '146845',\n",
       " '147926',\n",
       " '151977',\n",
       " '153261',\n",
       " '162103',\n",
       " '165454',\n",
       " '166942',\n",
       " '167464',\n",
       " '170245',\n",
       " '178686',\n",
       " '185709',\n",
       " '189023',\n",
       " '202516',\n",
       " '202517',\n",
       " '204240',\n",
       " '30204',\n",
       " '35382',\n",
       " '47160',\n",
       " '50901',\n",
       " '56385',\n",
       " '57320',\n",
       " '60846',\n",
       " '62461',\n",
       " '63724',\n",
       " '73524',\n",
       " '74507',\n",
       " '80589',\n",
       " '83502']"
      ]
     },
     "execution_count": 101,
     "metadata": {},
     "output_type": "execute_result"
    }
   ],
   "source": [
    "airLabels"
   ]
  },
  {
   "cell_type": "code",
   "execution_count": 102,
   "metadata": {},
   "outputs": [
    {
     "data": {
      "text/plain": [
       "36"
      ]
     },
     "execution_count": 102,
     "metadata": {},
     "output_type": "execute_result"
    }
   ],
   "source": [
    "len(airFeatures)"
   ]
  },
  {
   "cell_type": "markdown",
   "metadata": {},
   "source": [
    "# Prepare the set of dog_bark, i.e. negative examples"
   ]
  },
  {
   "cell_type": "code",
   "execution_count": 103,
   "metadata": {},
   "outputs": [],
   "source": [
    "dogFeatures = {}\n",
    "dogLabels = []"
   ]
  },
  {
   "cell_type": "code",
   "execution_count": 104,
   "metadata": {},
   "outputs": [],
   "source": [
    "index = 0\n",
    "for path in glob.glob('/media/anirudh/New Volume/Anirudh/SNU BLACKBOARD/OUR stuff/dog_bark' + \"/*.png\"):\n",
    "    \n",
    "    imgName = (path.split('/')[-1].replace(\".png\",\"\"))\n",
    "    \n",
    "    #Load the image from the file\n",
    "    image = cv2.imread(path)\n",
    "    \n",
    "    #Convert the image to Gray\n",
    "    image = cv2.cvtColor(image, cv2.COLOR_BGR2GRAY)\n",
    "    \n",
    "    #Pad the image with pixels to prevent overlapping at edges\n",
    "    image = cv2.copyMakeBorder(image,15,15,15,15, cv2.BORDER_CONSTANT, value = 255)\n",
    "    \n",
    "    #Invert the image and threshold it\n",
    "    thresh = cv2.bitwise_not(image)\n",
    "    \n",
    "    #Initialize the outline image, find the outermost contours of the waveform and plot it\n",
    "    outline = np.zeros(image.shape, np.uint8)\n",
    "    \n",
    "    _,cnts,hierarchy = cv2.findContours(thresh.copy(),cv2.RETR_EXTERNAL, cv2.CHAIN_APPROX_SIMPLE)\n",
    "    cnts = sorted(cnts, key= cv2.contourArea, reverse= True)[0]\n",
    "    cv2.drawContours(outline, [cnts],-1,255,-1)\n",
    "    \n",
    "    moments = desc.describe(thresh)\n",
    "    dogFeatures[imgName] = moments\n",
    "    dogLabels.insert(index,imgName)\n",
    "    index += 1"
   ]
  },
  {
   "cell_type": "code",
   "execution_count": 105,
   "metadata": {},
   "outputs": [
    {
     "data": {
      "text/plain": [
       "['100032',\n",
       " '102102',\n",
       " '102103',\n",
       " '102104',\n",
       " '102105',\n",
       " '102106',\n",
       " '105088',\n",
       " '107190',\n",
       " '108187',\n",
       " '110134',\n",
       " '110371',\n",
       " '110389',\n",
       " '110688',\n",
       " '110918',\n",
       " '113785',\n",
       " '114280',\n",
       " '114587',\n",
       " '115411',\n",
       " '115535',\n",
       " '116484',\n",
       " '116485',\n",
       " '117048',\n",
       " '11722',\n",
       " '117271',\n",
       " '118072',\n",
       " '118101',\n",
       " '118961',\n",
       " '118962',\n",
       " '118963',\n",
       " '118964',\n",
       " '119420',\n",
       " '121888',\n",
       " '125523',\n",
       " '125554',\n",
       " '125574',\n",
       " '128030',\n",
       " '128470',\n",
       " '128891',\n",
       " '131199',\n",
       " '137803',\n",
       " '142641',\n",
       " '14358',\n",
       " '146343',\n",
       " '150341',\n",
       " '152588',\n",
       " '155294',\n",
       " '155299',\n",
       " '155309',\n",
       " '155310',\n",
       " '155311',\n",
       " '155312',\n",
       " '155313',\n",
       " '155314',\n",
       " '155315',\n",
       " '155317',\n",
       " '155320',\n",
       " '156418',\n",
       " '157649',\n",
       " '157950',\n",
       " '158607',\n",
       " '159176',\n",
       " '159726',\n",
       " '160092',\n",
       " '160093',\n",
       " '160094',\n",
       " '160575',\n",
       " '161922',\n",
       " '161923',\n",
       " '162148',\n",
       " '163459',\n",
       " '164311',\n",
       " '164312',\n",
       " '166268',\n",
       " '166421',\n",
       " '166489',\n",
       " '170015',\n",
       " '173994',\n",
       " '173995',\n",
       " '174026',\n",
       " '17486',\n",
       " '174873',\n",
       " '174994',\n",
       " '175915',\n",
       " '175917',\n",
       " '17810',\n",
       " '178118',\n",
       " '179386',\n",
       " '180052',\n",
       " '180256',\n",
       " '180257',\n",
       " '180977',\n",
       " '18453',\n",
       " '189846',\n",
       " '190680',\n",
       " '190996',\n",
       " '196127',\n",
       " '196561',\n",
       " '197073',\n",
       " '197074',\n",
       " '197075',\n",
       " '197080',\n",
       " '197243',\n",
       " '199261',\n",
       " '200161',\n",
       " '201207',\n",
       " '203355',\n",
       " '203356',\n",
       " '203440',\n",
       " '203516',\n",
       " '204773',\n",
       " '207124',\n",
       " '207369',\n",
       " '207962',\n",
       " '208030',\n",
       " '116483',\n",
       " '130030',\n",
       " '157322',\n",
       " '173993',\n",
       " '192236',\n",
       " '209672',\n",
       " '42371',\n",
       " '52633',\n",
       " '70168',\n",
       " '22973',\n",
       " '23131',\n",
       " '24965',\n",
       " '29936',\n",
       " '29937',\n",
       " '30344',\n",
       " '31840',\n",
       " '33641',\n",
       " '33849',\n",
       " '344',\n",
       " '34771',\n",
       " '34871',\n",
       " '34872',\n",
       " '34931',\n",
       " '36902',\n",
       " '38121',\n",
       " '41306',\n",
       " '41372',\n",
       " '41918',\n",
       " '44110',\n",
       " '47926',\n",
       " '4910',\n",
       " '4911',\n",
       " '4912',\n",
       " '4918',\n",
       " '49808',\n",
       " '49809',\n",
       " '50223',\n",
       " '50612',\n",
       " '50613',\n",
       " '50614',\n",
       " '50885',\n",
       " '51022',\n",
       " '51024',\n",
       " '51027',\n",
       " '52077',\n",
       " '52171',\n",
       " '52441',\n",
       " '52740',\n",
       " '54545',\n",
       " '54823',\n",
       " '54858',\n",
       " '55013',\n",
       " '57596',\n",
       " '58382',\n",
       " '59513',\n",
       " '59800',\n",
       " '61077',\n",
       " '62048',\n",
       " '63261',\n",
       " '63292',\n",
       " '65381',\n",
       " '67049',\n",
       " '68389',\n",
       " '69777',\n",
       " '69883',\n",
       " '70098',\n",
       " '71700',\n",
       " '72220',\n",
       " '72261',\n",
       " '72265',\n",
       " '72537',\n",
       " '72538',\n",
       " '72539',\n",
       " '74495',\n",
       " '74513',\n",
       " '74723',\n",
       " '74725',\n",
       " '76566',\n",
       " '76640',\n",
       " '77233',\n",
       " '77674',\n",
       " '82024',\n",
       " '82811',\n",
       " '84317',\n",
       " '85362',\n",
       " '86279',\n",
       " '89207',\n",
       " '89209',\n",
       " '89210',\n",
       " '89211',\n",
       " '89212',\n",
       " '89213',\n",
       " '9031',\n",
       " '9032',\n",
       " '95532',\n",
       " '95549',\n",
       " '97392',\n",
       " '97756',\n",
       " '99185']"
      ]
     },
     "execution_count": 105,
     "metadata": {},
     "output_type": "execute_result"
    }
   ],
   "source": [
    "dogLabels"
   ]
  },
  {
   "cell_type": "code",
   "execution_count": 106,
   "metadata": {},
   "outputs": [
    {
     "data": {
      "text/plain": [
       "213"
      ]
     },
     "execution_count": 106,
     "metadata": {},
     "output_type": "execute_result"
    }
   ],
   "source": [
    "len(dogFeatures)"
   ]
  },
  {
   "cell_type": "markdown",
   "metadata": {},
   "source": [
    "# Prepare the set of engine_idling,i.e. negative examples"
   ]
  },
  {
   "cell_type": "code",
   "execution_count": 107,
   "metadata": {},
   "outputs": [],
   "source": [
    "engFeatures = {}\n",
    "engLabels = []"
   ]
  },
  {
   "cell_type": "code",
   "execution_count": 108,
   "metadata": {},
   "outputs": [],
   "source": [
    "index = 0\n",
    "for path in glob.glob('/media/anirudh/New Volume/Anirudh/SNU BLACKBOARD/OUR stuff/engine' + \"/*.png\"):\n",
    "    \n",
    "    imgName = (path.split('/')[-1].replace(\".png\",\"\"))\n",
    "    \n",
    "    #Load the image from the file\n",
    "    image = cv2.imread(path)\n",
    "    \n",
    "    #Convert the image to Gray\n",
    "    image = cv2.cvtColor(image, cv2.COLOR_BGR2GRAY)\n",
    "    \n",
    "    #Pad the image with pixels to prevent overlapping at edges\n",
    "    image = cv2.copyMakeBorder(image,15,15,15,15, cv2.BORDER_CONSTANT, value = 255)\n",
    "    \n",
    "    #Invert the image and threshold it\n",
    "    thresh = cv2.bitwise_not(image)\n",
    "    \n",
    "    #Initialize the outline image, find the outermost contours of the waveform and plot it\n",
    "    outline = np.zeros(image.shape, np.uint8)\n",
    "    \n",
    "    _,cnts,hierarchy = cv2.findContours(thresh.copy(),cv2.RETR_EXTERNAL, cv2.CHAIN_APPROX_SIMPLE)\n",
    "    cnts = sorted(cnts, key= cv2.contourArea, reverse= True)[0]\n",
    "    cv2.drawContours(outline, [cnts],-1,255,-1)\n",
    "    \n",
    "    moments = desc.describe(thresh)\n",
    "    engFeatures[imgName] = moments\n",
    "    engLabels.insert(index,imgName)\n",
    "    index += 1"
   ]
  },
  {
   "cell_type": "code",
   "execution_count": 109,
   "metadata": {},
   "outputs": [
    {
     "data": {
      "text/plain": [
       "['156358',\n",
       " '23218',\n",
       " '102857',\n",
       " '102858',\n",
       " '103249',\n",
       " '103258',\n",
       " '103438',\n",
       " '106014',\n",
       " '106015',\n",
       " '107228',\n",
       " '119449',\n",
       " '119455',\n",
       " '123685',\n",
       " '12812',\n",
       " '128160',\n",
       " '144068',\n",
       " '146186',\n",
       " '151877',\n",
       " '152908',\n",
       " '154758',\n",
       " '15544',\n",
       " '156634',\n",
       " '166101',\n",
       " '16692',\n",
       " '17578',\n",
       " '176638',\n",
       " '17853',\n",
       " '186935',\n",
       " '186936',\n",
       " '186938',\n",
       " '186940',\n",
       " '187075',\n",
       " '19338',\n",
       " '195451',\n",
       " '200786',\n",
       " '201652',\n",
       " '201988',\n",
       " '209864',\n",
       " '209992',\n",
       " '21187',\n",
       " '23219',\n",
       " '26184',\n",
       " '39847',\n",
       " '39852',\n",
       " '39854',\n",
       " '39856',\n",
       " '39857',\n",
       " '39884',\n",
       " '46918',\n",
       " '49769',\n",
       " '50454',\n",
       " '50455',\n",
       " '50661',\n",
       " '50668',\n",
       " '50898',\n",
       " '62564',\n",
       " '62566',\n",
       " '62567',\n",
       " '78651',\n",
       " '81068',\n",
       " '89724',\n",
       " '89948',\n",
       " '91209',\n",
       " '91533',\n",
       " '94632',\n",
       " '94710']"
      ]
     },
     "execution_count": 109,
     "metadata": {},
     "output_type": "execute_result"
    }
   ],
   "source": [
    "engLabels"
   ]
  },
  {
   "cell_type": "code",
   "execution_count": 110,
   "metadata": {},
   "outputs": [
    {
     "data": {
      "text/plain": [
       "66"
      ]
     },
     "execution_count": 110,
     "metadata": {},
     "output_type": "execute_result"
    }
   ],
   "source": [
    "len(engFeatures)"
   ]
  },
  {
   "cell_type": "markdown",
   "metadata": {},
   "source": [
    "# Prepare the set of gun_shot images, i.e. negative examples"
   ]
  },
  {
   "cell_type": "code",
   "execution_count": 111,
   "metadata": {},
   "outputs": [],
   "source": [
    "gunLabels = []\n",
    "gunFeatures = {}"
   ]
  },
  {
   "cell_type": "code",
   "execution_count": 112,
   "metadata": {},
   "outputs": [],
   "source": [
    "index = 0\n",
    "for path in glob.glob('/media/anirudh/New Volume/Anirudh/SNU BLACKBOARD/OUR stuff/Gun_imgs' + \"/*.png\"):\n",
    "    \n",
    "    imgName = (path.split('/')[-1].replace(\".png\",\"\"))\n",
    "    \n",
    "    #Load the image from the file\n",
    "    image = cv2.imread(path)\n",
    "    \n",
    "    #Convert the image to Gray\n",
    "    image = cv2.cvtColor(image, cv2.COLOR_BGR2GRAY)\n",
    "    \n",
    "    #Pad the image with pixels to prevent overlapping at edges\n",
    "    image = cv2.copyMakeBorder(image,15,15,15,15, cv2.BORDER_CONSTANT, value = 255)\n",
    "    \n",
    "    #Invert the image and threshold it\n",
    "    thresh = cv2.bitwise_not(image)\n",
    "    \n",
    "    #Initialize the outline image, find the outermost contours of the waveform and plot it\n",
    "    outline = np.zeros(image.shape, np.uint8)\n",
    "    \n",
    "    _,cnts,hierarchy = cv2.findContours(thresh.copy(),cv2.RETR_EXTERNAL, cv2.CHAIN_APPROX_SIMPLE)\n",
    "    cnts = sorted(cnts, key= cv2.contourArea, reverse= True)[0]\n",
    "    cv2.drawContours(outline, [cnts],-1,255,-1)\n",
    "    \n",
    "    moments = desc.describe(thresh)\n",
    "    gunFeatures[imgName] = moments\n",
    "    gunLabels.insert(index,imgName)\n",
    "    index += 1"
   ]
  },
  {
   "cell_type": "code",
   "execution_count": 113,
   "metadata": {},
   "outputs": [
    {
     "data": {
      "text/plain": [
       "['157207',\n",
       " '162436',\n",
       " '205013',\n",
       " '102305',\n",
       " '106955',\n",
       " '110622',\n",
       " '111048',\n",
       " '122690',\n",
       " '131571',\n",
       " '133797',\n",
       " '136399',\n",
       " '145608',\n",
       " '145609',\n",
       " '145611',\n",
       " '145612',\n",
       " '145683',\n",
       " '147317',\n",
       " '148166',\n",
       " '149177',\n",
       " '151065',\n",
       " '151069',\n",
       " '151071',\n",
       " '158977',\n",
       " '158978',\n",
       " '158979',\n",
       " '159701',\n",
       " '159702',\n",
       " '159703',\n",
       " '159704',\n",
       " '159705',\n",
       " '159706',\n",
       " '159707',\n",
       " '159708',\n",
       " '159709',\n",
       " '159710',\n",
       " '161195',\n",
       " '162431',\n",
       " '162432',\n",
       " '162433',\n",
       " '162434',\n",
       " '162435',\n",
       " '163460',\n",
       " '164646',\n",
       " '164667',\n",
       " '169261',\n",
       " '174282',\n",
       " '174284',\n",
       " '174285',\n",
       " '174287',\n",
       " '174289',\n",
       " '174290',\n",
       " '174292',\n",
       " '174293',\n",
       " '174294',\n",
       " '180960',\n",
       " '191449',\n",
       " '196400',\n",
       " '197318',\n",
       " '197320',\n",
       " '200460',\n",
       " '25037',\n",
       " '25038',\n",
       " '25039',\n",
       " '34708',\n",
       " '35799',\n",
       " '35800',\n",
       " '36403',\n",
       " '37236',\n",
       " '46654',\n",
       " '46655',\n",
       " '46656',\n",
       " '50618',\n",
       " '64346',\n",
       " '7060',\n",
       " '7061',\n",
       " '7062',\n",
       " '7063',\n",
       " '7064',\n",
       " '7065',\n",
       " '7066',\n",
       " '7067',\n",
       " '7068',\n",
       " '76089',\n",
       " '76090',\n",
       " '76091',\n",
       " '76093',\n",
       " '76094',\n",
       " '77246',\n",
       " '77247',\n",
       " '78776',\n",
       " '84254',\n",
       " '86278',\n",
       " '87562',\n",
       " '93139']"
      ]
     },
     "execution_count": 113,
     "metadata": {},
     "output_type": "execute_result"
    }
   ],
   "source": [
    "gunLabels"
   ]
  },
  {
   "cell_type": "code",
   "execution_count": 114,
   "metadata": {},
   "outputs": [
    {
     "data": {
      "text/plain": [
       "94"
      ]
     },
     "execution_count": 114,
     "metadata": {},
     "output_type": "execute_result"
    }
   ],
   "source": [
    "len(gunFeatures)"
   ]
  },
  {
   "cell_type": "markdown",
   "metadata": {},
   "source": [
    "# Prepare the set of Jack_hammer, i.e positive examples"
   ]
  },
  {
   "cell_type": "code",
   "execution_count": 115,
   "metadata": {},
   "outputs": [],
   "source": [
    "jackLabels = []\n",
    "jackFeatures = {}"
   ]
  },
  {
   "cell_type": "code",
   "execution_count": 116,
   "metadata": {},
   "outputs": [],
   "source": [
    "index = 0\n",
    "for path in glob.glob('/media/anirudh/New Volume/Anirudh/SNU BLACKBOARD/OUR stuff/jack_pics' + \"/*.png\"):\n",
    "    \n",
    "    imgName = (path.split('/')[-1].replace(\".png\",\"\"))\n",
    "    \n",
    "    #Load the image from the file\n",
    "    image = cv2.imread(path)\n",
    "    \n",
    "    #Convert the image to Gray\n",
    "    image = cv2.cvtColor(image, cv2.COLOR_BGR2GRAY)\n",
    "    \n",
    "    #Pad the image with pixels to prevent overlapping at edges\n",
    "    image = cv2.copyMakeBorder(image,15,15,15,15, cv2.BORDER_CONSTANT, value = 255)\n",
    "    \n",
    "    #Invert the image and threshold it\n",
    "    thresh = cv2.bitwise_not(image)\n",
    "    \n",
    "    #Initialize the outline image, find the outermost contours of the waveform and plot it\n",
    "    outline = np.zeros(image.shape, np.uint8)\n",
    "    \n",
    "    _,cnts,hierarchy = cv2.findContours(thresh.copy(),cv2.RETR_EXTERNAL, cv2.CHAIN_APPROX_SIMPLE)\n",
    "    cnts = sorted(cnts, key= cv2.contourArea, reverse= True)[0]\n",
    "    cv2.drawContours(outline, [cnts],-1,255,-1)\n",
    "    \n",
    "    moments = desc.describe(thresh)\n",
    "    jackFeatures[imgName] = moments\n",
    "    jackLabels.insert(index,imgName)\n",
    "    index += 1"
   ]
  },
  {
   "cell_type": "code",
   "execution_count": 117,
   "metadata": {},
   "outputs": [
    {
     "data": {
      "text/plain": [
       "['103074',\n",
       " '104998',\n",
       " '105029',\n",
       " '110621',\n",
       " '131918',\n",
       " '156893',\n",
       " '165774',\n",
       " '165775',\n",
       " '169098',\n",
       " '171305',\n",
       " '174276',\n",
       " '178260',\n",
       " '178261',\n",
       " '187920',\n",
       " '24728',\n",
       " '30206',\n",
       " '31884',\n",
       " '33340',\n",
       " '42097',\n",
       " '62837',\n",
       " '73623',\n",
       " '77751',\n",
       " '90013',\n",
       " '97606',\n",
       " '98223',\n",
       " '98859']"
      ]
     },
     "execution_count": 117,
     "metadata": {},
     "output_type": "execute_result"
    }
   ],
   "source": [
    "jackLabels"
   ]
  },
  {
   "cell_type": "code",
   "execution_count": 118,
   "metadata": {},
   "outputs": [
    {
     "data": {
      "text/plain": [
       "26"
      ]
     },
     "execution_count": 118,
     "metadata": {},
     "output_type": "execute_result"
    }
   ],
   "source": [
    "len(jackFeatures)"
   ]
  },
  {
   "cell_type": "markdown",
   "metadata": {},
   "source": [
    "# Performing the classification"
   ]
  },
  {
   "cell_type": "markdown",
   "metadata": {},
   "source": [
    "We will create the positive examples dataset by combining th jackhammer and drilling examples. For negative examples, we will combine the remaining"
   ]
  },
  {
   "cell_type": "markdown",
   "metadata": {},
   "source": [
    "# Preparing the positive labels"
   ]
  },
  {
   "cell_type": "code",
   "execution_count": 119,
   "metadata": {},
   "outputs": [
    {
     "data": {
      "text/plain": [
       "83"
      ]
     },
     "execution_count": 119,
     "metadata": {},
     "output_type": "execute_result"
    }
   ],
   "source": [
    "len(drillingFeatures)"
   ]
  },
  {
   "cell_type": "code",
   "execution_count": 120,
   "metadata": {},
   "outputs": [
    {
     "data": {
      "text/plain": [
       "26"
      ]
     },
     "execution_count": 120,
     "metadata": {},
     "output_type": "execute_result"
    }
   ],
   "source": [
    "len(jackFeatures)"
   ]
  },
  {
   "cell_type": "code",
   "execution_count": 121,
   "metadata": {},
   "outputs": [],
   "source": [
    "indLabels = drillingLabels + jackLabels"
   ]
  },
  {
   "cell_type": "code",
   "execution_count": 122,
   "metadata": {
    "scrolled": false
   },
   "outputs": [
    {
     "data": {
      "text/plain": [
       "109"
      ]
     },
     "execution_count": 122,
     "metadata": {},
     "output_type": "execute_result"
    }
   ],
   "source": [
    "len(indLabels)"
   ]
  },
  {
   "cell_type": "code",
   "execution_count": 123,
   "metadata": {},
   "outputs": [],
   "source": [
    "indFeatures = dict(drillingFeatures)\n",
    "indFeatures.update(jackFeatures)"
   ]
  },
  {
   "cell_type": "code",
   "execution_count": 124,
   "metadata": {
    "scrolled": false
   },
   "outputs": [
    {
     "name": "stdout",
     "output_type": "stream",
     "text": [
      "31884 [0.31830989 0.08279908 0.13741699 0.14080028 0.03683506 0.05325534\n",
      " 0.01393844 0.03029611 0.05016818 0.0307799  0.04249703 0.02710281\n",
      " 0.01542471 0.02226638 0.01133584 0.01364291 0.03415199 0.02654263\n",
      " 0.02587029 0.01738597 0.00043515 0.01317003 0.03616123 0.04492616\n",
      " 0.03295216]\n",
      "77751 [0.31830989 0.07529392 0.00905958 0.12319381 0.05745369 0.02758056\n",
      " 0.10666925 0.1185158  0.12344359 0.07284003 0.04719239 0.0456691\n",
      " 0.05836523 0.0418209  0.07668773 0.06317371 0.06337722 0.0532189\n",
      " 0.06166409 0.04532448 0.08220689 0.00817923 0.00106913 0.00588948\n",
      " 0.02897855]\n"
     ]
    }
   ],
   "source": [
    "drillSet = set(drillingFeatures)\n",
    "jackSet = set(jackFeatures)\n",
    "\n",
    "for name in drillSet.intersection(jackSet):\n",
    "    print(name, jackFeatures[name])"
   ]
  },
  {
   "cell_type": "markdown",
   "metadata": {},
   "source": [
    "We will remove the duplicate labels"
   ]
  },
  {
   "cell_type": "code",
   "execution_count": 125,
   "metadata": {},
   "outputs": [],
   "source": [
    "del(jackLabels[jackLabels.index('31884')])"
   ]
  },
  {
   "cell_type": "code",
   "execution_count": 126,
   "metadata": {},
   "outputs": [],
   "source": [
    "del(drillingLabels[drillingLabels.index('31884')])"
   ]
  },
  {
   "cell_type": "code",
   "execution_count": 127,
   "metadata": {},
   "outputs": [
    {
     "data": {
      "text/plain": [
       "82"
      ]
     },
     "execution_count": 127,
     "metadata": {},
     "output_type": "execute_result"
    }
   ],
   "source": [
    "len(drillingLabels)"
   ]
  },
  {
   "cell_type": "code",
   "execution_count": 128,
   "metadata": {},
   "outputs": [
    {
     "data": {
      "text/plain": [
       "25"
      ]
     },
     "execution_count": 128,
     "metadata": {},
     "output_type": "execute_result"
    }
   ],
   "source": [
    "len(jackLabels)"
   ]
  },
  {
   "cell_type": "code",
   "execution_count": 129,
   "metadata": {},
   "outputs": [],
   "source": [
    "del(drillingFeatures['31884'])"
   ]
  },
  {
   "cell_type": "code",
   "execution_count": 130,
   "metadata": {},
   "outputs": [
    {
     "data": {
      "text/plain": [
       "82"
      ]
     },
     "execution_count": 130,
     "metadata": {},
     "output_type": "execute_result"
    }
   ],
   "source": [
    "len(drillingFeatures)"
   ]
  },
  {
   "cell_type": "code",
   "execution_count": 131,
   "metadata": {},
   "outputs": [],
   "source": [
    "del(jackFeatures['31884'])"
   ]
  },
  {
   "cell_type": "code",
   "execution_count": 132,
   "metadata": {},
   "outputs": [
    {
     "data": {
      "text/plain": [
       "25"
      ]
     },
     "execution_count": 132,
     "metadata": {},
     "output_type": "execute_result"
    }
   ],
   "source": [
    "len(jackFeatures)"
   ]
  },
  {
   "cell_type": "code",
   "execution_count": 133,
   "metadata": {},
   "outputs": [],
   "source": [
    "del(jackLabels[jackLabels.index('77751')])"
   ]
  },
  {
   "cell_type": "code",
   "execution_count": 134,
   "metadata": {},
   "outputs": [],
   "source": [
    "del(drillingLabels[drillingLabels.index('77751')])"
   ]
  },
  {
   "cell_type": "code",
   "execution_count": 135,
   "metadata": {},
   "outputs": [],
   "source": [
    "del(drillingFeatures['77751'])"
   ]
  },
  {
   "cell_type": "code",
   "execution_count": 136,
   "metadata": {},
   "outputs": [],
   "source": [
    "del(jackFeatures['77751'])"
   ]
  },
  {
   "cell_type": "code",
   "execution_count": 137,
   "metadata": {},
   "outputs": [
    {
     "data": {
      "text/plain": [
       "24"
      ]
     },
     "execution_count": 137,
     "metadata": {},
     "output_type": "execute_result"
    }
   ],
   "source": [
    "len(jackLabels)"
   ]
  },
  {
   "cell_type": "code",
   "execution_count": 138,
   "metadata": {},
   "outputs": [
    {
     "data": {
      "text/plain": [
       "81"
      ]
     },
     "execution_count": 138,
     "metadata": {},
     "output_type": "execute_result"
    }
   ],
   "source": [
    "len(drillingLabels)"
   ]
  },
  {
   "cell_type": "code",
   "execution_count": 139,
   "metadata": {},
   "outputs": [
    {
     "data": {
      "text/plain": [
       "24"
      ]
     },
     "execution_count": 139,
     "metadata": {},
     "output_type": "execute_result"
    }
   ],
   "source": [
    "len(jackFeatures)"
   ]
  },
  {
   "cell_type": "code",
   "execution_count": 140,
   "metadata": {},
   "outputs": [
    {
     "data": {
      "text/plain": [
       "81"
      ]
     },
     "execution_count": 140,
     "metadata": {},
     "output_type": "execute_result"
    }
   ],
   "source": [
    "len(drillingFeatures)"
   ]
  },
  {
   "cell_type": "code",
   "execution_count": 141,
   "metadata": {},
   "outputs": [],
   "source": [
    "indLabels = drillingLabels + jackLabels"
   ]
  },
  {
   "cell_type": "code",
   "execution_count": 142,
   "metadata": {},
   "outputs": [
    {
     "data": {
      "text/plain": [
       "105"
      ]
     },
     "execution_count": 142,
     "metadata": {},
     "output_type": "execute_result"
    }
   ],
   "source": [
    "len(indLabels)"
   ]
  },
  {
   "cell_type": "code",
   "execution_count": 143,
   "metadata": {},
   "outputs": [],
   "source": [
    "indFeatures = dict(drillingFeatures)\n",
    "indFeatures.update(jackFeatures)"
   ]
  },
  {
   "cell_type": "code",
   "execution_count": 355,
   "metadata": {},
   "outputs": [
    {
     "data": {
      "text/plain": [
       "105"
      ]
     },
     "execution_count": 355,
     "metadata": {},
     "output_type": "execute_result"
    }
   ],
   "source": [
    "len(indFeatures)"
   ]
  },
  {
   "cell_type": "markdown",
   "metadata": {},
   "source": [
    "Preparing the set of negative examples for the classification"
   ]
  },
  {
   "cell_type": "code",
   "execution_count": 324,
   "metadata": {},
   "outputs": [],
   "source": [
    "negIndLabels = childrenLabels + streetLabels + carLabels + sirenLabels + airLabels + dogLabels + engLabels + gunLabels"
   ]
  },
  {
   "cell_type": "code",
   "execution_count": 325,
   "metadata": {},
   "outputs": [
    {
     "data": {
      "text/plain": [
       "757"
      ]
     },
     "execution_count": 325,
     "metadata": {},
     "output_type": "execute_result"
    }
   ],
   "source": [
    "len(negIndLabels)"
   ]
  },
  {
   "cell_type": "markdown",
   "metadata": {},
   "source": [
    "# Creating the features data "
   ]
  },
  {
   "cell_type": "code",
   "execution_count": 356,
   "metadata": {},
   "outputs": [],
   "source": [
    "negIndFeatures = dict(childrenFeatures)\n",
    "negIndFeatures.update(streetFeatures)"
   ]
  },
  {
   "cell_type": "code",
   "execution_count": 357,
   "metadata": {},
   "outputs": [
    {
     "data": {
      "text/plain": [
       "190"
      ]
     },
     "execution_count": 357,
     "metadata": {},
     "output_type": "execute_result"
    }
   ],
   "source": [
    "len(negIndFeatures)"
   ]
  },
  {
   "cell_type": "code",
   "execution_count": 358,
   "metadata": {},
   "outputs": [
    {
     "data": {
      "text/plain": [
       "190"
      ]
     },
     "execution_count": 358,
     "metadata": {},
     "output_type": "execute_result"
    }
   ],
   "source": [
    "sum2 = len(childrenLabels ) + len(streetLabels)\n",
    "sum2"
   ]
  },
  {
   "cell_type": "code",
   "execution_count": 359,
   "metadata": {},
   "outputs": [],
   "source": [
    "negIndFeatures.update(carFeatures)"
   ]
  },
  {
   "cell_type": "code",
   "execution_count": 360,
   "metadata": {},
   "outputs": [
    {
     "data": {
      "text/plain": [
       "291"
      ]
     },
     "execution_count": 360,
     "metadata": {},
     "output_type": "execute_result"
    }
   ],
   "source": [
    "len(negIndFeatures)"
   ]
  },
  {
   "cell_type": "code",
   "execution_count": 361,
   "metadata": {},
   "outputs": [
    {
     "data": {
      "text/plain": [
       "291"
      ]
     },
     "execution_count": 361,
     "metadata": {},
     "output_type": "execute_result"
    }
   ],
   "source": [
    "sum3 = sum2 + len(carLabels)\n",
    "sum3"
   ]
  },
  {
   "cell_type": "code",
   "execution_count": 362,
   "metadata": {},
   "outputs": [],
   "source": [
    "negIndFeatures.update(sirenFeatures)"
   ]
  },
  {
   "cell_type": "code",
   "execution_count": 363,
   "metadata": {},
   "outputs": [
    {
     "data": {
      "text/plain": [
       "349"
      ]
     },
     "execution_count": 363,
     "metadata": {},
     "output_type": "execute_result"
    }
   ],
   "source": [
    "len(negIndFeatures)"
   ]
  },
  {
   "cell_type": "code",
   "execution_count": 364,
   "metadata": {},
   "outputs": [
    {
     "data": {
      "text/plain": [
       "349"
      ]
     },
     "execution_count": 364,
     "metadata": {},
     "output_type": "execute_result"
    }
   ],
   "source": [
    "sum4 = sum3 + len(sirenLabels)\n",
    "sum4"
   ]
  },
  {
   "cell_type": "code",
   "execution_count": 365,
   "metadata": {},
   "outputs": [],
   "source": [
    "negIndFeatures.update(airFeatures)"
   ]
  },
  {
   "cell_type": "code",
   "execution_count": 366,
   "metadata": {},
   "outputs": [
    {
     "data": {
      "text/plain": [
       "385"
      ]
     },
     "execution_count": 366,
     "metadata": {},
     "output_type": "execute_result"
    }
   ],
   "source": [
    "len(negIndFeatures)"
   ]
  },
  {
   "cell_type": "code",
   "execution_count": 337,
   "metadata": {},
   "outputs": [
    {
     "data": {
      "text/plain": [
       "385"
      ]
     },
     "execution_count": 337,
     "metadata": {},
     "output_type": "execute_result"
    }
   ],
   "source": [
    "sum5 = sum4 + len(airLabels)\n",
    "sum5"
   ]
  },
  {
   "cell_type": "code",
   "execution_count": 367,
   "metadata": {},
   "outputs": [],
   "source": [
    "negIndFeatures.update(dogFeatures)"
   ]
  },
  {
   "cell_type": "code",
   "execution_count": 368,
   "metadata": {},
   "outputs": [
    {
     "data": {
      "text/plain": [
       "598"
      ]
     },
     "execution_count": 368,
     "metadata": {},
     "output_type": "execute_result"
    }
   ],
   "source": [
    "len(negIndFeatures)"
   ]
  },
  {
   "cell_type": "code",
   "execution_count": 369,
   "metadata": {},
   "outputs": [
    {
     "data": {
      "text/plain": [
       "598"
      ]
     },
     "execution_count": 369,
     "metadata": {},
     "output_type": "execute_result"
    }
   ],
   "source": [
    "sum6 = sum5 + len(dogLabels)\n",
    "sum6"
   ]
  },
  {
   "cell_type": "code",
   "execution_count": 370,
   "metadata": {},
   "outputs": [],
   "source": [
    "negIndFeatures.update(engFeatures)"
   ]
  },
  {
   "cell_type": "code",
   "execution_count": 371,
   "metadata": {},
   "outputs": [
    {
     "data": {
      "text/plain": [
       "663"
      ]
     },
     "execution_count": 371,
     "metadata": {},
     "output_type": "execute_result"
    }
   ],
   "source": [
    "len(negIndFeatures)"
   ]
  },
  {
   "cell_type": "code",
   "execution_count": 290,
   "metadata": {},
   "outputs": [
    {
     "data": {
      "text/plain": [
       "663"
      ]
     },
     "execution_count": 290,
     "metadata": {},
     "output_type": "execute_result"
    }
   ],
   "source": [
    "sum7 = sum6 + len(engLabels)\n",
    "sum7"
   ]
  },
  {
   "cell_type": "code",
   "execution_count": 373,
   "metadata": {},
   "outputs": [
    {
     "data": {
      "text/plain": [
       "757"
      ]
     },
     "execution_count": 373,
     "metadata": {},
     "output_type": "execute_result"
    }
   ],
   "source": [
    "len(negIndLabels)"
   ]
  },
  {
   "cell_type": "code",
   "execution_count": 374,
   "metadata": {},
   "outputs": [
    {
     "data": {
      "text/plain": [
       "65"
      ]
     },
     "execution_count": 374,
     "metadata": {},
     "output_type": "execute_result"
    }
   ],
   "source": [
    "len(engLabels)"
   ]
  },
  {
   "cell_type": "code",
   "execution_count": 380,
   "metadata": {},
   "outputs": [
    {
     "data": {
      "text/plain": [
       "663"
      ]
     },
     "execution_count": 380,
     "metadata": {},
     "output_type": "execute_result"
    }
   ],
   "source": [
    "len(negIndFeatures)"
   ]
  },
  {
   "cell_type": "code",
   "execution_count": 381,
   "metadata": {},
   "outputs": [
    {
     "data": {
      "text/plain": [
       "65"
      ]
     },
     "execution_count": 381,
     "metadata": {},
     "output_type": "execute_result"
    }
   ],
   "source": [
    "len(engFeatures)"
   ]
  },
  {
   "cell_type": "code",
   "execution_count": 382,
   "metadata": {},
   "outputs": [],
   "source": [
    "negIndFeatures.update(engFeatures)"
   ]
  },
  {
   "cell_type": "code",
   "execution_count": 383,
   "metadata": {},
   "outputs": [
    {
     "data": {
      "text/plain": [
       "663"
      ]
     },
     "execution_count": 383,
     "metadata": {},
     "output_type": "execute_result"
    }
   ],
   "source": [
    "sum7 = sum6 + len(engLabels)\n",
    "sum7"
   ]
  },
  {
   "cell_type": "code",
   "execution_count": 384,
   "metadata": {},
   "outputs": [
    {
     "data": {
      "text/plain": [
       "663"
      ]
     },
     "execution_count": 384,
     "metadata": {},
     "output_type": "execute_result"
    }
   ],
   "source": [
    "len(negIndFeatures)"
   ]
  },
  {
   "cell_type": "code",
   "execution_count": 386,
   "metadata": {},
   "outputs": [
    {
     "data": {
      "text/plain": [
       "757"
      ]
     },
     "execution_count": 386,
     "metadata": {},
     "output_type": "execute_result"
    }
   ],
   "source": [
    "sum8 = sum7 + len(gunLabels)\n",
    "sum8"
   ]
  },
  {
   "cell_type": "code",
   "execution_count": 385,
   "metadata": {},
   "outputs": [
    {
     "data": {
      "text/plain": [
       "757"
      ]
     },
     "execution_count": 385,
     "metadata": {},
     "output_type": "execute_result"
    }
   ],
   "source": [
    "len(negIndFeatures) + len(gunFeatures)"
   ]
  },
  {
   "cell_type": "code",
   "execution_count": 387,
   "metadata": {},
   "outputs": [],
   "source": [
    "negIndFeatures.update(gunFeatures)"
   ]
  },
  {
   "cell_type": "code",
   "execution_count": 388,
   "metadata": {},
   "outputs": [
    {
     "data": {
      "text/plain": [
       "757"
      ]
     },
     "execution_count": 388,
     "metadata": {},
     "output_type": "execute_result"
    }
   ],
   "source": [
    "len(negIndFeatures)"
   ]
  },
  {
   "cell_type": "markdown",
   "metadata": {},
   "source": [
    "# Combining the datasets for performing classification"
   ]
  },
  {
   "cell_type": "code",
   "execution_count": 393,
   "metadata": {},
   "outputs": [],
   "source": [
    "labels = indLabels + negIndLabels"
   ]
  },
  {
   "cell_type": "code",
   "execution_count": 394,
   "metadata": {},
   "outputs": [
    {
     "data": {
      "text/plain": [
       "862"
      ]
     },
     "execution_count": 394,
     "metadata": {},
     "output_type": "execute_result"
    }
   ],
   "source": [
    "len(labels)"
   ]
  },
  {
   "cell_type": "code",
   "execution_count": 265,
   "metadata": {},
   "outputs": [
    {
     "data": {
      "text/plain": [
       "862"
      ]
     },
     "execution_count": 265,
     "metadata": {},
     "output_type": "execute_result"
    }
   ],
   "source": [
    "len(negIndLabels) + len(indLabels)"
   ]
  },
  {
   "cell_type": "code",
   "execution_count": 395,
   "metadata": {},
   "outputs": [
    {
     "data": {
      "text/plain": [
       "list"
      ]
     },
     "execution_count": 395,
     "metadata": {},
     "output_type": "execute_result"
    }
   ],
   "source": [
    "type(indLabels)"
   ]
  },
  {
   "cell_type": "code",
   "execution_count": 396,
   "metadata": {},
   "outputs": [],
   "source": [
    "X = np.array(labels,dtype=np.int32)"
   ]
  },
  {
   "cell_type": "code",
   "execution_count": 397,
   "metadata": {},
   "outputs": [
    {
     "data": {
      "text/plain": [
       "numpy.ndarray"
      ]
     },
     "execution_count": 397,
     "metadata": {},
     "output_type": "execute_result"
    }
   ],
   "source": [
    "type(X)"
   ]
  },
  {
   "cell_type": "code",
   "execution_count": 399,
   "metadata": {},
   "outputs": [
    {
     "data": {
      "text/plain": [
       "862"
      ]
     },
     "execution_count": 399,
     "metadata": {},
     "output_type": "execute_result"
    }
   ],
   "source": [
    "len(negIndFeatures) + len(indFeatures)"
   ]
  },
  {
   "cell_type": "code",
   "execution_count": 400,
   "metadata": {},
   "outputs": [],
   "source": [
    "features = dict(indFeatures)\n",
    "features.update(negIndFeatures)"
   ]
  },
  {
   "cell_type": "code",
   "execution_count": 401,
   "metadata": {},
   "outputs": [
    {
     "data": {
      "text/plain": [
       "862"
      ]
     },
     "execution_count": 401,
     "metadata": {},
     "output_type": "execute_result"
    }
   ],
   "source": [
    "len(features)"
   ]
  },
  {
   "cell_type": "code",
   "execution_count": 402,
   "metadata": {},
   "outputs": [],
   "source": [
    "featArr = np.zeros((862,25))"
   ]
  },
  {
   "cell_type": "code",
   "execution_count": 403,
   "metadata": {
    "scrolled": true
   },
   "outputs": [],
   "source": [
    "featInd = np.zeros(862)"
   ]
  },
  {
   "cell_type": "code",
   "execution_count": 404,
   "metadata": {
    "scrolled": false
   },
   "outputs": [],
   "source": [
    "count = 0\n",
    "for key in features:\n",
    "    featInd[count] = int(key)\n",
    "    count += 1"
   ]
  },
  {
   "cell_type": "code",
   "execution_count": 405,
   "metadata": {},
   "outputs": [
    {
     "data": {
      "text/plain": [
       "(862,)"
      ]
     },
     "execution_count": 405,
     "metadata": {},
     "output_type": "execute_result"
    }
   ],
   "source": [
    "featInd.shape"
   ]
  },
  {
   "cell_type": "code",
   "execution_count": 406,
   "metadata": {
    "scrolled": true
   },
   "outputs": [
    {
     "name": "stdout",
     "output_type": "stream",
     "text": [
      "[3.18309886e-01 1.14432770e-01 1.98485072e-01 2.30131349e-01\n",
      " 1.21049752e-01 1.26119291e-01 7.12583251e-02 1.32213839e-01\n",
      " 8.29955577e-02 9.69814513e-02 7.53338571e-02 6.63459445e-02\n",
      " 4.88362967e-02 4.03217097e-02 6.98284951e-02 6.87773818e-02\n",
      " 5.35699738e-02 1.26536431e-02 2.31042506e-02 1.06292646e-02\n",
      " 2.37954261e-04 2.42319873e-02 5.43628028e-02 5.95150841e-02\n",
      " 4.45048706e-02]\n",
      "[0.31830989 0.00118722 0.00304222 0.00149966 0.00252459 0.00267123\n",
      " 0.00496488 0.00244556 0.00168886 0.00415114 0.00422086 0.00472982\n",
      " 0.00670633 0.00331036 0.00199172 0.0025023  0.00617866 0.00596503\n",
      " 0.0065557  0.00365945 0.0081534  0.0040661  0.00189166 0.0033722\n",
      " 0.00432729]\n",
      "[0.31830989 0.00101055 0.00040246 0.00211982 0.00202682 0.00271029\n",
      " 0.00072972 0.00346988 0.00204407 0.00305076 0.00416146 0.00688485\n",
      " 0.00113862 0.00473048 0.00277496 0.00631483 0.00407224 0.0057184\n",
      " 0.00959989 0.00235941 0.00164736 0.00589599 0.00344237 0.00780737\n",
      " 0.00100095]\n",
      "[0.31830989 0.00153593 0.00201591 0.00191314 0.00280432 0.00147195\n",
      " 0.0028418  0.00327    0.00315155 0.00370043 0.00282037 0.0034864\n",
      " 0.00308228 0.00453204 0.00352522 0.00501708 0.00435812 0.00454842\n",
      " 0.00519029 0.00226125 0.00277594 0.00532982 0.00341919 0.00614959\n",
      " 0.01095512]\n",
      "[0.31830989 0.00125907 0.00104461 0.0008889  0.00256149 0.00298749\n",
      " 0.00164409 0.00150968 0.00508348 0.00393158 0.0046174  0.00226634\n",
      " 0.00208424 0.00221338 0.00704355 0.00292053 0.00535307 0.00641846\n",
      " 0.00340478 0.0065816  0.00227755 0.00310738 0.00894543 0.00381065\n",
      " 0.00534068]\n",
      "[0.31830989 0.14352105 0.07310491 0.10773766 0.05789983 0.02860253\n",
      " 0.05245426 0.02457118 0.05746339 0.0478661  0.0041165  0.020008\n",
      " 0.05005032 0.04915903 0.03961593 0.0269693  0.02987794 0.02143966\n",
      " 0.02352621 0.04974892 0.00910069 0.02918152 0.01149583 0.01745748\n",
      " 0.02322146]\n",
      "[3.18309886e-01 2.40043822e-03 3.04168342e-04 1.35154306e-03\n",
      " 4.87552497e-03 1.68912641e-03 2.33434129e-04 2.15958068e-03\n",
      " 4.39186854e-03 7.48080305e-03 2.37952567e-03 8.15317603e-04\n",
      " 2.68839107e-04 2.82216001e-03 5.88409729e-03 2.52070068e-03\n",
      " 1.02315307e-02 2.91970777e-03 1.44192216e-03 5.18267229e-03\n",
      " 1.40918362e-03 3.27226759e-03 7.05724659e-03 3.40454388e-03\n",
      " 3.18939550e-03]\n",
      "[0.31830989 0.15395276 0.00864348 0.29061585 0.12931806 0.10661304\n",
      " 0.04725733 0.09461996 0.0891895  0.08878613 0.04747291 0.10797816\n",
      " 0.01871349 0.0478783  0.0806033  0.08796838 0.0765511  0.04697807\n",
      " 0.06257748 0.02877622 0.02331723 0.00742132 0.06393415 0.07575854\n",
      " 0.02895122]\n",
      "[0.31830989 0.00235983 0.00100367 0.00229719 0.00450712 0.00100944\n",
      " 0.00140158 0.0032872  0.00260979 0.00633638 0.00169715 0.00233447\n",
      " 0.00160589 0.0036609  0.00386682 0.00376707 0.0078845  0.00271328\n",
      " 0.00268362 0.00463565 0.00184878 0.0034629  0.00518031 0.00466705\n",
      " 0.00673537]\n",
      "[0.31830989 0.00143304 0.00104682 0.0008863  0.00290047 0.00298461\n",
      " 0.00165506 0.00148366 0.00508224 0.00442052 0.00460228 0.00228897\n",
      " 0.00211475 0.00213119 0.00705116 0.00293013 0.00597635 0.00637632\n",
      " 0.00349158 0.0065623  0.0023424  0.00293218 0.00897554 0.00379468\n",
      " 0.00534977]\n",
      "[0.31830989 0.00287802 0.00464278 0.00623626 0.00427737 0.00656719\n",
      " 0.00544508 0.00811909 0.00406895 0.00345296 0.00713806 0.00487009\n",
      " 0.00394934 0.0076358  0.00339003 0.00475742 0.00115033 0.00586469\n",
      " 0.00464436 0.01449935 0.00092047 0.00539423 0.0037509  0.0076289\n",
      " 0.00731612]\n",
      "[0.31830989 0.00075416 0.00372472 0.00154604 0.00161326 0.00482367\n",
      " 0.00606009 0.00260277 0.0018864  0.00268632 0.00742483 0.00862938\n",
      " 0.00813979 0.00369895 0.00208315 0.0008044  0.00407487 0.0101961\n",
      " 0.01172735 0.00393321 0.0098003  0.00485244 0.00172345 0.00132521\n",
      " 0.00104745]\n",
      "[0.31830989 0.26965237 0.03473501 0.04988221 0.2179563  0.22970524\n",
      " 0.10395095 0.12517505 0.12056383 0.05461384 0.04704694 0.04967354\n",
      " 0.07449068 0.05419022 0.07668496 0.05066414 0.02057357 0.02235243\n",
      " 0.0115902  0.03965627 0.00879721 0.03368567 0.01351863 0.02258276\n",
      " 0.03697457]\n",
      "[0.31830989 0.08535472 0.06742266 0.07507984 0.02880491 0.04301815\n",
      " 0.01802285 0.01815788 0.00352636 0.034264   0.02530682 0.02581778\n",
      " 0.02354093 0.02566013 0.01819215 0.02815001 0.00291276 0.00794562\n",
      " 0.00858399 0.02877385 0.01998648 0.01714128 0.01482301 0.01869589\n",
      " 0.00794899]\n",
      "[0.31830989 0.11182587 0.07021653 0.04506621 0.01938199 0.0564829\n",
      " 0.03957978 0.03386482 0.04094738 0.02892681 0.04279822 0.02389238\n",
      " 0.04420219 0.02058857 0.030334   0.03136508 0.02538567 0.02952963\n",
      " 0.02883402 0.02484877 0.04019037 0.0251835  0.00750053 0.0502325\n",
      " 0.01584258]\n",
      "[0.31830989 0.13536138 0.23930352 0.21157007 0.18528769 0.18135886\n",
      " 0.12397599 0.0952423  0.09876646 0.15193522 0.14294395 0.14246167\n",
      " 0.00119644 0.02628177 0.05006721 0.04281361 0.06349422 0.10249915\n",
      " 0.11149465 0.06612988 0.01953389 0.00569971 0.05562341 0.04117836\n",
      " 0.06959401]\n",
      "[0.31830989 0.00131971 0.00095818 0.0028746  0.00270686 0.00328134\n",
      " 0.0014697  0.00452981 0.00195166 0.0042317  0.00501747 0.00591859\n",
      " 0.001778   0.0057648  0.00267242 0.00536857 0.00596307 0.00682237\n",
      " 0.00806902 0.00520757 0.00178181 0.00636178 0.00336026 0.00629152\n",
      " 0.00618463]\n",
      "[0.31830989 0.39420081 0.11183697 0.2420036  0.17539024 0.03373279\n",
      " 0.29000431 0.29370225 0.13424712 0.17500864 0.2533526  0.12666518\n",
      " 0.01371188 0.03529201 0.15587241 0.11761542 0.06963616 0.08021562\n",
      " 0.08873064 0.18719325 0.03756818 0.05236155 0.10797715 0.05325548\n",
      " 0.16868871]\n",
      "[0.31830989 0.06307724 0.06608603 0.05586877 0.01813298 0.03686348\n",
      " 0.02630685 0.00574046 0.00242677 0.02864042 0.03271004 0.02212589\n",
      " 0.0063912  0.0133017  0.01532367 0.00636893 0.02753783 0.0314714\n",
      " 0.03015309 0.02782129 0.0103779  0.01424442 0.00887527 0.01466686\n",
      " 0.03773025]\n",
      "[0.31830989 0.00153271 0.00104821 0.00089197 0.00311688 0.00299024\n",
      " 0.00166237 0.00153699 0.00507915 0.00478424 0.00462021 0.00223762\n",
      " 0.00213649 0.00229517 0.00701309 0.00290651 0.0065244  0.00642122\n",
      " 0.00329344 0.00660098 0.0023919  0.00327277 0.00885935 0.00381695\n",
      " 0.00535392]\n",
      "[0.31830989 0.00188015 0.00042416 0.00297276 0.00375326 0.00147027\n",
      " 0.00084077 0.00471249 0.00333275 0.00561497 0.00231023 0.00393292\n",
      " 0.00145951 0.00606442 0.00466564 0.00737188 0.00746458 0.00324985\n",
      " 0.00533055 0.00796997 0.0023605  0.00684138 0.00597191 0.008886\n",
      " 0.00277922]\n",
      "[0.31830989 0.07326691 0.07707053 0.05966533 0.01801145 0.0413135\n",
      " 0.0029797  0.01023484 0.02957124 0.03274375 0.01158454 0.01498755\n",
      " 0.01325692 0.01840054 0.03055273 0.0226109  0.00832059 0.03381963\n",
      " 0.04171984 0.0356652  0.02702771 0.00925824 0.02209791 0.0428663\n",
      " 0.01731485]\n",
      "[0.31830989 0.00395372 0.00641126 0.00833939 0.00429777 0.00642006\n",
      " 0.00522772 0.00867068 0.00646117 0.00126739 0.00427982 0.00593289\n",
      " 0.00109068 0.00619809 0.0048335  0.00775209 0.00347079 0.00302155\n",
      " 0.01074706 0.00592071 0.00257063 0.00432088 0.00376722 0.00834024\n",
      " 0.00788098]\n",
      "[0.31830989 0.0014864  0.00105058 0.00064188 0.00302568 0.00256974\n",
      " 0.00167409 0.00116075 0.00517087 0.00465197 0.0041662  0.00321686\n",
      " 0.00216899 0.00187159 0.00716175 0.00475908 0.00635869 0.00611714\n",
      " 0.00433473 0.00940617 0.00246093 0.00290926 0.00908549 0.00645587\n",
      " 0.00555303]\n",
      "[0.31830989 0.09391868 0.0878738  0.07404771 0.02193322 0.00887089\n",
      " 0.00586926 0.01405878 0.00448255 0.0310447  0.02975798 0.03646974\n",
      " 0.00520118 0.01671474 0.02398278 0.00980916 0.01254157 0.00670953\n",
      " 0.01577467 0.01412221 0.01875379 0.0175531  0.02590808 0.0051843\n",
      " 0.0288275 ]\n",
      "[0.31830989 0.00057812 0.00093772 0.00255739 0.00118363 0.00207565\n",
      " 0.00137236 0.00399145 0.00555985 0.00183907 0.00317536 0.00434174\n",
      " 0.00152577 0.00499345 0.00793049 0.01006519 0.0025567  0.0043405\n",
      " 0.00601832 0.00484878 0.00129748 0.00536473 0.01041053 0.01144242\n",
      " 0.00774248]\n",
      "[0.31830989 0.01953428 0.02291924 0.02248108 0.01637818 0.00869736\n",
      " 0.00620582 0.01363112 0.00948224 0.00157915 0.0070364  0.00999861\n",
      " 0.01157814 0.00288835 0.01006158 0.01159605 0.00563982 0.00213152\n",
      " 0.00670759 0.01124256 0.01438855 0.00943195 0.00629197 0.00773856\n",
      " 0.00154064]\n",
      "[0.31830989 0.14202225 0.17969866 0.25082216 0.18068654 0.18403803\n",
      " 0.06872283 0.11410854 0.10441332 0.1683008  0.1636229  0.13254208\n",
      " 0.01237694 0.01158396 0.04821341 0.0622603  0.11186076 0.11175641\n",
      " 0.05583464 0.05304133 0.05392066 0.03553734 0.02700953 0.09174913\n",
      " 0.06938833]\n",
      "[0.31830989 0.00105219 0.00311994 0.0016837  0.00211257 0.00478294\n",
      " 0.00516095 0.00285464 0.00156873 0.0031935  0.00747845 0.00445983\n",
      " 0.00713731 0.00410309 0.00207757 0.00296093 0.00430683 0.01048354\n",
      " 0.00622561 0.00654935 0.00901076 0.00547089 0.00246608 0.00436336\n",
      " 0.00137992]\n",
      "[0.31830989 0.08498325 0.22016043 0.23984875 0.10518588 0.11393906\n",
      " 0.12414654 0.11465869 0.11389461 0.07602753 0.06602795 0.06539102\n",
      " 0.02992361 0.03517173 0.03484303 0.03276351 0.00260077 0.01523978\n",
      " 0.01120119 0.01664942 0.01164264 0.01531886 0.02456443 0.01118656\n",
      " 0.01968832]\n",
      "[0.31830989 0.0011029  0.00044729 0.00334143 0.0022231  0.00186214\n",
      " 0.00095507 0.00528974 0.00598895 0.00337559 0.00282188 0.00562807\n",
      " 0.00177388 0.0067857  0.00843346 0.00767108 0.00457008 0.00380332\n",
      " 0.00761581 0.0073357  0.0030182  0.00759696 0.01088723 0.00852121\n",
      " 0.00405542]\n",
      "[0.31830989 0.00092875 0.00109372 0.00144779 0.00188681 0.00222957\n",
      " 0.00189121 0.00222327 0.00277253 0.00289068 0.0032015  0.00521638\n",
      " 0.00278175 0.00269005 0.00379821 0.00998799 0.00392823 0.00402037\n",
      " 0.00749595 0.00969867 0.00378345 0.00269001 0.00477403 0.01236411\n",
      " 0.00224618]\n",
      "[0.31830989 0.11337269 0.13607597 0.06928661 0.07108529 0.06810799\n",
      " 0.03043727 0.01100244 0.04079079 0.02283796 0.03174578 0.02726769\n",
      " 0.06688694 0.06353167 0.11495851 0.10021183 0.060497   0.10030072\n",
      " 0.03175768 0.05920613 0.01278306 0.03051088 0.07383458 0.04625745\n",
      " 0.04043373]\n",
      "[3.18309886e-01 1.30501140e-03 1.73832215e-03 2.45692943e-04\n",
      " 2.65160532e-03 2.62786417e-03 2.82212797e-03 5.17357037e-04\n",
      " 4.16723710e-03 4.06334659e-03 3.97301032e-03 2.01213897e-03\n",
      " 3.78004285e-03 1.01842719e-03 5.70120742e-03 4.25269277e-03\n",
      " 5.52510382e-03 5.37986382e-03 3.17445273e-03 6.58758842e-03\n",
      " 4.53861892e-03 1.88885633e-03 7.11767547e-03 5.59524340e-03\n",
      " 5.31631710e-03]\n",
      "[0.31830989 0.00157976 0.00109036 0.00283558 0.00313785 0.00273634\n",
      " 0.00187593 0.00465795 0.00102708 0.00465387 0.00433965 0.00520856\n",
      " 0.00274506 0.00637544 0.0014311  0.00426209 0.00610756 0.00619165\n",
      " 0.00716916 0.00605909 0.0037207  0.0079553  0.00185348 0.00523907\n",
      " 0.00210397]\n",
      "[0.31830989 0.00144575 0.00165295 0.00134661 0.00297205 0.00080874\n",
      " 0.00239068 0.00220106 0.00415006 0.00464388 0.00104832 0.00194647\n",
      " 0.0025546  0.00298643 0.00550112 0.00259696 0.00649327 0.00110826\n",
      " 0.00271833 0.00278157 0.0018712  0.00366796 0.00645983 0.00338152\n",
      " 0.00282857]\n",
      "[0.31830989 0.02827732 0.03680287 0.04350116 0.01096041 0.02491087\n",
      " 0.01195497 0.01102044 0.03433836 0.00969922 0.01322152 0.00534012\n",
      " 0.00396134 0.00615969 0.00903467 0.02628456 0.0060486  0.00600828\n",
      " 0.02170725 0.00189247 0.01132899 0.00593083 0.00100648 0.01592479\n",
      " 0.01940538]\n",
      "[0.31830989 0.00135232 0.00109849 0.00238737 0.0027486  0.00218815\n",
      " 0.00191894 0.00378642 0.0022333  0.00423435 0.00342993 0.00458299\n",
      " 0.00287491 0.00488641 0.00311646 0.0059691  0.00585227 0.00481806\n",
      " 0.00634182 0.00914498 0.00402389 0.00557223 0.00397236 0.0073625\n",
      " 0.00134696]\n",
      "[0.31830989 0.00103603 0.0010508  0.00089306 0.00211275 0.00208511\n",
      " 0.00167512 0.00163153 0.00374957 0.00325211 0.00323946 0.00179449\n",
      " 0.00217154 0.00259922 0.00504566 0.00564872 0.00443606 0.00454141\n",
      " 0.00282294 0.00491768 0.00246541 0.00391187 0.00614359 0.00729712\n",
      " 0.00410187]\n",
      "[0.31830989 0.00116169 0.0010435  0.00089263 0.00237264 0.00299131\n",
      " 0.00163852 0.00154426 0.00508942 0.00366237 0.00464689 0.00224208\n",
      " 0.00206861 0.00231924 0.00705244 0.00291176 0.00501826 0.00650646\n",
      " 0.00331272 0.00660615 0.00224401 0.00332719 0.0089551  0.00384066\n",
      " 0.0053128 ]\n",
      "[0.31830989 0.04824051 0.09669972 0.13182735 0.03411686 0.02897449\n",
      " 0.02057147 0.02954556 0.03848213 0.00934914 0.07542961 0.0344545\n",
      " 0.00766187 0.04549792 0.0108373  0.02633718 0.01814596 0.04016124\n",
      " 0.05660713 0.02711849 0.00582662 0.01607017 0.02092062 0.04116465\n",
      " 0.02518611]\n",
      "[3.18309886e-01 8.52896878e-04 2.44381142e-04 2.76421499e-03\n",
      " 1.72484833e-03 2.76801251e-03 2.06073540e-04 4.31461389e-03\n",
      " 6.10311261e-03 2.63196708e-03 4.19537249e-03 4.40309717e-03\n",
      " 1.30298045e-04 5.38952722e-03 8.62645605e-03 8.44829027e-03\n",
      " 3.58385873e-03 5.66332888e-03 5.99166856e-03 5.97292057e-03\n",
      " 8.73287036e-04 5.73800441e-03 1.11930502e-02 9.39374097e-03\n",
      " 6.05290749e-03]\n",
      "[0.31830989 0.09137504 0.07537886 0.05586703 0.02729199 0.0131243\n",
      " 0.02600429 0.00899911 0.04453414 0.03280802 0.02941749 0.04470986\n",
      " 0.03077736 0.01380879 0.02983644 0.01318066 0.01195261 0.00962613\n",
      " 0.00552681 0.00816856 0.00875855 0.01304974 0.02269962 0.00976059\n",
      " 0.0198726 ]\n",
      "[0.31830989 0.00143152 0.00104982 0.00064073 0.00291282 0.00256954\n",
      " 0.00167022 0.00115407 0.00517472 0.00447562 0.00417478 0.00322136\n",
      " 0.00215783 0.00185338 0.00717937 0.00475301 0.00611228 0.00614511\n",
      " 0.00433791 0.00940543 0.00243625 0.00287339 0.00913093 0.00643547\n",
      " 0.00552977]\n",
      "[0.31830989 0.09752413 0.11194074 0.0395718  0.03243633 0.04855191\n",
      " 0.00681476 0.06042513 0.08379242 0.03627658 0.03041294 0.04518267\n",
      " 0.0063681  0.01854881 0.03340696 0.03724458 0.02597661 0.02759382\n",
      " 0.03219965 0.06917862 0.00482863 0.02571989 0.02843559 0.01264999\n",
      " 0.03239717]\n",
      "[0.31830989 0.09480334 0.07011403 0.08092081 0.01738639 0.03235298\n",
      " 0.01225744 0.02177049 0.0108764  0.0275967  0.03618217 0.02883769\n",
      " 0.00060596 0.00746906 0.02651634 0.01415695 0.0084521  0.0123351\n",
      " 0.00229492 0.00458748 0.00370932 0.01674381 0.01435285 0.0148368\n",
      " 0.0179328 ]\n",
      "[0.31830989 0.00066092 0.00095366 0.00275534 0.00126678 0.00469495\n",
      " 0.00144706 0.00431293 0.00104034 0.00178986 0.00709889 0.00623464\n",
      " 0.0017144  0.00542111 0.00123262 0.00775967 0.00226301 0.00951951\n",
      " 0.00843907 0.00382093 0.00164508 0.00584696 0.00116321 0.00907197\n",
      " 0.01101027]\n",
      "[0.31830989 0.21434835 0.1077499  0.07485656 0.10790007 0.02580958\n",
      " 0.10867454 0.12611457 0.10375469 0.00788248 0.02419857 0.05111778\n",
      " 0.1196224  0.04023801 0.06265234 0.10558077 0.01900251 0.08737026\n",
      " 0.0332546  0.00049229 0.06742573 0.05605521 0.06923798 0.06981373\n",
      " 0.02760895]\n",
      "[0.31830989 0.00082372 0.00243716 0.00236851 0.00168682 0.0041575\n",
      " 0.00403177 0.00396982 0.00270836 0.00263136 0.00653128 0.00566701\n",
      " 0.00557677 0.00560397 0.00368555 0.0034973  0.00369183 0.00920554\n",
      " 0.00785636 0.00839855 0.00704304 0.0072864  0.00454854 0.00508896\n",
      " 0.00327662]\n",
      "[0.31830989 0.00195374 0.00173213 0.00175332 0.00396091 0.00181062\n",
      " 0.00304449 0.00278871 0.00401438 0.00605418 0.0025091  0.00322863\n",
      " 0.00460971 0.0036104  0.00532113 0.00080604 0.00822257 0.00299278\n",
      " 0.00409539 0.0049216  0.00655559 0.00410995 0.00627845 0.00136243\n",
      " 0.00416076]\n",
      "[0.31830989 0.01941504 0.01749156 0.02545853 0.01910006 0.02929674\n",
      " 0.0054377  0.01552986 0.02498634 0.00333068 0.0120728  0.02509988\n",
      " 0.01128462 0.00115191 0.00119391 0.01962393 0.00812933 0.00302352\n",
      " 0.00239339 0.01556168 0.01540861 0.0058982  0.00913262 0.00551044\n",
      " 0.01515095]\n",
      "[0.31830989 0.21385248 0.04282071 0.03065457 0.10176795 0.02834315\n",
      " 0.00620763 0.07762259 0.07253815 0.03581945 0.05064307 0.02924826\n",
      " 0.15454839 0.149789   0.07604613 0.13360413 0.14351133 0.13382345\n",
      " 0.08026476 0.11784619 0.07146884 0.02750977 0.06990616 0.01433244\n",
      " 0.07208623]\n",
      "[0.31830989 0.00180369 0.00043627 0.00350369 0.0035787  0.0009048\n",
      " 0.00090049 0.00558054 0.00529602 0.00529864 0.00149489 0.00352658\n",
      " 0.00162334 0.0072337  0.00743343 0.00717027 0.00694161 0.00224058\n",
      " 0.00475609 0.00592688 0.00270205 0.00823339 0.00955745 0.00821426\n",
      " 0.00256286]\n",
      "[0.31830989 0.0196734  0.04225436 0.01701063 0.01778665 0.02537288\n",
      " 0.03017202 0.04288431 0.04996987 0.01007448 0.0199429  0.04104685\n",
      " 0.03351407 0.01496584 0.02365494 0.01356173 0.01424039 0.01182721\n",
      " 0.00954498 0.03896035 0.00245731 0.01546313 0.01241705 0.04173764\n",
      " 0.05439629]\n",
      "[0.31830989 0.04639751 0.09588038 0.06075642 0.02817867 0.06691481\n",
      " 0.04374098 0.02307847 0.00957543 0.02526411 0.01572096 0.0351574\n",
      " 0.01061589 0.02560894 0.02390607 0.01099127 0.02399505 0.0194159\n",
      " 0.02301661 0.02366295 0.00926309 0.00656195 0.01277615 0.01047661\n",
      " 0.02036602]\n",
      "[0.31830989 0.00101509 0.00113256 0.00443596 0.00203993 0.00154581\n",
      " 0.00208756 0.00712416 0.00423841 0.00308344 0.00238782 0.00520199\n",
      " 0.00333962 0.00937072 0.00595731 0.00716082 0.00415178 0.003299\n",
      " 0.00706384 0.00730039 0.00499864 0.01093324 0.00766209 0.0082223\n",
      " 0.00055688]\n",
      "[0.31830989 0.00033733 0.00105486 0.00293969 0.00061452 0.00423113\n",
      " 0.0016977  0.00502102 0.00069042 0.00081293 0.00672743 0.00531352\n",
      " 0.00224352 0.00727417 0.0009412  0.00095192 0.00100013 0.00961887\n",
      " 0.00733623 0.00800791 0.00264146 0.00974432 0.00118781 0.00136121\n",
      " 0.00441592]\n",
      "[0.31830989 0.05506561 0.06088377 0.04936811 0.04669726 0.02679959\n",
      " 0.02366525 0.01654838 0.0120524  0.00139706 0.01456611 0.02868634\n",
      " 0.01692239 0.02238951 0.02041298 0.03014248 0.01745831 0.02213936\n",
      " 0.0107396  0.00867973 0.01472134 0.0137585  0.00651225 0.00462676\n",
      " 0.01159279]\n",
      "[0.31830989 0.0017774  0.000338   0.00157151 0.00360131 0.00119301\n",
      " 0.00067787 0.00247942 0.00313546 0.00549811 0.00191618 0.00132238\n",
      " 0.00120422 0.00317932 0.00425021 0.00324136 0.00745151 0.00284929\n",
      " 0.00205163 0.00407654 0.00201636 0.00360119 0.00524677 0.00453091\n",
      " 0.00815064]\n",
      "[0.31830989 0.0023927  0.00103195 0.0024375  0.00482905 0.00135555\n",
      " 0.00184726 0.00391971 0.00502782 0.00733177 0.00190951 0.00310818\n",
      " 0.002869   0.00517234 0.00673506 0.00178718 0.00987972 0.00237141\n",
      " 0.00372587 0.00660522 0.00420515 0.00607729 0.00809519 0.00260403\n",
      " 0.00587556]\n",
      "[0.31830989 0.00079436 0.00302323 0.00133913 0.00160048 0.00359792\n",
      " 0.00486663 0.00210012 0.00460422 0.00246553 0.00549962 0.00615532\n",
      " 0.00641804 0.00266087 0.00581955 0.00291661 0.00348905 0.00747316\n",
      " 0.00843515 0.00220235 0.00749984 0.00295532 0.00636686 0.00320065\n",
      " 0.00768368]\n",
      "[0.31830989 0.00184223 0.0003298  0.00201244 0.00371837 0.00152112\n",
      " 0.00063676 0.00321613 0.00487093 0.00564187 0.00205781 0.00081377\n",
      " 0.00108879 0.00419862 0.00650021 0.00464651 0.00758316 0.00235557\n",
      " 0.00118731 0.00715615 0.00176827 0.00485047 0.00777699 0.00634482\n",
      " 0.00542494]\n",
      "[3.18309886e-01 1.77350012e-03 2.52615508e-04 3.60700937e-03\n",
      " 3.51502377e-03 1.58559109e-03 2.45611846e-04 5.71965746e-03\n",
      " 4.40635650e-03 5.19702763e-03 2.43326621e-03 4.05249542e-03\n",
      " 2.63066244e-05 7.35848365e-03 6.14007262e-03 5.92792490e-03\n",
      " 6.80102600e-03 3.32340773e-03 5.44969645e-03 4.50124519e-03\n",
      " 6.68939230e-04 8.27204317e-03 7.81119702e-03 6.58364657e-03\n",
      " 4.48160662e-03]\n",
      "[0.31830989 0.02034665 0.03010244 0.02916732 0.0194956  0.01359333\n",
      " 0.02268116 0.01322485 0.0152742  0.01296162 0.00982706 0.00925112\n",
      " 0.01378092 0.00568262 0.00798112 0.00690788 0.00431365 0.00507111\n",
      " 0.00580281 0.00502211 0.004838   0.00418048 0.00067983 0.00368119\n",
      " 0.02083225]\n",
      "[0.31830989 0.11503983 0.17388618 0.14397965 0.09966198 0.11209316\n",
      " 0.00989942 0.09089313 0.02141431 0.04893087 0.05288753 0.06893349\n",
      " 0.01526357 0.04715131 0.05445901 0.07375743 0.04254984 0.05854917\n",
      " 0.01044097 0.04748177 0.01130057 0.03085633 0.01738317 0.06992022\n",
      " 0.06266354]\n",
      "[0.31830989 0.06182095 0.05833043 0.12657837 0.04942982 0.00801828\n",
      " 0.00490113 0.04382715 0.06559851 0.02507362 0.05297498 0.03133941\n",
      " 0.01968702 0.03816333 0.04174867 0.03377575 0.00938495 0.03316433\n",
      " 0.01940237 0.05551541 0.02855873 0.00922548 0.01747797 0.01149156\n",
      " 0.02392575]\n",
      "[0.31830989 0.00120185 0.00268298 0.00248605 0.00282865 0.00266358\n",
      " 0.00396416 0.00336813 0.00383794 0.00497571 0.00295998 0.00367595\n",
      " 0.00508404 0.00365892 0.00589732 0.0015308  0.00729664 0.00286388\n",
      " 0.00324246 0.00952315 0.00658568 0.00366129 0.00757018 0.00341229\n",
      " 0.003445  ]\n",
      "[0.31830989 0.08612303 0.07163274 0.07354897 0.0326177  0.03557217\n",
      " 0.00829383 0.012362   0.00323452 0.02466228 0.03470703 0.02970093\n",
      " 0.01975114 0.02421194 0.01751479 0.02762762 0.0032715  0.00830108\n",
      " 0.01093306 0.01012681 0.00975028 0.01167724 0.02826473 0.01334478\n",
      " 0.01561947]\n",
      "[0.31830989 0.00156853 0.00043253 0.00350105 0.00311347 0.00090205\n",
      " 0.00088224 0.00556669 0.00529457 0.0046148  0.00147377 0.0035066\n",
      " 0.00157403 0.00719506 0.00741259 0.00718319 0.00605907 0.0021806\n",
      " 0.00472128 0.00595831 0.00260133 0.00815203 0.00949751 0.00828115\n",
      " 0.00253968]\n",
      "[0.31830989 0.00127352 0.00249118 0.00129357 0.00258116 0.00367022\n",
      " 0.00430149 0.00193155 0.00346262 0.00394797 0.00566484 0.0070776\n",
      " 0.00632993 0.00220829 0.00500731 0.00562439 0.0053795  0.00783213\n",
      " 0.00974612 0.00442652 0.00864927 0.0019651  0.00668927 0.00609061\n",
      " 0.00476627]\n",
      "[0.31830989 0.00074871 0.00372753 0.00187724 0.00158091 0.00414019\n",
      " 0.00607632 0.00301652 0.00255344 0.00259754 0.00638456 0.00567121\n",
      " 0.00819413 0.00397909 0.00312466 0.00102404 0.00390954 0.00877791\n",
      " 0.00784541 0.00285334 0.00994127 0.0046846  0.00321363 0.00096711\n",
      " 0.00862069]\n",
      "[3.18309886e-01 1.20191370e-02 1.93257265e-02 9.05723575e-03\n",
      " 8.73193045e-03 7.50596106e-03 1.06750659e-02 2.93400353e-03\n",
      " 1.47877272e-02 2.83198971e-03 9.46009208e-03 2.90848251e-02\n",
      " 1.73431934e-03 6.17993149e-03 1.20551302e-02 3.41739308e-02\n",
      " 7.52842361e-03 2.36929843e-03 1.21708175e-02 1.89074474e-02\n",
      " 1.91662771e-04 9.42691564e-03 5.25030095e-03 2.60242594e-03\n",
      " 2.54733814e-02]\n",
      "[0.31830989 0.10459499 0.08936323 0.07554126 0.03117585 0.01380154\n",
      " 0.01564116 0.01989214 0.0243456  0.03891178 0.03511779 0.03786823\n",
      " 0.02142812 0.02177747 0.00973965 0.0103428  0.00177106 0.01612741\n",
      " 0.01923091 0.02232467 0.02364174 0.02273989 0.031247   0.02092919\n",
      " 0.02640201]\n",
      "[0.31830989 0.10295489 0.187221   0.18962746 0.07826992 0.08402609\n",
      " 0.05675153 0.09009909 0.05859503 0.03575905 0.03365322 0.0368864\n",
      " 0.02202922 0.0397317  0.04746811 0.06649208 0.04052938 0.02314598\n",
      " 0.04952397 0.02148587 0.01355173 0.0194011  0.04302716 0.01946236\n",
      " 0.02227917]\n",
      "[0.31830989 0.00047157 0.00233232 0.00202355 0.00094759 0.00374106\n",
      " 0.00372396 0.00325213 0.00423621 0.00149514 0.00574157 0.00649736\n",
      " 0.00484102 0.00429444 0.00536601 0.00263769 0.00226272 0.00784079\n",
      " 0.00891995 0.00133209 0.00552068 0.00507702 0.00588083 0.00286314\n",
      " 0.00971385]\n",
      "[0.31830989 0.02030582 0.02334951 0.02043937 0.02577159 0.0155898\n",
      " 0.01780327 0.01717472 0.00725059 0.01583968 0.00865395 0.00981428\n",
      " 0.00183017 0.0090057  0.00544776 0.01835678 0.00300393 0.00428794\n",
      " 0.00457396 0.01666958 0.00979481 0.01164049 0.007667   0.00820594\n",
      " 0.01641134]\n",
      "[0.31830989 0.07711731 0.00527099 0.02859281 0.05854873 0.09880025\n",
      " 0.05473742 0.03548023 0.05972398 0.01839782 0.04527763 0.02867249\n",
      " 0.05181858 0.04504988 0.07285912 0.05583741 0.04140187 0.01561358\n",
      " 0.03006374 0.03447967 0.00863944 0.01246733 0.05405356 0.03234306\n",
      " 0.02586966]\n",
      "[0.31830989 0.10288451 0.1023921  0.12172124 0.06505437 0.07867688\n",
      " 0.01923753 0.05359328 0.06172408 0.0058431  0.0303749  0.02463772\n",
      " 0.01407158 0.01771222 0.0189651  0.04210768 0.02820196 0.050381\n",
      " 0.00414095 0.01102677 0.01196061 0.01611722 0.03468203 0.04711173\n",
      " 0.01713576]\n",
      "[0.31830989 0.02898526 0.00547653 0.07441892 0.01976574 0.02357726\n",
      " 0.01395084 0.01986003 0.02327437 0.01956773 0.0106602  0.00629829\n",
      " 0.00150328 0.01741954 0.00394264 0.01090858 0.02719818 0.02467498\n",
      " 0.00845484 0.01662233 0.00055794 0.00793075 0.01353355 0.00691333\n",
      " 0.01281935]\n",
      "[0.31830989 0.1359169  0.13669685 0.17064674 0.09855476 0.06079197\n",
      " 0.09742315 0.04511214 0.07695571 0.0468401  0.0137897  0.0681058\n",
      " 0.03408372 0.04121794 0.06407735 0.02850335 0.03387405 0.02092726\n",
      " 0.04322528 0.02709016 0.00474069 0.04990658 0.02437238 0.04032344\n",
      " 0.03964615]\n",
      "[0.31830989 0.00141876 0.00109114 0.002908   0.00290244 0.00216102\n",
      " 0.00188277 0.00467153 0.00197629 0.00451589 0.00335614 0.00518535\n",
      " 0.00277594 0.00615583 0.00268658 0.00437002 0.00631658 0.00464248\n",
      " 0.00714014 0.009247   0.0038185  0.00722839 0.00328881 0.00584406\n",
      " 0.00305053]\n",
      "[3.18309886e-01 1.17891601e-03 1.64912048e-03 2.18878164e-03\n",
      " 2.42975770e-03 4.09644841e-05 2.37125684e-03 3.60395942e-03\n",
      " 3.27578179e-03 3.81207385e-03 2.25808677e-04 1.62020531e-03\n",
      " 2.49921847e-03 4.95111782e-03 4.27192095e-03 1.51189302e-03\n",
      " 5.35774020e-03 5.94459781e-04 1.95083549e-03 2.71996187e-03\n",
      " 1.74990523e-03 6.19998660e-03 4.86869248e-03 2.00916603e-03\n",
      " 4.00282710e-04]\n",
      "[0.31830989 0.0178835  0.01761488 0.01383197 0.01127242 0.00379148\n",
      " 0.00127759 0.00344599 0.01013611 0.01125621 0.0113812  0.0175129\n",
      " 0.01959772 0.0176884  0.0112113  0.03087251 0.01755122 0.01380438\n",
      " 0.00241088 0.01986247 0.01496462 0.01164654 0.00189128 0.00208311\n",
      " 0.00379081]\n",
      "[0.31830989 0.07590728 0.04448746 0.02515273 0.01419865 0.04317063\n",
      " 0.05041118 0.04863825 0.0795763  0.04314157 0.02727158 0.05582352\n",
      " 0.01204151 0.00933841 0.02202298 0.01221168 0.02073192 0.02321627\n",
      " 0.05087076 0.0273109  0.02365137 0.01628116 0.02172854 0.04288982\n",
      " 0.02380464]\n",
      "[0.31830989 0.00194557 0.00105498 0.00089076 0.0039439  0.00298922\n",
      " 0.00169653 0.00152765 0.00506868 0.00602843 0.00459343 0.00223258\n",
      " 0.00223331 0.00226737 0.00697287 0.00290081 0.00819145 0.00633568\n",
      " 0.00327211 0.00659637 0.00260196 0.0032158  0.00876182 0.00379433\n",
      " 0.00539573]\n",
      "[0.31830989 0.00061953 0.00239051 0.00195914 0.00145961 0.00410069\n",
      " 0.00340415 0.00345483 0.00365817 0.00283828 0.00660528 0.00499302\n",
      " 0.00373787 0.00505287 0.00393956 0.00376691 0.00491047 0.0094645\n",
      " 0.00752667 0.00444271 0.00338266 0.00648839 0.00346851 0.00459745\n",
      " 0.01065555]\n",
      "[3.18309886e-01 8.64121210e-04 8.61279848e-04 3.77540167e-03\n",
      " 1.67662297e-03 1.58371140e-03 1.10832770e-03 5.91117001e-03\n",
      " 4.59859410e-03 2.40620412e-03 2.55131034e-03 5.50636445e-03\n",
      " 9.14050481e-04 7.47829912e-03 6.54297290e-03 6.85948805e-03\n",
      " 3.05186472e-03 3.68770553e-03 7.32665711e-03 5.72684317e-03\n",
      " 1.87648246e-04 8.25014494e-03 8.58429305e-03 7.91352751e-03\n",
      " 3.50044922e-03]\n",
      "[0.31830989 0.00169843 0.00109207 0.00121752 0.00342244 0.00302258\n",
      " 0.00188285 0.00187848 0.00367972 0.00518439 0.00450221 0.00433798\n",
      " 0.00275795 0.00231367 0.00495049 0.00895747 0.00696796 0.00595106\n",
      " 0.00639768 0.00934148 0.00373155 0.00248239 0.0060329  0.0113098\n",
      " 0.00358106]\n",
      "[3.18309886e-01 1.21349770e-03 2.79972830e-04 2.76599376e-03\n",
      " 2.55498410e-03 3.96183989e-03 3.78754158e-04 4.42355550e-03\n",
      " 4.01516272e-04 4.14439045e-03 6.09648852e-03 7.23096092e-03\n",
      " 3.31323927e-04 5.78108717e-03 7.55288151e-04 1.40831924e-03\n",
      " 6.07985993e-03 8.35770392e-03 9.88584614e-03 6.77646782e-03\n",
      " 5.48220849e-05 6.68277058e-03 1.37301059e-03 2.11171321e-03\n",
      " 4.46333547e-03]\n",
      "[0.31830989 0.00149927 0.00174686 0.00211913 0.00303732 0.00223807\n",
      " 0.00286494 0.00352299 0.00483677 0.00463333 0.00335376 0.00238977\n",
      " 0.00390032 0.00492029 0.00656491 0.00506336 0.00626519 0.00448908\n",
      " 0.00378304 0.00901862 0.00479687 0.00633246 0.00808701 0.00671683\n",
      " 0.00400135]\n",
      "[0.31830989 0.03267143 0.05619145 0.05199027 0.00673687 0.02322859\n",
      " 0.00519295 0.01408986 0.01920269 0.00360593 0.00305234 0.0475968\n",
      " 0.00057431 0.02353327 0.02929896 0.01391191 0.01588388 0.02206058\n",
      " 0.01251188 0.04830074 0.00323855 0.00965799 0.02034709 0.02986774\n",
      " 0.02829099]\n",
      "[0.31830989 0.0290112  0.0032344  0.06670202 0.03447519 0.03724298\n",
      " 0.01049752 0.02976567 0.06048807 0.0307134  0.02370142 0.03771721\n",
      " 0.01581433 0.02514061 0.03430028 0.0420654  0.02520544 0.03403993\n",
      " 0.03178413 0.04594944 0.0023547  0.02611036 0.02979171 0.02888518\n",
      " 0.01873577]\n",
      "[0.31830989 0.00123529 0.00233285 0.00179619 0.00254811 0.00091301\n",
      " 0.00350223 0.00295109 0.00356291 0.00400191 0.00133487 0.00155438\n",
      " 0.00406374 0.00403949 0.00469762 0.00098942 0.00563024 0.00175551\n",
      " 0.00198776 0.00102309 0.00372741 0.00503033 0.00546771 0.00129014\n",
      " 0.00168158]\n",
      "[0.31830989 0.00078711 0.00040555 0.00137889 0.00161206 0.00114837\n",
      " 0.00074407 0.00214443 0.00150172 0.00249737 0.00159993 0.00361909\n",
      " 0.00117428 0.00269074 0.00222852 0.00690289 0.00343292 0.00195066\n",
      " 0.00533375 0.01045648 0.00171182 0.00300752 0.00315993 0.00807153\n",
      " 0.00268436]\n",
      "[0.31830989 0.01486389 0.01985633 0.01980982 0.01733452 0.01380019\n",
      " 0.01588168 0.01556847 0.0215733  0.00909372 0.0018356  0.0283997\n",
      " 0.00372719 0.00472634 0.00490411 0.02692569 0.01022094 0.01747701\n",
      " 0.01185779 0.02834732 0.00434732 0.005466   0.00834399 0.00335244\n",
      " 0.00879541]\n",
      "[0.31830989 0.03845397 0.07347469 0.03475195 0.03789635 0.01362207\n",
      " 0.05304716 0.01736957 0.02337408 0.01282323 0.01025965 0.04308729\n",
      " 0.01599773 0.00831866 0.01410588 0.01480101 0.013486   0.00607576\n",
      " 0.01133347 0.03299827 0.00138636 0.02073233 0.00325828 0.02591145\n",
      " 0.01236125]\n",
      "[3.18309886e-01 1.82727992e-03 3.58894419e-04 1.07743124e-03\n",
      " 3.69166881e-03 1.16813615e-03 5.09353599e-04 1.70923436e-03\n",
      " 2.11289150e-03 5.61001273e-03 1.61928188e-03 7.93979564e-04\n",
      " 5.12215105e-04 2.22694420e-03 2.61383708e-03 5.08915946e-03\n",
      " 7.55651477e-03 1.98812336e-03 1.62306097e-03 2.31919769e-03\n",
      " 2.84046010e-04 2.64450470e-03 2.73033968e-03 6.90039010e-03\n",
      " 5.65691009e-03]\n",
      "[0.31830989 0.00498119 0.01720787 0.01110739 0.02245037 0.02017722\n",
      " 0.01141519 0.0058087  0.01564628 0.0056168  0.02036133 0.02547297\n",
      " 0.00078436 0.01912083 0.00195821 0.03037325 0.01325622 0.00653256\n",
      " 0.01856864 0.01050319 0.01648505 0.02190428 0.03931136 0.03375172\n",
      " 0.03453574]\n",
      "[0.31830989 0.00178284 0.00128695 0.00129476 0.00343262 0.00167251\n",
      " 0.00254526 0.0016637  0.0037763  0.00491305 0.00239586 0.00672948\n",
      " 0.00423134 0.00141257 0.0053304  0.00583791 0.00629466 0.00316354\n",
      " 0.00934046 0.00948316 0.00630179 0.00041616 0.00709396 0.00616567\n",
      " 0.00794811]\n",
      "[0.31830989 0.15040588 0.13488664 0.30555464 0.14435859 0.08814205\n",
      " 0.32732655 0.1009998  0.13892619 0.10536675 0.07059705 0.10109\n",
      " 0.27031947 0.04078292 0.19585286 0.04297439 0.10582322 0.1000165\n",
      " 0.08406212 0.13114225 0.07928808 0.07856869 0.10193794 0.11615472\n",
      " 0.05283846]\n",
      "[0.31830989 0.05022169 0.07276271 0.02465001 0.00866433 0.07926776\n",
      " 0.00504929 0.03645947 0.07384152 0.02055028 0.02591502 0.04589334\n",
      " 0.01092588 0.01981824 0.03424796 0.01744453 0.01434886 0.01251271\n",
      " 0.02767632 0.04492337 0.00542977 0.01511418 0.00558505 0.01043668\n",
      " 0.0181428 ]\n",
      "[0.31830989 0.00147422 0.00038341 0.0014739  0.00299976 0.00277344\n",
      " 0.00063355 0.00255284 0.00464158 0.00461029 0.00427284 0.00538789\n",
      " 0.00086587 0.00379201 0.00626992 0.00439841 0.00630186 0.00590089\n",
      " 0.00766538 0.00760054 0.00105502 0.00528784 0.00766404 0.0057485\n",
      " 0.00664046]\n",
      "[0.31830989 0.11407501 0.0108303  0.22965617 0.19306046 0.0589005\n",
      " 0.00826976 0.01980922 0.01967471 0.11178709 0.09972173 0.04400245\n",
      " 0.01239703 0.06677832 0.03073396 0.06551087 0.01743187 0.05084393\n",
      " 0.02749452 0.0303108  0.01250456 0.01151465 0.02123869 0.00829717\n",
      " 0.02550623]\n",
      "[0.31830989 0.01266961 0.01466377 0.01824345 0.00708518 0.00871087\n",
      " 0.00692374 0.00175924 0.02090603 0.00535043 0.00688965 0.01945469\n",
      " 0.0019068  0.00683216 0.01558242 0.03394954 0.00855369 0.00426856\n",
      " 0.00927024 0.01636715 0.00522281 0.00836356 0.01028888 0.01384625\n",
      " 0.02231971]\n",
      "[0.31830989 0.0031612  0.00112482 0.00282396 0.00594435 0.00237419\n",
      " 0.00136616 0.00391893 0.00515802 0.00810376 0.00260019 0.00311242\n",
      " 0.00111054 0.00412795 0.00564559 0.00471731 0.00960063 0.00271868\n",
      " 0.0028247  0.00963046 0.00059277 0.00365201 0.00510848 0.00574707\n",
      " 0.00272829]\n",
      "[0.31830989 0.11932325 0.121952   0.06552014 0.05934262 0.06400644\n",
      " 0.05345212 0.03512574 0.09431678 0.02360388 0.05678357 0.0356374\n",
      " 0.02105428 0.01517808 0.0564549  0.10527259 0.04284146 0.02948883\n",
      " 0.02417454 0.02597546 0.01063877 0.0121756  0.01689096 0.08203378\n",
      " 0.02412314]\n",
      "[0.31830989 0.13667096 0.13182995 0.15753077 0.09454338 0.10766501\n",
      " 0.03383124 0.04720588 0.02647421 0.03051779 0.0128239  0.03218999\n",
      " 0.02226055 0.04779079 0.0195898  0.04926799 0.0288584  0.06699126\n",
      " 0.04900316 0.01930815 0.01486542 0.02943899 0.04592572 0.03338576\n",
      " 0.03225061]\n",
      "[0.31830989 0.00115405 0.003121   0.00168703 0.00241597 0.00477544\n",
      " 0.00516793 0.0028449  0.00160355 0.00388009 0.00746063 0.00446366\n",
      " 0.00716362 0.00405154 0.00221336 0.00291552 0.00560848 0.01044171\n",
      " 0.00620026 0.00659142 0.00908503 0.00532521 0.0027883  0.00432184\n",
      " 0.00129596]\n",
      "[0.31830989 0.15413099 0.04220348 0.15346295 0.11243504 0.06788161\n",
      " 0.01036096 0.05767274 0.09469654 0.0563102  0.02431809 0.02886189\n",
      " 0.00332334 0.03242044 0.06474678 0.0226194  0.00590941 0.03531929\n",
      " 0.01037771 0.01004007 0.01035575 0.02246205 0.0431424  0.01249309\n",
      " 0.04723753]\n",
      "[0.31830989 0.0386947  0.10809042 0.13161822 0.03391005 0.02870791\n",
      " 0.04027628 0.016579   0.03463235 0.01476122 0.05995518 0.07022366\n",
      " 0.01877872 0.0183421  0.0309046  0.05294633 0.00783843 0.04339744\n",
      " 0.03671105 0.02151607 0.00090307 0.00944749 0.01544443 0.04918473\n",
      " 0.05697181]\n",
      "[0.31830989 0.0018091  0.00687749 0.00231863 0.00376978 0.00812522\n",
      " 0.00771929 0.00140129 0.00473575 0.00581557 0.01102416 0.00784067\n",
      " 0.00571047 0.00400282 0.00391817 0.00452078 0.00763132 0.01341374\n",
      " 0.01103001 0.01217097 0.00274559 0.00775306 0.00398696 0.00665192\n",
      " 0.00401314]\n",
      "[0.31830989 0.03848285 0.10313452 0.13574668 0.02892745 0.02582443\n",
      " 0.03195603 0.02956194 0.02584422 0.01172462 0.02847023 0.01206869\n",
      " 0.01350952 0.02490914 0.007799   0.0193918  0.01623841 0.02005436\n",
      " 0.0119863  0.02554979 0.00526377 0.02003811 0.04648507 0.03893075\n",
      " 0.02480376]\n",
      "[0.31830989 0.00055074 0.00095429 0.00275531 0.00105583 0.00469702\n",
      " 0.00145004 0.00431725 0.00103806 0.00150515 0.00710626 0.00623388\n",
      " 0.00172204 0.00543684 0.00121947 0.00776788 0.0019632  0.00953659\n",
      " 0.00844852 0.00382345 0.00165955 0.00588473 0.00112968 0.00909824\n",
      " 0.01101508]\n",
      "[0.31830989 0.06041834 0.08427568 0.10506718 0.04770846 0.00957769\n",
      " 0.02603756 0.01053345 0.02810557 0.02103084 0.04186281 0.04153577\n",
      " 0.0034812  0.01946305 0.03691518 0.05861241 0.01254619 0.01307359\n",
      " 0.05121698 0.0390777  0.01497377 0.01162692 0.02395775 0.02728815\n",
      " 0.03687717]\n",
      "[3.18309886e-01 4.45575702e-04 2.46873502e-04 2.76528323e-03\n",
      " 9.15728824e-04 2.77095338e-03 2.18686872e-04 4.32364297e-03\n",
      " 6.11206756e-03 1.43070775e-03 4.23070377e-03 4.42674623e-03\n",
      " 9.43803287e-05 5.41757396e-03 8.67806864e-03 8.45587429e-03\n",
      " 2.00139642e-03 5.76828608e-03 6.08537060e-03 5.96371095e-03\n",
      " 7.94758056e-04 5.80036726e-03 1.13281167e-02 9.41069394e-03\n",
      " 6.02073052e-03]\n",
      "[0.31830989 0.00033321 0.00300696 0.00126527 0.00069152 0.00055736\n",
      " 0.00458692 0.00208797 0.00348944 0.00111084 0.00076454 0.00033401\n",
      " 0.00549507 0.00287818 0.00459236 0.00106181 0.00163325 0.00089357\n",
      " 0.00034269 0.00084085 0.00540593 0.00362063 0.00530818 0.00131394\n",
      " 0.00365033]\n",
      "[0.31830989 0.10260631 0.13649404 0.16028695 0.09453898 0.07568383\n",
      " 0.05557333 0.03622983 0.02548505 0.02357045 0.00419038 0.02957058\n",
      " 0.01729857 0.02825096 0.01613646 0.02185164 0.02706564 0.03127886\n",
      " 0.02249251 0.05923311 0.03536287 0.02546606 0.04509285 0.0312961\n",
      " 0.04673581]\n",
      "[0.31830989 0.11191311 0.079595   0.06978078 0.00612985 0.02507388\n",
      " 0.04970248 0.00853107 0.05825776 0.04831796 0.02529874 0.03686399\n",
      " 0.00140921 0.0098138  0.06080408 0.02450454 0.01633812 0.02832458\n",
      " 0.05219993 0.04043091 0.02351598 0.01874121 0.03315858 0.01918777\n",
      " 0.01624586]\n",
      "[0.31830989 0.07731342 0.21446576 0.24290676 0.04227173 0.03564282\n",
      " 0.13105491 0.13340198 0.09926613 0.02549591 0.07136009 0.07088198\n",
      " 0.04264341 0.05764888 0.03932483 0.02167992 0.04917827 0.03911569\n",
      " 0.04216059 0.06119025 0.02704746 0.01991388 0.05247045 0.01558877\n",
      " 0.01128853]\n",
      "[0.31830989 0.00118758 0.00233613 0.00086356 0.00248517 0.00469348\n",
      " 0.00374067 0.00143092 0.00164531 0.00399974 0.00722944 0.00777173\n",
      " 0.00487792 0.00198704 0.00166207 0.003301   0.00582476 0.0099365\n",
      " 0.01056445 0.00080531 0.00557229 0.00253032 0.00109772 0.0043958\n",
      " 0.00368182]\n",
      "[0.31830989 0.00175948 0.00173553 0.00175517 0.00357661 0.00180982\n",
      " 0.00306166 0.00279697 0.00401755 0.00548847 0.00251389 0.0032369\n",
      " 0.00465844 0.00363271 0.00533954 0.00080044 0.00748891 0.00300802\n",
      " 0.00411823 0.00492037 0.00666146 0.00415666 0.00632401 0.00133374\n",
      " 0.00415029]\n",
      "[3.18309886e-01 8.01901408e-04 3.00947094e-03 1.26591353e-03\n",
      " 1.65214117e-03 5.55045459e-04 4.59984093e-03 2.08982777e-03\n",
      " 3.48814740e-03 2.59610979e-03 7.45640203e-04 3.25038635e-04\n",
      " 5.53278458e-03 2.88229698e-03 4.58713629e-03 1.06068382e-03\n",
      " 3.66835740e-03 8.40993132e-04 3.14141187e-04 8.44809915e-04\n",
      " 5.49082521e-03 3.62830961e-03 5.29685061e-03 1.31448106e-03\n",
      " 3.65378939e-03]\n",
      "[0.31830989 0.00158785 0.00110175 0.00238557 0.00320474 0.00218563\n",
      " 0.0019351  0.00377432 0.00223473 0.00488147 0.00342243 0.00458234\n",
      " 0.00291948 0.00485011 0.00311995 0.00595562 0.00664802 0.00480357\n",
      " 0.00631917 0.00912436 0.00411742 0.00549403 0.0039779  0.00729068\n",
      " 0.00131292]\n",
      "[3.18309886e-01 1.59196030e-03 2.46008326e-03 9.90465700e-04\n",
      " 3.21791295e-03 8.86494155e-04 4.14403525e-03 1.80354785e-03\n",
      " 2.07683215e-04 4.89433040e-03 1.50560320e-03 3.08450377e-03\n",
      " 5.88169229e-03 2.88904059e-03 5.28368410e-04 5.12902554e-03\n",
      " 6.60105258e-03 2.34108785e-03 4.82874160e-03 1.37734457e-02\n",
      " 7.67113408e-03 4.42684783e-03 1.28948356e-03 5.85635608e-03\n",
      " 5.89823461e-03]\n",
      "[0.31830989 0.00181323 0.00178811 0.00216539 0.00361552 0.00261941\n",
      " 0.00307443 0.00349176 0.0014466  0.0053952  0.00413991 0.0059356\n",
      " 0.00449912 0.00464555 0.00210569 0.00517764 0.00713703 0.00589431\n",
      " 0.00815878 0.0076303  0.00610914 0.0055935  0.00283157 0.00604613\n",
      " 0.00341195]\n",
      "[0.31830989 0.00198546 0.00108186 0.00195418 0.00411266 0.00260657\n",
      " 0.00183807 0.00332709 0.00202337 0.00651149 0.0041439  0.00334423\n",
      " 0.0026581  0.00480121 0.00265114 0.00107957 0.00928278 0.00589824\n",
      " 0.00468208 0.00392193 0.00358671 0.00640897 0.00308032 0.0019492\n",
      " 0.00563303]\n",
      "[3.18309886e-01 2.70282700e-03 1.67699630e-03 2.17338181e-03\n",
      " 5.47782752e-03 6.37496743e-05 2.51259029e-03 3.52666131e-03\n",
      " 3.27649933e-03 8.37788169e-03 3.72314199e-04 1.56675146e-03\n",
      " 2.90251799e-03 4.73560094e-03 4.24829690e-03 1.54208546e-03\n",
      " 1.14151039e-02 9.87662676e-04 1.81927203e-03 2.75314050e-03\n",
      " 2.63307152e-03 5.74253468e-03 4.81136905e-03 2.16060800e-03\n",
      " 4.66564752e-04]\n",
      "[3.18309886e-01 2.70822869e-03 3.17692106e-04 1.36503693e-03\n",
      " 5.49178549e-03 1.59460685e-03 3.01583091e-04 2.17696818e-03\n",
      " 5.87904658e-03 8.40582733e-03 2.45615980e-03 8.12791200e-04\n",
      " 7.59731402e-05 2.83044824e-03 7.97326666e-03 2.85896538e-03\n",
      " 1.14631758e-02 3.40937506e-03 6.04561013e-04 5.16021749e-03\n",
      " 9.90774777e-04 3.24326461e-03 9.74973806e-03 3.81419061e-03\n",
      " 3.50370838e-03]\n",
      "[0.31830989 0.00161603 0.00039803 0.00126173 0.00326481 0.00238625\n",
      " 0.00070646 0.00191323 0.00399735 0.00496377 0.0035017  0.00298186\n",
      " 0.00106911 0.00225592 0.00533857 0.00736816 0.00669744 0.00454151\n",
      " 0.00458478 0.00945061 0.00148739 0.00212629 0.00642167 0.00931602\n",
      " 0.00167498]\n",
      "[0.31830989 0.0026872  0.00104743 0.00262636 0.00543119 0.00123182\n",
      " 0.00192538 0.00422568 0.00338232 0.00826847 0.00157759 0.00155198\n",
      " 0.00309048 0.00559483 0.00440156 0.00404345 0.01119244 0.00168037\n",
      " 0.00212498 0.00690383 0.00468629 0.00663877 0.00503139 0.00545963\n",
      " 0.00470392]\n",
      "[0.31830989 0.00032428 0.00105491 0.0013265  0.00070751 0.00274016\n",
      " 0.00169619 0.00226174 0.00330159 0.00118962 0.00446361 0.00072817\n",
      " 0.00223236 0.00329913 0.00449249 0.00153835 0.00176936 0.00656548\n",
      " 0.00095721 0.00943533 0.00260022 0.00452025 0.00556727 0.0023499\n",
      " 0.00259624]\n",
      "[0.31830989 0.05128313 0.07711471 0.09225082 0.00656662 0.02495483\n",
      " 0.0174812  0.01935877 0.04480421 0.03042742 0.04291388 0.02340784\n",
      " 0.00075357 0.00812724 0.02586616 0.00282269 0.0125132  0.01279118\n",
      " 0.02969239 0.02976128 0.0116097  0.01031014 0.00472499 0.00474466\n",
      " 0.0094951 ]\n",
      "[0.31830989 0.03369236 0.13772546 0.03054624 0.01348465 0.01603366\n",
      " 0.04667536 0.01593774 0.11757547 0.02646063 0.01808999 0.01447195\n",
      " 0.02691834 0.01073845 0.01803828 0.0169521  0.01534477 0.00428949\n",
      " 0.01412774 0.02761188 0.01264226 0.00951788 0.02617946 0.01469044\n",
      " 0.03602702]\n",
      "[0.31830989 0.04117782 0.03876983 0.03849491 0.02168046 0.02878457\n",
      " 0.00322158 0.00847381 0.02191752 0.01274186 0.0105614  0.00602592\n",
      " 0.00960767 0.01489589 0.01668063 0.00973042 0.01278747 0.00640047\n",
      " 0.00180739 0.01037962 0.0067802  0.00057862 0.00402687 0.00984878\n",
      " 0.01233177]\n",
      "[3.18309886e-01 1.53484674e-04 3.69508022e-04 1.30795151e-03\n",
      " 3.22615735e-04 3.35847412e-03 5.63751286e-04 2.34427953e-03\n",
      " 3.19509762e-03 5.57006122e-04 5.44602473e-03 2.72186288e-03\n",
      " 6.69556314e-04 3.61826091e-03 4.24360726e-03 1.21362121e-03\n",
      " 9.04088001e-04 7.96688577e-03 3.88019562e-03 1.25277054e-02\n",
      " 6.33191510e-04 5.20462771e-03 5.04353829e-03 1.05462967e-03\n",
      " 1.64329461e-03]\n",
      "[0.31830989 0.00192832 0.00108398 0.00058043 0.00388839 0.00184628\n",
      " 0.00184203 0.00078586 0.00510225 0.00589625 0.00277481 0.00435028\n",
      " 0.00264227 0.00070672 0.00686878 0.00584525 0.0079344  0.00372878\n",
      " 0.00641391 0.01073253 0.00348059 0.0003796  0.00835627 0.00743299\n",
      " 0.0032059 ]\n",
      "[3.18309886e-01 1.84328625e-03 3.06211065e-04 8.69120424e-04\n",
      " 3.73103281e-03 2.00099781e-03 5.17398034e-04 1.48225518e-03\n",
      " 4.88337108e-03 5.69033069e-03 3.04742327e-03 4.04815643e-03\n",
      " 7.49379165e-04 2.19093403e-03 6.57703548e-03 2.84996982e-03\n",
      " 7.71122157e-03 4.16506391e-03 5.92406715e-03 7.23642404e-03\n",
      " 1.02972728e-03 3.12431296e-03 8.00017200e-03 3.83733192e-03\n",
      " 4.85612534e-03]\n",
      "[0.31830989 0.13120517 0.09372913 0.0387012  0.051966   0.07411875\n",
      " 0.03656674 0.07460184 0.05752431 0.02316228 0.06526927 0.02692658\n",
      " 0.05883255 0.03086763 0.02453332 0.09232835 0.02651817 0.05791925\n",
      " 0.06609292 0.01777814 0.00267275 0.00919375 0.05033876 0.05927482\n",
      " 0.02425025]\n",
      "[0.31830989 0.00123256 0.00303296 0.00128451 0.00257246 0.00442486\n",
      " 0.00491688 0.00206605 0.00169591 0.00412738 0.00682225 0.00694524\n",
      " 0.00656514 0.00273818 0.00198899 0.00203325 0.00599572 0.00938226\n",
      " 0.00953827 0.00460348 0.00783242 0.00327466 0.00199706 0.00263245\n",
      " 0.0066873 ]\n",
      "[0.31830989 0.22878329 0.02631785 0.06032514 0.16558806 0.1558999\n",
      " 0.10637066 0.02757236 0.11226619 0.08332818 0.06600804 0.03723938\n",
      " 0.10533919 0.03120574 0.05535031 0.00598063 0.05380873 0.02162232\n",
      " 0.03946693 0.10025735 0.09511434 0.0327282  0.03914113 0.05244738\n",
      " 0.04183784]\n",
      "[0.31830989 0.02216001 0.03184827 0.02703805 0.01487329 0.01324781\n",
      " 0.01945135 0.01186107 0.01620052 0.003466   0.00783676 0.01483478\n",
      " 0.00794275 0.00137037 0.00053423 0.02239829 0.00988932 0.01054955\n",
      " 0.0128737  0.02941411 0.00760405 0.00248015 0.00446725 0.00936003\n",
      " 0.02473892]\n",
      "[0.31830989 0.00115256 0.00244023 0.00236972 0.00228516 0.00416769\n",
      " 0.00404608 0.00399764 0.00268815 0.00338529 0.00655723 0.00565969\n",
      " 0.00561291 0.00569833 0.00359744 0.00354906 0.00445054 0.00926424\n",
      " 0.00787256 0.00836895 0.00711027 0.00750491 0.00433862 0.00516814\n",
      " 0.00329938]\n",
      "[0.31830989 0.00164097 0.00109129 0.00283554 0.00325999 0.00273656\n",
      " 0.00188054 0.00465792 0.00102626 0.00483612 0.00434029 0.00520913\n",
      " 0.00275782 0.00637541 0.00143206 0.00425928 0.00634818 0.00619362\n",
      " 0.00716853 0.00605582 0.00374763 0.00795525 0.00185993 0.00522651\n",
      " 0.00210257]\n",
      "[0.31830989 0.04313629 0.06110983 0.15594258 0.04348734 0.0323314\n",
      " 0.01504335 0.08292283 0.05405623 0.02639605 0.01902765 0.01172556\n",
      " 0.04098764 0.04491542 0.05999831 0.00710449 0.02719451 0.03969476\n",
      " 0.0374484  0.02933566 0.01510006 0.02746677 0.02643325 0.00129686\n",
      " 0.03041873]\n",
      "[0.31830989 0.00238488 0.00172331 0.00174892 0.00481372 0.00181265\n",
      " 0.00300009 0.00276936 0.0040078  0.00730964 0.00250068 0.00321239\n",
      " 0.00448421 0.00355861 0.00528389 0.00081651 0.00985191 0.00296504\n",
      " 0.00405128 0.0049245  0.00628415 0.00400269 0.00618718 0.00142184\n",
      " 0.00418004]\n",
      "[0.31830989 0.00167711 0.00106404 0.00211136 0.00337939 0.00270876\n",
      " 0.00174157 0.00352459 0.00369006 0.00511293 0.00408024 0.00131743\n",
      " 0.00235824 0.0049616  0.00497141 0.00347732 0.00684377 0.00548492\n",
      " 0.00243609 0.01080163 0.00286614 0.00647355 0.00608446 0.00458523\n",
      " 0.00479411]\n",
      "[0.31830989 0.05537627 0.10702745 0.10251808 0.01772032 0.05456701\n",
      " 0.01397359 0.01366967 0.01770126 0.03421644 0.01174904 0.02080313\n",
      " 0.02081314 0.02467825 0.02679842 0.04308279 0.02634223 0.01423855\n",
      " 0.02668993 0.03754564 0.02377128 0.01815696 0.01480285 0.00398868\n",
      " 0.03445587]\n",
      "[0.31830989 0.04697646 0.09410069 0.11700228 0.0202733  0.03548959\n",
      " 0.00604853 0.0065132  0.03920157 0.0222025  0.03385233 0.01490077\n",
      " 0.00759412 0.01943984 0.02254246 0.02730891 0.02245236 0.00731681\n",
      " 0.01122867 0.00829531 0.00557974 0.01781015 0.01130335 0.03435349\n",
      " 0.00268915]\n",
      "[0.31830989 0.01804057 0.02374924 0.00849538 0.0212504  0.01245624\n",
      " 0.01602671 0.00110898 0.01212456 0.01485927 0.00989    0.02677001\n",
      " 0.00062634 0.01152697 0.00607986 0.03163259 0.01490198 0.00771352\n",
      " 0.00860184 0.02076341 0.01022768 0.01392481 0.00480316 0.01337582\n",
      " 0.00849252]\n",
      "[0.31830989 0.00115738 0.00233197 0.00179805 0.00238795 0.00091664\n",
      " 0.00349761 0.00296282 0.00356053 0.00375318 0.00133598 0.00156756\n",
      " 0.00404993 0.004074   0.00469561 0.00098293 0.00528861 0.00174251\n",
      " 0.00202227 0.0010242  0.00369553 0.00510561 0.00546532 0.00127306\n",
      " 0.00168456]\n",
      "[3.18309886e-01 2.97315546e-04 1.74138645e-03 2.43440880e-03\n",
      " 5.26015037e-04 4.80159197e-03 2.83941045e-03 4.17092326e-03\n",
      " 1.62506795e-03 6.55289924e-04 7.57812105e-03 3.97875483e-03\n",
      " 3.83602036e-03 6.06928252e-03 2.30217092e-03 7.08543207e-04\n",
      " 7.47892962e-04 1.07446467e-02 5.56946856e-03 6.16828578e-03\n",
      " 4.67747015e-03 8.17443865e-03 3.01944359e-03 9.55772186e-04\n",
      " 3.56645083e-03]\n",
      "[0.31830989 0.00130428 0.00098675 0.00098288 0.00264986 0.00346893\n",
      " 0.00161885 0.00159316 0.0046426  0.00406403 0.00527463 0.00466719\n",
      " 0.00222084 0.00217429 0.00626917 0.00563142 0.00554298 0.00715686\n",
      " 0.00673771 0.00418066 0.00279735 0.0028219  0.00765914 0.00696459\n",
      " 0.00703654]\n",
      "[0.31830989 0.10612589 0.15182194 0.29976979 0.12567712 0.16173563\n",
      " 0.13953215 0.13792349 0.1665986  0.14327598 0.13587334 0.12757439\n",
      " 0.04126852 0.09467155 0.06346054 0.0617515  0.10771335 0.13970018\n",
      " 0.07372372 0.03146021 0.01954045 0.07136507 0.01603976 0.07136277\n",
      " 0.0488476 ]\n",
      "[0.31830989 0.24208954 0.11162384 0.06160103 0.25457279 0.19241553\n",
      " 0.09177898 0.12763486 0.06511461 0.09194926 0.06677286 0.11102442\n",
      " 0.01027096 0.10204071 0.06522697 0.13773711 0.03086967 0.01325385\n",
      " 0.0423845  0.02973046 0.1157588  0.05200345 0.03790406 0.08418066\n",
      " 0.04412702]\n",
      "[0.31830989 0.00141731 0.00042321 0.00058382 0.00287405 0.00182809\n",
      " 0.00083332 0.00073042 0.00241867 0.00439917 0.00288722 0.00470143\n",
      " 0.00142777 0.00050891 0.00360125 0.00691255 0.00599966 0.00410885\n",
      " 0.00675008 0.00956782 0.00226314 0.00060458 0.00499288 0.00763386\n",
      " 0.00770197]\n",
      "[0.31830989 0.00117709 0.0004044  0.00284681 0.0024229  0.00308384\n",
      " 0.00074374 0.00454548 0.00084775 0.00380972 0.0047404  0.00588708\n",
      " 0.00119513 0.00592352 0.00107625 0.00292639 0.00540697 0.00648307\n",
      " 0.0081017  0.00848923 0.00181466 0.0068173  0.00116644 0.0041496\n",
      " 0.00253781]\n",
      "[3.18309886e-01 1.96792597e-03 3.55692573e-04 1.71932354e-03\n",
      " 3.97306880e-03 1.41310279e-03 4.93214289e-04 2.71411210e-03\n",
      " 4.16996058e-03 6.03187612e-03 1.99381736e-03 1.19218159e-03\n",
      " 4.66589673e-04 3.46551275e-03 5.50083446e-03 4.97293382e-03\n",
      " 8.11718981e-03 2.47944194e-03 9.94506863e-04 5.32607382e-03\n",
      " 1.85498116e-04 3.84846405e-03 6.45163400e-03 6.67806533e-03\n",
      " 4.57271950e-03]\n",
      "[0.31830989 0.00152178 0.00043185 0.00350113 0.00301997 0.0009028\n",
      " 0.00087885 0.00556736 0.00529475 0.00447481 0.00147792 0.00350545\n",
      " 0.0015646  0.00719731 0.00741238 0.00718475 0.00587343 0.00219148\n",
      " 0.0047216  0.00596181 0.0025813  0.00815752 0.00949666 0.00828918\n",
      " 0.00254108]\n",
      "[0.31830989 0.09749748 0.25676558 0.03333285 0.04937625 0.03747394\n",
      " 0.04820618 0.00611178 0.16563901 0.02540251 0.09841629 0.09817518\n",
      " 0.01752253 0.01069    0.10872301 0.05104255 0.05159215 0.0641349\n",
      " 0.03749665 0.08548113 0.00449742 0.03429581 0.06455831 0.06060979\n",
      " 0.03109405]\n",
      "[0.31830989 0.30536249 0.01895425 0.07259989 0.21185612 0.19921468\n",
      " 0.23121011 0.14687346 0.16063902 0.03460339 0.09352015 0.01659928\n",
      " 0.08354169 0.10233912 0.04888918 0.08608839 0.06997943 0.07628492\n",
      " 0.10774846 0.05798113 0.05687864 0.04992963 0.05802343 0.11532419\n",
      " 0.03248966]\n",
      "[0.31830989 0.2140379  0.23760078 0.16014963 0.17218551 0.14890747\n",
      " 0.10775527 0.12385433 0.12914584 0.20816963 0.08180876 0.08871172\n",
      " 0.04150262 0.08117646 0.04479257 0.04636736 0.15578054 0.06442736\n",
      " 0.08653438 0.06228197 0.0416797  0.01635703 0.10943055 0.01903507\n",
      " 0.02902722]\n",
      "[3.18309886e-01 1.65143894e-01 2.03541279e-04 1.14814301e-01\n",
      " 1.60858461e-01 1.35082180e-01 6.69196469e-02 2.42399761e-02\n",
      " 9.98726012e-02 2.79991865e-01 1.79621864e-01 1.27521996e-01\n",
      " 3.32729741e-02 6.19334176e-02 7.20300952e-02 8.41934218e-02\n",
      " 8.53233323e-02 5.41070894e-02 1.40068215e-01 2.09478866e-02\n",
      " 9.03150919e-02 3.51329356e-02 3.46676670e-02 6.41600345e-02\n",
      " 9.74416132e-02]\n",
      "[0.31830989 0.13888339 0.00671451 0.08296755 0.1013532  0.10570981\n",
      " 0.02415793 0.0852636  0.02419261 0.05216602 0.02971766 0.05675969\n",
      " 0.06542902 0.03156349 0.05935806 0.02359056 0.03669732 0.02501635\n",
      " 0.04355102 0.05472233 0.01673478 0.03716319 0.01889384 0.02228225\n",
      " 0.01083247]\n",
      "[0.31830989 0.26941141 0.04232572 0.14383536 0.15101098 0.05891065\n",
      " 0.11985562 0.04560375 0.12768898 0.10699355 0.02192949 0.02777675\n",
      " 0.12812169 0.04871541 0.1149177  0.02008802 0.04180189 0.02363774\n",
      " 0.0273599  0.10384989 0.10763614 0.07018467 0.07667462 0.03479652\n",
      " 0.03527841]\n",
      "[0.31830989 0.29775015 0.03435118 0.06209063 0.32196172 0.31753222\n",
      " 0.26403144 0.26151477 0.24470864 0.10683696 0.07608061 0.08708488\n",
      " 0.26990988 0.33206681 0.30000352 0.3055133  0.20349093 0.21320361\n",
      " 0.2102142  0.18714676 0.0350247  0.15037032 0.1479469  0.0830809\n",
      " 0.13288205]\n",
      "[0.31830989 0.19604772 0.08281083 0.06563897 0.11246719 0.04543595\n",
      " 0.02134937 0.0470338  0.07648151 0.04038738 0.02922045 0.05719968\n",
      " 0.03624942 0.02240304 0.02181705 0.05212926 0.01024803 0.02280624\n",
      " 0.05421948 0.05258658 0.04306298 0.02075573 0.00926074 0.02574963\n",
      " 0.02098647]\n",
      "[0.31830989 0.11663006 0.01771308 0.2454629  0.08309875 0.16490064\n",
      " 0.03324754 0.16155558 0.08321699 0.13476805 0.07830681 0.12426917\n",
      " 0.04057037 0.03961561 0.06232284 0.03642522 0.12273463 0.10181647\n",
      " 0.06950767 0.05085772 0.02342886 0.06369038 0.02670639 0.03901745\n",
      " 0.04164783]\n",
      "[0.31830989 0.28080358 0.00131165 0.04098906 0.2396901  0.12207039\n",
      " 0.07326943 0.30206287 0.06324532 0.02856708 0.09545686 0.08674511\n",
      " 0.12892572 0.14416588 0.07008114 0.14728898 0.03814942 0.15366721\n",
      " 0.03484752 0.19244574 0.12812569 0.04216276 0.02153964 0.05873725\n",
      " 0.06834276]\n",
      "[0.31830989 0.0603814  0.0621318  0.00848803 0.02316396 0.07192693\n",
      " 0.01663366 0.03256246 0.08287024 0.01891642 0.04343322 0.04846974\n",
      " 0.00372479 0.00861815 0.0350253  0.00297665 0.01709378 0.00188653\n",
      " 0.00840613 0.02348806 0.02474472 0.01713141 0.0113297  0.02341892\n",
      " 0.0151121 ]\n",
      "[0.31830989 0.2524008  0.11497148 0.10857155 0.15173341 0.1346327\n",
      " 0.11325831 0.13084637 0.08013072 0.11351715 0.12438985 0.05445692\n",
      " 0.00405844 0.13647245 0.04221431 0.15528797 0.11911578 0.07018052\n",
      " 0.06299419 0.10920334 0.14460804 0.10222207 0.05911739 0.01928643\n",
      " 0.1260388 ]\n",
      "[0.31830989 0.38531896 0.10653114 0.18869168 0.22778697 0.16513243\n",
      " 0.3797579  0.37437593 0.33033848 0.2318064  0.24832958 0.25989214\n",
      " 0.06636587 0.081269   0.13123911 0.03613837 0.25584304 0.27431222\n",
      " 0.33859365 0.19574006 0.20581222 0.21924977 0.25496657 0.35793679\n",
      " 0.22276075]\n",
      "[0.31830989 0.01273002 0.01060727 0.01266215 0.00188659 0.00448297\n",
      " 0.00094432 0.00586266 0.00628733 0.00826225 0.01554283 0.0131086\n",
      " 0.00544335 0.00630085 0.01488454 0.01346058 0.00568584 0.01120537\n",
      " 0.00582029 0.01800099 0.0099958  0.0087982  0.00361622 0.01534567\n",
      " 0.01758649]\n",
      "[0.31830989 0.06684569 0.00607264 0.05364965 0.03249611 0.0364536\n",
      " 0.01349423 0.04083296 0.00629316 0.0136072  0.02130273 0.02863333\n",
      " 0.03152478 0.02721231 0.02835636 0.05628839 0.02549696 0.03897685\n",
      " 0.03733695 0.03102927 0.02403258 0.01298287 0.03816665 0.0203763\n",
      " 0.04696814]\n",
      "[0.31830989 0.13551875 0.10124211 0.05635897 0.06029687 0.09448532\n",
      " 0.03053472 0.04010123 0.01386734 0.02427369 0.06868573 0.0433744\n",
      " 0.078939   0.06813015 0.12843092 0.09814186 0.05727168 0.07697605\n",
      " 0.07153265 0.04880063 0.11335305 0.07137206 0.06493809 0.03798056\n",
      " 0.09064088]\n",
      "[0.31830989 0.25303126 0.11011882 0.16688142 0.30642665 0.32294266\n",
      " 0.12396914 0.13178178 0.12449664 0.19727101 0.1977175  0.20910765\n",
      " 0.26571618 0.21484346 0.22646841 0.23455058 0.02827775 0.02522228\n",
      " 0.03795561 0.01131363 0.21536716 0.20259676 0.17783594 0.16638968\n",
      " 0.19283604]\n",
      "[3.18309886e-01 1.37368102e-01 2.10009933e-01 2.74871345e-01\n",
      " 2.08995027e-01 2.57709461e-01 1.16278489e-01 1.51431038e-01\n",
      " 1.48960355e-01 2.37863572e-01 2.87403693e-01 2.96131787e-01\n",
      " 2.65452291e-04 6.35775571e-02 1.86677306e-02 3.33254691e-02\n",
      " 2.32181256e-01 2.46808273e-01 2.77506103e-01 2.53462685e-01\n",
      " 1.18699822e-01 4.11009458e-02 5.82292158e-02 1.27478365e-01\n",
      " 9.53576139e-02]\n",
      "[0.31830989 0.09944594 0.0631804  0.03683395 0.01959896 0.04450658\n",
      " 0.02289379 0.01705353 0.06102296 0.02275313 0.01871014 0.03326197\n",
      " 0.02416053 0.04790602 0.0238075  0.02529682 0.01329943 0.03123396\n",
      " 0.03976671 0.01494469 0.00157286 0.01552137 0.02541031 0.03460322\n",
      " 0.04076005]\n",
      "[0.31830989 0.12299745 0.38594507 0.17185833 0.21259115 0.16506317\n",
      " 0.22419808 0.14853661 0.06766568 0.21095651 0.17095802 0.17503316\n",
      " 0.04667023 0.05541406 0.05822322 0.0375429  0.10743224 0.12892953\n",
      " 0.15019659 0.13195514 0.02804006 0.02409466 0.01305327 0.0112538\n",
      " 0.10541275]\n",
      "[0.31830989 0.3451339  0.05673166 0.12118513 0.22295094 0.20938779\n",
      " 0.18722953 0.30755973 0.21050285 0.0591354  0.15874093 0.0845266\n",
      " 0.17751172 0.15867338 0.14708852 0.25907317 0.18620377 0.19118175\n",
      " 0.24648768 0.21569798 0.05146208 0.17903289 0.06124928 0.17223693\n",
      " 0.1104971 ]\n",
      "[0.31830989 0.15266308 0.06586788 0.06494381 0.04124201 0.03360041\n",
      " 0.00383928 0.09245902 0.02287178 0.03704887 0.04487032 0.06080351\n",
      " 0.04354197 0.03322265 0.01537782 0.04101048 0.0021717  0.02565305\n",
      " 0.03429148 0.05312684 0.0504157  0.02429601 0.02467978 0.04300699\n",
      " 0.01952815]\n",
      "[0.31830989 0.20662342 0.05764291 0.06774121 0.17836935 0.1054213\n",
      " 0.01103365 0.05991077 0.05436236 0.12964278 0.05226096 0.05344132\n",
      " 0.08455279 0.12803766 0.00879016 0.09714594 0.08488875 0.09558788\n",
      " 0.08573012 0.01570547 0.0829453  0.04105486 0.01399043 0.02965799\n",
      " 0.03548052]\n",
      "[0.31830989 0.37155512 0.17039085 0.09732756 0.15730557 0.27533392\n",
      " 0.25732864 0.34497387 0.42729539 0.13927872 0.25126341 0.23925812\n",
      " 0.1759722  0.12542315 0.05960847 0.12953725 0.31909166 0.25447524\n",
      " 0.26101989 0.34763449 0.21404981 0.21221871 0.19883802 0.24481298\n",
      " 0.27577949]\n",
      "[0.31830989 0.13408387 0.17970634 0.03785791 0.05228373 0.05715645\n",
      " 0.0989375  0.13623516 0.07408299 0.04104954 0.06359193 0.08348021\n",
      " 0.00950417 0.04464795 0.0553194  0.07927304 0.01818434 0.01436717\n",
      " 0.02954423 0.01017827 0.01894456 0.02009444 0.08146703 0.04607254\n",
      " 0.07267742]\n",
      "[0.31830989 0.14824185 0.1121447  0.13295464 0.03611436 0.0895006\n",
      " 0.06033956 0.07454417 0.05986507 0.012234   0.02104939 0.02178582\n",
      " 0.0127122  0.03513197 0.05981805 0.03145636 0.00865529 0.01523335\n",
      " 0.01203132 0.04182998 0.06041233 0.04385517 0.0510714  0.02471355\n",
      " 0.05472659]\n",
      "[0.31830989 0.2429208  0.18888229 0.08783707 0.26531895 0.2020943\n",
      " 0.05346901 0.01748736 0.1787789  0.19085393 0.07659822 0.03585091\n",
      " 0.23888935 0.016465   0.10328211 0.09946679 0.03675991 0.14640127\n",
      " 0.08862778 0.13218011 0.09905675 0.0259521  0.02646018 0.04371798\n",
      " 0.07800945]\n",
      "[0.31830989 0.36397337 0.35577536 0.12946063 0.08072336 0.0793769\n",
      " 0.17400565 0.12457435 0.13612001 0.2370499  0.07046887 0.21153896\n",
      " 0.21846602 0.08632327 0.17438644 0.03825601 0.08503851 0.15686939\n",
      " 0.08624278 0.18537631 0.10823384 0.13031358 0.06789678 0.16182654\n",
      " 0.07776238]\n",
      "[0.31830989 0.18162262 0.22963803 0.08478199 0.1963236  0.14686155\n",
      " 0.16177072 0.0963187  0.1197429  0.10012252 0.07831829 0.11546773\n",
      " 0.05184555 0.08083761 0.08619576 0.08180618 0.08658232 0.04179271\n",
      " 0.09592666 0.07252889 0.01263243 0.06692676 0.0579699  0.04309842\n",
      " 0.04657775]\n",
      "[0.31830989 0.00111876 0.00233156 0.00179669 0.0023149  0.00091195\n",
      " 0.00349564 0.00295295 0.00356356 0.00365198 0.0013329  0.00155245\n",
      " 0.00404476 0.00404439 0.0046986  0.00098866 0.0051642  0.0017492\n",
      " 0.00197986 0.00102147 0.00368538 0.00504078 0.00546798 0.00128548\n",
      " 0.00168314]\n",
      "[0.31830989 0.07535147 0.18465812 0.24491399 0.02864887 0.04308633\n",
      " 0.11124241 0.17958538 0.07381253 0.03702612 0.02782412 0.08637544\n",
      " 0.07600247 0.08447702 0.03190823 0.03950131 0.01692993 0.02692933\n",
      " 0.05637874 0.03898476 0.03318738 0.03273342 0.0353313  0.01583121\n",
      " 0.01971593]\n",
      "[0.31830989 0.11858096 0.20858704 0.16151846 0.13233674 0.11051447\n",
      " 0.07837152 0.04715057 0.0850692  0.08283126 0.10391906 0.14936451\n",
      " 0.01582622 0.05237474 0.08625417 0.06572985 0.00666279 0.07379549\n",
      " 0.05535784 0.05630333 0.00331169 0.02286732 0.05078952 0.05384359\n",
      " 0.01476592]\n",
      "[0.31830989 0.00830592 0.00812913 0.0120413  0.00877065 0.00906367\n",
      " 0.00385215 0.00956129 0.01172151 0.00460467 0.00257622 0.01165138\n",
      " 0.00255383 0.00591022 0.00235985 0.00889687 0.006391   0.0078424\n",
      " 0.00828579 0.00728876 0.00455159 0.00723082 0.00119119 0.00320915\n",
      " 0.01395487]\n",
      "[0.31830989 0.00152085 0.00303639 0.00202227 0.00313083 0.0040178\n",
      " 0.00493593 0.00322652 0.00059255 0.00492317 0.00620252 0.00746408\n",
      " 0.00662634 0.00420111 0.00114273 0.00401841 0.00698895 0.00853785\n",
      " 0.01022432 0.00112191 0.00798518 0.00483262 0.00209989 0.00502818\n",
      " 0.00641088]\n",
      "[0.31830989 0.15243283 0.18276717 0.19328585 0.17643383 0.17610018\n",
      " 0.05011809 0.05315749 0.05503743 0.10368864 0.1028386  0.08962551\n",
      " 0.01106388 0.04052413 0.04838958 0.04265893 0.03507937 0.03815021\n",
      " 0.01384994 0.03510857 0.01033134 0.01770696 0.04036942 0.0419249\n",
      " 0.03197585]\n",
      "[0.31830989 0.03040211 0.05326611 0.05351469 0.01137641 0.01975062\n",
      " 0.01080308 0.01868639 0.03051286 0.01216962 0.0243711  0.05498089\n",
      " 0.00921598 0.01292047 0.02037504 0.0326265  0.01003535 0.01186006\n",
      " 0.00519025 0.0226454  0.00722845 0.00519339 0.01201477 0.01377094\n",
      " 0.01522418]\n",
      "[0.31830989 0.24284702 0.0946637  0.1395107  0.26809246 0.31267543\n",
      " 0.10942303 0.07155794 0.12951019 0.15532013 0.18822417 0.14546161\n",
      " 0.17798368 0.16789522 0.18913813 0.18001883 0.0193434  0.03570421\n",
      " 0.03264588 0.03401759 0.13270966 0.15141669 0.12040528 0.10028737\n",
      " 0.09888563]\n",
      "[0.31830989 0.04171088 0.02548213 0.04395591 0.00210346 0.03084328\n",
      " 0.00980385 0.0144163  0.02915256 0.00822039 0.03100544 0.02080894\n",
      " 0.00203914 0.00338117 0.02747769 0.02530331 0.01193876 0.00777125\n",
      " 0.02105613 0.02612323 0.00196474 0.00705628 0.01603967 0.01920533\n",
      " 0.0277353 ]\n",
      "[3.18309886e-01 1.24578999e-03 1.18301266e-04 1.60095530e-03\n",
      " 2.50627332e-03 1.38713534e-03 1.79300026e-04 2.70937494e-03\n",
      " 5.05569555e-03 3.78133506e-03 2.12750826e-03 2.84433584e-03\n",
      " 1.94864230e-04 3.90971241e-03 6.85778542e-03 3.93546429e-03\n",
      " 5.03810746e-03 2.94017674e-03 4.26659694e-03 6.79576940e-03\n",
      " 1.13340406e-04 5.29977050e-03 8.43931025e-03 5.22383723e-03\n",
      " 6.06081147e-03]\n",
      "[0.31830989 0.08868767 0.0723419  0.10202765 0.00977753 0.01907961\n",
      " 0.00756366 0.01869192 0.01417347 0.01960592 0.05182105 0.04993908\n",
      " 0.00074659 0.02035189 0.01746168 0.01292564 0.00705238 0.0261849\n",
      " 0.02490656 0.01273972 0.03117523 0.0142474  0.04030665 0.00970905\n",
      " 0.01537128]\n",
      "[0.31830989 0.00115362 0.0004089  0.00137781 0.00234387 0.00115149\n",
      " 0.00076105 0.00214262 0.00150009 0.00359266 0.00160869 0.00362128\n",
      " 0.00122258 0.00268951 0.00222806 0.00689039 0.00489082 0.0019662\n",
      " 0.0053096  0.01042678 0.00181698 0.00301514 0.00315477 0.00798006\n",
      " 0.00272451]\n",
      "[0.31830989 0.23323597 0.04290726 0.12993672 0.2505578  0.17579415\n",
      " 0.07558794 0.12344467 0.06886532 0.07953396 0.09618655 0.04751607\n",
      " 0.04457865 0.16522786 0.06461257 0.13159435 0.11365156 0.0782982\n",
      " 0.14016748 0.06339989 0.05002446 0.0300449  0.0912816  0.06536634\n",
      " 0.07231047]\n",
      "[0.31830989 0.19289596 0.0312221  0.09085403 0.11772176 0.08851893\n",
      " 0.04298909 0.05026117 0.04963126 0.06083918 0.02631743 0.06145808\n",
      " 0.02584128 0.04271285 0.01262604 0.03409488 0.01011212 0.02232036\n",
      " 0.03260319 0.06286995 0.06988867 0.05403112 0.0263854  0.03363411\n",
      " 0.05793359]\n",
      "[0.31830989 0.00091768 0.00175391 0.00266994 0.00182578 0.00362885\n",
      " 0.00290277 0.00442516 0.00214592 0.00272462 0.00571839 0.00466043\n",
      " 0.00401625 0.00613949 0.00291514 0.00355755 0.00362516 0.00808538\n",
      " 0.00649301 0.0076114  0.00507    0.00779507 0.00359107 0.00513407\n",
      " 0.00432442]\n",
      "[0.31830989 0.00130555 0.00235248 0.00217813 0.00273621 0.00312631\n",
      " 0.00382797 0.00353823 0.00077035 0.00441329 0.00487644 0.00610347\n",
      " 0.00514516 0.00475271 0.00079298 0.0024848  0.00644141 0.00679077\n",
      " 0.00839379 0.00224973 0.00620747 0.00575457 0.00061936 0.00310352\n",
      " 0.00599205]\n",
      "[0.31830989 0.16390432 0.13575665 0.12719593 0.09648169 0.1598123\n",
      " 0.00821885 0.06200828 0.01926687 0.0474446  0.0407932  0.05417294\n",
      " 0.03617967 0.0491415  0.0106665  0.02165819 0.06420368 0.0284888\n",
      " 0.01626398 0.04767754 0.02873163 0.03098832 0.01917266 0.02594566\n",
      " 0.01224665]\n",
      "[0.31830989 0.14849378 0.07343948 0.08355819 0.04389113 0.030928\n",
      " 0.0008066  0.04492773 0.02107518 0.02990719 0.02534389 0.00852481\n",
      " 0.02409461 0.04291431 0.00897716 0.02798998 0.01428493 0.03398234\n",
      " 0.00736847 0.01166276 0.05225109 0.01314513 0.05410125 0.03359433\n",
      " 0.016418  ]\n",
      "[0.31830989 0.00053043 0.00105575 0.00132703 0.00110567 0.00274278\n",
      " 0.00170038 0.00227081 0.0033093  0.00176165 0.00448497 0.0007271\n",
      " 0.00224427 0.00332778 0.0045206  0.00153885 0.00250671 0.00662493\n",
      " 0.0009432  0.00943249 0.00262615 0.00457982 0.00563455 0.00233511\n",
      " 0.00262264]\n",
      "[0.31830989 0.00297218 0.00437206 0.00463101 0.00469679 0.00835299\n",
      " 0.00490502 0.00612871 0.00673132 0.00530857 0.00951221 0.00269597\n",
      " 0.00342376 0.00680493 0.00573756 0.00801049 0.00645657 0.00932888\n",
      " 0.00189244 0.00719406 0.00096045 0.00733708 0.00389185 0.00760106\n",
      " 0.00525341]\n",
      "[0.31830989 0.00280649 0.00100211 0.00166626 0.00568868 0.00077962\n",
      " 0.0014295  0.00269013 0.00565937 0.00870226 0.00118973 0.0007471\n",
      " 0.0014758  0.00357041 0.0076497  0.00213272 0.01186098 0.00166377\n",
      " 0.00133785 0.00399246 0.00095667 0.00422682 0.00929843 0.00294314\n",
      " 0.00214767]\n",
      "[0.31830989 0.02880064 0.03914942 0.04460802 0.0149182  0.02704302\n",
      " 0.01134921 0.01372607 0.03861115 0.01069639 0.01301133 0.02478717\n",
      " 0.00430902 0.01006653 0.00451782 0.02032846 0.01170122 0.0204596\n",
      " 0.00700109 0.01135068 0.00639333 0.00795949 0.01114204 0.00941685\n",
      " 0.00944852]\n",
      "[0.31830989 0.11895678 0.096099   0.07630765 0.03382211 0.03404777\n",
      " 0.00578771 0.03736603 0.04894265 0.02123687 0.00634617 0.01812936\n",
      " 0.05776227 0.02260149 0.03361385 0.04597447 0.03102172 0.05000215\n",
      " 0.02173931 0.0134756  0.010949   0.02701778 0.03823921 0.01228525\n",
      " 0.04339381]\n",
      "[0.31830989 0.01558342 0.08242669 0.08411078 0.01100944 0.02638272\n",
      " 0.00440596 0.01177743 0.01200613 0.01059863 0.01016894 0.02571957\n",
      " 0.02685751 0.01693083 0.02818996 0.00774253 0.02125597 0.02308692\n",
      " 0.03401367 0.05816002 0.00666158 0.0111355  0.00979396 0.0235236\n",
      " 0.03544944]\n",
      "[0.31830989 0.00075336 0.00356314 0.0033568  0.00134604 0.00397539\n",
      " 0.00532841 0.00508912 0.00268853 0.0019166  0.00654907 0.00727167\n",
      " 0.00643611 0.00634705 0.00338355 0.00284921 0.00284253 0.00954408\n",
      " 0.00906065 0.00296017 0.00692287 0.00729561 0.00367897 0.00311674\n",
      " 0.00897593]\n",
      "[0.31830989 0.00140908 0.00094912 0.00296122 0.00277779 0.00291124\n",
      " 0.00142582 0.00463799 0.00139428 0.00407607 0.00440499 0.00471082\n",
      " 0.00166108 0.00583536 0.00183876 0.0065066  0.00529447 0.00589792\n",
      " 0.00633801 0.00470783 0.00154785 0.0063034  0.00213767 0.00737875\n",
      " 0.00978271]\n",
      "[0.31830989 0.04151183 0.01860884 0.05457473 0.04925406 0.02743284\n",
      " 0.13072399 0.14948749 0.16890094 0.0263221  0.08975852 0.01816964\n",
      " 0.09262877 0.15667489 0.10870507 0.17228188 0.02279812 0.08629973\n",
      " 0.02443192 0.01131415 0.05038128 0.06131112 0.0186579  0.08193781\n",
      " 0.04396045]\n",
      "[0.31830989 0.34499159 0.11235392 0.13349764 0.21615759 0.28288899\n",
      " 0.23768168 0.32691397 0.25586941 0.09959219 0.14595996 0.0435065\n",
      " 0.04859484 0.16708847 0.12562377 0.19034547 0.15616225 0.28479264\n",
      " 0.19637876 0.13604959 0.08906286 0.12010738 0.15180011 0.09695187\n",
      " 0.06504022]\n",
      "[0.31830989 0.00104564 0.00096653 0.00345352 0.00214347 0.0036824\n",
      " 0.00151181 0.00552588 0.00081419 0.00335667 0.0056179  0.00645424\n",
      " 0.00189722 0.00722754 0.00096563 0.00267304 0.00475809 0.00761244\n",
      " 0.00881404 0.0053208  0.00204063 0.00836507 0.00091308 0.0032504\n",
      " 0.00654053]\n",
      "[0.31830989 0.06124798 0.04211422 0.06561538 0.01664753 0.05102414\n",
      " 0.0151757  0.00554988 0.02988091 0.02127568 0.01949503 0.0066073\n",
      " 0.01141964 0.01741269 0.02288713 0.01073324 0.01120354 0.01226345\n",
      " 0.02055469 0.00907975 0.01057294 0.01874997 0.01401889 0.00989527\n",
      " 0.01356006]\n",
      "[0.31830989 0.04294372 0.05485707 0.08091432 0.01038099 0.03577885\n",
      " 0.00233079 0.00236813 0.04872553 0.00353512 0.02782956 0.02499701\n",
      " 0.00333541 0.0093332  0.02714589 0.03207141 0.00942974 0.00503135\n",
      " 0.02628367 0.00821855 0.0048715  0.00778928 0.00688334 0.00636389\n",
      " 0.02519408]\n",
      "[0.31830989 0.17541215 0.07296366 0.06398772 0.04477568 0.03249451\n",
      " 0.01905038 0.08064908 0.03711131 0.01775438 0.01951578 0.01748554\n",
      " 0.06103761 0.01770465 0.03216988 0.01534852 0.01421108 0.01057985\n",
      " 0.04178719 0.0117318  0.03403354 0.02402226 0.02925984 0.01935011\n",
      " 0.00296662]\n",
      "[0.31830989 0.06412414 0.06026239 0.03810859 0.02894107 0.02094732\n",
      " 0.01760869 0.03764943 0.05127175 0.02609625 0.03260882 0.03621099\n",
      " 0.02266116 0.01228859 0.0166673  0.02896021 0.01147851 0.01531738\n",
      " 0.01255762 0.02304132 0.0075796  0.0246011  0.01724417 0.02085037\n",
      " 0.01972248]\n",
      "[0.31830989 0.001923   0.00038782 0.00115185 0.00387748 0.00272438\n",
      " 0.00065507 0.00180435 0.00601508 0.00587872 0.0041421  0.00314402\n",
      " 0.00092403 0.00229279 0.00816598 0.00448698 0.00790722 0.0056267\n",
      " 0.00481078 0.00893373 0.00117403 0.00261192 0.01005466 0.00587452\n",
      " 0.00488375]\n",
      "[0.31830989 0.08263843 0.10384685 0.16308275 0.05581558 0.08604178\n",
      " 0.07042885 0.05331028 0.05193888 0.02619857 0.08007037 0.00560196\n",
      " 0.02702316 0.07290858 0.02806037 0.02005964 0.0125474  0.03659395\n",
      " 0.01764984 0.0363998  0.02454809 0.01427756 0.01410559 0.02813463\n",
      " 0.01426456]\n",
      "[3.18309886e-01 2.37377271e-03 1.03720966e-03 2.23283936e-03\n",
      " 4.80852135e-03 2.92773807e-03 1.60628268e-03 3.56813457e-03\n",
      " 1.17838518e-03 7.34481987e-03 4.76685343e-03 1.57132947e-04\n",
      " 1.97552924e-03 4.67725261e-03 1.43332410e-03 7.02023218e-03\n",
      " 9.97976504e-03 7.02244418e-03 2.44431084e-04 2.66225473e-03\n",
      " 2.03815744e-03 5.47986077e-03 1.52388168e-03 9.28093513e-03\n",
      " 7.67106623e-03]\n",
      "[0.31830989 0.39013865 0.25776269 0.18538524 0.02364016 0.06413672\n",
      " 0.16665262 0.08909129 0.15405807 0.12253019 0.10293039 0.07401582\n",
      " 0.00130167 0.0144783  0.05277265 0.05050634 0.08152715 0.08579883\n",
      " 0.01510876 0.07837149 0.0864624  0.02097181 0.10686685 0.01355074\n",
      " 0.01229105]\n",
      "[0.31830989 0.12392575 0.06742298 0.08687399 0.02281639 0.02583542\n",
      " 0.04292675 0.03967451 0.023621   0.02595347 0.03402289 0.01275407\n",
      " 0.01970509 0.02421664 0.01774424 0.02898264 0.02456302 0.0267149\n",
      " 0.01375704 0.03187635 0.01050512 0.0158436  0.00886495 0.00788567\n",
      " 0.0148355 ]\n",
      "[0.31830989 0.0672683  0.1005403  0.13048399 0.02024327 0.05679028\n",
      " 0.032627   0.03541025 0.02706471 0.01802254 0.03553792 0.02300707\n",
      " 0.00095588 0.03342754 0.02084142 0.03157252 0.03096303 0.01071889\n",
      " 0.02897915 0.03491934 0.02683058 0.02297708 0.02534084 0.02763993\n",
      " 0.00581428]\n",
      "[0.31830989 0.03930813 0.09919195 0.09457762 0.0152036  0.00529568\n",
      " 0.00951604 0.02379228 0.00721806 0.03292946 0.01200362 0.02308863\n",
      " 0.01971672 0.02002198 0.00874105 0.03935642 0.00907902 0.01063219\n",
      " 0.02242403 0.02391179 0.00895156 0.01508716 0.009883   0.01798932\n",
      " 0.00507557]\n",
      "[0.31830989 0.08225761 0.09469765 0.14829444 0.07035139 0.06551079\n",
      " 0.03734457 0.06091011 0.02364127 0.02013428 0.01653713 0.05382549\n",
      " 0.01255528 0.00847307 0.00512412 0.0165281  0.03767517 0.04618107\n",
      " 0.01899268 0.02560357 0.0158882  0.03401608 0.01640179 0.03203705\n",
      " 0.05339548]\n",
      "[3.18309886e-01 2.41157077e-03 3.04420784e-04 1.34905689e-03\n",
      " 4.89676276e-03 1.68656697e-03 2.34740319e-04 2.14299583e-03\n",
      " 4.38325920e-03 7.50963869e-03 2.34406441e-03 8.15232998e-04\n",
      " 2.65032135e-04 2.77366786e-03 5.85511899e-03 2.51503883e-03\n",
      " 1.02630229e-02 2.82171011e-03 1.41253338e-03 5.17303739e-03\n",
      " 1.40074656e-03 3.16769602e-03 6.99204826e-03 3.36387890e-03\n",
      " 3.17236963e-03]\n",
      "[0.31830989 0.0018875  0.00171915 0.0015036  0.00381371 0.00153756\n",
      " 0.00297898 0.00236102 0.00495377 0.00579655 0.00211928 0.00260299\n",
      " 0.00442403 0.00298226 0.00659625 0.00234169 0.0078103  0.00249638\n",
      " 0.00284519 0.0101395  0.00615275 0.00324152 0.00785491 0.00336891\n",
      " 0.00352734]\n",
      "[0.31830989 0.01486679 0.03562434 0.0490381  0.00183604 0.02099667\n",
      " 0.00058776 0.01326498 0.03133726 0.00844412 0.01530883 0.03214169\n",
      " 0.01630712 0.01149046 0.01158507 0.00683915 0.00699618 0.00811997\n",
      " 0.02872263 0.04526045 0.00324861 0.01271544 0.01762643 0.01109672\n",
      " 0.01202573]\n",
      "[0.31830989 0.14820881 0.09015823 0.09101268 0.06053275 0.05403206\n",
      " 0.02334661 0.02823756 0.02980466 0.01107112 0.0110398  0.00849243\n",
      " 0.03655136 0.03623836 0.05575138 0.02066847 0.02579116 0.02693215\n",
      " 0.03333531 0.02803535 0.04465924 0.02658671 0.05147545 0.0216189\n",
      " 0.03609704]\n",
      "[0.31830989 0.05380268 0.14853546 0.15374956 0.03981896 0.05203263\n",
      " 0.02078714 0.02677188 0.02725649 0.0184385  0.02862623 0.02296743\n",
      " 0.02294056 0.0320254  0.03682827 0.02008588 0.04517919 0.04399085\n",
      " 0.01008045 0.01366762 0.01123696 0.02898915 0.01502606 0.0109524\n",
      " 0.05713095]\n",
      "[0.31830989 0.04631417 0.10922125 0.09300007 0.01261129 0.01497071\n",
      " 0.03041823 0.01714101 0.0086857  0.02748508 0.0203803  0.02540114\n",
      " 0.01034564 0.02586708 0.02010724 0.02089383 0.00893607 0.0173702\n",
      " 0.03765527 0.05134036 0.00844714 0.0078928  0.01382788 0.02960017\n",
      " 0.03676882]\n",
      "[0.31830989 0.00259157 0.00099664 0.00167078 0.00525978 0.0007783\n",
      " 0.00140184 0.00271236 0.00565635 0.00806192 0.00116081 0.00072083\n",
      " 0.00139714 0.00363446 0.00763509 0.00213008 0.0110145  0.00158513\n",
      " 0.00124471 0.00399409 0.00078505 0.0043704  0.00925957 0.00293492\n",
      " 0.00216408]\n",
      "[3.18309886e-01 1.24906133e-04 2.42800720e-03 2.32264602e-03\n",
      " 1.85365350e-04 5.70016087e-03 3.98497202e-03 3.94922354e-03\n",
      " 2.65755313e-03 2.01102195e-04 8.90728472e-03 3.17206342e-03\n",
      " 5.44189564e-03 5.68919172e-03 3.69013169e-03 1.82395668e-03\n",
      " 3.99977227e-04 1.24835310e-02 4.49448818e-03 6.39408903e-03\n",
      " 6.74472412e-03 7.57772024e-03 4.69764743e-03 2.84574595e-03\n",
      " 1.68132077e-03]\n",
      "[0.31830989 0.00086235 0.00036946 0.00307954 0.00184595 0.0033268\n",
      " 0.00056705 0.00522697 0.00071069 0.0030565  0.00529965 0.00511586\n",
      " 0.00069274 0.00750368 0.00094064 0.00128145 0.00456356 0.00757775\n",
      " 0.00708531 0.00622292 0.00071895 0.00993446 0.00110682 0.00110879\n",
      " 0.00342507]\n",
      "[0.31830989 0.09238918 0.11424209 0.1239738  0.02534284 0.01630407\n",
      " 0.01053714 0.01130344 0.00741299 0.04588371 0.04184571 0.04940571\n",
      " 0.00934155 0.00343518 0.00514347 0.00839859 0.02585574 0.01541205\n",
      " 0.031198   0.02256735 0.02844202 0.00975963 0.01080015 0.01777591\n",
      " 0.01235814]\n",
      "[0.31830989 0.11246661 0.087578   0.06067091 0.02518954 0.01711702\n",
      " 0.0274353  0.0247747  0.04322032 0.03455015 0.00623901 0.03695915\n",
      " 0.00082896 0.00915962 0.04652346 0.00806514 0.01237874 0.020963\n",
      " 0.03836239 0.01439674 0.03023404 0.00697308 0.00439098 0.01869028\n",
      " 0.0197153 ]\n",
      "[0.31830989 0.06406718 0.0704549  0.05398512 0.02908547 0.02216701\n",
      " 0.00974564 0.01048514 0.02479843 0.02252008 0.00679697 0.02178841\n",
      " 0.00787087 0.00941601 0.0126687  0.01029222 0.00998499 0.01142738\n",
      " 0.01929903 0.01399373 0.0120928  0.00752423 0.00564843 0.02367785\n",
      " 0.03258537]\n",
      "[3.18309886e-01 1.43513846e-04 1.74106694e-03 2.43442265e-03\n",
      " 3.73047764e-04 4.79507544e-03 2.83833705e-03 4.15520512e-03\n",
      " 1.61307151e-03 7.70771669e-04 7.54684726e-03 3.98145014e-03\n",
      " 3.83506421e-03 6.01360433e-03 2.26403667e-03 7.22852708e-04\n",
      " 1.38343116e-03 1.06614774e-02 5.58040107e-03 6.16898098e-03\n",
      " 4.68063417e-03 8.04407078e-03 2.92356398e-03 9.97263211e-04\n",
      " 3.60119719e-03]\n",
      "[0.31830989 0.00150461 0.00234984 0.00217715 0.00312422 0.00312408\n",
      " 0.00381453 0.00352937 0.00077    0.00497163 0.00486727 0.0061021\n",
      " 0.00510651 0.00472482 0.00078111 0.00249912 0.00714646 0.00676777\n",
      " 0.00839664 0.0022511  0.00612191 0.00569227 0.00060435 0.00314954\n",
      " 0.00599349]\n",
      "[0.31830989 0.00196939 0.00106907 0.00210713 0.00395683 0.00270374\n",
      " 0.00176671 0.00349547 0.00368293 0.0059626  0.00404938 0.00133165\n",
      " 0.00242868 0.00487705 0.00495364 0.00348085 0.00794963 0.00540467\n",
      " 0.00249749 0.01077963 0.00301698 0.00629888 0.00605784 0.00452661\n",
      " 0.0048495 ]\n",
      "[0.31830989 0.00120392 0.00040471 0.00284775 0.00251108 0.00308991\n",
      " 0.00074589 0.00455884 0.00084012 0.00402122 0.00476107 0.0058841\n",
      " 0.00120377 0.00596867 0.00102492 0.00292063 0.00581903 0.0065296\n",
      " 0.00808933 0.00850322 0.00184046 0.00692395 0.00102931 0.00416347\n",
      " 0.0025043 ]\n",
      "[0.31830989 0.00051942 0.00036723 0.00307849 0.00115106 0.00333344\n",
      " 0.00055523 0.00523037 0.00071967 0.00199307 0.00532887 0.00511817\n",
      " 0.00065705 0.00751936 0.00099264 0.0012621  0.0031083  0.00765328\n",
      " 0.00708709 0.0062284  0.00063558 0.0099735  0.00124512 0.00107934\n",
      " 0.0033948 ]\n",
      "[0.31830989 0.0017676  0.00038789 0.00147399 0.00358661 0.0027707\n",
      " 0.00065618 0.00254756 0.00463587 0.00549149 0.00425044 0.00539574\n",
      " 0.00093003 0.00377541 0.00626003 0.0043886  0.00748033 0.00583827\n",
      " 0.00768071 0.00758839 0.00119435 0.00525679 0.00764744 0.00570242\n",
      " 0.00666334]\n",
      "[0.31830989 0.00140725 0.00111183 0.00182587 0.00285523 0.00210764\n",
      " 0.00198254 0.00294142 0.00310638 0.00437309 0.00328352 0.00567958\n",
      " 0.00304027 0.00393607 0.00444785 0.00802804 0.00596538 0.00459724\n",
      " 0.00799282 0.00652215 0.00434359 0.00486795 0.0058922  0.00915689\n",
      " 0.0051899 ]\n",
      "[0.31830989 0.00136459 0.00104926 0.00045012 0.00278144 0.00174945\n",
      " 0.00166738 0.00073357 0.00328354 0.00428346 0.00301376 0.00172811\n",
      " 0.00214963 0.00110227 0.00446896 0.00423332 0.00586195 0.00470111\n",
      " 0.0021683  0.00937924 0.00241821 0.00174478 0.0055397  0.00578093\n",
      " 0.00716017]\n",
      "[0.31830989 0.00130463 0.0010894  0.00157921 0.00262374 0.00330782\n",
      " 0.00187035 0.00262062 0.00151452 0.0039649  0.00511426 0.00696642\n",
      " 0.00272633 0.00366731 0.00192372 0.00653875 0.00531814 0.00708136\n",
      " 0.00975857 0.00310994 0.00367267 0.00478489 0.00214959 0.0083184\n",
      " 0.00296124]\n",
      "[0.31830989 0.0700459  0.21302917 0.20801495 0.08550115 0.08445782\n",
      " 0.11527382 0.05076371 0.12966959 0.04770305 0.05027239 0.05446451\n",
      " 0.03696983 0.01575583 0.10594914 0.00935306 0.03151316 0.04120351\n",
      " 0.02226546 0.02633552 0.00634778 0.0067352  0.06789235 0.04268581\n",
      " 0.02346453]\n",
      "[0.31830989 0.00636879 0.0127602  0.0163576  0.00756055 0.01294141\n",
      " 0.01283989 0.01812931 0.01700173 0.00223265 0.00929589 0.01320212\n",
      " 0.00658972 0.01278219 0.00958078 0.01876797 0.00630959 0.0017477\n",
      " 0.00401776 0.01213338 0.0008371  0.00614087 0.00069468 0.00738368\n",
      " 0.01597942]\n",
      "[0.31830989 0.11220174 0.13620509 0.16412067 0.09662946 0.08011099\n",
      " 0.04866714 0.03355405 0.03654677 0.02887393 0.02726262 0.029449\n",
      " 0.02621252 0.0282972  0.01075413 0.0208624  0.03096329 0.03837389\n",
      " 0.04063249 0.03329006 0.01941422 0.02961254 0.02772364 0.0234001\n",
      " 0.01585125]\n",
      "[0.31830989 0.07016744 0.23029251 0.11639751 0.05013189 0.06235837\n",
      " 0.03980855 0.02086611 0.11705642 0.03824045 0.02992881 0.02506141\n",
      " 0.04092722 0.0431539  0.06493734 0.03137752 0.05558023 0.00425652\n",
      " 0.01067782 0.03482568 0.05137276 0.02146844 0.00638615 0.03878101\n",
      " 0.02337585]\n",
      "[0.31830989 0.00138887 0.00233475 0.00179552 0.00285565 0.00091434\n",
      " 0.0035119  0.00294848 0.0035621  0.00446379 0.00133743 0.00155678\n",
      " 0.00409151 0.0040326  0.00469641 0.00099044 0.00624609 0.00176396\n",
      " 0.00199777 0.00102515 0.00378867 0.00501571 0.00546753 0.0012963\n",
      " 0.00167957]\n",
      "[0.31830989 0.0015593  0.00037741 0.0030808  0.00323031 0.00331702\n",
      " 0.00060778 0.00522082 0.00069769 0.00511529 0.0052571  0.00511242\n",
      " 0.00081062 0.00747885 0.00086437 0.00131069 0.00728999 0.00746917\n",
      " 0.00708336 0.00621487 0.00098166 0.00987775 0.00090377 0.00116872\n",
      " 0.00347037]\n",
      "[0.31830989 0.00274045 0.00035848 0.00267651 0.00554574 0.00096583\n",
      " 0.00078158 0.00431542 0.00488101 0.00846029 0.00169617 0.00072085\n",
      " 0.00149942 0.0057366  0.00648901 0.00327774 0.0114852  0.00276023\n",
      " 0.00095594 0.00664752 0.00266006 0.00685603 0.00769622 0.00445023\n",
      " 0.00453565]\n",
      "[0.31830989 0.15815727 0.10160131 0.22791354 0.19758406 0.22587871\n",
      " 0.02512802 0.09766928 0.0258422  0.19928255 0.19826519 0.19454376\n",
      " 0.07086805 0.06878771 0.03264806 0.1127872  0.10474992 0.14378081\n",
      " 0.06658287 0.08969985 0.06008122 0.13358033 0.04431287 0.10140294\n",
      " 0.03540609]\n",
      "[0.31830989 0.01324833 0.01459727 0.02076202 0.01174749 0.01960432\n",
      " 0.00591365 0.0146774  0.02400793 0.00200174 0.01039925 0.02370496\n",
      " 0.00747823 0.00393274 0.00789802 0.02009292 0.01280182 0.01441114\n",
      " 0.00599055 0.02204032 0.01182305 0.0023969  0.00166891 0.01128812\n",
      " 0.01940367]\n",
      "[0.31830989 0.0006446  0.00036791 0.00307889 0.00140795 0.00333075\n",
      " 0.00055893 0.00522886 0.00071602 0.00239238 0.00531702 0.00511723\n",
      " 0.00066844 0.00751258 0.00097156 0.00126991 0.00366294 0.00762258\n",
      " 0.00708633 0.00622618 0.00066275 0.00995662 0.00118905 0.00109071\n",
      " 0.00340704]\n",
      "[0.31830989 0.0870432  0.10324718 0.1360192  0.05050148 0.06986705\n",
      " 0.02544912 0.0623754  0.0139831  0.01344586 0.03621745 0.03737098\n",
      " 0.01444537 0.01533858 0.02414885 0.04043903 0.02011036 0.04327324\n",
      " 0.0271184  0.02898197 0.01510816 0.01940668 0.01816415 0.04846088\n",
      " 0.02194823]\n",
      "[0.31830989 0.17995023 0.03788445 0.17136272 0.16781254 0.10956527\n",
      " 0.00383471 0.02479513 0.09952654 0.08507002 0.09395477 0.01637256\n",
      " 0.03681462 0.02696387 0.01019038 0.0803398  0.05958038 0.05677499\n",
      " 0.02706889 0.04151114 0.03200115 0.02962147 0.00761985 0.09037548\n",
      " 0.04057917]\n",
      "[0.31830989 0.00096502 0.00093491 0.00255659 0.00194993 0.0020697\n",
      " 0.00135817 0.00398163 0.00555831 0.00297183 0.00314691 0.00433217\n",
      " 0.00148555 0.00496301 0.00791601 0.01004428 0.00404211 0.00426635\n",
      " 0.00593127 0.00479748 0.00120998 0.0053025  0.01036888 0.01135156\n",
      " 0.00775754]\n",
      "[0.31830989 0.00092233 0.00370734 0.00190313 0.0019318  0.00360637\n",
      " 0.00596863 0.00315339 0.001901   0.0031192  0.0055191  0.00570532\n",
      " 0.0078651  0.00437206 0.00176264 0.00211765 0.00457393 0.00752284\n",
      " 0.00775546 0.00395125 0.00916051 0.00553968 0.00077384 0.00280786\n",
      " 0.0066928 ]\n",
      "[0.31830989 0.00185231 0.00040555 0.00080994 0.00374213 0.00213639\n",
      " 0.00064651 0.00139911 0.00480634 0.00568939 0.00318101 0.00414579\n",
      " 0.00086419 0.00208855 0.00651146 0.00289102 0.00767744 0.0042285\n",
      " 0.00605956 0.00708533 0.00108699 0.00298524 0.00797644 0.00389865\n",
      " 0.00461623]\n",
      "[3.18309886e-01 9.36559626e-05 1.74101122e-03 2.43443091e-03\n",
      " 2.83617867e-04 4.79583670e-03 2.83801454e-03 4.15707538e-03\n",
      " 1.61555694e-03 6.49757658e-04 7.55090938e-03 3.98062397e-03\n",
      " 3.83399163e-03 6.02009000e-03 2.27076612e-03 7.19934869e-04\n",
      " 1.23366400e-03 1.06723903e-02 5.57720724e-03 6.16859656e-03\n",
      " 4.67791345e-03 8.05888542e-03 2.93864591e-03 9.85194804e-04\n",
      " 3.59767101e-03]\n",
      "[0.31830989 0.03536557 0.13806362 0.1180424  0.02011037 0.02977342\n",
      " 0.01964349 0.01535222 0.0763208  0.00243415 0.01869372 0.06453361\n",
      " 0.01808699 0.00934114 0.01860406 0.05643741 0.01842335 0.02243078\n",
      " 0.05966693 0.05628299 0.02684244 0.00856515 0.02744397 0.02409016\n",
      " 0.05021536]\n",
      "[3.18309886e-01 9.11860384e-04 1.99820394e-04 2.51712387e-03\n",
      " 1.98117180e-03 2.89297060e-03 5.18019790e-04 4.16627008e-03\n",
      " 1.82339109e-03 3.33981472e-03 4.54364542e-03 2.27902336e-03\n",
      " 1.06615509e-03 5.77739161e-03 2.45384673e-03 2.20487320e-03\n",
      " 5.06810130e-03 6.40800884e-03 3.58630333e-03 2.58624026e-03\n",
      " 1.85858831e-03 7.34004564e-03 3.00741166e-03 2.99085969e-03\n",
      " 4.09270610e-03]\n",
      "[0.31830989 0.00181006 0.00173468 0.00175465 0.00367656 0.00180766\n",
      " 0.00305736 0.00279175 0.00401568 0.00563516 0.0025017  0.0032258\n",
      " 0.00464624 0.00361781 0.00532308 0.00081282 0.00767775 0.00298055\n",
      " 0.00408519 0.00491911 0.00663502 0.0041282  0.00628019 0.00136248\n",
      " 0.00417459]\n",
      "[0.31830989 0.01544758 0.01703201 0.01733682 0.01443612 0.01613463\n",
      " 0.00885895 0.00893714 0.01835311 0.00465865 0.00371411 0.02196094\n",
      " 0.00057721 0.00657352 0.00652734 0.00821071 0.00358418 0.00869327\n",
      " 0.00584221 0.00701111 0.0025362  0.00503633 0.00806267 0.01127606\n",
      " 0.00729773]\n",
      "[0.31830989 0.0014336  0.00106983 0.00096986 0.00292324 0.00308766\n",
      " 0.00177157 0.00167447 0.00508658 0.00450699 0.00469699 0.00595125\n",
      " 0.00244643 0.00249465 0.00692246 0.00335107 0.00618447 0.00638974\n",
      " 0.00837933 0.00879776 0.00306551 0.00352931 0.00855733 0.00462832\n",
      " 0.00761661]\n",
      "[3.18309886e-01 1.44229169e-03 3.12419632e-04 8.69227132e-04\n",
      " 2.92734794e-03 2.00207098e-03 5.48781861e-04 1.48445997e-03\n",
      " 4.88734577e-03 4.48058874e-03 3.06334088e-03 4.04027062e-03\n",
      " 8.38510642e-04 2.19534265e-03 6.58342960e-03 2.86454379e-03\n",
      " 6.09017630e-03 4.21062107e-03 5.91102905e-03 7.23750871e-03\n",
      " 1.22358452e-03 3.12450718e-03 8.00958268e-03 3.87265645e-03\n",
      " 4.82505758e-03]\n",
      "[0.31830989 0.00099712 0.00110439 0.00260788 0.0020716  0.00049364\n",
      " 0.00157481 0.00404656 0.00546338 0.00328259 0.00079515 0.00336715\n",
      " 0.00167643 0.00502622 0.00787607 0.0096623  0.00465586 0.00116309\n",
      " 0.00460346 0.00810504 0.00131667 0.00537012 0.01046342 0.01110806\n",
      " 0.00806553]\n",
      "[0.31830989 0.13716513 0.10646576 0.13867538 0.11148676 0.12311678\n",
      " 0.03032634 0.09078407 0.06181004 0.09073151 0.01296141 0.03726049\n",
      " 0.01242863 0.00950189 0.03192011 0.04582806 0.03307305 0.03241444\n",
      " 0.06343311 0.04138994 0.02832133 0.03109254 0.05600429 0.0270566\n",
      " 0.04957169]\n",
      "[0.31830989 0.05812276 0.07999264 0.08905458 0.01591075 0.0175955\n",
      " 0.00381655 0.01294591 0.01372372 0.01473888 0.03767249 0.05836898\n",
      " 0.01273007 0.01861357 0.02173739 0.01015884 0.01199357 0.00819867\n",
      " 0.02482301 0.02883868 0.00602568 0.02314621 0.01542118 0.01459312\n",
      " 0.04285318]\n",
      "[3.18309886e-01 5.15075385e-02 5.73665987e-02 6.72333722e-02\n",
      " 8.16696171e-03 1.15564923e-02 7.21862551e-05 1.77055670e-02\n",
      " 2.33590781e-02 1.70488974e-02 3.64375324e-02 2.21563327e-02\n",
      " 7.19961428e-03 8.63370477e-03 1.81019402e-02 1.48268353e-02\n",
      " 1.42838849e-02 1.46138481e-02 2.28155508e-02 5.01502282e-02\n",
      " 1.69397679e-02 1.58411268e-02 2.12109374e-02 3.07482486e-02\n",
      " 2.82339866e-02]\n",
      "[0.31830989 0.00959003 0.02072388 0.013427   0.00825588 0.01496207\n",
      " 0.01757047 0.00728154 0.01212179 0.0030431  0.00813439 0.02126681\n",
      " 0.00928929 0.00544848 0.00327806 0.02098837 0.00811579 0.01066149\n",
      " 0.00791529 0.02596881 0.00643882 0.00889151 0.00349976 0.0052107\n",
      " 0.02301286]\n",
      "[0.31830989 0.01721726 0.02065724 0.01654444 0.017143   0.01520712\n",
      " 0.01309055 0.00825223 0.00438205 0.00642587 0.00642223 0.00210875\n",
      " 0.00302157 0.00596294 0.00798221 0.00597958 0.00774354 0.0026153\n",
      " 0.00815207 0.00311721 0.00377992 0.00657332 0.00935088 0.00144958\n",
      " 0.00924733]\n",
      "[3.18309886e-01 6.69057978e-02 1.15838496e-01 7.05539626e-02\n",
      " 6.34967671e-03 7.37902514e-02 1.08800174e-02 3.55234700e-02\n",
      " 4.50044568e-02 1.05389638e-02 4.05553792e-02 3.65280476e-02\n",
      " 1.08197755e-02 4.63661181e-03 2.56281793e-02 2.48242261e-02\n",
      " 1.14512963e-02 2.92714099e-02 4.47879676e-02 2.00807349e-02\n",
      " 1.28910259e-04 1.17002400e-02 3.11394603e-02 1.14167817e-02\n",
      " 2.90519619e-02]\n",
      "[0.31830989 0.10709333 0.12739573 0.17726021 0.0661695  0.08906635\n",
      " 0.01263753 0.08491662 0.01670843 0.04051557 0.01506134 0.04021158\n",
      " 0.0133255  0.02812381 0.02859995 0.02253274 0.03548998 0.0513933\n",
      " 0.07570813 0.02689558 0.03410534 0.03348889 0.03586435 0.04464929\n",
      " 0.02399205]\n",
      "[0.31830989 0.09101254 0.06150123 0.06980673 0.01814931 0.01659329\n",
      " 0.02071911 0.01820609 0.05330616 0.02243332 0.00514063 0.02059047\n",
      " 0.00857821 0.02966391 0.02618778 0.01661084 0.00671583 0.01672224\n",
      " 0.02512565 0.00829029 0.02113341 0.02197445 0.0197193  0.03765604\n",
      " 0.0444877 ]\n",
      "[0.31830989 0.00609574 0.01025591 0.00937839 0.00664822 0.01200163\n",
      " 0.00983126 0.00792326 0.01006703 0.00249139 0.01163415 0.00489209\n",
      " 0.0067179  0.00367777 0.00492811 0.00201932 0.00262345 0.01181488\n",
      " 0.01222406 0.00366611 0.00563347 0.0029412  0.00200906 0.00633824\n",
      " 0.01011684]\n",
      "[0.31830989 0.00993553 0.01173677 0.00698013 0.01248621 0.00806462\n",
      " 0.00992375 0.00304614 0.01192475 0.00828149 0.00308854 0.00334597\n",
      " 0.0043429  0.00661356 0.00663281 0.00858511 0.00405085 0.00680907\n",
      " 0.00690237 0.00601601 0.00121764 0.00989405 0.00586784 0.01290262\n",
      " 0.00624646]\n",
      "[0.31830989 0.06581631 0.13330621 0.04936699 0.02150185 0.04734706\n",
      " 0.0348854  0.00228037 0.02809807 0.03680399 0.0223871  0.05953815\n",
      " 0.02116712 0.01824697 0.03323249 0.04192239 0.01786685 0.01125789\n",
      " 0.00197015 0.0239129  0.00136694 0.0168408  0.02264495 0.03019471\n",
      " 0.01277188]\n",
      "[0.31830989 0.00517303 0.00995503 0.00679324 0.00550696 0.00502678\n",
      " 0.00960487 0.0072211  0.01373351 0.00113645 0.00271234 0.01850916\n",
      " 0.00580662 0.00677226 0.00923201 0.01564767 0.00497608 0.00290795\n",
      " 0.01129593 0.00973431 0.0029911  0.00621434 0.00550185 0.00979405\n",
      " 0.00158273]\n",
      "[3.18309886e-01 1.25538287e-03 9.66864157e-04 1.58592306e-03\n",
      " 2.58919839e-03 8.81395492e-04 1.25110619e-03 2.59608518e-03\n",
      " 4.13369654e-03 4.06459769e-03 1.22825074e-03 8.31443688e-04\n",
      " 9.67907509e-04 3.53315251e-03 5.47436253e-03 2.51391075e-03\n",
      " 5.71207520e-03 1.51169306e-03 1.09183862e-03 4.55998360e-03\n",
      " 1.52900821e-04 4.36437229e-03 6.42165497e-03 3.30983725e-03\n",
      " 2.19189747e-03]\n",
      "[0.31830989 0.05584734 0.12747922 0.13665399 0.01580988 0.0161408\n",
      " 0.02033444 0.01103239 0.01485417 0.02329258 0.02242291 0.02948956\n",
      " 0.02119604 0.03272063 0.02455842 0.05496807 0.03470464 0.00395325\n",
      " 0.01997163 0.0336982  0.01796595 0.02583374 0.02808462 0.0628907\n",
      " 0.03254054]\n",
      "[0.31830989 0.00043288 0.00302877 0.00144475 0.00098784 0.00510999\n",
      " 0.0048939  0.00237128 0.00376346 0.00178499 0.00781663 0.00488227\n",
      " 0.0064925  0.00324538 0.00475526 0.00032193 0.00292786 0.01064953\n",
      " 0.00673438 0.00242522 0.00765406 0.00405782 0.00525737 0.00035212\n",
      " 0.00479079]\n",
      "[3.18309886e-01 1.09702283e-03 1.56276794e-04 1.81628768e-03\n",
      " 2.44636044e-03 1.19760289e-03 1.21280246e-03 2.21845089e-03\n",
      " 5.70777860e-03 4.44521446e-03 2.38199327e-03 3.88232460e-03\n",
      " 2.97150969e-03 2.12177661e-03 6.92695579e-03 5.73477997e-03\n",
      " 7.00197402e-03 4.28776736e-03 4.68797360e-03 7.47396110e-03\n",
      " 4.77928661e-03 2.34987016e-03 7.72260147e-03 6.12955504e-03\n",
      " 6.57186542e-03]\n",
      "[0.31830989 0.00171438 0.00234666 0.00217498 0.00352316 0.00312015\n",
      " 0.00379863 0.00351131 0.00077305 0.00552216 0.00485259 0.00610092\n",
      " 0.00506208 0.00466837 0.00078211 0.00251596 0.00780113 0.00673234\n",
      " 0.00840094 0.00225713 0.006027   0.00556593 0.00060235 0.00321286\n",
      " 0.00599958]\n",
      "[0.31830989 0.1137287  0.1020395  0.05944172 0.03904987 0.01168723\n",
      " 0.02681972 0.01391996 0.04619805 0.04251497 0.00246051 0.0155298\n",
      " 0.04227974 0.0154252  0.00597101 0.02359037 0.0139309  0.01200746\n",
      " 0.01392381 0.02399755 0.01568223 0.01728929 0.0138697  0.00384037\n",
      " 0.00057908]\n",
      "[0.31830989 0.16609292 0.13234376 0.13507689 0.16077607 0.12393453\n",
      " 0.02323154 0.00637686 0.01908395 0.0482164  0.04462939 0.0545548\n",
      " 0.06311735 0.03625489 0.0387682  0.0023937  0.033017   0.04269826\n",
      " 0.01026745 0.02656063 0.07823772 0.05842257 0.04835955 0.03220615\n",
      " 0.05046819]\n",
      "[0.31830989 0.00136246 0.00233441 0.00179565 0.00280272 0.00091416\n",
      " 0.00351016 0.00294903 0.00356221 0.00438424 0.00133702 0.00155651\n",
      " 0.0040865  0.00403408 0.00469659 0.00099021 0.00613993 0.00176243\n",
      " 0.00199645 0.00102483 0.00377764 0.00501886 0.00546752 0.00129514\n",
      " 0.00167992]\n",
      "[0.31830989 0.01375533 0.04705577 0.07074892 0.00076584 0.01366092\n",
      " 0.00110653 0.0096024  0.06488997 0.00647329 0.01443728 0.01707844\n",
      " 0.01654266 0.01588223 0.02308335 0.04174698 0.00628123 0.00534864\n",
      " 0.01575824 0.02955955 0.00213985 0.00776319 0.01125203 0.0292455\n",
      " 0.00880462]\n",
      "[0.31830989 0.20332136 0.07816439 0.09629774 0.14694108 0.10845208\n",
      " 0.02312495 0.03458644 0.03975084 0.01281898 0.06213815 0.03953023\n",
      " 0.03397012 0.05969075 0.0149882  0.01540521 0.03138975 0.02370422\n",
      " 0.0462958  0.03343611 0.03161464 0.03771648 0.03627337 0.03454241\n",
      " 0.01224893]\n",
      "[0.31830989 0.01969149 0.0172195  0.01135461 0.00110977 0.03131397\n",
      " 0.00875084 0.01710039 0.03476174 0.01123484 0.01886295 0.00748822\n",
      " 0.0081931  0.00612979 0.01973579 0.0182122  0.01242182 0.0062491\n",
      " 0.03101498 0.04148789 0.00334353 0.0073643  0.00922961 0.01486085\n",
      " 0.02490824]\n",
      "[0.31830989 0.00131756 0.00110716 0.00066071 0.00267769 0.00209972\n",
      " 0.00195883 0.00097963 0.00299281 0.00411058 0.00326484 0.0034365\n",
      " 0.00297257 0.00123075 0.0044611  0.0080258  0.00562045 0.00456041\n",
      " 0.00507931 0.00929839 0.00419516 0.00177683 0.00618617 0.0091604\n",
      " 0.00790341]\n",
      "[0.31830989 0.00159201 0.00109054 0.00283397 0.00316893 0.00273213\n",
      " 0.0018771  0.00464505 0.00102394 0.00471613 0.00432157 0.00520886\n",
      " 0.00274931 0.00633635 0.0014185  0.00425645 0.00621708 0.00614591\n",
      " 0.00716338 0.00605934 0.00373232 0.00787122 0.00181167 0.00521885\n",
      " 0.00208627]\n",
      "[0.31830989 0.00225271 0.00173875 0.00277882 0.00456793 0.00126498\n",
      " 0.00307789 0.00450669 0.00360816 0.00698741 0.00182305 0.00185151\n",
      " 0.00470417 0.00603094 0.00476747 0.00166098 0.00950934 0.00232602\n",
      " 0.00200351 0.00625313 0.00676002 0.00724127 0.00558962 0.00239208\n",
      " 0.00217133]\n",
      "[0.31830989 0.024416   0.03561641 0.03893271 0.01618796 0.01698796\n",
      " 0.01875118 0.01967567 0.02382221 0.00434989 0.01436504 0.01749611\n",
      " 0.00375404 0.00576021 0.00898698 0.01034332 0.00344521 0.01329885\n",
      " 0.02548547 0.03140432 0.00228734 0.00636479 0.00121534 0.0238435\n",
      " 0.00818618]\n",
      "[0.31830989 0.40184854 0.20069244 0.21746376 0.09547921 0.07161612\n",
      " 0.30243668 0.24250248 0.24426892 0.25335578 0.20532778 0.21358945\n",
      " 0.06875161 0.06769185 0.11739388 0.03943436 0.10322581 0.09654032\n",
      " 0.08020002 0.16163706 0.18867247 0.11362204 0.17091485 0.07505141\n",
      " 0.2346769 ]\n",
      "[3.18309886e-01 1.25360382e-01 9.73192632e-02 7.48707710e-02\n",
      " 7.15606171e-02 5.42963601e-02 3.31957562e-02 7.69266267e-02\n",
      " 8.82940296e-02 6.20686316e-02 2.49907301e-02 5.90784006e-02\n",
      " 1.43266136e-02 4.54941188e-02 8.34354587e-02 5.88900149e-02\n",
      " 5.06284304e-02 4.49999202e-02 7.67780866e-02 3.30626958e-02\n",
      " 2.57197795e-04 3.48699864e-02 3.58969573e-02 1.52175101e-02\n",
      " 6.85788508e-02]\n",
      "[0.31830989 0.00133467 0.00095799 0.00287442 0.00273395 0.0032807\n",
      " 0.0014688  0.00452799 0.00195252 0.00426567 0.00501564 0.00591814\n",
      " 0.00177561 0.00575893 0.00267384 0.00536629 0.00599718 0.00681854\n",
      " 0.00806516 0.0052052  0.00177705 0.00634824 0.00336201 0.00628207\n",
      " 0.0061834 ]\n",
      "[3.18309886e-01 3.75981100e-02 3.13697618e-02 4.80529737e-02\n",
      " 6.97841825e-03 3.85468736e-02 8.32306010e-04 3.26218551e-03\n",
      " 3.77243472e-02 1.21582696e-02 2.36023052e-02 2.75065484e-02\n",
      " 3.94135180e-03 6.89133902e-03 1.63736666e-02 2.58491470e-02\n",
      " 8.69258096e-04 7.03945270e-03 1.52332525e-02 1.51342806e-02\n",
      " 6.61985516e-05 3.87937164e-03 4.72754081e-03 1.84947626e-02\n",
      " 1.56813444e-02]\n",
      "[0.31830989 0.19408384 0.07247289 0.03324694 0.06590131 0.07486471\n",
      " 0.03403315 0.0704028  0.01819844 0.03927042 0.02267415 0.06401887\n",
      " 0.00541908 0.06575831 0.01119639 0.03870129 0.01975854 0.02496253\n",
      " 0.04858708 0.02536549 0.03126021 0.04416177 0.01977478 0.03509775\n",
      " 0.00789922]\n",
      "[0.31830989 0.13718361 0.13192909 0.18510198 0.14065148 0.11847692\n",
      " 0.02224467 0.04444774 0.03258395 0.05686272 0.04334908 0.02183631\n",
      " 0.0455665  0.01401423 0.02494639 0.02169974 0.02530537 0.01450113\n",
      " 0.05732055 0.05583883 0.03276632 0.05078007 0.04594078 0.05108153\n",
      " 0.03039185]\n",
      "[0.31830989 0.00955478 0.01986688 0.02080213 0.00735266 0.0090687\n",
      " 0.01072233 0.01306479 0.01353137 0.00501802 0.00254038 0.01046946\n",
      " 0.00102869 0.0039115  0.00173483 0.01269693 0.00772674 0.00172242\n",
      " 0.00598848 0.01960019 0.00449331 0.00334327 0.00766509 0.00378467\n",
      " 0.01826196]\n",
      "[0.31830989 0.0012826  0.00040392 0.00298508 0.00264504 0.00260833\n",
      " 0.00074056 0.00483024 0.00118754 0.00416399 0.0040541  0.00382554\n",
      " 0.00118317 0.00644956 0.00161085 0.00537839 0.00590314 0.00562435\n",
      " 0.00531271 0.00746715 0.00178066 0.00775162 0.00196405 0.00692773\n",
      " 0.00104598]\n",
      "[0.31830989 0.10661266 0.11056136 0.12826084 0.05327988 0.04097017\n",
      " 0.01372187 0.02577477 0.00996137 0.0411656  0.05620195 0.04002539\n",
      " 0.02654171 0.03268224 0.01305336 0.03186916 0.03172822 0.04109087\n",
      " 0.02530097 0.03318935 0.00985589 0.00528734 0.00858935 0.02194348\n",
      " 0.00594279]\n",
      "[3.18309886e-01 2.29056658e-03 3.01739537e-04 1.35214120e-03\n",
      " 4.65631375e-03 1.68957462e-03 2.21171267e-04 2.16328949e-03\n",
      " 4.39076680e-03 7.15343370e-03 2.37783711e-03 8.11037118e-04\n",
      " 3.03633473e-04 2.83315042e-03 5.87917313e-03 2.51977246e-03\n",
      " 9.79808089e-03 2.91264463e-03 1.42385674e-03 5.17861253e-03\n",
      " 1.48488438e-03 3.29626694e-03 7.04404668e-03 3.39181908e-03\n",
      " 3.18027689e-03]\n",
      "[0.31830989 0.36225675 0.10846343 0.10302641 0.22088719 0.23630477\n",
      " 0.34713427 0.33338037 0.35207345 0.17681123 0.15076203 0.17880756\n",
      " 0.09349378 0.1291178  0.13883297 0.11850283 0.25277483 0.30027029\n",
      " 0.2723015  0.26717288 0.15190405 0.18614604 0.21163547 0.15912082\n",
      " 0.18295102]\n",
      "[0.31830989 0.00991301 0.01094267 0.00929234 0.00409794 0.0030766\n",
      " 0.00266565 0.00628649 0.00512169 0.00424777 0.00233739 0.00191784\n",
      " 0.0009413  0.00554169 0.00481034 0.01018459 0.00613683 0.00168762\n",
      " 0.00517818 0.0176646  0.00404426 0.00668465 0.00632572 0.00616687\n",
      " 0.01503958]\n",
      "[3.18309886e-01 1.17866818e-03 2.60890671e-04 3.60877642e-03\n",
      " 2.31850404e-03 1.59980625e-03 2.86976016e-04 5.73657852e-03\n",
      " 4.40849576e-03 3.38841091e-03 2.49632060e-03 4.06108082e-03\n",
      " 8.94239474e-05 7.41287355e-03 6.15723695e-03 5.95014278e-03\n",
      " 4.37242457e-03 3.48374300e-03 5.51708859e-03 4.54197682e-03\n",
      " 4.21354987e-04 8.39721932e-03 7.86042428e-03 6.68810512e-03\n",
      " 4.51893635e-03]\n",
      "[3.18309886e-01 2.44954290e-03 3.05290629e-04 1.35052879e-03\n",
      " 4.97339538e-03 1.68836693e-03 2.39115369e-04 2.15326364e-03\n",
      " 4.39078531e-03 7.62656685e-03 2.37345240e-03 8.17643782e-04\n",
      " 2.52665843e-04 2.80363043e-03 5.88110522e-03 2.52010850e-03\n",
      " 1.04233946e-02 2.90422820e-03 1.44595420e-03 5.18305262e-03\n",
      " 1.37388083e-03 3.23187692e-03 7.05161352e-03 3.40363830e-03\n",
      " 3.19113769e-03]\n",
      "[0.31830989 0.00177838 0.0010935  0.00283014 0.00358259 0.00271532\n",
      " 0.00189318 0.0046074  0.0010153  0.00543723 0.00425073 0.00520799\n",
      " 0.00279946 0.00622224 0.00137384 0.00424605 0.00736043 0.00596674\n",
      " 0.00714594 0.00607244 0.00385333 0.00763427 0.00166478 0.00519128\n",
      " 0.00202477]\n",
      "[0.31830989 0.00440955 0.0046964  0.00444184 0.00405303 0.0090574\n",
      " 0.00279449 0.00086248 0.0061956  0.00236427 0.00798535 0.01398854\n",
      " 0.00176731 0.00223027 0.00129587 0.00928697 0.00362457 0.01081116\n",
      " 0.00909601 0.00632848 0.00277605 0.00237831 0.00250468 0.0053974\n",
      " 0.00715205]\n",
      "[0.31830989 0.00843899 0.01672517 0.01614655 0.0075377  0.00846214\n",
      " 0.01396345 0.01168541 0.01493833 0.00468584 0.00459054 0.00769378\n",
      " 0.00939034 0.0069639  0.00695282 0.00900119 0.00594921 0.00684187\n",
      " 0.00850759 0.00588362 0.00685207 0.00579865 0.00472075 0.0023497\n",
      " 0.01237223]\n",
      "[0.31830989 0.05375738 0.15381168 0.22531476 0.11911879 0.10550812\n",
      " 0.10976159 0.14050281 0.11582168 0.07205185 0.10463083 0.10385951\n",
      " 0.06249936 0.11183045 0.04194553 0.0599159  0.11511129 0.03636287\n",
      " 0.03900531 0.05125866 0.02759599 0.06782788 0.03680015 0.05368267\n",
      " 0.05481815]\n",
      "[0.31830989 0.00173049 0.00042785 0.00058286 0.00350297 0.00182753\n",
      " 0.0008568  0.00072457 0.00241681 0.0053497  0.00288219 0.00468643\n",
      " 0.00149452 0.00050272 0.00355974 0.00690066 0.0072825  0.00409418\n",
      " 0.00667987 0.00955626 0.00240869 0.0006893  0.00486763 0.00757708\n",
      " 0.00770994]\n",
      "[0.31830989 0.05038985 0.07394222 0.06119184 0.00222005 0.05240245\n",
      " 0.00698436 0.01027845 0.02614006 0.01423195 0.01807566 0.02198258\n",
      " 0.024803   0.00871133 0.01537711 0.03180586 0.01517025 0.01770371\n",
      " 0.01924513 0.01031533 0.00694855 0.01246125 0.01848265 0.00502728\n",
      " 0.02785739]\n",
      "[0.31830989 0.01846183 0.04723363 0.04214433 0.00472418 0.01336282\n",
      " 0.0182277  0.02296454 0.0138697  0.00862166 0.01885217 0.01368121\n",
      " 0.00109972 0.01417485 0.01823183 0.03005209 0.00803134 0.00612246\n",
      " 0.02225355 0.00191284 0.00151867 0.01230872 0.00833226 0.01117316\n",
      " 0.03009826]\n",
      "[0.31830989 0.06526335 0.07843184 0.07244861 0.00674053 0.02839928\n",
      " 0.00369568 0.0085641  0.00986209 0.01658014 0.01066931 0.02937121\n",
      " 0.00327431 0.00359702 0.01491665 0.0199549  0.0138179  0.0139302\n",
      " 0.01746224 0.0082544  0.01138946 0.00879542 0.0185083  0.006252\n",
      " 0.02445715]\n",
      "[0.31830989 0.32169345 0.15298591 0.15652456 0.13579885 0.04159946\n",
      " 0.20914427 0.08446412 0.14322616 0.05907486 0.06669326 0.07539183\n",
      " 0.12291002 0.08104805 0.01801359 0.05296779 0.13155979 0.04811579\n",
      " 0.09611276 0.03168918 0.04053366 0.03104871 0.0807516  0.02669837\n",
      " 0.09439374]\n",
      "[0.31830989 0.04626121 0.04901488 0.0489895  0.03400297 0.039535\n",
      " 0.01602843 0.01088194 0.03069517 0.01037512 0.01075248 0.01910987\n",
      " 0.0101944  0.02013156 0.01976597 0.01263464 0.01676977 0.02272643\n",
      " 0.02338812 0.00718739 0.00294861 0.00717848 0.01039751 0.00812689\n",
      " 0.01489499]\n",
      "[0.31830989 0.0011187  0.00041301 0.00132333 0.00227906 0.00121304\n",
      " 0.00078172 0.00211904 0.0018628  0.00350875 0.00196846 0.00209766\n",
      " 0.00128096 0.00283406 0.00293077 0.00723346 0.00480613 0.00289815\n",
      " 0.00335061 0.00948923 0.00194303 0.00358915 0.0043149  0.00823023\n",
      " 0.00628257]\n",
      "[0.31830989 0.00142346 0.00232583 0.00075653 0.00296734 0.0042465\n",
      " 0.00368792 0.0012092  0.00343422 0.0047448  0.0064701  0.0062221\n",
      " 0.00472524 0.00159516 0.00406811 0.00154571 0.00685115 0.00876819\n",
      " 0.00848859 0.00404775 0.00523153 0.00192584 0.00394142 0.00169163\n",
      " 0.00610633]\n",
      "[0.31830989 0.00137067 0.00084562 0.00534849 0.00200994 0.00187129\n",
      " 0.00073052 0.00656131 0.00507017 0.0039312  0.00422669 0.00644919\n",
      " 0.00335596 0.00666402 0.00356457 0.00304324 0.00709111 0.00796026\n",
      " 0.00570317 0.00427344 0.00552277 0.00727228 0.00278895 0.00573967\n",
      " 0.00389176]\n",
      "[0.31830989 0.20801857 0.13229445 0.13844598 0.22133122 0.21676025\n",
      " 0.00247878 0.0410087  0.02125548 0.10971457 0.09953636 0.10763702\n",
      " 0.02202508 0.04639221 0.04785554 0.047282   0.03084461 0.05321251\n",
      " 0.03402463 0.06893217 0.05289553 0.01465582 0.01683658 0.01861877\n",
      " 0.01368503]\n",
      "[0.31830989 0.05965415 0.1694623  0.13748092 0.02133528 0.03508861\n",
      " 0.00082858 0.02580275 0.04558367 0.02052376 0.02007569 0.0281435\n",
      " 0.03192692 0.00985231 0.02909128 0.02138272 0.02004442 0.04175668\n",
      " 0.03975586 0.02716448 0.0130568  0.00565715 0.0522764  0.02028915\n",
      " 0.04593883]\n",
      "[0.31830989 0.00082533 0.00369648 0.00167096 0.00170557 0.00037686\n",
      " 0.00575393 0.00277439 0.00432955 0.00269096 0.00062525 0.00146426\n",
      " 0.0071672  0.00386008 0.00577353 0.00066672 0.00381848 0.00094389\n",
      " 0.00185471 0.00131699 0.00762344 0.00491749 0.00683993 0.00090259\n",
      " 0.004414  ]\n",
      "[0.31830989 0.00235885 0.00105919 0.00135542 0.00479147 0.00141236\n",
      " 0.00198471 0.00215128 0.00386968 0.00735145 0.00199004 0.00191516\n",
      " 0.00325856 0.00277438 0.00512842 0.00268754 0.01005004 0.00245535\n",
      " 0.00234446 0.00390861 0.00505083 0.00313641 0.00603414 0.0036051\n",
      " 0.00283983]\n",
      "[0.31830989 0.00165999 0.00176292 0.00266445 0.00334274 0.00361345\n",
      " 0.00294873 0.00437171 0.00212434 0.00506986 0.00564244 0.00467841\n",
      " 0.00414831 0.00597099 0.00288218 0.00352035 0.00685517 0.00788906\n",
      " 0.00651747 0.00764081 0.0053615  0.0074214  0.0035378  0.00510488\n",
      " 0.00438872]\n",
      "[0.31830989 0.00137402 0.00109877 0.00238719 0.00276677 0.00218976\n",
      " 0.00191981 0.00378687 0.00223896 0.00420001 0.00344385 0.00458834\n",
      " 0.0028752  0.00488761 0.00314945 0.00596575 0.00569661 0.00485967\n",
      " 0.00635407 0.00912092 0.0040186  0.00557228 0.00405801 0.00731568\n",
      " 0.00133997]\n",
      "[0.31830989 0.00160715 0.00176211 0.00266558 0.00327821 0.00361012\n",
      " 0.00294563 0.00437253 0.00213293 0.00507276 0.00563385 0.00467711\n",
      " 0.00414357 0.00597022 0.00290966 0.00349418 0.00703525 0.00786702\n",
      " 0.00648822 0.0076652  0.00536193 0.00741695 0.0035991  0.00507412\n",
      " 0.0043412 ]\n",
      "[0.31830989 0.00074378 0.00234564 0.00034132 0.00162074 0.00471269\n",
      " 0.0037905  0.00052303 0.00077753 0.00275639 0.00727993 0.00720171\n",
      " 0.00502678 0.00066963 0.00136467 0.00350223 0.00425268 0.010038\n",
      " 0.00987375 0.00367878 0.00591677 0.00084238 0.00244573 0.0048187\n",
      " 0.00316152]\n",
      "[0.31830989 0.00122826 0.00096458 0.0034527  0.00253482 0.00368864\n",
      " 0.00150128 0.00553032 0.00080346 0.00400146 0.00563903 0.00645142\n",
      " 0.0018647  0.00724678 0.00090142 0.00267703 0.00570736 0.00766081\n",
      " 0.00880753 0.00532888 0.0019626  0.00841384 0.00074508 0.00326687\n",
      " 0.00651365]\n",
      "[0.31830989 0.00131123 0.00244207 0.00236984 0.00260319 0.00416859\n",
      " 0.00405521 0.00400014 0.00268292 0.00386303 0.00655707 0.00566061\n",
      " 0.00563811 0.005707   0.00358134 0.00355814 0.00508693 0.00926238\n",
      " 0.00788265 0.00836645 0.00716339 0.00752599 0.00430455 0.00518972\n",
      " 0.00331339]\n",
      "[0.31830989 0.00184661 0.00176183 0.00151199 0.00372245 0.00193984\n",
      " 0.00294005 0.00254734 0.00267326 0.00563822 0.00284688 0.00260195\n",
      " 0.00411132 0.00365593 0.00348454 0.00479066 0.00756576 0.00370341\n",
      " 0.00406161 0.01261065 0.00524972 0.00494178 0.00406687 0.00608988\n",
      " 0.00282773]\n",
      "[0.31830989 0.00158684 0.00037367 0.00144134 0.00321542 0.00130232\n",
      " 0.00058406 0.00248557 0.00486394 0.00490944 0.00193669 0.00266374\n",
      " 0.00072439 0.00367355 0.00661017 0.00432815 0.00665402 0.00259998\n",
      " 0.00409646 0.00671459 0.00074498 0.00510208 0.00815811 0.00563374\n",
      " 0.00623669]\n",
      "[0.31830989 0.00087791 0.00109509 0.00110018 0.00179478 0.00086834\n",
      " 0.00189768 0.00166263 0.00233869 0.00277664 0.00131147 0.00267345\n",
      " 0.00279831 0.00197684 0.00362416 0.00572982 0.00382161 0.00182393\n",
      " 0.00425153 0.01019602 0.00381459 0.00204145 0.00526025 0.00642414\n",
      " 0.00511021]\n",
      "[0.31830989 0.00106529 0.00175528 0.0026712  0.00224523 0.00362057\n",
      " 0.00291165 0.00441803 0.00215946 0.00364118 0.00569271 0.00466014\n",
      " 0.0040491  0.00610743 0.00296233 0.00350359 0.00532315 0.00801988\n",
      " 0.00644065 0.00766241 0.00516164 0.00770796 0.00369627 0.00508111\n",
      " 0.0042405 ]\n",
      "[3.18309886e-01 2.13111033e-03 1.66397294e-03 2.17894696e-03\n",
      " 4.33528291e-03 5.61402246e-05 2.44682928e-03 3.55443034e-03\n",
      " 3.27625893e-03 6.66735439e-03 3.26793064e-04 1.58319909e-03\n",
      " 2.71591039e-03 4.81233551e-03 4.25514415e-03 1.53277413e-03\n",
      " 9.14366301e-03 8.66138741e-04 1.85875785e-03 2.74281971e-03\n",
      " 2.22707049e-03 5.90328190e-03 4.82687458e-03 2.11380356e-03\n",
      " 4.45498973e-04]\n",
      "[0.31830989 0.0006063  0.0017427  0.00243431 0.00114766 0.00480599\n",
      " 0.00284567 0.00418116 0.00163451 0.00158201 0.00759981 0.00397634\n",
      " 0.00385233 0.00610606 0.00233151 0.00069753 0.00191311 0.01080281\n",
      " 0.00556003 0.00616743 0.00470933 0.0082614  0.00309304 0.00091983\n",
      " 0.00354373]\n",
      "[3.18309886e-01 1.66047906e-03 1.74328964e-03 2.48608512e-04\n",
      " 3.37186595e-03 2.62810667e-03 2.84733627e-03 5.35108443e-04\n",
      " 4.15833443e-03 5.16596331e-03 3.95716871e-03 2.00389198e-03\n",
      " 3.85198787e-03 1.06122867e-03 5.66455475e-03 4.24098069e-03\n",
      " 7.03387297e-03 5.32928780e-03 3.11869893e-03 6.60556127e-03\n",
      " 4.69585793e-03 1.96134102e-03 7.02351781e-03 5.59056994e-03\n",
      " 5.31555632e-03]\n",
      "[0.31830989 0.00176202 0.00176457 0.00266346 0.0035518  0.00361102\n",
      " 0.00295715 0.00436278 0.00212214 0.00539517 0.00563119 0.00468077\n",
      " 0.00417269 0.00594339 0.0028802  0.00351282 0.00730893 0.00786014\n",
      " 0.00651818 0.00764709 0.00541578 0.00736137 0.00353636 0.0050983\n",
      " 0.00439348]\n",
      "[0.31830989 0.00174124 0.00112132 0.00072621 0.00352474 0.00214458\n",
      " 0.0020303  0.00105644 0.00318405 0.00538458 0.00335772 0.00581261\n",
      " 0.00317523 0.00131204 0.00465496 0.00746318 0.00733775 0.0047292\n",
      " 0.00815348 0.00934214 0.00463566 0.00198504 0.00629539 0.00813609\n",
      " 0.00899481]\n",
      "[0.31830989 0.09280656 0.07287354 0.07104072 0.02406311 0.03414532\n",
      " 0.02132132 0.0204562  0.0191336  0.0305226  0.02195953 0.02055131\n",
      " 0.01653372 0.01875318 0.01364531 0.01818671 0.01821614 0.00327665\n",
      " 0.01302384 0.02839401 0.01946024 0.0107797  0.01105163 0.03299634\n",
      " 0.01300674]\n",
      "[0.31830989 0.29402382 0.01902618 0.03927065 0.11357714 0.11091173\n",
      " 0.01548275 0.03980787 0.0424315  0.06035718 0.06047667 0.05338347\n",
      " 0.01553938 0.03785141 0.02677585 0.02369919 0.05017887 0.0338131\n",
      " 0.05428849 0.04908992 0.00959455 0.02451564 0.04562718 0.04377314\n",
      " 0.03896069]\n",
      "[0.31830989 0.17525361 0.20884812 0.08917475 0.19188692 0.13183844\n",
      " 0.02737554 0.1438411  0.03326442 0.13518526 0.0699423  0.16410979\n",
      " 0.00351341 0.10216413 0.11627468 0.09332298 0.14611608 0.07045955\n",
      " 0.0857852  0.11480763 0.01445032 0.0387756  0.1245927  0.06186461\n",
      " 0.14849939]\n",
      "[0.31830989 0.0642635  0.05945183 0.06090272 0.038836   0.03675691\n",
      " 0.00158896 0.00999617 0.00601407 0.01336232 0.00880638 0.00854405\n",
      " 0.02876515 0.02127365 0.01355265 0.02189955 0.00786231 0.01329692\n",
      " 0.00491232 0.00636329 0.00357924 0.00347468 0.00597027 0.00438184\n",
      " 0.01778617]\n",
      "[0.31830989 0.0011722  0.00234932 0.00072282 0.00248687 0.0037964\n",
      " 0.00380996 0.00112819 0.00186176 0.00407667 0.00589074 0.00716203\n",
      " 0.00508565 0.00142663 0.00295182 0.00118144 0.00604851 0.00815814\n",
      " 0.00981919 0.00211607 0.0060548  0.00159268 0.00445848 0.00190698\n",
      " 0.00483397]\n",
      "[0.31830989 0.00050508 0.00174217 0.00243499 0.00092833 0.00480446\n",
      " 0.00284298 0.00418088 0.00162042 0.00120577 0.00758811 0.00398231\n",
      " 0.0038446  0.0061031  0.00229865 0.00071388 0.00131239 0.01077015\n",
      " 0.00558247 0.00617074 0.00469221 0.00825447 0.00302904 0.00100337\n",
      " 0.00354615]\n",
      "[0.31830989 0.0018176  0.00110672 0.00145928 0.00364181 0.00182462\n",
      " 0.00195732 0.00230054 0.00153243 0.00547319 0.002818   0.00810219\n",
      " 0.00297106 0.00295347 0.00222562 0.0072682  0.00729829 0.00391028\n",
      " 0.01116053 0.00329089 0.00419918 0.00341149 0.00300396 0.00865748\n",
      " 0.00147907]\n",
      "[0.31830989 0.00082596 0.00109719 0.0008732  0.00168315 0.00176646\n",
      " 0.0019085  0.00125618 0.00245865 0.00258958 0.00262763 0.00485642\n",
      " 0.00282982 0.00132514 0.00364601 0.00815221 0.0035345  0.00348619\n",
      " 0.00700761 0.01013781 0.00388513 0.00099806 0.00506266 0.00967814\n",
      " 0.00378042]\n",
      "[3.18309886e-01 1.87595578e-03 3.48198941e-04 1.88019890e-03\n",
      " 3.79766450e-03 1.82843023e-03 4.55559735e-04 3.03186891e-03\n",
      " 1.98759322e-03 5.79080698e-03 2.72307604e-03 1.31599853e-03\n",
      " 3.60468985e-04 4.03109674e-03 2.65386599e-03 3.61987862e-03\n",
      " 7.83868419e-03 3.65379900e-03 2.26499590e-03 3.26030829e-03\n",
      " 4.34908750e-05 4.82669031e-03 3.25458820e-03 5.06133482e-03\n",
      " 6.72289281e-03]\n",
      "[3.18309886e-01 1.97087858e-03 2.95319695e-04 1.35365052e-03\n",
      " 4.01781137e-03 1.68968607e-03 1.88698906e-04 2.17110336e-03\n",
      " 4.38175097e-03 6.19813633e-03 2.35089654e-03 7.95914192e-04\n",
      " 3.96013821e-04 2.85653856e-03 5.84463326e-03 2.51325246e-03\n",
      " 8.52968187e-03 2.82932459e-03 1.34372318e-03 5.15839137e-03\n",
      " 1.68655715e-03 3.34984460e-03 6.95938987e-03 3.32326474e-03\n",
      " 3.13761864e-03]\n",
      "[0.31830989 0.00100532 0.00242824 0.00111373 0.00206335 0.00273383\n",
      " 0.00398447 0.00202496 0.0032213  0.00321063 0.00450298 0.0018011\n",
      " 0.00543414 0.00318734 0.00443343 0.00322806 0.00444721 0.00670422\n",
      " 0.00223503 0.01127092 0.00671269 0.00469185 0.00559331 0.00455776\n",
      " 0.00362451]\n",
      "[0.31830989 0.39134708 0.15454812 0.17674184 0.18730549 0.15069465\n",
      " 0.36914031 0.38166256 0.33388183 0.27024236 0.30023547 0.24851581\n",
      " 0.01410879 0.04063019 0.03435469 0.04560425 0.25786688 0.2797183\n",
      " 0.19755114 0.25578176 0.27288294 0.2990312  0.31243143 0.22604989\n",
      " 0.28110287]\n",
      "[0.31830989 0.00157438 0.00165816 0.00274264 0.00326743 0.00403729\n",
      " 0.00266403 0.0044394  0.00039435 0.00519364 0.00622698 0.00654544\n",
      " 0.00350264 0.00592424 0.00079554 0.00093635 0.00745178 0.00856221\n",
      " 0.00897841 0.00407153 0.00407604 0.00708943 0.00153399 0.00112424\n",
      " 0.0040847 ]\n",
      "[3.18309886e-01 1.36815746e-03 1.66931971e-03 1.15979738e-03\n",
      " 2.89247360e-03 3.49635094e-03 2.71935514e-03 2.02243106e-03\n",
      " 1.05653469e-03 4.71475622e-03 5.45412009e-03 5.87828070e-03\n",
      " 3.65552958e-03 3.01317766e-03 1.53388785e-03 4.85046036e-04\n",
      " 6.94403705e-03 7.59757397e-03 8.09533499e-03 3.26972353e-03\n",
      " 4.39765163e-03 4.16847461e-03 2.20412355e-03 1.71762234e-04\n",
      " 3.59105022e-03]\n",
      "[3.18309886e-01 2.67564107e-04 2.66165354e-04 2.83486278e-03\n",
      " 6.22080366e-04 3.85183900e-03 3.10022615e-04 4.48194001e-03\n",
      " 2.18873274e-03 1.16633274e-03 5.85503537e-03 4.97090456e-03\n",
      " 1.40264073e-04 5.74291245e-03 2.84087401e-03 7.99940511e-03\n",
      " 1.99951899e-03 7.89671868e-03 6.79989616e-03 4.95588040e-03\n",
      " 3.50231162e-04 6.43339748e-03 3.23100606e-03 9.50543694e-03\n",
      " 8.97620095e-03]\n",
      "[0.31830989 0.00100872 0.00232857 0.00202169 0.00198889 0.00373452\n",
      " 0.00370554 0.00322754 0.00423853 0.00294461 0.0057189  0.0064963\n",
      " 0.00479075 0.00421353 0.00537222 0.00262728 0.00393961 0.00778693\n",
      " 0.008912   0.00133708 0.00541663 0.0048922  0.00589361 0.00284591\n",
      " 0.0097038 ]\n",
      "[0.31830989 0.00223607 0.00033627 0.00210354 0.00451036 0.00191466\n",
      " 0.00066934 0.00335673 0.00526435 0.00684044 0.00266889 0.00250895\n",
      " 0.00118073 0.00437355 0.00703363 0.0033898  0.00920032 0.00321116\n",
      " 0.00278057 0.00650906 0.00196667 0.0050405  0.00841969 0.0046604\n",
      " 0.00383968]\n",
      "[0.31830989 0.05737137 0.05506621 0.04692193 0.03304316 0.02990884\n",
      " 0.00384834 0.00708524 0.03400561 0.01213689 0.01045759 0.02593459\n",
      " 0.02190632 0.01485301 0.01442805 0.01900448 0.01238038 0.00060179\n",
      " 0.02988581 0.01643605 0.0082822  0.00165249 0.01266481 0.02988407\n",
      " 0.02940226]\n",
      "[0.31830989 0.00977821 0.01434372 0.0142146  0.01384492 0.01870987\n",
      " 0.01557132 0.01497004 0.01769868 0.01099228 0.01657235 0.01129295\n",
      " 0.0106182  0.00934839 0.01108679 0.0155406  0.00669862 0.01033222\n",
      " 0.00394601 0.01285262 0.0043692  0.00281473 0.00443277 0.00228802\n",
      " 0.01199263]\n",
      "[0.31830989 0.0245687  0.03189786 0.01475286 0.02814248 0.0151878\n",
      " 0.02166453 0.00579723 0.0201482  0.01555585 0.00808518 0.02469955\n",
      " 0.00126634 0.00444037 0.00431764 0.01506521 0.00667891 0.00724321\n",
      " 0.0141767  0.00703819 0.00955324 0.00311538 0.00409165 0.01188226\n",
      " 0.04173455]\n",
      "[0.31830989 0.13871295 0.07866059 0.05857298 0.07682664 0.11073365\n",
      " 0.01930474 0.08929812 0.03799554 0.02145419 0.01412408 0.08437811\n",
      " 0.00402106 0.05308135 0.02319958 0.0347774  0.03182276 0.02329374\n",
      " 0.04976047 0.00860278 0.02124916 0.01832569 0.02442855 0.03133788\n",
      " 0.03706667]\n",
      "[0.31830989 0.00209965 0.00170996 0.00190634 0.00426161 0.00301389\n",
      " 0.00267868 0.00302792 0.00177235 0.00652766 0.00488344 0.00127213\n",
      " 0.00337242 0.0039265  0.00213909 0.00558245 0.00889607 0.00715283\n",
      " 0.00200402 0.0012407  0.00365161 0.00451689 0.00210834 0.00743863\n",
      " 0.00771558]\n",
      "[0.31830989 0.07963635 0.07233086 0.07743056 0.01994873 0.0577291\n",
      " 0.0051352  0.01938643 0.00400161 0.03480461 0.02250592 0.0209152\n",
      " 0.00632895 0.0250859  0.02852078 0.02939794 0.00971079 0.00635104\n",
      " 0.00890574 0.01759003 0.01439431 0.01288913 0.01516137 0.0116362\n",
      " 0.00578997]\n",
      "[0.31830989 0.13019862 0.27021808 0.26095758 0.22405345 0.24516211\n",
      " 0.15892113 0.19147998 0.1450548  0.27006617 0.32398812 0.29920351\n",
      " 0.05663364 0.08529696 0.03096767 0.02281014 0.27464457 0.34497714\n",
      " 0.31778297 0.29560056 0.02228007 0.07159907 0.08030785 0.11755876\n",
      " 0.11741188]\n",
      "[0.31830989 0.00200787 0.00108546 0.00057952 0.00404864 0.00184648\n",
      " 0.00184948 0.00078209 0.00510179 0.00613949 0.00277424 0.00435428\n",
      " 0.00266339 0.00069646 0.00687121 0.00584043 0.00826404 0.00372737\n",
      " 0.00641853 0.01073147 0.00352642 0.00036939 0.00836506 0.00741719\n",
      " 0.00322113]\n",
      "[0.31830989 0.18771646 0.09884032 0.09214302 0.10649314 0.09882632\n",
      " 0.00908379 0.02477263 0.02658262 0.00707514 0.01176715 0.01536749\n",
      " 0.05632486 0.04321397 0.0326575  0.04651488 0.0234507  0.01031339\n",
      " 0.01322098 0.0214496  0.01925663 0.04590447 0.03354803 0.03040407\n",
      " 0.02617303]\n",
      "[0.31830989 0.01567673 0.02658132 0.01477164 0.00637508 0.01174612\n",
      " 0.01624639 0.01306495 0.00915984 0.00532333 0.00805688 0.00567573\n",
      " 0.01547778 0.0045877  0.01185972 0.01303335 0.00857913 0.0106454\n",
      " 0.007526   0.01807101 0.02002036 0.00940278 0.00802657 0.00205407\n",
      " 0.00476196]\n",
      "[3.18309886e-01 2.30006797e-04 5.05603746e-03 6.87240760e-04\n",
      " 4.92604708e-04 1.16104645e-03 7.99870385e-03 1.15027354e-03\n",
      " 2.81185077e-03 8.20242831e-04 1.70845951e-03 2.54427309e-03\n",
      " 1.02616897e-02 1.61985735e-03 3.69720025e-03 1.62008987e-03\n",
      " 1.24014476e-03 2.21967001e-03 3.32889908e-03 1.60817203e-03\n",
      " 1.15111952e-02 2.09723293e-03 4.25743158e-03 2.10705228e-03\n",
      " 4.62776682e-03]\n",
      "[0.31830989 0.02598951 0.10701421 0.13821829 0.01898036 0.06038845\n",
      " 0.01365059 0.03647426 0.02193926 0.01480311 0.02842576 0.04479554\n",
      " 0.00489432 0.00765195 0.05202221 0.00676177 0.00804143 0.01829791\n",
      " 0.0324025  0.02136632 0.00205181 0.00775442 0.03542254 0.01803877\n",
      " 0.03782024]\n",
      "[0.31830989 0.17588414 0.17728991 0.11190504 0.10535193 0.0606593\n",
      " 0.05795012 0.07119837 0.090949   0.01865302 0.03328999 0.02957138\n",
      " 0.00063831 0.06997313 0.04870904 0.05656094 0.03550815 0.03469583\n",
      " 0.03357238 0.03204649 0.02544167 0.03864943 0.03145764 0.03594153\n",
      " 0.05676366]\n",
      "[0.31830989 0.08827831 0.09218088 0.09145696 0.0127216  0.03104729\n",
      " 0.00175279 0.01349529 0.02507683 0.04841916 0.04236982 0.02639052\n",
      " 0.00804076 0.00676728 0.02898327 0.037611   0.00564952 0.02431836\n",
      " 0.00950063 0.01781492 0.01570819 0.0233761  0.03000871 0.03074738\n",
      " 0.02539445]\n",
      "[3.18309886e-01 1.08052304e-03 2.98074903e-04 1.47978099e-03\n",
      " 1.92278361e-03 4.93839138e-03 1.38070162e-03 2.40419329e-03\n",
      " 5.19270972e-03 2.78506272e-03 6.80655911e-03 8.87265772e-03\n",
      " 3.12374181e-03 3.81516641e-03 6.15546387e-03 7.16161696e-03\n",
      " 3.96401022e-03 8.87715358e-03 1.03804528e-02 4.86253405e-03\n",
      " 5.03268846e-03 5.72222455e-03 6.76050631e-03 7.89718770e-03\n",
      " 2.86318778e-03]\n",
      "[0.31830989 0.19153612 0.07643639 0.04929501 0.0546835  0.04388366\n",
      " 0.05276008 0.03671999 0.04819916 0.02476941 0.04977153 0.03832501\n",
      " 0.09454287 0.03595012 0.04843313 0.03289815 0.03752435 0.03425402\n",
      " 0.01930415 0.03183503 0.00847267 0.01289527 0.00991526 0.03379642\n",
      " 0.02127028]\n",
      "[0.31830989 0.00898629 0.01633195 0.01615403 0.01082478 0.02382703\n",
      " 0.01206184 0.01598092 0.00609657 0.00659603 0.01528728 0.01441524\n",
      " 0.00067986 0.01099414 0.00437195 0.0217965  0.00279621 0.00496154\n",
      " 0.00431404 0.00672077 0.00826965 0.00686224 0.00726453 0.00798425\n",
      " 0.01583826]\n",
      "[3.18309886e-01 1.93738857e-03 1.48916994e-04 2.82466124e-03\n",
      " 3.97627849e-03 3.81290437e-03 6.29498870e-05 4.68505748e-03\n",
      " 2.43194848e-03 6.22452314e-03 5.89176853e-03 5.65658765e-03\n",
      " 2.74358586e-04 6.46508881e-03 3.32130964e-03 1.80377007e-03\n",
      " 8.78918242e-03 8.12464205e-03 7.79647846e-03 4.11940685e-03\n",
      " 9.22770717e-04 8.06128028e-03 4.20153368e-03 2.62241084e-03\n",
      " 1.78895310e-03]\n",
      "[0.31830989 0.11663686 0.12550334 0.09534279 0.03070385 0.06156609\n",
      " 0.01574717 0.06458038 0.07994363 0.02917648 0.01941206 0.02465262\n",
      " 0.00937007 0.00697219 0.003756   0.00829596 0.03679367 0.02017644\n",
      " 0.02435607 0.01798558 0.00068474 0.0191665  0.02591652 0.02463583\n",
      " 0.01517466]\n",
      "[3.18309886e-01 1.27174779e-03 3.37773478e-04 1.11176487e-03\n",
      " 2.59748269e-03 1.56674383e-03 4.02912766e-04 1.70720844e-03\n",
      " 3.05227079e-03 4.01133124e-03 2.64736786e-03 1.30462972e-03\n",
      " 2.11129095e-04 2.09139675e-03 4.05159376e-03 4.77471719e-03\n",
      " 5.50490159e-03 4.07235450e-03 2.10131539e-03 5.81659814e-03\n",
      " 3.67975186e-04 2.20764337e-03 4.82414426e-03 6.42262391e-03\n",
      " 8.86019583e-03]\n",
      "[3.18309886e-01 2.05965811e-04 3.70224063e-03 3.93261236e-03\n",
      " 4.13050841e-04 7.84746185e-04 5.95871456e-03 6.23978747e-03\n",
      " 7.76934143e-03 6.22971741e-04 1.17285959e-03 2.68090990e-03\n",
      " 7.90139894e-03 8.03603316e-03 1.10121013e-02 1.41773826e-02\n",
      " 8.38907272e-04 1.55036837e-03 3.60971878e-03 2.46059580e-04\n",
      " 9.41528615e-03 9.04993833e-03 1.43493095e-02 1.65304097e-02\n",
      " 6.31698305e-03]\n",
      "[0.31830989 0.13052661 0.05382608 0.10515343 0.06250651 0.0363561\n",
      " 0.03396188 0.07848717 0.04817337 0.02469297 0.00321935 0.03166734\n",
      " 0.03636828 0.03952464 0.01868471 0.05043142 0.02871536 0.03005381\n",
      " 0.03449888 0.03030459 0.00762646 0.03148633 0.01885618 0.01975593\n",
      " 0.01460129]\n",
      "[3.18309886e-01 1.40989292e-04 3.02955747e-03 1.44440932e-03\n",
      " 3.57249350e-04 5.11138330e-03 4.89856374e-03 2.37589250e-03\n",
      " 3.77453476e-03 7.98685852e-04 7.83229003e-03 4.89178756e-03\n",
      " 6.50850443e-03 3.26476104e-03 4.80596583e-03 3.04632005e-04\n",
      " 1.59944304e-03 1.06938868e-02 6.76128168e-03 2.42653556e-03\n",
      " 7.69641161e-03 4.11037513e-03 5.37157698e-03 3.55458846e-04\n",
      " 4.80234524e-03]\n",
      "[0.31830989 0.11006315 0.23861529 0.25984077 0.1782329  0.1779773\n",
      " 0.15130557 0.14362161 0.15821592 0.17954308 0.18641299 0.1772662\n",
      " 0.05565498 0.05791884 0.0443181  0.06444946 0.13569665 0.13735989\n",
      " 0.13169583 0.12574996 0.02101625 0.02389341 0.0059225  0.01171603\n",
      " 0.02983008]\n",
      "[0.31830989 0.50065823 0.48533779 0.47733049 0.29707625 0.2810665\n",
      " 0.05146562 0.05874026 0.0276789  0.14449179 0.17339576 0.17163051\n",
      " 0.18767824 0.22192089 0.23579594 0.2273903  0.12522826 0.18395037\n",
      " 0.16229161 0.15676519 0.01502724 0.03205618 0.09101718 0.02202677\n",
      " 0.03677192]\n",
      "[0.31830989 0.03478663 0.03598211 0.03997324 0.01354903 0.02115253\n",
      " 0.00351898 0.01344802 0.01150509 0.00576076 0.0049246  0.01419099\n",
      " 0.01039194 0.00571884 0.00445264 0.00205449 0.00408361 0.00676341\n",
      " 0.00865143 0.01122482 0.00771478 0.00373413 0.00721713 0.00840915\n",
      " 0.00751895]\n",
      "[0.31830989 0.00114005 0.00303399 0.00128397 0.00237664 0.00442463\n",
      " 0.00492243 0.00206229 0.00169891 0.00381142 0.00682293 0.00694799\n",
      " 0.00658224 0.00272739 0.00200991 0.00202688 0.00554332 0.00938473\n",
      " 0.00954404 0.00460334 0.0078733  0.0032538  0.00203705 0.00261724\n",
      " 0.00669275]\n",
      "[3.18309886e-01 1.32884632e-03 1.77975745e-03 8.85737138e-04\n",
      " 2.69888712e-03 1.52799192e-03 3.03021845e-03 1.31612645e-03\n",
      " 2.31960513e-04 4.13496735e-03 2.18976786e-03 4.48839176e-03\n",
      " 4.36566469e-03 1.53246066e-03 5.53607020e-04 4.67546635e-03\n",
      " 5.62762763e-03 2.76359838e-03 6.68294874e-03 1.21700066e-02\n",
      " 5.79845180e-03 1.62570338e-03 1.26252838e-03 5.41152668e-03\n",
      " 2.29594034e-03]\n",
      "[0.31830989 0.3401896  0.18332332 0.16574056 0.21171804 0.31283819\n",
      " 0.17863527 0.31816856 0.21746974 0.0816982  0.08674987 0.02534056\n",
      " 0.12030091 0.16096937 0.20421402 0.07824713 0.18933344 0.26528295\n",
      " 0.18163201 0.15581403 0.00932511 0.12934693 0.07016356 0.09675671\n",
      " 0.11935596]\n",
      "[0.31830989 0.0202538  0.11308285 0.11303005 0.01072533 0.03365623\n",
      " 0.02910207 0.02557969 0.03003286 0.01051178 0.01508916 0.03611314\n",
      " 0.03341679 0.03968151 0.05155278 0.02268606 0.00323649 0.02431349\n",
      " 0.0154025  0.01000773 0.00186115 0.00936458 0.02135694 0.02184333\n",
      " 0.01769774]\n",
      "[0.31830989 0.0007076  0.00164438 0.00155009 0.00151033 0.00440607\n",
      " 0.00259276 0.00245047 0.00128361 0.0025162  0.00674706 0.00732816\n",
      " 0.00329358 0.00314405 0.00132531 0.00427035 0.00383719 0.00919638\n",
      " 0.01003199 0.00275493 0.00360223 0.00354873 0.00085833 0.00497523\n",
      " 0.010054  ]\n",
      "[0.31830989 0.1758333  0.0814051  0.08596161 0.06630817 0.05421837\n",
      " 0.01735958 0.05208891 0.04023771 0.01702508 0.0162778  0.01922788\n",
      " 0.07386334 0.0350541  0.0579189  0.04170684 0.00284944 0.01054454\n",
      " 0.02917889 0.01574236 0.0012885  0.038484   0.01175768 0.01961368\n",
      " 0.0146434 ]\n",
      "[0.31830989 0.00865123 0.01525202 0.01429476 0.00937151 0.01022517\n",
      " 0.01220157 0.01254504 0.00395207 0.00760496 0.00460883 0.00685282\n",
      " 0.00344986 0.00723694 0.00212213 0.00572687 0.01254628 0.00878998\n",
      " 0.00493896 0.01534257 0.00140034 0.00794022 0.00574438 0.00160871\n",
      " 0.00475402]\n",
      "[0.31830989 0.10972039 0.19244524 0.1920755  0.17012599 0.18889165\n",
      " 0.0259041  0.16690918 0.06085408 0.17443154 0.13267296 0.13670994\n",
      " 0.00393512 0.03014426 0.03760657 0.0235736  0.14347229 0.10577032\n",
      " 0.13405808 0.10227328 0.02755835 0.05696004 0.03194285 0.06943775\n",
      " 0.03591404]\n",
      "[0.31830989 0.00197462 0.00176831 0.00267263 0.00407776 0.0036069\n",
      " 0.00297853 0.0044033  0.00215043 0.00642583 0.0056313  0.00467258\n",
      " 0.00424336 0.00605272 0.00296559 0.00345702 0.00910679 0.00786255\n",
      " 0.00644002 0.00770134 0.00559667 0.00758574 0.00374112 0.00503651\n",
      " 0.00425369]\n",
      "[0.31830989 0.24472909 0.0740895  0.06932419 0.20703777 0.19751311\n",
      " 0.08387444 0.06086363 0.07255322 0.05544725 0.05311403 0.06011046\n",
      " 0.03915914 0.01295197 0.00978426 0.02657835 0.02761018 0.04053904\n",
      " 0.03537644 0.04575729 0.01406064 0.00559783 0.02860429 0.02486767\n",
      " 0.02610256]\n",
      "[0.31830989 0.06310354 0.06238512 0.05721148 0.03665309 0.03132406\n",
      " 0.00814135 0.01082258 0.00722015 0.01438742 0.01159307 0.02487999\n",
      " 0.01902915 0.02164683 0.01726684 0.02885205 0.01077284 0.00976673\n",
      " 0.01250539 0.01621594 0.00206793 0.01039425 0.00941175 0.01371079\n",
      " 0.01116656]\n",
      "[0.31830989 0.3727742  0.28332392 0.11619197 0.01789826 0.10765645\n",
      " 0.10829357 0.13870956 0.0681676  0.10764391 0.04341011 0.06936748\n",
      " 0.02930992 0.03730175 0.09633969 0.06335031 0.08104943 0.0282315\n",
      " 0.07607095 0.04777301 0.03574604 0.05635289 0.03374709 0.03370092\n",
      " 0.06226158]\n",
      "[0.31830989 0.11202445 0.12846953 0.08995826 0.05365943 0.09747631\n",
      " 0.00376745 0.06039968 0.0278471  0.01116539 0.03844151 0.06016784\n",
      " 0.01902078 0.0473801  0.05294935 0.0714604  0.02016658 0.06731428\n",
      " 0.02843661 0.01520519 0.00845013 0.06020352 0.03132472 0.07391204\n",
      " 0.03174316]\n",
      "[0.31830989 0.00863577 0.00694423 0.00917035 0.00762027 0.01029333\n",
      " 0.00039766 0.00377877 0.00507674 0.00509969 0.00573438 0.01378166\n",
      " 0.00382688 0.00470769 0.0079913  0.01044712 0.00661747 0.0071922\n",
      " 0.00333368 0.00249487 0.0032418  0.00565574 0.00366843 0.00920488\n",
      " 0.01159721]\n",
      "[0.31830989 0.04454045 0.06572325 0.0726366  0.02282423 0.02990748\n",
      " 0.02555855 0.03110646 0.03627618 0.02097087 0.02422205 0.01611146\n",
      " 0.00791168 0.0039526  0.0133657  0.01548103 0.02054181 0.02386244\n",
      " 0.03491504 0.0227972  0.0029543  0.00555431 0.00417475 0.01289235\n",
      " 0.00970029]\n",
      "[0.31830989 0.13608715 0.11687452 0.10641471 0.054411   0.04520789\n",
      " 0.01894467 0.01490581 0.03806817 0.0568038  0.02059296 0.02869864\n",
      " 0.05979406 0.02892132 0.05868685 0.01056271 0.01896828 0.01169621\n",
      " 0.03736565 0.0428316  0.00809805 0.01233273 0.02369669 0.01856618\n",
      " 0.0072676 ]\n",
      "[0.31830989 0.03959912 0.1444755  0.13280769 0.01295206 0.02626463\n",
      " 0.01088692 0.00525389 0.01833579 0.02630108 0.0290531  0.04454934\n",
      " 0.03200741 0.03162751 0.04315043 0.02545808 0.01535261 0.03031064\n",
      " 0.02146944 0.04299827 0.00699698 0.01647682 0.01081054 0.02181729\n",
      " 0.02921184]\n",
      "[0.31830989 0.12019903 0.14788064 0.29911853 0.19082443 0.20556157\n",
      " 0.14761077 0.09350156 0.1791858  0.22296028 0.20622092 0.20587175\n",
      " 0.08692938 0.02700605 0.04986079 0.06101994 0.20071134 0.20046634\n",
      " 0.18128532 0.13137409 0.07970233 0.01685145 0.08610838 0.02231842\n",
      " 0.08620869]\n",
      "[3.18309886e-01 2.09486784e-04 3.11493294e-03 1.68592114e-03\n",
      " 4.29073671e-04 4.78664525e-03 5.13587917e-03 2.87802195e-03\n",
      " 1.59897765e-03 7.11845436e-04 7.50434089e-03 4.45044557e-03\n",
      " 7.06711065e-03 4.17171585e-03 2.15554518e-03 2.96874769e-03\n",
      " 1.12978346e-03 1.05523639e-02 6.19983982e-03 6.55356977e-03\n",
      " 8.86064766e-03 5.60448525e-03 2.62765754e-03 4.38971372e-03\n",
      " 1.30591632e-03]\n",
      "[0.31830989 0.00136396 0.00233401 0.00086598 0.00285307 0.00469407\n",
      " 0.00372941 0.00144695 0.00163681 0.00458355 0.00722797 0.00776556\n",
      " 0.00484372 0.00203316 0.00160199 0.00329496 0.00665013 0.00993223\n",
      " 0.01054471 0.00081945 0.00549168 0.00262525 0.00098893 0.00437622\n",
      " 0.00367927]\n",
      "[3.18309886e-01 2.14806626e-03 3.40637170e-04 1.15392314e-03\n",
      " 4.35475331e-03 1.87044910e-03 4.17129125e-04 1.79812289e-03\n",
      " 3.09876256e-03 6.65911227e-03 3.12757760e-03 3.65274540e-03\n",
      " 2.50531695e-04 2.26778022e-03 4.08918461e-03 5.27039309e-03\n",
      " 9.05822143e-03 4.75923749e-03 5.17126533e-03 3.75259909e-03\n",
      " 2.84590162e-04 2.53105914e-03 4.81620784e-03 7.01706857e-03\n",
      " 1.01314202e-02]\n",
      "[0.31830989 0.00117248 0.00040435 0.00284685 0.00241473 0.00308404\n",
      " 0.0007435  0.00454595 0.00084758 0.00380002 0.00474114 0.005887\n",
      " 0.0011945  0.0059251  0.00107506 0.00292645 0.00539832 0.00648479\n",
      " 0.0081015  0.00848959 0.00181348 0.00682104 0.00116327 0.00415041\n",
      " 0.00253715]\n",
      "[3.18309886e-01 9.08566263e-04 1.64646105e-03 2.18848041e-03\n",
      " 1.89095541e-03 3.84538840e-05 2.35774260e-03 3.60241982e-03\n",
      " 3.27576227e-03 3.00823268e-03 2.14668877e-04 1.62396074e-03\n",
      " 2.46052270e-03 4.94660399e-03 4.27378899e-03 1.50956966e-03\n",
      " 4.29327564e-03 5.65047528e-04 1.95908048e-03 2.71760553e-03\n",
      " 1.66477085e-03 6.18960043e-03 4.87322429e-03 1.99763452e-03\n",
      " 3.94890529e-04]\n",
      "[3.18309886e-01 1.50037285e-03 1.22709442e-03 4.78127319e-03\n",
      " 1.77189451e-03 5.03544015e-03 2.52089100e-04 5.97330881e-03\n",
      " 7.35529715e-03 8.05621443e-04 4.76782113e-03 2.53580112e-03\n",
      " 2.09116383e-03 5.60603572e-03 7.27691257e-03 1.09551905e-02\n",
      " 2.22805961e-03 3.25359063e-03 2.93324607e-03 3.48481526e-03\n",
      " 4.73608424e-03 4.81177675e-03 6.98278583e-03 8.25810498e-03\n",
      " 6.75595561e-03]\n",
      "[0.31830989 0.00194219 0.00176354 0.00150619 0.00390309 0.00193691\n",
      " 0.00294846 0.00251353 0.00267057 0.00588421 0.00283237 0.0026028\n",
      " 0.00413438 0.00356156 0.00347917 0.00479875 0.00785088 0.00367173\n",
      " 0.0040944  0.01257617 0.0052979  0.00475289 0.00407612 0.00601787\n",
      " 0.00288361]\n",
      "[0.31830989 0.00045621 0.00036694 0.0030778  0.00097734 0.00333793\n",
      " 0.00055335 0.00523282 0.00072579 0.00164055 0.00534868 0.00511974\n",
      " 0.00065004 0.00753062 0.00102781 0.00124921 0.00251498 0.00770483\n",
      " 0.00708848 0.0062321  0.00061597 0.0100021  0.00133865 0.00106352\n",
      " 0.00337454]\n",
      "[0.31830989 0.00111358 0.00303436 0.00079752 0.00236606 0.00490547\n",
      " 0.00492342 0.0013624  0.00140463 0.00388595 0.00755812 0.00682902\n",
      " 0.00658157 0.00198225 0.00167408 0.0022591  0.00577623 0.01039112\n",
      " 0.00936185 0.00324802 0.00786226 0.00268741 0.00188121 0.0025969\n",
      " 0.00529177]\n",
      "[0.31830989 0.0013212  0.00105902 0.00211322 0.00266924 0.00271369\n",
      " 0.0017163  0.00354138 0.00369799 0.00405127 0.00411301 0.00130467\n",
      " 0.00228705 0.00501216 0.004994   0.00347895 0.00543309 0.00557489\n",
      " 0.00240085 0.01081245 0.00271301 0.00657892 0.00613082 0.00462069\n",
      " 0.00473724]\n",
      "[0.31830989 0.00185348 0.00042993 0.00058417 0.0037494  0.00182772\n",
      " 0.00086726 0.0007326  0.0024178  0.00572076 0.00288432 0.0046797\n",
      " 0.00152407 0.00053013 0.00354803 0.00690146 0.00778062 0.00409976\n",
      " 0.00665922 0.00956208 0.00247273 0.00069103 0.00482962 0.00758774\n",
      " 0.00769642]\n",
      "[0.31830989 0.00142406 0.00096213 0.00345168 0.00292491 0.0036895\n",
      " 0.00148874 0.00552636 0.00079948 0.00458161 0.0056411  0.00645039\n",
      " 0.00182834 0.00723631 0.00087764 0.00266996 0.00646984 0.00766453\n",
      " 0.00880105 0.00532898 0.00188133 0.00839156 0.00068253 0.00324111\n",
      " 0.00649956]\n",
      "[0.31830989 0.000667   0.00302755 0.00144453 0.0014255  0.00510728\n",
      " 0.00488768 0.00235853 0.00375299 0.00237817 0.00779669 0.00488488\n",
      " 0.0064745  0.00320269 0.00472186 0.00033331 0.00362999 0.01059482\n",
      " 0.00674401 0.00242449 0.00761389 0.0039652  0.00518366 0.00040342\n",
      " 0.00478841]\n",
      "[3.18309886e-01 1.88789950e-03 3.14761563e-03 3.06936222e-04\n",
      " 3.81526570e-03 2.25753281e-04 5.29773723e-03 6.81468853e-04\n",
      " 9.40855955e-04 5.80445780e-03 2.47124818e-04 4.45176096e-03\n",
      " 7.51383986e-03 1.36715741e-03 1.33526798e-03 4.68868250e-03\n",
      " 7.84201785e-03 5.04003422e-04 6.63041642e-03 1.29674198e-02\n",
      " 9.79981283e-03 2.55129088e-03 1.93260695e-03 5.46630614e-03\n",
      " 3.96101104e-03]\n",
      "[0.31830989 0.00222114 0.00103568 0.00243932 0.0044899  0.0013538\n",
      " 0.00186602 0.00392759 0.00502923 0.00683293 0.00190653 0.00311859\n",
      " 0.00292193 0.00519328 0.00674693 0.00177845 0.00923295 0.00235853\n",
      " 0.00375462 0.00659933 0.00431937 0.00612056 0.00812549 0.00255498\n",
      " 0.00585482]\n",
      "[3.18309886e-01 1.52128165e-03 3.03963193e-03 1.17471238e-04\n",
      " 3.18266683e-03 4.68686343e-03 4.95061300e-03 1.61563191e-04\n",
      " 2.40832092e-03 5.11410545e-03 7.23783673e-03 6.26464582e-03\n",
      " 6.66103914e-03 2.92114707e-04 3.57189106e-03 8.48318913e-04\n",
      " 7.42002762e-03 9.97493470e-03 8.61390710e-03 3.24719406e-03\n",
      " 8.04163659e-03 6.49035982e-04 5.04082715e-03 9.71796438e-04\n",
      " 4.26972745e-03]\n",
      "[0.31830989 0.00131129 0.00097623 0.00063212 0.00277851 0.00257306\n",
      " 0.00155743 0.00114231 0.00058826 0.00454284 0.00406139 0.00657577\n",
      " 0.00201311 0.00177638 0.00116872 0.001131   0.00671227 0.00572621\n",
      " 0.00903789 0.00210031 0.00225556 0.00256366 0.00212752 0.00191607\n",
      " 0.00450763]\n",
      "[0.31830989 0.00099098 0.00112943 0.00444208 0.00197286 0.00157056\n",
      " 0.00207231 0.00713824 0.00463927 0.00294027 0.0024553  0.00407057\n",
      " 0.00329875 0.00940035 0.00650633 0.00533736 0.00389395 0.00346586\n",
      " 0.00556187 0.00718029 0.00491606 0.01099269 0.00835026 0.00571685\n",
      " 0.0044635 ]\n",
      "[3.18309886e-01 1.24219623e-03 2.79640725e-04 2.76410789e-03\n",
      " 2.58139162e-03 3.95471847e-03 3.77550523e-04 4.40087789e-03\n",
      " 3.90145330e-04 4.11401788e-03 6.06739327e-03 7.23098634e-03\n",
      " 3.29851476e-04 5.70594886e-03 7.13984086e-04 1.39311149e-03\n",
      " 5.92646993e-03 8.28645343e-03 9.88193680e-03 6.76975020e-03\n",
      " 5.69828077e-05 6.50670619e-03 1.26944891e-03 2.06367540e-03\n",
      " 4.46710492e-03]\n",
      "[3.18309886e-01 2.24561084e-04 1.05771844e-03 7.43008538e-04\n",
      " 4.96035700e-04 3.98303574e-03 1.71079378e-03 1.38593194e-03\n",
      " 2.60737994e-03 8.62491477e-04 6.37556518e-03 1.63414700e-03\n",
      " 2.27551934e-03 2.25076059e-03 3.43417182e-03 2.25345349e-03\n",
      " 1.34683645e-03 9.19443315e-03 2.43181021e-03 1.06920815e-02\n",
      " 2.69823721e-03 3.41697540e-03 4.02759598e-03 2.65241126e-03\n",
      " 2.48439179e-03]\n",
      "[0.31830989 0.02701775 0.02562661 0.01948042 0.01635134 0.01154435\n",
      " 0.00528531 0.00755495 0.01745678 0.00443622 0.01520938 0.02396553\n",
      " 0.00089081 0.00995588 0.0197099  0.03181793 0.01555426 0.00247194\n",
      " 0.02600443 0.03695658 0.01191807 0.01043262 0.00484636 0.02456139\n",
      " 0.03960762]\n",
      "[0.31830989 0.10835638 0.08167721 0.07689469 0.02675989 0.01590986\n",
      " 0.0265913  0.02087981 0.03306258 0.0339744  0.02604863 0.0339016\n",
      " 0.01727383 0.01850318 0.00527147 0.01109593 0.01530064 0.00402344\n",
      " 0.02632049 0.01756147 0.0249049  0.01434395 0.00445972 0.02849926\n",
      " 0.01506419]\n",
      "[0.31830989 0.02764593 0.02715881 0.02325285 0.00179534 0.03788406\n",
      " 0.00095911 0.01959094 0.03404811 0.01312377 0.0293264  0.01405561\n",
      " 0.01240526 0.00938659 0.02630825 0.02871301 0.01077119 0.00961415\n",
      " 0.02611177 0.03710758 0.02339547 0.02096533 0.02137145 0.023227\n",
      " 0.02844703]\n",
      "[3.18309886e-01 9.88075848e-04 2.46324017e-04 3.34793214e-03\n",
      " 2.00563245e-03 2.13251652e-03 2.15674296e-04 5.30743292e-03\n",
      " 4.92842445e-03 3.07785263e-03 3.22672519e-03 5.20217302e-03\n",
      " 1.03888240e-04 6.82042849e-03 6.94810290e-03 7.65060651e-03\n",
      " 4.22023556e-03 4.33649747e-03 7.08504388e-03 5.78991135e-03\n",
      " 8.18002173e-04 7.64311120e-03 8.97872065e-03 8.71891588e-03\n",
      " 3.23203138e-03]\n",
      "[3.18309886e-01 8.28425789e-04 2.64686480e-04 2.64111704e-03\n",
      " 1.69798508e-03 5.93118003e-03 3.01119268e-04 4.17529228e-03\n",
      " 1.60025986e-03 2.67120679e-03 8.99912740e-03 6.64528132e-03\n",
      " 1.09120428e-04 5.34457380e-03 2.24793065e-03 3.33114070e-03\n",
      " 3.83584687e-03 1.21320688e-02 9.09333023e-03 5.57901962e-03\n",
      " 4.34156551e-04 5.95898826e-03 3.00629663e-03 3.57718793e-03\n",
      " 9.27557443e-03]\n",
      "[0.31830989 0.10928208 0.03648712 0.0972508  0.0360765  0.0431246\n",
      " 0.00635436 0.04538657 0.01407893 0.01029328 0.04578586 0.03230506\n",
      " 0.02904157 0.03581885 0.0073399  0.02855923 0.0120317  0.03275407\n",
      " 0.00600088 0.03688584 0.01457294 0.02475728 0.02920177 0.02026407\n",
      " 0.02757091]\n",
      "[0.31830989 0.00538662 0.01172935 0.00772923 0.0083451  0.00806047\n",
      " 0.01576897 0.00915976 0.00953799 0.00780443 0.00771383 0.01528714\n",
      " 0.01614698 0.00715547 0.00752154 0.01284778 0.00468984 0.00714603\n",
      " 0.01279017 0.01525995 0.01408649 0.00327435 0.0040385  0.00739294\n",
      " 0.01565857]\n",
      "[0.31830989 0.02089755 0.02316875 0.02370404 0.02778705 0.02236246\n",
      " 0.01887483 0.02038645 0.01632235 0.01961055 0.01181906 0.02127763\n",
      " 0.00330391 0.00926379 0.00252862 0.02109254 0.00911456 0.0056739\n",
      " 0.01176457 0.01713958 0.01019197 0.01148059 0.01227511 0.01149916\n",
      " 0.01913521]\n",
      "[0.31830989 0.12078422 0.23775788 0.20463446 0.10741268 0.1110894\n",
      " 0.10782625 0.12678863 0.07927449 0.0901114  0.0637909  0.05770877\n",
      " 0.04106043 0.06977751 0.06379672 0.09721014 0.06146897 0.0223037\n",
      " 0.06946511 0.06334563 0.01953883 0.01475561 0.08148488 0.07169866\n",
      " 0.04889257]\n",
      "[0.31830989 0.00260734 0.00036921 0.0020323  0.00528105 0.00084912\n",
      " 0.00083538 0.00324963 0.00436169 0.00806727 0.00099867 0.0016131\n",
      " 0.00165068 0.00425682 0.00578534 0.00412563 0.01096934 0.00088441\n",
      " 0.00244871 0.0067485  0.00298549 0.00496441 0.00682879 0.00545861\n",
      " 0.00443201]\n",
      "[0.31830989 0.00492232 0.00443565 0.00632289 0.0068113  0.00612917\n",
      " 0.00309998 0.00591734 0.00703805 0.00537263 0.00395749 0.009157\n",
      " 0.00077433 0.00256152 0.00421278 0.00849269 0.00298463 0.0006771\n",
      " 0.00684649 0.01346812 0.00446207 0.00111966 0.00172621 0.0044611\n",
      " 0.00330685]\n",
      "[3.18309886e-01 1.26539324e-01 2.21157613e-01 2.24868445e-01\n",
      " 1.78338895e-01 1.74828676e-01 8.82462957e-02 1.05968127e-01\n",
      " 9.95463931e-02 1.37919200e-01 1.44894596e-01 1.35659457e-01\n",
      " 3.70035400e-02 4.42250282e-03 2.84197530e-02 2.26320336e-02\n",
      " 6.92798170e-02 5.91180420e-02 6.65353495e-02 5.31621195e-02\n",
      " 2.91373573e-04 1.54848438e-02 2.29222100e-02 3.51080792e-02\n",
      " 9.78317766e-03]\n",
      "[3.18309886e-01 1.03021312e-02 2.14099036e-02 1.06154959e-02\n",
      " 1.40902526e-02 2.14147102e-02 2.26097969e-02 1.11801331e-02\n",
      " 1.80662702e-02 9.33112668e-03 1.85425000e-02 5.20131055e-03\n",
      " 1.31720578e-02 7.22337871e-03 1.38535547e-02 2.94565351e-02\n",
      " 1.86808600e-03 1.09066410e-02 3.73804236e-03 1.94896034e-02\n",
      " 1.55438462e-05 3.02666238e-03 1.06272178e-02 1.29296897e-02\n",
      " 1.16280267e-02]\n",
      "[0.31830989 0.19089835 0.00298053 0.09099554 0.10812131 0.01638222\n",
      " 0.02279007 0.06284293 0.09068027 0.0394858  0.06210469 0.03588577\n",
      " 0.01896146 0.02955199 0.05377682 0.05503552 0.05084632 0.01037693\n",
      " 0.00900089 0.00385185 0.00371577 0.01917479 0.01770158 0.03008997\n",
      " 0.04310072]\n",
      "[3.18309886e-01 1.10313258e-02 1.00000355e-02 1.25946120e-02\n",
      " 1.28069562e-02 1.60391350e-02 5.48874998e-03 8.21906562e-03\n",
      " 1.15274086e-02 9.57789542e-03 1.07595397e-02 1.16528092e-02\n",
      " 4.23375005e-05 2.16976042e-03 1.61885037e-03 9.03659552e-03\n",
      " 9.39277082e-03 7.92784956e-03 2.53118074e-03 9.09023603e-03\n",
      " 1.76133151e-05 2.96029911e-03 4.64941216e-03 2.24307841e-03\n",
      " 1.36731617e-02]\n",
      "[0.31830989 0.0151722  0.0225787  0.02536343 0.00802285 0.02936107\n",
      " 0.01136484 0.01521831 0.01913797 0.00704678 0.00285733 0.0353927\n",
      " 0.00353277 0.01059901 0.01070966 0.02421084 0.00650058 0.00684696\n",
      " 0.01623633 0.01685212 0.00493951 0.00830597 0.00654081 0.01667673\n",
      " 0.01837689]\n",
      "[0.31830989 0.07118745 0.07342987 0.07959851 0.00772735 0.03586841\n",
      " 0.00567015 0.01558605 0.01608613 0.02505023 0.04775223 0.01810167\n",
      " 0.00866539 0.00592572 0.02873808 0.03556829 0.01199214 0.0101896\n",
      " 0.03250329 0.02431596 0.01122001 0.01516485 0.02154145 0.00151519\n",
      " 0.02062024]\n",
      "[0.31830989 0.00225231 0.00102475 0.00192677 0.00454056 0.00232701\n",
      " 0.00181085 0.00306601 0.00488063 0.00687975 0.00331539 0.00123315\n",
      " 0.00276562 0.00396633 0.00647443 0.00301473 0.00924109 0.00411179\n",
      " 0.00095422 0.0091385  0.00398056 0.00449604 0.00766521 0.00425472\n",
      " 0.00147302]\n",
      "[0.31830989 0.07615047 0.2014939  0.08396131 0.03482888 0.05735529\n",
      " 0.0018365  0.03492525 0.08029681 0.02374568 0.01960713 0.07830367\n",
      " 0.0318004  0.02414941 0.04937104 0.07358917 0.01605545 0.02872473\n",
      " 0.01125578 0.04012442 0.00694732 0.01317173 0.05247511 0.07890949\n",
      " 0.03495138]\n",
      "[0.31830989 0.00705201 0.00828549 0.01076098 0.00623556 0.01212497\n",
      " 0.00413357 0.00678465 0.01307974 0.00292591 0.00434962 0.01669388\n",
      " 0.00226791 0.00151954 0.00272134 0.01773124 0.00814905 0.00432169\n",
      " 0.0047907  0.0172473  0.00411729 0.00369518 0.00256306 0.00510433\n",
      " 0.0108337 ]\n",
      "[0.31830989 0.29842161 0.01841495 0.10079204 0.24763918 0.25485119\n",
      " 0.18326475 0.16888495 0.17611103 0.05377366 0.05045561 0.03237845\n",
      " 0.16983831 0.14837804 0.13327959 0.10036327 0.0753837  0.07329731\n",
      " 0.06538102 0.06100996 0.0675772  0.04676778 0.0581156  0.10905435\n",
      " 0.10117815]\n",
      "[0.31830989 0.450289   0.33407001 0.31628349 0.03719741 0.01242061\n",
      " 0.26707804 0.26317924 0.3216821  0.39552011 0.37862848 0.45931218\n",
      " 0.29364286 0.28822668 0.25794767 0.34873692 0.03212753 0.03530368\n",
      " 0.04835653 0.07271781 0.23819801 0.21188149 0.20583082 0.28733772\n",
      " 0.22731141]\n",
      "[3.18309886e-01 9.93966390e-03 1.27677614e-02 1.48152125e-02\n",
      " 7.16315973e-03 1.52566114e-02 6.63834149e-03 7.98553708e-03\n",
      " 2.17553348e-02 3.66763829e-03 2.32726785e-03 2.27655240e-02\n",
      " 1.86828703e-04 3.28376304e-03 1.07082413e-02 2.43384999e-02\n",
      " 8.38919559e-03 8.36089271e-03 1.27546121e-02 1.50184903e-02\n",
      " 2.39737320e-03 1.90327336e-03 9.43420531e-03 4.79142782e-03\n",
      " 1.55778249e-02]\n",
      "[0.31830989 0.00097575 0.00105891 0.00132424 0.00199272 0.0027335\n",
      " 0.00171649 0.00223317 0.0032859  0.0030788  0.00441427 0.00071677\n",
      " 0.00229046 0.00320527 0.0044309  0.0015411  0.00423041 0.00642713\n",
      " 0.00095663 0.00944843 0.00272754 0.00430892 0.00541388 0.00244647\n",
      " 0.00260118]\n",
      "[0.31830989 0.00127865 0.00234809 0.00072223 0.00269795 0.00379672\n",
      " 0.00380357 0.00112715 0.0018649  0.00438868 0.00589376 0.00716339\n",
      " 0.00506678 0.00142444 0.00296976 0.00117723 0.006456   0.00816714\n",
      " 0.00982332 0.00211751 0.00601169 0.00158697 0.00450694 0.00189531\n",
      " 0.00483114]\n",
      "[0.31830989 0.09676946 0.18199246 0.16869697 0.07345206 0.07376843\n",
      " 0.04398144 0.04007492 0.05036873 0.02245871 0.01660272 0.00857441\n",
      " 0.00331894 0.0172869  0.03495578 0.00949961 0.05519363 0.04602233\n",
      " 0.03093108 0.05602775 0.00260146 0.01094599 0.02439655 0.00792339\n",
      " 0.02001699]\n",
      "[0.31830989 0.01012294 0.01325775 0.01000155 0.00686544 0.00413886\n",
      " 0.00085529 0.00348528 0.01027402 0.00106736 0.00449639 0.02629946\n",
      " 0.00502336 0.00479156 0.00990562 0.02127168 0.00176613 0.00998967\n",
      " 0.00712622 0.0223177  0.00262685 0.00097054 0.00375812 0.01046136\n",
      " 0.01039712]\n",
      "[0.31830989 0.04926963 0.05447821 0.10024969 0.01975312 0.04216021\n",
      " 0.00767908 0.02010901 0.04758256 0.00803674 0.03418968 0.02359612\n",
      " 0.00221334 0.01785777 0.03798902 0.01499732 0.0051545  0.01514906\n",
      " 0.01953305 0.01569387 0.01341301 0.00075722 0.03431366 0.02915697\n",
      " 0.02343061]\n",
      "[3.18309886e-01 2.76779682e-03 3.12346503e-04 1.02194885e-03\n",
      " 5.60985499e-03 8.97844058e-04 2.74666185e-04 1.62041842e-03\n",
      " 4.87793007e-03 8.58085418e-03 1.49896631e-03 7.36954078e-04\n",
      " 1.52056254e-04 2.08259771e-03 6.54777687e-03 1.78630205e-03\n",
      " 1.16942361e-02 2.26771947e-03 5.13660383e-04 5.83199988e-03\n",
      " 1.15553347e-03 2.33464225e-03 7.86574973e-03 2.49970602e-03\n",
      " 9.77984807e-04]\n",
      "[0.31830989 0.00118857 0.00301229 0.00238344 0.00244961 0.00449824\n",
      " 0.0048079  0.00391813 0.00083711 0.00386111 0.00684052 0.00611038\n",
      " 0.00623691 0.00536542 0.00033319 0.00053068 0.00550417 0.00925244\n",
      " 0.00831227 0.00567108 0.00706564 0.00667998 0.00127831 0.0008641\n",
      " 0.00530058]\n",
      "[3.18309886e-01 1.39180051e-03 3.01556907e-03 1.26627233e-03\n",
      " 2.85112458e-03 5.51307769e-04 4.63100086e-03 2.08943963e-03\n",
      " 3.48606668e-03 4.43632550e-03 7.15025239e-04 3.10736297e-04\n",
      " 5.62269797e-03 2.87974251e-03 4.57890674e-03 1.05890730e-03\n",
      " 6.18475765e-03 7.55886309e-04 2.71497458e-04 8.51215688e-04\n",
      " 5.69050993e-03 3.62202701e-03 5.27962350e-03 1.31571685e-03\n",
      " 3.65942043e-03]\n",
      "[3.18309886e-01 1.75925243e-03 9.74022196e-04 1.58237495e-03\n",
      " 3.59645486e-03 8.77291571e-04 1.28754975e-03 2.57523229e-03\n",
      " 4.13262506e-03 5.57221379e-03 1.21075203e-03 8.19118669e-04\n",
      " 1.07249647e-03 3.47296884e-03 5.46892177e-03 2.51856875e-03\n",
      " 7.71050263e-03 1.48948193e-03 1.08092999e-03 4.57413487e-03\n",
      " 7.76789054e-05 4.23531744e-03 6.41228160e-03 3.35199415e-03\n",
      " 2.20682767e-03]\n",
      "[3.18309886e-01 1.48762473e-03 1.65299965e-03 2.18693559e-03\n",
      " 3.05004032e-03 4.58193837e-05 2.39108825e-03 3.59465994e-03\n",
      " 3.27590010e-03 4.74713003e-03 2.56481869e-04 1.60910484e-03\n",
      " 2.55645335e-03 4.92514585e-03 4.26665399e-03 1.51828396e-03\n",
      " 6.60673119e-03 6.77003342e-04 1.92366888e-03 2.72681052e-03\n",
      " 1.87692052e-03 6.14487323e-03 4.85533092e-03 2.04109319e-03\n",
      " 4.14138794e-04]\n",
      "[0.31830989 0.00092933 0.00424917 0.00223636 0.0019742  0.00412714\n",
      " 0.00684105 0.00362412 0.00261635 0.00324538 0.00632981 0.00788549\n",
      " 0.00902875 0.00485273 0.00312928 0.00041815 0.00483943 0.00865134\n",
      " 0.01060792 0.00392838 0.01057298 0.00585185 0.00347132 0.00084411\n",
      " 0.00449289]\n",
      "[0.31830989 0.00144749 0.0011169  0.00073028 0.00293603 0.00214397\n",
      " 0.002008   0.00107267 0.00318621 0.00449756 0.00335828 0.00582756\n",
      " 0.00311186 0.00133495 0.00469493 0.00747903 0.00614485 0.00473108\n",
      " 0.00822588 0.00936161 0.00449753 0.00195263 0.00641348 0.00821323\n",
      " 0.00895115]\n",
      "[0.31830989 0.00201436 0.00033636 0.001995   0.00408708 0.00169901\n",
      " 0.00067003 0.00316729 0.00114143 0.0062564  0.00294292 0.00080914\n",
      " 0.00118354 0.00410714 0.00164931 0.00708286 0.00851758 0.00462062\n",
      " 0.00099886 0.00362939 0.00197495 0.00473263 0.00232434 0.00937051\n",
      " 0.00907973]\n",
      "[0.31830989 0.00225253 0.00035661 0.00214886 0.00456153 0.00074274\n",
      " 0.00077188 0.00344507 0.002259   0.00696316 0.00109961 0.0018983\n",
      " 0.00147104 0.00453686 0.00283184 0.00499863 0.00945044 0.00162927\n",
      " 0.00284039 0.00529681 0.00259619 0.00534674 0.00302024 0.00671035\n",
      " 0.00671983]\n",
      "[0.31830989 0.00183246 0.0010684  0.00143009 0.00370078 0.00186632\n",
      " 0.00176369 0.00236169 0.00596262 0.00562291 0.00285204 0.00187397\n",
      " 0.00242147 0.00327982 0.00814084 0.00592702 0.00757881 0.00391406\n",
      " 0.00306795 0.00849928 0.00300462 0.00423561 0.01011062 0.00765488\n",
      " 0.00559389]\n",
      "[0.31830989 0.0241278  0.02352528 0.02630755 0.02350714 0.02480143\n",
      " 0.01100715 0.0120126  0.01799897 0.00972958 0.00343615 0.01485426\n",
      " 0.00254899 0.00445514 0.00649955 0.00850571 0.00881836 0.00784707\n",
      " 0.00548601 0.00719769 0.00282443 0.00672365 0.0112054  0.00545812\n",
      " 0.01053683]\n",
      "[0.31830989 0.06083252 0.11040236 0.09404137 0.01619295 0.02563272\n",
      " 0.00069948 0.00986722 0.00115272 0.03551733 0.03493664 0.02975281\n",
      " 0.00465646 0.02515342 0.02096949 0.01462176 0.02943846 0.01469324\n",
      " 0.04473592 0.02970779 0.03275015 0.01238016 0.02110171 0.03589472\n",
      " 0.03014962]\n",
      "[0.31830989 0.00185676 0.00173303 0.00175533 0.00376888 0.00137141\n",
      " 0.00304903 0.00279689 0.00407019 0.00577083 0.00204865 0.0037286\n",
      " 0.00462247 0.0036297  0.00540738 0.00056253 0.00785318 0.00275014\n",
      " 0.00446507 0.00824632 0.00658294 0.0041435  0.00640047 0.00102067\n",
      " 0.00435534]\n",
      "[0.31830989 0.29526487 0.00414433 0.01519803 0.17832691 0.17571131\n",
      " 0.08986375 0.12430724 0.11405249 0.02866815 0.01064829 0.02781555\n",
      " 0.00893704 0.02803395 0.03125111 0.0455544  0.05471385 0.04886568\n",
      " 0.03925447 0.02371182 0.03202852 0.04133209 0.06860302 0.04593272\n",
      " 0.02739645]\n",
      "[3.18309886e-01 1.76611880e-03 1.69429894e-03 4.34739064e-03\n",
      " 2.66437575e-03 7.08088479e-03 1.46351413e-03 5.76668160e-03\n",
      " 3.48544506e-03 2.44565132e-03 8.98565050e-03 2.91567228e-03\n",
      " 4.50314970e-05 5.84823109e-03 3.21143170e-03 2.92404819e-03\n",
      " 2.01056159e-03 1.01882135e-02 2.92503746e-03 1.20230696e-02\n",
      " 1.86509936e-03 5.31395431e-03 3.52809604e-03 1.02005740e-03\n",
      " 3.98499540e-03]\n",
      "[0.31830989 0.00069755 0.00302391 0.00134102 0.00150492 0.00360231\n",
      " 0.004869   0.00212447 0.00459857 0.00253446 0.00550765 0.00613165\n",
      " 0.00642041 0.00273894 0.00576377 0.00295683 0.00389114 0.0074869\n",
      " 0.00838544 0.00221538 0.00749313 0.00312312 0.00621455 0.00333499\n",
      " 0.00768601]\n",
      "[0.31830989 0.00062709 0.00300829 0.00126596 0.00127158 0.00055803\n",
      " 0.00459355 0.00209186 0.0034898  0.00195729 0.00076992 0.0003372\n",
      " 0.00551354 0.00288955 0.00459392 0.00106207 0.00271358 0.00090868\n",
      " 0.00035536 0.00083978 0.00544526 0.00364573 0.00531189 0.00131358\n",
      " 0.00364932]\n",
      "[0.31830989 0.00092144 0.00036996 0.00307967 0.00196334 0.00332589\n",
      " 0.00056962 0.00522647 0.00070947 0.00323138 0.00529569 0.00511554\n",
      " 0.0007003  0.00750149 0.00093357 0.00128412 0.00479609 0.00756757\n",
      " 0.0070851  0.00622217 0.00073608 0.00992917 0.00108802 0.0011135\n",
      " 0.00342922]\n",
      "[0.31830989 0.00118814 0.0011241  0.00095641 0.00244765 0.00034377\n",
      " 0.00157563 0.00161224 0.00357657 0.00383909 0.00046635 0.00091018\n",
      " 0.0015424  0.00229061 0.00480931 0.00309486 0.00539768 0.000538\n",
      " 0.0015512  0.00408216 0.00076692 0.00298888 0.00574745 0.0038366\n",
      " 0.00429516]\n",
      "[0.31830989 0.07799864 0.06532247 0.07341097 0.01328635 0.02877101\n",
      " 0.01253674 0.01021989 0.01249869 0.03239097 0.02849049 0.02797891\n",
      " 0.00061342 0.01139484 0.03171625 0.01079153 0.01814343 0.0134562\n",
      " 0.01593758 0.00387159 0.03257124 0.01718311 0.00635493 0.02077279\n",
      " 0.00625784]\n",
      "[3.18309886e-01 6.01602076e-04 3.02794562e-03 1.44529005e-03\n",
      " 1.33409745e-03 5.11100848e-03 4.88935896e-03 2.37816848e-03\n",
      " 3.76285220e-03 2.31869405e-03 7.81989679e-03 4.87255668e-03\n",
      " 6.47803439e-03 3.26540934e-03 4.74124611e-03 3.27354524e-04\n",
      " 3.65409164e-03 1.06576865e-02 6.70536857e-03 2.42472809e-03\n",
      " 7.61820539e-03 4.09414936e-03 5.22619953e-03 3.13129584e-04\n",
      " 4.78338527e-03]\n",
      "[0.31830989 0.03240567 0.03683169 0.03635922 0.02519198 0.03412853\n",
      " 0.01436147 0.0118273  0.02212771 0.00498932 0.00413894 0.01755381\n",
      " 0.00762301 0.01139993 0.01138707 0.01643329 0.01154144 0.00549221\n",
      " 0.01533788 0.01807917 0.00634385 0.01096805 0.01327223 0.00904256\n",
      " 0.01101077]\n",
      "[0.31830989 0.00207357 0.00101606 0.00140793 0.00417516 0.00095131\n",
      " 0.00176725 0.00221323 0.00387538 0.00631238 0.00128019 0.00197357\n",
      " 0.00264312 0.00280801 0.00507889 0.00332392 0.00845001 0.00149096\n",
      " 0.0022369  0.00898164 0.00371743 0.00310337 0.00590365 0.00465724\n",
      " 0.00561012]\n",
      "[0.31830989 0.04090235 0.04295215 0.03606078 0.02349464 0.02056596\n",
      " 0.01403082 0.00825325 0.01089121 0.00382602 0.01176582 0.00861867\n",
      " 0.00193161 0.00563662 0.01303835 0.01979199 0.01052088 0.00440945\n",
      " 0.01132725 0.00563656 0.00610244 0.00794084 0.01594434 0.00899187\n",
      " 0.01095547]\n",
      "[0.31830989 0.24577032 0.05915769 0.1011301  0.23218418 0.25866869\n",
      " 0.09232673 0.09823903 0.09835571 0.09525536 0.09655586 0.0835728\n",
      " 0.09682057 0.0973909  0.09117636 0.07558781 0.00792476 0.02886121\n",
      " 0.03555343 0.01783375 0.0339485  0.03380199 0.04750332 0.03228589\n",
      " 0.0152426 ]\n",
      "[0.31830989 0.00178694 0.00067299 0.00373319 0.00183866 0.00525556\n",
      " 0.00112451 0.00464498 0.00361781 0.00098165 0.00733515 0.00071279\n",
      " 0.00421567 0.00602417 0.00201795 0.00450976 0.00361013 0.01089053\n",
      " 0.00490772 0.01022793 0.00691681 0.0085023  0.0039797  0.00094756\n",
      " 0.0071278 ]\n",
      "[0.31830989 0.14861992 0.0566073  0.32177662 0.23697943 0.19151085\n",
      " 0.16749639 0.01884638 0.16854487 0.22485205 0.23701068 0.1599798\n",
      " 0.01746995 0.03003105 0.00768947 0.09587207 0.17938532 0.22821815\n",
      " 0.18917283 0.11863485 0.14035054 0.05630159 0.15332599 0.05350307\n",
      " 0.13869069]\n",
      "[0.31830989 0.09163266 0.1088631  0.15144837 0.09670226 0.09951962\n",
      " 0.03736064 0.05301405 0.01772194 0.08811124 0.03645933 0.05703349\n",
      " 0.03783114 0.04607483 0.06591848 0.0505733  0.0082008  0.06312424\n",
      " 0.05262055 0.08385234 0.04152506 0.04545527 0.07740666 0.07434004\n",
      " 0.09504965]\n",
      "[0.31830989 0.0068763  0.01175353 0.01321984 0.00869821 0.00958868\n",
      " 0.01157521 0.01507569 0.00706376 0.00504593 0.00664637 0.0116892\n",
      " 0.00582864 0.01219965 0.00293619 0.01221118 0.00512867 0.0048295\n",
      " 0.00881861 0.0147519  0.00133121 0.00835602 0.00054454 0.00828068\n",
      " 0.00868039]\n",
      "[0.31830989 0.00119332 0.00223034 0.00556026 0.00128614 0.00205151\n",
      " 0.00201958 0.00732093 0.0068002  0.00122812 0.00429955 0.00576721\n",
      " 0.00138788 0.00837482 0.00797255 0.01097745 0.00136683 0.00648906\n",
      " 0.00465452 0.00099204 0.00119462 0.00941928 0.00954612 0.01358615\n",
      " 0.00952333]\n",
      "[0.31830989 0.32472454 0.04834409 0.02747874 0.25567599 0.30611654\n",
      " 0.27473847 0.28849143 0.31421401 0.03944051 0.04062844 0.03633798\n",
      " 0.21195984 0.20825839 0.22487189 0.23373171 0.22885808 0.22865264\n",
      " 0.25544032 0.24336532 0.01474778 0.04820986 0.0541269  0.07477099\n",
      " 0.04037558]\n",
      "[0.31830989 0.17677785 0.07922415 0.10886941 0.10196558 0.0991753\n",
      " 0.01113513 0.02356886 0.01954499 0.01920759 0.0080316  0.01878582\n",
      " 0.05408086 0.06033875 0.03787612 0.04316405 0.06273343 0.03548558\n",
      " 0.04310594 0.02808273 0.05401078 0.04035175 0.03757258 0.01588766\n",
      " 0.02436804]\n",
      "[0.31830989 0.03176927 0.06302597 0.0628608  0.0206936  0.01525423\n",
      " 0.03274645 0.03003213 0.03291256 0.00775204 0.01680963 0.01900533\n",
      " 0.00215691 0.00466956 0.01574813 0.01085212 0.00825893 0.01378252\n",
      " 0.02576406 0.03980542 0.00679147 0.00579147 0.01238483 0.02566336\n",
      " 0.01555513]\n",
      "[0.31830989 0.002011   0.0010296  0.00193013 0.00406288 0.0023235\n",
      " 0.00183525 0.00307769 0.00488596 0.00617585 0.00331542 0.0012467\n",
      " 0.00283454 0.00399681 0.00649664 0.00301866 0.00832677 0.00412251\n",
      " 0.00100783 0.0091275  0.00412936 0.00456263 0.00771534 0.00422673\n",
      " 0.00143654]\n",
      "[3.18309886e-01 1.88003544e-03 3.46808027e-04 1.11352979e-03\n",
      " 3.81126568e-03 1.57135929e-03 4.48443973e-04 1.72581039e-03\n",
      " 3.06026978e-03 5.82657708e-03 2.68532593e-03 1.29122838e-03\n",
      " 3.39929509e-04 2.16055035e-03 4.07453874e-03 4.76395471e-03\n",
      " 7.91911690e-03 4.17900129e-03 2.01512119e-03 5.82611976e-03\n",
      " 8.90272434e-05 2.39805136e-03 4.87316804e-03 6.39986176e-03\n",
      " 8.90138503e-03]\n",
      "[0.31830989 0.09819772 0.10975567 0.05928159 0.00780685 0.01830279\n",
      " 0.00218695 0.02880075 0.03716037 0.02709466 0.01302642 0.01799612\n",
      " 0.00339132 0.00698367 0.00916057 0.04172857 0.01389435 0.01237615\n",
      " 0.0289022  0.04225873 0.0071367  0.01517848 0.01549037 0.03573751\n",
      " 0.01320931]\n",
      "[0.31830989 0.01327612 0.01610349 0.01214296 0.01407972 0.00847167\n",
      " 0.01062908 0.00698868 0.00263004 0.00714624 0.01285293 0.00619069\n",
      " 0.00200093 0.00261849 0.01187086 0.01405407 0.00387293 0.01315605\n",
      " 0.01680931 0.01995314 0.00152818 0.00728434 0.00741777 0.00674995\n",
      " 0.02631709]\n",
      "[0.31830989 0.02801009 0.09172432 0.05928578 0.02054064 0.02109888\n",
      " 0.00285225 0.01012213 0.05747661 0.02280794 0.03493382 0.07134261\n",
      " 0.01746002 0.01414249 0.03309986 0.03982592 0.00610003 0.01265702\n",
      " 0.04041309 0.08307425 0.0056289  0.00525495 0.01126902 0.01307313\n",
      " 0.04218593]\n",
      "[0.31830989 0.09967507 0.1606203  0.17586073 0.12974971 0.10827183\n",
      " 0.11280315 0.02182196 0.09216499 0.07653735 0.06848982 0.10328397\n",
      " 0.00713713 0.03368375 0.02874013 0.06492548 0.02453559 0.06469352\n",
      " 0.06917874 0.03884785 0.04020657 0.04458228 0.09662036 0.05878701\n",
      " 0.08240502]\n",
      "[0.31830989 0.12776233 0.1010495  0.08210679 0.07005742 0.07140132\n",
      " 0.01088049 0.01194175 0.02427532 0.00663012 0.03305748 0.01315115\n",
      " 0.02277274 0.00829738 0.02963207 0.01949624 0.01911491 0.04096563\n",
      " 0.02066015 0.01826623 0.02905655 0.06129154 0.02754416 0.05782994\n",
      " 0.02922005]\n",
      "[0.31830989 0.07862804 0.12533829 0.13737618 0.06196901 0.0682866\n",
      " 0.04615377 0.04591978 0.03069038 0.03782481 0.04799083 0.04415537\n",
      " 0.06269171 0.04229779 0.06083591 0.06701126 0.01981201 0.03354884\n",
      " 0.05905147 0.0495728  0.013246   0.03800819 0.07828569 0.07272758\n",
      " 0.07479244]\n",
      "[0.31830989 0.07726618 0.15463001 0.15418727 0.06207974 0.05288071\n",
      " 0.03549974 0.04585433 0.04307924 0.00999255 0.0510468  0.0540916\n",
      " 0.00691394 0.02596846 0.02690871 0.04242543 0.03891234 0.03087944\n",
      " 0.02281453 0.00866077 0.00476902 0.01225119 0.03064383 0.0426969\n",
      " 0.02885005]\n",
      "[0.31830989 0.05904351 0.03210969 0.08927659 0.06611009 0.05654091\n",
      " 0.12078198 0.14915478 0.1270199  0.14533556 0.14726091 0.14977863\n",
      " 0.01985863 0.02501283 0.06168695 0.04981989 0.23226524 0.19773419\n",
      " 0.19640824 0.18341091 0.02557247 0.02842274 0.02698987 0.06441246\n",
      " 0.01399499]\n",
      "[0.31830989 0.04986918 0.04957157 0.04797906 0.0393962  0.0382335\n",
      " 0.01315324 0.00991765 0.03280408 0.00132505 0.01112325 0.01819422\n",
      " 0.01810565 0.0228692  0.01582185 0.01185837 0.00824515 0.02480384\n",
      " 0.01202118 0.02145867 0.00709183 0.01276958 0.01013133 0.00886381\n",
      " 0.02138316]\n",
      "[0.31830989 0.05045107 0.02730826 0.12932348 0.08075775 0.03224188\n",
      " 0.04710826 0.06192718 0.09600226 0.06420825 0.02578731 0.02763814\n",
      " 0.04206669 0.01979177 0.05479833 0.05498338 0.05449982 0.03354537\n",
      " 0.0186889  0.03008892 0.05024008 0.01691036 0.01217734 0.02387166\n",
      " 0.01268527]\n",
      "[0.31830989 0.2442431  0.0129755  0.17584243 0.25411655 0.36721659\n",
      " 0.10429042 0.18570351 0.09388702 0.1340683  0.12721626 0.23237284\n",
      " 0.19773251 0.24792329 0.2267912  0.20890325 0.04743109 0.08228027\n",
      " 0.02269043 0.03106367 0.18036869 0.12705139 0.16567713 0.15807529\n",
      " 0.11312629]\n",
      "[0.31830989 0.00174076 0.00178689 0.00216441 0.00348125 0.00261547\n",
      " 0.00306872 0.00348161 0.00144272 0.00522073 0.00412171 0.00593141\n",
      " 0.00448464 0.00461561 0.00207087 0.00518176 0.00695475 0.00584726\n",
      " 0.00814853 0.00763886 0.00608209 0.00553553 0.002733   0.0060683\n",
      " 0.00341021]\n",
      "[0.31830989 0.16533642 0.10780707 0.0618957  0.06054331 0.08310034\n",
      " 0.05794423 0.07525928 0.05349515 0.02591467 0.03266319 0.07580707\n",
      " 0.01912175 0.05829688 0.05095185 0.01992078 0.02208539 0.02175522\n",
      " 0.06474111 0.00497013 0.01786638 0.02522515 0.02379409 0.01312781\n",
      " 0.0530373 ]\n",
      "[0.31830989 0.20483837 0.1217405  0.16964362 0.24023016 0.24537418\n",
      " 0.00935251 0.06777884 0.01275765 0.1592049  0.14364571 0.16420983\n",
      " 0.09985198 0.10139867 0.09774996 0.07367927 0.05885247 0.07754685\n",
      " 0.04154353 0.09897831 0.05951807 0.09181241 0.09063583 0.08860062\n",
      " 0.06110596]\n",
      "[0.31830989 0.00130489 0.00040419 0.0029854  0.00269533 0.00260833\n",
      " 0.00074204 0.00483193 0.00118609 0.00425267 0.00405307 0.0038247\n",
      " 0.00118784 0.00645439 0.00160246 0.00537933 0.00604366 0.00562045\n",
      " 0.00531139 0.00747237 0.00179208 0.00776199 0.00194205 0.00693758\n",
      " 0.00103768]\n",
      "[0.31830989 0.03374486 0.04882037 0.04971733 0.01877056 0.01557095\n",
      " 0.01030655 0.0202758  0.0106799  0.02646494 0.01379792 0.03594455\n",
      " 0.01311904 0.01088109 0.02300404 0.02189958 0.00715398 0.01775002\n",
      " 0.02250516 0.02639945 0.02584264 0.00659256 0.01946414 0.00912471\n",
      " 0.02305077]\n",
      "[0.31830989 0.2015729  0.07243625 0.06960802 0.30630872 0.25869736\n",
      " 0.11237976 0.11137309 0.11042345 0.06896483 0.03307527 0.02737462\n",
      " 0.21882166 0.15558675 0.23524452 0.16925282 0.07755736 0.07806208\n",
      " 0.06891288 0.07669696 0.13195308 0.01910166 0.09090434 0.02706859\n",
      " 0.06636964]\n",
      "[0.31830989 0.05284752 0.07874161 0.01734109 0.02573221 0.01632034\n",
      " 0.01716716 0.01139504 0.01264176 0.01746589 0.01460588 0.0394811\n",
      " 0.05906693 0.0418883  0.04653188 0.02728998 0.00929924 0.01370109\n",
      " 0.02082784 0.03513932 0.05478803 0.06109314 0.07851591 0.07417162\n",
      " 0.08161732]\n",
      "[3.18309886e-01 1.36457465e-03 1.80028949e-03 8.34661906e-04\n",
      " 2.76979214e-03 1.22874985e-03 3.13402963e-03 1.13754200e-03\n",
      " 3.45190242e-03 4.24586727e-03 1.99672584e-03 6.59725793e-03\n",
      " 4.66057449e-03 1.02552435e-03 5.10741246e-03 5.90980219e-03\n",
      " 5.80121300e-03 2.93559589e-03 9.29655214e-03 9.76203820e-03\n",
      " 6.44006753e-03 2.73893723e-04 7.01206680e-03 6.26725026e-03\n",
      " 7.34737460e-03]\n",
      "[0.31830989 0.00145272 0.00110957 0.00117289 0.00294515 0.00110827\n",
      " 0.001971   0.00176284 0.00240961 0.00450565 0.00177916 0.00533658\n",
      " 0.00300697 0.0020839  0.00366486 0.00531416 0.00613893 0.00259271\n",
      " 0.00764629 0.01027029 0.00426953 0.00218357 0.0051905  0.00562432\n",
      " 0.00587313]\n",
      "[0.31830989 0.11938833 0.06794457 0.11330568 0.16667154 0.14948222\n",
      " 0.04431406 0.04527779 0.07395271 0.11862662 0.08298204 0.08537117\n",
      " 0.24824621 0.11284339 0.22745303 0.10862891 0.06156246 0.04856693\n",
      " 0.01646705 0.05302418 0.06957613 0.07066598 0.04306219 0.07825717\n",
      " 0.06258436]\n",
      "[0.31830989 0.07087978 0.17067619 0.25590721 0.19062689 0.16049467\n",
      " 0.21969177 0.15500491 0.14290361 0.03029041 0.01526148 0.06505008\n",
      " 0.05322652 0.05604453 0.00806832 0.07146495 0.11470595 0.09312099\n",
      " 0.07961063 0.03627898 0.06689598 0.12205099 0.04467619 0.0964289\n",
      " 0.09522033]\n",
      "[0.31830989 0.10165466 0.03290953 0.145875   0.09245131 0.10140514\n",
      " 0.08327064 0.05623312 0.0490152  0.12853083 0.10553961 0.11389267\n",
      " 0.1392765  0.07348568 0.06202931 0.0134894  0.03976673 0.03513961\n",
      " 0.0352182  0.05050992 0.10082052 0.03319239 0.01187947 0.03202509\n",
      " 0.04299069]\n",
      "[0.31830989 0.00157246 0.00096857 0.00320554 0.00327938 0.00484121\n",
      " 0.00152039 0.00519033 0.00150198 0.00524628 0.00743497 0.00593432\n",
      " 0.00191455 0.00692926 0.00221999 0.00117328 0.00757562 0.0101764\n",
      " 0.00814386 0.00496614 0.00205902 0.0082937  0.00312932 0.00209554\n",
      " 0.00365245]\n",
      "[0.31830989 0.01377548 0.00797828 0.06225989 0.02371861 0.02293291\n",
      " 0.01386097 0.03296798 0.02889646 0.01507363 0.03236916 0.03370642\n",
      " 0.00227291 0.018228   0.01498133 0.01046537 0.02609421 0.02430333\n",
      " 0.03844223 0.04773294 0.01379004 0.01140987 0.0117596  0.01379057\n",
      " 0.00741804]\n",
      "[0.31830989 0.00169558 0.00042729 0.00058619 0.00343326 0.00182862\n",
      " 0.00085393 0.00074594 0.00242132 0.00524528 0.00289289 0.00468063\n",
      " 0.00148625 0.00056347 0.00356336 0.00691357 0.00714287 0.00412344\n",
      " 0.00668336 0.00958332 0.00239049 0.00062213 0.00487063 0.00765808\n",
      " 0.00766289]\n",
      "[0.31830989 0.00120693 0.00302142 0.00181397 0.00253111 0.00390074\n",
      " 0.00485454 0.00302714 0.00293814 0.00408303 0.00599791 0.00673814\n",
      " 0.00637154 0.00424216 0.00362039 0.00217003 0.0059558  0.00822551\n",
      " 0.00915238 0.00380363 0.00736525 0.00545191 0.00406537 0.00281939\n",
      " 0.00456555]\n",
      "[0.31830989 0.00129521 0.00042164 0.00058473 0.00263178 0.0018287\n",
      " 0.00082548 0.00073776 0.00242116 0.00403989 0.00289314 0.00469746\n",
      " 0.00140566 0.00053298 0.00360144 0.00691938 0.0055264  0.004125\n",
      " 0.00674888 0.00958278 0.00221542 0.00058957 0.00498903 0.00767748\n",
      " 0.00767485]\n",
      "[0.31830989 0.1423135  0.1680364  0.229005   0.15298136 0.19107747\n",
      " 0.03438773 0.13137636 0.05495129 0.11988943 0.15698602 0.09665842\n",
      " 0.04487629 0.03583802 0.02322975 0.07624939 0.09252954 0.09528818\n",
      " 0.0146121  0.04103298 0.03909171 0.02229252 0.04274427 0.06267248\n",
      " 0.04135226]\n",
      "[0.31830989 0.00074938 0.00204338 0.00616732 0.00098925 0.0010683\n",
      " 0.00246083 0.00383343 0.00515867 0.00233721 0.00178555 0.00438992\n",
      " 0.00804975 0.00319437 0.0015928  0.00740904 0.00332246 0.00311041\n",
      " 0.00104035 0.00662291 0.01041008 0.00491813 0.00572873 0.00682927\n",
      " 0.00968149]\n",
      "[0.31830989 0.00083275 0.00175122 0.00198829 0.00177486 0.00350357\n",
      " 0.00289107 0.00334845 0.00097319 0.00292589 0.00553826 0.00392729\n",
      " 0.00399036 0.00475591 0.00130136 0.00240932 0.00435697 0.00785126\n",
      " 0.00549027 0.00566142 0.0050332  0.00622052 0.0015588  0.00351696\n",
      " 0.00392852]\n",
      "[0.31830989 0.1638646  0.22925293 0.06459809 0.11008933 0.07950004\n",
      " 0.06774853 0.0571766  0.03414321 0.02461196 0.07172948 0.06789665\n",
      " 0.05689899 0.01189644 0.08331627 0.05917374 0.03634367 0.08377557\n",
      " 0.0453641  0.11890433 0.081726   0.06752543 0.08251428 0.04149223\n",
      " 0.13168197]\n",
      "[0.31830989 0.00172978 0.00178671 0.00216642 0.00344569 0.00262065\n",
      " 0.00306737 0.00349868 0.0014491  0.0051335  0.00414628 0.00593635\n",
      " 0.00447905 0.00466555 0.00211854 0.00518387 0.00677594 0.00591054\n",
      " 0.00816793 0.00763514 0.00606533 0.00563398 0.00286637 0.00607386\n",
      " 0.00342409]\n",
      "[0.31830989 0.10665104 0.04879396 0.13981062 0.07820602 0.14637702\n",
      " 0.09571528 0.05957755 0.03625642 0.00640315 0.05184649 0.02791787\n",
      " 0.14780839 0.04633452 0.11220804 0.06131719 0.08025653 0.08742546\n",
      " 0.02500954 0.05724219 0.07460864 0.04319144 0.10508649 0.04270785\n",
      " 0.09360056]\n",
      "[3.18309886e-01 2.58450255e-03 3.08492193e-04 1.34718289e-03\n",
      " 5.24096596e-03 1.68454912e-03 2.55269560e-04 2.13042410e-03\n",
      " 4.37944142e-03 8.02157516e-03 2.32517971e-03 8.20265480e-04\n",
      " 2.06902208e-04 2.73692526e-03 5.84379284e-03 2.51270021e-03\n",
      " 1.09367476e-02 2.77280826e-03 1.41664266e-03 5.17198405e-03\n",
      " 1.27464335e-03 3.08918305e-03 6.96935715e-03 3.35429481e-03\n",
      " 3.17284703e-03]\n",
      "[0.31830989 0.00090222 0.00243716 0.00199511 0.001874   0.00436606\n",
      " 0.00403253 0.00329459 0.00126811 0.0029827  0.00682339 0.00362977\n",
      " 0.0055821  0.00454656 0.00171843 0.00371195 0.0042796  0.00955146\n",
      " 0.00503408 0.00588134 0.00706295 0.00573391 0.00210152 0.00522507\n",
      " 0.00305191]\n",
      "[0.31830989 0.00115314 0.00105421 0.00093469 0.00236138 0.00146862\n",
      " 0.00169252 0.00167254 0.004847   0.00366238 0.00251404 0.00197559\n",
      " 0.00222166 0.00260408 0.00670843 0.00229296 0.00505526 0.00392214\n",
      " 0.00243684 0.00990408 0.00257624 0.00383016 0.00850482 0.00318401\n",
      " 0.0041162 ]\n",
      "[0.31830989 0.00229449 0.00172531 0.00174987 0.00463494 0.00181262\n",
      " 0.00301012 0.00277402 0.00400931 0.00704645 0.00250412 0.00321715\n",
      " 0.0045125  0.00357109 0.00529335 0.00081261 0.00951029 0.00297422\n",
      " 0.00406464 0.00492415 0.0063452  0.00402766 0.00621083 0.00140611\n",
      " 0.00417259]\n",
      "[0.31830989 0.07669392 0.11570384 0.04515306 0.02105726 0.08473462\n",
      " 0.01169109 0.0409379  0.04991615 0.028859   0.01935733 0.07925693\n",
      " 0.00423538 0.02774958 0.0602035  0.01743793 0.03469353 0.01442301\n",
      " 0.04090461 0.05873424 0.01688534 0.01690458 0.02085559 0.03812919\n",
      " 0.05267681]\n",
      "[0.31830989 0.2601336  0.04188413 0.22039923 0.25527731 0.40239464\n",
      " 0.09734166 0.17534023 0.14694872 0.12799111 0.20137439 0.25302939\n",
      " 0.27623754 0.16709291 0.33778557 0.24151084 0.07293502 0.03879779\n",
      " 0.08470449 0.02994405 0.10480268 0.21525841 0.17353002 0.29279465\n",
      " 0.1380637 ]\n",
      "[0.31830989 0.00082566 0.00164088 0.0014334  0.0016959  0.00422002\n",
      " 0.00257377 0.00230368 0.00311921 0.00268245 0.00646462 0.006871\n",
      " 0.00323413 0.0030541  0.00378947 0.00116423 0.00388957 0.00881479\n",
      " 0.00941463 0.00261345 0.00345764 0.0036727  0.00383485 0.00114792\n",
      " 0.00822709]\n",
      "[0.31830989 0.18862994 0.14748967 0.11222906 0.15627731 0.13379358\n",
      " 0.04602621 0.06488272 0.05383425 0.12575486 0.10213437 0.11113156\n",
      " 0.02030183 0.01663548 0.01582067 0.00480593 0.06835001 0.06102007\n",
      " 0.0539233  0.07101195 0.00906107 0.045871   0.01320945 0.02146395\n",
      " 0.04752077]\n",
      "[0.31830989 0.00125121 0.00174364 0.00211896 0.00253731 0.00223761\n",
      " 0.0028487  0.00352134 0.00484062 0.00387337 0.0033628  0.00238971\n",
      " 0.00385429 0.00491538 0.00657865 0.00506855 0.00523274 0.00452081\n",
      " 0.00379567 0.00901463 0.00469708 0.0063223  0.00812045 0.00672271\n",
      " 0.00397156]\n",
      "[0.31830989 0.08096111 0.0807475  0.01727893 0.09534694 0.10642706\n",
      " 0.21807018 0.20270531 0.25067837 0.13228654 0.13911322 0.14280432\n",
      " 0.05609229 0.08565243 0.03906423 0.09084438 0.10802581 0.10252163\n",
      " 0.13754336 0.10107469 0.02458112 0.02961554 0.05651085 0.08177724\n",
      " 0.01881121]\n",
      "[0.31830989 0.42125723 0.27246538 0.23459342 0.04897419 0.13182371\n",
      " 0.31484345 0.30160157 0.37653127 0.35518529 0.31749215 0.37486729\n",
      " 0.17488736 0.15815842 0.11963075 0.14046613 0.11232312 0.12827747\n",
      " 0.14136866 0.15960094 0.31048082 0.27398077 0.27864198 0.26210095\n",
      " 0.31342511]\n",
      "[0.31830989 0.25857038 0.1160524  0.28665883 0.169806   0.15085476\n",
      " 0.03729255 0.02315462 0.07233637 0.16627134 0.15852366 0.08926337\n",
      " 0.06891513 0.14603227 0.02815392 0.14821051 0.06865928 0.06470874\n",
      " 0.07804403 0.06134256 0.10490134 0.19096784 0.0886135  0.1305161\n",
      " 0.04903484]\n",
      "[0.31830989 0.00043238 0.00174185 0.00243405 0.00082866 0.004802\n",
      " 0.0028418  0.00417009 0.00163248 0.00118789 0.0075827  0.00397544\n",
      " 0.003843   0.00606733 0.00231878 0.00070003 0.00156484 0.01075779\n",
      " 0.00555705 0.00616641 0.0046932  0.00816973 0.00305056 0.0009096\n",
      " 0.00356768]\n",
      "[0.31830989 0.00034765 0.00174154 0.0024347  0.00079859 0.00479256\n",
      " 0.00284105 0.00415045 0.00161601 0.00143941 0.00753768 0.00397899\n",
      " 0.00384409 0.00599534 0.00226633 0.00071997 0.00231917 0.01063825\n",
      " 0.0055717  0.00616711 0.00470367 0.00799905 0.00291977 0.00096377\n",
      " 0.00361837]\n",
      "[0.31830989 0.18674109 0.01497993 0.19406968 0.12904085 0.09214534\n",
      " 0.00329331 0.06946246 0.11354644 0.12917992 0.05586837 0.07023733\n",
      " 0.06108221 0.01695111 0.09832957 0.05440399 0.07698869 0.06632629\n",
      " 0.0259208  0.10536089 0.05279383 0.04636931 0.08082911 0.03121371\n",
      " 0.01745608]\n",
      "[0.31830989 0.0012337  0.00560975 0.00233344 0.00176327 0.00270315\n",
      " 0.0081046  0.00393644 0.00576002 0.00160303 0.00379245 0.00831214\n",
      " 0.00927039 0.00595014 0.00574858 0.00651973 0.00250162 0.00554473\n",
      " 0.00946071 0.00568451 0.00931069 0.00831151 0.00442213 0.00566387\n",
      " 0.00698252]\n",
      "[3.18309886e-01 2.15408283e-01 6.35074266e-02 2.16410308e-02\n",
      " 1.14261953e-01 1.28164576e-01 5.41616181e-03 4.13621601e-02\n",
      " 1.26666637e-02 3.85139510e-02 4.59719633e-02 8.43985653e-02\n",
      " 3.48173368e-02 4.35403188e-02 3.00963753e-02 2.97957752e-04\n",
      " 5.32110728e-02 4.49467805e-02 5.20026319e-02 3.59013458e-02\n",
      " 1.41458445e-03 3.32678804e-02 1.15626395e-02 4.12507364e-02\n",
      " 7.93974248e-03]\n",
      "[0.31830989 0.18964646 0.00920109 0.3747776  0.3050575  0.30157779\n",
      " 0.27723667 0.1311423  0.29967953 0.29754086 0.32938425 0.30147253\n",
      " 0.15997046 0.07617112 0.18745292 0.12114131 0.24220064 0.2023795\n",
      " 0.28706606 0.20721063 0.16727874 0.14892403 0.14721382 0.19580798\n",
      " 0.10275657]\n",
      "[0.31830989 0.00269212 0.00395977 0.00146374 0.00246707 0.00098277\n",
      " 0.00291193 0.0017739  0.00753352 0.00150859 0.00457605 0.00330429\n",
      " 0.00069211 0.00553769 0.00402115 0.00125129 0.00390119 0.00936612\n",
      " 0.00979262 0.00790974 0.00047549 0.00732858 0.0025147  0.0076126\n",
      " 0.01581346]\n",
      "[0.31830989 0.00980855 0.05854954 0.00680986 0.041607   0.0623927\n",
      " 0.02017811 0.02250076 0.00482433 0.01427703 0.0331847  0.02030162\n",
      " 0.02657497 0.05295847 0.0411562  0.07578014 0.0322839  0.03093233\n",
      " 0.05647508 0.05606933 0.01607341 0.00829271 0.02395701 0.02593933\n",
      " 0.02222036]\n",
      "[0.31830989 0.10166857 0.08020384 0.05444098 0.0133748  0.02940515\n",
      " 0.02251826 0.01883276 0.06743336 0.02826771 0.02278495 0.05559165\n",
      " 0.00255082 0.01336167 0.03524741 0.01510108 0.01711875 0.02248304\n",
      " 0.04653782 0.02036234 0.02223678 0.02202176 0.01508092 0.04073038\n",
      " 0.01614992]\n",
      "[0.31830989 0.22136291 0.05351438 0.07899837 0.13979376 0.09983235\n",
      " 0.02202752 0.01479368 0.10271131 0.09544759 0.13657857 0.12226481\n",
      " 0.05252834 0.07871786 0.05470606 0.07276717 0.04601884 0.0682259\n",
      " 0.1223299  0.12850762 0.05498077 0.07029789 0.07941332 0.10874177\n",
      " 0.11701793]\n",
      "[0.31830989 0.21087238 0.02505564 0.15480987 0.13918572 0.09172861\n",
      " 0.05255761 0.00568143 0.16214846 0.0966681  0.05816772 0.03005075\n",
      " 0.09101924 0.05593929 0.07022041 0.04472612 0.0335982  0.06374468\n",
      " 0.05643406 0.05009005 0.03136824 0.04348405 0.00891724 0.02025902\n",
      " 0.03524665]\n",
      "[0.31830989 0.29973431 0.0930111  0.11422951 0.11186837 0.09965309\n",
      " 0.17660621 0.08925527 0.13840844 0.0190526  0.04606251 0.04043998\n",
      " 0.18320999 0.05579721 0.11809002 0.06686374 0.10934234 0.11304826\n",
      " 0.06745148 0.06950823 0.01715943 0.02792498 0.02394407 0.03421962\n",
      " 0.04241012]\n",
      "[3.18309886e-01 1.12540257e-04 3.69456694e-04 1.30798506e-03\n",
      " 2.61843795e-04 3.35825524e-03 5.63525380e-04 2.34375766e-03\n",
      " 3.19579791e-03 5.08020892e-04 5.44590219e-03 2.72266395e-03\n",
      " 6.69042250e-04 3.61622928e-03 4.24696699e-03 1.21441537e-03\n",
      " 8.85239317e-04 7.96689854e-03 3.88308553e-03 1.25272969e-02\n",
      " 6.32383625e-04 5.19957299e-03 5.05227572e-03 1.05197408e-03\n",
      " 1.64788697e-03]\n",
      "[0.31830989 0.21422322 0.23495708 0.05762318 0.15136788 0.07373922\n",
      " 0.04544044 0.04844476 0.02091777 0.00774023 0.06798664 0.07283508\n",
      " 0.0491025  0.09387829 0.02688526 0.06705409 0.02495323 0.03303077\n",
      " 0.02616834 0.04175539 0.05269185 0.06503954 0.04082968 0.0432117\n",
      " 0.04624012]\n",
      "[0.31830989 0.0009647  0.00301546 0.00120544 0.00204271 0.00313209\n",
      " 0.00482317 0.00203629 0.00387128 0.00334164 0.00482878 0.0024714\n",
      " 0.00627738 0.00290479 0.00452472 0.00057669 0.00495438 0.00664168\n",
      " 0.003426   0.00197203 0.00714601 0.00381926 0.00422092 0.0008435\n",
      " 0.01080878]\n",
      "[0.31830989 0.17848545 0.21232773 0.22023923 0.29702722 0.30230829\n",
      " 0.05512688 0.0432031  0.05327538 0.32580371 0.3181145  0.33160375\n",
      " 0.14242663 0.12477694 0.13854329 0.13354778 0.24406634 0.25463533\n",
      " 0.2362028  0.2576296  0.25610548 0.28043061 0.26360158 0.27004682\n",
      " 0.27535321]\n",
      "[0.31830989 0.0756     0.06736635 0.04596559 0.03564538 0.00997007\n",
      " 0.00064794 0.0088287  0.03646882 0.00804345 0.01387089 0.03663598\n",
      " 0.01352854 0.01806332 0.00717833 0.02264499 0.00847797 0.0101999\n",
      " 0.03038478 0.02171481 0.00046178 0.00763632 0.00624264 0.03907875\n",
      " 0.02642177]\n",
      "[0.31830989 0.2349951  0.06562568 0.23398911 0.23557649 0.26698676\n",
      " 0.03199555 0.07725416 0.03163498 0.17508937 0.19318299 0.14998294\n",
      " 0.15392123 0.12499654 0.10068756 0.09099403 0.06544831 0.05480525\n",
      " 0.10211516 0.09072452 0.14982254 0.12361459 0.10352049 0.07905615\n",
      " 0.06708968]\n",
      "[0.31830989 0.06873983 0.13309293 0.05992295 0.03780711 0.05400512\n",
      " 0.00996924 0.01233924 0.06076243 0.02362314 0.01202143 0.0425273\n",
      " 0.02920043 0.0200259  0.04567291 0.0349636  0.01118158 0.00913715\n",
      " 0.01639845 0.02021066 0.02966852 0.00443994 0.02803914 0.04880859\n",
      " 0.03648999]\n",
      "[0.31830989 0.08604669 0.08589856 0.04046784 0.0167832  0.03769099\n",
      " 0.00947348 0.02787903 0.06044268 0.03606202 0.04147233 0.04062608\n",
      " 0.00059925 0.01775846 0.03675691 0.03212825 0.01411905 0.00711409\n",
      " 0.01872168 0.06199766 0.03608404 0.01905973 0.02100201 0.02680857\n",
      " 0.04044197]\n",
      "[0.31830989 0.00087431 0.00093978 0.00192809 0.00178498 0.00215891\n",
      " 0.00138286 0.00293507 0.00439043 0.00276155 0.00332807 0.004832\n",
      " 0.00155608 0.00348866 0.00630105 0.00981594 0.00381925 0.00459748\n",
      " 0.00667725 0.00261962 0.00136478 0.00334881 0.00833523 0.01118379\n",
      " 0.00479782]\n",
      "[0.31830989 0.00279377 0.00099622 0.0015699  0.00565904 0.00087298\n",
      " 0.0013997  0.00250906 0.00412632 0.00864767 0.00117356 0.00077425\n",
      " 0.00139097 0.00328582 0.00544041 0.00252598 0.01176991 0.001454\n",
      " 0.00098144 0.00459237 0.00077106 0.00383476 0.0063534  0.00340826\n",
      " 0.00220252]\n",
      "[0.31830989 0.00045775 0.00242892 0.00232296 0.00085999 0.00570129\n",
      " 0.00398923 0.0039545  0.00264727 0.00117099 0.00890653 0.00317538\n",
      " 0.0054526  0.00570846 0.00365996 0.001835   0.00139103 0.01247982\n",
      " 0.00451375 0.00639244 0.0067645  0.00762756 0.00463766 0.00287\n",
      " 0.00166181]\n",
      "[0.31830989 0.00045589 0.00243087 0.00134168 0.00096893 0.0039983\n",
      " 0.00399799 0.00234549 0.0021579  0.00158323 0.00639332 0.00104109\n",
      " 0.00547337 0.0035257  0.0028111  0.00365979 0.00230896 0.00921093\n",
      " 0.00123905 0.01199618 0.00679999 0.0049656  0.00325062 0.00495763\n",
      " 0.00038907]\n",
      "[3.18309886e-01 7.79418889e-04 3.72993213e-03 1.48515499e-03\n",
      " 1.70186154e-03 4.01114082e-03 6.08777174e-03 2.49226058e-03\n",
      " 7.01199697e-04 2.89966551e-03 6.22046130e-03 8.21721815e-03\n",
      " 8.22394730e-03 3.52550380e-03 5.26839471e-04 1.55690935e-03\n",
      " 4.47874369e-03 8.61362015e-03 1.12054414e-02 4.78856298e-03\n",
      " 9.99875909e-03 4.59764581e-03 2.32151564e-04 1.58427032e-03\n",
      " 4.71899820e-03]\n",
      "[3.18309886e-01 1.52902395e-03 2.75895023e-04 2.76345539e-03\n",
      " 3.16478189e-03 3.95738882e-03 3.58096734e-04 4.40255718e-03\n",
      " 3.98628210e-04 5.01023338e-03 6.07848573e-03 7.23215381e-03\n",
      " 2.72419824e-04 5.71458543e-03 7.75192556e-04 1.37626084e-03\n",
      " 7.15419560e-03 8.31378895e-03 9.88287687e-03 6.77408251e-03\n",
      " 7.41729222e-05 6.52955528e-03 1.43898051e-03 2.02371772e-03\n",
      " 4.43580643e-03]\n",
      "[0.31830989 0.00142154 0.00111202 0.00182594 0.00288374 0.00210745\n",
      " 0.0019835  0.00294162 0.00310598 0.00441575 0.00328203 0.00568043\n",
      " 0.00304295 0.00393699 0.0044482  0.00802594 0.00602226 0.00459293\n",
      " 0.00799211 0.0065197  0.00434934 0.00487164 0.00589403 0.0091482\n",
      " 0.0051928 ]\n",
      "[0.31830989 0.00157479 0.00110284 0.00146019 0.00316748 0.001827\n",
      " 0.00193819 0.00230977 0.00152974 0.00478903 0.00282333 0.00809575\n",
      " 0.00291858 0.00298485 0.00217594 0.00728048 0.00643419 0.00391626\n",
      " 0.01115155 0.0033162  0.00408979 0.00348698 0.00285965 0.00869809\n",
      " 0.0014992 ]\n",
      "[3.18309886e-01 1.64972616e-03 2.98004872e-04 7.88424794e-04\n",
      " 3.34552055e-03 3.26163490e-03 4.75824483e-04 1.41469115e-03\n",
      " 5.62906938e-03 5.11810949e-03 5.03663530e-03 5.99158677e-03\n",
      " 6.30917878e-04 2.23027429e-03 7.63484770e-03 4.02357433e-03\n",
      " 6.96492703e-03 6.96538143e-03 8.49897682e-03 5.87193371e-03\n",
      " 7.70948774e-04 3.37521440e-03 9.38506142e-03 4.93572431e-03\n",
      " 6.55948326e-03]\n",
      "[3.18309886e-01 1.44323705e-03 9.30668761e-04 4.69774999e-03\n",
      " 2.82988514e-03 1.36145084e-04 1.33595482e-03 7.53699671e-03\n",
      " 6.04833854e-03 4.10637937e-03 1.97776509e-04 1.34324160e-03\n",
      " 1.41925373e-03 9.89925493e-03 8.42331035e-03 7.35863680e-03\n",
      " 5.22711436e-03 2.19013953e-04 1.81453475e-03 6.54500536e-03\n",
      " 1.05685056e-03 1.15274314e-02 1.07143082e-02 8.21246037e-03\n",
      " 8.58626643e-03]\n",
      "[3.18309886e-01 3.19296756e-04 2.64243231e-04 3.05840298e-03\n",
      " 7.60093919e-04 4.65997336e-03 2.98877762e-04 4.86708203e-03\n",
      " 2.07673749e-03 1.43908606e-03 7.08420914e-03 7.53133668e-03\n",
      " 1.02749217e-04 6.30583349e-03 2.61396765e-03 6.49243076e-03\n",
      " 2.45516334e-03 9.56393323e-03 1.02671621e-02 5.36381266e-03\n",
      " 4.48035442e-04 7.18442295e-03 2.84567911e-03 7.60724161e-03\n",
      " 1.08872095e-02]\n",
      "[3.18309886e-01 4.25665724e-02 1.00545546e-01 1.00882086e-01\n",
      " 2.15162256e-02 4.36979224e-02 1.32855616e-02 2.21854513e-02\n",
      " 2.09410643e-02 1.33878678e-02 2.75827130e-02 2.35718784e-02\n",
      " 4.85732238e-05 2.99278122e-02 7.29175790e-03 2.68090094e-02\n",
      " 1.82234469e-02 2.36759059e-02 5.27593610e-03 2.00773380e-02\n",
      " 9.05293130e-03 5.72622147e-03 2.72412091e-02 2.73691543e-02\n",
      " 3.17867946e-02]\n",
      "[0.31830989 0.12792167 0.13069761 0.10867354 0.04493634 0.06861377\n",
      " 0.04188754 0.03779221 0.04235051 0.01613373 0.03452649 0.06012004\n",
      " 0.0273639  0.02677601 0.05009346 0.06306331 0.03368026 0.02097098\n",
      " 0.06718945 0.05824257 0.01304413 0.02041351 0.00687518 0.02809693\n",
      " 0.01828445]\n",
      "[0.31830989 0.00219276 0.00174001 0.00278004 0.00444977 0.00126553\n",
      " 0.00308426 0.00451317 0.00361052 0.0068148  0.00183458 0.00184856\n",
      " 0.00472236 0.00604992 0.00477369 0.00166571 0.00928866 0.00236338\n",
      " 0.00199623 0.00625254 0.00679985 0.00728383 0.00560148 0.00240233\n"
     ]
    },
    {
     "name": "stdout",
     "output_type": "stream",
     "text": [
      " 0.00217318]\n",
      "[0.31830989 0.0719835  0.08164488 0.04483502 0.0185517  0.06784031\n",
      " 0.00814325 0.00607874 0.04783628 0.01078724 0.00987182 0.05749005\n",
      " 0.02126    0.02780958 0.04485385 0.01819961 0.01069683 0.02323202\n",
      " 0.04738165 0.05679217 0.0010218  0.00387591 0.02932933 0.00690657\n",
      " 0.01672154]\n",
      "[0.31830989 0.02574188 0.0913689  0.0198504  0.04510524 0.0700339\n",
      " 0.10777552 0.07876218 0.09772636 0.04248538 0.02569448 0.01878816\n",
      " 0.06097252 0.06600627 0.08649015 0.07188726 0.02845377 0.06138544\n",
      " 0.05880436 0.05566161 0.02256039 0.02078961 0.0061518  0.01161736\n",
      " 0.00942627]\n",
      "[0.31830989 0.06054328 0.00888168 0.06326693 0.09037091 0.094119\n",
      " 0.03148001 0.04818088 0.06480409 0.11697196 0.11782302 0.11607248\n",
      " 0.08422912 0.06555574 0.10844935 0.10651136 0.06431862 0.04948121\n",
      " 0.02824787 0.03125575 0.06217909 0.02155607 0.02475551 0.03675138\n",
      " 0.05399912]\n",
      "[0.31830989 0.00189475 0.00166621 0.00212726 0.00386978 0.00077388\n",
      " 0.0024579  0.00349816 0.00506689 0.0059876  0.00100619 0.00107753\n",
      " 0.00274658 0.00478947 0.00682127 0.00306543 0.00827337 0.00107006\n",
      " 0.00172475 0.00558004 0.00229218 0.00595412 0.0082322  0.00407428\n",
      " 0.00043014]\n",
      "[0.31830989 0.00125349 0.00095898 0.00287447 0.00255144 0.00327697\n",
      " 0.00147424 0.00452267 0.0019589  0.00394525 0.00500582 0.00591853\n",
      " 0.00179291 0.00573922 0.0026956  0.00535481 0.00549293 0.00679892\n",
      " 0.00805384 0.00519295 0.00181977 0.00629999 0.00340292 0.00623681\n",
      " 0.00619064]\n",
      "[0.31830989 0.30955871 0.00808998 0.01531614 0.26905379 0.28080595\n",
      " 0.24556836 0.25000261 0.25176352 0.0053945  0.00651933 0.00747586\n",
      " 0.20284171 0.19411619 0.1901156  0.19149892 0.1684577  0.15510695\n",
      " 0.14994471 0.15551738 0.0045627  0.00806616 0.01634576 0.02866238\n",
      " 0.00548124]\n",
      "[0.31830989 0.04397802 0.06874384 0.06075127 0.02896409 0.02829706\n",
      " 0.03396304 0.02727192 0.01085251 0.01327077 0.01058547 0.01613433\n",
      " 0.00362955 0.00908805 0.01726862 0.01162008 0.02348099 0.01333732\n",
      " 0.01581414 0.00903514 0.00415981 0.00625989 0.00765288 0.00558709\n",
      " 0.02309498]\n",
      "[0.31830989 0.00149349 0.00042942 0.00136953 0.00302896 0.00183089\n",
      " 0.00086471 0.00211622 0.00328183 0.00463813 0.00290801 0.00682656\n",
      " 0.00151693 0.00264088 0.00461166 0.00689455 0.00633109 0.0041649\n",
      " 0.00950384 0.00723559 0.00245749 0.00299824 0.00596612 0.00764373\n",
      " 0.00578879]\n",
      "[3.18309886e-01 2.24084312e-04 2.33514233e-03 7.51767118e-04\n",
      " 4.85926803e-04 4.24888472e-03 3.73725889e-03 1.20411443e-03\n",
      " 3.47260829e-03 9.15414492e-04 6.51806554e-03 6.26564072e-03\n",
      " 4.87477696e-03 1.61141254e-03 4.29148066e-03 1.51039082e-03\n",
      " 1.68081421e-03 8.90670030e-03 8.60667678e-03 4.04266010e-03\n",
      " 5.58333430e-03 2.03958700e-03 4.50342651e-03 1.59960818e-03\n",
      " 6.17325477e-03]\n",
      "[0.31830989 0.02598648 0.01572115 0.02501219 0.04186872 0.04526498\n",
      " 0.01027424 0.00876783 0.01189365 0.02354391 0.03990306 0.03520481\n",
      " 0.02934194 0.0261391  0.02641355 0.03332701 0.01755239 0.02021822\n",
      " 0.02337231 0.02460966 0.0312789  0.03301152 0.04487558 0.03982853\n",
      " 0.04565769]\n",
      "[0.31830989 0.00072343 0.00093683 0.00255714 0.00147099 0.00207277\n",
      " 0.00136785 0.00398734 0.00555968 0.0022629  0.00316342 0.00433908\n",
      " 0.00151297 0.0049803  0.00792731 0.01005635 0.00311118 0.00431047\n",
      " 0.00598594 0.00482471 0.00126955 0.00533702 0.01040053 0.01140272\n",
      " 0.00774719]\n",
      "[0.31830989 0.00172542 0.00111737 0.00281181 0.00343662 0.0018161\n",
      " 0.00201234 0.00442478 0.00436623 0.00512179 0.00286231 0.00313987\n",
      " 0.00313223 0.00561176 0.00612536 0.00630229 0.00677278 0.00405963\n",
      " 0.00432855 0.0077271  0.00456332 0.00614561 0.00786763 0.00730838\n",
      " 0.00078662]\n",
      "[0.31830989 0.11570459 0.10130611 0.06221851 0.00200093 0.03897583\n",
      " 0.01594592 0.03176879 0.03311988 0.03534367 0.01312562 0.0137565\n",
      " 0.01920481 0.01331612 0.03935484 0.01155971 0.02327191 0.01736121\n",
      " 0.04468365 0.03001007 0.03540804 0.01288786 0.01859557 0.02682311\n",
      " 0.02907209]\n",
      "[3.18309886e-01 1.02022230e-01 8.24584257e-02 1.54794485e-01\n",
      " 1.18695491e-01 1.23164481e-01 7.77813113e-05 8.88637331e-02\n",
      " 6.73809287e-02 1.28138985e-01 5.73508131e-02 8.74103197e-02\n",
      " 4.20761980e-02 3.69948179e-02 8.80116513e-02 7.10581545e-02\n",
      " 9.18095776e-02 3.71300333e-02 4.21109191e-02 5.20833403e-02\n",
      " 1.28013293e-02 5.31687048e-02 2.44961484e-02 3.72595584e-02\n",
      " 4.44380011e-02]\n",
      "[3.18309886e-01 5.50426517e-04 4.37443897e-03 3.04353113e-06\n",
      " 1.15924914e-03 2.05875179e-03 6.86546412e-03 1.45773733e-05\n",
      " 1.91613867e-03 1.87765848e-03 3.03763995e-03 1.78944710e-03\n",
      " 8.68244899e-03 6.25914904e-05 2.39658895e-03 3.60036750e-05\n",
      " 2.74157235e-03 3.96173785e-03 2.31088160e-03 2.99374093e-04\n",
      " 9.49658714e-03 1.54790315e-04 2.49571669e-03 9.91129588e-05\n",
      " 3.87342317e-03]\n",
      "[3.18309886e-01 2.23447469e-03 3.00543447e-04 1.35233848e-03\n",
      " 4.54440374e-03 1.68970338e-03 2.15132451e-04 2.16448212e-03\n",
      " 4.38988668e-03 6.98628542e-03 2.37564304e-03 8.08876450e-04\n",
      " 3.20768155e-04 2.83672400e-03 5.87559900e-03 2.51909671e-03\n",
      " 9.57665440e-03 2.90535856e-03 1.41365286e-03 5.17620584e-03\n",
      " 1.52216840e-03 3.30416807e-03 7.03494238e-03 3.38390600e-03\n",
      " 3.17504274e-03]\n",
      "[0.31830989 0.00124319 0.00166482 0.00150472 0.00263319 0.00385328\n",
      " 0.00269744 0.00245007 0.00086337 0.00430706 0.0059956  0.00636158\n",
      " 0.00359658 0.00330893 0.00135328 0.00277928 0.00637574 0.00833373\n",
      " 0.0087272  0.00398715 0.00427815 0.00405308 0.00209975 0.00371051\n",
      " 0.00756526]\n",
      "[0.31830989 0.00130419 0.00040418 0.00298541 0.00269393 0.00260834\n",
      " 0.000742   0.00483195 0.0011861  0.0042506  0.00405313 0.0038247\n",
      " 0.00118771 0.00645447 0.00160251 0.00537936 0.00604093 0.00562059\n",
      " 0.00531145 0.00747237 0.0017918  0.00776215 0.00194218 0.00693765\n",
      " 0.00103769]\n",
      "[0.31830989 0.00229589 0.00035588 0.00197174 0.00464979 0.00190634\n",
      " 0.00076817 0.00315246 0.0041257  0.00709972 0.00270729 0.00278725\n",
      " 0.00146019 0.00412525 0.00548258 0.00328008 0.00964149 0.00337204\n",
      " 0.00369212 0.00837642 0.00257159 0.00479768 0.00649429 0.00451263\n",
      " 0.00311197]\n",
      "[0.31830989 0.00187129 0.00104365 0.0005021  0.0037938  0.00247096\n",
      " 0.00163917 0.00074725 0.00358654 0.00579888 0.00399546 0.00248867\n",
      " 0.00207015 0.0009536  0.0048697  0.00437581 0.00787541 0.00585252\n",
      " 0.0036243  0.00640583 0.0022467  0.00134299 0.00600636 0.00595283\n",
      " 0.00837546]\n",
      "[3.18309886e-01 3.00004141e-03 3.19427740e-04 1.34936714e-03\n",
      " 6.07270728e-03 1.68716678e-03 3.10350176e-04 2.14582874e-03\n",
      " 4.39846883e-03 9.27104166e-03 2.39229221e-03 8.37304874e-04\n",
      " 5.10943832e-05 2.78209105e-03 5.91273220e-03 2.52620980e-03\n",
      " 1.26068384e-02 2.96719536e-03 1.53873259e-03 5.20438794e-03\n",
      " 9.36695894e-04 3.18918449e-03 7.13334265e-03 3.47487694e-03\n",
      " 3.23772280e-03]\n",
      "[0.31830989 0.00188148 0.00038985 0.00147398 0.00381436 0.00276963\n",
      " 0.00066605 0.00254534 0.00463363 0.00583332 0.00424169 0.00539889\n",
      " 0.00095799 0.00376873 0.00625629 0.00438492 0.00793727 0.00581387\n",
      " 0.00768712 0.00758359 0.00125497 0.00524496 0.00764151 0.005685\n",
      " 0.00667244]\n",
      "[0.31830989 0.00154786 0.00112318 0.00111216 0.0031347  0.00274537\n",
      " 0.00203973 0.00160644 0.00326556 0.00479105 0.0042647  0.00781272\n",
      " 0.00320208 0.00170913 0.0046508  0.00632302 0.00652964 0.00594586\n",
      " 0.01077217 0.00545963 0.00469437 0.0012983  0.00610435 0.00695557\n",
      " 0.00589402]\n",
      "[3.18309886e-01 1.40352550e-03 3.04125494e-03 1.19947042e-04\n",
      " 2.93354413e-03 4.68682599e-03 4.95936572e-03 1.78230090e-04\n",
      " 2.41166985e-03 4.71280371e-03 7.24011229e-03 6.25677404e-03\n",
      " 6.68815376e-03 3.50767223e-04 3.55442562e-03 8.47919521e-04\n",
      " 6.84733180e-03 9.98191522e-03 8.58735576e-03 3.25079533e-03\n",
      " 8.10687614e-03 7.71664826e-04 4.96711722e-03 1.01284614e-03\n",
      " 4.28205221e-03]\n",
      "[0.31830989 0.00131512 0.00233381 0.00179769 0.00270474 0.00091788\n",
      " 0.00350698 0.00296179 0.00355977 0.00423097 0.00133826 0.00156977\n",
      " 0.00407686 0.00407154 0.00469443 0.00098392 0.0059288  0.00174982\n",
      " 0.00203146 0.00102613 0.00375505 0.00510061 0.00546496 0.00127896\n",
      " 0.00168266]\n",
      "[0.31830989 0.00095104 0.00037022 0.00307975 0.00202234 0.00332542\n",
      " 0.00057098 0.00522624 0.00070885 0.00331962 0.00529365 0.00511538\n",
      " 0.00070427 0.00750044 0.00092993 0.00128549 0.00491389 0.00756232\n",
      " 0.00708499 0.00622178 0.00074508 0.00992662 0.00107833 0.00111591\n",
      " 0.00343136]\n",
      "[3.18309886e-01 1.80055140e-03 2.92292564e-04 1.35560280e-03\n",
      " 3.67908237e-03 1.69240909e-03 1.73368298e-04 2.18523419e-03\n",
      " 4.38798763e-03 5.69539422e-03 2.37989911e-03 7.91058451e-04\n",
      " 4.39678538e-04 2.89843034e-03 5.86428900e-03 2.51704793e-03\n",
      " 7.87094740e-03 2.90745842e-03 1.34797694e-03 5.16219729e-03\n",
      " 1.78190392e-03 3.44004982e-03 7.00121094e-03 3.34381945e-03\n",
      " 3.14220478e-03]\n",
      "[0.31830989 0.00068836 0.00302397 0.00134107 0.00148896 0.00360251\n",
      " 0.00486929 0.00212538 0.00459881 0.00251541 0.00550878 0.00613125\n",
      " 0.00642119 0.00274191 0.00576401 0.00295777 0.00387249 0.00748989\n",
      " 0.00838472 0.00221623 0.00749469 0.00312963 0.0062147  0.00333866\n",
      " 0.00768654]\n",
      "[0.31830989 0.0944661  0.06847174 0.05819165 0.00992266 0.02670973\n",
      " 0.0347875  0.01765163 0.02633921 0.02720397 0.03720631 0.05308632\n",
      " 0.00249974 0.01825836 0.04379456 0.03527279 0.01237319 0.02897903\n",
      " 0.06624795 0.04499783 0.02080281 0.01366028 0.04827359 0.03068329\n",
      " 0.04005281]\n",
      "[0.31830989 0.1092494  0.05282636 0.11560305 0.06942057 0.04998724\n",
      " 0.01659488 0.04680835 0.03186319 0.0106274  0.03519191 0.01384672\n",
      " 0.05267166 0.04778804 0.00794641 0.03015543 0.02492272 0.01155192\n",
      " 0.03514251 0.01863499 0.0190743  0.02680096 0.01966268 0.03903365\n",
      " 0.00811375]\n",
      "[0.31830989 0.11405915 0.11433459 0.01451164 0.07994415 0.10013106\n",
      " 0.04274494 0.02823665 0.03932036 0.06052765 0.07682021 0.07198867\n",
      " 0.14510063 0.05679009 0.16194351 0.0485939  0.08475479 0.09014543\n",
      " 0.06187114 0.09655924 0.13414095 0.03155351 0.08889264 0.03329076\n",
      " 0.1266284 ]\n",
      "[0.31830989 0.27064775 0.15370218 0.11230174 0.13680447 0.14246619\n",
      " 0.34888176 0.0543688  0.32815984 0.18759914 0.22666924 0.14264708\n",
      " 0.05727238 0.15450624 0.03917181 0.16200424 0.22323653 0.13461853\n",
      " 0.12822371 0.15467686 0.26074621 0.11355927 0.24134653 0.11773416\n",
      " 0.20013061]\n",
      "[0.31830989 0.38258285 0.19994959 0.16078374 0.10774993 0.20761673\n",
      " 0.32062778 0.23217383 0.3262121  0.23607033 0.13147684 0.22474497\n",
      " 0.04296862 0.0482476  0.07227359 0.05871253 0.18026608 0.21212929\n",
      " 0.12589316 0.13824259 0.2053988  0.21279099 0.17840446 0.19428603\n",
      " 0.14051287]\n",
      "[0.31830989 0.00116206 0.00165408 0.003186   0.00240258 0.00395069\n",
      " 0.00264525 0.0050783  0.00089482 0.00380228 0.00602899 0.00507715\n",
      " 0.00345693 0.00659715 0.00127836 0.00417821 0.00543773 0.00817813\n",
      " 0.00696672 0.00359009 0.00399745 0.00754882 0.0017575  0.00499907\n",
      " 0.00573161]\n",
      "[0.31830989 0.01894809 0.00419656 0.10180498 0.0179085  0.00546122\n",
      " 0.00349908 0.06133707 0.08649299 0.03167538 0.01392196 0.00848317\n",
      " 0.01184489 0.02248876 0.03806717 0.04978229 0.02945064 0.01303543\n",
      " 0.01390233 0.02138727 0.00828929 0.01680122 0.01724002 0.02567225\n",
      " 0.03344875]\n",
      "[0.31830989 0.11387986 0.10230951 0.19501395 0.03456157 0.1053868\n",
      " 0.17450728 0.13784876 0.12774856 0.04073682 0.02125136 0.01971396\n",
      " 0.10841771 0.03399137 0.08520605 0.03976076 0.02638014 0.02869836\n",
      " 0.03145182 0.02222692 0.04611369 0.04051547 0.01649139 0.02038476\n",
      " 0.03249198]\n",
      "[0.31830989 0.00190589 0.00103017 0.00124022 0.00386288 0.00172997\n",
      " 0.00157112 0.00195758 0.00202648 0.00590182 0.00273171 0.00236091\n",
      " 0.00187724 0.00252109 0.00256064 0.0052097  0.00801077 0.00393293\n",
      " 0.00354554 0.00479791 0.00182813 0.00290675 0.0028063  0.00707391\n",
      " 0.00711211]\n",
      "[0.31830989 0.00141635 0.00234659 0.0007753  0.00297372 0.00518959\n",
      " 0.00379672 0.00119582 0.00132757 0.00480443 0.00800303 0.00502365\n",
      " 0.00505022 0.00148337 0.00197889 0.00235218 0.00701708 0.01101583\n",
      " 0.00694173 0.00194844 0.00598345 0.00162438 0.00290952 0.00311019\n",
      " 0.00604596]\n",
      "[0.31830989 0.17858024 0.20765643 0.06187153 0.17120206 0.14175343\n",
      " 0.0275962  0.08478034 0.0059697  0.1193697  0.12840723 0.12570739\n",
      " 0.10745533 0.04023325 0.09846762 0.10480522 0.07316133 0.07985844\n",
      " 0.03215976 0.04267933 0.09859496 0.02403543 0.04473274 0.02628459\n",
      " 0.03245841]\n",
      "[0.31830989 0.28584647 0.00688904 0.03067922 0.13023246 0.11412933\n",
      " 0.01102165 0.15261366 0.03963249 0.09006776 0.10690823 0.10519582\n",
      " 0.13116342 0.17856617 0.1353462  0.19706375 0.22121297 0.18903279\n",
      " 0.17044759 0.23050333 0.03631941 0.12895123 0.07011999 0.06968004\n",
      " 0.12694064]\n",
      "[0.31830989 0.21935221 0.01421261 0.08425632 0.19932783 0.20277071\n",
      " 0.03696824 0.07490413 0.15972095 0.15908831 0.04956464 0.06266597\n",
      " 0.09852224 0.14068944 0.10829158 0.06379038 0.07980451 0.04925902\n",
      " 0.03602645 0.10672886 0.07084384 0.06943361 0.04282665 0.05325362\n",
      " 0.07433696]\n",
      "[0.31830989 0.00613871 0.01291772 0.0093661  0.00564585 0.00738459\n",
      " 0.01301848 0.00670899 0.01044196 0.00040529 0.00185394 0.01350409\n",
      " 0.01061426 0.00395602 0.00855076 0.00585074 0.00470364 0.00770865\n",
      " 0.00551212 0.01057038 0.01168917 0.003936   0.00980162 0.00975055\n",
      " 0.00735924]\n",
      "[0.31830989 0.08962445 0.08297243 0.02042931 0.06727308 0.07634472\n",
      " 0.04327836 0.07963355 0.04333361 0.09152041 0.07684339 0.07582624\n",
      " 0.10379972 0.11317199 0.13140607 0.11895088 0.07769264 0.09341957\n",
      " 0.10136601 0.11073678 0.08531644 0.06982646 0.06385758 0.04046218\n",
      " 0.05736038]\n",
      "[3.18309886e-01 1.11853915e-03 3.01233647e-03 1.26588180e-03\n",
      " 2.29864369e-03 5.52665179e-04 4.61455498e-03 2.08825000e-03\n",
      " 3.48682920e-03 3.59438459e-03 7.26212870e-04 3.15669414e-04\n",
      " 5.57552378e-03 2.87681454e-03 4.58185541e-03 1.05957471e-03\n",
      " 5.04171002e-03 7.86937568e-04 2.84415435e-04 8.48858467e-04\n",
      " 5.58646473e-03 3.61563035e-03 5.28560105e-03 1.31530614e-03\n",
      " 3.65737193e-03]\n",
      "[0.31830989 0.00102695 0.00040791 0.00090347 0.00208832 0.00257253\n",
      " 0.00075623 0.00134278 0.00193231 0.00320432 0.00378621 0.00482138\n",
      " 0.00120966 0.00154564 0.00274715 0.00879632 0.00436464 0.0049256\n",
      " 0.00685403 0.01148479 0.00179092 0.00153456 0.00365972 0.01067477\n",
      " 0.00170942]\n",
      "[0.31830989 0.00143226 0.00104681 0.00088853 0.00290915 0.0029874\n",
      " 0.0016552  0.00150758 0.00507939 0.00445621 0.00460826 0.00226182\n",
      " 0.00211582 0.00220669 0.00702646 0.00291718 0.00605827 0.00638865\n",
      " 0.00338648 0.00658179 0.00234622 0.00309159 0.00890258 0.00380292\n",
      " 0.00535658]\n",
      "[0.31830989 0.00125159 0.00109884 0.0010979  0.00254517 0.00086949\n",
      " 0.00191672 0.00165292 0.00234055 0.00390875 0.00131878 0.00266201\n",
      " 0.00285273 0.0019541  0.00361424 0.00571466 0.00534097 0.00183405\n",
      " 0.00417555 0.01016624 0.00393368 0.00201795 0.0052185  0.00631503\n",
      " 0.00517479]\n",
      "[0.31830989 0.0860787  0.03908843 0.07016253 0.07033336 0.03834019\n",
      " 0.01504039 0.00931947 0.02185697 0.03826045 0.00150403 0.0354103\n",
      " 0.0265744  0.06186046 0.03818786 0.05602518 0.03802295 0.06003048\n",
      " 0.04185984 0.05447794 0.00033907 0.02193653 0.01654248 0.00977786\n",
      " 0.02462913]\n",
      "[0.31830989 0.14630277 0.18080441 0.18716686 0.16123879 0.1271451\n",
      " 0.04562044 0.06151855 0.05737372 0.05625718 0.11104508 0.06142472\n",
      " 0.01994623 0.02207836 0.05258842 0.08815111 0.01891609 0.05318474\n",
      " 0.05555663 0.00324287 0.00369119 0.01562109 0.01719122 0.05903284\n",
      " 0.05237789]\n",
      "[0.31830989 0.16913653 0.07857859 0.06280366 0.11130933 0.12099296\n",
      " 0.0735127  0.05739673 0.07415831 0.01689783 0.04331026 0.03483489\n",
      " 0.16771386 0.07633584 0.10170371 0.01213005 0.10775456 0.11009675\n",
      " 0.11251487 0.07479239 0.03445441 0.10176854 0.06469168 0.12438379\n",
      " 0.09402069]\n",
      "[0.31830989 0.14374817 0.06259225 0.07792453 0.14822449 0.19720135\n",
      " 0.01940801 0.08393914 0.0743643  0.07783216 0.07929407 0.08594063\n",
      " 0.05560412 0.0694609  0.04782136 0.03644633 0.07107048 0.01713991\n",
      " 0.0855608  0.07434949 0.02063873 0.03082877 0.06846103 0.05639633\n",
      " 0.04597353]\n",
      "[3.18309886e-01 7.27131474e-02 1.19891717e-01 2.26283142e-02\n",
      " 1.89686474e-01 2.00373612e-01 1.04263882e-01 1.06625223e-01\n",
      " 1.03234673e-01 8.80487352e-02 1.09290080e-01 1.13634942e-01\n",
      " 2.93542840e-04 6.41755676e-02 2.85434449e-02 6.07877465e-02\n",
      " 4.01270783e-02 1.89218553e-02 7.01722368e-02 6.14062045e-02\n",
      " 3.66746427e-02 4.94797813e-02 8.91527931e-02 2.59401518e-02\n",
      " 1.01691011e-01]\n",
      "[0.31830989 0.20609982 0.08658568 0.10885721 0.16612214 0.11837848\n",
      " 0.20555188 0.08691172 0.10109357 0.042528   0.05470203 0.09783801\n",
      " 0.14005763 0.10037203 0.03855618 0.08874655 0.08587913 0.08182082\n",
      " 0.06746139 0.111328   0.1274852  0.10643919 0.12216574 0.03952805\n",
      " 0.07734673]\n",
      "[0.31830989 0.22111017 0.2083983  0.4236747  0.12749559 0.15272153\n",
      " 0.15915272 0.10089416 0.18642561 0.16077844 0.21171772 0.13793717\n",
      " 0.06002833 0.05106938 0.03790576 0.07921486 0.11931131 0.16862991\n",
      " 0.17824248 0.12019371 0.0636985  0.12553552 0.11192138 0.06838436\n",
      " 0.08704212]\n",
      "[0.31830989 0.00179403 0.00104314 0.0047894  0.00343224 0.0017298\n",
      " 0.00080735 0.00702761 0.0068162  0.00502048 0.00170742 0.00084126\n",
      " 0.00034073 0.00827763 0.00851847 0.00787393 0.00675121 0.00188853\n",
      " 0.00294296 0.00904772 0.00213311 0.00866568 0.01003046 0.00847542\n",
      " 0.00088455]\n",
      "[3.18309886e-01 2.59284455e-04 1.74128669e-03 2.43430951e-03\n",
      " 4.98890588e-04 4.79692044e-03 2.83914024e-03 4.15916028e-03\n",
      " 1.60799763e-03 7.48407934e-04 7.55247494e-03 3.98464175e-03\n",
      " 3.83613646e-03 6.02859714e-03 2.25649046e-03 7.28435380e-04\n",
      " 1.09191968e-03 1.06753935e-02 5.59200914e-03 6.17118054e-03\n",
      " 4.67984638e-03 8.08148404e-03 2.91741402e-03 1.04131633e-03\n",
      " 3.58723946e-03]\n",
      "[3.18309886e-01 1.78326550e-03 1.65755657e-03 2.18222556e-03\n",
      " 3.64077094e-03 5.13443491e-05 2.41434306e-03 3.57088319e-03\n",
      " 3.27610957e-03 5.62942746e-03 2.96882508e-04 1.59407426e-03\n",
      " 2.62338771e-03 4.85820994e-03 4.25987909e-03 1.52662838e-03\n",
      " 7.76953850e-03 7.86038261e-04 1.88537508e-03 2.73605148e-03\n",
      " 2.02491508e-03 6.00070871e-03 4.83818157e-03 2.08296242e-03\n",
      " 4.31888231e-04]\n",
      "[0.31830989 0.45664631 0.32471746 0.36407582 0.06226214 0.2272088\n",
      " 0.28574344 0.27582013 0.36239537 0.40576145 0.37482154 0.44958634\n",
      " 0.29425848 0.28042303 0.26601525 0.33731497 0.01691767 0.05389407\n",
      " 0.19161863 0.1457834  0.24628727 0.24635944 0.25153532 0.35075706\n",
      " 0.24969877]\n",
      "[0.31830989 0.12036524 0.09244782 0.0036215  0.03316885 0.04571447\n",
      " 0.04673537 0.05650029 0.10162551 0.01942754 0.02783967 0.08293426\n",
      " 0.0194333  0.03373426 0.06459104 0.05401372 0.01326603 0.02452257\n",
      " 0.02253503 0.05946829 0.00349173 0.01111817 0.02892592 0.03795751\n",
      " 0.06785935]\n",
      "[0.31830989 0.26537637 0.04752979 0.11506569 0.30588671 0.36435407\n",
      " 0.14272123 0.22010543 0.17502134 0.17139012 0.11312989 0.22175682\n",
      " 0.3374356  0.277602   0.30867329 0.34356597 0.11575374 0.07614928\n",
      " 0.14285633 0.05575614 0.1807042  0.21528966 0.1959405  0.18158151\n",
      " 0.27757336]\n",
      "[0.31830989 0.31195179 0.04872399 0.06552549 0.23454854 0.22617512\n",
      " 0.20475941 0.25713137 0.13895981 0.03615805 0.04000863 0.07252275\n",
      " 0.09048257 0.12094026 0.13020039 0.09246185 0.07792463 0.12052403\n",
      " 0.07487981 0.08274404 0.00092551 0.04807279 0.02997401 0.07634682\n",
      " 0.0973413 ]\n",
      "[0.31830989 0.01730648 0.05384181 0.08034811 0.01388957 0.03098149\n",
      " 0.01874789 0.00312774 0.00735051 0.00951549 0.00777801 0.00300105\n",
      " 0.00446693 0.0098458  0.00609086 0.02536985 0.0095573  0.0095466\n",
      " 0.0239815  0.0492662  0.00879701 0.01297375 0.00741136 0.00805737\n",
      " 0.01117565]\n",
      "[0.31830989 0.14928084 0.16071671 0.19154738 0.01026963 0.02957715\n",
      " 0.02140364 0.07994155 0.05970012 0.06357363 0.05985149 0.09344978\n",
      " 0.12787956 0.10735534 0.07162802 0.11699107 0.1327361  0.08762901\n",
      " 0.09790455 0.09486583 0.18065968 0.19720956 0.11793001 0.15733344\n",
      " 0.07149267]\n",
      "[0.31830989 0.20888474 0.0961525  0.07059517 0.18527231 0.15002985\n",
      " 0.08001488 0.09049902 0.15677444 0.16158079 0.06520753 0.09744176\n",
      " 0.11228459 0.031918   0.15689862 0.08264486 0.09482869 0.12376166\n",
      " 0.03424259 0.10262212 0.06516613 0.11501856 0.0511712  0.07564298\n",
      " 0.04402953]\n",
      "[0.31830989 0.30307072 0.01468262 0.27744998 0.21618504 0.37291217\n",
      " 0.13963527 0.11493026 0.19972555 0.1155682  0.23653179 0.21641485\n",
      " 0.15811317 0.16246849 0.20162937 0.20803108 0.06514014 0.03431655\n",
      " 0.06101657 0.0230268  0.18613486 0.15250796 0.17621405 0.14533393\n",
      " 0.11484728]\n",
      "[0.31830989 0.16791304 0.21946485 0.24193514 0.26432689 0.28866745\n",
      " 0.08519286 0.10740111 0.09369821 0.28024573 0.3341205  0.31506177\n",
      " 0.0184389  0.06448389 0.11147537 0.08396074 0.25519974 0.26268581\n",
      " 0.26619173 0.26111356 0.13231249 0.15784822 0.21915859 0.23883602\n",
      " 0.1952485 ]\n",
      "[0.31830989 0.07300851 0.10968698 0.12793459 0.01117116 0.03334666\n",
      " 0.05478894 0.0224196  0.03839209 0.03048888 0.00792903 0.01680287\n",
      " 0.00204727 0.01054765 0.01331791 0.02619069 0.01133622 0.00787754\n",
      " 0.03788079 0.04250737 0.01122075 0.01368749 0.01168713 0.0157674\n",
      " 0.03213293]\n",
      "[0.31830989 0.13215292 0.22564289 0.27517778 0.22940728 0.2416339\n",
      " 0.08805843 0.17177856 0.16972407 0.25974896 0.31383757 0.29414398\n",
      " 0.01665135 0.00303323 0.04539464 0.04859611 0.24506818 0.29111753\n",
      " 0.31103296 0.29487716 0.09802637 0.09016045 0.14087557 0.0665942\n",
      " 0.06876476]\n",
      "[0.31830989 0.32562498 0.12194629 0.17452344 0.2205974  0.28666286\n",
      " 0.28901426 0.16008167 0.26148337 0.17849827 0.17062784 0.22423245\n",
      " 0.25317684 0.05772922 0.2548677  0.10173391 0.26283687 0.06863048\n",
      " 0.09388273 0.16321337 0.29124599 0.09815607 0.28562134 0.03377103\n",
      " 0.25695367]\n",
      "[0.31830989 0.10646993 0.09250297 0.09183424 0.07388502 0.08231178\n",
      " 0.09697162 0.04855767 0.07174267 0.02425334 0.02054459 0.06701253\n",
      " 0.05664655 0.07275468 0.07243864 0.01351216 0.04448261 0.03879911\n",
      " 0.07693195 0.05648599 0.03782821 0.0609955  0.08718053 0.03740391\n",
      " 0.05102477]\n",
      "[0.31830989 0.19055413 0.03197698 0.03970901 0.12292988 0.10285624\n",
      " 0.01882336 0.09812668 0.04963328 0.10577707 0.04639608 0.12819067\n",
      " 0.09607937 0.05312989 0.13249892 0.02050284 0.07881192 0.06486349\n",
      " 0.04049877 0.02041132 0.16133004 0.11361555 0.13411155 0.07089369\n",
      " 0.14419264]\n",
      "[0.31830989 0.06963554 0.04398935 0.06335248 0.02803643 0.09675986\n",
      " 0.00632042 0.06220456 0.01525857 0.03676786 0.08214783 0.09432843\n",
      " 0.0187475  0.04786607 0.02102316 0.03234777 0.01706824 0.03599603\n",
      " 0.03446062 0.03566928 0.00554522 0.01301434 0.00730409 0.02665371\n",
      " 0.02982196]\n",
      "[0.31830989 0.15712421 0.10609159 0.0669697  0.04734061 0.03773948\n",
      " 0.05389588 0.06433088 0.06726959 0.01486156 0.00967056 0.06186372\n",
      " 0.02666019 0.03463125 0.04102535 0.02954919 0.04079287 0.00160589\n",
      " 0.03116366 0.04355176 0.01662997 0.00819811 0.01407352 0.03367774\n",
      " 0.00294231]\n",
      "[0.31830989 0.00662733 0.00401025 0.00909078 0.00547074 0.00750159\n",
      " 0.00188898 0.00488251 0.00553239 0.00173874 0.00079936 0.00423987\n",
      " 0.00624381 0.00194272 0.00377238 0.00146053 0.00305355 0.0006341\n",
      " 0.01475312 0.00572928 0.0057217  0.0047194  0.00320607 0.0097819\n",
      " 0.00367886]\n",
      "[0.31830989 0.06032298 0.06584702 0.04410787 0.0378702  0.03519449\n",
      " 0.01442758 0.00850541 0.03535018 0.00890103 0.01556467 0.03068882\n",
      " 0.01649191 0.01701267 0.02902827 0.00411581 0.00922467 0.00562726\n",
      " 0.02568865 0.02831875 0.0048839  0.01012588 0.01634537 0.01968501\n",
      " 0.02687503]\n",
      "[0.31830989 0.09426146 0.08177674 0.09449311 0.06221058 0.01862126\n",
      " 0.05390206 0.01725596 0.03003881 0.00605646 0.01654435 0.04655708\n",
      " 0.0268782  0.03513185 0.03296165 0.03380867 0.04151316 0.06337304\n",
      " 0.02564279 0.04297662 0.01040788 0.01410339 0.04703757 0.01177967\n",
      " 0.02438822]\n",
      "[0.31830989 0.03633266 0.03257175 0.03203451 0.02101848 0.01720907\n",
      " 0.00036107 0.00714528 0.00481684 0.00871593 0.01498079 0.01761032\n",
      " 0.01753084 0.0148198  0.0175509  0.02343777 0.00772116 0.00583064\n",
      " 0.0160115  0.01700484 0.00547931 0.00126147 0.00423302 0.01396516\n",
      " 0.02575562]\n",
      "[0.31830989 0.05060246 0.04505115 0.05647118 0.01172512 0.04128558\n",
      " 0.00185959 0.0268777  0.00585883 0.00388912 0.02457018 0.02236028\n",
      " 0.00108484 0.02173476 0.0206024  0.01917583 0.01598265 0.01949584\n",
      " 0.01823968 0.01076555 0.00504222 0.01517199 0.02838111 0.02195517\n",
      " 0.03212883]\n",
      "[3.18309886e-01 1.06102953e-01 2.15273636e-01 2.38378870e-02\n",
      " 5.13104513e-02 8.90085247e-02 4.56700654e-02 5.79579522e-02\n",
      " 1.09802544e-01 1.95397492e-02 1.01867437e-01 1.14154890e-01\n",
      " 2.94981545e-04 5.38268347e-02 6.04601808e-02 7.35147625e-02\n",
      " 2.28303571e-02 5.42582010e-02 4.30368153e-02 4.32733255e-02\n",
      " 2.89531369e-02 3.20290976e-02 3.63206303e-02 7.15755887e-02\n",
      " 1.43074090e-02]\n",
      "[0.31830989 0.11536966 0.09826808 0.13940777 0.13555811 0.13474266\n",
      " 0.0072903  0.05263447 0.04128362 0.15374246 0.09356045 0.1430768\n",
      " 0.0344102  0.01032603 0.05611371 0.06024596 0.0767186  0.06092344\n",
      " 0.06218432 0.04780582 0.02867181 0.01583672 0.03262017 0.03062937\n",
      " 0.02498371]\n",
      "[0.31830989 0.28916313 0.03187407 0.02847201 0.27387644 0.25983071\n",
      " 0.19680764 0.20795466 0.17736712 0.03792076 0.03885534 0.06092323\n",
      " 0.1454747  0.15462949 0.1740143  0.15761673 0.07067057 0.07978076\n",
      " 0.10261323 0.05384446 0.03894848 0.0307141  0.04993778 0.02263492\n",
      " 0.06606536]\n",
      "[0.31830989 0.15774507 0.16619554 0.03851537 0.15627597 0.11965256\n",
      " 0.01103555 0.06313895 0.05349809 0.07716335 0.03521379 0.1001471\n",
      " 0.05612332 0.0088981  0.12027821 0.0249905  0.02261722 0.07733822\n",
      " 0.03045444 0.04058863 0.12797862 0.13424685 0.1697942  0.09023561\n",
      " 0.1927325 ]\n",
      "[3.18309886e-01 4.30788160e-03 7.06902097e-03 5.73695394e-03\n",
      " 6.56385426e-03 7.97341156e-03 7.09659296e-03 5.47830797e-03\n",
      " 3.66781931e-03 6.94877070e-03 5.28091568e-03 1.14298019e-02\n",
      " 3.76993759e-03 2.38611144e-03 6.84488706e-04 5.41704991e-03\n",
      " 8.03518574e-03 1.72608508e-03 6.82903968e-03 9.45460336e-03\n",
      " 1.41793082e-04 1.66908572e-03 3.83557877e-03 5.05367432e-03\n",
      " 1.91749333e-02]\n",
      "[0.31830989 0.00108522 0.00095024 0.00198504 0.00225932 0.00503734\n",
      " 0.00142637 0.00312937 0.0014323  0.0036196  0.00769176 0.00626204\n",
      " 0.00164166 0.00398488 0.00169295 0.00277736 0.00526724 0.01045075\n",
      " 0.00860497 0.00422942 0.00144822 0.00440143 0.00181843 0.00297512\n",
      " 0.0109574 ]\n",
      "[3.18309886e-01 1.41024278e-03 2.85649859e-04 3.39480580e-03\n",
      " 2.93720944e-03 3.99219142e-03 4.08171460e-04 5.50563251e-03\n",
      " 1.31872632e-03 4.69136913e-03 6.12889748e-03 4.61325226e-03\n",
      " 4.17887229e-04 7.37119319e-03 1.75192545e-03 2.64648121e-03\n",
      " 6.76390527e-03 8.37756868e-03 6.37526786e-03 6.73124661e-03\n",
      " 2.51695608e-04 8.86668684e-03 2.10563306e-03 4.01696466e-03\n",
      " 2.37257874e-03]\n",
      "[0.31830989 0.00213757 0.00242821 0.00244473 0.00433489 0.0005324\n",
      " 0.00421776 0.00394921 0.00336704 0.00663079 0.00086743 0.00294053\n",
      " 0.00628035 0.00525056 0.00441665 0.00185895 0.00902023 0.00133009\n",
      " 0.00336798 0.00726968 0.00875241 0.00624199 0.00510921 0.00257268\n",
      " 0.00413908]\n",
      "[0.31830989 0.17330115 0.05168067 0.09868048 0.17463851 0.14451062\n",
      " 0.04631953 0.03697359 0.0920133  0.22119623 0.12375475 0.07902947\n",
      " 0.06424951 0.06380372 0.04216473 0.0613346  0.11517456 0.03753403\n",
      " 0.06504481 0.10440258 0.07132184 0.01792834 0.02558086 0.04299167\n",
      " 0.02612358]\n",
      "[0.31830989 0.02075629 0.02199033 0.01723151 0.01661798 0.00844152\n",
      " 0.0060698  0.00541778 0.0115773  0.00546552 0.00213937 0.01904582\n",
      " 0.00725547 0.00598691 0.00570003 0.03779862 0.00635392 0.00847839\n",
      " 0.01536257 0.04247208 0.00674631 0.00477007 0.01002579 0.01297629\n",
      " 0.03021226]\n",
      "[0.31830989 0.21790828 0.19139551 0.15703763 0.33981035 0.31360978\n",
      " 0.04983421 0.0643791  0.06660896 0.29404526 0.28591126 0.25727412\n",
      " 0.26999903 0.22113225 0.25946071 0.23379824 0.10630601 0.14477701\n",
      " 0.09131381 0.09003371 0.31595511 0.29887035 0.31985847 0.29453063\n",
      " 0.28308106]\n",
      "[0.31830989 0.05973628 0.21874738 0.07458707 0.06083112 0.06766242\n",
      " 0.04657749 0.02355675 0.05411149 0.06369701 0.06878789 0.09317709\n",
      " 0.03238174 0.03279014 0.06996238 0.03048192 0.04273254 0.01791947\n",
      " 0.0765263  0.07697388 0.09058139 0.0442312  0.11095572 0.02809404\n",
      " 0.12384863]\n",
      "[0.31830989 0.19024396 0.13187614 0.13887377 0.1517721  0.13869089\n",
      " 0.01768361 0.24804745 0.01384533 0.1862993  0.18533665 0.16501046\n",
      " 0.06321979 0.05240461 0.07855392 0.09268083 0.13384618 0.09690334\n",
      " 0.16611469 0.12758125 0.0249392  0.0226099  0.05580426 0.03752373\n",
      " 0.01938444]\n",
      "[0.31830989 0.11598775 0.12147049 0.12894237 0.12511391 0.16003243\n",
      " 0.00248802 0.08357847 0.01070445 0.08363227 0.0466079  0.08939522\n",
      " 0.02087897 0.03793792 0.06520505 0.07891286 0.04009118 0.03865914\n",
      " 0.02145409 0.02098828 0.00139901 0.03151376 0.02059493 0.06240349\n",
      " 0.00959044]\n",
      "[0.31830989 0.2622246  0.07996642 0.08463752 0.16803827 0.16331565\n",
      " 0.01381441 0.08626601 0.09002436 0.12675883 0.06850275 0.04331738\n",
      " 0.07605203 0.09579696 0.05763801 0.1143289  0.01393385 0.13529361\n",
      " 0.09162669 0.15554722 0.19304376 0.13849474 0.22956704 0.12252268\n",
      " 0.17275812]\n",
      "[0.31830989 0.13468773 0.03608275 0.13274937 0.06956612 0.04315422\n",
      " 0.06078759 0.01380389 0.04816184 0.18140987 0.15939626 0.12964375\n",
      " 0.0260101  0.10191907 0.01780218 0.06916667 0.13327252 0.0530558\n",
      " 0.06668216 0.05922103 0.05754711 0.02350139 0.03856025 0.05076088\n",
      " 0.0762449 ]\n",
      "[0.31830989 0.24043716 0.02694407 0.07188883 0.24978564 0.21538388\n",
      " 0.14192742 0.04830378 0.19548156 0.10030555 0.07220158 0.07200726\n",
      " 0.2933674  0.08214822 0.16687868 0.00235175 0.06895025 0.12049263\n",
      " 0.12199086 0.11308768 0.10135686 0.11004437 0.05390351 0.05947207\n",
      " 0.11366675]\n",
      "[0.31830989 0.20441467 0.0774837  0.07641376 0.17546416 0.18785661\n",
      " 0.09214726 0.00649053 0.12207994 0.06173779 0.04213503 0.0334218\n",
      " 0.05610878 0.04137276 0.06623557 0.03500608 0.04230368 0.04257732\n",
      " 0.05179763 0.06912266 0.06164619 0.02949046 0.05469427 0.05529075\n",
      " 0.05687082]\n",
      "[0.31830989 0.19217761 0.06669935 0.07759365 0.03486609 0.0107295\n",
      " 0.02500771 0.11881896 0.00949188 0.04888361 0.04332869 0.03777903\n",
      " 0.06058749 0.06983262 0.04254523 0.04983493 0.03264608 0.04439849\n",
      " 0.0378908  0.01805631 0.0475584  0.10874181 0.03083536 0.08340526\n",
      " 0.0416311 ]\n",
      "[0.31830989 0.17645159 0.01118679 0.28119621 0.15982604 0.10319291\n",
      " 0.06734029 0.1143053  0.08102963 0.17929956 0.14665983 0.12575638\n",
      " 0.02967367 0.03365321 0.08279506 0.11218847 0.14299826 0.1498952\n",
      " 0.07113069 0.0709453  0.02839028 0.08050167 0.01864686 0.10641566\n",
      " 0.05491266]\n",
      "[0.31830989 0.16161371 0.12678431 0.16872614 0.16984368 0.13366139\n",
      " 0.00724585 0.0267789  0.04527144 0.10413065 0.04260507 0.05515749\n",
      " 0.01429624 0.02770858 0.03611007 0.06180697 0.05155268 0.02745461\n",
      " 0.0215728  0.01982996 0.05187209 0.02445385 0.00343162 0.03736308\n",
      " 0.02870729]\n",
      "[0.31830989 0.00136316 0.00040492 0.00298488 0.00280662 0.00260694\n",
      " 0.0007457  0.00482779 0.00118624 0.00440736 0.00404783 0.00382493\n",
      " 0.00119804 0.0064419  0.0016039  0.00537583 0.00622945 0.00560825\n",
      " 0.00530637 0.00746855 0.00181381 0.0077354  0.00194567 0.00692206\n",
      " 0.00104258]\n",
      "[0.31830989 0.27430459 0.09071358 0.25688108 0.27458615 0.33679837\n",
      " 0.08192951 0.14727997 0.15918935 0.18972682 0.29118698 0.26508751\n",
      " 0.23519762 0.1681483  0.2569517  0.19118425 0.0524267  0.18806539\n",
      " 0.07238521 0.13958295 0.2204528  0.135156   0.34568074 0.17824781\n",
      " 0.19961109]\n",
      "[0.31830989 0.04824386 0.09653205 0.13528722 0.04208412 0.03116461\n",
      " 0.03864509 0.01706365 0.02047236 0.01125724 0.05206841 0.04970699\n",
      " 0.0179189  0.05200658 0.03021447 0.07402781 0.03486152 0.02535046\n",
      " 0.04627421 0.03487906 0.02137425 0.00865707 0.02692833 0.03923539\n",
      " 0.0221249 ]\n",
      "[3.18309886e-01 4.33183035e-02 7.25144746e-02 6.97703831e-02\n",
      " 5.99397657e-03 1.43210478e-02 1.09354843e-02 8.85534098e-03\n",
      " 2.88573725e-03 1.92243049e-02 6.72994930e-03 8.18035491e-03\n",
      " 7.71292941e-06 3.43437852e-03 1.60378515e-02 8.89415589e-03\n",
      " 1.01060722e-02 1.13200429e-02 1.23695846e-02 4.57996772e-03\n",
      " 1.13416013e-02 9.75265940e-03 6.60986746e-03 3.48571011e-02\n",
      " 5.38145631e-02]\n",
      "[0.31830989 0.10774021 0.00780037 0.14571704 0.03144858 0.01530044\n",
      " 0.02193016 0.03159541 0.02953117 0.04668693 0.03196996 0.02272641\n",
      " 0.04186999 0.05636486 0.04282061 0.04855632 0.10128799 0.10773776\n",
      " 0.08015698 0.06109539 0.0354418  0.06083762 0.02261955 0.04424881\n",
      " 0.02126299]\n",
      "[0.31830989 0.06029125 0.08906578 0.07908495 0.02225307 0.02380648\n",
      " 0.02296144 0.01831085 0.00862456 0.03072063 0.01899277 0.02615346\n",
      " 0.01077858 0.02386773 0.00959713 0.02643551 0.01359531 0.01435595\n",
      " 0.00805531 0.00682701 0.01142887 0.01464422 0.01703725 0.01092765\n",
      " 0.00487111]\n",
      "[0.31830989 0.01544694 0.01423168 0.02223212 0.00530451 0.00168823\n",
      " 0.00931136 0.00736546 0.01103035 0.00742428 0.01091668 0.01211991\n",
      " 0.00039353 0.00312119 0.00339167 0.01229095 0.00206679 0.00257757\n",
      " 0.00763905 0.01474471 0.00043456 0.00240873 0.00555023 0.01635699\n",
      " 0.00786528]\n",
      "[0.31830989 0.08164543 0.11271077 0.02412418 0.04355179 0.08677586\n",
      " 0.06148586 0.01804225 0.1167241  0.03593801 0.07436252 0.08422689\n",
      " 0.01847927 0.00799831 0.04357304 0.03170413 0.04755116 0.05620261\n",
      " 0.09732365 0.10541577 0.05842757 0.06222277 0.06328838 0.07514902\n",
      " 0.0585957 ]\n",
      "[0.31830989 0.09274614 0.10413587 0.01738295 0.05275707 0.06869384\n",
      " 0.01616545 0.01881953 0.01608563 0.05604104 0.0398458  0.08088871\n",
      " 0.049697   0.00326565 0.08336485 0.03460429 0.04353514 0.01572724\n",
      " 0.04623222 0.02808653 0.10607506 0.07629504 0.10294254 0.05520513\n",
      " 0.1541424 ]\n",
      "[0.31830989 0.18766557 0.11060484 0.31198197 0.1498865  0.15069287\n",
      " 0.13777405 0.18246768 0.10891114 0.22086989 0.17687443 0.14288545\n",
      " 0.17087364 0.03546122 0.17364735 0.05670088 0.20884706 0.24122719\n",
      " 0.14844823 0.16446382 0.02516518 0.04163723 0.05621731 0.04440663\n",
      " 0.04380539]\n",
      "[0.31830989 0.10869187 0.04218058 0.00940285 0.14741839 0.1657514\n",
      " 0.04039858 0.12622582 0.09344826 0.01253353 0.02773014 0.06478966\n",
      " 0.11122712 0.17254856 0.0760917  0.14433203 0.048414   0.04696738\n",
      " 0.06135581 0.09232604 0.17081935 0.13002128 0.10576434 0.09927901\n",
      " 0.12340425]\n",
      "[0.31830989 0.36071824 0.33750565 0.29625095 0.34323939 0.35896864\n",
      " 0.05749048 0.44792373 0.12830563 0.15281335 0.21020147 0.05965927\n",
      " 0.1965354  0.10463179 0.24793005 0.09179501 0.16033788 0.29644701\n",
      " 0.15786541 0.21846129 0.0085716  0.14447869 0.15146105 0.02591485\n",
      " 0.09859062]\n",
      "[0.31830989 0.07873406 0.07874351 0.01252408 0.09480898 0.10943622\n",
      " 0.01951369 0.06265239 0.04287367 0.0684008  0.06305643 0.0540102\n",
      " 0.01197458 0.06388726 0.00822768 0.07777398 0.01856524 0.05541275\n",
      " 0.03797096 0.00713566 0.00790797 0.02131656 0.03649025 0.03238945\n",
      " 0.02768108]\n",
      "[0.31830989 0.0024545  0.00173935 0.00200546 0.00497114 0.00058642\n",
      " 0.00308099 0.00321679 0.00424295 0.00759163 0.00067552 0.00284756\n",
      " 0.00471326 0.00422859 0.00564014 0.0035921  0.01031479 0.00058078\n",
      " 0.00380995 0.00508381 0.0067806  0.00494318 0.00667837 0.00489399\n",
      " 0.00402688]\n",
      "[0.31830989 0.07229718 0.10745355 0.07512905 0.04938378 0.08716332\n",
      " 0.03757529 0.04194313 0.11538618 0.02097801 0.09735978 0.06299829\n",
      " 0.02549802 0.07085292 0.04744801 0.0697157  0.007757   0.01797028\n",
      " 0.03594684 0.04812244 0.01561279 0.03057802 0.03085163 0.01414545\n",
      " 0.01892054]\n",
      "[0.31830989 0.10843116 0.14910213 0.15173743 0.0488931  0.07711664\n",
      " 0.04488297 0.06847496 0.07646197 0.01034743 0.06215225 0.01123575\n",
      " 0.01401901 0.03939937 0.04522195 0.01787262 0.01207382 0.04007952\n",
      " 0.01412342 0.03390877 0.00970627 0.02040347 0.01289655 0.02244629\n",
      " 0.0114482 ]\n",
      "[0.31830989 0.26013931 0.01737926 0.08495269 0.10181212 0.08494354\n",
      " 0.04467049 0.01694997 0.05345341 0.08707979 0.07764986 0.09808129\n",
      " 0.07819439 0.02357679 0.08152321 0.03752579 0.07654755 0.02510283\n",
      " 0.10382191 0.03995795 0.10544049 0.02433303 0.10347919 0.0623359\n",
      " 0.10166639]\n",
      "[0.31830989 0.03249868 0.0378901  0.03647287 0.01138503 0.01061982\n",
      " 0.0007269  0.0123617  0.02987835 0.00772993 0.01527268 0.04694182\n",
      " 0.01206126 0.00169367 0.02822622 0.04470519 0.00527048 0.01761859\n",
      " 0.02183217 0.02871707 0.00875795 0.01095204 0.01176735 0.02093515\n",
      " 0.01615088]\n",
      "[0.31830989 0.19639656 0.14805051 0.03566581 0.21842016 0.20209053\n",
      " 0.10699767 0.09020775 0.14300677 0.1469713  0.11176751 0.11275939\n",
      " 0.26007081 0.08188382 0.26122178 0.07081642 0.05433817 0.08650308\n",
      " 0.06053841 0.09839195 0.27443287 0.03870933 0.19887702 0.04124839\n",
      " 0.21397652]\n",
      "[0.31830989 0.29068595 0.03676908 0.20721108 0.28770099 0.36051129\n",
      " 0.12376188 0.19705333 0.21096369 0.17988251 0.13304671 0.24273837\n",
      " 0.25093839 0.3206529  0.23105491 0.28830094 0.06511887 0.15257971\n",
      " 0.05489588 0.08763775 0.2241518  0.19343684 0.21976946 0.16882085\n",
      " 0.19635911]\n",
      "[0.31830989 0.23059287 0.0424331  0.06561747 0.0719348  0.10395898\n",
      " 0.10367986 0.03970341 0.08115903 0.04427147 0.00696041 0.05105209\n",
      " 0.01581127 0.02118629 0.07232296 0.08041355 0.05154839 0.00217753\n",
      " 0.02432517 0.06516149 0.24554194 0.18327394 0.11660049 0.08186806\n",
      " 0.08580424]\n",
      "[0.31830989 0.25605633 0.06714941 0.13284823 0.29760306 0.35156221\n",
      " 0.18559801 0.13136128 0.16127129 0.14053069 0.21665799 0.19215401\n",
      " 0.25486356 0.24832084 0.30906234 0.27749524 0.06662779 0.04448091\n",
      " 0.08734163 0.0345667  0.18281697 0.17506457 0.24007469 0.19404742\n",
      " 0.21319687]\n",
      "[0.31830989 0.32041533 0.08900119 0.06771133 0.38730516 0.20458021\n",
      " 0.29560365 0.37324557 0.2289721  0.05758208 0.09535254 0.03673367\n",
      " 0.27866323 0.37383016 0.16757745 0.22386375 0.23207965 0.41245472\n",
      " 0.17233821 0.24392588 0.0324351  0.04311653 0.17358009 0.0788752\n",
      " 0.04837378]\n",
      "[3.18309886e-01 3.78734304e-02 5.84785080e-02 1.17596144e-02\n",
      " 2.93564118e-02 7.78113528e-02 1.38731491e-02 4.41296584e-02\n",
      " 6.45117026e-02 1.11435783e-02 1.05613094e-02 2.22959674e-02\n",
      " 2.75984046e-04 9.48740660e-03 1.88119443e-02 4.31263667e-02\n",
      " 2.46317359e-02 2.38138043e-03 3.21567865e-02 2.36248871e-02\n",
      " 1.11266255e-02 1.44598741e-02 2.16913878e-02 3.90108121e-02\n",
      " 2.28228392e-03]\n",
      "[0.31830989 0.04164953 0.05692363 0.0508509  0.02781829 0.07513953\n",
      " 0.0297799  0.02435927 0.07890298 0.01401064 0.06604401 0.06770686\n",
      " 0.00221339 0.04332662 0.04426563 0.07643584 0.00850671 0.01825911\n",
      " 0.03262333 0.03162109 0.00813359 0.00605453 0.02514835 0.01710904\n",
      " 0.01457718]\n",
      "[0.31830989 0.23817526 0.01630254 0.11074236 0.10863403 0.10614836\n",
      " 0.01204333 0.03165367 0.1088918  0.08687293 0.02848192 0.06555831\n",
      " 0.05447766 0.009605   0.07490977 0.03032293 0.05179989 0.02222618\n",
      " 0.0660538  0.05592593 0.04551127 0.02079463 0.07339577 0.02530352\n",
      " 0.08606755]\n",
      "[0.31830989 0.3006096  0.0521827  0.03679601 0.34748773 0.30434313\n",
      " 0.31679465 0.26749295 0.25558415 0.0438583  0.09886777 0.05763425\n",
      " 0.31382747 0.33397176 0.34893944 0.28647731 0.25272444 0.25800169\n",
      " 0.23303673 0.20542284 0.06423278 0.08965072 0.08025652 0.12938754\n",
      " 0.08455464]\n",
      "[0.31830989 0.21026267 0.06474349 0.02814939 0.09012104 0.09512667\n",
      " 0.03108294 0.04997502 0.02330828 0.05166702 0.02532737 0.08961238\n",
      " 0.00076959 0.07165865 0.02713467 0.0101111  0.03604656 0.00730411\n",
      " 0.05492847 0.01061836 0.00085411 0.05163264 0.03524926 0.0188031\n",
      " 0.01968141]\n",
      "[0.31830989 0.19623581 0.19916133 0.1030066  0.30324636 0.17707312\n",
      " 0.18807128 0.15924237 0.11637029 0.13717244 0.0831021  0.08071162\n",
      " 0.0361056  0.0436474  0.15385674 0.09283504 0.16264686 0.04711351\n",
      " 0.09492847 0.09892904 0.09530541 0.02200129 0.12729787 0.08741477\n",
      " 0.1348586 ]\n",
      "[0.31830989 0.29041121 0.23426735 0.20045932 0.26749543 0.11578866\n",
      " 0.07260277 0.26099522 0.11074239 0.17781936 0.1727439  0.12484945\n",
      " 0.05328965 0.12164821 0.06714364 0.15096613 0.22425544 0.11429148\n",
      " 0.0735617  0.14731441 0.03367747 0.06618252 0.02780232 0.06390011\n",
      " 0.09267968]\n",
      "[0.31830989 0.18838557 0.05696292 0.09444817 0.10202541 0.07413471\n",
      " 0.18572303 0.30942324 0.14019014 0.0897936  0.06411451 0.0471565\n",
      " 0.17355448 0.17586758 0.10413341 0.16562243 0.12696216 0.11049054\n",
      " 0.04250283 0.1469877  0.12187547 0.03278427 0.10253677 0.06001201\n",
      " 0.14863419]\n",
      "[0.31830989 0.15870903 0.08632798 0.08976748 0.05724797 0.03931971\n",
      " 0.05211042 0.03599779 0.04600439 0.0267752  0.00715053 0.02791029\n",
      " 0.04246964 0.04006428 0.03692184 0.04752964 0.02806138 0.00925962\n",
      " 0.02004945 0.00216208 0.00320067 0.00794417 0.02948418 0.01346026\n",
      " 0.02333558]\n",
      "[0.31830989 0.30846483 0.01609584 0.29384815 0.19186833 0.21677579\n",
      " 0.05686182 0.09944019 0.0334938  0.17293461 0.18210217 0.02403587\n",
      " 0.09815016 0.1584052  0.05486748 0.14840708 0.07131074 0.11880804\n",
      " 0.05989977 0.0814693  0.15251717 0.14904041 0.1411063  0.04437197\n",
      " 0.10018849]\n",
      "[0.31830989 0.07119613 0.24843815 0.13668294 0.08968336 0.09243613\n",
      " 0.11234418 0.10555065 0.16982428 0.05501271 0.11424818 0.10413582\n",
      " 0.02588813 0.05595535 0.06565033 0.10200265 0.03822915 0.06891487\n",
      " 0.06088561 0.08869196 0.00035269 0.05295806 0.01990576 0.07705594\n",
      " 0.01286257]\n",
      "[0.31830989 0.29310129 0.04086246 0.2570268  0.20429605 0.23400765\n",
      " 0.0922978  0.09576652 0.01536475 0.1335383  0.16107676 0.02462618\n",
      " 0.14089654 0.19323585 0.07603997 0.14199184 0.01815585 0.05644645\n",
      " 0.08877048 0.11635232 0.1424811  0.14072928 0.13918187 0.0136527\n",
      " 0.0524102 ]\n",
      "[0.31830989 0.00089017 0.0030099  0.00243849 0.00188569 0.0030938\n",
      " 0.00479562 0.00399794 0.00227243 0.00308865 0.00472087 0.00706542\n",
      " 0.00620121 0.00545113 0.00233828 0.00251245 0.00459004 0.0064033\n",
      " 0.00958541 0.00536814 0.0069855  0.0067432  0.00172758 0.00295979\n",
      " 0.00938439]\n",
      "[0.31830989 0.241487   0.07644877 0.10495008 0.24423843 0.25617811\n",
      " 0.09288731 0.10121446 0.08578771 0.10383318 0.09242468 0.10495823\n",
      " 0.11414827 0.11115773 0.08618228 0.09414043 0.02040582 0.00406131\n",
      " 0.02738149 0.05319166 0.01787757 0.06123841 0.03085459 0.03014096\n",
      " 0.0279444 ]\n",
      "[0.31830989 0.00164123 0.00172324 0.00150567 0.00332667 0.0015372\n",
      " 0.0029996  0.00237104 0.00495746 0.00507953 0.00213212 0.00260715\n",
      " 0.00448229 0.00301082 0.00661105 0.00234453 0.00687894 0.00253746\n",
      " 0.00285883 0.01013084 0.00627859 0.00330535 0.00788738 0.00333626\n",
      " 0.00348898]\n",
      "[0.31830989 0.00139223 0.00129507 0.00481518 0.00261245 0.00099092\n",
      " 0.00190903 0.00769919 0.00473303 0.0035274  0.00134645 0.00704779\n",
      " 0.00219371 0.01012598 0.00625786 0.00826604 0.00407524 0.00192781\n",
      " 0.00894152 0.00036002 0.00209323 0.01197353 0.00749603 0.00957185\n",
      " 0.00839136]\n",
      "[3.18309886e-01 9.32199311e-04 2.36779741e-03 1.36529719e-03\n",
      " 2.02238209e-03 4.42097982e-03 3.90601741e-03 2.37060598e-03\n",
      " 4.27150354e-04 3.41324358e-03 6.84410125e-03 4.97845111e-03\n",
      " 5.36953963e-03 3.50773457e-03 3.53536299e-04 2.01554443e-03\n",
      " 5.21260394e-03 9.45540466e-03 6.90243135e-03 3.50131867e-03\n",
      " 6.70369222e-03 4.80585678e-03 1.60196994e-05 2.06192270e-03\n",
      " 1.94674885e-03]\n",
      "[3.18309886e-01 9.29956858e-04 2.36781709e-03 1.36527646e-03\n",
      " 2.01766276e-03 4.42100999e-03 3.90612501e-03 2.37062166e-03\n",
      " 4.27275452e-04 3.40570890e-03 6.84424024e-03 4.97846487e-03\n",
      " 5.36987836e-03 3.50786307e-03 3.54178442e-04 2.01535400e-03\n",
      " 5.20194969e-03 9.45576476e-03 6.90237638e-03 3.50140860e-03\n",
      " 6.70451984e-03 4.80620724e-03 1.80073561e-05 2.06153440e-03\n",
      " 1.94692369e-03]\n",
      "[0.31830989 0.27254681 0.01727309 0.0057731  0.13525679 0.14458611\n",
      " 0.0262925  0.04930436 0.06177266 0.05808193 0.0460453  0.04091099\n",
      " 0.01108846 0.00788244 0.01740976 0.02317971 0.04907282 0.03633974\n",
      " 0.05174912 0.07998874 0.04102843 0.02447904 0.02256063 0.02957603\n",
      " 0.05988493]\n",
      "[3.18309886e-01 2.01075125e-03 1.66162376e-03 2.18014833e-03\n",
      " 4.09497667e-03 5.44824966e-05 2.43494434e-03 3.56045646e-03\n",
      " 3.27620573e-03 6.30822111e-03 3.16454754e-04 1.58696102e-03\n",
      " 2.68209670e-03 4.82913081e-03 4.25676200e-03 1.53065321e-03\n",
      " 8.66815740e-03 8.38468533e-04 1.86796142e-03 2.74047549e-03\n",
      " 2.15328120e-03 5.93893666e-03 4.83070046e-03 2.10315349e-03\n",
      " 4.40787858e-04]\n",
      "[0.31830989 0.0010703  0.00234341 0.00196267 0.00224436 0.00491314\n",
      " 0.00378123 0.00317673 0.00055903 0.00363034 0.00755043 0.00832418\n",
      " 0.0050086  0.00424403 0.00053883 0.00291292 0.00533149 0.01034362\n",
      " 0.01137608 0.00285106 0.00589938 0.00510384 0.00079806 0.00344362\n",
      " 0.00814999]\n",
      "[0.31830989 0.01998213 0.01757126 0.02276017 0.00690216 0.01677664\n",
      " 0.00092342 0.00161734 0.00898224 0.00733572 0.00267572 0.00209762\n",
      " 0.00064072 0.00296984 0.00624524 0.00642386 0.0114248  0.00514619\n",
      " 0.00315083 0.00563052 0.00369258 0.01083654 0.00574308 0.00547391\n",
      " 0.00800057]\n",
      "[3.18309886e-01 1.18233653e-03 2.33739306e-03 1.97419177e-03\n",
      " 2.44319596e-03 3.00746142e-04 3.52491067e-03 3.27004149e-03\n",
      " 4.93703350e-03 3.84841820e-03 4.68688448e-04 6.54636335e-04\n",
      " 4.12714637e-03 4.53041485e-03 6.61971336e-03 3.02222688e-03\n",
      " 5.43619789e-03 7.05022305e-04 9.75017316e-04 4.41146307e-03\n",
      " 3.86307355e-03 5.73224554e-03 7.92298354e-03 3.94715576e-03\n",
      " 1.72495477e-03]\n",
      "[3.18309886e-01 2.46143208e-04 1.74502518e-03 8.48388763e-04\n",
      " 5.51998101e-04 4.89490885e-03 2.85646925e-03 1.45001396e-03\n",
      " 3.30331082e-03 9.67521103e-04 7.73993859e-03 3.72904026e-04\n",
      " 3.87938499e-03 2.14578935e-03 4.42317220e-03 2.41485857e-03\n",
      " 1.50937518e-03 1.10083871e-02 7.48192419e-04 1.06244488e-02\n",
      " 4.75937266e-03 3.02938303e-03 5.32939774e-03 3.23617711e-03\n",
      " 1.66087052e-03]\n",
      "[0.31830989 0.11809762 0.14231351 0.1508886  0.07816046 0.07110389\n",
      " 0.02722153 0.03491151 0.02130345 0.02515826 0.02814859 0.04070135\n",
      " 0.0281761  0.02169802 0.03403759 0.01586326 0.05012235 0.04177338\n",
      " 0.04648574 0.05243418 0.01329341 0.02688546 0.01590215 0.0222458\n",
      " 0.01229626]\n",
      "[0.31830989 0.01598681 0.01618365 0.02392244 0.01024265 0.02536523\n",
      " 0.00306606 0.01077404 0.02568408 0.00680144 0.00610806 0.02271249\n",
      " 0.00809948 0.00275372 0.0045112  0.02683128 0.01185329 0.00907887\n",
      " 0.00809165 0.01429864 0.00415401 0.00165161 0.00799585 0.01332971\n",
      " 0.01552889]\n",
      "[3.18309886e-01 5.99664764e-04 2.46114524e-04 2.76518709e-03\n",
      " 1.21759438e-03 2.76645644e-03 2.14884904e-04 4.31750567e-03\n",
      " 6.11374878e-03 1.86938772e-03 4.21771061e-03 4.43138714e-03\n",
      " 1.05053729e-04 5.39619946e-03 8.68772424e-03 8.44305271e-03\n",
      " 2.56479965e-03 5.74050462e-03 6.07167322e-03 5.93317115e-03\n",
      " 8.17707112e-04 5.75050291e-03 1.13523804e-02 9.34830265e-03\n",
      " 6.00916873e-03]\n",
      "[3.18309886e-01 2.92640248e-04 3.00684422e-03 1.26491446e-03\n",
      " 6.45759984e-04 5.55868419e-04 4.58649287e-03 2.08528668e-03\n",
      " 3.48862699e-03 1.11375302e-03 7.52523091e-04 3.27740829e-04\n",
      " 5.49455477e-03 2.86984198e-03 4.58897289e-03 1.06115209e-03\n",
      " 1.73401846e-03 8.60021106e-04 3.20296670e-04 8.43324339e-04\n",
      " 5.40664927e-03 3.60168281e-03 5.30056910e-03 1.31446522e-03\n",
      " 3.65255248e-03]\n",
      "[0.31830989 0.00075677 0.00174599 0.0017437  0.00150517 0.00480631\n",
      " 0.00286171 0.002961   0.00313844 0.00224333 0.00754913 0.00181061\n",
      " 0.00389562 0.00426896 0.00424561 0.00062206 0.00297337 0.01064514\n",
      " 0.00272573 0.00814108 0.00479765 0.00571747 0.00520719 0.00107883\n",
      " 0.00115778]\n",
      "[3.18309886e-01 9.66538609e-04 1.64959269e-03 4.00408850e-04\n",
      " 2.04162337e-03 5.49074192e-03 2.61642646e-03 7.32160932e-04\n",
      " 5.54552751e-04 3.33459072e-03 8.44248042e-03 8.03237529e-03\n",
      " 3.34983852e-03 1.15797597e-03 1.94030413e-04 4.03124336e-03\n",
      " 4.94438636e-03 1.15823359e-02 1.09541264e-02 2.60244575e-03\n",
      " 3.69497462e-03 1.70710500e-03 8.07086466e-04 5.48648439e-03\n",
      " 1.95544947e-03]\n",
      "[0.31830989 0.0013262  0.00108689 0.00283563 0.00263387 0.00273494\n",
      " 0.00185876 0.00465681 0.00103016 0.00390707 0.00433487 0.00520623\n",
      " 0.00269773 0.00637147 0.00142578 0.00427315 0.00513146 0.00617813\n",
      " 0.00717117 0.00607282 0.00362139 0.00794615 0.00182231 0.0052894\n",
      " 0.00210785]\n",
      "[3.18309886e-01 1.46066971e-03 3.14087405e-03 3.02305209e-04\n",
      " 2.94854278e-03 2.26607130e-04 5.26373459e-03 6.59969230e-04\n",
      " 9.41901781e-04 4.47289549e-03 2.55980146e-04 4.45404341e-03\n",
      " 7.41756404e-03 1.31088915e-03 1.35756934e-03 4.71298196e-03\n",
      " 6.00541839e-03 5.10792311e-04 6.67065077e-03 1.29696708e-02\n",
      " 9.59115609e-03 2.43667285e-03 2.02067569e-03 5.54641174e-03\n",
      " 3.86453105e-03]\n",
      "[0.31830989 0.00158327 0.00035295 0.00179403 0.0032225  0.00134488\n",
      " 0.00075346 0.00284711 0.00194403 0.00495309 0.00234861 0.00229258\n",
      " 0.00141885 0.00368761 0.00247047 0.00630457 0.00676687 0.00371586\n",
      " 0.00342303 0.00415537 0.002483   0.00423942 0.00275021 0.00838985\n",
      " 0.01030906]\n",
      "[0.31830989 0.15236721 0.07956133 0.07247346 0.0141681  0.0977323\n",
      " 0.03803566 0.05750303 0.02982921 0.04772248 0.0582639  0.04125034\n",
      " 0.04693434 0.05379535 0.05109802 0.06931511 0.06399741 0.05246077\n",
      " 0.02690191 0.0745735  0.04330178 0.05230696 0.06064125 0.0742386\n",
      " 0.02626226]\n",
      "[0.31830989 0.00135259 0.00105436 0.00089424 0.00275065 0.0020834\n",
      " 0.00169318 0.00163286 0.00374526 0.00422062 0.00322316 0.00179151\n",
      " 0.00222298 0.00260015 0.00502824 0.00564432 0.00574841 0.00449452\n",
      " 0.00279894 0.00491159 0.00257752 0.00391252 0.00609957 0.00727817\n",
      " 0.00411857]\n",
      "[0.31830989 0.00032472 0.00231544 0.00468187 0.00064685 0.00065103\n",
      " 0.00364938 0.0074922  0.00868155 0.00096507 0.000963   0.00480803\n",
      " 0.00467258 0.00979705 0.01225557 0.01100032 0.00128119 0.00124635\n",
      " 0.00646274 0.00384466 0.00527139 0.01132699 0.01589029 0.01250381\n",
      " 0.00351924]\n",
      "[3.18309886e-01 2.38871609e-03 1.05435096e-03 2.31857457e-03\n",
      " 4.84654859e-03 7.18766075e-04 1.96017713e-03 3.75181932e-03\n",
      " 3.08370086e-03 7.42227968e-03 9.16917370e-04 2.56124531e-03\n",
      " 3.18856721e-03 5.00085901e-03 4.03147169e-03 5.59389992e-05\n",
      " 1.01219560e-02 9.44366877e-04 2.88604296e-03 4.42097943e-03\n",
      " 4.89754882e-03 5.96525019e-03 4.62883554e-03 3.15353749e-04\n",
      " 8.09233068e-05]\n",
      "[0.31830989 0.24110251 0.03663991 0.0426597  0.11035854 0.06644303\n",
      " 0.05992111 0.01755598 0.05956994 0.07855947 0.045627   0.0748623\n",
      " 0.01325807 0.032951   0.04704323 0.03821267 0.03756639 0.0661814\n",
      " 0.01421198 0.06926496 0.03182006 0.06446505 0.02560489 0.04400769\n",
      " 0.00752402]\n",
      "[0.31830989 0.00989922 0.01036739 0.01706802 0.00823389 0.01368785\n",
      " 0.00378372 0.01203665 0.02012065 0.00335915 0.00190329 0.01339959\n",
      " 0.00429989 0.00478018 0.0065798  0.01952433 0.00757624 0.00778681\n",
      " 0.00585056 0.01255419 0.00710616 0.00326478 0.00259983 0.00503269\n",
      " 0.01687162]\n",
      "[3.18309886e-01 2.25984159e-02 2.14475581e-02 2.42753503e-02\n",
      " 7.53687914e-03 7.83146571e-03 1.47455381e-03 6.52505647e-04\n",
      " 8.04251082e-03 8.81629372e-03 1.82072192e-02 2.50119423e-03\n",
      " 3.02757041e-04 1.52225965e-03 1.59559323e-02 1.32104426e-02\n",
      " 6.01290473e-03 8.15606997e-03 1.32459797e-02 1.62250970e-02\n",
      " 4.09873979e-03 8.40199703e-03 5.44937167e-03 8.41375503e-03\n",
      " 4.78087834e-03]\n",
      "[0.31830989 0.00561319 0.00620339 0.00797324 0.00750472 0.01014962\n",
      " 0.00551038 0.00785154 0.00662111 0.0060331  0.00799915 0.01085761\n",
      " 0.00253687 0.00500319 0.00214803 0.01203044 0.00601677 0.00408457\n",
      " 0.00567995 0.00832804 0.00084513 0.00355772 0.00453536 0.00630643\n",
      " 0.00676662]\n",
      "[0.31830989 0.00044093 0.00384273 0.00323258 0.00099628 0.00293987\n",
      " 0.00615493 0.00527573 0.00349796 0.00177321 0.00450518 0.00650192\n",
      " 0.00805145 0.00714818 0.00401494 0.0040725  0.00286213 0.00613795\n",
      " 0.0087517  0.00400897 0.00929091 0.00877674 0.00365147 0.00489649\n",
      " 0.01105096]\n",
      "[0.31830989 0.30761164 0.01810563 0.02565121 0.20684244 0.20094617\n",
      " 0.15242598 0.18302785 0.15704326 0.00392859 0.018667   0.02220002\n",
      " 0.04881964 0.06312835 0.06593257 0.08977487 0.01717686 0.00662995\n",
      " 0.0265993  0.02829023 0.03783473 0.0363636  0.06294468 0.04224154\n",
      " 0.02924842]\n",
      "[0.31830989 0.18322984 0.1065609  0.06572004 0.07025576 0.04354749\n",
      " 0.03733568 0.06086809 0.07517306 0.00685945 0.01320659 0.05390159\n",
      " 0.05102224 0.03920918 0.03836168 0.0459318  0.04392553 0.01687182\n",
      " 0.01729112 0.03946512 0.03999645 0.02273172 0.03707072 0.03063976\n",
      " 0.00344904]\n",
      "[0.31830989 0.02644715 0.03372456 0.03244032 0.02102223 0.01509804\n",
      " 0.01460337 0.02069689 0.00627881 0.00415493 0.01334731 0.01612683\n",
      " 0.00503074 0.00532416 0.00859811 0.03414688 0.00836748 0.00711842\n",
      " 0.01829326 0.02030076 0.00534964 0.00871559 0.00144667 0.00771615\n",
      " 0.02550877]\n",
      "[0.31830989 0.01278491 0.0290259  0.02338665 0.01642968 0.03802859\n",
      " 0.01949913 0.01428133 0.00696815 0.01231656 0.01944126 0.03927334\n",
      " 0.00136294 0.00402293 0.00986069 0.02329918 0.0084417  0.00206031\n",
      " 0.00316129 0.01251465 0.00597269 0.01010189 0.01078614 0.00420836\n",
      " 0.03339555]\n",
      "[3.18309886e-01 1.87656840e-03 2.93609788e-04 1.35473094e-03\n",
      " 3.83060256e-03 1.69148362e-03 1.80053191e-04 2.17937075e-03\n",
      " 4.38676782e-03 5.92111391e-03 2.37276015e-03 7.94105272e-04\n",
      " 4.20581015e-04 2.88102830e-03 5.86100468e-03 2.51640595e-03\n",
      " 8.16821673e-03 2.88918634e-03 1.35406478e-03 5.16287778e-03\n",
      " 1.74004072e-03 3.40207959e-03 6.99519838e-03 3.34351552e-03\n",
      " 3.14477327e-03]\n",
      "[0.31830989 0.16056884 0.18663471 0.19424819 0.20555043 0.21453487\n",
      " 0.05587667 0.04320613 0.04052553 0.1457578  0.13884047 0.14010476\n",
      " 0.02668331 0.01878488 0.0297937  0.02867401 0.05009182 0.06161739\n",
      " 0.07146191 0.03288311 0.00109797 0.02436043 0.01622371 0.01343484\n",
      " 0.00842011]\n",
      "[0.31830989 0.0304814  0.03759612 0.03830776 0.03166228 0.03607248\n",
      " 0.02458754 0.02519515 0.02637315 0.00674119 0.01211669 0.01272032\n",
      " 0.00121458 0.00197161 0.00691411 0.01044134 0.01540715 0.01076967\n",
      " 0.01633452 0.0092248  0.01135381 0.01213152 0.01469704 0.00752488\n",
      " 0.00865149]\n",
      "[0.31830989 0.00157455 0.00035308 0.00179423 0.00320531 0.00134528\n",
      " 0.00075412 0.00284854 0.00194429 0.00492794 0.0023506  0.00229208\n",
      " 0.00142073 0.00369224 0.00247083 0.00630427 0.00673453 0.00372105\n",
      " 0.00342031 0.00415447 0.00248712 0.00425071 0.00275078 0.00838809\n",
      " 0.01030828]\n",
      "[3.18309886e-01 4.15917118e-03 4.37483959e-03 6.79785166e-03\n",
      " 6.84031574e-03 6.35104495e-03 4.81473686e-03 9.07916736e-03\n",
      " 3.01416956e-03 7.51561197e-03 7.52164802e-03 3.57481645e-03\n",
      " 3.01958768e-03 9.22010046e-03 2.10469818e-03 2.62659855e-03\n",
      " 6.96146147e-03 7.78620083e-03 6.23784574e-03 6.60442810e-03\n",
      " 5.89665066e-05 8.01521103e-03 8.04441200e-04 4.97946115e-03\n",
      " 1.50520719e-03]\n",
      "[0.31830989 0.16966236 0.13364555 0.16079142 0.17170339 0.16053348\n",
      " 0.01760074 0.00546847 0.02670372 0.05637969 0.05859188 0.03409404\n",
      " 0.0076632  0.01838945 0.00923706 0.03046753 0.00959115 0.02382158\n",
      " 0.00658841 0.03151599 0.06573534 0.0576634  0.06363488 0.05598223\n",
      " 0.07039649]\n",
      "[3.18309886e-01 4.29493996e-02 6.07763971e-02 1.67187368e-02\n",
      " 3.16590462e-02 3.83433265e-02 1.21440545e-02 7.10508529e-03\n",
      " 4.17617255e-03 7.95995544e-03 1.51375539e-02 4.21443308e-02\n",
      " 2.03834677e-02 9.44639263e-03 1.68851055e-02 3.32868945e-02\n",
      " 6.76156557e-03 1.14266031e-02 1.83830284e-02 1.60630562e-02\n",
      " 5.38024585e-03 1.07829687e-02 1.69514325e-04 1.66669387e-02\n",
      " 3.27063253e-02]\n",
      "[0.31830989 0.00144815 0.0030374  0.00202377 0.00300794 0.00402117\n",
      " 0.00494069 0.00324283 0.00059071 0.00478986 0.00621532 0.00746534\n",
      " 0.00663828 0.0042548  0.00115796 0.00401268 0.00689311 0.00856878\n",
      " 0.01022524 0.00110962 0.00800694 0.00495826 0.00214899 0.00500082\n",
      " 0.00641114]\n",
      "[0.31830989 0.00064183 0.00302634 0.00181062 0.00138285 0.00389465\n",
      " 0.00488042 0.00299392 0.00294247 0.00232677 0.00597808 0.00676393\n",
      " 0.00644923 0.00413807 0.00368766 0.00214493 0.00357119 0.00817304\n",
      " 0.00921995 0.00378252 0.00754607 0.00522256 0.00418568 0.00272087\n",
      " 0.00459951]\n",
      "[3.18309886e-01 2.42795097e-03 3.04794346e-04 1.35004948e-03\n",
      " 4.92807820e-03 1.68540056e-03 2.36541883e-04 2.14628901e-03\n",
      " 4.37586106e-03 7.55322080e-03 2.31738455e-03 8.10196446e-04\n",
      " 2.60264496e-04 2.78344948e-03 5.82893685e-03 2.50992723e-03\n",
      " 1.03152612e-02 2.74504766e-03 1.37205676e-03 5.16101714e-03\n",
      " 1.39131703e-03 3.19301533e-03 6.93142417e-03 3.31969365e-03\n",
      " 3.14878255e-03]\n",
      "[0.31830989 0.00041456 0.00369193 0.00068929 0.00086996 0.00141245\n",
      " 0.00573063 0.0011332  0.00282413 0.00140829 0.0020653  0.00159299\n",
      " 0.00709973 0.00155269 0.00367839 0.00158323 0.0020667  0.00266065\n",
      " 0.00208494 0.00189932 0.00747296 0.00193619 0.00417263 0.00201051\n",
      " 0.00427805]\n",
      "[0.31830989 0.00055048 0.00302477 0.00134078 0.00121006 0.00360245\n",
      " 0.00487361 0.00212368 0.00460278 0.00209362 0.00551477 0.00613683\n",
      " 0.00643447 0.00273726 0.00578651 0.00295037 0.00331011 0.00750833\n",
      " 0.00839737 0.00221808 0.00752646 0.00312131 0.00627203 0.00331815\n",
      " 0.00768997]\n",
      "[0.31830989 0.33692734 0.0729657  0.06119661 0.21750211 0.25571286\n",
      " 0.26600673 0.25861196 0.2952149  0.06912426 0.06537653 0.08765649\n",
      " 0.15204541 0.1309806  0.12937634 0.1300615  0.18414856 0.14310611\n",
      " 0.15278183 0.16753367 0.06982468 0.046359   0.03564209 0.05924747\n",
      " 0.06264136]\n",
      "[0.31830989 0.28715755 0.0159199  0.04010527 0.19634013 0.23892884\n",
      " 0.16991806 0.11008817 0.16088728 0.02648519 0.06986958 0.02015357\n",
      " 0.12799195 0.08064408 0.07998985 0.0330964  0.04015229 0.00458695\n",
      " 0.03910219 0.04233616 0.08419817 0.01871203 0.02898106 0.05724501\n",
      " 0.05136328]\n",
      "[0.31830989 0.00251991 0.00172019 0.00174751 0.00508098 0.00181593\n",
      " 0.00298439 0.00276629 0.00400695 0.00770362 0.00251029 0.00321755\n",
      " 0.00443993 0.00355085 0.00528557 0.0008076  0.01036464 0.00298212\n",
      " 0.00406873 0.00492711 0.00618855 0.00398214 0.0061951  0.00141645\n",
      " 0.00416164]\n",
      "[0.31830989 0.00119673 0.00243666 0.00191692 0.00252266 0.00386667\n",
      " 0.00403113 0.00327246 0.00049101 0.00409033 0.00609749 0.00505644\n",
      " 0.00558259 0.00473507 0.00068835 0.00130288 0.00597551 0.00862086\n",
      " 0.00700951 0.00583222 0.00707619 0.00632749 0.00090694 0.00224277\n",
      " 0.00305654]\n",
      "[3.18309886e-01 1.91805007e-03 2.93582792e-04 1.02904978e-03\n",
      " 3.91391495e-03 9.02865482e-04 1.79870595e-04 1.66152521e-03\n",
      " 4.87241153e-03 6.04738656e-03 1.48209695e-03 7.72007353e-04\n",
      " 4.21242542e-04 2.20262883e-03 6.53340793e-03 1.79286565e-03\n",
      " 8.34021997e-03 2.19933637e-03 6.35232712e-04 5.81445045e-03\n",
      " 1.74167622e-03 2.59649024e-03 7.82775687e-03 2.44973821e-03\n",
      " 9.12375849e-04]\n",
      "[0.31830989 0.00114457 0.00235434 0.00217874 0.00242225 0.00312801\n",
      " 0.0038375  0.00354428 0.00077092 0.00396078 0.00488358 0.0061046\n",
      " 0.00517282 0.00477209 0.00080389 0.00247323 0.00586825 0.00680884\n",
      " 0.00839159 0.00224896 0.00626936 0.00579832 0.00063544 0.00306705\n",
      " 0.0059912 ]\n",
      "[0.31830989 0.00092967 0.00094047 0.00206498 0.00189782 0.00122585\n",
      " 0.00138631 0.00320953 0.00448518 0.00293637 0.00195639 0.00413522\n",
      " 0.00156576 0.00400609 0.00644598 0.01149702 0.00406338 0.00282002\n",
      " 0.0058055  0.00453496 0.00138557 0.00437331 0.00854211 0.01327221\n",
      " 0.00530838]\n",
      "[0.31830989 0.18130983 0.1980597  0.19931672 0.28495395 0.26457443\n",
      " 0.03820005 0.00634638 0.04844464 0.25759965 0.2398249  0.25035166\n",
      " 0.12985269 0.11201395 0.12149956 0.07853409 0.13754008 0.13144287\n",
      " 0.14197273 0.15909968 0.14013922 0.17686623 0.13511622 0.17173656\n",
      " 0.12804772]\n",
      "[0.31830989 0.13795249 0.09210344 0.08645393 0.01228759 0.0177771\n",
      " 0.03929163 0.03690756 0.0356561  0.04011591 0.03374203 0.03754767\n",
      " 0.01510777 0.0241527  0.0354866  0.02023633 0.01621183 0.02443278\n",
      " 0.01555051 0.02398755 0.01606043 0.01114338 0.02881854 0.00294905\n",
      " 0.02405772]\n",
      "[3.18309886e-01 8.09593660e-04 2.63414019e-04 2.83398398e-03\n",
      " 1.57617465e-03 3.83858501e-03 2.97133014e-04 4.45441494e-03\n",
      " 2.20029719e-03 2.27727486e-03 5.81161202e-03 4.98026154e-03\n",
      " 1.07760905e-04 5.64690860e-03 2.90583432e-03 7.95881185e-03\n",
      " 2.93236800e-03 7.79857916e-03 6.75403234e-03 4.89825221e-03\n",
      " 4.09890935e-04 6.20647173e-03 3.39768928e-03 9.34098857e-03\n",
      " 8.94708780e-03]\n",
      "[3.18309886e-01 1.08187704e-03 1.67262497e-03 1.15678749e-03\n",
      " 2.31490284e-03 3.49664113e-03 2.73665902e-03 2.00817820e-03\n",
      " 1.04327923e-03 3.83775202e-03 5.45070886e-03 5.88317982e-03\n",
      " 3.70713572e-03 2.97317662e-03 1.50938128e-03 4.69161361e-04\n",
      " 5.75806463e-03 7.58509621e-03 8.10857359e-03 3.27113119e-03\n",
      " 4.51677603e-03 4.08050701e-03 2.13678444e-03 2.24526973e-04\n",
      " 3.60786811e-03]\n",
      "[0.31830989 0.00249882 0.00037182 0.00203546 0.00506546 0.00084836\n",
      " 0.00084863 0.00326526 0.0043608  0.00774797 0.00099058 0.00159669\n",
      " 0.00168858 0.00430189 0.00577508 0.00411952 0.01055234 0.00086069\n",
      " 0.00237992 0.00673106 0.00306866 0.00506538 0.00679861 0.00540662\n",
      " 0.00440614]\n",
      "[0.31830989 0.0003657  0.0017416  0.00243413 0.00074464 0.00479884\n",
      " 0.00284086 0.00416278 0.00163001 0.00118435 0.0075688  0.00397517\n",
      " 0.0038416  0.00604088 0.00230746 0.00070318 0.00175844 0.01072124\n",
      " 0.00555647 0.00616581 0.00469337 0.00810664 0.00301687 0.00090744\n",
      " 0.00358621]\n",
      "[0.31830989 0.07848396 0.08042815 0.07451654 0.03047216 0.03024939\n",
      " 0.0096756  0.00436315 0.0016368  0.03034062 0.03276507 0.02976126\n",
      " 0.00557909 0.02273022 0.01898461 0.02036056 0.00929476 0.01773384\n",
      " 0.00916113 0.00993553 0.02676348 0.0099542  0.0087043  0.01890779\n",
      " 0.01800188]\n",
      "[0.31830989 0.04970106 0.03643435 0.05207073 0.02120337 0.04216694\n",
      " 0.00542915 0.00136064 0.02333809 0.01045174 0.01697008 0.01684877\n",
      " 0.0122713  0.01040353 0.02778621 0.01737835 0.00974316 0.00239238\n",
      " 0.0172546  0.01567427 0.00239789 0.00571754 0.00529433 0.01968709\n",
      " 0.02114984]\n",
      "[0.31830989 0.05107911 0.09225528 0.09537278 0.01741808 0.04628562\n",
      " 0.01533297 0.00877962 0.01746431 0.01230491 0.03225085 0.02109357\n",
      " 0.0102536  0.00705667 0.02592164 0.02296933 0.01557656 0.00646489\n",
      " 0.04565043 0.0269887  0.01955553 0.01333492 0.01918899 0.02014403\n",
      " 0.00651264]\n",
      "[3.18309886e-01 1.24006202e-03 2.50591229e-04 1.24142070e-03\n",
      " 2.51928828e-03 2.97947483e-03 2.37614800e-04 1.79794303e-03\n",
      " 3.24231347e-03 3.86928304e-03 4.58335721e-03 5.22998190e-03\n",
      " 4.00477150e-05 1.91206465e-03 4.68180338e-03 8.53033576e-03\n",
      " 5.30566951e-03 6.31192818e-03 7.27838442e-03 4.40697995e-03\n",
      " 6.74892419e-04 1.34954962e-03 6.23465418e-03 9.61033009e-03\n",
      " 6.84927099e-03]\n",
      "[0.31830989 0.04655142 0.06687123 0.01921662 0.03254653 0.03543585\n",
      " 0.02671818 0.01321462 0.05721894 0.00622787 0.00883471 0.03603535\n",
      " 0.00874227 0.0104957  0.00926446 0.00835146 0.01816974 0.01130842\n",
      " 0.01027584 0.02970639 0.0089475  0.00459743 0.0061134  0.00199452\n",
      " 0.01011886]\n",
      "[3.18309886e-01 6.58234633e-03 1.25977866e-02 1.19532393e-02\n",
      " 6.48400703e-03 1.11858608e-02 1.02353791e-02 8.54416644e-03\n",
      " 1.31411764e-02 3.67774354e-03 6.94032802e-03 1.87160736e-02\n",
      " 3.54023202e-03 2.01605010e-03 3.23804614e-03 1.26872124e-02\n",
      " 7.04685326e-03 9.21459489e-03 1.06612160e-02 6.74262954e-03\n",
      " 1.49713770e-04 4.71741644e-03 4.62903303e-03 3.14137660e-03\n",
      " 3.54625312e-03]\n",
      "[0.31830989 0.01504207 0.05416977 0.16328175 0.02088328 0.02077117\n",
      " 0.08728488 0.08649423 0.07563827 0.00193808 0.02798609 0.00633741\n",
      " 0.10945213 0.03082836 0.08883869 0.00254933 0.10045689 0.11516127\n",
      " 0.11974724 0.11928488 0.13866172 0.01055779 0.08197867 0.03650248\n",
      " 0.01868373]\n",
      "[0.31830989 0.00169367 0.00109211 0.00283098 0.00339159 0.00272262\n",
      " 0.00188561 0.00461943 0.00101779 0.00509737 0.00428107 0.00520905\n",
      " 0.0027757  0.00625911 0.00139195 0.00424665 0.00680981 0.00604364\n",
      " 0.00715187 0.00606281 0.00379553 0.00770862 0.00172489 0.00518604\n",
      " 0.00204844]\n",
      "[0.31830989 0.01448113 0.0115861  0.0216776  0.00770351 0.01722804\n",
      " 0.00293811 0.00842449 0.02308172 0.00818916 0.00633709 0.02485196\n",
      " 0.01285952 0.0020923  0.00056615 0.01622631 0.01050134 0.01523636\n",
      " 0.00158431 0.01924741 0.00877266 0.00582687 0.00202179 0.01132038\n",
      " 0.01440927]\n",
      "[0.31830989 0.17389439 0.11487517 0.1537199  0.15509116 0.11697913\n",
      " 0.02213369 0.03495475 0.08397712 0.06115537 0.06139195 0.00923149\n",
      " 0.02414836 0.00545802 0.05681137 0.07001208 0.0031439  0.01385991\n",
      " 0.05327108 0.00409861 0.06675873 0.03205098 0.03323018 0.02243623\n",
      " 0.0201265 ]\n",
      "[0.31830989 0.20744235 0.17204353 0.17028442 0.30094429 0.29372142\n",
      " 0.03221993 0.04868587 0.07526622 0.23078719 0.24853451 0.26101087\n",
      " 0.16197441 0.146573   0.17981156 0.16879277 0.10220047 0.12712219\n",
      " 0.13419733 0.13422792 0.21543769 0.14814244 0.22149074 0.21515831\n",
      " 0.22537618]\n",
      "[0.31830989 0.20690253 0.09634044 0.05420125 0.11988901 0.0843312\n",
      " 0.00736589 0.02942213 0.03158833 0.06877294 0.05645099 0.03449445\n",
      " 0.02756764 0.09390728 0.03835259 0.03070847 0.07922978 0.02079606\n",
      " 0.08080818 0.10082422 0.03586426 0.05270706 0.03747672 0.0805092\n",
      " 0.04018968]\n",
      "[0.31830989 0.29370328 0.06140321 0.08610693 0.33743975 0.32150152\n",
      " 0.23418695 0.25659446 0.24627843 0.11636162 0.08921072 0.12177422\n",
      " 0.32779104 0.34221048 0.29934823 0.31650211 0.18563432 0.21382992\n",
      " 0.17831827 0.19982873 0.16286005 0.13481927 0.12953357 0.1271829\n",
      " 0.14191187]\n",
      "[3.18309886e-01 1.18651150e-04 1.74480602e-03 8.48275156e-04\n",
      " 3.01627517e-04 4.89470884e-03 2.85527160e-03 1.44853154e-03\n",
      " 3.29846926e-03 5.99275282e-04 7.73539145e-03 3.71051402e-04\n",
      " 3.87563980e-03 2.14362099e-03 4.40528704e-03 2.41530948e-03\n",
      " 1.02281244e-03 1.09951487e-02 7.47195186e-04 1.06270635e-02\n",
      " 4.75037970e-03 3.03204775e-03 5.28577312e-03 3.24841221e-03\n",
      " 1.68045683e-03]\n",
      "[0.31830989 0.35432403 0.12282502 0.1400531  0.19718537 0.33788879\n",
      " 0.31771355 0.26388197 0.40364774 0.14166336 0.04623766 0.17736986\n",
      " 0.12662344 0.13535732 0.29476538 0.19565114 0.24139384 0.23382753\n",
      " 0.37954311 0.2911606  0.12949549 0.08233787 0.11322163 0.1766563\n",
      " 0.12687878]\n",
      "[0.31830989 0.00252557 0.00037118 0.00203327 0.00512014 0.00085546\n",
      " 0.0008453  0.00325772 0.00436559 0.00783248 0.00104637 0.00163462\n",
      " 0.00167853 0.00427973 0.00580738 0.0041309  0.01066883 0.00100906\n",
      " 0.00252825 0.00676255 0.00304524 0.00500954 0.00688431 0.00550297\n",
      " 0.0044418 ]\n",
      "[0.31830989 0.00104633 0.00234365 0.00196367 0.00221674 0.00491547\n",
      " 0.00378216 0.00318912 0.00056015 0.00363272 0.00755964 0.00832331\n",
      " 0.00501011 0.00428422 0.00053738 0.00291794 0.00540059 0.01036628\n",
      " 0.01137556 0.00284431 0.00589955 0.00519396 0.00082826 0.00344577\n",
      " 0.00815167]\n",
      "[0.31830989 0.00152244 0.00043655 0.00057261 0.00308497 0.0036649\n",
      " 0.00090066 0.00070192 0.00244357 0.00471946 0.00563673 0.00651068\n",
      " 0.00161864 0.0004811  0.00354809 0.0069509  0.00644048 0.00776189\n",
      " 0.00902039 0.00586201 0.00267809 0.00082426 0.00476126 0.00758601\n",
      " 0.00785243]\n",
      "[3.18309886e-01 1.36281352e-03 3.04178566e-03 1.18353303e-04\n",
      " 2.86715048e-03 4.68676082e-03 4.96177310e-03 1.61025787e-04\n",
      " 2.40489813e-03 4.64505014e-03 7.23547390e-03 6.26310451e-03\n",
      " 6.69388276e-03 2.92298387e-04 3.55205955e-03 8.39571631e-04\n",
      " 6.80352946e-03 9.96723032e-03 8.60668314e-03 3.24781241e-03\n",
      " 8.11636320e-03 6.55170051e-04 4.98130196e-03 9.55627051e-04\n",
      " 4.27728127e-03]\n",
      "[0.31830989 0.0018568  0.00103241 0.00193173 0.00375728 0.00232144\n",
      " 0.00184942 0.00308267 0.00488906 0.00572458 0.00331529 0.00125457\n",
      " 0.0028746  0.00400916 0.00650957 0.00302099 0.00773875 0.00412802\n",
      " 0.00103884 0.00912105 0.00421602 0.00458884 0.00774448 0.00421034\n",
      " 0.00141484]\n",
      "[3.18309886e-01 1.61672339e-03 3.42987239e-03 3.94814860e-04\n",
      " 3.07348296e-03 5.28706114e-03 5.11325365e-03 8.89087810e-05\n",
      " 1.76823201e-03 4.58726063e-03 7.37747524e-03 5.63386622e-03\n",
      " 6.45968221e-03 4.45632363e-04 3.52855176e-03 1.63382822e-03\n",
      " 6.55033783e-03 9.65428539e-03 8.74891915e-03 2.77640945e-03\n",
      " 7.75206606e-03 8.74094617e-04 5.31930277e-03 6.93949453e-04\n",
      " 3.50545284e-03]\n",
      "[0.31830989 0.00245317 0.00099335 0.00167265 0.00498339 0.00077905\n",
      " 0.00138521 0.00272221 0.00565571 0.0076487  0.00115812 0.00071535\n",
      " 0.00134986 0.00366288 0.00763183 0.00212884 0.01046705 0.0015734\n",
      " 0.00121828 0.0039917  0.000682   0.00443294 0.00924994 0.00292544\n",
      " 0.00216323]\n",
      "[0.31830989 0.31369998 0.03829271 0.24181072 0.28201441 0.32006091\n",
      " 0.09387405 0.28277314 0.14214811 0.11341511 0.20858695 0.15084984\n",
      " 0.30000896 0.20276751 0.32521727 0.11333891 0.11580874 0.1044017\n",
      " 0.17113404 0.07309764 0.1437101  0.13505826 0.16498495 0.17145797\n",
      " 0.03534262]\n",
      "[0.31830989 0.18255555 0.12604293 0.15045459 0.18437189 0.18643613\n",
      " 0.00545773 0.01920737 0.01904216 0.11018292 0.06105907 0.05728708\n",
      " 0.01154293 0.06926448 0.0447296  0.03116475 0.00789136 0.04194097\n",
      " 0.03468365 0.00840474 0.06875887 0.00736157 0.0318724  0.01733267\n",
      " 0.03518815]\n",
      "[0.31830989 0.23367708 0.13326354 0.11244436 0.25437133 0.24473093\n",
      " 0.03488945 0.09600503 0.07015888 0.12242515 0.10708892 0.13170192\n",
      " 0.06967253 0.11121644 0.09967032 0.11292223 0.03373116 0.03198987\n",
      " 0.05733736 0.04809937 0.07273686 0.08086088 0.05469514 0.0787847\n",
      " 0.06352752]\n",
      "[0.31830989 0.12740964 0.0812369  0.09679609 0.02342914 0.0156487\n",
      " 0.04471192 0.02956713 0.04466948 0.04220822 0.02245632 0.03045166\n",
      " 0.03060193 0.01405564 0.01024007 0.0244414  0.0326874  0.01032691\n",
      " 0.02772426 0.04403626 0.02545426 0.02131239 0.01716973 0.00536921\n",
      " 0.01296851]\n",
      "[0.31830989 0.19427966 0.1370918  0.08799545 0.15975116 0.15926609\n",
      " 0.02844144 0.02986402 0.01815409 0.04640633 0.04875949 0.08305722\n",
      " 0.05175129 0.02115221 0.05386139 0.03407297 0.03264347 0.02128891\n",
      " 0.02594193 0.08519957 0.00547279 0.06735076 0.02408419 0.02486655\n",
      " 0.0350866 ]\n",
      "[0.31830989 0.1278866  0.08191291 0.10081411 0.03679541 0.00315949\n",
      " 0.02643623 0.03053816 0.03371163 0.02959872 0.02747413 0.04086155\n",
      " 0.04576463 0.01719725 0.02944123 0.02146081 0.02144997 0.01141825\n",
      " 0.02700047 0.01651831 0.00984566 0.01213498 0.02275379 0.03136483\n",
      " 0.02691775]\n",
      "[3.18309886e-01 2.23516485e-03 1.66611392e-03 2.17811406e-03\n",
      " 4.54327044e-03 5.74940138e-05 2.45765000e-03 3.55027541e-03\n",
      " 3.27629762e-03 6.97883619e-03 3.34727058e-04 1.58034836e-03\n",
      " 2.74665533e-03 4.80086715e-03 4.25392648e-03 1.53440186e-03\n",
      " 9.55746594e-03 8.87327206e-04 1.85195115e-03 2.74460633e-03\n",
      " 2.29406574e-03 5.87930864e-03 4.82407150e-03 2.12197284e-03\n",
      " 4.49176323e-04]\n",
      "[0.31830989 0.00103633 0.00109621 0.00146353 0.0020887  0.00183181\n",
      " 0.00190485 0.00233415 0.00153533 0.0031671  0.00284854 0.00809334\n",
      " 0.0028245  0.00305867 0.00218421 0.00732889 0.00426539 0.00398296\n",
      " 0.01119532 0.00336352 0.00388663 0.00364175 0.00288658 0.00886891\n",
      " 0.00150166]\n",
      "[0.31830989 0.00140753 0.00094914 0.00296056 0.00278051 0.00291269\n",
      " 0.00142575 0.00463658 0.00139201 0.00409521 0.00440924 0.00470927\n",
      " 0.00166021 0.00583297 0.00182477 0.00651146 0.00534925 0.00590677\n",
      " 0.00634083 0.00470795 0.00154409 0.00630015 0.00210149 0.00739339\n",
      " 0.00977756]\n",
      "[0.31830989 0.00035027 0.00164498 0.00344566 0.00080033 0.00452581\n",
      " 0.00259837 0.00548509 0.00215035 0.0014568  0.00686173 0.0055294\n",
      " 0.00331999 0.00710985 0.00268504 0.00938039 0.00241931 0.00922924\n",
      " 0.00754493 0.00194458 0.00368861 0.00810442 0.00285162 0.01121231\n",
      " 0.0130108 ]\n",
      "[0.31830989 0.0010795  0.00096089 0.00287585 0.00223439 0.00328331\n",
      " 0.0014835  0.00453894 0.00195021 0.00354288 0.00502413 0.00592292\n",
      " 0.00181752 0.0057927  0.00268091 0.00537761 0.00508021 0.0068373\n",
      " 0.00809211 0.00521662 0.00186888 0.00642424 0.00338372 0.00633107\n",
      " 0.00620245]\n",
      "[3.18309886e-01 2.52690489e-03 1.02218736e-03 2.59592506e-03\n",
      " 5.11678513e-03 2.10453736e-03 1.53051228e-03 4.17918191e-03\n",
      " 2.91284935e-03 7.81217042e-03 3.51693362e-03 2.54958293e-04\n",
      " 1.76091594e-03 5.54269254e-03 3.73164792e-03 4.02745173e-03\n",
      " 1.06122318e-02 5.32688682e-03 4.05983491e-04 3.04912498e-03\n",
      " 1.57255012e-03 6.60347593e-03 4.14810156e-03 5.43804846e-03\n",
      " 5.75926532e-03]\n",
      "[0.31830989 0.00086188 0.00113121 0.00443617 0.00174913 0.00155344\n",
      " 0.00208096 0.00712865 0.00423754 0.002686   0.00241437 0.00519159\n",
      " 0.00332191 0.00938618 0.00593961 0.00717283 0.00369239 0.00335995\n",
      " 0.00704961 0.00732378 0.0049628  0.01096973 0.00761175 0.00827722\n",
      " 0.00051935]\n",
      "[0.31830989 0.00072073 0.00578793 0.00136876 0.0015171  0.00167075\n",
      " 0.00940743 0.00222978 0.00473523 0.00246352 0.00255511 0.00495384\n",
      " 0.01261208 0.00301005 0.00558001 0.00302461 0.00362834 0.00347516\n",
      " 0.0067329  0.00232407 0.01513282 0.00367091 0.00530791 0.00374588\n",
      " 0.01332141]\n",
      "[0.31830989 0.00149299 0.00111753 0.00072763 0.00302735 0.00214524\n",
      " 0.00201122 0.00106392 0.00318777 0.00463528 0.00336635 0.00581937\n",
      " 0.00312116 0.00131823 0.00468301 0.0074786  0.00632981 0.00475379\n",
      " 0.00819859 0.00936427 0.00451818 0.00194348 0.00637347 0.00821501\n",
      " 0.00896204]\n",
      "[0.31830989 0.00129609 0.00163776 0.00093597 0.00271755 0.00494883\n",
      " 0.00255475 0.0016     0.0018766  0.00438067 0.00759975 0.0065895\n",
      " 0.00316698 0.00231978 0.00224644 0.00216503 0.0063805  0.01041295\n",
      " 0.00896758 0.00267148 0.00327531 0.00310821 0.00273178 0.00285618\n",
      " 0.00565446]\n",
      "[0.31830989 0.00133871 0.00233433 0.00086409 0.00279155 0.00469311\n",
      " 0.00373128 0.00143121 0.00163882 0.00446738 0.00722516 0.00776883\n",
      " 0.00485006 0.00198583 0.00162465 0.00328957 0.00645884 0.00992514\n",
      " 0.01055124 0.0008132  0.00550825 0.00252506 0.00102657 0.00436154\n",
      " 0.00367982]\n",
      "[3.18309886e-01 1.54709295e-03 9.70716585e-04 1.58342407e-03\n",
      " 3.17241911e-03 8.79524459e-04 1.27076773e-03 2.58206837e-03\n",
      " 4.13211523e-03 4.93732899e-03 1.21533693e-03 8.19104156e-04\n",
      " 1.02451609e-03 3.49296156e-03 5.46680182e-03 2.51663670e-03\n",
      " 6.86751379e-03 1.49128250e-03 1.06759130e-03 4.56701446e-03\n",
      " 2.76526616e-05 4.27795193e-03 6.40563179e-03 3.33155099e-03\n",
      " 2.19405020e-03]\n",
      "[0.31830989 0.00189048 0.00176678 0.00266949 0.00389136 0.00360619\n",
      " 0.00297035 0.00438632 0.00214275 0.00610326 0.00562369 0.00467591\n",
      " 0.00421837 0.00600503 0.0029448  0.00346413 0.00860224 0.00784207\n",
      " 0.00645708 0.00769341 0.00553733 0.00748713 0.00369107 0.00504285\n",
      " 0.00428765]\n",
      "[0.31830989 0.14333875 0.03871901 0.0907302  0.03616013 0.00839845\n",
      " 0.02444799 0.04357004 0.03729796 0.00854973 0.03550708 0.02864284\n",
      " 0.03571801 0.01716116 0.00626223 0.00953244 0.00663273 0.01438135\n",
      " 0.03574886 0.02187789 0.04391727 0.02404769 0.00948604 0.01970468\n",
      " 0.01740111]\n",
      "[0.31830989 0.00145209 0.00042368 0.00058407 0.00294588 0.00182827\n",
      " 0.00083574 0.00073297 0.00241958 0.00451243 0.00288916 0.00469319\n",
      " 0.00143482 0.00052124 0.00358568 0.00691249 0.00616043 0.00411374\n",
      " 0.00672274 0.00957317 0.00227896 0.00062268 0.00494294 0.00764069\n",
      " 0.00768729]\n",
      "[0.31830989 0.00140717 0.00104647 0.00088647 0.00284863 0.00298469\n",
      " 0.00165331 0.00148482 0.00508283 0.00434255 0.00460387 0.00228908\n",
      " 0.0021098  0.00213482 0.00705335 0.00293038 0.00587208 0.00638136\n",
      " 0.00349218 0.00656271 0.00233169 0.00294019 0.0089808  0.00379612\n",
      " 0.00534738]\n",
      "[0.31830989 0.0009018  0.00370538 0.00303724 0.00188422 0.00401791\n",
      " 0.00595923 0.00499963 0.00198863 0.00303359 0.00610898 0.0057056\n",
      " 0.0078405  0.00686154 0.00190784 0.00139042 0.00443787 0.00825634\n",
      " 0.00777731 0.00388864 0.00911256 0.00857067 0.0010066  0.00154276\n",
      " 0.00733511]\n",
      "[0.31830989 0.00089754 0.00043293 0.00323382 0.00192853 0.00515114\n",
      " 0.00089167 0.0051996  0.0027138  0.00322004 0.00784728 0.00874889\n",
      " 0.00163105 0.00685816 0.00330112 0.00508297 0.00488155 0.0106316\n",
      " 0.01192825 0.00372591 0.00280804 0.00804763 0.0033427  0.00587048\n",
      " 0.01039358]\n",
      "[0.31830989 0.00071189 0.00109384 0.0011005  0.00146413 0.000867\n",
      " 0.00189138 0.00166317 0.00233978 0.00228294 0.0013102  0.00267403\n",
      " 0.00278037 0.00197901 0.00362919 0.00573092 0.00316422 0.00182653\n",
      " 0.00425645 0.01020572 0.00377544 0.00205155 0.00527414 0.00644727\n",
      " 0.0050934 ]\n",
      "[0.31830989 0.22641402 0.14577601 0.12642724 0.20597058 0.15743868\n",
      " 0.01808845 0.03868878 0.04285859 0.11090556 0.07478885 0.05592713\n",
      " 0.0860549  0.04517585 0.03870026 0.05343221 0.02119838 0.07111273\n",
      " 0.07912648 0.09826148 0.04339481 0.01241492 0.04313874 0.04967576\n",
      " 0.03592761]\n",
      "[0.31830989 0.18088137 0.20756289 0.24714869 0.2568995  0.28477184\n",
      " 0.11502059 0.06462089 0.13196922 0.29744356 0.26654469 0.30242293\n",
      " 0.07063186 0.0498053  0.07553051 0.10318661 0.24326621 0.23164806\n",
      " 0.21357588 0.2313787  0.19844447 0.15511291 0.1535265  0.17173665\n",
      " 0.16311978]\n",
      "[0.31830989 0.2287625  0.14639354 0.17504674 0.29101405 0.29063248\n",
      " 0.06044414 0.05521236 0.07946974 0.21759001 0.19943236 0.20828871\n",
      " 0.18245491 0.1879702  0.13285316 0.16063293 0.06619355 0.05131142\n",
      " 0.09501452 0.04844897 0.15284578 0.18245903 0.1355489  0.15702709\n",
      " 0.12506128]\n",
      "[0.31830989 0.00245144 0.00037292 0.00203645 0.0049713  0.00084862\n",
      " 0.00085424 0.00327041 0.00436081 0.00760839 0.00099167 0.00159293\n",
      " 0.00170455 0.00431665 0.00577339 0.00411792 0.01036977 0.00086262\n",
      " 0.00236335 0.00672638 0.00310358 0.00509781 0.00679291 0.00539292\n",
      " 0.00439832]\n",
      "[0.31830989 0.22443273 0.2017916  0.18390315 0.33576378 0.30543595\n",
      " 0.03332349 0.08756762 0.11656741 0.34341947 0.2288713  0.28880215\n",
      " 0.20854275 0.25443294 0.19540521 0.22594184 0.1835815  0.11418936\n",
      " 0.11299401 0.16935867 0.32941217 0.3247921  0.27399636 0.24929196\n",
      " 0.28988121]\n",
      "[0.31830989 0.24364024 0.17609279 0.1449082  0.36072685 0.30910743\n",
      " 0.07559528 0.15035604 0.11836687 0.29104912 0.22925212 0.23756812\n",
      " 0.30576007 0.31021421 0.27295005 0.26152566 0.05511416 0.08280288\n",
      " 0.04915561 0.08181045 0.38235443 0.28034358 0.29663442 0.26819634\n",
      " 0.27860638]\n",
      "[0.31830989 0.22980545 0.15228256 0.15235045 0.33823722 0.33820301\n",
      " 0.08569144 0.09609948 0.09408343 0.27455888 0.26324113 0.27158914\n",
      " 0.29173588 0.28213842 0.28426229 0.28699767 0.06492191 0.06769827\n",
      " 0.05500082 0.06985733 0.31831865 0.33852112 0.32320316 0.32054054\n",
      " 0.3305241 ]\n",
      "[0.31830989 0.34302803 0.2730833  0.10896884 0.07185383 0.16234099\n",
      " 0.36002931 0.11901916 0.30829565 0.33801475 0.13738182 0.23347962\n",
      " 0.26578035 0.11693821 0.08016317 0.13754356 0.11599713 0.15079523\n",
      " 0.15144087 0.16337552 0.30657025 0.14597786 0.23591705 0.12821111\n",
      " 0.15990884]\n",
      "[0.31830989 0.35936871 0.19162071 0.16517461 0.10907792 0.149526\n",
      " 0.47106013 0.03693404 0.27221263 0.3693791  0.17690362 0.2765861\n",
      " 0.17828808 0.12152921 0.10155078 0.12728455 0.12836677 0.21027947\n",
      " 0.0931235  0.146826   0.46117148 0.02935386 0.37978352 0.04224117\n",
      " 0.22518091]\n",
      "[0.31830989 0.36384834 0.40703931 0.08029966 0.15863045 0.02783732\n",
      " 0.17181582 0.15645558 0.20451679 0.27945748 0.29203826 0.31012113\n",
      " 0.40057877 0.00587245 0.39677405 0.11049154 0.18789547 0.15347448\n",
      " 0.22709625 0.1284437  0.03824534 0.22375281 0.06798709 0.18226474\n",
      " 0.05941573]\n",
      "[0.31830989 0.49816439 0.46089695 0.46273523 0.22622515 0.22952721\n",
      " 0.10578595 0.10862456 0.10251978 0.38697625 0.38361098 0.38306527\n",
      " 0.49819935 0.49660629 0.49160742 0.49797657 0.39479952 0.39051992\n",
      " 0.38867565 0.40027056 0.12585316 0.13540022 0.12043529 0.13243251\n",
      " 0.13900645]\n",
      "[0.31830989 0.59439081 0.79037625 0.79328388 0.8840474  0.89144834\n",
      " 0.86224626 0.86733952 0.88003458 0.73631414 0.74812431 0.76583557\n",
      " 0.52165708 0.52951264 0.54858652 0.56980265 0.25831109 0.27664199\n",
      " 0.30176153 0.32343711 0.02527861 0.03623904 0.05071333 0.05830288\n",
      " 0.06472497]\n",
      "[0.31830989 0.51091743 0.49497487 0.50625379 0.28585448 0.31016793\n",
      " 0.04697096 0.03098194 0.00312752 0.35667922 0.32143221 0.29721221\n",
      " 0.54334131 0.51900847 0.47714504 0.47410477 0.51611897 0.47122257\n",
      " 0.44004656 0.46551913 0.31729976 0.2880831  0.2366025  0.23304224\n",
      " 0.2819872 ]\n",
      "[0.31830989 0.41324512 0.22525971 0.23277914 0.09712143 0.12618302\n",
      " 0.30960654 0.32554055 0.33096539 0.2918676  0.31742105 0.30980388\n",
      " 0.06613059 0.09176937 0.10514266 0.09524059 0.16176466 0.1325013\n",
      " 0.14120812 0.13640828 0.24787268 0.24391753 0.22156189 0.24771454\n",
      " 0.22364186]\n",
      "[0.31830989 0.00108938 0.0016487  0.00134964 0.00225505 0.00081279\n",
      " 0.00236885 0.00221957 0.00415306 0.00356061 0.00108241 0.00194863\n",
      " 0.00249137 0.00304068 0.00551187 0.00258794 0.00504191 0.0012016\n",
      " 0.00270722 0.00278007 0.00173026 0.00378641 0.00648111 0.003353\n",
      " 0.00284526]\n",
      "[0.31830989 0.26713901 0.09252241 0.10180221 0.23571501 0.19429097\n",
      " 0.07784747 0.09414196 0.07550846 0.09175638 0.07814366 0.07086518\n",
      " 0.07831714 0.06889137 0.04715449 0.05010677 0.01231483 0.06567683\n",
      " 0.07270664 0.10104399 0.00061045 0.02219107 0.06324018 0.06961121\n",
      " 0.09299881]\n",
      "[0.31830989 0.00109526 0.00303447 0.0012832  0.00226191 0.00442389\n",
      " 0.00492531 0.00205512 0.00170155 0.0035853  0.00682152 0.00695185\n",
      " 0.00659239 0.00270575 0.00203418 0.00202164 0.00516206 0.00938213\n",
      " 0.00955368 0.00460443 0.00790088 0.00321029 0.00208635 0.00261157\n",
      " 0.00669741]\n",
      "[0.31830989 0.00125653 0.00303268 0.00128709 0.0026476  0.00442775\n",
      " 0.00491493 0.00209127 0.00169953 0.00429834 0.00683497 0.00693982\n",
      " 0.00655744 0.00281576 0.00198082 0.00202516 0.00631055 0.00941442\n",
      " 0.00951893 0.00459584 0.00780969 0.00343745 0.0019806  0.00257531\n",
      " 0.00669455]\n",
      "[0.31830989 0.29825469 0.08245605 0.12392151 0.15562474 0.25048673\n",
      " 0.28552559 0.10765891 0.31218296 0.06118146 0.07438133 0.07265928\n",
      " 0.17781535 0.06516593 0.18406819 0.02997063 0.15844671 0.19274112\n",
      " 0.14213759 0.15452588 0.04811186 0.04989274 0.05732075 0.10919014\n",
      " 0.02788942]\n",
      "[0.31830989 0.36623758 0.42563093 0.11284838 0.15010562 0.04605829\n",
      " 0.1317758  0.0462206  0.21234251 0.24307387 0.28922274 0.26108219\n",
      " 0.38444575 0.10783204 0.38267469 0.04873909 0.17981119 0.15154933\n",
      " 0.18321806 0.18345839 0.00684978 0.05795071 0.0553262  0.07841774\n",
      " 0.0566716 ]\n",
      "[0.31830989 0.26764016 0.08356435 0.08661558 0.31102441 0.31583235\n",
      " 0.2125808  0.14507197 0.1919526  0.10325232 0.19200371 0.11219762\n",
      " 0.24436567 0.21613312 0.31402761 0.23774302 0.08206934 0.03168479\n",
      " 0.13079553 0.07672645 0.12936774 0.13530209 0.18549372 0.11306348\n",
      " 0.14415538]\n",
      "[0.31830989 0.27885453 0.04861268 0.09101027 0.28877277 0.31784289\n",
      " 0.22225809 0.15756908 0.21198408 0.08065702 0.15344866 0.09533867\n",
      " 0.23813924 0.21536532 0.27416355 0.22203239 0.0950813  0.07839232\n",
      " 0.11771513 0.08746317 0.13182862 0.13255976 0.09653137 0.09951068\n",
      " 0.10980977]\n",
      "[0.31830989 0.0939177  0.28737924 0.1659291  0.14174939 0.0937341\n",
      " 0.15058639 0.18696825 0.15530319 0.12698614 0.15044361 0.09340645\n",
      " 0.0536716  0.14443467 0.06025083 0.19805537 0.09304824 0.14857235\n",
      " 0.07934454 0.08310896 0.05550088 0.09669139 0.03783661 0.16496545\n",
      " 0.04659621]\n",
      "[0.31830989 0.00154016 0.00108978 0.00283306 0.00307334 0.00272857\n",
      " 0.00187354 0.00463652 0.00102281 0.00459292 0.00430674 0.00520823\n",
      " 0.00274042 0.00631026 0.00140798 0.00425647 0.00608939 0.00610793\n",
      " 0.00716012 0.00606455 0.00371609 0.00781555 0.00177285 0.00522285\n",
      " 0.00207489]\n",
      "[3.18309886e-01 2.27759888e-03 3.00691622e-04 1.02708004e-03\n",
      " 4.63086582e-03 9.00972924e-04 2.15797153e-04 1.64957966e-03\n",
      " 4.87449458e-03 7.11695152e-03 1.48863046e-03 7.59044454e-04\n",
      " 3.19174520e-04 2.16742548e-03 6.53888182e-03 1.79032650e-03\n",
      " 9.75386950e-03 2.22621844e-03 5.91115268e-04 5.82107077e-03\n",
      " 1.51929576e-03 2.51948259e-03 7.84229012e-03 2.46846524e-03\n",
      " 9.37573888e-04]\n",
      "[0.31830989 0.32390671 0.03267575 0.05875845 0.2014773  0.18886749\n",
      " 0.21392141 0.16694443 0.2111931  0.03504419 0.01382034 0.06625471\n",
      " 0.07774964 0.08500282 0.08839048 0.05337793 0.05340255 0.05170975\n",
      " 0.04662021 0.04839058 0.05321708 0.0065709  0.01465092 0.02331564\n",
      " 0.04704423]\n",
      "[0.31830989 0.33960786 0.04099808 0.08464002 0.25313105 0.23656177\n",
      " 0.27896989 0.29358225 0.2908892  0.06110932 0.08863568 0.09647838\n",
      " 0.16407352 0.16206348 0.13825978 0.13495231 0.19050101 0.19665024\n",
      " 0.18636844 0.19813986 0.03352954 0.07262638 0.05487338 0.08526904\n",
      " 0.08859259]\n",
      "[0.31830989 0.18345142 0.21934778 0.18607426 0.26546212 0.23145898\n",
      " 0.06271923 0.00885128 0.06389299 0.21787921 0.19882603 0.19760134\n",
      " 0.05772054 0.08434289 0.10279109 0.04558244 0.10234398 0.12087491\n",
      " 0.09617187 0.12568851 0.05428447 0.07800136 0.09855288 0.09192022\n",
      " 0.07927622]\n",
      "[0.31830989 0.18671638 0.04639216 0.10252169 0.13419677 0.04236977\n",
      " 0.0121283  0.03125377 0.09854184 0.04056721 0.04861177 0.01352849\n",
      " 0.0607899  0.01434722 0.05830235 0.04198345 0.01904551 0.04489894\n",
      " 0.00972548 0.01400139 0.02364448 0.04893678 0.02028911 0.00777333\n",
      " 0.01821759]\n",
      "[0.31830989 0.09158907 0.06132401 0.03943782 0.02719951 0.0781964\n",
      " 0.05578483 0.06858937 0.05170848 0.02391368 0.041092   0.03392494\n",
      " 0.01158488 0.03772682 0.03541099 0.03221508 0.03150647 0.05832341\n",
      " 0.03662829 0.04464756 0.00132412 0.0172902  0.0278545  0.02924857\n",
      " 0.01066533]\n",
      "[0.31830989 0.47158462 0.36526394 0.38998788 0.07603156 0.1311445\n",
      " 0.2702957  0.26012472 0.2110238  0.46871126 0.4570532  0.40516647\n",
      " 0.42805132 0.42726028 0.4282086  0.39040333 0.16807856 0.17356725\n",
      " 0.19770581 0.18521972 0.16957524 0.17514022 0.16379761 0.12921757\n",
      " 0.15363916]\n",
      "[0.31830989 0.41324512 0.22525971 0.23277914 0.09712143 0.12618302\n",
      " 0.30960654 0.32554055 0.33096539 0.2918676  0.31742105 0.30980388\n",
      " 0.06613059 0.09176937 0.10514266 0.09524059 0.16176466 0.1325013\n",
      " 0.14120812 0.13640828 0.24787268 0.24391753 0.22156189 0.24771454\n",
      " 0.22364186]\n",
      "[0.31830989 0.19507533 0.16106843 0.16712187 0.15804893 0.16230573\n",
      " 0.06388197 0.07351858 0.01671728 0.15071862 0.09533918 0.05459151\n",
      " 0.02013342 0.05427423 0.05480319 0.12367325 0.10047755 0.04860477\n",
      " 0.06585967 0.07043462 0.0056268  0.03007592 0.07925323 0.07160037\n",
      " 0.03347859]\n",
      "[0.31830989 0.02528267 0.03161467 0.03243917 0.01543851 0.03524298\n",
      " 0.01317662 0.00887402 0.02333804 0.00672754 0.00396119 0.02966195\n",
      " 0.00092406 0.00558156 0.01155809 0.01754062 0.0085106  0.00320405\n",
      " 0.00886091 0.01305447 0.00491632 0.00322148 0.00616846 0.01821415\n",
      " 0.00978063]\n",
      "[0.31830989 0.02808515 0.01875275 0.03062141 0.01308033 0.02652419\n",
      " 0.0015546  0.0066993  0.01605941 0.00379819 0.00819268 0.01707613\n",
      " 0.00455195 0.00734567 0.01330505 0.01680282 0.00588754 0.01187321\n",
      " 0.00942145 0.00784068 0.00838678 0.00727319 0.00915009 0.01258116\n",
      " 0.01830146]\n",
      "[0.31830989 0.03981959 0.03806953 0.04498539 0.03264423 0.03846265\n",
      " 0.01111875 0.01746302 0.02970766 0.00272439 0.00053651 0.01277449\n",
      " 0.01165763 0.00890745 0.00690077 0.00357005 0.00454055 0.01581425\n",
      " 0.01141748 0.0104515  0.00620415 0.00722963 0.00772111 0.01214525\n",
      " 0.02168231]\n",
      "[0.31830989 0.02969517 0.0198339  0.09548723 0.03685477 0.03320183\n",
      " 0.01970847 0.05548724 0.05415177 0.04655331 0.04385569 0.02701035\n",
      " 0.01162642 0.03120505 0.04960172 0.04533054 0.05577491 0.04942325\n",
      " 0.04413121 0.03545504 0.007996   0.02410506 0.02341436 0.02877533\n",
      " 0.04264879]\n",
      "[0.31830989 0.34943127 0.13970707 0.13061752 0.15472175 0.17249013\n",
      " 0.26472485 0.1981758  0.11563156 0.12230136 0.07767001 0.08291301\n",
      " 0.03363138 0.08363761 0.08401341 0.10053719 0.11558937 0.09954835\n",
      " 0.0273635  0.01853886 0.05348419 0.04477537 0.06327419 0.11133399\n",
      " 0.0970176 ]\n",
      "[0.31830989 0.04378497 0.03616513 0.03769629 0.00911832 0.01148142\n",
      " 0.01852509 0.01528507 0.03238804 0.0262137  0.02927299 0.04882515\n",
      " 0.01043481 0.02654458 0.04235069 0.05651812 0.00932661 0.03018769\n",
      " 0.04036547 0.03617304 0.0153883  0.01639179 0.03606326 0.02983598\n",
      " 0.04492702]\n",
      "[0.31830989 0.37337927 0.19675999 0.17144715 0.15124821 0.2366046\n",
      " 0.26655311 0.2856398  0.23290573 0.1810489  0.14094058 0.06128438\n",
      " 0.02172142 0.06472586 0.06784989 0.09204667 0.18521072 0.19823767\n",
      " 0.10578265 0.03784454 0.16577583 0.16612967 0.12003029 0.07305311\n",
      " 0.13193958]\n",
      "[0.31830989 0.16346501 0.06032528 0.07038724 0.04778194 0.03129243\n",
      " 0.0340299  0.06099182 0.01862302 0.01669716 0.00910589 0.04842432\n",
      " 0.03390321 0.03673872 0.0296648  0.0412498  0.02362918 0.01742757\n",
      " 0.04444659 0.02912632 0.01784997 0.02811158 0.03730714 0.02672759\n",
      " 0.06338761]\n",
      "[0.31830989 0.18849751 0.11072174 0.23930256 0.14079876 0.25596354\n",
      " 0.08976463 0.12624899 0.08491862 0.19927475 0.14903424 0.22810122\n",
      " 0.01497182 0.05386915 0.03306459 0.04037971 0.19450677 0.16810805\n",
      " 0.15099411 0.10019458 0.00812685 0.06144314 0.04461643 0.06137595\n",
      " 0.07915429]\n",
      "[0.31830989 0.35864543 0.28224928 0.29736754 0.1266834  0.12194892\n",
      " 0.16907341 0.03796643 0.16407474 0.20477081 0.2244521  0.18480123\n",
      " 0.07542766 0.26505032 0.12567724 0.23396953 0.09220506 0.09554893\n",
      " 0.11931325 0.06209554 0.05040519 0.06213817 0.02133446 0.04266922\n",
      " 0.04502533]\n",
      "[0.31830989 0.21220945 0.1026141  0.18946203 0.09827955 0.25161892\n",
      " 0.27094987 0.18890529 0.265865   0.11995722 0.15785681 0.17602996\n",
      " 0.10551878 0.1265604  0.11994508 0.20506429 0.15585351 0.16824536\n",
      " 0.08042528 0.16783646 0.09685178 0.27749888 0.07456361 0.24203237\n",
      " 0.02799615]\n",
      "[0.31830989 0.34140315 0.04456713 0.06947987 0.29104638 0.29150944\n",
      " 0.35606507 0.35718567 0.35343849 0.09539825 0.11171613 0.0953286\n",
      " 0.25359257 0.25789549 0.26031756 0.25612958 0.35926012 0.36360262\n",
      " 0.35962288 0.35895822 0.12772071 0.1317646  0.15597396 0.13760168\n",
      " 0.13215061]\n",
      "[0.31830989 0.52594044 0.56121222 0.54676437 0.40399147 0.37345252\n",
      " 0.12198941 0.11696312 0.08572028 0.19741075 0.21993502 0.28001987\n",
      " 0.43657393 0.43725741 0.45489226 0.51748313 0.52231003 0.51277512\n",
      " 0.52453948 0.58270939 0.4358072  0.42233846 0.40036095 0.40761122\n",
      " 0.45448829]\n",
      "[0.31830989 0.54522056 0.61333256 0.61779043 0.5079501  0.51789868\n",
      " 0.25585538 0.26353631 0.27687559 0.06270817 0.05130446 0.0401625\n",
      " 0.36278069 0.35296866 0.33495813 0.33026898 0.55235269 0.53340545\n",
      " 0.51777315 0.52471259 0.59193815 0.57943098 0.55650878 0.5502894\n",
      " 0.56937604]\n",
      "[0.31830989 0.44478642 0.30395492 0.30444633 0.0342438  0.03414632\n",
      " 0.32372344 0.33153831 0.32804017 0.43447411 0.44160799 0.43793923\n",
      " 0.27371529 0.29248984 0.28862019 0.28863665 0.0739965  0.06183634\n",
      " 0.06840501 0.06610994 0.34779384 0.33970365 0.31358577 0.34438786\n",
      " 0.33222041]\n",
      "[0.31830989 0.31144373 0.0740726  0.0255796  0.14372994 0.18403012\n",
      " 0.11931178 0.12939656 0.13102049 0.02250434 0.02491812 0.01116992\n",
      " 0.09681193 0.03798148 0.06134706 0.01284253 0.04901746 0.03238132\n",
      " 0.01280776 0.07065901 0.05067508 0.02800922 0.05021824 0.04991405\n",
      " 0.07363106]\n",
      "[0.31830989 0.08718778 0.05728079 0.08281018 0.00980981 0.05047641\n",
      " 0.0228576  0.01937915 0.00802001 0.02970982 0.0284345  0.02473259\n",
      " 0.00487378 0.0100802  0.02370835 0.02316838 0.00664663 0.01410798\n",
      " 0.00791193 0.02984029 0.01628091 0.01878151 0.01573025 0.02576654\n",
      " 0.00310638]\n",
      "[0.31830989 0.1931064  0.0115958  0.08530241 0.09134799 0.02643877\n",
      " 0.01306963 0.03591006 0.05359134 0.04814121 0.02727148 0.02724197\n",
      " 0.00914769 0.02219029 0.04024234 0.01361192 0.03783649 0.02758577\n",
      " 0.01932772 0.04548349 0.01703336 0.01937746 0.01350931 0.01821368\n",
      " 0.01140375]\n",
      "[0.31830989 0.29499222 0.06081906 0.02780163 0.32362564 0.27997643\n",
      " 0.22326248 0.2585002  0.22452824 0.08201737 0.03522241 0.05759408\n",
      " 0.27591053 0.25357303 0.2253608  0.25072325 0.16576853 0.15530617\n",
      " 0.15605255 0.16980748 0.04990217 0.07500342 0.05756047 0.06724698\n",
      " 0.061217  ]\n",
      "[0.31830989 0.55557012 0.68594776 0.6401415  0.65030633 0.55463188\n",
      " 0.50636341 0.47033672 0.33921382 0.26325958 0.21568064 0.07432754\n",
      " 0.007422   0.03255857 0.0544938  0.154121   0.20750873 0.19072232\n",
      " 0.20782929 0.27767847 0.34672369 0.31505273 0.27077413 0.26328318\n",
      " 0.2788294 ]\n"
     ]
    }
   ],
   "source": [
    "count = 0\n",
    "for i in range(len(featInd)):\n",
    "    count += 1\n",
    "    print(features.get(str(int(featInd[i]))))\n",
    "    featArr[i] = features.get(str(int(featInd[i])))"
   ]
  },
  {
   "cell_type": "code",
   "execution_count": 407,
   "metadata": {
    "scrolled": true
   },
   "outputs": [
    {
     "data": {
      "text/plain": [
       "array([3.18309886e-01, 1.14432770e-01, 1.98485072e-01, 2.30131349e-01,\n",
       "       1.21049752e-01, 1.26119291e-01, 7.12583251e-02, 1.32213839e-01,\n",
       "       8.29955577e-02, 9.69814513e-02, 7.53338571e-02, 6.63459445e-02,\n",
       "       4.88362967e-02, 4.03217097e-02, 6.98284951e-02, 6.87773818e-02,\n",
       "       5.35699738e-02, 1.26536431e-02, 2.31042506e-02, 1.06292646e-02,\n",
       "       2.37954261e-04, 2.42319873e-02, 5.43628028e-02, 5.95150841e-02,\n",
       "       4.45048706e-02])"
      ]
     },
     "execution_count": 407,
     "metadata": {},
     "output_type": "execute_result"
    }
   ],
   "source": [
    "featArr[0]"
   ]
  },
  {
   "cell_type": "code",
   "execution_count": 408,
   "metadata": {},
   "outputs": [
    {
     "data": {
      "text/plain": [
       "array([3.18309886e-01, 1.14432770e-01, 1.98485072e-01, 2.30131349e-01,\n",
       "       1.21049752e-01, 1.26119291e-01, 7.12583251e-02, 1.32213839e-01,\n",
       "       8.29955577e-02, 9.69814513e-02, 7.53338571e-02, 6.63459445e-02,\n",
       "       4.88362967e-02, 4.03217097e-02, 6.98284951e-02, 6.87773818e-02,\n",
       "       5.35699738e-02, 1.26536431e-02, 2.31042506e-02, 1.06292646e-02,\n",
       "       2.37954261e-04, 2.42319873e-02, 5.43628028e-02, 5.95150841e-02,\n",
       "       4.45048706e-02])"
      ]
     },
     "execution_count": 408,
     "metadata": {},
     "output_type": "execute_result"
    }
   ],
   "source": [
    "features.get(str(int(featInd[0])))"
   ]
  },
  {
   "cell_type": "code",
   "execution_count": 409,
   "metadata": {},
   "outputs": [
    {
     "data": {
      "text/plain": [
       "118278"
      ]
     },
     "execution_count": 409,
     "metadata": {},
     "output_type": "execute_result"
    }
   ],
   "source": [
    "X[0]"
   ]
  },
  {
   "cell_type": "code",
   "execution_count": 410,
   "metadata": {},
   "outputs": [
    {
     "data": {
      "text/plain": [
       "(862,)"
      ]
     },
     "execution_count": 410,
     "metadata": {},
     "output_type": "execute_result"
    }
   ],
   "source": [
    "X.shape"
   ]
  },
  {
   "cell_type": "code",
   "execution_count": 411,
   "metadata": {},
   "outputs": [
    {
     "data": {
      "text/plain": [
       "(862, 25)"
      ]
     },
     "execution_count": 411,
     "metadata": {},
     "output_type": "execute_result"
    }
   ],
   "source": [
    "featArr.shape"
   ]
  },
  {
   "cell_type": "code",
   "execution_count": 412,
   "metadata": {},
   "outputs": [],
   "source": [
    "from sklearn.model_selection import train_test_split\n",
    "X_train,X_test,y_train,y_test = train_test_split(featArr,X,test_size = 0.3)"
   ]
  },
  {
   "cell_type": "code",
   "execution_count": 413,
   "metadata": {},
   "outputs": [
    {
     "data": {
      "text/plain": [
       "(603, 25)"
      ]
     },
     "execution_count": 413,
     "metadata": {},
     "output_type": "execute_result"
    }
   ],
   "source": [
    "X_train.shape"
   ]
  },
  {
   "cell_type": "code",
   "execution_count": 414,
   "metadata": {},
   "outputs": [
    {
     "data": {
      "text/plain": [
       "(603,)"
      ]
     },
     "execution_count": 414,
     "metadata": {},
     "output_type": "execute_result"
    }
   ],
   "source": [
    "y_train.shape"
   ]
  },
  {
   "cell_type": "code",
   "execution_count": 415,
   "metadata": {
    "scrolled": false
   },
   "outputs": [
    {
     "data": {
      "text/plain": [
       "(259, 25)"
      ]
     },
     "execution_count": 415,
     "metadata": {},
     "output_type": "execute_result"
    }
   ],
   "source": [
    "X_test.shape"
   ]
  },
  {
   "cell_type": "code",
   "execution_count": 416,
   "metadata": {
    "scrolled": true
   },
   "outputs": [
    {
     "data": {
      "text/plain": [
       "(259,)"
      ]
     },
     "execution_count": 416,
     "metadata": {},
     "output_type": "execute_result"
    }
   ],
   "source": [
    "y_test.shape"
   ]
  },
  {
   "cell_type": "markdown",
   "metadata": {},
   "source": [
    "# Performing the one vs all classification with drilling as the positive and rest as negative classes"
   ]
  },
  {
   "cell_type": "code",
   "execution_count": 217,
   "metadata": {},
   "outputs": [],
   "source": [
    "posLabels = np.array(drillingLabels,dtype=np.int32)"
   ]
  },
  {
   "cell_type": "code",
   "execution_count": 221,
   "metadata": {},
   "outputs": [
    {
     "data": {
      "text/plain": [
       "(81,)"
      ]
     },
     "execution_count": 221,
     "metadata": {},
     "output_type": "execute_result"
    }
   ],
   "source": [
    "posLabels.shape"
   ]
  },
  {
   "cell_type": "code",
   "execution_count": 222,
   "metadata": {},
   "outputs": [
    {
     "data": {
      "text/plain": [
       "81"
      ]
     },
     "execution_count": 222,
     "metadata": {},
     "output_type": "execute_result"
    }
   ],
   "source": [
    "len(drillingFeatures)"
   ]
  },
  {
   "cell_type": "code",
   "execution_count": 231,
   "metadata": {},
   "outputs": [],
   "source": [
    "drillInd = np.zeros(len(drillingLabels))"
   ]
  },
  {
   "cell_type": "code",
   "execution_count": 232,
   "metadata": {
    "scrolled": true
   },
   "outputs": [
    {
     "data": {
      "text/plain": [
       "81"
      ]
     },
     "execution_count": 232,
     "metadata": {},
     "output_type": "execute_result"
    }
   ],
   "source": [
    "len(drillInd)"
   ]
  },
  {
   "cell_type": "code",
   "execution_count": 234,
   "metadata": {},
   "outputs": [],
   "source": [
    "count = 0\n",
    "for key in drillingFeatures:\n",
    "    drillInd[count] = int(key)\n",
    "    count += 1"
   ]
  },
  {
   "cell_type": "code",
   "execution_count": 235,
   "metadata": {},
   "outputs": [
    {
     "data": {
      "text/plain": [
       "array([118278., 165786.,  71088., 165643.,  74922.,  17913.,  29722.,\n",
       "       107842.,  57584.,  50415., 147764., 165644.,  14110.,  14111.,\n",
       "        57696., 130961., 156362.,  84699.,  34621., 165642.,  74965.,\n",
       "        99192.,  71079.,  29721.,  14115., 180029.,  14113.,  34643.,\n",
       "       165640., 127443.,  50416.,  71082., 205874., 147019., 140824.,\n",
       "       181624., 146244., 104625.,  42324.,  71080.,  58937.,  39532.,\n",
       "        66622.,  71086., 165645., 165641.,  50414., 127538., 179212.,\n",
       "       167750.,  14114.,  69598., 139000., 167702., 165785.,  71087.,\n",
       "        50413.,  39533., 144351.,  71171.,  89099., 166931., 205610.,\n",
       "        58005.,  63095.,  55020., 135849., 205878., 104817., 168037.,\n",
       "       103357., 187863.,  46668.,  71529., 137815., 146249., 128607.,\n",
       "        46669., 167701., 199929.,    518.])"
      ]
     },
     "execution_count": 235,
     "metadata": {},
     "output_type": "execute_result"
    }
   ],
   "source": [
    "drillInd"
   ]
  },
  {
   "cell_type": "code",
   "execution_count": 250,
   "metadata": {},
   "outputs": [],
   "source": [
    "posFeatures = np.zeros((81,25))"
   ]
  },
  {
   "cell_type": "code",
   "execution_count": 251,
   "metadata": {},
   "outputs": [
    {
     "data": {
      "text/plain": [
       "(81, 25)"
      ]
     },
     "execution_count": 251,
     "metadata": {},
     "output_type": "execute_result"
    }
   ],
   "source": [
    "posFeatures.shape"
   ]
  },
  {
   "cell_type": "code",
   "execution_count": 252,
   "metadata": {},
   "outputs": [
    {
     "name": "stdout",
     "output_type": "stream",
     "text": [
      "[3.18309886e-01 1.14432770e-01 1.98485072e-01 2.30131349e-01\n",
      " 1.21049752e-01 1.26119291e-01 7.12583251e-02 1.32213839e-01\n",
      " 8.29955577e-02 9.69814513e-02 7.53338571e-02 6.63459445e-02\n",
      " 4.88362967e-02 4.03217097e-02 6.98284951e-02 6.87773818e-02\n",
      " 5.35699738e-02 1.26536431e-02 2.31042506e-02 1.06292646e-02\n",
      " 2.37954261e-04 2.42319873e-02 5.43628028e-02 5.95150841e-02\n",
      " 4.45048706e-02]\n",
      "[0.31830989 0.00118722 0.00304222 0.00149966 0.00252459 0.00267123\n",
      " 0.00496488 0.00244556 0.00168886 0.00415114 0.00422086 0.00472982\n",
      " 0.00670633 0.00331036 0.00199172 0.0025023  0.00617866 0.00596503\n",
      " 0.0065557  0.00365945 0.0081534  0.0040661  0.00189166 0.0033722\n",
      " 0.00432729]\n",
      "[0.31830989 0.00101055 0.00040246 0.00211982 0.00202682 0.00271029\n",
      " 0.00072972 0.00346988 0.00204407 0.00305076 0.00416146 0.00688485\n",
      " 0.00113862 0.00473048 0.00277496 0.00631483 0.00407224 0.0057184\n",
      " 0.00959989 0.00235941 0.00164736 0.00589599 0.00344237 0.00780737\n",
      " 0.00100095]\n",
      "[0.31830989 0.00153593 0.00201591 0.00191314 0.00280432 0.00147195\n",
      " 0.0028418  0.00327    0.00315155 0.00370043 0.00282037 0.0034864\n",
      " 0.00308228 0.00453204 0.00352522 0.00501708 0.00435812 0.00454842\n",
      " 0.00519029 0.00226125 0.00277594 0.00532982 0.00341919 0.00614959\n",
      " 0.01095512]\n",
      "[0.31830989 0.00125907 0.00104461 0.0008889  0.00256149 0.00298749\n",
      " 0.00164409 0.00150968 0.00508348 0.00393158 0.0046174  0.00226634\n",
      " 0.00208424 0.00221338 0.00704355 0.00292053 0.00535307 0.00641846\n",
      " 0.00340478 0.0065816  0.00227755 0.00310738 0.00894543 0.00381065\n",
      " 0.00534068]\n",
      "[0.31830989 0.14352105 0.07310491 0.10773766 0.05789983 0.02860253\n",
      " 0.05245426 0.02457118 0.05746339 0.0478661  0.0041165  0.020008\n",
      " 0.05005032 0.04915903 0.03961593 0.0269693  0.02987794 0.02143966\n",
      " 0.02352621 0.04974892 0.00910069 0.02918152 0.01149583 0.01745748\n",
      " 0.02322146]\n",
      "[3.18309886e-01 2.40043822e-03 3.04168342e-04 1.35154306e-03\n",
      " 4.87552497e-03 1.68912641e-03 2.33434129e-04 2.15958068e-03\n",
      " 4.39186854e-03 7.48080305e-03 2.37952567e-03 8.15317603e-04\n",
      " 2.68839107e-04 2.82216001e-03 5.88409729e-03 2.52070068e-03\n",
      " 1.02315307e-02 2.91970777e-03 1.44192216e-03 5.18267229e-03\n",
      " 1.40918362e-03 3.27226759e-03 7.05724659e-03 3.40454388e-03\n",
      " 3.18939550e-03]\n",
      "[0.31830989 0.15395276 0.00864348 0.29061585 0.12931806 0.10661304\n",
      " 0.04725733 0.09461996 0.0891895  0.08878613 0.04747291 0.10797816\n",
      " 0.01871349 0.0478783  0.0806033  0.08796838 0.0765511  0.04697807\n",
      " 0.06257748 0.02877622 0.02331723 0.00742132 0.06393415 0.07575854\n",
      " 0.02895122]\n",
      "[0.31830989 0.00235983 0.00100367 0.00229719 0.00450712 0.00100944\n",
      " 0.00140158 0.0032872  0.00260979 0.00633638 0.00169715 0.00233447\n",
      " 0.00160589 0.0036609  0.00386682 0.00376707 0.0078845  0.00271328\n",
      " 0.00268362 0.00463565 0.00184878 0.0034629  0.00518031 0.00466705\n",
      " 0.00673537]\n",
      "[0.31830989 0.00143304 0.00104682 0.0008863  0.00290047 0.00298461\n",
      " 0.00165506 0.00148366 0.00508224 0.00442052 0.00460228 0.00228897\n",
      " 0.00211475 0.00213119 0.00705116 0.00293013 0.00597635 0.00637632\n",
      " 0.00349158 0.0065623  0.0023424  0.00293218 0.00897554 0.00379468\n",
      " 0.00534977]\n",
      "[0.31830989 0.00287802 0.00464278 0.00623626 0.00427737 0.00656719\n",
      " 0.00544508 0.00811909 0.00406895 0.00345296 0.00713806 0.00487009\n",
      " 0.00394934 0.0076358  0.00339003 0.00475742 0.00115033 0.00586469\n",
      " 0.00464436 0.01449935 0.00092047 0.00539423 0.0037509  0.0076289\n",
      " 0.00731612]\n",
      "[0.31830989 0.00075416 0.00372472 0.00154604 0.00161326 0.00482367\n",
      " 0.00606009 0.00260277 0.0018864  0.00268632 0.00742483 0.00862938\n",
      " 0.00813979 0.00369895 0.00208315 0.0008044  0.00407487 0.0101961\n",
      " 0.01172735 0.00393321 0.0098003  0.00485244 0.00172345 0.00132521\n",
      " 0.00104745]\n",
      "[0.31830989 0.26965237 0.03473501 0.04988221 0.2179563  0.22970524\n",
      " 0.10395095 0.12517505 0.12056383 0.05461384 0.04704694 0.04967354\n",
      " 0.07449068 0.05419022 0.07668496 0.05066414 0.02057357 0.02235243\n",
      " 0.0115902  0.03965627 0.00879721 0.03368567 0.01351863 0.02258276\n",
      " 0.03697457]\n",
      "[0.31830989 0.08535472 0.06742266 0.07507984 0.02880491 0.04301815\n",
      " 0.01802285 0.01815788 0.00352636 0.034264   0.02530682 0.02581778\n",
      " 0.02354093 0.02566013 0.01819215 0.02815001 0.00291276 0.00794562\n",
      " 0.00858399 0.02877385 0.01998648 0.01714128 0.01482301 0.01869589\n",
      " 0.00794899]\n",
      "[0.31830989 0.11182587 0.07021653 0.04506621 0.01938199 0.0564829\n",
      " 0.03957978 0.03386482 0.04094738 0.02892681 0.04279822 0.02389238\n",
      " 0.04420219 0.02058857 0.030334   0.03136508 0.02538567 0.02952963\n",
      " 0.02883402 0.02484877 0.04019037 0.0251835  0.00750053 0.0502325\n",
      " 0.01584258]\n",
      "[0.31830989 0.13536138 0.23930352 0.21157007 0.18528769 0.18135886\n",
      " 0.12397599 0.0952423  0.09876646 0.15193522 0.14294395 0.14246167\n",
      " 0.00119644 0.02628177 0.05006721 0.04281361 0.06349422 0.10249915\n",
      " 0.11149465 0.06612988 0.01953389 0.00569971 0.05562341 0.04117836\n",
      " 0.06959401]\n",
      "[0.31830989 0.00131971 0.00095818 0.0028746  0.00270686 0.00328134\n",
      " 0.0014697  0.00452981 0.00195166 0.0042317  0.00501747 0.00591859\n",
      " 0.001778   0.0057648  0.00267242 0.00536857 0.00596307 0.00682237\n",
      " 0.00806902 0.00520757 0.00178181 0.00636178 0.00336026 0.00629152\n",
      " 0.00618463]\n",
      "[0.31830989 0.39420081 0.11183697 0.2420036  0.17539024 0.03373279\n",
      " 0.29000431 0.29370225 0.13424712 0.17500864 0.2533526  0.12666518\n",
      " 0.01371188 0.03529201 0.15587241 0.11761542 0.06963616 0.08021562\n",
      " 0.08873064 0.18719325 0.03756818 0.05236155 0.10797715 0.05325548\n",
      " 0.16868871]\n",
      "[0.31830989 0.06307724 0.06608603 0.05586877 0.01813298 0.03686348\n",
      " 0.02630685 0.00574046 0.00242677 0.02864042 0.03271004 0.02212589\n",
      " 0.0063912  0.0133017  0.01532367 0.00636893 0.02753783 0.0314714\n",
      " 0.03015309 0.02782129 0.0103779  0.01424442 0.00887527 0.01466686\n",
      " 0.03773025]\n",
      "[0.31830989 0.00153271 0.00104821 0.00089197 0.00311688 0.00299024\n",
      " 0.00166237 0.00153699 0.00507915 0.00478424 0.00462021 0.00223762\n",
      " 0.00213649 0.00229517 0.00701309 0.00290651 0.0065244  0.00642122\n",
      " 0.00329344 0.00660098 0.0023919  0.00327277 0.00885935 0.00381695\n",
      " 0.00535392]\n",
      "[0.31830989 0.00188015 0.00042416 0.00297276 0.00375326 0.00147027\n",
      " 0.00084077 0.00471249 0.00333275 0.00561497 0.00231023 0.00393292\n",
      " 0.00145951 0.00606442 0.00466564 0.00737188 0.00746458 0.00324985\n",
      " 0.00533055 0.00796997 0.0023605  0.00684138 0.00597191 0.008886\n",
      " 0.00277922]\n",
      "[0.31830989 0.07326691 0.07707053 0.05966533 0.01801145 0.0413135\n",
      " 0.0029797  0.01023484 0.02957124 0.03274375 0.01158454 0.01498755\n",
      " 0.01325692 0.01840054 0.03055273 0.0226109  0.00832059 0.03381963\n",
      " 0.04171984 0.0356652  0.02702771 0.00925824 0.02209791 0.0428663\n",
      " 0.01731485]\n",
      "[0.31830989 0.00395372 0.00641126 0.00833939 0.00429777 0.00642006\n",
      " 0.00522772 0.00867068 0.00646117 0.00126739 0.00427982 0.00593289\n",
      " 0.00109068 0.00619809 0.0048335  0.00775209 0.00347079 0.00302155\n",
      " 0.01074706 0.00592071 0.00257063 0.00432088 0.00376722 0.00834024\n",
      " 0.00788098]\n",
      "[0.31830989 0.0014864  0.00105058 0.00064188 0.00302568 0.00256974\n",
      " 0.00167409 0.00116075 0.00517087 0.00465197 0.0041662  0.00321686\n",
      " 0.00216899 0.00187159 0.00716175 0.00475908 0.00635869 0.00611714\n",
      " 0.00433473 0.00940617 0.00246093 0.00290926 0.00908549 0.00645587\n",
      " 0.00555303]\n",
      "[0.31830989 0.09391868 0.0878738  0.07404771 0.02193322 0.00887089\n",
      " 0.00586926 0.01405878 0.00448255 0.0310447  0.02975798 0.03646974\n",
      " 0.00520118 0.01671474 0.02398278 0.00980916 0.01254157 0.00670953\n",
      " 0.01577467 0.01412221 0.01875379 0.0175531  0.02590808 0.0051843\n",
      " 0.0288275 ]\n",
      "[0.31830989 0.00057812 0.00093772 0.00255739 0.00118363 0.00207565\n",
      " 0.00137236 0.00399145 0.00555985 0.00183907 0.00317536 0.00434174\n",
      " 0.00152577 0.00499345 0.00793049 0.01006519 0.0025567  0.0043405\n",
      " 0.00601832 0.00484878 0.00129748 0.00536473 0.01041053 0.01144242\n",
      " 0.00774248]\n",
      "[0.31830989 0.01953428 0.02291924 0.02248108 0.01637818 0.00869736\n",
      " 0.00620582 0.01363112 0.00948224 0.00157915 0.0070364  0.00999861\n",
      " 0.01157814 0.00288835 0.01006158 0.01159605 0.00563982 0.00213152\n",
      " 0.00670759 0.01124256 0.01438855 0.00943195 0.00629197 0.00773856\n",
      " 0.00154064]\n",
      "[0.31830989 0.14202225 0.17969866 0.25082216 0.18068654 0.18403803\n",
      " 0.06872283 0.11410854 0.10441332 0.1683008  0.1636229  0.13254208\n",
      " 0.01237694 0.01158396 0.04821341 0.0622603  0.11186076 0.11175641\n",
      " 0.05583464 0.05304133 0.05392066 0.03553734 0.02700953 0.09174913\n",
      " 0.06938833]\n",
      "[0.31830989 0.00105219 0.00311994 0.0016837  0.00211257 0.00478294\n",
      " 0.00516095 0.00285464 0.00156873 0.0031935  0.00747845 0.00445983\n",
      " 0.00713731 0.00410309 0.00207757 0.00296093 0.00430683 0.01048354\n",
      " 0.00622561 0.00654935 0.00901076 0.00547089 0.00246608 0.00436336\n",
      " 0.00137992]\n",
      "[0.31830989 0.08498325 0.22016043 0.23984875 0.10518588 0.11393906\n",
      " 0.12414654 0.11465869 0.11389461 0.07602753 0.06602795 0.06539102\n",
      " 0.02992361 0.03517173 0.03484303 0.03276351 0.00260077 0.01523978\n",
      " 0.01120119 0.01664942 0.01164264 0.01531886 0.02456443 0.01118656\n",
      " 0.01968832]\n",
      "[0.31830989 0.0011029  0.00044729 0.00334143 0.0022231  0.00186214\n",
      " 0.00095507 0.00528974 0.00598895 0.00337559 0.00282188 0.00562807\n",
      " 0.00177388 0.0067857  0.00843346 0.00767108 0.00457008 0.00380332\n",
      " 0.00761581 0.0073357  0.0030182  0.00759696 0.01088723 0.00852121\n",
      " 0.00405542]\n",
      "[0.31830989 0.00092875 0.00109372 0.00144779 0.00188681 0.00222957\n",
      " 0.00189121 0.00222327 0.00277253 0.00289068 0.0032015  0.00521638\n",
      " 0.00278175 0.00269005 0.00379821 0.00998799 0.00392823 0.00402037\n",
      " 0.00749595 0.00969867 0.00378345 0.00269001 0.00477403 0.01236411\n",
      " 0.00224618]\n",
      "[0.31830989 0.11337269 0.13607597 0.06928661 0.07108529 0.06810799\n",
      " 0.03043727 0.01100244 0.04079079 0.02283796 0.03174578 0.02726769\n",
      " 0.06688694 0.06353167 0.11495851 0.10021183 0.060497   0.10030072\n",
      " 0.03175768 0.05920613 0.01278306 0.03051088 0.07383458 0.04625745\n",
      " 0.04043373]\n",
      "[3.18309886e-01 1.30501140e-03 1.73832215e-03 2.45692943e-04\n",
      " 2.65160532e-03 2.62786417e-03 2.82212797e-03 5.17357037e-04\n",
      " 4.16723710e-03 4.06334659e-03 3.97301032e-03 2.01213897e-03\n",
      " 3.78004285e-03 1.01842719e-03 5.70120742e-03 4.25269277e-03\n",
      " 5.52510382e-03 5.37986382e-03 3.17445273e-03 6.58758842e-03\n",
      " 4.53861892e-03 1.88885633e-03 7.11767547e-03 5.59524340e-03\n",
      " 5.31631710e-03]\n",
      "[0.31830989 0.00157976 0.00109036 0.00283558 0.00313785 0.00273634\n",
      " 0.00187593 0.00465795 0.00102708 0.00465387 0.00433965 0.00520856\n",
      " 0.00274506 0.00637544 0.0014311  0.00426209 0.00610756 0.00619165\n",
      " 0.00716916 0.00605909 0.0037207  0.0079553  0.00185348 0.00523907\n",
      " 0.00210397]\n",
      "[0.31830989 0.00144575 0.00165295 0.00134661 0.00297205 0.00080874\n",
      " 0.00239068 0.00220106 0.00415006 0.00464388 0.00104832 0.00194647\n",
      " 0.0025546  0.00298643 0.00550112 0.00259696 0.00649327 0.00110826\n",
      " 0.00271833 0.00278157 0.0018712  0.00366796 0.00645983 0.00338152\n",
      " 0.00282857]\n",
      "[0.31830989 0.02827732 0.03680287 0.04350116 0.01096041 0.02491087\n",
      " 0.01195497 0.01102044 0.03433836 0.00969922 0.01322152 0.00534012\n",
      " 0.00396134 0.00615969 0.00903467 0.02628456 0.0060486  0.00600828\n",
      " 0.02170725 0.00189247 0.01132899 0.00593083 0.00100648 0.01592479\n",
      " 0.01940538]\n",
      "[0.31830989 0.00135232 0.00109849 0.00238737 0.0027486  0.00218815\n",
      " 0.00191894 0.00378642 0.0022333  0.00423435 0.00342993 0.00458299\n",
      " 0.00287491 0.00488641 0.00311646 0.0059691  0.00585227 0.00481806\n",
      " 0.00634182 0.00914498 0.00402389 0.00557223 0.00397236 0.0073625\n",
      " 0.00134696]\n",
      "[0.31830989 0.00103603 0.0010508  0.00089306 0.00211275 0.00208511\n",
      " 0.00167512 0.00163153 0.00374957 0.00325211 0.00323946 0.00179449\n",
      " 0.00217154 0.00259922 0.00504566 0.00564872 0.00443606 0.00454141\n",
      " 0.00282294 0.00491768 0.00246541 0.00391187 0.00614359 0.00729712\n",
      " 0.00410187]\n",
      "[0.31830989 0.00116169 0.0010435  0.00089263 0.00237264 0.00299131\n",
      " 0.00163852 0.00154426 0.00508942 0.00366237 0.00464689 0.00224208\n",
      " 0.00206861 0.00231924 0.00705244 0.00291176 0.00501826 0.00650646\n",
      " 0.00331272 0.00660615 0.00224401 0.00332719 0.0089551  0.00384066\n",
      " 0.0053128 ]\n",
      "[0.31830989 0.04824051 0.09669972 0.13182735 0.03411686 0.02897449\n",
      " 0.02057147 0.02954556 0.03848213 0.00934914 0.07542961 0.0344545\n",
      " 0.00766187 0.04549792 0.0108373  0.02633718 0.01814596 0.04016124\n",
      " 0.05660713 0.02711849 0.00582662 0.01607017 0.02092062 0.04116465\n",
      " 0.02518611]\n",
      "[3.18309886e-01 8.52896878e-04 2.44381142e-04 2.76421499e-03\n",
      " 1.72484833e-03 2.76801251e-03 2.06073540e-04 4.31461389e-03\n",
      " 6.10311261e-03 2.63196708e-03 4.19537249e-03 4.40309717e-03\n",
      " 1.30298045e-04 5.38952722e-03 8.62645605e-03 8.44829027e-03\n",
      " 3.58385873e-03 5.66332888e-03 5.99166856e-03 5.97292057e-03\n",
      " 8.73287036e-04 5.73800441e-03 1.11930502e-02 9.39374097e-03\n",
      " 6.05290749e-03]\n",
      "[0.31830989 0.09137504 0.07537886 0.05586703 0.02729199 0.0131243\n",
      " 0.02600429 0.00899911 0.04453414 0.03280802 0.02941749 0.04470986\n",
      " 0.03077736 0.01380879 0.02983644 0.01318066 0.01195261 0.00962613\n",
      " 0.00552681 0.00816856 0.00875855 0.01304974 0.02269962 0.00976059\n",
      " 0.0198726 ]\n",
      "[0.31830989 0.00143152 0.00104982 0.00064073 0.00291282 0.00256954\n",
      " 0.00167022 0.00115407 0.00517472 0.00447562 0.00417478 0.00322136\n",
      " 0.00215783 0.00185338 0.00717937 0.00475301 0.00611228 0.00614511\n",
      " 0.00433791 0.00940543 0.00243625 0.00287339 0.00913093 0.00643547\n",
      " 0.00552977]\n",
      "[0.31830989 0.09752413 0.11194074 0.0395718  0.03243633 0.04855191\n",
      " 0.00681476 0.06042513 0.08379242 0.03627658 0.03041294 0.04518267\n",
      " 0.0063681  0.01854881 0.03340696 0.03724458 0.02597661 0.02759382\n",
      " 0.03219965 0.06917862 0.00482863 0.02571989 0.02843559 0.01264999\n",
      " 0.03239717]\n",
      "[0.31830989 0.09480334 0.07011403 0.08092081 0.01738639 0.03235298\n",
      " 0.01225744 0.02177049 0.0108764  0.0275967  0.03618217 0.02883769\n",
      " 0.00060596 0.00746906 0.02651634 0.01415695 0.0084521  0.0123351\n",
      " 0.00229492 0.00458748 0.00370932 0.01674381 0.01435285 0.0148368\n",
      " 0.0179328 ]\n",
      "[0.31830989 0.00066092 0.00095366 0.00275534 0.00126678 0.00469495\n",
      " 0.00144706 0.00431293 0.00104034 0.00178986 0.00709889 0.00623464\n",
      " 0.0017144  0.00542111 0.00123262 0.00775967 0.00226301 0.00951951\n",
      " 0.00843907 0.00382093 0.00164508 0.00584696 0.00116321 0.00907197\n",
      " 0.01101027]\n",
      "[0.31830989 0.21434835 0.1077499  0.07485656 0.10790007 0.02580958\n",
      " 0.10867454 0.12611457 0.10375469 0.00788248 0.02419857 0.05111778\n",
      " 0.1196224  0.04023801 0.06265234 0.10558077 0.01900251 0.08737026\n",
      " 0.0332546  0.00049229 0.06742573 0.05605521 0.06923798 0.06981373\n",
      " 0.02760895]\n",
      "[0.31830989 0.00082372 0.00243716 0.00236851 0.00168682 0.0041575\n",
      " 0.00403177 0.00396982 0.00270836 0.00263136 0.00653128 0.00566701\n",
      " 0.00557677 0.00560397 0.00368555 0.0034973  0.00369183 0.00920554\n",
      " 0.00785636 0.00839855 0.00704304 0.0072864  0.00454854 0.00508896\n",
      " 0.00327662]\n",
      "[0.31830989 0.00195374 0.00173213 0.00175332 0.00396091 0.00181062\n",
      " 0.00304449 0.00278871 0.00401438 0.00605418 0.0025091  0.00322863\n",
      " 0.00460971 0.0036104  0.00532113 0.00080604 0.00822257 0.00299278\n",
      " 0.00409539 0.0049216  0.00655559 0.00410995 0.00627845 0.00136243\n",
      " 0.00416076]\n",
      "[0.31830989 0.01941504 0.01749156 0.02545853 0.01910006 0.02929674\n",
      " 0.0054377  0.01552986 0.02498634 0.00333068 0.0120728  0.02509988\n",
      " 0.01128462 0.00115191 0.00119391 0.01962393 0.00812933 0.00302352\n",
      " 0.00239339 0.01556168 0.01540861 0.0058982  0.00913262 0.00551044\n",
      " 0.01515095]\n",
      "[0.31830989 0.21385248 0.04282071 0.03065457 0.10176795 0.02834315\n",
      " 0.00620763 0.07762259 0.07253815 0.03581945 0.05064307 0.02924826\n",
      " 0.15454839 0.149789   0.07604613 0.13360413 0.14351133 0.13382345\n",
      " 0.08026476 0.11784619 0.07146884 0.02750977 0.06990616 0.01433244\n",
      " 0.07208623]\n",
      "[0.31830989 0.00180369 0.00043627 0.00350369 0.0035787  0.0009048\n",
      " 0.00090049 0.00558054 0.00529602 0.00529864 0.00149489 0.00352658\n",
      " 0.00162334 0.0072337  0.00743343 0.00717027 0.00694161 0.00224058\n",
      " 0.00475609 0.00592688 0.00270205 0.00823339 0.00955745 0.00821426\n",
      " 0.00256286]\n",
      "[0.31830989 0.0196734  0.04225436 0.01701063 0.01778665 0.02537288\n",
      " 0.03017202 0.04288431 0.04996987 0.01007448 0.0199429  0.04104685\n",
      " 0.03351407 0.01496584 0.02365494 0.01356173 0.01424039 0.01182721\n",
      " 0.00954498 0.03896035 0.00245731 0.01546313 0.01241705 0.04173764\n",
      " 0.05439629]\n",
      "[0.31830989 0.04639751 0.09588038 0.06075642 0.02817867 0.06691481\n",
      " 0.04374098 0.02307847 0.00957543 0.02526411 0.01572096 0.0351574\n",
      " 0.01061589 0.02560894 0.02390607 0.01099127 0.02399505 0.0194159\n",
      " 0.02301661 0.02366295 0.00926309 0.00656195 0.01277615 0.01047661\n",
      " 0.02036602]\n",
      "[0.31830989 0.00101509 0.00113256 0.00443596 0.00203993 0.00154581\n",
      " 0.00208756 0.00712416 0.00423841 0.00308344 0.00238782 0.00520199\n",
      " 0.00333962 0.00937072 0.00595731 0.00716082 0.00415178 0.003299\n",
      " 0.00706384 0.00730039 0.00499864 0.01093324 0.00766209 0.0082223\n",
      " 0.00055688]\n",
      "[0.31830989 0.00033733 0.00105486 0.00293969 0.00061452 0.00423113\n",
      " 0.0016977  0.00502102 0.00069042 0.00081293 0.00672743 0.00531352\n",
      " 0.00224352 0.00727417 0.0009412  0.00095192 0.00100013 0.00961887\n",
      " 0.00733623 0.00800791 0.00264146 0.00974432 0.00118781 0.00136121\n",
      " 0.00441592]\n",
      "[0.31830989 0.05506561 0.06088377 0.04936811 0.04669726 0.02679959\n",
      " 0.02366525 0.01654838 0.0120524  0.00139706 0.01456611 0.02868634\n",
      " 0.01692239 0.02238951 0.02041298 0.03014248 0.01745831 0.02213936\n",
      " 0.0107396  0.00867973 0.01472134 0.0137585  0.00651225 0.00462676\n",
      " 0.01159279]\n",
      "[0.31830989 0.0017774  0.000338   0.00157151 0.00360131 0.00119301\n",
      " 0.00067787 0.00247942 0.00313546 0.00549811 0.00191618 0.00132238\n",
      " 0.00120422 0.00317932 0.00425021 0.00324136 0.00745151 0.00284929\n",
      " 0.00205163 0.00407654 0.00201636 0.00360119 0.00524677 0.00453091\n",
      " 0.00815064]\n",
      "[0.31830989 0.0023927  0.00103195 0.0024375  0.00482905 0.00135555\n",
      " 0.00184726 0.00391971 0.00502782 0.00733177 0.00190951 0.00310818\n",
      " 0.002869   0.00517234 0.00673506 0.00178718 0.00987972 0.00237141\n",
      " 0.00372587 0.00660522 0.00420515 0.00607729 0.00809519 0.00260403\n",
      " 0.00587556]\n",
      "[0.31830989 0.00079436 0.00302323 0.00133913 0.00160048 0.00359792\n",
      " 0.00486663 0.00210012 0.00460422 0.00246553 0.00549962 0.00615532\n",
      " 0.00641804 0.00266087 0.00581955 0.00291661 0.00348905 0.00747316\n",
      " 0.00843515 0.00220235 0.00749984 0.00295532 0.00636686 0.00320065\n",
      " 0.00768368]\n",
      "[0.31830989 0.00184223 0.0003298  0.00201244 0.00371837 0.00152112\n",
      " 0.00063676 0.00321613 0.00487093 0.00564187 0.00205781 0.00081377\n",
      " 0.00108879 0.00419862 0.00650021 0.00464651 0.00758316 0.00235557\n",
      " 0.00118731 0.00715615 0.00176827 0.00485047 0.00777699 0.00634482\n",
      " 0.00542494]\n",
      "[3.18309886e-01 1.77350012e-03 2.52615508e-04 3.60700937e-03\n",
      " 3.51502377e-03 1.58559109e-03 2.45611846e-04 5.71965746e-03\n",
      " 4.40635650e-03 5.19702763e-03 2.43326621e-03 4.05249542e-03\n",
      " 2.63066244e-05 7.35848365e-03 6.14007262e-03 5.92792490e-03\n",
      " 6.80102600e-03 3.32340773e-03 5.44969645e-03 4.50124519e-03\n",
      " 6.68939230e-04 8.27204317e-03 7.81119702e-03 6.58364657e-03\n",
      " 4.48160662e-03]\n",
      "[0.31830989 0.02034665 0.03010244 0.02916732 0.0194956  0.01359333\n",
      " 0.02268116 0.01322485 0.0152742  0.01296162 0.00982706 0.00925112\n",
      " 0.01378092 0.00568262 0.00798112 0.00690788 0.00431365 0.00507111\n",
      " 0.00580281 0.00502211 0.004838   0.00418048 0.00067983 0.00368119\n",
      " 0.02083225]\n",
      "[0.31830989 0.11503983 0.17388618 0.14397965 0.09966198 0.11209316\n",
      " 0.00989942 0.09089313 0.02141431 0.04893087 0.05288753 0.06893349\n",
      " 0.01526357 0.04715131 0.05445901 0.07375743 0.04254984 0.05854917\n",
      " 0.01044097 0.04748177 0.01130057 0.03085633 0.01738317 0.06992022\n",
      " 0.06266354]\n",
      "[0.31830989 0.06182095 0.05833043 0.12657837 0.04942982 0.00801828\n",
      " 0.00490113 0.04382715 0.06559851 0.02507362 0.05297498 0.03133941\n",
      " 0.01968702 0.03816333 0.04174867 0.03377575 0.00938495 0.03316433\n",
      " 0.01940237 0.05551541 0.02855873 0.00922548 0.01747797 0.01149156\n",
      " 0.02392575]\n",
      "[0.31830989 0.00120185 0.00268298 0.00248605 0.00282865 0.00266358\n",
      " 0.00396416 0.00336813 0.00383794 0.00497571 0.00295998 0.00367595\n",
      " 0.00508404 0.00365892 0.00589732 0.0015308  0.00729664 0.00286388\n",
      " 0.00324246 0.00952315 0.00658568 0.00366129 0.00757018 0.00341229\n",
      " 0.003445  ]\n",
      "[0.31830989 0.08612303 0.07163274 0.07354897 0.0326177  0.03557217\n",
      " 0.00829383 0.012362   0.00323452 0.02466228 0.03470703 0.02970093\n",
      " 0.01975114 0.02421194 0.01751479 0.02762762 0.0032715  0.00830108\n",
      " 0.01093306 0.01012681 0.00975028 0.01167724 0.02826473 0.01334478\n",
      " 0.01561947]\n",
      "[0.31830989 0.00156853 0.00043253 0.00350105 0.00311347 0.00090205\n",
      " 0.00088224 0.00556669 0.00529457 0.0046148  0.00147377 0.0035066\n",
      " 0.00157403 0.00719506 0.00741259 0.00718319 0.00605907 0.0021806\n",
      " 0.00472128 0.00595831 0.00260133 0.00815203 0.00949751 0.00828115\n",
      " 0.00253968]\n",
      "[0.31830989 0.00127352 0.00249118 0.00129357 0.00258116 0.00367022\n",
      " 0.00430149 0.00193155 0.00346262 0.00394797 0.00566484 0.0070776\n",
      " 0.00632993 0.00220829 0.00500731 0.00562439 0.0053795  0.00783213\n",
      " 0.00974612 0.00442652 0.00864927 0.0019651  0.00668927 0.00609061\n",
      " 0.00476627]\n",
      "[0.31830989 0.00074871 0.00372753 0.00187724 0.00158091 0.00414019\n",
      " 0.00607632 0.00301652 0.00255344 0.00259754 0.00638456 0.00567121\n",
      " 0.00819413 0.00397909 0.00312466 0.00102404 0.00390954 0.00877791\n",
      " 0.00784541 0.00285334 0.00994127 0.0046846  0.00321363 0.00096711\n",
      " 0.00862069]\n",
      "[3.18309886e-01 1.20191370e-02 1.93257265e-02 9.05723575e-03\n",
      " 8.73193045e-03 7.50596106e-03 1.06750659e-02 2.93400353e-03\n",
      " 1.47877272e-02 2.83198971e-03 9.46009208e-03 2.90848251e-02\n",
      " 1.73431934e-03 6.17993149e-03 1.20551302e-02 3.41739308e-02\n",
      " 7.52842361e-03 2.36929843e-03 1.21708175e-02 1.89074474e-02\n",
      " 1.91662771e-04 9.42691564e-03 5.25030095e-03 2.60242594e-03\n",
      " 2.54733814e-02]\n",
      "[0.31830989 0.10459499 0.08936323 0.07554126 0.03117585 0.01380154\n",
      " 0.01564116 0.01989214 0.0243456  0.03891178 0.03511779 0.03786823\n",
      " 0.02142812 0.02177747 0.00973965 0.0103428  0.00177106 0.01612741\n",
      " 0.01923091 0.02232467 0.02364174 0.02273989 0.031247   0.02092919\n",
      " 0.02640201]\n",
      "[0.31830989 0.10295489 0.187221   0.18962746 0.07826992 0.08402609\n",
      " 0.05675153 0.09009909 0.05859503 0.03575905 0.03365322 0.0368864\n",
      " 0.02202922 0.0397317  0.04746811 0.06649208 0.04052938 0.02314598\n",
      " 0.04952397 0.02148587 0.01355173 0.0194011  0.04302716 0.01946236\n",
      " 0.02227917]\n",
      "[0.31830989 0.00047157 0.00233232 0.00202355 0.00094759 0.00374106\n",
      " 0.00372396 0.00325213 0.00423621 0.00149514 0.00574157 0.00649736\n",
      " 0.00484102 0.00429444 0.00536601 0.00263769 0.00226272 0.00784079\n",
      " 0.00891995 0.00133209 0.00552068 0.00507702 0.00588083 0.00286314\n",
      " 0.00971385]\n",
      "[0.31830989 0.02030582 0.02334951 0.02043937 0.02577159 0.0155898\n",
      " 0.01780327 0.01717472 0.00725059 0.01583968 0.00865395 0.00981428\n",
      " 0.00183017 0.0090057  0.00544776 0.01835678 0.00300393 0.00428794\n",
      " 0.00457396 0.01666958 0.00979481 0.01164049 0.007667   0.00820594\n",
      " 0.01641134]\n",
      "[0.31830989 0.07711731 0.00527099 0.02859281 0.05854873 0.09880025\n",
      " 0.05473742 0.03548023 0.05972398 0.01839782 0.04527763 0.02867249\n",
      " 0.05181858 0.04504988 0.07285912 0.05583741 0.04140187 0.01561358\n",
      " 0.03006374 0.03447967 0.00863944 0.01246733 0.05405356 0.03234306\n",
      " 0.02586966]\n",
      "[0.31830989 0.10288451 0.1023921  0.12172124 0.06505437 0.07867688\n",
      " 0.01923753 0.05359328 0.06172408 0.0058431  0.0303749  0.02463772\n",
      " 0.01407158 0.01771222 0.0189651  0.04210768 0.02820196 0.050381\n",
      " 0.00414095 0.01102677 0.01196061 0.01611722 0.03468203 0.04711173\n",
      " 0.01713576]\n",
      "[0.31830989 0.02898526 0.00547653 0.07441892 0.01976574 0.02357726\n",
      " 0.01395084 0.01986003 0.02327437 0.01956773 0.0106602  0.00629829\n",
      " 0.00150328 0.01741954 0.00394264 0.01090858 0.02719818 0.02467498\n",
      " 0.00845484 0.01662233 0.00055794 0.00793075 0.01353355 0.00691333\n",
      " 0.01281935]\n",
      "[0.31830989 0.1359169  0.13669685 0.17064674 0.09855476 0.06079197\n",
      " 0.09742315 0.04511214 0.07695571 0.0468401  0.0137897  0.0681058\n",
      " 0.03408372 0.04121794 0.06407735 0.02850335 0.03387405 0.02092726\n",
      " 0.04322528 0.02709016 0.00474069 0.04990658 0.02437238 0.04032344\n",
      " 0.03964615]\n",
      "[0.31830989 0.00141876 0.00109114 0.002908   0.00290244 0.00216102\n",
      " 0.00188277 0.00467153 0.00197629 0.00451589 0.00335614 0.00518535\n",
      " 0.00277594 0.00615583 0.00268658 0.00437002 0.00631658 0.00464248\n",
      " 0.00714014 0.009247   0.0038185  0.00722839 0.00328881 0.00584406\n",
      " 0.00305053]\n"
     ]
    }
   ],
   "source": [
    "count = 0\n",
    "for i in range(len(drillInd)):\n",
    "    count += 1\n",
    "    print(drillingFeatures.get(str(int(featInd[i]))))\n",
    "    posFeatures[i] = drillingFeatures.get(str(int(drillInd[i])))"
   ]
  },
  {
   "cell_type": "code",
   "execution_count": 253,
   "metadata": {},
   "outputs": [
    {
     "data": {
      "text/plain": [
       "(81, 25)"
      ]
     },
     "execution_count": 253,
     "metadata": {},
     "output_type": "execute_result"
    }
   ],
   "source": [
    "posFeatures.shape"
   ]
  },
  {
   "cell_type": "code",
   "execution_count": 254,
   "metadata": {
    "scrolled": true
   },
   "outputs": [
    {
     "data": {
      "text/plain": [
       "array([[0.31830989, 0.11443277, 0.19848507, ..., 0.0543628 , 0.05951508,\n",
       "        0.04450487],\n",
       "       [0.31830989, 0.00118722, 0.00304222, ..., 0.00189166, 0.0033722 ,\n",
       "        0.00432729],\n",
       "       [0.31830989, 0.00101055, 0.00040246, ..., 0.00344237, 0.00780737,\n",
       "        0.00100095],\n",
       "       ...,\n",
       "       [0.31830989, 0.02898526, 0.00547653, ..., 0.01353355, 0.00691333,\n",
       "        0.01281935],\n",
       "       [0.31830989, 0.1359169 , 0.13669685, ..., 0.02437238, 0.04032344,\n",
       "        0.03964615],\n",
       "       [0.31830989, 0.00141876, 0.00109114, ..., 0.00328881, 0.00584406,\n",
       "        0.00305053]])"
      ]
     },
     "execution_count": 254,
     "metadata": {},
     "output_type": "execute_result"
    }
   ],
   "source": [
    "posFeatures"
   ]
  },
  {
   "cell_type": "code",
   "execution_count": 257,
   "metadata": {},
   "outputs": [
    {
     "data": {
      "text/plain": [
       "(862, 25)"
      ]
     },
     "execution_count": 257,
     "metadata": {},
     "output_type": "execute_result"
    }
   ],
   "source": [
    "featArr.shape"
   ]
  },
  {
   "cell_type": "code",
   "execution_count": 258,
   "metadata": {},
   "outputs": [
    {
     "data": {
      "text/plain": [
       "(862,)"
      ]
     },
     "execution_count": 258,
     "metadata": {},
     "output_type": "execute_result"
    }
   ],
   "source": [
    "X.shape"
   ]
  },
  {
   "cell_type": "code",
   "execution_count": 262,
   "metadata": {},
   "outputs": [
    {
     "data": {
      "text/plain": [
       "(862, 25)"
      ]
     },
     "execution_count": 262,
     "metadata": {},
     "output_type": "execute_result"
    }
   ],
   "source": [
    "featArr.shape"
   ]
  },
  {
   "cell_type": "code",
   "execution_count": 417,
   "metadata": {},
   "outputs": [
    {
     "name": "stdout",
     "output_type": "stream",
     "text": [
      "0.0\n"
     ]
    }
   ],
   "source": [
    "#SVM classifier\n",
    "from sklearn import svm\n",
    "clf = svm.SVC(kernel='linear', C =1,random_state=20).fit(X_train,y_train)\n",
    "acc_svm = round(clf.score(X_test,y_test)*100,2)\n",
    "print(acc_svm)"
   ]
  },
  {
   "cell_type": "code",
   "execution_count": 418,
   "metadata": {},
   "outputs": [
    {
     "data": {
      "text/plain": [
       "array([3.18309886e-01, 1.17891601e-03, 1.64912048e-03, 2.18878164e-03,\n",
       "       2.42975770e-03, 4.09644841e-05, 2.37125684e-03, 3.60395942e-03,\n",
       "       3.27578179e-03, 3.81207385e-03, 2.25808677e-04, 1.62020531e-03,\n",
       "       2.49921847e-03, 4.95111782e-03, 4.27192095e-03, 1.51189302e-03,\n",
       "       5.35774020e-03, 5.94459781e-04, 1.95083549e-03, 2.71996187e-03,\n",
       "       1.74990523e-03, 6.19998660e-03, 4.86869248e-03, 2.00916603e-03,\n",
       "       4.00282710e-04])"
      ]
     },
     "execution_count": 418,
     "metadata": {},
     "output_type": "execute_result"
    }
   ],
   "source": [
    "jackFeatures['103074']"
   ]
  },
  {
   "cell_type": "code",
   "execution_count": 422,
   "metadata": {},
   "outputs": [
    {
     "data": {
      "text/plain": [
       "array([3.18309886e-01, 1.17866818e-03, 2.60890671e-04, 3.60877642e-03,\n",
       "       2.31850404e-03, 1.59980625e-03, 2.86976016e-04, 5.73657852e-03,\n",
       "       4.40849576e-03, 3.38841091e-03, 2.49632060e-03, 4.06108082e-03,\n",
       "       8.94239474e-05, 7.41287355e-03, 6.15723695e-03, 5.95014278e-03,\n",
       "       4.37242457e-03, 3.48374300e-03, 5.51708859e-03, 4.54197682e-03,\n",
       "       4.21354987e-04, 8.39721932e-03, 7.86042428e-03, 6.68810512e-03,\n",
       "       4.51893635e-03])"
      ]
     },
     "execution_count": 422,
     "metadata": {},
     "output_type": "execute_result"
    }
   ],
   "source": [
    "carFeatures['155129']"
   ]
  },
  {
   "cell_type": "code",
   "execution_count": 423,
   "metadata": {},
   "outputs": [
    {
     "data": {
      "text/plain": [
       "array([False, False, False, False, False, False, False, False, False,\n",
       "       False, False, False, False, False, False, False, False, False,\n",
       "       False, False, False, False, False, False, False])"
      ]
     },
     "execution_count": 423,
     "metadata": {},
     "output_type": "execute_result"
    }
   ],
   "source": [
    "jackFeatures['103074'] == carFeatures['155129']"
   ]
  },
  {
   "cell_type": "code",
   "execution_count": 424,
   "metadata": {},
   "outputs": [
    {
     "data": {
      "text/plain": [
       "array([0.31830989, 0.00103603, 0.0010508 , 0.00089306, 0.00211275,\n",
       "       0.00208511, 0.00167512, 0.00163153, 0.00374957, 0.00325211,\n",
       "       0.00323946, 0.00179449, 0.00217154, 0.00259922, 0.00504566,\n",
       "       0.00564872, 0.00443606, 0.00454141, 0.00282294, 0.00491768,\n",
       "       0.00246541, 0.00391187, 0.00614359, 0.00729712, 0.00410187])"
      ]
     },
     "execution_count": 424,
     "metadata": {},
     "output_type": "execute_result"
    }
   ],
   "source": [
    "drillingFeatures['42324']"
   ]
  },
  {
   "cell_type": "markdown",
   "metadata": {},
   "source": [
    "# The images produced in the above method do not produce good results and cannot be distinguished effectively. We will use converting.io to convert image in its complete time"
   ]
  },
  {
   "cell_type": "markdown",
   "metadata": {},
   "source": [
    "# We will create 10 images for each category of sound, calculate their moments and test for classification"
   ]
  },
  {
   "cell_type": "markdown",
   "metadata": {},
   "source": [
    "# We will create the same zernike moment dataset for 10 drilling images"
   ]
  },
  {
   "cell_type": "code",
   "execution_count": 28,
   "metadata": {},
   "outputs": [],
   "source": [
    "os.chdir('/media/anirudh/New Volume/Anirudh/SNU BLACKBOARD/OUR stuff/UrbanSound/data/drillingpics')"
   ]
  },
  {
   "cell_type": "code",
   "execution_count": 58,
   "metadata": {},
   "outputs": [],
   "source": [
    "drill_moments = np.zeros((10,25))\n",
    "drill_labels = np.zeros(10)"
   ]
  },
  {
   "cell_type": "code",
   "execution_count": 62,
   "metadata": {},
   "outputs": [
    {
     "data": {
      "text/plain": [
       "25"
      ]
     },
     "execution_count": 62,
     "metadata": {},
     "output_type": "execute_result"
    }
   ],
   "source": [
    "len(drill_moments[0])"
   ]
  },
  {
   "cell_type": "code",
   "execution_count": 138,
   "metadata": {},
   "outputs": [],
   "source": [
    "index = 0\n",
    "for path in glob.glob('/media/anirudh/New Volume/Anirudh/SNU BLACKBOARD/OUR stuff/UrbanSound/data/drillingpics' + \n",
    "                      '/*.png'):\n",
    "    imgName = (path.split('/')[-1]).replace(\".png\",\"\")\n",
    "    \n",
    "    #Load the image from the file\n",
    "    image = cv2.imread(path)\n",
    "    \n",
    "    #Convert image from RGB to Gray\n",
    "    image = cv2.cvtColor(image,cv2.COLOR_BGR2GRAY)\n",
    "    \n",
    "    #Pad the image with extra white pixels at the border\n",
    "    #image = cv2.copyMakeBorder(image,15,15,15,15, cv2.BORDER_CONSTANT,value = 255)\n",
    "    \n",
    "    #invert the image and threshold it\n",
    "    thresh = cv2.bitwise_not(image)\n",
    "    \n",
    "    #Initialize the outline image, find the outermost contours(outline) of the image, then draw it\n",
    "    outline = np.zeros(image.shape, np.uint8)\n",
    "    \n",
    "    _,cnts,_ = cv2.findContours(thresh.copy(),cv2.RETR_EXTERNAL, cv2.CHAIN_APPROX_SIMPLE)\n",
    "    cnts = sorted(cnts,key= cv2.contourArea, reverse=True)[0]\n",
    "    cv2.drawContours(outline,[cnts],-1,255,-1)\n",
    "    \n",
    "    #Calculate the moments of the image\n",
    "    moments = desc.describe(thresh)\n",
    "    drill_moments[index] = moments\n",
    "    drill_labels[index] = imgName\n",
    "    index += 1\n",
    "    "
   ]
  },
  {
   "cell_type": "code",
   "execution_count": 139,
   "metadata": {},
   "outputs": [
    {
     "data": {
      "text/plain": [
       "(10,)"
      ]
     },
     "execution_count": 139,
     "metadata": {},
     "output_type": "execute_result"
    }
   ],
   "source": [
    "drill_labels.shape"
   ]
  },
  {
   "cell_type": "code",
   "execution_count": 140,
   "metadata": {},
   "outputs": [
    {
     "data": {
      "text/plain": [
       "array([[3.18309886e-01, 5.61991414e-03, 4.63707860e-02, 4.68272010e-02,\n",
       "        7.56141227e-03, 2.56234869e-03, 1.37696390e-02, 1.02094556e-02,\n",
       "        9.09915607e-03, 5.52167105e-03, 4.70932432e-03, 3.83308038e-03,\n",
       "        1.22279558e-02, 2.10158860e-03, 3.39107998e-03, 8.34847553e-03,\n",
       "        1.01190437e-02, 3.96994277e-03, 2.00681222e-03, 6.12325609e-03,\n",
       "        2.25354775e-03, 1.02685383e-02, 2.36060875e-02, 4.58896403e-03,\n",
       "        1.08426962e-02],\n",
       "       [3.18309886e-01, 2.58630225e-03, 4.40473781e-03, 3.97174576e-03,\n",
       "        4.31024418e-03, 4.27778023e-03, 5.94644424e-03, 4.81064218e-03,\n",
       "        4.41692995e-04, 5.18846992e-03, 5.56855759e-03, 1.01846291e-02,\n",
       "        6.57749286e-03, 4.10150885e-03, 2.63211282e-03, 6.33255310e-03,\n",
       "        6.04913235e-03, 7.21837662e-03, 1.17109495e-02, 6.71392503e-03,\n",
       "        7.28763543e-03, 2.64169469e-03, 5.41782248e-03, 6.06356457e-03,\n",
       "        6.18452487e-03],\n",
       "       [3.18309886e-01, 2.28054554e-03, 1.63057412e-02, 1.54131411e-02,\n",
       "        4.69781537e-03, 2.42795036e-03, 7.99098569e-03, 1.39287425e-02,\n",
       "        1.62890461e-02, 5.44362099e-03, 4.64247165e-03, 4.94380160e-03,\n",
       "        1.76349861e-02, 1.24924915e-02, 7.83714835e-03, 1.67875170e-02,\n",
       "        5.70471494e-03, 3.65924479e-03, 1.02758977e-02, 9.34279630e-03,\n",
       "        2.55320707e-03, 1.21332117e-02, 1.70222629e-02, 3.87248582e-03,\n",
       "        1.09241836e-03],\n",
       "       [3.18309886e-01, 1.14088534e-03, 2.33179440e-03, 1.80005975e-03,\n",
       "        2.34673149e-03, 9.19344028e-04, 3.49647866e-03, 2.97481085e-03,\n",
       "        3.55874481e-03, 3.67447424e-03, 1.33631539e-03, 1.57842923e-03,\n",
       "        4.04579330e-03, 4.10907872e-03, 4.69448606e-03, 9.76558806e-04,\n",
       "        5.16126603e-03, 1.72950973e-03, 2.04930986e-03, 1.02429110e-03,\n",
       "        3.68417399e-03, 5.18235827e-03, 5.46397448e-03, 1.25467146e-03,\n",
       "        1.68817544e-03],\n",
       "       [3.18309886e-01, 4.72800272e-03, 3.32710092e-02, 3.42485533e-02,\n",
       "        5.53873072e-03, 6.95816448e-03, 1.69068091e-02, 1.81789301e-02,\n",
       "        2.36665092e-02, 1.46876508e-03, 3.49515209e-03, 4.08443625e-03,\n",
       "        4.06240534e-03, 1.00854137e-02, 2.55369144e-03, 2.22287601e-02,\n",
       "        6.16591997e-03, 3.35183229e-03, 1.38071746e-03, 4.83023267e-03,\n",
       "        1.28435005e-02, 5.55709655e-03, 1.21943786e-02, 1.15131168e-02,\n",
       "        5.74975153e-03],\n",
       "       [3.18309886e-01, 7.08872646e-04, 2.93633300e-02, 2.92777222e-02,\n",
       "        4.75102767e-03, 2.55277873e-03, 7.15084209e-03, 6.63094645e-03,\n",
       "        3.71081632e-03, 6.36464810e-03, 3.90810612e-03, 7.90681893e-03,\n",
       "        5.86538674e-04, 5.63284233e-03, 9.03852605e-03, 2.59055280e-03,\n",
       "        4.05867283e-03, 7.55430544e-03, 1.21313073e-02, 1.01828237e-02,\n",
       "        1.06181852e-02, 1.37251247e-03, 1.03080231e-02, 1.26670831e-02,\n",
       "        1.03715189e-02],\n",
       "       [3.18309886e-01, 1.10110599e-03, 2.42095627e-04, 2.76367446e-03,\n",
       "        2.22004371e-03, 2.76803168e-03, 1.94555819e-04, 4.31193691e-03,\n",
       "        6.09701516e-03, 3.37227834e-03, 4.17924731e-03, 4.38694832e-03,\n",
       "        1.62908187e-04, 5.38202559e-03, 8.59146391e-03, 8.44881468e-03,\n",
       "        4.56780691e-03, 5.61131629e-03, 5.94071473e-03, 5.99074973e-03,\n",
       "        9.44115610e-04, 5.72200103e-03, 1.11022120e-02, 9.40865378e-03,\n",
       "        6.07710615e-03],\n",
       "       [3.18309886e-01, 1.19749822e-02, 4.34159189e-02, 4.22442423e-02,\n",
       "        5.80059957e-03, 1.12531128e-02, 2.44247714e-03, 2.22130145e-03,\n",
       "        7.49979595e-03, 8.62941750e-03, 1.44019014e-02, 8.11487295e-03,\n",
       "        9.12519813e-04, 1.07908512e-02, 6.57653149e-03, 6.78310543e-03,\n",
       "        9.39151815e-03, 1.05285324e-03, 1.09006395e-02, 1.19515915e-02,\n",
       "        7.18712135e-03, 3.78927968e-03, 3.83374355e-03, 9.40017099e-03,\n",
       "        6.22300679e-03],\n",
       "       [3.18309886e-01, 3.98600514e-03, 3.34384358e-02, 4.27969409e-02,\n",
       "        5.42340523e-03, 6.47394101e-03, 2.76192576e-02, 2.25966595e-02,\n",
       "        3.23711313e-02, 5.46566342e-03, 4.56593898e-03, 1.15683773e-03,\n",
       "        8.42415321e-03, 1.90046405e-02, 2.15507712e-03, 2.48523453e-02,\n",
       "        2.55327701e-03, 3.13477593e-03, 6.53947533e-03, 1.52926133e-03,\n",
       "        1.25677716e-02, 4.85871903e-03, 1.43237758e-02, 1.83184277e-02,\n",
       "        9.73875339e-03],\n",
       "       [3.18309886e-01, 1.94243626e-03, 8.27788325e-04, 1.90320199e-03,\n",
       "        3.91023356e-03, 1.79206225e-03, 9.21258783e-04, 2.95585790e-03,\n",
       "        4.15402544e-03, 5.93764526e-03, 2.44338814e-03, 1.73868613e-03,\n",
       "        3.61961797e-04, 3.73833328e-03, 5.63383444e-03, 3.49871445e-03,\n",
       "        8.05737842e-03, 2.89626338e-03, 2.21716675e-03, 6.50685641e-03,\n",
       "        1.05455164e-03, 4.22912135e-03, 6.83917713e-03, 4.21990155e-03,\n",
       "        4.20295552e-03]])"
      ]
     },
     "execution_count": 140,
     "metadata": {},
     "output_type": "execute_result"
    }
   ],
   "source": [
    "drill_moments"
   ]
  },
  {
   "cell_type": "markdown",
   "metadata": {},
   "source": [
    "# We will create the same zernike moment dataset for 13 car_horn images"
   ]
  },
  {
   "cell_type": "code",
   "execution_count": 141,
   "metadata": {},
   "outputs": [],
   "source": [
    "os.chdir('/media/anirudh/New Volume/Anirudh/SNU BLACKBOARD/OUR stuff/UrbanSound/data/car_horn_pics')"
   ]
  },
  {
   "cell_type": "code",
   "execution_count": 142,
   "metadata": {},
   "outputs": [],
   "source": [
    "car_moments = np.zeros((13,25))\n",
    "car_labels = np.zeros(13)"
   ]
  },
  {
   "cell_type": "code",
   "execution_count": 175,
   "metadata": {},
   "outputs": [],
   "source": [
    "index = 0\n",
    "for path in glob.glob('/media/anirudh/New Volume/Anirudh/SNU BLACKBOARD/OUR stuff/UrbanSound/data/car_horn_pics' + \n",
    "                      '/*.png'):\n",
    "    imgName = (path.split('/')[-1]).replace(\".png\",\"\")\n",
    "    \n",
    "    #Load the image from the file\n",
    "    image = cv2.imread(path)\n",
    "    \n",
    "    #Convert image from RGB to Gray\n",
    "    image = cv2.cvtColor(image,cv2.COLOR_BGR2GRAY)\n",
    "    \n",
    "    #Pad the image with extra white pixels at the border\n",
    "    #image = cv2.copyMakeBorder(image,15,15,15,15, cv2.BORDER_CONSTANT,value = 255)\n",
    "    \n",
    "    #invert the image and threshold it\n",
    "    thresh = cv2.bitwise_not(image)\n",
    "    \n",
    "    #Initialize the outline image, find the outermost contours(outline) of the image, then draw it\n",
    "    outline = np.zeros(image.shape, np.uint8)\n",
    "    \n",
    "    _,cnts,_ = cv2.findContours(thresh.copy(),cv2.RETR_EXTERNAL, cv2.CHAIN_APPROX_SIMPLE)\n",
    "    cnts = sorted(cnts,key= cv2.contourArea, reverse=True)[0]\n",
    "    cv2.drawContours(outline,[cnts],-1,255,-1)\n",
    "    \n",
    "    #Calculate the moments of the image\n",
    "    moments = desc.describe(thresh)\n",
    "    car_moments[index] = moments\n",
    "    car_labels[index] = imgName\n",
    "    index += 1\n",
    "    "
   ]
  },
  {
   "cell_type": "code",
   "execution_count": 176,
   "metadata": {},
   "outputs": [
    {
     "data": {
      "text/plain": [
       "(13,)"
      ]
     },
     "execution_count": 176,
     "metadata": {},
     "output_type": "execute_result"
    }
   ],
   "source": [
    "car_labels.shape"
   ]
  },
  {
   "cell_type": "code",
   "execution_count": 177,
   "metadata": {},
   "outputs": [
    {
     "data": {
      "text/plain": [
       "(13, 25)"
      ]
     },
     "execution_count": 177,
     "metadata": {},
     "output_type": "execute_result"
    }
   ],
   "source": [
    "car_moments.shape"
   ]
  },
  {
   "cell_type": "markdown",
   "metadata": {},
   "source": [
    "# Test if classification works on the combination of drilling and car_horn images"
   ]
  },
  {
   "cell_type": "code",
   "execution_count": 178,
   "metadata": {},
   "outputs": [
    {
     "data": {
      "text/plain": [
       "(23, 25)"
      ]
     },
     "execution_count": 178,
     "metadata": {},
     "output_type": "execute_result"
    }
   ],
   "source": [
    "np.concatenate((drill_moments,car_moments),axis = 0).shape"
   ]
  },
  {
   "cell_type": "code",
   "execution_count": 179,
   "metadata": {},
   "outputs": [
    {
     "data": {
      "text/plain": [
       "(23,)"
      ]
     },
     "execution_count": 179,
     "metadata": {},
     "output_type": "execute_result"
    }
   ],
   "source": [
    "np.concatenate((drill_labels,car_labels),axis = 0).shape"
   ]
  },
  {
   "cell_type": "code",
   "execution_count": 180,
   "metadata": {},
   "outputs": [],
   "source": [
    "comb_moments = np.zeros(np.concatenate((drill_moments,car_moments),axis = 0).shape)"
   ]
  },
  {
   "cell_type": "code",
   "execution_count": 181,
   "metadata": {},
   "outputs": [
    {
     "data": {
      "text/plain": [
       "(23, 25)"
      ]
     },
     "execution_count": 181,
     "metadata": {},
     "output_type": "execute_result"
    }
   ],
   "source": [
    "comb_moments.shape"
   ]
  },
  {
   "cell_type": "code",
   "execution_count": 182,
   "metadata": {},
   "outputs": [],
   "source": [
    "comb_labels = np.zeros(np.concatenate((drill_labels,car_labels),axis = 0).shape)"
   ]
  },
  {
   "cell_type": "code",
   "execution_count": 183,
   "metadata": {},
   "outputs": [
    {
     "data": {
      "text/plain": [
       "(23,)"
      ]
     },
     "execution_count": 183,
     "metadata": {},
     "output_type": "execute_result"
    }
   ],
   "source": [
    "comb_labels.shape"
   ]
  },
  {
   "cell_type": "code",
   "execution_count": 184,
   "metadata": {},
   "outputs": [],
   "source": [
    "comb_moments = np.concatenate((drill_moments,car_moments),axis = 0)"
   ]
  },
  {
   "cell_type": "code",
   "execution_count": 185,
   "metadata": {},
   "outputs": [
    {
     "data": {
      "text/plain": [
       "(23, 25)"
      ]
     },
     "execution_count": 185,
     "metadata": {},
     "output_type": "execute_result"
    }
   ],
   "source": [
    "comb_moments.shape"
   ]
  },
  {
   "cell_type": "code",
   "execution_count": 186,
   "metadata": {},
   "outputs": [],
   "source": [
    "comb_labels = np.concatenate((drill_labels,car_labels),axis = 0)"
   ]
  },
  {
   "cell_type": "code",
   "execution_count": 187,
   "metadata": {},
   "outputs": [
    {
     "data": {
      "text/plain": [
       "(23,)"
      ]
     },
     "execution_count": 187,
     "metadata": {},
     "output_type": "execute_result"
    }
   ],
   "source": [
    "comb_labels.shape"
   ]
  },
  {
   "cell_type": "code",
   "execution_count": 188,
   "metadata": {},
   "outputs": [
    {
     "data": {
      "text/plain": [
       "array([14110., 14111., 14113., 14114., 14115., 17913., 19007., 29721.,\n",
       "       29722.,   518., 24076., 26176., 26177., 26185., 30204., 35382.,\n",
       "       47160., 50901., 56385., 57320., 60846., 62461., 63724.])"
      ]
     },
     "execution_count": 188,
     "metadata": {},
     "output_type": "execute_result"
    }
   ],
   "source": [
    "comb_labels"
   ]
  },
  {
   "cell_type": "code",
   "execution_count": 189,
   "metadata": {},
   "outputs": [],
   "source": [
    "from sklearn.model_selection import train_test_split\n",
    "X_train, X_test, y_train, y_test = train_test_split(comb_moments,comb_labels)"
   ]
  },
  {
   "cell_type": "code",
   "execution_count": 190,
   "metadata": {},
   "outputs": [
    {
     "data": {
      "text/plain": [
       "(17, 25)"
      ]
     },
     "execution_count": 190,
     "metadata": {},
     "output_type": "execute_result"
    }
   ],
   "source": [
    "X_train.shape"
   ]
  },
  {
   "cell_type": "code",
   "execution_count": 191,
   "metadata": {},
   "outputs": [
    {
     "data": {
      "text/plain": [
       "(6, 25)"
      ]
     },
     "execution_count": 191,
     "metadata": {},
     "output_type": "execute_result"
    }
   ],
   "source": [
    "X_test.shape"
   ]
  },
  {
   "cell_type": "code",
   "execution_count": 192,
   "metadata": {},
   "outputs": [
    {
     "data": {
      "text/plain": [
       "(17,)"
      ]
     },
     "execution_count": 192,
     "metadata": {},
     "output_type": "execute_result"
    }
   ],
   "source": [
    "y_train.shape"
   ]
  },
  {
   "cell_type": "code",
   "execution_count": 193,
   "metadata": {},
   "outputs": [
    {
     "data": {
      "text/plain": [
       "(6,)"
      ]
     },
     "execution_count": 193,
     "metadata": {},
     "output_type": "execute_result"
    }
   ],
   "source": [
    "y_test.shape"
   ]
  },
  {
   "cell_type": "code",
   "execution_count": 194,
   "metadata": {},
   "outputs": [
    {
     "name": "stdout",
     "output_type": "stream",
     "text": [
      "0.0\n"
     ]
    }
   ],
   "source": [
    "#SVM classifier\n",
    "from sklearn import svm\n",
    "clf = svm.SVC(kernel='linear', C =1,random_state=20).fit(X_train,y_train)\n",
    "acc_svm = round(clf.score(X_test,y_test)*100,2)\n",
    "print(acc_svm)"
   ]
  },
  {
   "cell_type": "code",
   "execution_count": 195,
   "metadata": {},
   "outputs": [
    {
     "data": {
      "text/plain": [
       "KNeighborsClassifier(algorithm='auto', leaf_size=30, metric='minkowski',\n",
       "           metric_params=None, n_jobs=1, n_neighbors=3, p=2,\n",
       "           weights='uniform')"
      ]
     },
     "execution_count": 195,
     "metadata": {},
     "output_type": "execute_result"
    }
   ],
   "source": [
    "from sklearn.neighbors import KNeighborsClassifier\n",
    "neigh = KNeighborsClassifier(n_neighbors = 3)\n",
    "neigh.fit(X_train,y_train)"
   ]
  },
  {
   "cell_type": "code",
   "execution_count": 196,
   "metadata": {},
   "outputs": [
    {
     "data": {
      "text/plain": [
       "0.0"
      ]
     },
     "execution_count": 196,
     "metadata": {},
     "output_type": "execute_result"
    }
   ],
   "source": [
    "acc_knn = round(neigh.score(X_test,y_test)*100,2)\n",
    "acc_knn"
   ]
  },
  {
   "cell_type": "code",
   "execution_count": 197,
   "metadata": {},
   "outputs": [
    {
     "data": {
      "text/plain": [
       "0.0"
      ]
     },
     "execution_count": 197,
     "metadata": {},
     "output_type": "execute_result"
    }
   ],
   "source": [
    "neigh2 = KNeighborsClassifier(n_neighbors= 5)\n",
    "neigh2.fit(X_train,y_train).score(X_test,y_test)\n",
    "acc_knn5 =  round(neigh2.score(X_test,y_test)*100,2)\n",
    "acc_knn5"
   ]
  },
  {
   "cell_type": "code",
   "execution_count": 198,
   "metadata": {},
   "outputs": [
    {
     "data": {
      "text/plain": [
       "0.0"
      ]
     },
     "execution_count": 198,
     "metadata": {},
     "output_type": "execute_result"
    }
   ],
   "source": [
    "#GaussianNB\n",
    "from sklearn.naive_bayes import GaussianNB\n",
    "\n",
    "gaussian = GaussianNB()\n",
    "gaussian.fit(X_train,y_train)\n",
    "y_pred = gaussian.predict(X_test)\n",
    "acc_gaussian = gaussian.score(X_test,y_test)*100\n",
    "acc_gaussian"
   ]
  },
  {
   "cell_type": "code",
   "execution_count": 199,
   "metadata": {},
   "outputs": [
    {
     "data": {
      "text/plain": [
       "0.0"
      ]
     },
     "execution_count": 199,
     "metadata": {},
     "output_type": "execute_result"
    }
   ],
   "source": [
    "#GaussianProcessClassifier\n",
    "from sklearn.gaussian_process import GaussianProcessClassifier\n",
    "\n",
    "gau_pro = GaussianProcessClassifier()\n",
    "gau_pro.fit(X_train,y_train)\n",
    "y_pred = gau_pro.predict(X_test)\n",
    "acc_gau_pro = gau_pro.score(X_test,y_test)*100\n",
    "acc_gau_pro"
   ]
  },
  {
   "cell_type": "code",
   "execution_count": 200,
   "metadata": {},
   "outputs": [
    {
     "name": "stderr",
     "output_type": "stream",
     "text": [
      "/home/anirudh/yes/envs/tensorflow/lib/python3.6/site-packages/sklearn/linear_model/stochastic_gradient.py:128: FutureWarning: max_iter and tol parameters have been added in <class 'sklearn.linear_model.stochastic_gradient.SGDClassifier'> in 0.19. If both are left unset, they default to max_iter=5 and tol=None. If tol is not None, max_iter defaults to max_iter=1000. From 0.21, default max_iter will be 1000, and default tol will be 1e-3.\n",
      "  \"and default tol will be 1e-3.\" % type(self), FutureWarning)\n"
     ]
    },
    {
     "data": {
      "text/plain": [
       "0.0"
      ]
     },
     "execution_count": 200,
     "metadata": {},
     "output_type": "execute_result"
    }
   ],
   "source": [
    "# Stochastic Gradient Descent\n",
    "\n",
    "from sklearn.linear_model import SGDClassifier\n",
    "\n",
    "sgd = SGDClassifier(random_state=0)\n",
    "sgd.fit(X_train,y_train)\n",
    "acc_sgd = round(sgd.score(X_test,y_test)*100,2)\n",
    "acc_sgd"
   ]
  },
  {
   "cell_type": "code",
   "execution_count": 201,
   "metadata": {},
   "outputs": [
    {
     "name": "stderr",
     "output_type": "stream",
     "text": [
      "/home/anirudh/yes/envs/tensorflow/lib/python3.6/site-packages/sklearn/linear_model/stochastic_gradient.py:128: FutureWarning: max_iter and tol parameters have been added in <class 'sklearn.linear_model.perceptron.Perceptron'> in 0.19. If both are left unset, they default to max_iter=5 and tol=None. If tol is not None, max_iter defaults to max_iter=1000. From 0.21, default max_iter will be 1000, and default tol will be 1e-3.\n",
      "  \"and default tol will be 1e-3.\" % type(self), FutureWarning)\n"
     ]
    },
    {
     "data": {
      "text/plain": [
       "16.67"
      ]
     },
     "execution_count": 201,
     "metadata": {},
     "output_type": "execute_result"
    }
   ],
   "source": [
    "# Perceptron\n",
    "from sklearn.linear_model import Perceptron\n",
    "\n",
    "perceptron = Perceptron(random_state = 0)\n",
    "perceptron.fit(X_test,y_test)\n",
    "acc_perceptron = round(perceptron.score(X_test,y_test)*100,2)\n",
    "acc_perceptron"
   ]
  },
  {
   "cell_type": "code",
   "execution_count": 202,
   "metadata": {},
   "outputs": [
    {
     "data": {
      "text/plain": [
       "0.0"
      ]
     },
     "execution_count": 202,
     "metadata": {},
     "output_type": "execute_result"
    }
   ],
   "source": [
    "#Logistic regression\n",
    "from sklearn.linear_model import LogisticRegression\n",
    "\n",
    "logreg = LogisticRegression(random_state = 0)\n",
    "logreg.fit(X_train,y_train)\n",
    "acc_logreg = round(logreg.score(X_test,y_test)*100,2)\n",
    "acc_logreg\n"
   ]
  },
  {
   "cell_type": "code",
   "execution_count": 203,
   "metadata": {},
   "outputs": [
    {
     "data": {
      "text/plain": [
       "0.0"
      ]
     },
     "execution_count": 203,
     "metadata": {},
     "output_type": "execute_result"
    }
   ],
   "source": [
    "#Random Forest classifier\n",
    "from sklearn.ensemble import RandomForestClassifier\n",
    "\n",
    "random_forest = RandomForestClassifier(random_state=0)\n",
    "random_forest.fit(X_train,y_train)\n",
    "acc_rand = round(random_forest.score(X_test,y_test)*100,2)\n",
    "acc_rand"
   ]
  },
  {
   "cell_type": "code",
   "execution_count": 204,
   "metadata": {},
   "outputs": [
    {
     "data": {
      "text/plain": [
       "0.0"
      ]
     },
     "execution_count": 204,
     "metadata": {},
     "output_type": "execute_result"
    }
   ],
   "source": [
    "#Decision tree classifier\n",
    "from sklearn.tree import DecisionTreeClassifier\n",
    "\n",
    "dec_tree = DecisionTreeClassifier(random_state = 20)\n",
    "dec_tree.fit(X_train,y_train)\n",
    "acc_dec = round(dec_tree.score(X_test,y_test)*100,2)\n",
    "acc_dec"
   ]
  },
  {
   "cell_type": "code",
   "execution_count": 205,
   "metadata": {},
   "outputs": [
    {
     "name": "stderr",
     "output_type": "stream",
     "text": [
      "/home/anirudh/yes/envs/tensorflow/lib/python3.6/site-packages/sklearn/neural_network/multilayer_perceptron.py:564: ConvergenceWarning: Stochastic Optimizer: Maximum iterations (200) reached and the optimization hasn't converged yet.\n",
      "  % self.max_iter, ConvergenceWarning)\n"
     ]
    },
    {
     "data": {
      "text/plain": [
       "0.0"
      ]
     },
     "execution_count": 205,
     "metadata": {},
     "output_type": "execute_result"
    }
   ],
   "source": [
    "#MLP classifier\n",
    "from sklearn.neural_network import MLPClassifier\n",
    "\n",
    "mlp = MLPClassifier(random_state=0)\n",
    "mlp.fit(X_train,y_train)\n",
    "acc_mlp = round(mlp.score(X_test,y_test)*100,2)\n",
    "acc_mlp"
   ]
  },
  {
   "cell_type": "code",
   "execution_count": 206,
   "metadata": {},
   "outputs": [
    {
     "data": {
      "text/plain": [
       "0.0"
      ]
     },
     "execution_count": 206,
     "metadata": {},
     "output_type": "execute_result"
    }
   ],
   "source": [
    "#ADAboost classifier\n",
    "\n",
    "from sklearn.ensemble import AdaBoostClassifier\n",
    "\n",
    "ada = AdaBoostClassifier(random_state=0)\n",
    "ada.fit(X_train,y_train)\n",
    "acc_ada = round(ada.score(X_test,y_test)*100,2)\n",
    "acc_ada"
   ]
  },
  {
   "cell_type": "markdown",
   "metadata": {},
   "source": [
    "# Try classification on a simple dataset"
   ]
  },
  {
   "cell_type": "code",
   "execution_count": 135,
   "metadata": {},
   "outputs": [
    {
     "data": {
      "text/plain": [
       "(150,)"
      ]
     },
     "execution_count": 135,
     "metadata": {},
     "output_type": "execute_result"
    }
   ],
   "source": [
    "from sklearn import datasets\n",
    "iris = datasets.load_iris()\n",
    "iris.data.shape\n",
    "iris.target.shape"
   ]
  },
  {
   "cell_type": "code",
   "execution_count": 136,
   "metadata": {},
   "outputs": [],
   "source": [
    "X_train,X_test,y_train,y_test = train_test_split(iris.data,iris.target,test_size = 0.4,random_state = 0)\n",
    "clf = svm.SVC(kernel='linear', C =1).fit(X_train,y_train)"
   ]
  },
  {
   "cell_type": "code",
   "execution_count": 137,
   "metadata": {},
   "outputs": [
    {
     "name": "stdout",
     "output_type": "stream",
     "text": [
      "96.67\n"
     ]
    }
   ],
   "source": [
    "acc_svm = round(clf.score(X_test,y_test)*100,2)\n",
    "print(acc_svm)"
   ]
  },
  {
   "cell_type": "code",
   "execution_count": 209,
   "metadata": {},
   "outputs": [
    {
     "data": {
      "text/plain": [
       "array([[5.1, 3.5, 1.4, 0.2],\n",
       "       [4.9, 3. , 1.4, 0.2],\n",
       "       [4.7, 3.2, 1.3, 0.2],\n",
       "       [4.6, 3.1, 1.5, 0.2],\n",
       "       [5. , 3.6, 1.4, 0.2],\n",
       "       [5.4, 3.9, 1.7, 0.4],\n",
       "       [4.6, 3.4, 1.4, 0.3],\n",
       "       [5. , 3.4, 1.5, 0.2],\n",
       "       [4.4, 2.9, 1.4, 0.2],\n",
       "       [4.9, 3.1, 1.5, 0.1],\n",
       "       [5.4, 3.7, 1.5, 0.2],\n",
       "       [4.8, 3.4, 1.6, 0.2],\n",
       "       [4.8, 3. , 1.4, 0.1],\n",
       "       [4.3, 3. , 1.1, 0.1],\n",
       "       [5.8, 4. , 1.2, 0.2],\n",
       "       [5.7, 4.4, 1.5, 0.4],\n",
       "       [5.4, 3.9, 1.3, 0.4],\n",
       "       [5.1, 3.5, 1.4, 0.3],\n",
       "       [5.7, 3.8, 1.7, 0.3],\n",
       "       [5.1, 3.8, 1.5, 0.3]])"
      ]
     },
     "execution_count": 209,
     "metadata": {},
     "output_type": "execute_result"
    }
   ],
   "source": [
    "iris.data[0:20]"
   ]
  },
  {
   "cell_type": "code",
   "execution_count": null,
   "metadata": {},
   "outputs": [],
   "source": []
  }
 ],
 "metadata": {
  "kernelspec": {
   "display_name": "Python 3",
   "language": "python",
   "name": "python3"
  },
  "language_info": {
   "codemirror_mode": {
    "name": "ipython",
    "version": 3
   },
   "file_extension": ".py",
   "mimetype": "text/x-python",
   "name": "python",
   "nbconvert_exporter": "python",
   "pygments_lexer": "ipython3",
   "version": "3.6.4"
  }
 },
 "nbformat": 4,
 "nbformat_minor": 2
}
