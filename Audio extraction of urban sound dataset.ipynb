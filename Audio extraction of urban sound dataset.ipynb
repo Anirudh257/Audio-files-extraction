{
 "cells": [
  {
   "cell_type": "code",
   "execution_count": 1,
   "metadata": {},
   "outputs": [
    {
     "name": "stderr",
     "output_type": "stream",
     "text": [
      "/home/anirudh/yes/envs/tensorflow/lib/python3.6/importlib/_bootstrap.py:219: RuntimeWarning: compiletime version 3.5 of module 'tensorflow.python.framework.fast_tensor_util' does not match runtime version 3.6\n",
      "  return f(*args, **kwds)\n",
      "/home/anirudh/yes/envs/tensorflow/lib/python3.6/site-packages/h5py/__init__.py:36: FutureWarning: Conversion of the second argument of issubdtype from `float` to `np.floating` is deprecated. In future, it will be treated as `np.float64 == np.dtype(float).type`.\n",
      "  from ._conv import register_converters as _register_converters\n"
     ]
    }
   ],
   "source": [
    "import glob\n",
    "import os\n",
    "import librosa\n",
    "import numpy as np\n",
    "import matplotlib.pyplot as plt\n",
    "import tensorflow as tf\n",
    "from matplotlib.pyplot import specgram\n",
    "%matplotlib inline"
   ]
  },
  {
   "cell_type": "code",
   "execution_count": 2,
   "metadata": {},
   "outputs": [],
   "source": [
    "from matplotlib.pyplot import specgram"
   ]
  },
  {
   "cell_type": "code",
   "execution_count": 3,
   "metadata": {},
   "outputs": [],
   "source": [
    "os.chdir(\"/media/anirudh/New Volume/Anirudh/SNU BLACKBOARD/OUR stuff/UrbanSound8K/audio/fold1\")"
   ]
  },
  {
   "cell_type": "code",
   "execution_count": 4,
   "metadata": {},
   "outputs": [],
   "source": [
    "def load_sound_files(file_paths):\n",
    "    raw_sounds = []\n",
    "    for fp in file_paths:\n",
    "        #load the file\n",
    "        X,sr = librosa.load(fp)\n",
    "        raw_sounds.append(X)\n",
    "    return raw_sounds"
   ]
  },
  {
   "cell_type": "code",
   "execution_count": 5,
   "metadata": {},
   "outputs": [],
   "source": [
    "def plot_specgram(sound_names, raw_sounds):\n",
    "    i = 1\n",
    "    fig = plt.figure(figsize=(25,60), dpi=900)\n",
    "    for n,f in zip(sound_names,raw_sounds):\n",
    "        plt.subplot(10,1,i)\n",
    "        specgram(np.array(f),Fs =22050)\n",
    "        plt.title(n.title())\n",
    "        i += 1\n",
    "    plt.suptitle(\"Figure 2: Spectogram\", x = 0.5, y = 0.915, fontsize = 18)\n",
    "    plt.show()"
   ]
  },
  {
   "cell_type": "code",
   "execution_count": 6,
   "metadata": {},
   "outputs": [],
   "source": [
    "def plot_waves(sound_names, raw_sounds):\n",
    "    i = 1\n",
    "    fig = plt.figure(figsize=(25,60), dpi=900)\n",
    "    for n,f in zip(sound_names,raw_sounds):\n",
    "        plt.subplot(10,1,i)\n",
    "        librosa.display.waveplot(np.array(f), sr = 22050)\n",
    "        plt.title(n.title())\n",
    "        i += 1\n",
    "    plt.suptitle(\"Figure 1: Waveplot\",x = 0.5, y = 0.915, fontsize = 18)\n",
    "    plt.show()\n",
    "    "
   ]
  },
  {
   "cell_type": "code",
   "execution_count": 7,
   "metadata": {},
   "outputs": [],
   "source": [
    "def plot_log_power_specgram(sound_names,raw_sounds):\n",
    "    i = 1\n",
    "    fig = plt.figure(figsize=(25,60),dpi = 900)\n",
    "    for n,f in zip(sound_names, raw_sounds):\n",
    "        plt.subplot(10,1,i)\n",
    "        D = librosa.logamplitude(np.abs(librosa.stft(f))**2, ref_power=np.max)\n",
    "        librosa.display.specshow(D,x_axis = 'time',y_axis = 'log')\n",
    "        plt.title(n.title())\n",
    "        i += 1\n",
    "    plt.suptitle(\"Figure 3: Log power spectogram\", x = 0.5, y = 0.915, fontsize = 18)\n",
    "    plt.show()"
   ]
  },
  {
   "cell_type": "code",
   "execution_count": 8,
   "metadata": {},
   "outputs": [],
   "source": [
    "sound_file_paths = [\"57320-0-0-7.wav\",\"24074-1-0-3.wav\",\"15564-2-0-1.wav\",\"31323-3-0-1.wav\",\"46669-4-0-35.wav\",\n",
    "                   \"89948-5-0-0.wav\",\"40722-8-0-4.wav\",\"103074-7-3-2.wav\",\"106905-8-0-0.wav\",\"108041-9-0-4.wav\"]\n",
    "\n",
    "sound_names = [\"air conditioner\",\"car horn\",\"children playing\",\"dog bark\",\"drilling\",\"engine idling\",\"gun shot\",\n",
    "              \"jackhammer\",\"siren\",\"street music\"]\n",
    "\n",
    "raw_sounds = load_sound_files(sound_file_paths)"
   ]
  },
  {
   "cell_type": "markdown",
   "metadata": {},
   "source": [
    "Passing only a part of the raw_sounds list as it is very huge"
   ]
  },
  {
   "cell_type": "code",
   "execution_count": 12,
   "metadata": {},
   "outputs": [
    {
     "data": {
      "text/plain": [
       "(44,)"
      ]
     },
     "execution_count": 12,
     "metadata": {},
     "output_type": "execute_result"
    }
   ],
   "source": [
    "sub_raw = raw_sounds[0][0:44100]\n",
    "raw_sounds[0].shape\n",
    "raw_sounds[0][0:44].shape"
   ]
  },
  {
   "cell_type": "code",
   "execution_count": null,
   "metadata": {},
   "outputs": [],
   "source": [
    "plot_waves(sound_names,sub_raw)\n",
    "plot_specgram(sound_names,sub_raw)\n",
    "plot_log_power_specgram(sound_names,sub_raw)"
   ]
  },
  {
   "cell_type": "markdown",
   "metadata": {},
   "source": [
    "# We will now start extracting features:\n",
    "\n",
    "The features of our interest will be:\n",
    "\n",
    "        1) melspectogram: Compute a Mel-scaled power spectogram\n",
    "       \n",
    "        2) mfcc: Mel-frequency cepstral coefficients\n",
    "        \n",
    "        3) chorma-stf: Compute a chromagram form a waveform or power spectogram\n",
    "        \n",
    "        4) spectral_constrast: compute a spectral contrast \n",
    "        \n",
    "        5) tonnetz: computes the tonal centroid features(tonnetz)"
   ]
  },
  {
   "cell_type": "code",
   "execution_count": 32,
   "metadata": {
    "collapsed": true
   },
   "outputs": [],
   "source": [
    "def extract_feature(file_name):\n",
    "    X, sample_rate = librosa.load(file_name)\n",
    "    stft = np.abs(librosa.stft(X))\n",
    "    mfccs = np.mean(librosa.feature.mfcc(y = X, sr = sample_rate,n_mfcc = 40).T,axis = 0)\n",
    "    chroma = np.mean(librosa.feature.melspectogram(X,sr = sample_rate).T,axis=0)\n",
    "    mel = np.mean(librosa.feature.melspectogram(X, sr = sample_rate).T, axis = 0)\n",
    "    contrast = np.mean(librosa.feature.spectral_contrast(S = stft, sr =sample_rate).T, axis = 0)\n",
    "    tonnetz = np.mean(librosa.feature.tonnetz(y = librosa.effects.harmonic(X),sr =sample_rate).T,axis = 0)\n",
    "    return mfccs,chroma,mel,contrast,tonnetz"
   ]
  },
  {
   "cell_type": "code",
   "execution_count": 33,
   "metadata": {
    "collapsed": true
   },
   "outputs": [],
   "source": [
    "def parse_audio_files(parent_dir, sub_dirs, file_ext = \"*.wav\"):\n",
    "    features,labels = np.empty((0,193)),np.empty(0)\n",
    "    for label, sub_dir in enumerate(sub_dirs):\n",
    "        for fn in glob.glob(os.path.join(parent_dir,sub_dir,file_ext)):\n",
    "            try:\n",
    "                mfccs, chroma,mel,contrast,tonnetz = extract_feature(fn)\n",
    "            except Exception as e:\n",
    "                print(\"Error encountered while parsing files:\",fn)\n",
    "                continue\n",
    "            ext_features = np.hstack([mfccs,chroma,mel,contrast,tonnetz])\n",
    "            features = np.vstack([features,ext_features])\n",
    "            labels = np.append(labels,fn.split('/')[2].split('-')[1])\n",
    "    return np.array(features),np.array(labels,dtype = np.int)"
   ]
  },
  {
   "cell_type": "code",
   "execution_count": 40,
   "metadata": {},
   "outputs": [],
   "source": [
    "features, labels = np.empty((0,193)),np.empty(0)\n",
    "for label, sub_dir in enumerate(tr_sub_dirs):\n",
    "    for fn in glob.glob(os.path.join(parent_dir,sub_dir,\"*.wav\")):\n",
    "        mfccs,chroma, mel, contrast, tonnetz = extract_feature(fn)\n",
    "        ext_features = np.hstack([mfccs,chroma,mel,contrast,tonnetz])\n",
    "        features = np.vstack([features,ext_features])\n",
    "        labels ="
   ]
  },
  {
   "cell_type": "code",
   "execution_count": 39,
   "metadata": {
    "collapsed": true
   },
   "outputs": [],
   "source": [
    "def one_hot_encode(labels):\n",
    "    n_labels = len(labels)\n",
    "    n_unique_labels = len(np.unique(labels))\n",
    "    one_hot_encode = np.zeros((n_labels,n_unique_labels))\n",
    "    one_hot_encode[np.arange(n_labels),labels] = 1\n",
    "    return one_hot_encode"
   ]
  },
  {
   "cell_type": "code",
   "execution_count": 41,
   "metadata": {},
   "outputs": [],
   "source": [
    "parent_dir = 'audio'\n",
    "tr_sub_dirs = [\"fold1\",\"fold2\"]\n",
    "ts_sub_dirs = [\"fold3\"]\n",
    "tr_features, tr_labels = parse_audio_files(parent_dir,tr_sub_dirs)\n",
    "ts_features, ts_labels = parse_audio_files(parent_dir, ts_sub_dirs)\n",
    "\n",
    "tr_labels = one_hot_encode(tr_labels)\n",
    "ts_labels = one_hot_encode(ts_labels)"
   ]
  },
  {
   "cell_type": "code",
   "execution_count": 43,
   "metadata": {},
   "outputs": [
    {
     "data": {
      "text/plain": [
       "array([], shape=(0, 0), dtype=float64)"
      ]
     },
     "execution_count": 43,
     "metadata": {},
     "output_type": "execute_result"
    }
   ],
   "source": [
    "tr_labels"
   ]
  },
  {
   "cell_type": "code",
   "execution_count": null,
   "metadata": {
    "collapsed": true
   },
   "outputs": [],
   "source": [
    "features, labels = np.empty"
   ]
  },
  {
   "cell_type": "code",
   "execution_count": null,
   "metadata": {},
   "outputs": [],
   "source": [
    "tr_features"
   ]
  },
  {
   "cell_type": "code",
   "execution_count": 31,
   "metadata": {},
   "outputs": [
    {
     "name": "stdout",
     "output_type": "stream",
     "text": [
      "ls: cannot access '/home/anirudh/notebook/logs': No such file or directory\r\n"
     ]
    }
   ],
   "source": [
    "\n"
   ]
  },
  {
   "cell_type": "code",
   "execution_count": null,
   "metadata": {
    "collapsed": true
   },
   "outputs": [],
   "source": []
  }
 ],
 "metadata": {
  "kernelspec": {
   "display_name": "Python 3",
   "language": "python",
   "name": "python3"
  },
  "language_info": {
   "codemirror_mode": {
    "name": "ipython",
    "version": 3
   },
   "file_extension": ".py",
   "mimetype": "text/x-python",
   "name": "python",
   "nbconvert_exporter": "python",
   "pygments_lexer": "ipython3",
   "version": "3.6.4"
  }
 },
 "nbformat": 4,
 "nbformat_minor": 2
}
