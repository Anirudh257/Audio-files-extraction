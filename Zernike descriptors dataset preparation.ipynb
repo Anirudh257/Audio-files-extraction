{
 "cells": [
  {
   "cell_type": "code",
   "execution_count": 1,
   "metadata": {},
   "outputs": [],
   "source": [
    "import mahotas"
   ]
  },
  {
   "cell_type": "markdown",
   "metadata": {},
   "source": [
    "# Declare a class descriptor for computing the moments of the images"
   ]
  },
  {
   "cell_type": "code",
   "execution_count": 2,
   "metadata": {},
   "outputs": [],
   "source": [
    "class ZernikeMoments:\n",
    "    def __init__(self, radius):\n",
    "    #Store the size of the radius used while computing the moments of the image\n",
    "        self.radius = radius\n",
    "    \n",
    "    def describe(self, image):\n",
    "        #Return the zernike moments for the image\n",
    "        return mahotas.features.zernike_moments(image, self.radius)    "
   ]
  },
  {
   "cell_type": "markdown",
   "metadata": {},
   "source": [
    "Import the libraries"
   ]
  },
  {
   "cell_type": "code",
   "execution_count": 3,
   "metadata": {},
   "outputs": [],
   "source": [
    "import numpy as np\n",
    "import _pickle as cPickle\n",
    "import glob\n",
    "import cv2"
   ]
  },
  {
   "cell_type": "markdown",
   "metadata": {},
   "source": [
    "Initialize the descriptor with a radius of 21 and store the moments in dict"
   ]
  },
  {
   "cell_type": "code",
   "execution_count": 4,
   "metadata": {},
   "outputs": [],
   "source": [
    "desc = ZernikeMoments(21)\n",
    "index = {}"
   ]
  },
  {
   "cell_type": "markdown",
   "metadata": {},
   "source": [
    "Load an image from the given file path"
   ]
  },
  {
   "cell_type": "code",
   "execution_count": 5,
   "metadata": {},
   "outputs": [],
   "source": [
    "image = cv2.imread('/home/anirudh/wav2img.png')"
   ]
  },
  {
   "cell_type": "code",
   "execution_count": 6,
   "metadata": {},
   "outputs": [
    {
     "data": {
      "text/plain": [
       "(280, 1800, 3)"
      ]
     },
     "execution_count": 6,
     "metadata": {},
     "output_type": "execute_result"
    }
   ],
   "source": [
    "image.shape"
   ]
  },
  {
   "cell_type": "markdown",
   "metadata": {},
   "source": [
    "Convert the image from 1 colorspace to another(Grayspace)"
   ]
  },
  {
   "cell_type": "code",
   "execution_count": 7,
   "metadata": {},
   "outputs": [],
   "source": [
    "image = cv2.cvtColor(image,cv2.COLOR_BGR2GRAY)"
   ]
  },
  {
   "cell_type": "code",
   "execution_count": 23,
   "metadata": {
    "scrolled": true
   },
   "outputs": [
    {
     "data": {
      "text/plain": [
       "(280, 1800)"
      ]
     },
     "execution_count": 23,
     "metadata": {},
     "output_type": "execute_result"
    }
   ],
   "source": [
    "image.shape"
   ]
  },
  {
   "cell_type": "markdown",
   "metadata": {},
   "source": [
    "Pad the image with extra white pixels to ensure the edges of the pokemon are not up against the borders of the image"
   ]
  },
  {
   "cell_type": "code",
   "execution_count": 24,
   "metadata": {},
   "outputs": [],
   "source": [
    "image = cv2.copyMakeBorder(image, 15,15,15,15, cv2.BORDER_CONSTANT,value = 255)"
   ]
  },
  {
   "cell_type": "code",
   "execution_count": 25,
   "metadata": {},
   "outputs": [
    {
     "data": {
      "text/plain": [
       "(310, 1830)"
      ]
     },
     "execution_count": 25,
     "metadata": {},
     "output_type": "execute_result"
    }
   ],
   "source": [
    "image.shape"
   ]
  },
  {
   "cell_type": "markdown",
   "metadata": {},
   "source": [
    "Invert the image and threshold it"
   ]
  },
  {
   "cell_type": "code",
   "execution_count": 26,
   "metadata": {},
   "outputs": [],
   "source": [
    "thresh = cv2.bitwise_not(image)"
   ]
  },
  {
   "cell_type": "code",
   "execution_count": 27,
   "metadata": {},
   "outputs": [
    {
     "data": {
      "text/plain": [
       "(310, 1830)"
      ]
     },
     "execution_count": 27,
     "metadata": {},
     "output_type": "execute_result"
    }
   ],
   "source": [
    "thresh.shape"
   ]
  },
  {
   "cell_type": "code",
   "execution_count": 28,
   "metadata": {},
   "outputs": [
    {
     "data": {
      "text/plain": [
       "array([[0, 0, 0, ..., 0, 0, 0],\n",
       "       [0, 0, 0, ..., 0, 0, 0],\n",
       "       [0, 0, 0, ..., 0, 0, 0],\n",
       "       ...,\n",
       "       [0, 0, 0, ..., 0, 0, 0],\n",
       "       [0, 0, 0, ..., 0, 0, 0],\n",
       "       [0, 0, 0, ..., 0, 0, 0]], dtype=uint8)"
      ]
     },
     "execution_count": 28,
     "metadata": {},
     "output_type": "execute_result"
    }
   ],
   "source": [
    "thresh"
   ]
  },
  {
   "cell_type": "code",
   "execution_count": 29,
   "metadata": {},
   "outputs": [],
   "source": [
    "thresh[thresh > 0] = 255"
   ]
  },
  {
   "cell_type": "code",
   "execution_count": 30,
   "metadata": {},
   "outputs": [
    {
     "data": {
      "text/plain": [
       "array([[0, 0, 0, ..., 0, 0, 0],\n",
       "       [0, 0, 0, ..., 0, 0, 0],\n",
       "       [0, 0, 0, ..., 0, 0, 0],\n",
       "       ...,\n",
       "       [0, 0, 0, ..., 0, 0, 0],\n",
       "       [0, 0, 0, ..., 0, 0, 0],\n",
       "       [0, 0, 0, ..., 0, 0, 0]], dtype=uint8)"
      ]
     },
     "execution_count": 30,
     "metadata": {},
     "output_type": "execute_result"
    }
   ],
   "source": [
    "thresh"
   ]
  },
  {
   "cell_type": "markdown",
   "metadata": {},
   "source": [
    "Initialize the outline image, find the outermost contours( the outline ) of the pokemon and draw it"
   ]
  },
  {
   "cell_type": "code",
   "execution_count": 31,
   "metadata": {},
   "outputs": [],
   "source": [
    "outline = np.zeros(image.shape, dtype= \"uint8\")"
   ]
  },
  {
   "cell_type": "code",
   "execution_count": 32,
   "metadata": {
    "scrolled": true
   },
   "outputs": [
    {
     "data": {
      "text/plain": [
       "(310, 1830)"
      ]
     },
     "execution_count": 32,
     "metadata": {},
     "output_type": "execute_result"
    }
   ],
   "source": [
    "outline.shape"
   ]
  },
  {
   "cell_type": "markdown",
   "metadata": {},
   "source": [
    "findContours( image, mode,contours) -> image,contours,hierarchy\n",
    "\n",
    "RETR_EXTERNAL: Find only the outermost contours\n",
    "\n",
    "CHAIN_APPROX_SIMPLE: compress and approximate the contours to save the memory"
   ]
  },
  {
   "cell_type": "code",
   "execution_count": 33,
   "metadata": {},
   "outputs": [],
   "source": [
    "_,cnts,hierarchy = cv2.findContours(thresh.copy(), cv2.RETR_EXTERNAL, cv2.CHAIN_APPROX_SIMPLE)"
   ]
  },
  {
   "cell_type": "code",
   "execution_count": 34,
   "metadata": {},
   "outputs": [
    {
     "data": {
      "text/plain": [
       "(4, 1, 2)"
      ]
     },
     "execution_count": 34,
     "metadata": {},
     "output_type": "execute_result"
    }
   ],
   "source": [
    "cnts[0].shape"
   ]
  },
  {
   "cell_type": "markdown",
   "metadata": {},
   "source": [
    "**Hierarchy**: Sometimes, shapes are inside other shapes in an image. In these cases, we call the external shape as parent shape and and internal one as the child shape. We have assigned a hierarchy for these images\n",
    "\n",
    "[Hierarchy](https://docs.opencv.org/master/d9/d8b/tutorial_py_contours_hierarchy.html)"
   ]
  },
  {
   "cell_type": "code",
   "execution_count": 35,
   "metadata": {},
   "outputs": [],
   "source": [
    "cnts = sorted(cnts, key= cv2.contourArea, reverse= True)[0]"
   ]
  },
  {
   "cell_type": "code",
   "execution_count": 36,
   "metadata": {},
   "outputs": [
    {
     "data": {
      "text/plain": [
       "(4, 1, 2)"
      ]
     },
     "execution_count": 36,
     "metadata": {},
     "output_type": "execute_result"
    }
   ],
   "source": [
    "cnts.shape"
   ]
  },
  {
   "cell_type": "code",
   "execution_count": 37,
   "metadata": {},
   "outputs": [
    {
     "data": {
      "text/plain": [
       "array([[0, 0, 0, ..., 0, 0, 0],\n",
       "       [0, 0, 0, ..., 0, 0, 0],\n",
       "       [0, 0, 0, ..., 0, 0, 0],\n",
       "       ...,\n",
       "       [0, 0, 0, ..., 0, 0, 0],\n",
       "       [0, 0, 0, ..., 0, 0, 0],\n",
       "       [0, 0, 0, ..., 0, 0, 0]], dtype=uint8)"
      ]
     },
     "execution_count": 37,
     "metadata": {},
     "output_type": "execute_result"
    }
   ],
   "source": [
    "cv2.drawContours(outline, [cnts],-1, 255, -1)"
   ]
  },
  {
   "cell_type": "markdown",
   "metadata": {},
   "source": [
    "Compute the Zernike moments of the shape of the outline"
   ]
  },
  {
   "cell_type": "code",
   "execution_count": 38,
   "metadata": {},
   "outputs": [],
   "source": [
    "moments = desc.describe(outline)"
   ]
  },
  {
   "cell_type": "code",
   "execution_count": 39,
   "metadata": {},
   "outputs": [
    {
     "data": {
      "text/plain": [
       "array([3.18309886e-01, 4.67550711e-18, 7.09795743e-03, 1.26524258e-16,\n",
       "       4.63273858e-18, 3.34812266e-18, 1.14045122e-02, 1.02330189e-16,\n",
       "       4.89346587e-03, 4.57924450e-18, 3.12150185e-18, 1.11070941e-17,\n",
       "       1.50338433e-02, 8.14478192e-17, 6.63415095e-03, 1.93663514e-17,\n",
       "       2.54635798e-18, 4.49441658e-18, 3.08677798e-18, 7.02845943e-18,\n",
       "       1.76504557e-02, 4.47535040e-17, 8.06051157e-03, 5.36686337e-18,\n",
       "       5.13944149e-03])"
      ]
     },
     "execution_count": 39,
     "metadata": {},
     "output_type": "execute_result"
    }
   ],
   "source": [
    "moments"
   ]
  },
  {
   "cell_type": "code",
   "execution_count": 40,
   "metadata": {},
   "outputs": [],
   "source": [
    "index['wav2png'] = moments"
   ]
  },
  {
   "cell_type": "code",
   "execution_count": 41,
   "metadata": {},
   "outputs": [],
   "source": [
    "img = cv2.imread('/home/anirudh/wav2img.png',0)"
   ]
  },
  {
   "cell_type": "code",
   "execution_count": 42,
   "metadata": {},
   "outputs": [
    {
     "data": {
      "text/plain": [
       "array([[0, 0, 0, ..., 0, 0, 0],\n",
       "       [0, 0, 0, ..., 0, 0, 0],\n",
       "       [0, 0, 0, ..., 0, 0, 0],\n",
       "       ...,\n",
       "       [0, 0, 0, ..., 0, 0, 0],\n",
       "       [0, 0, 0, ..., 0, 0, 0],\n",
       "       [0, 0, 0, ..., 0, 0, 0]], dtype=uint8)"
      ]
     },
     "execution_count": 42,
     "metadata": {},
     "output_type": "execute_result"
    }
   ],
   "source": [
    "img"
   ]
  },
  {
   "cell_type": "code",
   "execution_count": 44,
   "metadata": {},
   "outputs": [
    {
     "data": {
      "text/plain": [
       "True"
      ]
     },
     "execution_count": 44,
     "metadata": {},
     "output_type": "execute_result"
    }
   ],
   "source": [
    "cv2.imwrite('wavgray.png',img)"
   ]
  },
  {
   "cell_type": "code",
   "execution_count": 45,
   "metadata": {},
   "outputs": [],
   "source": [
    "from matplotlib import pyplot as plt"
   ]
  },
  {
   "cell_type": "code",
   "execution_count": 46,
   "metadata": {},
   "outputs": [],
   "source": [
    "img = cv2.imread('/home/anirudh/wav2img.png',0)"
   ]
  },
  {
   "cell_type": "code",
   "execution_count": 47,
   "metadata": {},
   "outputs": [
    {
     "data": {
      "image/png": "[encoded data removed]",
      "text/plain": [
       "<matplotlib.figure.Figure at 0x7eff9812bb70>"
      ]
     },
     "metadata": {},
     "output_type": "display_data"
    }
   ],
   "source": [
    "plt.imshow(img,cmap='gray')\n",
    "plt.xticks([]),plt.yticks([])\n",
    "plt.show()"
   ]
  },
  {
   "cell_type": "code",
   "execution_count": 48,
   "metadata": {},
   "outputs": [],
   "source": [
    "cap = cv2.VideoCapture(0)"
   ]
  },
  {
   "cell_type": "code",
   "execution_count": 49,
   "metadata": {},
   "outputs": [],
   "source": [
    "img = np.zeros((512,512,3), np.uint8)"
   ]
  },
  {
   "cell_type": "code",
   "execution_count": 50,
   "metadata": {},
   "outputs": [],
   "source": [
    "img = cv2.line(img,(0,0),(511,511),(255,0,0),5)"
   ]
  },
  {
   "cell_type": "code",
   "execution_count": 51,
   "metadata": {},
   "outputs": [],
   "source": [
    "events = [i for i in dir(cv2) if 'EVENT' in i]"
   ]
  },
  {
   "cell_type": "code",
   "execution_count": 52,
   "metadata": {},
   "outputs": [],
   "source": [
    "img = cv2.imread('/home/anirudh/wav2img.png')"
   ]
  },
  {
   "cell_type": "code",
   "execution_count": 53,
   "metadata": {},
   "outputs": [],
   "source": [
    "px = img[100,100]"
   ]
  },
  {
   "cell_type": "code",
   "execution_count": 54,
   "metadata": {},
   "outputs": [
    {
     "name": "stdout",
     "output_type": "stream",
     "text": [
      "[0 0 0]\n"
     ]
    }
   ],
   "source": [
    "print(px)"
   ]
  },
  {
   "cell_type": "code",
   "execution_count": 55,
   "metadata": {},
   "outputs": [],
   "source": [
    "blue = img[100,100,0]"
   ]
  },
  {
   "cell_type": "code",
   "execution_count": 56,
   "metadata": {},
   "outputs": [],
   "source": [
    "desc = ZernikeMoments(21)\n",
    "dataset = {}"
   ]
  },
  {
   "cell_type": "code",
   "execution_count": 59,
   "metadata": {},
   "outputs": [],
   "source": [
    "filename = \"wav2img.png\"\n",
    "img = cv2.imread(filename)\n",
    "gray = cv2.cvtColor(img,cv2.COLOR_BGR2GRAY)\n",
    "gray = np.float32(gray)\n",
    "dst = cv2.cornerHarris(gray,2,3,0,0.04)"
   ]
  },
  {
   "cell_type": "code",
   "execution_count": 60,
   "metadata": {},
   "outputs": [
    {
     "data": {
      "text/plain": [
       "<matplotlib.image.AxesImage at 0x7eff9001b908>"
      ]
     },
     "execution_count": 60,
     "metadata": {},
     "output_type": "execute_result"
    },
    {
     "data": {
      "image/png": "[encoded data removed]",
      "text/plain": [
       "<matplotlib.figure.Figure at 0x7eff980deda0>"
      ]
     },
     "metadata": {},
     "output_type": "display_data"
    }
   ],
   "source": [
    "plt.imshow(dst)"
   ]
  },
  {
   "cell_type": "code",
   "execution_count": 61,
   "metadata": {},
   "outputs": [
    {
     "data": {
      "text/plain": [
       "'/home/anirudh'"
      ]
     },
     "execution_count": 61,
     "metadata": {},
     "output_type": "execute_result"
    }
   ],
   "source": [
    "%pwd"
   ]
  },
  {
   "cell_type": "code",
   "execution_count": 62,
   "metadata": {},
   "outputs": [],
   "source": [
    "import cv2"
   ]
  },
  {
   "cell_type": "code",
   "execution_count": 70,
   "metadata": {},
   "outputs": [],
   "source": [
    "image = cv2.imread(\"/home/anirudh/wav2img.png\",0)"
   ]
  },
  {
   "cell_type": "code",
   "execution_count": 72,
   "metadata": {
    "scrolled": true
   },
   "outputs": [
    {
     "data": {
      "text/plain": [
       "(280, 1800)"
      ]
     },
     "execution_count": 72,
     "metadata": {},
     "output_type": "execute_result"
    }
   ],
   "source": [
    "image.shape"
   ]
  },
  {
   "cell_type": "code",
   "execution_count": 65,
   "metadata": {},
   "outputs": [
    {
     "data": {
      "text/plain": [
       "(280, 1800, 3)"
      ]
     },
     "execution_count": 65,
     "metadata": {},
     "output_type": "execute_result"
    }
   ],
   "source": [
    "image.shape"
   ]
  },
  {
   "cell_type": "code",
   "execution_count": 66,
   "metadata": {},
   "outputs": [],
   "source": [
    "image = cv2.cvtColor(image,cv2.COLOR_BGR2GRAY)"
   ]
  },
  {
   "cell_type": "code",
   "execution_count": 67,
   "metadata": {},
   "outputs": [
    {
     "data": {
      "text/plain": [
       "(280, 1800)"
      ]
     },
     "execution_count": 67,
     "metadata": {},
     "output_type": "execute_result"
    }
   ],
   "source": [
    "image.shape"
   ]
  },
  {
   "cell_type": "code",
   "execution_count": 11,
   "metadata": {},
   "outputs": [],
   "source": [
    "from matplotlib import pyplot as plt"
   ]
  },
  {
   "cell_type": "code",
   "execution_count": 12,
   "metadata": {},
   "outputs": [
    {
     "data": {
      "text/plain": [
       "<matplotlib.image.AxesImage at 0x7eff9d0536d8>"
      ]
     },
     "execution_count": 12,
     "metadata": {},
     "output_type": "execute_result"
    },
    {
     "data": {
      "image/png": "[encoded data removed]",
      "text/plain": [
       "<matplotlib.figure.Figure at 0x7effd4022fd0>"
      ]
     },
     "metadata": {},
     "output_type": "display_data"
    }
   ],
   "source": [
    "plt.imshow(image)"
   ]
  },
  {
   "cell_type": "code",
   "execution_count": 79,
   "metadata": {},
   "outputs": [],
   "source": [
    "imagecol = cv2.imread('wav2img.png')"
   ]
  },
  {
   "cell_type": "code",
   "execution_count": 80,
   "metadata": {},
   "outputs": [],
   "source": [
    "imagegray = cv2.cvtColor(imagecol, cv2.COLOR_BGR2GRAY)"
   ]
  },
  {
   "cell_type": "code",
   "execution_count": 81,
   "metadata": {},
   "outputs": [
    {
     "data": {
      "text/plain": [
       "array([[0, 0, 0, ..., 0, 0, 0],\n",
       "       [0, 0, 0, ..., 0, 0, 0],\n",
       "       [0, 0, 0, ..., 0, 0, 0],\n",
       "       ...,\n",
       "       [0, 0, 0, ..., 0, 0, 0],\n",
       "       [0, 0, 0, ..., 0, 0, 0],\n",
       "       [0, 0, 0, ..., 0, 0, 0]], dtype=uint8)"
      ]
     },
     "execution_count": 81,
     "metadata": {},
     "output_type": "execute_result"
    }
   ],
   "source": [
    "imagegray"
   ]
  },
  {
   "cell_type": "code",
   "execution_count": 82,
   "metadata": {},
   "outputs": [
    {
     "data": {
      "text/plain": [
       "(280, 1800)"
      ]
     },
     "execution_count": 82,
     "metadata": {},
     "output_type": "execute_result"
    }
   ],
   "source": [
    "imagegray.shape"
   ]
  },
  {
   "cell_type": "code",
   "execution_count": 86,
   "metadata": {},
   "outputs": [
    {
     "data": {
      "text/plain": [
       "<matplotlib.image.AxesImage at 0x7eff8bd5d780>"
      ]
     },
     "execution_count": 86,
     "metadata": {},
     "output_type": "execute_result"
    },
    {
     "data": {
      "image/png": "[encoded data removed]",
      "text/plain": [
       "<matplotlib.figure.Figure at 0x7eff8bb20b70>"
      ]
     },
     "metadata": {},
     "output_type": "display_data"
    }
   ],
   "source": [
    "plt.imshow(imagegray)"
   ]
  },
  {
   "cell_type": "code",
   "execution_count": 87,
   "metadata": {},
   "outputs": [],
   "source": [
    "imgborder = cv2.copyMakeBorder(imagegray,15,15,15,15,cv2.BORDER_CONSTANT, value = 255)"
   ]
  },
  {
   "cell_type": "code",
   "execution_count": 88,
   "metadata": {},
   "outputs": [
    {
     "data": {
      "text/plain": [
       "<matplotlib.image.AxesImage at 0x7eff8b8b7e48>"
      ]
     },
     "execution_count": 88,
     "metadata": {},
     "output_type": "execute_result"
    },
    {
     "data": {
      "image/png": "[encoded data removed]",
      "text/plain": [
       "<matplotlib.figure.Figure at 0x7eff8b9287f0>"
      ]
     },
     "metadata": {},
     "output_type": "display_data"
    }
   ],
   "source": [
    "plt.imshow(imgborder)"
   ]
  },
  {
   "cell_type": "code",
   "execution_count": 89,
   "metadata": {},
   "outputs": [],
   "source": [
    "threshImg = cv2.bitwise_not(imagecol)"
   ]
  },
  {
   "cell_type": "code",
   "execution_count": 90,
   "metadata": {},
   "outputs": [
    {
     "data": {
      "text/plain": [
       "<matplotlib.image.AxesImage at 0x7eff8bcd5ef0>"
      ]
     },
     "execution_count": 90,
     "metadata": {},
     "output_type": "execute_result"
    },
    {
     "data": {
      "image/png": "[encoded data removed]",
      "text/plain": [
       "<matplotlib.figure.Figure at 0x7effd8435908>"
      ]
     },
     "metadata": {},
     "output_type": "display_data"
    }
   ],
   "source": [
    "plt.imshow(threshImg)"
   ]
  },
  {
   "cell_type": "code",
   "execution_count": 91,
   "metadata": {},
   "outputs": [],
   "source": [
    "threshImgGray = cv2.bitwise_not(imagegray) "
   ]
  },
  {
   "cell_type": "code",
   "execution_count": 92,
   "metadata": {},
   "outputs": [
    {
     "data": {
      "text/plain": [
       "<matplotlib.image.AxesImage at 0x7effd84cf908>"
      ]
     },
     "execution_count": 92,
     "metadata": {},
     "output_type": "execute_result"
    },
    {
     "data": {
      "image/png": "[encoded data removed]",
      "text/plain": [
       "<matplotlib.figure.Figure at 0x7eff8b8e0860>"
      ]
     },
     "metadata": {},
     "output_type": "display_data"
    }
   ],
   "source": [
    "plt.imshow(threshImgGray)"
   ]
  },
  {
   "cell_type": "code",
   "execution_count": 94,
   "metadata": {},
   "outputs": [
    {
     "data": {
      "text/plain": [
       "(280, 1800, 3)"
      ]
     },
     "execution_count": 94,
     "metadata": {},
     "output_type": "execute_result"
    }
   ],
   "source": [
    "threshImg.shape"
   ]
  },
  {
   "cell_type": "code",
   "execution_count": 95,
   "metadata": {},
   "outputs": [],
   "source": [
    "threshImg[threshImg > 0] = 255"
   ]
  },
  {
   "cell_type": "code",
   "execution_count": 96,
   "metadata": {},
   "outputs": [
    {
     "data": {
      "text/plain": [
       "array([[[255, 255, 255],\n",
       "        [255, 255, 255],\n",
       "        [255, 255, 255],\n",
       "        ...,\n",
       "        [255, 255, 255],\n",
       "        [255, 255, 255],\n",
       "        [255, 255, 255]],\n",
       "\n",
       "       [[255, 255, 255],\n",
       "        [255, 255, 255],\n",
       "        [255, 255, 255],\n",
       "        ...,\n",
       "        [255, 255, 255],\n",
       "        [255, 255, 255],\n",
       "        [255, 255, 255]],\n",
       "\n",
       "       [[255, 255, 255],\n",
       "        [255, 255, 255],\n",
       "        [255, 255, 255],\n",
       "        ...,\n",
       "        [255, 255, 255],\n",
       "        [255, 255, 255],\n",
       "        [255, 255, 255]],\n",
       "\n",
       "       ...,\n",
       "\n",
       "       [[255, 255, 255],\n",
       "        [255, 255, 255],\n",
       "        [255, 255, 255],\n",
       "        ...,\n",
       "        [255, 255, 255],\n",
       "        [255, 255, 255],\n",
       "        [255, 255, 255]],\n",
       "\n",
       "       [[255, 255, 255],\n",
       "        [255, 255, 255],\n",
       "        [255, 255, 255],\n",
       "        ...,\n",
       "        [255, 255, 255],\n",
       "        [255, 255, 255],\n",
       "        [255, 255, 255]],\n",
       "\n",
       "       [[255, 255, 255],\n",
       "        [255, 255, 255],\n",
       "        [255, 255, 255],\n",
       "        ...,\n",
       "        [255, 255, 255],\n",
       "        [255, 255, 255],\n",
       "        [255, 255, 255]]], dtype=uint8)"
      ]
     },
     "execution_count": 96,
     "metadata": {},
     "output_type": "execute_result"
    }
   ],
   "source": [
    "threshImg"
   ]
  },
  {
   "cell_type": "code",
   "execution_count": 97,
   "metadata": {},
   "outputs": [],
   "source": [
    "outlineImg = np.zeros(imagecol.shape, dtype=\"uint8\")"
   ]
  },
  {
   "cell_type": "code",
   "execution_count": 98,
   "metadata": {},
   "outputs": [
    {
     "data": {
      "text/plain": [
       "(280, 1800, 3)"
      ]
     },
     "execution_count": 98,
     "metadata": {},
     "output_type": "execute_result"
    }
   ],
   "source": [
    "outlineImg.shape"
   ]
  },
  {
   "cell_type": "code",
   "execution_count": 105,
   "metadata": {},
   "outputs": [],
   "source": [
    "outlineGr = np.zeros(imagegray.shape, dtype=\"uint8\")"
   ]
  },
  {
   "cell_type": "code",
   "execution_count": 106,
   "metadata": {},
   "outputs": [
    {
     "data": {
      "text/plain": [
       "(280, 1800)"
      ]
     },
     "execution_count": 106,
     "metadata": {},
     "output_type": "execute_result"
    }
   ],
   "source": [
    "outlineGr.shape"
   ]
  },
  {
   "cell_type": "code",
   "execution_count": 107,
   "metadata": {},
   "outputs": [],
   "source": [
    "_,cnts,hierarchy = cv2.findContours(threshImgGray.copy(), cv2.RETR_EXTERNAL,cv2.CHAIN_APPROX_SIMPLE)"
   ]
  },
  {
   "cell_type": "code",
   "execution_count": 111,
   "metadata": {},
   "outputs": [],
   "source": [
    "cntsArr = sorted(cnts,key=cv2.contourArea,reverse=True)[0]"
   ]
  },
  {
   "cell_type": "code",
   "execution_count": 114,
   "metadata": {},
   "outputs": [
    {
     "data": {
      "text/plain": [
       "array([[255, 255, 255, ..., 255, 255, 255],\n",
       "       [255, 255, 255, ..., 255, 255, 255],\n",
       "       [255, 255, 255, ..., 255, 255, 255],\n",
       "       ...,\n",
       "       [255, 255, 255, ..., 255, 255, 255],\n",
       "       [255, 255, 255, ..., 255, 255, 255],\n",
       "       [255, 255, 255, ..., 255, 255, 255]], dtype=uint8)"
      ]
     },
     "execution_count": 114,
     "metadata": {},
     "output_type": "execute_result"
    }
   ],
   "source": [
    "cv2.drawContours(outlineGr,[cntsArr],-1,255,-1)"
   ]
  },
  {
   "cell_type": "code",
   "execution_count": 115,
   "metadata": {},
   "outputs": [],
   "source": [
    "momentsGr = desc.describe(outlineGr)"
   ]
  },
  {
   "cell_type": "code",
   "execution_count": 120,
   "metadata": {},
   "outputs": [],
   "source": [
    "import os"
   ]
  },
  {
   "cell_type": "markdown",
   "metadata": {},
   "source": [
    "# Testing the pokemon zernike descriptor dataset"
   ]
  },
  {
   "cell_type": "code",
   "execution_count": 172,
   "metadata": {},
   "outputs": [],
   "source": [
    "os.chdir('/home/anirudh/Desktop/pokedex-zernike/sprites/')"
   ]
  },
  {
   "cell_type": "code",
   "execution_count": 173,
   "metadata": {},
   "outputs": [
    {
     "data": {
      "text/plain": [
       "'/home/anirudh/Desktop/pokedex-zernike/sprites'"
      ]
     },
     "execution_count": 173,
     "metadata": {},
     "output_type": "execute_result"
    }
   ],
   "source": [
    "%pwd"
   ]
  },
  {
   "cell_type": "code",
   "execution_count": 174,
   "metadata": {},
   "outputs": [],
   "source": [
    "image = cv2.imread(\"abra.png\")"
   ]
  },
  {
   "cell_type": "code",
   "execution_count": 175,
   "metadata": {},
   "outputs": [
    {
     "data": {
      "text/plain": [
       "(56, 56, 3)"
      ]
     },
     "execution_count": 175,
     "metadata": {},
     "output_type": "execute_result"
    }
   ],
   "source": [
    "image.shape"
   ]
  },
  {
   "cell_type": "code",
   "execution_count": 176,
   "metadata": {},
   "outputs": [
    {
     "data": {
      "text/plain": [
       "<matplotlib.image.AxesImage at 0x7eff891cabe0>"
      ]
     },
     "execution_count": 176,
     "metadata": {},
     "output_type": "execute_result"
    },
    {
     "data": {
      "image/png": "[encoded data removed]",
      "text/plain": [
       "<matplotlib.figure.Figure at 0x7eff891eea20>"
      ]
     },
     "metadata": {},
     "output_type": "display_data"
    }
   ],
   "source": [
    "plt.imshow(image)"
   ]
  },
  {
   "cell_type": "code",
   "execution_count": 177,
   "metadata": {},
   "outputs": [],
   "source": [
    "image = cv2.cvtColor(image, cv2.COLOR_BGR2GRAY)"
   ]
  },
  {
   "cell_type": "code",
   "execution_count": 178,
   "metadata": {},
   "outputs": [
    {
     "data": {
      "text/plain": [
       "<matplotlib.image.AxesImage at 0x7eff8919deb8>"
      ]
     },
     "execution_count": 178,
     "metadata": {},
     "output_type": "execute_result"
    },
    {
     "data": {
      "image/png": "[encoded data removed]",
      "text/plain": [
       "<matplotlib.figure.Figure at 0x7eff891e2160>"
      ]
     },
     "metadata": {},
     "output_type": "display_data"
    }
   ],
   "source": [
    "plt.imshow(image)"
   ]
  },
  {
   "cell_type": "code",
   "execution_count": 179,
   "metadata": {},
   "outputs": [],
   "source": [
    "image = cv2.copyMakeBorder(image,15,15,15,15, cv2.BORDER_CONSTANT,value = 255)"
   ]
  },
  {
   "cell_type": "code",
   "execution_count": 180,
   "metadata": {},
   "outputs": [
    {
     "data": {
      "text/plain": [
       "<matplotlib.image.AxesImage at 0x7eff8922f828>"
      ]
     },
     "execution_count": 180,
     "metadata": {},
     "output_type": "execute_result"
    },
    {
     "data": {
      "image/png": "[encoded data removed]",
      "text/plain": [
       "<matplotlib.figure.Figure at 0x7eff89184be0>"
      ]
     },
     "metadata": {},
     "output_type": "display_data"
    }
   ],
   "source": [
    "plt.imshow(image)"
   ]
  },
  {
   "cell_type": "code",
   "execution_count": 181,
   "metadata": {},
   "outputs": [],
   "source": [
    "thresh = cv2.bitwise_not(image)"
   ]
  },
  {
   "cell_type": "code",
   "execution_count": 182,
   "metadata": {},
   "outputs": [
    {
     "data": {
      "text/plain": [
       "<matplotlib.image.AxesImage at 0x7eff89797a90>"
      ]
     },
     "execution_count": 182,
     "metadata": {},
     "output_type": "execute_result"
    },
    {
     "data": {
      "image/png": "[encoded data removed]",
      "text/plain": [
       "<matplotlib.figure.Figure at 0x7eff89133a58>"
      ]
     },
     "metadata": {},
     "output_type": "display_data"
    }
   ],
   "source": [
    "plt.imshow(thresh)"
   ]
  },
  {
   "cell_type": "code",
   "execution_count": 183,
   "metadata": {},
   "outputs": [],
   "source": [
    "thresh[thresh > 0] = 255"
   ]
  },
  {
   "cell_type": "code",
   "execution_count": 184,
   "metadata": {},
   "outputs": [
    {
     "data": {
      "text/plain": [
       "<matplotlib.image.AxesImage at 0x7eff895066d8>"
      ]
     },
     "execution_count": 184,
     "metadata": {},
     "output_type": "execute_result"
    },
    {
     "data": {
      "image/png": "[encoded data removed]",
      "text/plain": [
       "<matplotlib.figure.Figure at 0x7eff8b0f8860>"
      ]
     },
     "metadata": {},
     "output_type": "display_data"
    }
   ],
   "source": [
    "plt.imshow(thresh)"
   ]
  },
  {
   "cell_type": "code",
   "execution_count": 185,
   "metadata": {},
   "outputs": [],
   "source": [
    "outline = np.zeros(image.shape, dtype= \"uint8\")"
   ]
  },
  {
   "cell_type": "code",
   "execution_count": 186,
   "metadata": {},
   "outputs": [],
   "source": [
    "_,cnts,_ = cv2.findContours(thresh.copy(),cv2.RETR_EXTERNAL, cv2.CHAIN_APPROX_SIMPLE)"
   ]
  },
  {
   "cell_type": "code",
   "execution_count": 187,
   "metadata": {},
   "outputs": [],
   "source": [
    "cnts = sorted(cnts,key= cv2.contourArea,reverse=True)[0]"
   ]
  },
  {
   "cell_type": "code",
   "execution_count": 188,
   "metadata": {},
   "outputs": [
    {
     "data": {
      "text/plain": [
       "array([[[37, 25]],\n",
       "\n",
       "       [[36, 26]],\n",
       "\n",
       "       [[36, 27]],\n",
       "\n",
       "       [[37, 28]],\n",
       "\n",
       "       [[37, 29]],\n",
       "\n",
       "       [[38, 30]],\n",
       "\n",
       "       [[38, 31]],\n",
       "\n",
       "       [[35, 34]],\n",
       "\n",
       "       [[34, 33]],\n",
       "\n",
       "       [[34, 32]],\n",
       "\n",
       "       [[35, 31]],\n",
       "\n",
       "       [[35, 29]],\n",
       "\n",
       "       [[33, 27]],\n",
       "\n",
       "       [[33, 29]],\n",
       "\n",
       "       [[31, 31]],\n",
       "\n",
       "       [[31, 32]],\n",
       "\n",
       "       [[30, 33]],\n",
       "\n",
       "       [[30, 34]],\n",
       "\n",
       "       [[29, 35]],\n",
       "\n",
       "       [[29, 38]],\n",
       "\n",
       "       [[30, 39]],\n",
       "\n",
       "       [[30, 41]],\n",
       "\n",
       "       [[31, 42]],\n",
       "\n",
       "       [[31, 43]],\n",
       "\n",
       "       [[33, 45]],\n",
       "\n",
       "       [[33, 46]],\n",
       "\n",
       "       [[32, 47]],\n",
       "\n",
       "       [[31, 46]],\n",
       "\n",
       "       [[29, 46]],\n",
       "\n",
       "       [[29, 48]],\n",
       "\n",
       "       [[30, 49]],\n",
       "\n",
       "       [[30, 51]],\n",
       "\n",
       "       [[31, 52]],\n",
       "\n",
       "       [[31, 57]],\n",
       "\n",
       "       [[30, 58]],\n",
       "\n",
       "       [[30, 59]],\n",
       "\n",
       "       [[31, 60]],\n",
       "\n",
       "       [[34, 60]],\n",
       "\n",
       "       [[35, 59]],\n",
       "\n",
       "       [[35, 58]],\n",
       "\n",
       "       [[36, 57]],\n",
       "\n",
       "       [[37, 58]],\n",
       "\n",
       "       [[45, 58]],\n",
       "\n",
       "       [[46, 59]],\n",
       "\n",
       "       [[52, 59]],\n",
       "\n",
       "       [[54, 61]],\n",
       "\n",
       "       [[55, 61]],\n",
       "\n",
       "       [[57, 59]],\n",
       "\n",
       "       [[58, 59]],\n",
       "\n",
       "       [[61, 56]],\n",
       "\n",
       "       [[61, 55]],\n",
       "\n",
       "       [[62, 54]],\n",
       "\n",
       "       [[62, 49]],\n",
       "\n",
       "       [[61, 48]],\n",
       "\n",
       "       [[61, 47]],\n",
       "\n",
       "       [[59, 45]],\n",
       "\n",
       "       [[59, 43]],\n",
       "\n",
       "       [[60, 42]],\n",
       "\n",
       "       [[61, 42]],\n",
       "\n",
       "       [[62, 41]],\n",
       "\n",
       "       [[62, 40]],\n",
       "\n",
       "       [[58, 36]],\n",
       "\n",
       "       [[58, 35]],\n",
       "\n",
       "       [[57, 34]],\n",
       "\n",
       "       [[57, 33]],\n",
       "\n",
       "       [[56, 32]],\n",
       "\n",
       "       [[56, 26]],\n",
       "\n",
       "       [[55, 25]],\n",
       "\n",
       "       [[54, 25]],\n",
       "\n",
       "       [[53, 26]],\n",
       "\n",
       "       [[52, 26]],\n",
       "\n",
       "       [[51, 27]],\n",
       "\n",
       "       [[50, 27]],\n",
       "\n",
       "       [[49, 28]],\n",
       "\n",
       "       [[42, 28]],\n",
       "\n",
       "       [[41, 27]],\n",
       "\n",
       "       [[40, 27]],\n",
       "\n",
       "       [[38, 25]]], dtype=int32)"
      ]
     },
     "execution_count": 188,
     "metadata": {},
     "output_type": "execute_result"
    }
   ],
   "source": [
    "cnts"
   ]
  },
  {
   "cell_type": "code",
   "execution_count": 189,
   "metadata": {},
   "outputs": [
    {
     "data": {
      "text/plain": [
       "array([[0, 0, 0, ..., 0, 0, 0],\n",
       "       [0, 0, 0, ..., 0, 0, 0],\n",
       "       [0, 0, 0, ..., 0, 0, 0],\n",
       "       ...,\n",
       "       [0, 0, 0, ..., 0, 0, 0],\n",
       "       [0, 0, 0, ..., 0, 0, 0],\n",
       "       [0, 0, 0, ..., 0, 0, 0]], dtype=uint8)"
      ]
     },
     "execution_count": 189,
     "metadata": {},
     "output_type": "execute_result"
    }
   ],
   "source": [
    "cv2.drawContours(outline,[cnts],-1,255,-1)"
   ]
  },
  {
   "cell_type": "code",
   "execution_count": 190,
   "metadata": {},
   "outputs": [],
   "source": [
    "moments = desc.describe(outline)"
   ]
  },
  {
   "cell_type": "code",
   "execution_count": 191,
   "metadata": {},
   "outputs": [
    {
     "data": {
      "text/plain": [
       "<matplotlib.image.AxesImage at 0x7effd8476cf8>"
      ]
     },
     "execution_count": 191,
     "metadata": {},
     "output_type": "execute_result"
    },
    {
     "data": {
      "image/png": "[encoded data removed]",
      "text/plain": [
       "<matplotlib.figure.Figure at 0x7eff8b16a518>"
      ]
     },
     "metadata": {},
     "output_type": "display_data"
    }
   ],
   "source": [
    "plt.imshow(outline)"
   ]
  },
  {
   "cell_type": "markdown",
   "metadata": {},
   "source": [
    " # Test if the process is same for a waveform image"
   ]
  },
  {
   "cell_type": "code",
   "execution_count": 192,
   "metadata": {},
   "outputs": [],
   "source": [
    "os.chdir('/home/anirudh/')"
   ]
  },
  {
   "cell_type": "code",
   "execution_count": 193,
   "metadata": {},
   "outputs": [],
   "source": [
    "image = cv2.imread(\"wav2img.png\")"
   ]
  },
  {
   "cell_type": "code",
   "execution_count": 194,
   "metadata": {},
   "outputs": [
    {
     "data": {
      "text/plain": [
       "<matplotlib.image.AxesImage at 0x7eff8ba4a2e8>"
      ]
     },
     "execution_count": 194,
     "metadata": {},
     "output_type": "execute_result"
    },
    {
     "data": {
      "image/png": "[encoded data removed]",
      "text/plain": [
       "<matplotlib.figure.Figure at 0x7eff8bed2ac8>"
      ]
     },
     "metadata": {},
     "output_type": "display_data"
    }
   ],
   "source": [
    "plt.imshow(image)"
   ]
  },
  {
   "cell_type": "code",
   "execution_count": 195,
   "metadata": {},
   "outputs": [],
   "source": [
    "image = cv2.cvtColor(image, cv2.COLOR_BGR2GRAY)"
   ]
  },
  {
   "cell_type": "code",
   "execution_count": 196,
   "metadata": {},
   "outputs": [
    {
     "data": {
      "text/plain": [
       "<matplotlib.image.AxesImage at 0x7eff98136748>"
      ]
     },
     "execution_count": 196,
     "metadata": {},
     "output_type": "execute_result"
    },
    {
     "data": {
      "image/png": "[encoded data removed]",
      "text/plain": [
       "<matplotlib.figure.Figure at 0x7eff8b091e48>"
      ]
     },
     "metadata": {},
     "output_type": "display_data"
    }
   ],
   "source": [
    "plt.imshow(image)"
   ]
  },
  {
   "cell_type": "code",
   "execution_count": 197,
   "metadata": {},
   "outputs": [],
   "source": [
    "image = cv2.copyMakeBorder(image, 15,15,15,15,cv2.BORDER_CONSTANT, value = 255)"
   ]
  },
  {
   "cell_type": "code",
   "execution_count": 198,
   "metadata": {},
   "outputs": [
    {
     "data": {
      "text/plain": [
       "<matplotlib.image.AxesImage at 0x7eff9cf1bc18>"
      ]
     },
     "execution_count": 198,
     "metadata": {},
     "output_type": "execute_result"
    },
    {
     "data": {
      "image/png": "[encoded data removed]",
      "text/plain": [
       "<matplotlib.figure.Figure at 0x7eff8b837518>"
      ]
     },
     "metadata": {},
     "output_type": "display_data"
    }
   ],
   "source": [
    "plt.imshow(image)"
   ]
  },
  {
   "cell_type": "code",
   "execution_count": 199,
   "metadata": {},
   "outputs": [],
   "source": [
    "thresh = cv2.bitwise_not(image)"
   ]
  },
  {
   "cell_type": "code",
   "execution_count": 200,
   "metadata": {},
   "outputs": [
    {
     "data": {
      "text/plain": [
       "<matplotlib.image.AxesImage at 0x7eff980c1240>"
      ]
     },
     "execution_count": 200,
     "metadata": {},
     "output_type": "execute_result"
    },
    {
     "data": {
      "image/png": "[encoded data removed]",
      "text/plain": [
       "<matplotlib.figure.Figure at 0x7eff99996358>"
      ]
     },
     "metadata": {},
     "output_type": "display_data"
    }
   ],
   "source": [
    "plt.imshow(thresh)"
   ]
  },
  {
   "cell_type": "code",
   "execution_count": 201,
   "metadata": {},
   "outputs": [],
   "source": [
    "outline = np.zeros(image.shape,dtype= \"uint8\")"
   ]
  },
  {
   "cell_type": "code",
   "execution_count": 202,
   "metadata": {},
   "outputs": [],
   "source": [
    "_,cnts,_ = cv2.findContours(thresh.copy(),cv2.RETR_EXTERNAL,cv2.CHAIN_APPROX_SIMPLE)"
   ]
  },
  {
   "cell_type": "code",
   "execution_count": 203,
   "metadata": {},
   "outputs": [],
   "source": [
    "cnts = sorted(cnts,key= cv2.contourArea, reverse= True)[0]"
   ]
  },
  {
   "cell_type": "code",
   "execution_count": 204,
   "metadata": {},
   "outputs": [
    {
     "data": {
      "text/plain": [
       "array([[[  15,   15]],\n",
       "\n",
       "       [[  15,  294]],\n",
       "\n",
       "       [[1814,  294]],\n",
       "\n",
       "       [[1814,   15]]], dtype=int32)"
      ]
     },
     "execution_count": 204,
     "metadata": {},
     "output_type": "execute_result"
    }
   ],
   "source": [
    "cnts"
   ]
  },
  {
   "cell_type": "code",
   "execution_count": 205,
   "metadata": {},
   "outputs": [
    {
     "data": {
      "text/plain": [
       "array([[0, 0, 0, ..., 0, 0, 0],\n",
       "       [0, 0, 0, ..., 0, 0, 0],\n",
       "       [0, 0, 0, ..., 0, 0, 0],\n",
       "       ...,\n",
       "       [0, 0, 0, ..., 0, 0, 0],\n",
       "       [0, 0, 0, ..., 0, 0, 0],\n",
       "       [0, 0, 0, ..., 0, 0, 0]], dtype=uint8)"
      ]
     },
     "execution_count": 205,
     "metadata": {},
     "output_type": "execute_result"
    }
   ],
   "source": [
    "cv2.drawContours(outline,[cnts],-1,255,-1)"
   ]
  },
  {
   "cell_type": "code",
   "execution_count": 208,
   "metadata": {},
   "outputs": [],
   "source": [
    "moments = desc.describe(thresh)"
   ]
  },
  {
   "cell_type": "code",
   "execution_count": 209,
   "metadata": {},
   "outputs": [
    {
     "data": {
      "text/plain": [
       "array([0.31830989, 0.00337448, 0.01243835, 0.02069252, 0.00439612,\n",
       "       0.00719964, 0.00350934, 0.00322962, 0.01917352, 0.00815984,\n",
       "       0.00717363, 0.01070421, 0.00689443, 0.00370373, 0.00541761,\n",
       "       0.00726583, 0.00893635, 0.00387236, 0.00687935, 0.01842864,\n",
       "       0.00190954, 0.00519749, 0.00495682, 0.0051904 , 0.00634871])"
      ]
     },
     "execution_count": 209,
     "metadata": {},
     "output_type": "execute_result"
    }
   ],
   "source": [
    "moments"
   ]
  },
  {
   "cell_type": "markdown",
   "metadata": {},
   "source": [
    "# Preparing the Zernike descriptors dataset"
   ]
  },
  {
   "cell_type": "code",
   "execution_count": 228,
   "metadata": {},
   "outputs": [],
   "source": [
    "index = 0\n",
    "for path in glob.glob('/home/anirudh/Desktop/OUR project images/' + \"/*.png\"):\n",
    "    imgName = (path.split('/')[-1]).replace(\".png\",\"\")\n",
    "    \n",
    "    #Load the image from the file\n",
    "    image = cv2.imread(path)\n",
    "    \n",
    "    #Convert the image from RGB to Gray\n",
    "    image = cv2.cvtColor(image, cv2.COLOR_BGR2GRAY)\n",
    "    \n",
    "    #Pad the image with extra white pixels\n",
    "    image = cv2.copyMakeBorder(image,15,15,15,15, cv2.BORDER_CONSTANT, value = 255)\n",
    "    \n",
    "    #Invert the image and threshold it\n",
    "    thresh = cv2.bitwise_not(image)\n",
    "        \n",
    "    #Initialize the outline image, find the outermost contours(outline) of the pokemon, then draw it\n",
    "    outline = np.zeros(image.shape, np.uint8)\n",
    "        \n",
    "    _,cnts,hierarchy = cv2.findContours(thresh.copy(), cv2.RETR_EXTERNAL, cv2.CHAIN_APPROX_SIMPLE)\n",
    "    cnts = sorted(cnts, key = cv2.contourArea, reverse = True)[0]\n",
    "    cv2.drawContours(outline, [cnts],-1,255,-1)\n",
    "    \n",
    "    moments = desc.describe(thresh)\n",
    "    dataset[imgName] = moments\n",
    "    imageNames.insert(index,imgName)\n",
    "    index += 1"
   ]
  },
  {
   "cell_type": "markdown",
   "metadata": {},
   "source": [
    "# Test on one image"
   ]
  },
  {
   "cell_type": "code",
   "execution_count": 21,
   "metadata": {},
   "outputs": [],
   "source": [
    "import os\n",
    "import matplotlib.pyplot as plt"
   ]
  },
  {
   "cell_type": "code",
   "execution_count": 12,
   "metadata": {},
   "outputs": [],
   "source": [
    "os.chdir('/home/anirudh/Desktop/OUR project images/drilling')"
   ]
  },
  {
   "cell_type": "code",
   "execution_count": 13,
   "metadata": {},
   "outputs": [
    {
     "data": {
      "text/plain": [
       "'/home/anirudh/Desktop/OUR project images/drilling'"
      ]
     },
     "execution_count": 13,
     "metadata": {},
     "output_type": "execute_result"
    }
   ],
   "source": [
    "%pwd"
   ]
  },
  {
   "cell_type": "code",
   "execution_count": 14,
   "metadata": {},
   "outputs": [],
   "source": [
    "image = cv2.imread('518.png')"
   ]
  },
  {
   "cell_type": "code",
   "execution_count": 15,
   "metadata": {},
   "outputs": [
    {
     "data": {
      "text/plain": [
       "array([[[255, 255, 255],\n",
       "        [255, 255, 255],\n",
       "        [255, 255, 255],\n",
       "        ...,\n",
       "        [255, 255, 255],\n",
       "        [255, 255, 255],\n",
       "        [255, 255, 255]],\n",
       "\n",
       "       [[255, 255, 255],\n",
       "        [255, 255, 255],\n",
       "        [255, 255, 255],\n",
       "        ...,\n",
       "        [255, 255, 255],\n",
       "        [255, 255, 255],\n",
       "        [255, 255, 255]],\n",
       "\n",
       "       [[255, 255, 255],\n",
       "        [255, 255, 255],\n",
       "        [255, 255, 255],\n",
       "        ...,\n",
       "        [255, 255, 255],\n",
       "        [255, 255, 255],\n",
       "        [255, 255, 255]],\n",
       "\n",
       "       ...,\n",
       "\n",
       "       [[255, 255, 255],\n",
       "        [255, 255, 255],\n",
       "        [255, 255, 255],\n",
       "        ...,\n",
       "        [255, 255, 255],\n",
       "        [255, 255, 255],\n",
       "        [255, 255, 255]],\n",
       "\n",
       "       [[255, 255, 255],\n",
       "        [255, 255, 255],\n",
       "        [255, 255, 255],\n",
       "        ...,\n",
       "        [255, 255, 255],\n",
       "        [255, 255, 255],\n",
       "        [255, 255, 255]],\n",
       "\n",
       "       [[255, 255, 255],\n",
       "        [255, 255, 255],\n",
       "        [255, 255, 255],\n",
       "        ...,\n",
       "        [255, 255, 255],\n",
       "        [255, 255, 255],\n",
       "        [255, 255, 255]]], dtype=uint8)"
      ]
     },
     "execution_count": 15,
     "metadata": {},
     "output_type": "execute_result"
    }
   ],
   "source": [
    "image"
   ]
  },
  {
   "cell_type": "code",
   "execution_count": 16,
   "metadata": {},
   "outputs": [],
   "source": [
    "image = cv2.cvtColor(image,cv2.COLOR_BGR2GRAY)"
   ]
  },
  {
   "cell_type": "code",
   "execution_count": 17,
   "metadata": {},
   "outputs": [
    {
     "data": {
      "text/plain": [
       "array([[255, 255, 255, ..., 255, 255, 255],\n",
       "       [255, 255, 255, ..., 255, 255, 255],\n",
       "       [255, 255, 255, ..., 255, 255, 255],\n",
       "       ...,\n",
       "       [255, 255, 255, ..., 255, 255, 255],\n",
       "       [255, 255, 255, ..., 255, 255, 255],\n",
       "       [255, 255, 255, ..., 255, 255, 255]], dtype=uint8)"
      ]
     },
     "execution_count": 17,
     "metadata": {},
     "output_type": "execute_result"
    }
   ],
   "source": [
    "image"
   ]
  },
  {
   "cell_type": "code",
   "execution_count": 18,
   "metadata": {},
   "outputs": [
    {
     "data": {
      "text/plain": [
       "(288, 432)"
      ]
     },
     "execution_count": 18,
     "metadata": {},
     "output_type": "execute_result"
    }
   ],
   "source": [
    "image.shape"
   ]
  },
  {
   "cell_type": "code",
   "execution_count": 22,
   "metadata": {},
   "outputs": [
    {
     "data": {
      "text/plain": [
       "<matplotlib.image.AxesImage at 0x7fed3548b7b8>"
      ]
     },
     "execution_count": 22,
     "metadata": {},
     "output_type": "execute_result"
    },
    {
     "data": {
      "image/png": "[encoded data removed]",
      "text/plain": [
       "<matplotlib.figure.Figure at 0x7fed2d673320>"
      ]
     },
     "metadata": {},
     "output_type": "display_data"
    }
   ],
   "source": [
    "plt.imshow(image)"
   ]
  },
  {
   "cell_type": "code",
   "execution_count": 23,
   "metadata": {},
   "outputs": [],
   "source": [
    "image = cv2.copyMakeBorder(image,15,15,15,15, cv2.BORDER_CONSTANT, value = 255)"
   ]
  },
  {
   "cell_type": "code",
   "execution_count": 24,
   "metadata": {},
   "outputs": [
    {
     "data": {
      "text/plain": [
       "array([[255, 255, 255, ..., 255, 255, 255],\n",
       "       [255, 255, 255, ..., 255, 255, 255],\n",
       "       [255, 255, 255, ..., 255, 255, 255],\n",
       "       ...,\n",
       "       [255, 255, 255, ..., 255, 255, 255],\n",
       "       [255, 255, 255, ..., 255, 255, 255],\n",
       "       [255, 255, 255, ..., 255, 255, 255]], dtype=uint8)"
      ]
     },
     "execution_count": 24,
     "metadata": {},
     "output_type": "execute_result"
    }
   ],
   "source": [
    "image"
   ]
  },
  {
   "cell_type": "code",
   "execution_count": 25,
   "metadata": {},
   "outputs": [
    {
     "data": {
      "text/plain": [
       "<matplotlib.image.AxesImage at 0x7fed354d5940>"
      ]
     },
     "execution_count": 25,
     "metadata": {},
     "output_type": "execute_result"
    },
    {
     "data": {
      "image/png": "[encoded data removed]",
      "text/plain": [
       "<matplotlib.figure.Figure at 0x7fed354670f0>"
      ]
     },
     "metadata": {},
     "output_type": "display_data"
    }
   ],
   "source": [
    "plt.imshow(image)"
   ]
  },
  {
   "cell_type": "code",
   "execution_count": 26,
   "metadata": {},
   "outputs": [],
   "source": [
    "thresh = cv2.bitwise_not(image)"
   ]
  },
  {
   "cell_type": "code",
   "execution_count": 27,
   "metadata": {},
   "outputs": [
    {
     "data": {
      "text/plain": [
       "array([[0, 0, 0, ..., 0, 0, 0],\n",
       "       [0, 0, 0, ..., 0, 0, 0],\n",
       "       [0, 0, 0, ..., 0, 0, 0],\n",
       "       ...,\n",
       "       [0, 0, 0, ..., 0, 0, 0],\n",
       "       [0, 0, 0, ..., 0, 0, 0],\n",
       "       [0, 0, 0, ..., 0, 0, 0]], dtype=uint8)"
      ]
     },
     "execution_count": 27,
     "metadata": {},
     "output_type": "execute_result"
    }
   ],
   "source": [
    "thresh"
   ]
  },
  {
   "cell_type": "code",
   "execution_count": 28,
   "metadata": {},
   "outputs": [
    {
     "data": {
      "text/plain": [
       "<matplotlib.image.AxesImage at 0x7fed34b28860>"
      ]
     },
     "execution_count": 28,
     "metadata": {},
     "output_type": "execute_result"
    },
    {
     "data": {
      "image/png": "[encoded data removed]",
      "text/plain": [
       "<matplotlib.figure.Figure at 0x7fed34b11ba8>"
      ]
     },
     "metadata": {},
     "output_type": "display_data"
    }
   ],
   "source": [
    "plt.imshow(thresh)"
   ]
  },
  {
   "cell_type": "code",
   "execution_count": 29,
   "metadata": {},
   "outputs": [],
   "source": [
    "outline = np.zeros(image.shape,np.uint8)"
   ]
  },
  {
   "cell_type": "code",
   "execution_count": 30,
   "metadata": {},
   "outputs": [
    {
     "data": {
      "text/plain": [
       "array([[0, 0, 0, ..., 0, 0, 0],\n",
       "       [0, 0, 0, ..., 0, 0, 0],\n",
       "       [0, 0, 0, ..., 0, 0, 0],\n",
       "       ...,\n",
       "       [0, 0, 0, ..., 0, 0, 0],\n",
       "       [0, 0, 0, ..., 0, 0, 0],\n",
       "       [0, 0, 0, ..., 0, 0, 0]], dtype=uint8)"
      ]
     },
     "execution_count": 30,
     "metadata": {},
     "output_type": "execute_result"
    }
   ],
   "source": [
    "outline"
   ]
  },
  {
   "cell_type": "code",
   "execution_count": 31,
   "metadata": {},
   "outputs": [],
   "source": [
    "_,cnts,hierarchy = cv2.findContours(thresh.copy(),cv2.RETR_EXTERNAL,cv2.CHAIN_APPROX_SIMPLE)"
   ]
  },
  {
   "cell_type": "code",
   "execution_count": 32,
   "metadata": {},
   "outputs": [
    {
     "data": {
      "text/plain": [
       "[array([[[358, 170]],\n",
       " \n",
       "        [[358, 177]],\n",
       " \n",
       "        [[362, 177]],\n",
       " \n",
       "        [[362, 176]],\n",
       " \n",
       "        [[363, 175]],\n",
       " \n",
       "        [[365, 177]],\n",
       " \n",
       "        [[368, 177]],\n",
       " \n",
       "        [[369, 176]],\n",
       " \n",
       "        [[370, 176]],\n",
       " \n",
       "        [[371, 177]],\n",
       " \n",
       "        [[374, 177]],\n",
       " \n",
       "        [[376, 175]],\n",
       " \n",
       "        [[377, 176]],\n",
       " \n",
       "        [[377, 177]],\n",
       " \n",
       "        [[381, 177]],\n",
       " \n",
       "        [[381, 170]],\n",
       " \n",
       "        [[377, 170]],\n",
       " \n",
       "        [[377, 171]],\n",
       " \n",
       "        [[376, 172]],\n",
       " \n",
       "        [[374, 170]],\n",
       " \n",
       "        [[371, 170]],\n",
       " \n",
       "        [[370, 171]],\n",
       " \n",
       "        [[369, 171]],\n",
       " \n",
       "        [[368, 170]],\n",
       " \n",
       "        [[365, 170]],\n",
       " \n",
       "        [[363, 172]],\n",
       " \n",
       "        [[362, 171]],\n",
       " \n",
       "        [[362, 170]]], dtype=int32), array([[[348, 170]],\n",
       " \n",
       "        [[348, 171]],\n",
       " \n",
       "        [[347, 172]],\n",
       " \n",
       "        [[347, 173]],\n",
       " \n",
       "        [[346, 174]],\n",
       " \n",
       "        [[346, 175]],\n",
       " \n",
       "        [[348, 175]],\n",
       " \n",
       "        [[349, 176]],\n",
       " \n",
       "        [[349, 177]],\n",
       " \n",
       "        [[350, 177]],\n",
       " \n",
       "        [[350, 176]],\n",
       " \n",
       "        [[351, 175]],\n",
       " \n",
       "        [[352, 176]],\n",
       " \n",
       "        [[352, 177]],\n",
       " \n",
       "        [[356, 177]],\n",
       " \n",
       "        [[356, 170]],\n",
       " \n",
       "        [[352, 170]],\n",
       " \n",
       "        [[352, 171]],\n",
       " \n",
       "        [[351, 172]],\n",
       " \n",
       "        [[350, 171]],\n",
       " \n",
       "        [[350, 170]]], dtype=int32), array([[[292, 170]],\n",
       " \n",
       "        [[292, 177]],\n",
       " \n",
       "        [[296, 177]],\n",
       " \n",
       "        [[296, 176]],\n",
       " \n",
       "        [[297, 175]],\n",
       " \n",
       "        [[299, 177]],\n",
       " \n",
       "        [[302, 177]],\n",
       " \n",
       "        [[303, 176]],\n",
       " \n",
       "        [[304, 176]],\n",
       " \n",
       "        [[305, 177]],\n",
       " \n",
       "        [[308, 177]],\n",
       " \n",
       "        [[310, 175]],\n",
       " \n",
       "        [[311, 176]],\n",
       " \n",
       "        [[311, 177]],\n",
       " \n",
       "        [[315, 177]],\n",
       " \n",
       "        [[315, 170]],\n",
       " \n",
       "        [[311, 170]],\n",
       " \n",
       "        [[311, 171]],\n",
       " \n",
       "        [[310, 172]],\n",
       " \n",
       "        [[308, 170]],\n",
       " \n",
       "        [[305, 170]],\n",
       " \n",
       "        [[304, 171]],\n",
       " \n",
       "        [[303, 171]],\n",
       " \n",
       "        [[302, 170]],\n",
       " \n",
       "        [[299, 170]],\n",
       " \n",
       "        [[297, 172]],\n",
       " \n",
       "        [[296, 171]],\n",
       " \n",
       "        [[296, 170]]], dtype=int32), array([[[280, 170]],\n",
       " \n",
       "        [[280, 171]],\n",
       " \n",
       "        [[281, 171]],\n",
       " \n",
       "        [[282, 170]],\n",
       " \n",
       "        [[283, 171]],\n",
       " \n",
       "        [[283, 172]],\n",
       " \n",
       "        [[282, 173]],\n",
       " \n",
       "        [[281, 173]],\n",
       " \n",
       "        [[282, 173]],\n",
       " \n",
       "        [[284, 175]],\n",
       " \n",
       "        [[282, 177]],\n",
       " \n",
       "        [[281, 176]],\n",
       " \n",
       "        [[280, 176]],\n",
       " \n",
       "        [[280, 177]],\n",
       " \n",
       "        [[284, 177]],\n",
       " \n",
       "        [[285, 176]],\n",
       " \n",
       "        [[286, 177]],\n",
       " \n",
       "        [[290, 177]],\n",
       " \n",
       "        [[290, 170]],\n",
       " \n",
       "        [[286, 170]],\n",
       " \n",
       "        [[285, 171]],\n",
       " \n",
       "        [[284, 170]]], dtype=int32), array([[[245, 170]],\n",
       " \n",
       "        [[245, 177]],\n",
       " \n",
       "        [[249, 177]],\n",
       " \n",
       "        [[249, 170]]], dtype=int32), array([[[226, 170]],\n",
       " \n",
       "        [[226, 177]],\n",
       " \n",
       "        [[230, 177]],\n",
       " \n",
       "        [[230, 176]],\n",
       " \n",
       "        [[231, 175]],\n",
       " \n",
       "        [[233, 177]],\n",
       " \n",
       "        [[236, 177]],\n",
       " \n",
       "        [[238, 175]],\n",
       " \n",
       "        [[239, 176]],\n",
       " \n",
       "        [[239, 177]],\n",
       " \n",
       "        [[243, 177]],\n",
       " \n",
       "        [[243, 170]],\n",
       " \n",
       "        [[239, 170]],\n",
       " \n",
       "        [[239, 171]],\n",
       " \n",
       "        [[238, 172]],\n",
       " \n",
       "        [[236, 170]],\n",
       " \n",
       "        [[233, 170]],\n",
       " \n",
       "        [[231, 172]],\n",
       " \n",
       "        [[230, 171]],\n",
       " \n",
       "        [[230, 170]]], dtype=int32), array([[[214, 170]],\n",
       " \n",
       "        [[214, 171]],\n",
       " \n",
       "        [[215, 171]],\n",
       " \n",
       "        [[216, 170]],\n",
       " \n",
       "        [[218, 172]],\n",
       " \n",
       "        [[214, 176]],\n",
       " \n",
       "        [[214, 177]],\n",
       " \n",
       "        [[224, 177]],\n",
       " \n",
       "        [[224, 170]],\n",
       " \n",
       "        [[220, 170]],\n",
       " \n",
       "        [[219, 171]],\n",
       " \n",
       "        [[218, 170]]], dtype=int32), array([[[178, 170]],\n",
       " \n",
       "        [[178, 177]],\n",
       " \n",
       "        [[182, 177]],\n",
       " \n",
       "        [[182, 170]]], dtype=int32), array([[[159, 170]],\n",
       " \n",
       "        [[159, 177]],\n",
       " \n",
       "        [[163, 177]],\n",
       " \n",
       "        [[163, 176]],\n",
       " \n",
       "        [[164, 175]],\n",
       " \n",
       "        [[166, 177]],\n",
       " \n",
       "        [[169, 177]],\n",
       " \n",
       "        [[171, 175]],\n",
       " \n",
       "        [[172, 176]],\n",
       " \n",
       "        [[172, 177]],\n",
       " \n",
       "        [[176, 177]],\n",
       " \n",
       "        [[176, 170]],\n",
       " \n",
       "        [[172, 170]],\n",
       " \n",
       "        [[172, 171]],\n",
       " \n",
       "        [[171, 172]],\n",
       " \n",
       "        [[169, 170]],\n",
       " \n",
       "        [[166, 170]],\n",
       " \n",
       "        [[164, 172]],\n",
       " \n",
       "        [[163, 171]],\n",
       " \n",
       "        [[163, 170]]], dtype=int32), array([[[148, 170]],\n",
       " \n",
       "        [[148, 171]],\n",
       " \n",
       "        [[149, 172]],\n",
       " \n",
       "        [[149, 176]],\n",
       " \n",
       "        [[148, 177]],\n",
       " \n",
       "        [[157, 177]],\n",
       " \n",
       "        [[157, 170]],\n",
       " \n",
       "        [[153, 170]],\n",
       " \n",
       "        [[153, 176]],\n",
       " \n",
       "        [[152, 177]],\n",
       " \n",
       "        [[151, 177]],\n",
       " \n",
       "        [[150, 176]],\n",
       " \n",
       "        [[150, 170]]], dtype=int32), array([[[ 98, 170]],\n",
       " \n",
       "        [[ 97, 171]],\n",
       " \n",
       "        [[ 97, 176]],\n",
       " \n",
       "        [[ 98, 177]],\n",
       " \n",
       "        [[101, 177]],\n",
       " \n",
       "        [[102, 176]],\n",
       " \n",
       "        [[102, 171]],\n",
       " \n",
       "        [[101, 170]]], dtype=int32), array([[[ 38, 143]],\n",
       " \n",
       "        [[ 44, 143]]], dtype=int32), array([[[ 70, 139]],\n",
       " \n",
       "        [[ 70, 146]],\n",
       " \n",
       "        [[ 74, 146]],\n",
       " \n",
       "        [[ 74, 145]],\n",
       " \n",
       "        [[ 75, 144]],\n",
       " \n",
       "        [[ 75, 141]],\n",
       " \n",
       "        [[ 74, 140]],\n",
       " \n",
       "        [[ 74, 139]]], dtype=int32), array([[[ 52, 139]],\n",
       " \n",
       "        [[ 51, 140]],\n",
       " \n",
       "        [[ 51, 145]],\n",
       " \n",
       "        [[ 52, 146]],\n",
       " \n",
       "        [[ 55, 146]],\n",
       " \n",
       "        [[ 56, 145]],\n",
       " \n",
       "        [[ 57, 145]],\n",
       " \n",
       "        [[ 58, 146]],\n",
       " \n",
       "        [[ 61, 146]],\n",
       " \n",
       "        [[ 63, 144]],\n",
       " \n",
       "        [[ 64, 145]],\n",
       " \n",
       "        [[ 64, 146]],\n",
       " \n",
       "        [[ 68, 146]],\n",
       " \n",
       "        [[ 68, 139]],\n",
       " \n",
       "        [[ 64, 139]],\n",
       " \n",
       "        [[ 64, 140]],\n",
       " \n",
       "        [[ 63, 141]],\n",
       " \n",
       "        [[ 61, 139]],\n",
       " \n",
       "        [[ 58, 139]],\n",
       " \n",
       "        [[ 57, 140]],\n",
       " \n",
       "        [[ 56, 140]],\n",
       " \n",
       "        [[ 55, 139]]], dtype=int32), array([[[ 45, 139]],\n",
       " \n",
       "        [[ 45, 140]],\n",
       " \n",
       "        [[ 46, 140]],\n",
       " \n",
       "        [[ 47, 141]],\n",
       " \n",
       "        [[ 47, 145]],\n",
       " \n",
       "        [[ 46, 146]],\n",
       " \n",
       "        [[ 45, 146]],\n",
       " \n",
       "        [[ 49, 146]],\n",
       " \n",
       "        [[ 48, 145]],\n",
       " \n",
       "        [[ 48, 139]]], dtype=int32), array([[[ 72, 106]],\n",
       " \n",
       "        [[ 71, 107]],\n",
       " \n",
       "        [[ 71, 112]],\n",
       " \n",
       "        [[ 72, 113]],\n",
       " \n",
       "        [[ 75, 113]],\n",
       " \n",
       "        [[ 76, 112]],\n",
       " \n",
       "        [[ 76, 107]],\n",
       " \n",
       "        [[ 75, 106]]], dtype=int32), array([[[58, 73]],\n",
       " \n",
       "        [[58, 80]],\n",
       " \n",
       "        [[62, 80]],\n",
       " \n",
       "        [[62, 79]],\n",
       " \n",
       "        [[63, 78]],\n",
       " \n",
       "        [[65, 80]],\n",
       " \n",
       "        [[68, 80]],\n",
       " \n",
       "        [[70, 78]],\n",
       " \n",
       "        [[71, 79]],\n",
       " \n",
       "        [[71, 80]],\n",
       " \n",
       "        [[75, 80]],\n",
       " \n",
       "        [[75, 73]],\n",
       " \n",
       "        [[71, 73]],\n",
       " \n",
       "        [[71, 74]],\n",
       " \n",
       "        [[70, 75]],\n",
       " \n",
       "        [[68, 73]],\n",
       " \n",
       "        [[65, 73]],\n",
       " \n",
       "        [[63, 75]],\n",
       " \n",
       "        [[62, 74]],\n",
       " \n",
       "        [[62, 73]]], dtype=int32), array([[[47, 73]],\n",
       " \n",
       "        [[47, 74]],\n",
       " \n",
       "        [[48, 75]],\n",
       " \n",
       "        [[48, 79]],\n",
       " \n",
       "        [[47, 80]],\n",
       " \n",
       "        [[56, 80]],\n",
       " \n",
       "        [[56, 73]],\n",
       " \n",
       "        [[52, 73]],\n",
       " \n",
       "        [[52, 79]],\n",
       " \n",
       "        [[51, 80]],\n",
       " \n",
       "        [[50, 80]],\n",
       " \n",
       "        [[49, 79]],\n",
       " \n",
       "        [[49, 73]]], dtype=int32), array([[[ 84,  65]],\n",
       " \n",
       "        [[ 84,  76]],\n",
       " \n",
       "        [[ 83,  77]],\n",
       " \n",
       "        [[ 81,  77]],\n",
       " \n",
       "        [[ 83,  77]],\n",
       " \n",
       "        [[ 84,  78]],\n",
       " \n",
       "        [[ 84, 109]],\n",
       " \n",
       "        [[ 83, 110]],\n",
       " \n",
       "        [[ 81, 110]],\n",
       " \n",
       "        [[ 83, 110]],\n",
       " \n",
       "        [[ 84, 111]],\n",
       " \n",
       "        [[ 84, 142]],\n",
       " \n",
       "        [[ 83, 143]],\n",
       " \n",
       "        [[ 81, 143]],\n",
       " \n",
       "        [[ 83, 143]],\n",
       " \n",
       "        [[ 84, 144]],\n",
       " \n",
       "        [[ 84, 163]],\n",
       " \n",
       "        [[ 98, 163]],\n",
       " \n",
       "        [[ 99, 164]],\n",
       " \n",
       "        [[ 99, 167]],\n",
       " \n",
       "        [[ 99, 164]],\n",
       " \n",
       "        [[100, 163]],\n",
       " \n",
       "        [[165, 163]],\n",
       " \n",
       "        [[166, 164]],\n",
       " \n",
       "        [[166, 167]],\n",
       " \n",
       "        [[166, 164]],\n",
       " \n",
       "        [[167, 163]],\n",
       " \n",
       "        [[231, 163]],\n",
       " \n",
       "        [[232, 164]],\n",
       " \n",
       "        [[232, 167]],\n",
       " \n",
       "        [[232, 164]],\n",
       " \n",
       "        [[233, 163]],\n",
       " \n",
       "        [[297, 163]],\n",
       " \n",
       "        [[298, 164]],\n",
       " \n",
       "        [[298, 167]],\n",
       " \n",
       "        [[298, 164]],\n",
       " \n",
       "        [[299, 163]],\n",
       " \n",
       "        [[363, 163]],\n",
       " \n",
       "        [[364, 164]],\n",
       " \n",
       "        [[364, 167]],\n",
       " \n",
       "        [[364, 164]],\n",
       " \n",
       "        [[365, 163]],\n",
       " \n",
       "        [[419, 163]],\n",
       " \n",
       "        [[419,  65]]], dtype=int32)]"
      ]
     },
     "execution_count": 32,
     "metadata": {},
     "output_type": "execute_result"
    }
   ],
   "source": [
    "cnts"
   ]
  },
  {
   "cell_type": "code",
   "execution_count": 33,
   "metadata": {},
   "outputs": [],
   "source": [
    "cnts = sorted(cnts,key=cv2.contourArea, reverse=True)[0]"
   ]
  },
  {
   "cell_type": "code",
   "execution_count": 34,
   "metadata": {},
   "outputs": [
    {
     "data": {
      "text/plain": [
       "array([[[ 84,  65]],\n",
       "\n",
       "       [[ 84,  76]],\n",
       "\n",
       "       [[ 83,  77]],\n",
       "\n",
       "       [[ 81,  77]],\n",
       "\n",
       "       [[ 83,  77]],\n",
       "\n",
       "       [[ 84,  78]],\n",
       "\n",
       "       [[ 84, 109]],\n",
       "\n",
       "       [[ 83, 110]],\n",
       "\n",
       "       [[ 81, 110]],\n",
       "\n",
       "       [[ 83, 110]],\n",
       "\n",
       "       [[ 84, 111]],\n",
       "\n",
       "       [[ 84, 142]],\n",
       "\n",
       "       [[ 83, 143]],\n",
       "\n",
       "       [[ 81, 143]],\n",
       "\n",
       "       [[ 83, 143]],\n",
       "\n",
       "       [[ 84, 144]],\n",
       "\n",
       "       [[ 84, 163]],\n",
       "\n",
       "       [[ 98, 163]],\n",
       "\n",
       "       [[ 99, 164]],\n",
       "\n",
       "       [[ 99, 167]],\n",
       "\n",
       "       [[ 99, 164]],\n",
       "\n",
       "       [[100, 163]],\n",
       "\n",
       "       [[165, 163]],\n",
       "\n",
       "       [[166, 164]],\n",
       "\n",
       "       [[166, 167]],\n",
       "\n",
       "       [[166, 164]],\n",
       "\n",
       "       [[167, 163]],\n",
       "\n",
       "       [[231, 163]],\n",
       "\n",
       "       [[232, 164]],\n",
       "\n",
       "       [[232, 167]],\n",
       "\n",
       "       [[232, 164]],\n",
       "\n",
       "       [[233, 163]],\n",
       "\n",
       "       [[297, 163]],\n",
       "\n",
       "       [[298, 164]],\n",
       "\n",
       "       [[298, 167]],\n",
       "\n",
       "       [[298, 164]],\n",
       "\n",
       "       [[299, 163]],\n",
       "\n",
       "       [[363, 163]],\n",
       "\n",
       "       [[364, 164]],\n",
       "\n",
       "       [[364, 167]],\n",
       "\n",
       "       [[364, 164]],\n",
       "\n",
       "       [[365, 163]],\n",
       "\n",
       "       [[419, 163]],\n",
       "\n",
       "       [[419,  65]]], dtype=int32)"
      ]
     },
     "execution_count": 34,
     "metadata": {},
     "output_type": "execute_result"
    }
   ],
   "source": [
    "cnts"
   ]
  },
  {
   "cell_type": "code",
   "execution_count": 36,
   "metadata": {},
   "outputs": [
    {
     "data": {
      "text/plain": [
       "array([[0, 0, 0, ..., 0, 0, 0],\n",
       "       [0, 0, 0, ..., 0, 0, 0],\n",
       "       [0, 0, 0, ..., 0, 0, 0],\n",
       "       ...,\n",
       "       [0, 0, 0, ..., 0, 0, 0],\n",
       "       [0, 0, 0, ..., 0, 0, 0],\n",
       "       [0, 0, 0, ..., 0, 0, 0]], dtype=uint8)"
      ]
     },
     "execution_count": 36,
     "metadata": {},
     "output_type": "execute_result"
    }
   ],
   "source": [
    "cv2.drawContours(outline, [cnts],-1,255,-1)"
   ]
  },
  {
   "cell_type": "code",
   "execution_count": 37,
   "metadata": {},
   "outputs": [],
   "source": [
    "moments = desc.describe(thresh)"
   ]
  },
  {
   "cell_type": "code",
   "execution_count": 38,
   "metadata": {},
   "outputs": [
    {
     "data": {
      "text/plain": [
       "array([0.31830989, 0.00141876, 0.00109114, 0.002908  , 0.00290244,\n",
       "       0.00216102, 0.00188277, 0.00467153, 0.00197629, 0.00451589,\n",
       "       0.00335614, 0.00518535, 0.00277594, 0.00615583, 0.00268658,\n",
       "       0.00437002, 0.00631658, 0.00464248, 0.00714014, 0.009247  ,\n",
       "       0.0038185 , 0.00722839, 0.00328881, 0.00584406, 0.00305053])"
      ]
     },
     "execution_count": 38,
     "metadata": {},
     "output_type": "execute_result"
    }
   ],
   "source": [
    "moments"
   ]
  },
  {
   "cell_type": "code",
   "execution_count": 40,
   "metadata": {},
   "outputs": [
    {
     "data": {
      "image/png": "[encoded data removed]",
      "text/plain": [
       "<matplotlib.figure.Figure at 0x7fed34af3978>"
      ]
     },
     "metadata": {},
     "output_type": "display_data"
    }
   ],
   "source": [
    "plt.imshow(thresh,cmap='gray')\n",
    "plt.xticks([]),plt.yticks([])\n",
    "plt.show()"
   ]
  },
  {
   "cell_type": "markdown",
   "metadata": {},
   "source": [
    "# Preparing the drilling(i.e. positive examples)"
   ]
  },
  {
   "cell_type": "markdown",
   "metadata": {},
   "source": [
    "index = 0\n",
    "for path in glob.glob('/home/anirudh/Desktop/OUR project images/' + \"/*.png\"):\n",
    "    imgName = (path.split('/')[-1]).replace(\".png\",\"\")\n",
    "    \n",
    "    #Load the image from the file\n",
    "    image = cv2.imread(path)\n",
    "    \n",
    "    #Convert the image from RGB to Gray\n",
    "    image = cv2.cvtColor(image, cv2.COLOR_BGR2GRAY)\n",
    "    \n",
    "    #Pad the image with extra white pixels\n",
    "    image = cv2.copyMakeBorder(image,15,15,15,15, cv2.BORDER_CONSTANT, value = 255)\n",
    "    \n",
    "    #Invert the image and threshold it\n",
    "    thresh = cv2.bitwise_not(image)\n",
    "        \n",
    "    #Initialize the outline image, find the outermost contours(outline) of the waveform, then draw it\n",
    "    outline = np.zeros(image.shape, np.uint8)\n",
    "        \n",
    "    _,cnts,hierarchy = cv2.findContours(thresh.copy(), cv2.RETR_EXTERNAL, cv2.CHAIN_APPROX_SIMPLE)\n",
    "    cnts = sorted(cnts, key = cv2.contourArea, reverse = True)[0]\n",
    "    cv2.drawContours(outline, [cnts],-1,255,-1)\n",
    "    \n",
    "    moments = desc.describe(thresh)\n",
    "    dataset[imgName] = moments\n",
    "    imageNames.insert(index,imgName)\n",
    "    index += 1"
   ]
  },
  {
   "cell_type": "code",
   "execution_count": 49,
   "metadata": {},
   "outputs": [],
   "source": [
    "drillingFeatures = {}\n",
    "drillingLabels = []"
   ]
  },
  {
   "cell_type": "code",
   "execution_count": 50,
   "metadata": {},
   "outputs": [],
   "source": [
    "index = 0\n",
    "for path in glob.glob('/home/anirudh/Desktop/OUR project images/drilling' + \"/*.png\"):\n",
    "    \n",
    "    imgName = (path.split('/')[-1].replace(\".png\",\"\"))\n",
    "    \n",
    "    #Load the image from the file\n",
    "    image = cv2.imread(path)\n",
    "    \n",
    "    #Convert the image to Gray\n",
    "    image = cv2.cvtColor(image, cv2.COLOR_BGR2GRAY)\n",
    "    \n",
    "    #Pad the image with pixels to prevent overlapping at edges\n",
    "    image = cv2.copyMakeBorder(image,15,15,15,15, cv2.BORDER_CONSTANT, value = 255)\n",
    "    \n",
    "    #Invert the image and threshold it\n",
    "    thresh = cv2.bitwise_not(image)\n",
    "    \n",
    "    #Initialize the outline image, find the outermost contours of the waveform and plot it\n",
    "    outline = np.zeros(image.shape, np.uint8)\n",
    "    \n",
    "    _,cnts,hierarchy = cv2.findContours(thresh.copy(),cv2.RETR_EXTERNAL, cv2.CHAIN_APPROX_SIMPLE)\n",
    "    cnts = sorted(cnts, key= cv2.contourArea, reverse= True)[0]\n",
    "    cv2.drawContours(outline, [cnts],-1,255,-1)\n",
    "    \n",
    "    moments = desc.describe(thresh)\n",
    "    drillingFeatures[imgName] = moments\n",
    "    drillingLabels.insert(index,imgName)\n",
    "    index += 1"
   ]
  },
  {
   "cell_type": "code",
   "execution_count": 52,
   "metadata": {},
   "outputs": [
    {
     "data": {
      "text/plain": [
       "83"
      ]
     },
     "execution_count": 52,
     "metadata": {},
     "output_type": "execute_result"
    }
   ],
   "source": [
    "len(drillingFeatures)"
   ]
  },
  {
   "cell_type": "code",
   "execution_count": 54,
   "metadata": {},
   "outputs": [
    {
     "data": {
      "text/plain": [
       "['118278',\n",
       " '165786',\n",
       " '71088',\n",
       " '165643',\n",
       " '74922',\n",
       " '17913',\n",
       " '29722',\n",
       " '107842',\n",
       " '57584',\n",
       " '50415',\n",
       " '147764',\n",
       " '165644',\n",
       " '14110',\n",
       " '14111',\n",
       " '57696',\n",
       " '130961',\n",
       " '156362',\n",
       " '84699',\n",
       " '34621',\n",
       " '165642',\n",
       " '74965',\n",
       " '99192',\n",
       " '71079',\n",
       " '29721',\n",
       " '14115',\n",
       " '180029',\n",
       " '14113',\n",
       " '34643',\n",
       " '165640',\n",
       " '127443',\n",
       " '50416',\n",
       " '71082',\n",
       " '205874',\n",
       " '147019',\n",
       " '140824',\n",
       " '181624',\n",
       " '146244',\n",
       " '104625',\n",
       " '42324',\n",
       " '71080',\n",
       " '58937',\n",
       " '39532',\n",
       " '66622',\n",
       " '71086',\n",
       " '165645',\n",
       " '165641',\n",
       " '50414',\n",
       " '127538',\n",
       " '179212',\n",
       " '167750',\n",
       " '14114',\n",
       " '69598',\n",
       " '139000',\n",
       " '167702',\n",
       " '165785',\n",
       " '71087',\n",
       " '50413',\n",
       " '31884',\n",
       " '39533',\n",
       " '144351',\n",
       " '71171',\n",
       " '89099',\n",
       " '166931',\n",
       " '205610',\n",
       " '58005',\n",
       " '63095',\n",
       " '55020',\n",
       " '135849',\n",
       " '205878',\n",
       " '77751',\n",
       " '104817',\n",
       " '168037',\n",
       " '103357',\n",
       " '187863',\n",
       " '46668',\n",
       " '71529',\n",
       " '137815',\n",
       " '146249',\n",
       " '128607',\n",
       " '46669',\n",
       " '167701',\n",
       " '199929',\n",
       " '518']"
      ]
     },
     "execution_count": 54,
     "metadata": {},
     "output_type": "execute_result"
    }
   ],
   "source": [
    "drillingLabels"
   ]
  },
  {
   "cell_type": "code",
   "execution_count": null,
   "metadata": {},
   "outputs": [],
   "source": []
  }
 ],
 "metadata": {
  "kernelspec": {
   "display_name": "Python 3",
   "language": "python",
   "name": "python3"
  },
  "language_info": {
   "codemirror_mode": {
    "name": "ipython",
    "version": 3
   },
   "file_extension": ".py",
   "mimetype": "text/x-python",
   "name": "python",
   "nbconvert_exporter": "python",
   "pygments_lexer": "ipython3",
   "version": "3.6.4"
  }
 },
 "nbformat": 4,
 "nbformat_minor": 2
}
