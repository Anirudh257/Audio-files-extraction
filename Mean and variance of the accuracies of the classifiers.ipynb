{
 "cells": [
  {
   "cell_type": "code",
   "execution_count": 1,
   "metadata": {},
   "outputs": [
    {
     "name": "stdout",
     "output_type": "stream",
     "text": [
      "/home/anirudh\r\n"
     ]
    }
   ],
   "source": [
    "!pwd"
   ]
  },
  {
   "cell_type": "code",
   "execution_count": 2,
   "metadata": {},
   "outputs": [],
   "source": [
    "import os\n",
    "import numpy as np"
   ]
  },
  {
   "cell_type": "code",
   "execution_count": 3,
   "metadata": {},
   "outputs": [],
   "source": [
    "os.chdir(\"/home/anirudh/Desktop/\")"
   ]
  },
  {
   "cell_type": "code",
   "execution_count": 4,
   "metadata": {},
   "outputs": [],
   "source": [
    "file = open(\"Results\",\"r\")"
   ]
  },
  {
   "cell_type": "code",
   "execution_count": 5,
   "metadata": {
    "scrolled": false
   },
   "outputs": [
    {
     "name": "stdout",
     "output_type": "stream",
     "text": [
      "Run 1\n",
      "\n",
      "SVM = \t56.0\n",
      "KNN(n = 3) = \t40.0\n",
      "KNN(n = 5) = \t46.0\n",
      "Adaboost = \t6.0\n",
      "Decision = \t36.0\n",
      "Gaussian = \t54.0\n",
      "Logistic regression = \t62.0\n",
      "Multi-layer perceptron = \t8.0\n",
      "Perceptron = \t86.0\n",
      "Random Forest = \t36.0\n",
      "Sigmoid = \t30.0\n",
      "LSTM: 8.77\n",
      "binary relevance: 22.73\n",
      "\n",
      "Run 2\n",
      "\n",
      "SVM = \t38.0\n",
      "KNN(n = 3) = \t26.0\n",
      "KNN(n = 5) = \t32.0\n",
      "Adaboost = \t18.0\n",
      "Decision = \t20.0\n",
      "Gaussian = \t38.0\n",
      "Logistic regression = \t50.0\n",
      "Multi-layer perceptron = \t4.0\n",
      "Perceptron = \t100.0\n",
      "Random Forest = \t26.0\n",
      "Sigmoid = \t18.0\n",
      "LSTM = 13.16\n",
      "binary relevance: 18.18\n",
      "\n",
      "Date: 20/11/17\n",
      "\n",
      "Run 3\n",
      "\n",
      "SVM = \t50.0\n",
      "KNN(n = 3) = \t34.0\n",
      "KNN(n = 5) = \t38.0\n",
      "Adaboost = \t22.0\n",
      "Decision = \t20.0\n",
      "Gaussian = \t48.0\n",
      "Logistic regression = \t56.0\n",
      "Multi-layer perceptron = \t28.0\n",
      "Perceptron = \t92.0\n",
      "Random Forest = \t36.0\n",
      "Sigmoid = \t34.0\n",
      "LSTM = 15.79\n",
      "binary relevance = 4.5499\n",
      "\n",
      "Run 4\n",
      "\n",
      "SVM = \t44.0\n",
      "KNN(n = 3) = \t28.0\n",
      "KNN(n = 5) = \t32.0\n",
      "Adaboost = \t16.0\n",
      "Decision = \t34.0\n",
      "Gaussian = \t42.0\n",
      "Logistic regression = \t52.0\n",
      "Multi-layer perceptron = \t26.0\n",
      "Perceptron = \t88.0\n",
      "Random Forest = \t28.0\n",
      "Sigmoid = \t28.0\n",
      "LSTM = 14.91\n",
      "binary relevance = 22.73\n",
      "\n",
      "Run 5\n",
      "\n",
      "SVM = \t50.0\n",
      "KNN(n = 3) = \t42.0\n",
      "KNN(n = 5) = \t38.0\n",
      "Adaboost = \t16.0\n",
      "Decision = \t32.0\n",
      "Gaussian = \t42.0\n",
      "Logistic regression = \t52.0\n",
      "Multi-layer perceptron = \t10.0\n",
      "Perceptron = \t92.0\n",
      "Random Forest = \t32.0\n",
      "Sigmoid = \t38.0\n",
      "LSTM = 15.79\n",
      "binary relevance = 13.64\n",
      "\n",
      "Run 6\n",
      "\n",
      "SVM = \t36.0\n",
      "KNN(n = 3) = \t34.0\n",
      "KNN(n = 5) = \t32.0\n",
      "Adaboost = \t10.0\n",
      "Decision = \t28.0\n",
      "Gaussian = \t40.0\n",
      "Logistic regression = \t46.0\n",
      "Multi-layer perceptron = 16.0\n",
      "Perceptron = \t78.0\n",
      "Random Forest = \t30.0\n",
      "Sigmoid = \t34.0\n",
      "LSTM = 1.75\n",
      "Binary relevance = 18.18\n",
      "\n",
      "Run 7\n",
      "\n",
      "SVM = \t46.0\n",
      "KNN(n = 3) = \t36.0\n",
      "KNN(n = 5) = \t40.0\n",
      "Adaboost = \t16.0\n",
      "Decision = \t20.0\n",
      "Gaussian = \t40.0\n",
      "Logistic regression = \t48.0\n",
      "Multi-layer perceptron = \t12.0\n",
      "Perceptron = \t98.0\n",
      "Random Forest = \t32.0\n",
      "Sigmoid = \t30.0\n",
      "LSTM = 9.65\n",
      "Binary relevance = 13.64\n",
      "\n",
      "Run 8\n",
      "\n",
      "SVM = \t62.0\n",
      "KNN(n = 3) = \t48.0\n",
      "KNN(n = 5) = \t48.0\n",
      "Adaboost = \t18.0\n",
      "Decision = \t44.0\n",
      "Gaussian = \t58.0\n",
      "Logistic regression = \t64.0\n",
      "Multi-layer perceptron = \t28.0\n",
      "Perceptron = \t96.0\n",
      "Random Forest = \t36.0\n",
      "Sigmoid = \t54.0\n",
      "LSTM = 14.04\n",
      "Binary relevance = 22.73\n",
      "\n",
      "Run 9\n",
      "\n",
      "SVM = \t58.0\n",
      "KNN(n = 3) = \t36.0\n",
      "KNN(n = 5) = \t42.0\n",
      "Adaboost = \t24.0\n",
      "Decision = \t26.0\n",
      "Gaussian = \t52.0\n",
      "Logistic regression = \t62.0\n",
      "Multi-layer perceptron = \t28.0\n",
      "Perceptron = \t86.0\n",
      "Random Forest = \t28.0\n",
      "Sigmoid = \t22.0\n",
      "LSTM = 5.26\n",
      "Binary relevance = 13.64\n",
      "\n",
      "Run 10\n",
      "\n",
      "SVM = \t52.0\n",
      "KNN(n = 3) = \t42.0\n",
      "KNN(n = 5) = \t38.0\n",
      "Adaboost = \t14.0\n",
      "Decision = \t16.0\n",
      "Gaussian = \t40.0\n",
      "Logistic regression = \t56.0\n",
      "Multi-layer perceptron = \t22.0\n",
      "Perceptron = \t100.0\n",
      "Random Forest = \t36.0\n",
      "Sigmoid = \t24.0\n",
      "LSTM = 14.91\n",
      "Binary relevance = 18.18\n",
      "\n",
      "Run 11\n",
      "\n",
      "SVM = \t46.0\n",
      "KNN(n = 3) = \t32.0\n",
      "KNN(n = 5) = \t38.0\n",
      "Adaboost = \t22.0\n",
      "Decision = \t26.0\n",
      "Gaussian = \t50.0\n",
      "Logistic regression = \t58.0\n",
      "Multi-layer perceptron = \t34.0\n",
      "Perceptron = \t100.0\n",
      "Random Forest = \t28.0\n",
      "Sigmoid = \t48.0\n",
      "LSTM = 9.65\n",
      "Binary Relevance = 18.18\n",
      "\n",
      "Run 12\n",
      "\n",
      "SVM = \t48.0\n",
      "KNN(n = 3) = \t34.0\n",
      "KNN(n = 5) = \t42.0\n",
      "Adaboost = \t8.0\n",
      "Decision = \t24.0\n",
      "Gaussian = \t38.0\n",
      "Logistic regression = \t44.0\n",
      "Multi-layer perceptron = \t24.0\n",
      "Perceptron = \t100.0\n",
      "Random Forest = \t34.0\n",
      "Sigmoid = \t42.0\n",
      "LSTM = 12.28\n",
      "Binary relevance = 9.089\n",
      "\n",
      "Run 13\n",
      "\n",
      "SVM = \t50.0\n",
      "KNN(n = 3) = \t32.0\n",
      "KNN(n = 5) = \t36.0\n",
      "Adaboost = \t12.0\n",
      "Decision = \t22.0\n",
      "Gaussian = \t44.0\n",
      "Logistic regression = \t50.0\n",
      "Multi-layer perceptron = \t8.0\n",
      "Perceptron = \t100.0\n",
      "Random Forest = \t28.0\n",
      "Sigmoid = \t32.0\n",
      "LSTM = 6.14\n",
      "Binary relevance = 22.73\n",
      "\n",
      "Run 14\n",
      "\n",
      "SVM = \t50.0\n",
      "KNN(n = 3) = \t40.0\n",
      "KNN(n = 5) = \t34.0\n",
      "Adaboost = \t24.0\n",
      "Decision = \t32.0\n",
      "Gaussian = \t46.0\n",
      "Logistic regression = \t56.0\n",
      "Multi-layer perceptron = \t6.0\n",
      "Perceptron = \t98.0\n",
      "Random Forest = \t34.0\n",
      "Sigmoid = \t42.0\n",
      "LSTM = 14.91\n",
      "Binary relevance = 22.73\n",
      "\n",
      "Run 15\n",
      "\n",
      "SVM = \t44.0\n",
      "KNN(n = 3) = \t34.0\n",
      "KNN(n = 5) = \t34.0\n",
      "Adaboost = \t14.0\n",
      "Decision = \t26.0\n",
      "Gaussian = \t42.0\n",
      "Logistic regression = \t50.0\n",
      "Multi-layer perceptron = \t8.0\n",
      "Perceptron = \t88.0\n",
      "Random Forest = \t42.0\n",
      "Sigmoid = \t26.0\n",
      "LSTM = 14.04\n",
      "Binary relevance = 13.64\n",
      "\n",
      "Run 16\n",
      "\n",
      "SVM = \t50.0\n",
      "KNN(n = 3) = \t40.0\n",
      "KNN(n = 5) = \t38.0\n",
      "Adaboost = \t16.0\n",
      "Decision = \t32.0\n",
      "Gaussian = \t50.0\n",
      "Logistic regression = \t48.0\n",
      "Multi-layer perceptron = \t16.0\n",
      "Perceptron = \t98.0\n",
      "Random Forest = \t30.0\n",
      "Sigmoid = \t46.0\n",
      "LSTM = 11.4\n",
      "Binary Relevance = 22.73\n",
      "\n",
      "Run 17\n",
      "\n",
      "SVM = \t50.0\n",
      "KNN(n = 3) = \t30.0\n",
      "KNN(n = 5) = \t30.0\n",
      "Adaboost = \t8.0\n",
      "Decision = \t14.0\n",
      "Gaussian = \t34.0\n",
      "Logistic regression = \t54.0\n",
      "Multi-layer perceptron = \t28.0\n",
      "Perceptron = \t100.0\n",
      "Random Forest = \t28.0\n",
      "Sigmoid = \t16.0\n",
      "LSTM = 5.26\n",
      "Binary relevance = 13.64\n",
      "\n",
      "Run 18\n",
      "\n",
      "SVM = \t46.0\n",
      "KNN(n = 3) = \t34.0\n",
      "KNN(n = 5) = \t36.0\n",
      "Adaboost = \t20.0\n",
      "Decision = \t18.0\n",
      "Gaussian = \t38.0\n",
      "Logistic regression = \t46.0\n",
      "Multi-layer perceptron = \t20.0\n",
      "Perceptron = \t98.0\n",
      "Random Forest = \t34.0\n",
      "Sigmoid = \t26.0\n",
      "LSTM = 11.4\n",
      "Binary relevance = 13.64\n",
      "\n",
      "Run 19\n",
      "\n",
      "SVM = \t42.0\n",
      "KNN(n = 3) = \t36.0\n",
      "KNN(n = 5) = \t34.0\n",
      "Adaboost = \t18.0\n",
      "Decision = \t22.0\n",
      "Gaussian = \t40.0\n",
      "Logistic regression = \t52.0\n",
      "Multi-layer perceptron = \t22.0\n",
      "Perceptron = \t32.0\n",
      "Random Forest = \t34.0\n",
      "Sigmoid = \t44.0\n",
      "LSTM = 7.02\n",
      "Binary relevance = 18.18\n",
      "\n",
      "Run 20 \n",
      "\n",
      "SVM = \t48.0\n",
      "KNN(n = 3) = \t34.0\n",
      "KNN(n = 5) = \t42.0\n",
      "Adaboost = \t12.0\n",
      "Decision = \t16.0\n",
      "Gaussian = \t44.0\n",
      "Logistic regression = \t48.0\n",
      "Multi-layer perceptron = \t16.0\n",
      "Perceptron = \t74.0\n",
      "Random Forest = \t24.0\n",
      "Sigmoid = \t26.0\n",
      "LSTM = 5.26\n",
      "Binary relevance = 18.18\n",
      "\n",
      "\n"
     ]
    }
   ],
   "source": [
    "print(file.read())"
   ]
  },
  {
   "cell_type": "markdown",
   "metadata": {},
   "source": [
    "# SVM"
   ]
  },
  {
   "cell_type": "code",
   "execution_count": 6,
   "metadata": {},
   "outputs": [],
   "source": [
    "svm = []\n",
    "i = 0"
   ]
  },
  {
   "cell_type": "code",
   "execution_count": 7,
   "metadata": {},
   "outputs": [
    {
     "name": "stdout",
     "output_type": "stream",
     "text": [
      "56\n",
      "38\n",
      "50\n",
      "44\n",
      "50\n",
      "36\n",
      "46\n",
      "62\n",
      "58\n",
      "52\n",
      "46\n",
      "48\n",
      "50\n",
      "50\n",
      "44\n",
      "50\n",
      "50\n",
      "46\n",
      "42\n",
      "48\n"
     ]
    }
   ],
   "source": [
    "#Store all the results pertaining to SVM in one array\n",
    "with open(\"Results\",\"r\") as f:\n",
    "    for line in f:\n",
    "        if(\"SVM\" in line):\n",
    "            print(line[7] + line[8])\n",
    "            svm.insert(i,int(line[7] + line[8]))\n",
    "            i = i + 1"
   ]
  },
  {
   "cell_type": "code",
   "execution_count": 8,
   "metadata": {},
   "outputs": [
    {
     "data": {
      "text/plain": [
       "[56,\n",
       " 38,\n",
       " 50,\n",
       " 44,\n",
       " 50,\n",
       " 36,\n",
       " 46,\n",
       " 62,\n",
       " 58,\n",
       " 52,\n",
       " 46,\n",
       " 48,\n",
       " 50,\n",
       " 50,\n",
       " 44,\n",
       " 50,\n",
       " 50,\n",
       " 46,\n",
       " 42,\n",
       " 48]"
      ]
     },
     "execution_count": 8,
     "metadata": {},
     "output_type": "execute_result"
    }
   ],
   "source": [
    "svm"
   ]
  },
  {
   "cell_type": "code",
   "execution_count": 9,
   "metadata": {},
   "outputs": [],
   "source": [
    "#Find the index of the 1st non-zero element in the list\n",
    "for i in range(len(svm)):\n",
    "    if(svm[i] != 0):\n",
    "        index = i\n",
    "        break;"
   ]
  },
  {
   "cell_type": "code",
   "execution_count": 10,
   "metadata": {},
   "outputs": [
    {
     "data": {
      "text/plain": [
       "0"
      ]
     },
     "execution_count": 10,
     "metadata": {},
     "output_type": "execute_result"
    }
   ],
   "source": [
    "index"
   ]
  },
  {
   "cell_type": "code",
   "execution_count": 11,
   "metadata": {
    "scrolled": true
   },
   "outputs": [
    {
     "data": {
      "text/plain": [
       "[56,\n",
       " 38,\n",
       " 50,\n",
       " 44,\n",
       " 50,\n",
       " 36,\n",
       " 46,\n",
       " 62,\n",
       " 58,\n",
       " 52,\n",
       " 46,\n",
       " 48,\n",
       " 50,\n",
       " 50,\n",
       " 44,\n",
       " 50,\n",
       " 50,\n",
       " 46,\n",
       " 42,\n",
       " 48]"
      ]
     },
     "execution_count": 11,
     "metadata": {},
     "output_type": "execute_result"
    }
   ],
   "source": [
    "#Index of numbers that are relevant to our calculations\n",
    "svm[index:index+20]"
   ]
  },
  {
   "cell_type": "markdown",
   "metadata": {},
   "source": [
    "Some statistics about SVM"
   ]
  },
  {
   "cell_type": "code",
   "execution_count": 12,
   "metadata": {},
   "outputs": [
    {
     "data": {
      "text/plain": [
       "48.299999999999997"
      ]
     },
     "execution_count": 12,
     "metadata": {},
     "output_type": "execute_result"
    }
   ],
   "source": [
    "np.mean(svm[index:index+20])"
   ]
  },
  {
   "cell_type": "code",
   "execution_count": 13,
   "metadata": {},
   "outputs": [
    {
     "data": {
      "text/plain": [
       "36.109999999999999"
      ]
     },
     "execution_count": 13,
     "metadata": {},
     "output_type": "execute_result"
    }
   ],
   "source": [
    "np.var(svm[index:index+20])"
   ]
  },
  {
   "cell_type": "markdown",
   "metadata": {},
   "source": [
    "# KNN (no of neighbors = 3)"
   ]
  },
  {
   "cell_type": "code",
   "execution_count": 14,
   "metadata": {},
   "outputs": [],
   "source": [
    "knn_3 = []\n",
    "i = 0"
   ]
  },
  {
   "cell_type": "code",
   "execution_count": 15,
   "metadata": {},
   "outputs": [
    {
     "name": "stdout",
     "output_type": "stream",
     "text": [
      "40\n",
      "26\n",
      "34\n",
      "28\n",
      "42\n",
      "34\n",
      "36\n",
      "48\n",
      "36\n",
      "42\n",
      "32\n",
      "34\n",
      "32\n",
      "40\n",
      "34\n",
      "40\n",
      "30\n",
      "34\n",
      "36\n",
      "34\n"
     ]
    }
   ],
   "source": [
    "#Store all the results pertaining to KNN(n = 3) in one array\n",
    "with open(\"Results\",\"r\") as f:\n",
    "    for line in f:\n",
    "        if(\"KNN(n = 3)\" in line):\n",
    "            print(line[14] + line[15])\n",
    "            knn_3.insert(i,int(line[14] + line[15]))"
   ]
  },
  {
   "cell_type": "code",
   "execution_count": 16,
   "metadata": {},
   "outputs": [
    {
     "data": {
      "text/plain": [
       "[34,\n",
       " 36,\n",
       " 34,\n",
       " 30,\n",
       " 40,\n",
       " 34,\n",
       " 40,\n",
       " 32,\n",
       " 34,\n",
       " 32,\n",
       " 42,\n",
       " 36,\n",
       " 48,\n",
       " 36,\n",
       " 34,\n",
       " 42,\n",
       " 28,\n",
       " 34,\n",
       " 26,\n",
       " 40]"
      ]
     },
     "execution_count": 16,
     "metadata": {},
     "output_type": "execute_result"
    }
   ],
   "source": [
    "knn_3"
   ]
  },
  {
   "cell_type": "code",
   "execution_count": 17,
   "metadata": {},
   "outputs": [
    {
     "data": {
      "text/plain": [
       "20"
      ]
     },
     "execution_count": 17,
     "metadata": {},
     "output_type": "execute_result"
    }
   ],
   "source": [
    "len(knn_3)"
   ]
  },
  {
   "cell_type": "markdown",
   "metadata": {},
   "source": [
    "Some statistics about KNN"
   ]
  },
  {
   "cell_type": "code",
   "execution_count": 18,
   "metadata": {},
   "outputs": [
    {
     "data": {
      "text/plain": [
       "35.600000000000001"
      ]
     },
     "execution_count": 18,
     "metadata": {},
     "output_type": "execute_result"
    }
   ],
   "source": [
    "np.mean(knn_3)"
   ]
  },
  {
   "cell_type": "code",
   "execution_count": 19,
   "metadata": {},
   "outputs": [
    {
     "data": {
      "text/plain": [
       "25.839999999999996"
      ]
     },
     "execution_count": 19,
     "metadata": {},
     "output_type": "execute_result"
    }
   ],
   "source": [
    "np.var(knn_3)"
   ]
  },
  {
   "cell_type": "markdown",
   "metadata": {},
   "source": [
    "# KNN(no_neighbors = 5)"
   ]
  },
  {
   "cell_type": "code",
   "execution_count": 20,
   "metadata": {},
   "outputs": [],
   "source": [
    "knn_5 = []\n",
    "i = 0"
   ]
  },
  {
   "cell_type": "code",
   "execution_count": 21,
   "metadata": {},
   "outputs": [
    {
     "name": "stdout",
     "output_type": "stream",
     "text": [
      "46\n",
      "32\n",
      "38\n",
      "32\n",
      "38\n",
      "32\n",
      "40\n",
      "48\n",
      "42\n",
      "38\n",
      "38\n",
      "42\n",
      "36\n",
      "34\n",
      "34\n",
      "38\n",
      "30\n",
      "36\n",
      "34\n",
      "42\n"
     ]
    }
   ],
   "source": [
    "#Store all the results pertaining to KNN(n = 5) in one array\n",
    "with open(\"Results\",\"r\") as f:\n",
    "    for line in f:\n",
    "        if(\"KNN(n = 5)\" in line):\n",
    "            print(line[14] + line[15])\n",
    "            knn_5.insert(i,int(line[14] + line[15]))"
   ]
  },
  {
   "cell_type": "code",
   "execution_count": 22,
   "metadata": {},
   "outputs": [
    {
     "data": {
      "text/plain": [
       "[42,\n",
       " 34,\n",
       " 36,\n",
       " 30,\n",
       " 38,\n",
       " 34,\n",
       " 34,\n",
       " 36,\n",
       " 42,\n",
       " 38,\n",
       " 38,\n",
       " 42,\n",
       " 48,\n",
       " 40,\n",
       " 32,\n",
       " 38,\n",
       " 32,\n",
       " 38,\n",
       " 32,\n",
       " 46]"
      ]
     },
     "execution_count": 22,
     "metadata": {},
     "output_type": "execute_result"
    }
   ],
   "source": [
    "knn_5"
   ]
  },
  {
   "cell_type": "code",
   "execution_count": 23,
   "metadata": {},
   "outputs": [
    {
     "data": {
      "text/plain": [
       "20"
      ]
     },
     "execution_count": 23,
     "metadata": {},
     "output_type": "execute_result"
    }
   ],
   "source": [
    "len(knn_5)"
   ]
  },
  {
   "cell_type": "markdown",
   "metadata": {},
   "source": [
    "Some statistics about KNN = 5"
   ]
  },
  {
   "cell_type": "code",
   "execution_count": 24,
   "metadata": {},
   "outputs": [
    {
     "data": {
      "text/plain": [
       "37.5"
      ]
     },
     "execution_count": 24,
     "metadata": {},
     "output_type": "execute_result"
    }
   ],
   "source": [
    "np.mean(knn_5)"
   ]
  },
  {
   "cell_type": "code",
   "execution_count": 25,
   "metadata": {},
   "outputs": [
    {
     "data": {
      "text/plain": [
       "21.949999999999999"
      ]
     },
     "execution_count": 25,
     "metadata": {},
     "output_type": "execute_result"
    }
   ],
   "source": [
    "np.var(knn_5)"
   ]
  },
  {
   "cell_type": "markdown",
   "metadata": {},
   "source": [
    "# Adaboost"
   ]
  },
  {
   "cell_type": "code",
   "execution_count": 26,
   "metadata": {},
   "outputs": [],
   "source": [
    "ada = []\n",
    "i = 0"
   ]
  },
  {
   "cell_type": "code",
   "execution_count": 27,
   "metadata": {},
   "outputs": [
    {
     "name": "stdout",
     "output_type": "stream",
     "text": [
      "6.0\n",
      "\n",
      "18.0\n",
      "22.0\n",
      "16.0\n",
      "16.0\n",
      "10.0\n",
      "16.0\n",
      "18.0\n",
      "24.0\n",
      "14.0\n",
      "22.0\n",
      "8.0\n",
      "\n",
      "12.0\n",
      "24.0\n",
      "14.0\n",
      "16.0\n",
      "8.0\n",
      "\n",
      "20.0\n",
      "18.0\n",
      "12.0\n"
     ]
    }
   ],
   "source": [
    "#Store all the results pertaining to Adaboost in one array\n",
    "with open(\"Results\",\"r\") as f:\n",
    "    for line in f:\n",
    "        if(\"Ada\" in line):\n",
    "            print(line[12] + line[13] + line[14]+line[15])\n",
    "            ada.insert(i,float(line[12] + line[13] + line[14] + line[15]))\n",
    "            i = i + 1"
   ]
  },
  {
   "cell_type": "code",
   "execution_count": 28,
   "metadata": {},
   "outputs": [
    {
     "data": {
      "text/plain": [
       "[6.0,\n",
       " 18.0,\n",
       " 22.0,\n",
       " 16.0,\n",
       " 16.0,\n",
       " 10.0,\n",
       " 16.0,\n",
       " 18.0,\n",
       " 24.0,\n",
       " 14.0,\n",
       " 22.0,\n",
       " 8.0,\n",
       " 12.0,\n",
       " 24.0,\n",
       " 14.0,\n",
       " 16.0,\n",
       " 8.0,\n",
       " 20.0,\n",
       " 18.0,\n",
       " 12.0]"
      ]
     },
     "execution_count": 28,
     "metadata": {},
     "output_type": "execute_result"
    }
   ],
   "source": [
    "ada"
   ]
  },
  {
   "cell_type": "code",
   "execution_count": 29,
   "metadata": {},
   "outputs": [],
   "source": [
    "#Find index of the non-zero element\n",
    "for i in range(len(ada)):\n",
    "    if(ada[i] != 0):\n",
    "        index = i\n",
    "        break"
   ]
  },
  {
   "cell_type": "code",
   "execution_count": 30,
   "metadata": {},
   "outputs": [
    {
     "data": {
      "text/plain": [
       "0"
      ]
     },
     "execution_count": 30,
     "metadata": {},
     "output_type": "execute_result"
    }
   ],
   "source": [
    "index\n"
   ]
  },
  {
   "cell_type": "code",
   "execution_count": 31,
   "metadata": {},
   "outputs": [
    {
     "data": {
      "text/plain": [
       "[6.0,\n",
       " 18.0,\n",
       " 22.0,\n",
       " 16.0,\n",
       " 16.0,\n",
       " 10.0,\n",
       " 16.0,\n",
       " 18.0,\n",
       " 24.0,\n",
       " 14.0,\n",
       " 22.0,\n",
       " 8.0,\n",
       " 12.0,\n",
       " 24.0,\n",
       " 14.0,\n",
       " 16.0,\n",
       " 8.0,\n",
       " 20.0,\n",
       " 18.0,\n",
       " 12.0]"
      ]
     },
     "execution_count": 31,
     "metadata": {},
     "output_type": "execute_result"
    }
   ],
   "source": [
    "ada[index:index+20]"
   ]
  },
  {
   "cell_type": "markdown",
   "metadata": {},
   "source": [
    "Statistics about Adaboost"
   ]
  },
  {
   "cell_type": "code",
   "execution_count": 32,
   "metadata": {},
   "outputs": [
    {
     "data": {
      "text/plain": [
       "15.699999999999999"
      ]
     },
     "execution_count": 32,
     "metadata": {},
     "output_type": "execute_result"
    }
   ],
   "source": [
    "np.mean(ada[index:index+20])"
   ]
  },
  {
   "cell_type": "code",
   "execution_count": 33,
   "metadata": {},
   "outputs": [
    {
     "data": {
      "text/plain": [
       "26.509999999999998"
      ]
     },
     "execution_count": 33,
     "metadata": {},
     "output_type": "execute_result"
    }
   ],
   "source": [
    "np.var(ada[index:index+20])"
   ]
  },
  {
   "cell_type": "markdown",
   "metadata": {},
   "source": [
    "# Decision Tree"
   ]
  },
  {
   "cell_type": "code",
   "execution_count": 34,
   "metadata": {},
   "outputs": [],
   "source": [
    "dec = []\n",
    "i = 0"
   ]
  },
  {
   "cell_type": "code",
   "execution_count": 35,
   "metadata": {},
   "outputs": [
    {
     "name": "stdout",
     "output_type": "stream",
     "text": [
      "36.0\n",
      "20.0\n",
      "20.0\n",
      "34.0\n",
      "32.0\n",
      "28.0\n",
      "20.0\n",
      "44.0\n",
      "26.0\n",
      "16.0\n",
      "26.0\n",
      "24.0\n",
      "22.0\n",
      "32.0\n",
      "26.0\n",
      "32.0\n",
      "14.0\n",
      "18.0\n",
      "22.0\n",
      "16.0\n"
     ]
    }
   ],
   "source": [
    "#Store all the results pertaining to Decision tree in one array\n",
    "with open(\"Results\",\"r\") as f:\n",
    "    for line in f:\n",
    "        if(\"Dec\" in line):\n",
    "            print(line[12] + line[13] + line[14]+line[15])\n",
    "            dec.insert(i,float(line[12] + line[13] + line[14] + line[15]))\n",
    "            i = i + 1"
   ]
  },
  {
   "cell_type": "code",
   "execution_count": 36,
   "metadata": {},
   "outputs": [
    {
     "data": {
      "text/plain": [
       "[36.0,\n",
       " 20.0,\n",
       " 20.0,\n",
       " 34.0,\n",
       " 32.0,\n",
       " 28.0,\n",
       " 20.0,\n",
       " 44.0,\n",
       " 26.0,\n",
       " 16.0,\n",
       " 26.0,\n",
       " 24.0,\n",
       " 22.0,\n",
       " 32.0,\n",
       " 26.0,\n",
       " 32.0,\n",
       " 14.0,\n",
       " 18.0,\n",
       " 22.0,\n",
       " 16.0]"
      ]
     },
     "execution_count": 36,
     "metadata": {},
     "output_type": "execute_result"
    }
   ],
   "source": [
    "dec"
   ]
  },
  {
   "cell_type": "code",
   "execution_count": 37,
   "metadata": {},
   "outputs": [
    {
     "data": {
      "text/plain": [
       "20"
      ]
     },
     "execution_count": 37,
     "metadata": {},
     "output_type": "execute_result"
    }
   ],
   "source": [
    "len(dec)"
   ]
  },
  {
   "cell_type": "markdown",
   "metadata": {},
   "source": [
    "Some statistics about decision tree"
   ]
  },
  {
   "cell_type": "code",
   "execution_count": 38,
   "metadata": {},
   "outputs": [
    {
     "data": {
      "text/plain": [
       "25.399999999999999"
      ]
     },
     "execution_count": 38,
     "metadata": {},
     "output_type": "execute_result"
    }
   ],
   "source": [
    "np.mean(dec)"
   ]
  },
  {
   "cell_type": "code",
   "execution_count": 39,
   "metadata": {},
   "outputs": [
    {
     "data": {
      "text/plain": [
       "57.239999999999988"
      ]
     },
     "execution_count": 39,
     "metadata": {},
     "output_type": "execute_result"
    }
   ],
   "source": [
    "np.var(dec)"
   ]
  },
  {
   "cell_type": "markdown",
   "metadata": {},
   "source": [
    "# Gaussian"
   ]
  },
  {
   "cell_type": "code",
   "execution_count": 40,
   "metadata": {},
   "outputs": [],
   "source": [
    "gau = []\n",
    "i = 0"
   ]
  },
  {
   "cell_type": "code",
   "execution_count": 41,
   "metadata": {},
   "outputs": [
    {
     "name": "stdout",
     "output_type": "stream",
     "text": [
      "54.0\n",
      "38.0\n",
      "48.0\n",
      "42.0\n",
      "42.0\n",
      "40.0\n",
      "40.0\n",
      "58.0\n",
      "52.0\n",
      "40.0\n",
      "50.0\n",
      "38.0\n",
      "44.0\n",
      "46.0\n",
      "42.0\n",
      "50.0\n",
      "34.0\n",
      "38.0\n",
      "40.0\n",
      "44.0\n"
     ]
    }
   ],
   "source": [
    "#Store all the results pertaining to Gaussian in one array\n",
    "with open(\"Results\",\"r\") as f:\n",
    "    for line in f:\n",
    "        if(\"Gau\" in line):\n",
    "            print(line[12] + line[13] + line[14]+line[15])\n",
    "            gau.insert(i,float(line[12] + line[13] + line[14] + line[15]))\n",
    "            i = i + 1"
   ]
  },
  {
   "cell_type": "code",
   "execution_count": 42,
   "metadata": {},
   "outputs": [
    {
     "data": {
      "text/plain": [
       "[54.0,\n",
       " 38.0,\n",
       " 48.0,\n",
       " 42.0,\n",
       " 42.0,\n",
       " 40.0,\n",
       " 40.0,\n",
       " 58.0,\n",
       " 52.0,\n",
       " 40.0,\n",
       " 50.0,\n",
       " 38.0,\n",
       " 44.0,\n",
       " 46.0,\n",
       " 42.0,\n",
       " 50.0,\n",
       " 34.0,\n",
       " 38.0,\n",
       " 40.0,\n",
       " 44.0]"
      ]
     },
     "execution_count": 42,
     "metadata": {},
     "output_type": "execute_result"
    }
   ],
   "source": [
    "gau"
   ]
  },
  {
   "cell_type": "code",
   "execution_count": 43,
   "metadata": {},
   "outputs": [
    {
     "data": {
      "text/plain": [
       "20"
      ]
     },
     "execution_count": 43,
     "metadata": {},
     "output_type": "execute_result"
    }
   ],
   "source": [
    "len(gau)"
   ]
  },
  {
   "cell_type": "markdown",
   "metadata": {},
   "source": [
    "Some statistics about Gaussian"
   ]
  },
  {
   "cell_type": "code",
   "execution_count": 44,
   "metadata": {},
   "outputs": [
    {
     "data": {
      "text/plain": [
       "44.0"
      ]
     },
     "execution_count": 44,
     "metadata": {},
     "output_type": "execute_result"
    }
   ],
   "source": [
    "np.mean(gau)"
   ]
  },
  {
   "cell_type": "code",
   "execution_count": 45,
   "metadata": {},
   "outputs": [
    {
     "data": {
      "text/plain": [
       "36.799999999999997"
      ]
     },
     "execution_count": 45,
     "metadata": {},
     "output_type": "execute_result"
    }
   ],
   "source": [
    "np.var(gau)"
   ]
  },
  {
   "cell_type": "markdown",
   "metadata": {},
   "source": [
    "# Logistic regression"
   ]
  },
  {
   "cell_type": "code",
   "execution_count": 46,
   "metadata": {},
   "outputs": [],
   "source": [
    "logreg = []\n",
    "i = 0\n"
   ]
  },
  {
   "cell_type": "code",
   "execution_count": 51,
   "metadata": {},
   "outputs": [
    {
     "name": "stdout",
     "output_type": "stream",
     "text": [
      "62\n",
      "50\n",
      "56\n",
      "52\n",
      "52\n",
      "46\n",
      "48\n",
      "64\n",
      "62\n",
      "56\n",
      "58\n",
      "44\n",
      "50\n",
      "56\n",
      "50\n",
      "48\n",
      "54\n",
      "46\n",
      "52\n",
      "48\n"
     ]
    }
   ],
   "source": [
    "#Store all the results pertaining to Logistic Regression in one array\n",
    "with open(\"Results\",\"r\") as f:\n",
    "    for line in f:\n",
    "        if(\"Log\" in line):\n",
    "            print(line[23]+ line[24])\n",
    "            logreg.insert(i,float(line[23] + line[24]))\n",
    "            i = i + 1"
   ]
  },
  {
   "cell_type": "code",
   "execution_count": 52,
   "metadata": {},
   "outputs": [
    {
     "data": {
      "text/plain": [
       "[62.0,\n",
       " 50.0,\n",
       " 56.0,\n",
       " 52.0,\n",
       " 52.0,\n",
       " 46.0,\n",
       " 48.0,\n",
       " 64.0,\n",
       " 62.0,\n",
       " 56.0,\n",
       " 58.0,\n",
       " 44.0,\n",
       " 50.0,\n",
       " 56.0,\n",
       " 50.0,\n",
       " 48.0,\n",
       " 54.0,\n",
       " 46.0,\n",
       " 52.0,\n",
       " 48.0]"
      ]
     },
     "execution_count": 52,
     "metadata": {},
     "output_type": "execute_result"
    }
   ],
   "source": [
    "logreg"
   ]
  },
  {
   "cell_type": "code",
   "execution_count": 53,
   "metadata": {},
   "outputs": [
    {
     "data": {
      "text/plain": [
       "20"
      ]
     },
     "execution_count": 53,
     "metadata": {},
     "output_type": "execute_result"
    }
   ],
   "source": [
    "len(logreg)"
   ]
  },
  {
   "cell_type": "markdown",
   "metadata": {},
   "source": [
    "Some statistics about logistic regression"
   ]
  },
  {
   "cell_type": "code",
   "execution_count": 54,
   "metadata": {},
   "outputs": [
    {
     "data": {
      "text/plain": [
       "52.700000000000003"
      ]
     },
     "execution_count": 54,
     "metadata": {},
     "output_type": "execute_result"
    }
   ],
   "source": [
    "np.mean(logreg)"
   ]
  },
  {
   "cell_type": "code",
   "execution_count": 55,
   "metadata": {},
   "outputs": [
    {
     "data": {
      "text/plain": [
       "30.909999999999997"
      ]
     },
     "execution_count": 55,
     "metadata": {},
     "output_type": "execute_result"
    }
   ],
   "source": [
    "np.var(logreg)"
   ]
  },
  {
   "cell_type": "markdown",
   "metadata": {},
   "source": [
    "# Multi-layer perceptron"
   ]
  },
  {
   "cell_type": "code",
   "execution_count": 56,
   "metadata": {},
   "outputs": [],
   "source": [
    "mlp = []\n",
    "i = 0"
   ]
  },
  {
   "cell_type": "code",
   "execution_count": 66,
   "metadata": {},
   "outputs": [
    {
     "name": "stdout",
     "output_type": "stream",
     "text": [
      "8.0\n",
      "\n",
      "4.0\n",
      "\n",
      "28.0\n",
      "26.0\n",
      "10.0\n",
      "6.0\n",
      "\n",
      "12.0\n",
      "28.0\n",
      "28.0\n",
      "22.0\n",
      "34.0\n",
      "24.0\n",
      "8.0\n",
      "\n",
      "6.0\n",
      "\n",
      "8.0\n",
      "\n",
      "16.0\n",
      "28.0\n",
      "20.0\n",
      "22.0\n",
      "16.0\n"
     ]
    }
   ],
   "source": [
    "#Store all the results pertaining to Multilayerperceptron in one array\n",
    "with open(\"Results\",\"r\") as f:\n",
    "    for line in f:\n",
    "        if(\"Mul\" in line):\n",
    "            print(line[26]+line[27]+line[28]+line[29])\n",
    "            mlp.insert(i,float(line[26] + line[27] + line[28] + line[29]))\n",
    "            i = i + 1"
   ]
  },
  {
   "cell_type": "code",
   "execution_count": 67,
   "metadata": {},
   "outputs": [
    {
     "data": {
      "text/plain": [
       "[8.0,\n",
       " 4.0,\n",
       " 28.0,\n",
       " 26.0,\n",
       " 10.0,\n",
       " 6.0,\n",
       " 12.0,\n",
       " 28.0,\n",
       " 28.0,\n",
       " 22.0,\n",
       " 34.0,\n",
       " 24.0,\n",
       " 8.0,\n",
       " 6.0,\n",
       " 8.0,\n",
       " 16.0,\n",
       " 28.0,\n",
       " 20.0,\n",
       " 22.0,\n",
       " 16.0]"
      ]
     },
     "execution_count": 67,
     "metadata": {},
     "output_type": "execute_result"
    }
   ],
   "source": [
    "mlp"
   ]
  },
  {
   "cell_type": "code",
   "execution_count": 68,
   "metadata": {},
   "outputs": [
    {
     "data": {
      "text/plain": [
       "20"
      ]
     },
     "execution_count": 68,
     "metadata": {},
     "output_type": "execute_result"
    }
   ],
   "source": [
    "len(mlp)"
   ]
  },
  {
   "cell_type": "markdown",
   "metadata": {},
   "source": [
    "Some statistics about multi-layer perceptron"
   ]
  },
  {
   "cell_type": "code",
   "execution_count": 69,
   "metadata": {},
   "outputs": [
    {
     "data": {
      "text/plain": [
       "17.699999999999999"
      ]
     },
     "execution_count": 69,
     "metadata": {},
     "output_type": "execute_result"
    }
   ],
   "source": [
    "np.mean(mlp)"
   ]
  },
  {
   "cell_type": "code",
   "execution_count": 70,
   "metadata": {},
   "outputs": [
    {
     "data": {
      "text/plain": [
       "84.109999999999999"
      ]
     },
     "execution_count": 70,
     "metadata": {},
     "output_type": "execute_result"
    }
   ],
   "source": [
    "np.var(mlp)"
   ]
  },
  {
   "cell_type": "markdown",
   "metadata": {},
   "source": [
    "# Perceptron"
   ]
  },
  {
   "cell_type": "code",
   "execution_count": 71,
   "metadata": {},
   "outputs": [],
   "source": [
    "per = []\n",
    "i = 0"
   ]
  },
  {
   "cell_type": "code",
   "execution_count": 72,
   "metadata": {},
   "outputs": [
    {
     "name": "stdout",
     "output_type": "stream",
     "text": [
      "6.0\n",
      "\n",
      "18.0\n",
      "22.0\n",
      "16.0\n",
      "16.0\n",
      "10.0\n",
      "16.0\n",
      "18.0\n",
      "24.0\n",
      "14.0\n",
      "22.0\n",
      "8.0\n",
      "\n",
      "12.0\n",
      "24.0\n",
      "14.0\n",
      "16.0\n",
      "8.0\n",
      "\n",
      "20.0\n",
      "18.0\n",
      "12.0\n"
     ]
    }
   ],
   "source": [
    "#Store all the results pertaining to Perceptron in one array\n",
    "with open(\"Results\",\"r\") as f:\n",
    "    for line in f:\n",
    "        if(\"Ada\" in line):\n",
    "            print(line[12] + line[13] + line[14]+line[15])\n",
    "            per.insert(i,float(line[12] + line[13] + line[14] + line[15]))\n",
    "            i = i + 1"
   ]
  },
  {
   "cell_type": "code",
   "execution_count": 73,
   "metadata": {},
   "outputs": [
    {
     "data": {
      "text/plain": [
       "[6.0,\n",
       " 18.0,\n",
       " 22.0,\n",
       " 16.0,\n",
       " 16.0,\n",
       " 10.0,\n",
       " 16.0,\n",
       " 18.0,\n",
       " 24.0,\n",
       " 14.0,\n",
       " 22.0,\n",
       " 8.0,\n",
       " 12.0,\n",
       " 24.0,\n",
       " 14.0,\n",
       " 16.0,\n",
       " 8.0,\n",
       " 20.0,\n",
       " 18.0,\n",
       " 12.0]"
      ]
     },
     "execution_count": 73,
     "metadata": {},
     "output_type": "execute_result"
    }
   ],
   "source": [
    "per"
   ]
  },
  {
   "cell_type": "code",
   "execution_count": 74,
   "metadata": {},
   "outputs": [
    {
     "data": {
      "text/plain": [
       "20"
      ]
     },
     "execution_count": 74,
     "metadata": {},
     "output_type": "execute_result"
    }
   ],
   "source": [
    "len(per)"
   ]
  },
  {
   "cell_type": "markdown",
   "metadata": {},
   "source": [
    "Some statistics about Perceptron"
   ]
  },
  {
   "cell_type": "code",
   "execution_count": 75,
   "metadata": {},
   "outputs": [
    {
     "data": {
      "text/plain": [
       "15.699999999999999"
      ]
     },
     "execution_count": 75,
     "metadata": {},
     "output_type": "execute_result"
    }
   ],
   "source": [
    "np.mean(per)"
   ]
  },
  {
   "cell_type": "code",
   "execution_count": 76,
   "metadata": {},
   "outputs": [
    {
     "data": {
      "text/plain": [
       "26.509999999999998"
      ]
     },
     "execution_count": 76,
     "metadata": {},
     "output_type": "execute_result"
    }
   ],
   "source": [
    "np.var(per)"
   ]
  },
  {
   "cell_type": "markdown",
   "metadata": {},
   "source": [
    "# Random Forest"
   ]
  },
  {
   "cell_type": "code",
   "execution_count": 77,
   "metadata": {},
   "outputs": [],
   "source": [
    "ran = []\n",
    "i = 0"
   ]
  },
  {
   "cell_type": "code",
   "execution_count": 81,
   "metadata": {},
   "outputs": [
    {
     "name": "stdout",
     "output_type": "stream",
     "text": [
      "36\n",
      "26\n",
      "36\n",
      "28\n",
      "32\n",
      "30\n",
      "32\n",
      "36\n",
      "28\n",
      "36\n",
      "28\n",
      "34\n",
      "28\n",
      "34\n",
      "42\n",
      "30\n",
      "28\n",
      "34\n",
      "34\n",
      "24\n"
     ]
    }
   ],
   "source": [
    "#Store all the results pertaining to Ran in one array\n",
    "with open(\"Results\",\"r\") as f:\n",
    "    for line in f:\n",
    "        if(\"Ran\" in line):\n",
    "            print(line[17]+line[18])\n",
    "            ran.insert(i,int(line[17]+line[18]))\n",
    "            i = i + 1"
   ]
  },
  {
   "cell_type": "code",
   "execution_count": 82,
   "metadata": {},
   "outputs": [
    {
     "data": {
      "text/plain": [
       "[36,\n",
       " 26,\n",
       " 36,\n",
       " 28,\n",
       " 32,\n",
       " 30,\n",
       " 32,\n",
       " 36,\n",
       " 28,\n",
       " 36,\n",
       " 28,\n",
       " 34,\n",
       " 28,\n",
       " 34,\n",
       " 42,\n",
       " 30,\n",
       " 28,\n",
       " 34,\n",
       " 34,\n",
       " 24]"
      ]
     },
     "execution_count": 82,
     "metadata": {},
     "output_type": "execute_result"
    }
   ],
   "source": [
    "ran"
   ]
  },
  {
   "cell_type": "code",
   "execution_count": 83,
   "metadata": {},
   "outputs": [
    {
     "data": {
      "text/plain": [
       "20"
      ]
     },
     "execution_count": 83,
     "metadata": {},
     "output_type": "execute_result"
    }
   ],
   "source": [
    "len(ran)"
   ]
  },
  {
   "cell_type": "markdown",
   "metadata": {},
   "source": [
    "Some statistics about Random Forest"
   ]
  },
  {
   "cell_type": "code",
   "execution_count": 84,
   "metadata": {},
   "outputs": [
    {
     "data": {
      "text/plain": [
       "31.800000000000001"
      ]
     },
     "execution_count": 84,
     "metadata": {},
     "output_type": "execute_result"
    }
   ],
   "source": [
    "np.mean(ran)"
   ]
  },
  {
   "cell_type": "code",
   "execution_count": 85,
   "metadata": {},
   "outputs": [
    {
     "data": {
      "text/plain": [
       "18.359999999999999"
      ]
     },
     "execution_count": 85,
     "metadata": {},
     "output_type": "execute_result"
    }
   ],
   "source": [
    "np.var(ran)"
   ]
  },
  {
   "cell_type": "markdown",
   "metadata": {},
   "source": [
    "# Sigmoid"
   ]
  },
  {
   "cell_type": "code",
   "execution_count": 86,
   "metadata": {},
   "outputs": [],
   "source": [
    "sig = []\n",
    "i = 0"
   ]
  },
  {
   "cell_type": "code",
   "execution_count": 94,
   "metadata": {},
   "outputs": [
    {
     "name": "stdout",
     "output_type": "stream",
     "text": [
      "30\n",
      "18\n",
      "34\n",
      "28\n",
      "38\n",
      "34\n",
      "30\n",
      "54\n",
      "22\n",
      "24\n",
      "48\n",
      "42\n",
      "32\n",
      "42\n",
      "26\n",
      "46\n",
      "16\n",
      "26\n",
      "44\n",
      "26\n"
     ]
    }
   ],
   "source": [
    "#Store all the results pertaining to Sigmoid in one array\n",
    "with open(\"Results\",\"r\") as f:\n",
    "    for line in f:\n",
    "        if(\"Sig\" in line):\n",
    "            print(line[11]+line[12])\n",
    "            sig.insert(i,int(line[11]+line[12]))\n",
    "            i = i + 1"
   ]
  },
  {
   "cell_type": "code",
   "execution_count": 95,
   "metadata": {},
   "outputs": [
    {
     "data": {
      "text/plain": [
       "[30,\n",
       " 18,\n",
       " 34,\n",
       " 28,\n",
       " 38,\n",
       " 34,\n",
       " 30,\n",
       " 54,\n",
       " 22,\n",
       " 24,\n",
       " 48,\n",
       " 42,\n",
       " 32,\n",
       " 42,\n",
       " 26,\n",
       " 46,\n",
       " 16,\n",
       " 26,\n",
       " 44,\n",
       " 26]"
      ]
     },
     "execution_count": 95,
     "metadata": {},
     "output_type": "execute_result"
    }
   ],
   "source": [
    "sig\n"
   ]
  },
  {
   "cell_type": "code",
   "execution_count": 96,
   "metadata": {},
   "outputs": [
    {
     "data": {
      "text/plain": [
       "20"
      ]
     },
     "execution_count": 96,
     "metadata": {},
     "output_type": "execute_result"
    }
   ],
   "source": [
    "len(sig)"
   ]
  },
  {
   "cell_type": "markdown",
   "metadata": {},
   "source": [
    "Some statistics about Sigmoid classification"
   ]
  },
  {
   "cell_type": "code",
   "execution_count": 97,
   "metadata": {},
   "outputs": [
    {
     "data": {
      "text/plain": [
       "33.0"
      ]
     },
     "execution_count": 97,
     "metadata": {},
     "output_type": "execute_result"
    }
   ],
   "source": [
    "np.mean(sig)"
   ]
  },
  {
   "cell_type": "code",
   "execution_count": 98,
   "metadata": {},
   "outputs": [
    {
     "data": {
      "text/plain": [
       "102.59999999999999"
      ]
     },
     "execution_count": 98,
     "metadata": {},
     "output_type": "execute_result"
    }
   ],
   "source": [
    "np.var(sig)"
   ]
  },
  {
   "cell_type": "markdown",
   "metadata": {},
   "source": [
    "# LSTM"
   ]
  },
  {
   "cell_type": "code",
   "execution_count": 99,
   "metadata": {},
   "outputs": [],
   "source": [
    "lstm = []\n",
    "i = 0"
   ]
  },
  {
   "cell_type": "code",
   "execution_count": 110,
   "metadata": {},
   "outputs": [
    {
     "name": "stdout",
     "output_type": "stream",
     "text": [
      "8.77\n",
      "\n",
      " 13.1\n",
      " 15.7\n",
      " 14.9\n",
      " 15.7\n",
      " 1.75\n",
      " 9.65\n",
      " 14.0\n",
      " 5.26\n",
      " 14.9\n",
      " 9.65\n",
      " 12.2\n",
      " 6.14\n",
      " 14.9\n",
      " 14.0\n",
      " 11.4\n",
      " 5.26\n",
      " 11.4\n",
      " 7.02\n",
      " 5.26\n"
     ]
    }
   ],
   "source": [
    "#Store all the results pertaining to LSTM in one array\n",
    "with open(\"Results\",\"r\") as f:\n",
    "    for line in f:\n",
    "        if(\"LS\" in line):\n",
    "            print(line[6]+line[7]+line[8]+line[9]+line[10])\n",
    "            lstm.insert(i,float(line[6]+line[7]+line[8]+line[9]+line[10]))\n",
    "            i = i + 1"
   ]
  },
  {
   "cell_type": "code",
   "execution_count": 111,
   "metadata": {},
   "outputs": [
    {
     "data": {
      "text/plain": [
       "[8.77,\n",
       " 13.1,\n",
       " 15.7,\n",
       " 14.9,\n",
       " 15.7,\n",
       " 1.75,\n",
       " 9.65,\n",
       " 14.0,\n",
       " 5.26,\n",
       " 14.9,\n",
       " 9.65,\n",
       " 12.2,\n",
       " 6.14,\n",
       " 14.9,\n",
       " 14.0,\n",
       " 11.4,\n",
       " 5.26,\n",
       " 11.4,\n",
       " 7.02,\n",
       " 5.26]"
      ]
     },
     "execution_count": 111,
     "metadata": {},
     "output_type": "execute_result"
    }
   ],
   "source": [
    "lstm"
   ]
  },
  {
   "cell_type": "code",
   "execution_count": 112,
   "metadata": {},
   "outputs": [
    {
     "data": {
      "text/plain": [
       "20"
      ]
     },
     "execution_count": 112,
     "metadata": {},
     "output_type": "execute_result"
    }
   ],
   "source": [
    "len(lstm)"
   ]
  },
  {
   "cell_type": "markdown",
   "metadata": {},
   "source": [
    "Some statistics about LSTM"
   ]
  },
  {
   "cell_type": "code",
   "execution_count": 113,
   "metadata": {},
   "outputs": [
    {
     "data": {
      "text/plain": [
       "10.547999999999998"
      ]
     },
     "execution_count": 113,
     "metadata": {},
     "output_type": "execute_result"
    }
   ],
   "source": [
    "np.mean(lstm)"
   ]
  },
  {
   "cell_type": "code",
   "execution_count": 114,
   "metadata": {},
   "outputs": [
    {
     "data": {
      "text/plain": [
       "17.118856000000001"
      ]
     },
     "execution_count": 114,
     "metadata": {},
     "output_type": "execute_result"
    }
   ],
   "source": [
    "np.var(lstm)"
   ]
  },
  {
   "cell_type": "markdown",
   "metadata": {},
   "source": [
    "# Binary Relevance"
   ]
  },
  {
   "cell_type": "code",
   "execution_count": 115,
   "metadata": {},
   "outputs": [],
   "source": [
    "bin_rel = []\n",
    "i = 0"
   ]
  },
  {
   "cell_type": "code",
   "execution_count": 136,
   "metadata": {},
   "outputs": [
    {
     "name": "stdout",
     "output_type": "stream",
     "text": [
      "22.73\n",
      "18.18\n",
      "4.549\n",
      "22.73\n",
      "13.64\n",
      "18.18\n",
      "13.64\n",
      "22.73\n",
      "13.64\n",
      "18.18\n",
      "18.18\n",
      "9.089\n",
      "22.73\n",
      "22.73\n",
      "13.64\n",
      "22.73\n",
      "13.64\n",
      "13.64\n",
      "18.18\n",
      "18.18\n"
     ]
    }
   ],
   "source": [
    "#Store all the results pertaining to Binary Relevance in one array\n",
    "with open(\"Results\",\"r\") as f:\n",
    "    for line in f:\n",
    "        if(\"bi\" in line):\n",
    "            print(line[19]+line[20]+line[21]+line[22]+line[23])\n",
    "            bin_rel.insert(i,float(line[19]+line[20]+line[21]+line[22]+line[23]))\n",
    "            i = i + 1"
   ]
  },
  {
   "cell_type": "code",
   "execution_count": 137,
   "metadata": {},
   "outputs": [
    {
     "data": {
      "text/plain": [
       "[22.73,\n",
       " 18.18,\n",
       " 4.549,\n",
       " 22.73,\n",
       " 13.64,\n",
       " 18.18,\n",
       " 13.64,\n",
       " 22.73,\n",
       " 13.64,\n",
       " 18.18,\n",
       " 18.18,\n",
       " 9.089,\n",
       " 22.73,\n",
       " 22.73,\n",
       " 13.64,\n",
       " 22.73,\n",
       " 13.64,\n",
       " 13.64,\n",
       " 18.18,\n",
       " 18.18]"
      ]
     },
     "execution_count": 137,
     "metadata": {},
     "output_type": "execute_result"
    }
   ],
   "source": [
    "bin_rel"
   ]
  },
  {
   "cell_type": "code",
   "execution_count": 138,
   "metadata": {},
   "outputs": [
    {
     "data": {
      "text/plain": [
       "20"
      ]
     },
     "execution_count": 138,
     "metadata": {},
     "output_type": "execute_result"
    }
   ],
   "source": [
    "len(bin_rel)"
   ]
  },
  {
   "cell_type": "markdown",
   "metadata": {},
   "source": [
    "Some statistics about binary relevance"
   ]
  },
  {
   "cell_type": "code",
   "execution_count": 139,
   "metadata": {},
   "outputs": [
    {
     "data": {
      "text/plain": [
       "17.046900000000001"
      ]
     },
     "execution_count": 139,
     "metadata": {},
     "output_type": "execute_result"
    }
   ],
   "source": [
    "np.mean(bin_rel)"
   ]
  },
  {
   "cell_type": "code",
   "execution_count": 140,
   "metadata": {},
   "outputs": [
    {
     "data": {
      "text/plain": [
       "24.532836490000001"
      ]
     },
     "execution_count": 140,
     "metadata": {},
     "output_type": "execute_result"
    }
   ],
   "source": [
    "np.var(bin_rel)"
   ]
  },
  {
   "cell_type": "markdown",
   "metadata": {},
   "source": [
    "# Table containing the mean and variance of the 20 runs of the classifiers"
   ]
  },
  {
   "cell_type": "code",
   "execution_count": 159,
   "metadata": {},
   "outputs": [
    {
     "name": "stdout",
     "output_type": "stream",
     "text": [
      "  Classifiers Mean Variance\n"
     ]
    },
    {
     "data": {
      "text/html": [
       "<table><tr><td>SVM = </td><td>48.3</td><td>36.11</td></tr><tr><td>KNN(n = 3) = </td><td>35.6</td><td>25.84</td></tr><tr><td>KNN(n = 5) = </td><td>37.5</td><td>21.95</td></tr><tr><td>Adaboost = </td><td>15.7</td><td>26.51</td></tr><tr><td>Decision = </td><td>25.4</td><td>57.24</td></tr><tr><td>Gaussian = </td><td>44.0</td><td>36.8</td></tr><tr><td>Logistic regression = </td><td>52.7</td><td>30.91</td></tr><tr><td>Multi-layer perceptron = </td><td>17.7</td><td>84.11</td></tr><tr><td>Perceptron = </td><td>15.7</td><td>26.51</td></tr><tr><td>Random Forest = </td><td>31.8</td><td>18.36</td></tr><tr><td>Sigmoid = </td><td>33.0</td><td>102.6</td></tr></table>"
      ],
      "text/plain": [
       "<IPython.core.display.HTML object>"
      ]
     },
     "metadata": {},
     "output_type": "display_data"
    }
   ],
   "source": [
    "\n",
    "\n",
    "from IPython.display import HTML, display\n",
    "\n",
    "print(\"  Classifiers Mean Variance\")\n",
    "\n",
    "data = [[\"SVM = \", np.mean(svm),np.var(svm)],\n",
    "        [\"KNN(n = 3) = \", np.mean(knn_3),np.var(knn_3)],\n",
    "        [\"KNN(n = 5) = \",np.mean(knn_5),np.var(knn_5)],\n",
    "        [\"Adaboost = \",np.mean(ada),np.var(ada)],\n",
    "        [\"Decision = \",np.mean(dec),np.var(dec)],\n",
    "        [\"Gaussian = \",np.mean(gau),np.var(gau)],\n",
    "        [\"Logistic regression = \",np.mean(logreg),np.var(logreg)],\n",
    "        [\"Multi-layer perceptron = \",np.mean(mlp),np.var(mlp)],\n",
    "        [\"Perceptron = \",np.mean(per),np.var(per)],\n",
    "        [\"Random Forest = \",np.mean(ran),np.var(ran)],\n",
    "        [\"Sigmoid = \",np.mean(sig),np.var(sig)],\n",
    "        \n",
    "         ]\n",
    "\n",
    "display(HTML(\n",
    "    '<table><tr>{}</tr></table>'.format(\n",
    "        '</tr><tr>'.join(\n",
    "            '<td>{}</td>'.format('</td><td>'.join(str(_) for _ in row)) for row in data)\n",
    "        )\n",
    " ))"
   ]
  }
 ],
 "metadata": {
  "kernelspec": {
   "display_name": "Python 3",
   "language": "python",
   "name": "python3"
  },
  "language_info": {
   "codemirror_mode": {
    "name": "ipython",
    "version": 3
   },
   "file_extension": ".py",
   "mimetype": "text/x-python",
   "name": "python",
   "nbconvert_exporter": "python",
   "pygments_lexer": "ipython3",
   "version": "3.6.1"
  }
 },
 "nbformat": 4,
 "nbformat_minor": 2
}
